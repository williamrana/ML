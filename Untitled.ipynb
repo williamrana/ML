{
 "cells": [
  {
   "cell_type": "code",
   "execution_count": 3,
   "metadata": {},
   "outputs": [
    {
     "name": "stdout",
     "output_type": "stream",
     "text": [
      "<class 'numpy.ndarray'>\n",
      "[0 0 2 0 1 1 2 0 2 1]\n",
      "[[0]\n",
      " [0]\n",
      " [2]\n",
      " [0]\n",
      " [1]\n",
      " [1]\n",
      " [2]\n",
      " [0]\n",
      " [2]\n",
      " [1]]\n",
      "[[1. 0. 0.]\n",
      " [1. 0. 0.]\n",
      " [0. 0. 1.]\n",
      " [1. 0. 0.]\n",
      " [0. 1. 0.]\n",
      " [0. 1. 0.]\n",
      " [0. 0. 1.]\n",
      " [1. 0. 0.]\n",
      " [0. 0. 1.]\n",
      " [0. 1. 0.]]\n",
      "['cold']\n"
     ]
    },
    {
     "name": "stderr",
     "output_type": "stream",
     "text": [
      "/home/vimal/anaconda3/lib/python3.6/site-packages/sklearn/preprocessing/label.py:151: DeprecationWarning: The truth value of an empty array is ambiguous. Returning False, but in future this will result in an error. Use `array.size > 0` to check that an array is not empty.\n",
      "  if diff:\n"
     ]
    }
   ],
   "source": [
    "from numpy import array\n",
    "from numpy import argmax\n",
    "from sklearn.preprocessing import LabelEncoder\n",
    "from sklearn.preprocessing import OneHotEncoder\n",
    "# define example\n",
    "data = ['cold', 'cold', 'warm', 'cold', 'hot', 'hot', 'warm', 'cold', 'warm', 'hot']\n",
    "values = array(data)\n",
    "print(type(values))\n",
    "# integer encode\n",
    "label_encoder = LabelEncoder()\n",
    "integer_encoded = label_encoder.fit_transform(values)\n",
    "print(integer_encoded)\n",
    "# binary encode\n",
    "onehot_encoder = OneHotEncoder(sparse=False)\n",
    "integer_encoded = integer_encoded.reshape(len(integer_encoded), 1)\n",
    "print(integer_encoded)\n",
    "onehot_encoded = onehot_encoder.fit_transform(integer_encoded)\n",
    "print(onehot_encoded)\n",
    "# invert first example\n",
    "inverted = label_encoder.inverse_transform([argmax(onehot_encoded[0, :])])\n",
    "print(inverted)"
   ]
  },
  {
   "cell_type": "code",
   "execution_count": 1,
   "metadata": {},
   "outputs": [],
   "source": [
    "import tensorflow as tf"
   ]
  },
  {
   "cell_type": "code",
   "execution_count": 2,
   "metadata": {},
   "outputs": [],
   "source": [
    "sess = tf.Session()"
   ]
  },
  {
   "cell_type": "code",
   "execution_count": 5,
   "metadata": {},
   "outputs": [],
   "source": [
    "c = tf.constant(\"hello world\")"
   ]
  },
  {
   "cell_type": "code",
   "execution_count": 12,
   "metadata": {},
   "outputs": [
    {
     "data": {
      "text/plain": [
       "b'hello world'"
      ]
     },
     "execution_count": 12,
     "metadata": {},
     "output_type": "execute_result"
    }
   ],
   "source": [
    "sess.run(c)"
   ]
  },
  {
   "cell_type": "code",
   "execution_count": 13,
   "metadata": {},
   "outputs": [],
   "source": [
    "x1 = tf.constant([1,2,3,4])\n",
    "x2 = tf.constant([3,4,5,6])"
   ]
  },
  {
   "cell_type": "code",
   "execution_count": 16,
   "metadata": {},
   "outputs": [],
   "source": [
    "res = tf.multiply(x1,x2)"
   ]
  },
  {
   "cell_type": "code",
   "execution_count": 18,
   "metadata": {},
   "outputs": [
    {
     "name": "stdout",
     "output_type": "stream",
     "text": [
      "[ 3  8 15 24]\n"
     ]
    }
   ],
   "source": [
    "print(sess.run(res))"
   ]
  },
  {
   "cell_type": "code",
   "execution_count": 20,
   "metadata": {},
   "outputs": [],
   "source": [
    "sess.close()"
   ]
  },
  {
   "cell_type": "code",
   "execution_count": 21,
   "metadata": {},
   "outputs": [],
   "source": [
    "import os\n"
   ]
  },
  {
   "cell_type": "code",
   "execution_count": 47,
   "metadata": {},
   "outputs": [
    {
     "data": {
      "text/plain": [
       "'/home/vimal/TensorFlow-Tutorials'"
      ]
     },
     "execution_count": 47,
     "metadata": {},
     "output_type": "execute_result"
    }
   ],
   "source": [
    "os.getcwd()"
   ]
  },
  {
   "cell_type": "code",
   "execution_count": 45,
   "metadata": {},
   "outputs": [
    {
     "data": {
      "text/plain": [
       "['latest',\n",
       " '.git',\n",
       " 'data',\n",
       " 'inception',\n",
       " 'images',\n",
       " '.ipynb_checkpoints',\n",
       " '.github',\n",
       " '__pycache__']"
      ]
     },
     "execution_count": 45,
     "metadata": {},
     "output_type": "execute_result"
    }
   ],
   "source": [
    "[i for i in os.listdir('latest') if os.path.isdir(i)]"
   ]
  },
  {
   "cell_type": "code",
   "execution_count": 46,
   "metadata": {},
   "outputs": [
    {
     "data": {
      "text/plain": [
       "['BelgiumTSC_Training.zip',\n",
       " 'BelgiumTSC_Training',\n",
       " 'BelgiumTSC_Testing.zip',\n",
       " 'BelgiumTSC_Testing']"
      ]
     },
     "execution_count": 46,
     "metadata": {},
     "output_type": "execute_result"
    }
   ],
   "source": [
    "os.listdir('latest')"
   ]
  },
  {
   "cell_type": "code",
   "execution_count": 31,
   "metadata": {},
   "outputs": [],
   "source": [
    "import subprocess"
   ]
  },
  {
   "cell_type": "code",
   "execution_count": 41,
   "metadata": {},
   "outputs": [],
   "source": [
    "proc = subprocess.Popen(['ls -al'],shell=True,stdout=subprocess.PIPE)"
   ]
  },
  {
   "cell_type": "code",
   "execution_count": 42,
   "metadata": {},
   "outputs": [
    {
     "data": {
      "text/plain": [
       "b'total 55572\\ndrwxrwxr-x 10 vimal vimal     4096 Aug 16 00:51 .\\ndrwxr-xr-x 81 vimal vimal    12288 Aug 15 11:48 ..\\n-rw-rw-r--  1 vimal vimal   194062 Sep 23  2018 01_Simple_Linear_Model.ipynb\\n-rw-rw-r--  1 vimal vimal   228811 Sep  1  2018 02_Convolutional_Neural_Network.ipynb\\n-rw-rw-r--  1 vimal vimal   260310 Jul 21  2018 03B_Layers_API.ipynb\\n-rw-rw-r--  1 vimal vimal   167048 Nov  3  2018 03C_Keras_API.ipynb\\n-rw-rw-r--  1 vimal vimal   464568 Jul 21  2018 03_PrettyTensor.ipynb\\n-rw-rw-r--  1 vimal vimal   574284 Sep 28  2018 04_Save_Restore.ipynb\\n-rw-rw-r--  1 vimal vimal   543308 Sep 29  2018 05_Ensemble_Learning.ipynb\\n-rw-rw-r--  1 vimal vimal  1474906 Sep  4  2018 06_CIFAR-10.ipynb\\n-rw-rw-r--  1 vimal vimal  1137413 Sep 30  2018 07_Inception_Model.ipynb\\n-rw-rw-r--  1 vimal vimal   830200 Sep 28  2018 08_Transfer_Learning.ipynb\\n-rw-rw-r--  1 vimal vimal  2296622 Sep 30  2018 09_Video_Data.ipynb\\n-rw-rw-r--  1 vimal vimal   825777 Oct  6  2018 10_Fine-Tuning.ipynb\\n-rw-rw-r--  1 vimal vimal  3948611 Jul 21  2018 11_Adversarial_Examples.ipynb\\n-rw-rw-r--  1 vimal vimal   211068 Jul 21  2018 12_Adversarial_Noise_MNIST.ipynb\\n-rw-rw-r--  1 vimal vimal   245526 Jul 21  2018 13B_Visual_Analysis_MNIST.ipynb\\n-rw-rw-r--  1 vimal vimal  9734768 Jul 21  2018 13_Visual_Analysis.ipynb\\n-rw-rw-r--  1 vimal vimal 15045138 Jul 21  2018 14_DeepDream.ipynb\\n-rw-rw-r--  1 vimal vimal  5990660 Jul 21  2018 15_Style_Transfer.ipynb\\n-rw-rw-r--  1 vimal vimal  1037981 Jul 21  2018 16_Reinforcement_Learning.ipynb\\n-rw-rw-r--  1 vimal vimal    79157 Jul 21  2018 17_Estimator_API.ipynb\\n-rw-rw-r--  1 vimal vimal   402319 Jul 21  2018 18_TFRecords_Dataset_API.ipynb\\n-rw-rw-r--  1 vimal vimal   230732 Jul 21  2018 19_Hyper-Parameters.ipynb\\n-rw-rw-r--  1 vimal vimal   103143 Oct 22  2018 20_Natural_Language_Processing.ipynb\\n-rw-rw-r--  1 vimal vimal    75115 Jul 21  2018 21_Machine_Translation.ipynb\\n-rw-rw-r--  1 vimal vimal  1147800 Jul 21  2018 22_Image_Captioning.ipynb\\n-rw-rw-r--  1 vimal vimal  1198218 Nov  1  2018 23_Time-Series-Prediction.ipynb\\n-rw-rw-r--  1 vimal vimal     4764 Jul 21  2018 cache.py\\n-rw-rw-r--  1 vimal vimal     7066 Jul 21  2018 cifar10.py\\n-rw-rw-r--  1 vimal vimal     6671 Jul 21  2018 coco.py\\n-rwxrwxr-x  1 vimal vimal     7012 Jul 21  2018 convert.py\\ndrwxrwxr-x  4 vimal vimal     4096 Oct 21  2018 data\\n-rw-rw-r--  1 vimal vimal    12156 Jul 21  2018 dataset.py\\n-rw-rw-r--  1 vimal vimal     4353 Jul 21  2018 download.py\\n-rw-rw-r--  1 vimal vimal     4253 Jul 21  2018 europarl.py\\n-rw-rw-r--  1 vimal vimal      715 Jul 21  2018 forks.md\\ndrwxrwxr-x  8 vimal vimal     4096 Jul 21  2018 .git\\ndrwxrwxr-x  2 vimal vimal     4096 Jul 21  2018 .github\\n-rw-rw-r--  1 vimal vimal     1175 Jul 21  2018 .gitignore\\ndrwxrwxr-x  2 vimal vimal     4096 Sep 30  2018 images\\n-rw-rw-r--  1 vimal vimal     4042 Jul 21  2018 imdb.py\\ndrwxrwxr-x  2 vimal vimal     4096 Sep 30  2018 inception\\n-rw-rw-r--  1 vimal vimal     6371 Jul 21  2018 inception5h.py\\n-rw-rw-r--  1 vimal vimal    22187 Jul 21  2018 inception.py\\ndrwxrwxr-x  2 vimal vimal     4096 Nov  1  2018 .ipynb_checkpoints\\n-rw-rw-r--  1 vimal vimal    20274 Sep 30  2018 Keras_functional_model.ipynb\\n-rw-rw-r--  1 vimal vimal     5412 Jul 21  2018 knifey.py\\ndrwxrwxr-x  4 vimal vimal     4096 Aug 16 00:24 latest\\n-rw-rw-r--  1 vimal vimal     1096 Jul 21  2018 LICENSE\\n-rw-rw-r--  1 vimal vimal  5886038 Aug 19  2018 MarshOrchid.jpg\\n-rw-rw-r--  1 vimal vimal     6595 Jul 21  2018 mnist.py\\n-rw-rw-r--  1 vimal vimal  1970824 Sep 30  2018 model.keras\\ndrwxrwxr-x  2 vimal vimal     4096 Oct 21  2018 __pycache__\\n-rw-rw-r--  1 vimal vimal     8672 Jul 21  2018 README.md\\n-rw-rw-r--  1 vimal vimal    76061 Jul 21  2018 reinforcement_learning.py\\n-rw-rw-r--  1 vimal vimal     1616 Jul 21  2018 requirements.txt\\n-rw-rw-r--  1 vimal vimal    25429 Sep 30  2018 shared_input_layer.png\\n-rw-rw-r--  1 vimal vimal     1158 Aug 19  2018 Untitled10.ipynb\\n-rw-rw-r--  1 vimal vimal    99970 Aug 20  2018 Untitled11.ipynb\\n-rw-rw-r--  1 vimal vimal     1558 Sep  1  2018 Untitled12.ipynb\\n-rw-rw-r--  1 vimal vimal      931 Sep  5  2018 Untitled13.ipynb\\n-rw-rw-r--  1 vimal vimal      740 Sep 23  2018 Untitled14.ipynb\\n-rw-rw-r--  1 vimal vimal     8536 Sep 30  2018 Untitled15.ipynb\\n-rw-rw-r--  1 vimal vimal     8871 Jul 21  2018 Untitled1.ipynb\\n-rw-rw-r--  1 vimal vimal     8295 Jul 22  2018 Untitled2.ipynb\\n-rw-rw-r--  1 vimal vimal      555 Jul 23  2018 Untitled3.ipynb\\n-rw-rw-r--  1 vimal vimal      828 Jul 28  2018 Untitled4.ipynb\\n-rw-rw-r--  1 vimal vimal      800 Jul 29  2018 Untitled5.ipynb\\n-rw-rw-r--  1 vimal vimal      555 Jul 31  2018 Untitled6.ipynb\\n-rw-rw-r--  1 vimal vimal     2912 Aug 12  2018 Untitled7.ipynb\\n-rw-rw-r--  1 vimal vimal     1449 Aug 15  2018 Untitled8.ipynb\\n-rw-rw-r--  1 vimal vimal      916 Aug 19  2018 Untitled9.ipynb\\n-rw-rw-r--  1 vimal vimal     8266 Aug 16 00:51 Untitled.ipynb\\n-rw-rw-r--  1 vimal vimal     7195 Jul 21  2018 vgg16.py\\n-rw-rw-r--  1 vimal vimal     8194 Jul 21  2018 weather.py\\n'"
      ]
     },
     "execution_count": 42,
     "metadata": {},
     "output_type": "execute_result"
    }
   ],
   "source": [
    "proc.communicate()[0]"
   ]
  },
  {
   "cell_type": "code",
   "execution_count": 44,
   "metadata": {},
   "outputs": [
    {
     "data": {
      "text/plain": [
       "'01_Simple_Linear_Model.ipynb\\n02_Convolutional_Neural_Network.ipynb\\n03B_Layers_API.ipynb\\n03C_Keras_API.ipynb\\n03_PrettyTensor.ipynb\\n04_Save_Restore.ipynb\\n05_Ensemble_Learning.ipynb\\n06_CIFAR-10.ipynb\\n07_Inception_Model.ipynb\\n08_Transfer_Learning.ipynb\\n09_Video_Data.ipynb\\n10_Fine-Tuning.ipynb\\n11_Adversarial_Examples.ipynb\\n12_Adversarial_Noise_MNIST.ipynb\\n13B_Visual_Analysis_MNIST.ipynb\\n13_Visual_Analysis.ipynb\\n14_DeepDream.ipynb\\n15_Style_Transfer.ipynb\\n16_Reinforcement_Learning.ipynb\\n17_Estimator_API.ipynb\\n18_TFRecords_Dataset_API.ipynb\\n19_Hyper-Parameters.ipynb\\n20_Natural_Language_Processing.ipynb\\n21_Machine_Translation.ipynb\\n22_Image_Captioning.ipynb\\n23_Time-Series-Prediction.ipynb\\ncache.py\\ncifar10.py\\ncoco.py\\nconvert.py\\ndata\\ndataset.py\\ndownload.py\\neuroparl.py\\nforks.md\\nimages\\nimdb.py\\ninception\\ninception5h.py\\ninception.py\\nKeras_functional_model.ipynb\\nknifey.py\\nlatest\\nLICENSE\\nMarshOrchid.jpg\\nmnist.py\\nmodel.keras\\n__pycache__\\nREADME.md\\nreinforcement_learning.py\\nrequirements.txt\\nshared_input_layer.png\\nUntitled10.ipynb\\nUntitled11.ipynb\\nUntitled12.ipynb\\nUntitled13.ipynb\\nUntitled14.ipynb\\nUntitled15.ipynb\\nUntitled1.ipynb\\nUntitled2.ipynb\\nUntitled3.ipynb\\nUntitled4.ipynb\\nUntitled5.ipynb\\nUntitled6.ipynb\\nUntitled7.ipynb\\nUntitled8.ipynb\\nUntitled9.ipynb\\nUntitled.ipynb\\nvgg16.py\\nweather.py\\n'"
      ]
     },
     "execution_count": 44,
     "metadata": {},
     "output_type": "execute_result"
    }
   ],
   "source": [
    "os.popen(\"ls\").read()"
   ]
  },
  {
   "cell_type": "code",
   "execution_count": 48,
   "metadata": {},
   "outputs": [
    {
     "data": {
      "text/plain": [
       "b'/home/vimal/TensorFlow-Tutorials\\n'"
      ]
     },
     "execution_count": 48,
     "metadata": {},
     "output_type": "execute_result"
    }
   ],
   "source": [
    "subprocess.Popen([\"pwd\"],shell=True,stdout=subprocess.PIPE).communicate()[0]"
   ]
  },
  {
   "cell_type": "code",
   "execution_count": 1,
   "metadata": {},
   "outputs": [],
   "source": [
    "import os\n",
    "import cv2\n",
    "import numpy as np\n",
    "import tensorflow as tf"
   ]
  },
  {
   "cell_type": "code",
   "execution_count": 2,
   "metadata": {},
   "outputs": [],
   "source": [
    "def load_data(folder):\n",
    "    \n",
    "    print(folder)\n",
    "    ds = [os.path.join(folder,i) for i in os.listdir(folder) if os.path.isdir(os.path.join(folder,i))]\n",
    "    images = []\n",
    "    labels = []\n",
    "    for d in ds:\n",
    "        f = [os.path.join(d,i) for i in os.listdir(d) if 'ppm' in i]\n",
    "        for img in f:\n",
    "            images.append(cv2.cvtColor(cv2.imread(img),cv2.COLOR_BGR2RGB))\n",
    "            labels.append(int(d.split('/')[-1]))\n",
    "    return(images,labels)\n",
    "            \n",
    "            \n",
    "            \n"
   ]
  },
  {
   "cell_type": "code",
   "execution_count": 3,
   "metadata": {},
   "outputs": [
    {
     "name": "stdout",
     "output_type": "stream",
     "text": [
      "/home/vimal/TensorFlow-Tutorials/latest/BelgiumTSC_Training/Training/\n"
     ]
    }
   ],
   "source": [
    "images,labels = load_data(os.path.join(os.getcwd(),r'latest/BelgiumTSC_Training/Training/'))"
   ]
  },
  {
   "cell_type": "code",
   "execution_count": 4,
   "metadata": {},
   "outputs": [],
   "source": [
    "cv2.imshow('img',images[100])\n",
    "cv2.waitKey(0)  \n",
    "#closing all open windows  \n",
    "cv2.destroyAllWindows()  "
   ]
  },
  {
   "cell_type": "code",
   "execution_count": 5,
   "metadata": {},
   "outputs": [
    {
     "data": {
      "image/png": "[encoded data removed]",
      "text/plain": [
       "<Figure size 432x288 with 1 Axes>"
      ]
     },
     "metadata": {
      "needs_background": "light"
     },
     "output_type": "display_data"
    }
   ],
   "source": [
    "%matplotlib inline\n",
    "import matplotlib.pyplot as plt \n",
    "\n",
    "# Make a histogram with 62 bins of the `labels` data\n",
    "plt.hist(labels, 62)\n",
    "\n",
    "# Show the plot\n",
    "plt.show()"
   ]
  },
  {
   "cell_type": "code",
   "execution_count": 16,
   "metadata": {},
   "outputs": [],
   "source": [
    "imgresize = [cv2.cvtColor(cv2.resize(im ,(28,28)),cv2.COLOR_RGB2GRAY) for im in images]"
   ]
  },
  {
   "cell_type": "code",
   "execution_count": 17,
   "metadata": {},
   "outputs": [],
   "source": [
    "imflat = [ np.array(i).reshape([1,-1])[0] for i in imgresize]"
   ]
  },
  {
   "cell_type": "code",
   "execution_count": 18,
   "metadata": {},
   "outputs": [
    {
     "name": "stdout",
     "output_type": "stream",
     "text": [
      "[18 18 18 ... 48 48 48]\n",
      "[[0. 0. 0. ... 0. 0. 0.]\n",
      " [0. 0. 0. ... 0. 0. 0.]\n",
      " [0. 0. 0. ... 0. 0. 0.]\n",
      " ...\n",
      " [0. 0. 0. ... 0. 0. 0.]\n",
      " [0. 0. 0. ... 0. 0. 0.]\n",
      " [0. 0. 0. ... 0. 0. 0.]]\n",
      "[18]\n"
     ]
    },
    {
     "name": "stderr",
     "output_type": "stream",
     "text": [
      "/home/vimal/anaconda3/lib/python3.7/site-packages/sklearn/preprocessing/_encoders.py:415: FutureWarning: The handling of integer data will change in version 0.22. Currently, the categories are determined based on the range [0, max(values)], while in the future they will be determined based on the unique values.\n",
      "If you want the future behaviour and silence this warning, you can specify \"categories='auto'\".\n",
      "In case you used a LabelEncoder before this OneHotEncoder to convert the categories to integers, then you can now use the OneHotEncoder directly.\n",
      "  warnings.warn(msg, FutureWarning)\n"
     ]
    }
   ],
   "source": [
    "from numpy import array\n",
    "from numpy import argmax\n",
    "from sklearn.preprocessing import LabelEncoder\n",
    "from sklearn.preprocessing import OneHotEncoder\n",
    "# define example\n",
    "data = ['cold', 'cold', 'warm', 'cold', 'hot', 'hot', 'warm', 'cold', 'warm', 'hot']\n",
    "values = array(labels)\n",
    "#print(values)\n",
    "# integer encode\n",
    "label_encoder = LabelEncoder()\n",
    "integer_encoded = label_encoder.fit_transform(values)\n",
    "print(integer_encoded)\n",
    "# binary encode\n",
    "onehot_encoder = OneHotEncoder(sparse=False)\n",
    "integer_encoded = integer_encoded.reshape(len(integer_encoded), 1)\n",
    "onehot_encoded = onehot_encoder.fit_transform(integer_encoded)\n",
    "print(onehot_encoded)\n",
    "# invert first example\n",
    "inverted = label_encoder.inverse_transform([argmax(onehot_encoded[0, :])])\n",
    "print(inverted)"
   ]
  },
  {
   "cell_type": "code",
   "execution_count": 19,
   "metadata": {},
   "outputs": [],
   "source": [
    "opop = np.array(onehot_encoded)"
   ]
  },
  {
   "cell_type": "code",
   "execution_count": 20,
   "metadata": {},
   "outputs": [
    {
     "data": {
      "text/plain": [
       "(4575, 62)"
      ]
     },
     "execution_count": 20,
     "metadata": {},
     "output_type": "execute_result"
    }
   ],
   "source": [
    "opop.shape"
   ]
  },
  {
   "cell_type": "code",
   "execution_count": 22,
   "metadata": {},
   "outputs": [],
   "source": [
    "cv2.imshow('img',imgresize[100])\n",
    "cv2.waitKey(0)  \n",
    "#closing all open windows  \n",
    "cv2.destroyAllWindows()  "
   ]
  },
  {
   "cell_type": "code",
   "execution_count": 9,
   "metadata": {},
   "outputs": [],
   "source": [
    "x = tf.placeholder(dtype = tf.float32, shape = [None,784])\n",
    "y_true = tf.placeholder(dtype = tf.float32, shape = [None,62])\n",
    "y_true_cls = tf.placeholder(tf.int64, [None])\n",
    "weights = tf.Variable(tf.zeros([784,62]))\n",
    "bias = tf.Variable(tf.zeros([62]))"
   ]
  },
  {
   "cell_type": "code",
   "execution_count": 10,
   "metadata": {},
   "outputs": [],
   "source": [
    "#flatten = tf.contrib.layers.flatten(x)\n",
    "logits = tf.matmul(x,weights)+bias\n"
   ]
  },
  {
   "cell_type": "code",
   "execution_count": 11,
   "metadata": {},
   "outputs": [],
   "source": [
    "y_pred = tf.nn.softmax(logits)\n",
    "y_pred_cls = tf.argmax(y_pred, axis=1)"
   ]
  },
  {
   "cell_type": "code",
   "execution_count": 12,
   "metadata": {},
   "outputs": [],
   "source": [
    "#y_pred = tf.nn.softmax(logits)\n",
    "#y_pred_cls = tf.argmax(y_pred, axis=1)\n",
    "cross_entropy = tf.nn.softmax_cross_entropy_with_logits_v2(logits=logits,\n",
    "                                                           labels=y_true)\n",
    "cost = tf.reduce_mean(cross_entropy)\n",
    "train_op = tf.train.AdamOptimizer(learning_rate=0.001).minimize(cost)\n",
    "#correct_prediction = tf.equal(y_pred_cls, y)\n",
    "#accuracy = tf.reduce_mean(tf.cast(correct_prediction, tf.float32))"
   ]
  },
  {
   "cell_type": "code",
   "execution_count": 13,
   "metadata": {},
   "outputs": [],
   "source": [
    "session = tf.Session()\n",
    "session.run(tf.global_variables_initializer())\n",
    "batch_size = 100\n",
    "def optimize(num_iterations):\n",
    "    for i in range(num_iterations):\n",
    "        # Get a batch of training examples.\n",
    "        # x_batch now holds a batch of images and\n",
    "        # y_true_batch are the true labels for those images.\n",
    "        x_batch, y_true_batch, _ = data.random_batch(batch_size=batch_size)\n",
    "        \n",
    "        # Put the batch into a dict with the proper names\n",
    "        # for placeholder variables in the TensorFlow graph.\n",
    "        # Note that the placeholder for y_true_cls is not set\n",
    "        # because it is not used during training.\n",
    "        feed_dict_train = {x: x_batch,\n",
    "                           y_true: y_true_batch}\n",
    "\n",
    "        # Run the optimizer using this batch of training data.\n",
    "        # TensorFlow assigns the variables in feed_dict_train\n",
    "        # to the placeholder variables and then runs the optimizer.\n",
    "        session.run(optimizer, feed_dict=feed_dict_train)"
   ]
  },
  {
   "cell_type": "code",
   "execution_count": 25,
   "metadata": {},
   "outputs": [],
   "source": [
    " \n",
    "\n",
    "# Initialize placeholders \n",
    "x = tf.placeholder(dtype = tf.float32, shape = [None, 28, 28])\n",
    "y = tf.placeholder(dtype = tf.int32, shape = [None])\n",
    "\n",
    "# Flatten the input data\n",
    "images_flat = tf.contrib.layers.flatten(x)\n",
    "\n",
    "# Fully connected layer \n",
    "logits = tf.contrib.layers.fully_connected(images_flat, 62, tf.nn.relu)\n",
    "\n",
    "# Define a loss function\n",
    "loss = tf.reduce_mean(tf.nn.sparse_softmax_cross_entropy_with_logits(labels = y, \n",
    "                                                                    logits = logits))\n",
    "# Define an optimizer \n",
    "train_op = tf.train.AdamOptimizer(learning_rate=0.001).minimize(loss)\n",
    "\n",
    "# Convert logits to label indexes\n",
    "correct_pred = tf.argmax(logits, 1)\n",
    "\n",
    "# Define an accuracy metric\n",
    "accuracy = tf.reduce_mean(tf.cast(correct_pred, tf.float32))"
   ]
  },
  {
   "cell_type": "code",
   "execution_count": 21,
   "metadata": {},
   "outputs": [],
   "source": [
    "imflat = np.array(imflat)"
   ]
  },
  {
   "cell_type": "code",
   "execution_count": 22,
   "metadata": {},
   "outputs": [
    {
     "name": "stdout",
     "output_type": "stream",
     "text": [
      "(4575, 784) (4575, 62)\n"
     ]
    }
   ],
   "source": [
    "print(imflat.shape,opop.shape)"
   ]
  },
  {
   "cell_type": "code",
   "execution_count": 15,
   "metadata": {},
   "outputs": [
    {
     "name": "stdout",
     "output_type": "stream",
     "text": [
      "(?, 784) (?, 62)\n"
     ]
    }
   ],
   "source": [
    "print(x.shape, y_true.shape)"
   ]
  },
  {
   "cell_type": "code",
   "execution_count": 16,
   "metadata": {},
   "outputs": [],
   "source": [
    "tf.set_random_seed(1234)\n",
    "session = tf.Session()\n",
    "session.run(tf.global_variables_initializer())"
   ]
  },
  {
   "cell_type": "code",
   "execution_count": 43,
   "metadata": {},
   "outputs": [
    {
     "name": "stdout",
     "output_type": "stream",
     "text": [
      "EPOCH 0\n"
     ]
    },
    {
     "ename": "TypeError",
     "evalue": "cannot unpack non-iterable NoneType object",
     "output_type": "error",
     "traceback": [
      "\u001b[0;31m---------------------------------------------------------------------------\u001b[0m",
      "\u001b[0;31mTypeError\u001b[0m                                 Traceback (most recent call last)",
      "\u001b[0;32m<ipython-input-43-a483f33a1a2b>\u001b[0m in \u001b[0;36m<module>\u001b[0;34m\u001b[0m\n\u001b[1;32m      5\u001b[0m \u001b[0;32mfor\u001b[0m \u001b[0mi\u001b[0m \u001b[0;32min\u001b[0m \u001b[0mrange\u001b[0m\u001b[0;34m(\u001b[0m\u001b[0;36m201\u001b[0m\u001b[0;34m)\u001b[0m\u001b[0;34m:\u001b[0m\u001b[0;34m\u001b[0m\u001b[0;34m\u001b[0m\u001b[0m\n\u001b[1;32m      6\u001b[0m         \u001b[0mprint\u001b[0m\u001b[0;34m(\u001b[0m\u001b[0;34m'EPOCH'\u001b[0m\u001b[0;34m,\u001b[0m \u001b[0mi\u001b[0m\u001b[0;34m)\u001b[0m\u001b[0;34m\u001b[0m\u001b[0;34m\u001b[0m\u001b[0m\n\u001b[0;32m----> 7\u001b[0;31m         \u001b[0m_\u001b[0m\u001b[0;34m,\u001b[0m \u001b[0maccuracy_val\u001b[0m \u001b[0;34m=\u001b[0m \u001b[0msess\u001b[0m\u001b[0;34m.\u001b[0m\u001b[0mrun\u001b[0m\u001b[0;34m(\u001b[0m\u001b[0mtrain_op\u001b[0m\u001b[0;34m,\u001b[0m \u001b[0mfeed_dict\u001b[0m\u001b[0;34m=\u001b[0m\u001b[0;34m{\u001b[0m\u001b[0mx\u001b[0m\u001b[0;34m:\u001b[0m \u001b[0mimflat\u001b[0m\u001b[0;34m,\u001b[0m \u001b[0my_true\u001b[0m\u001b[0;34m:\u001b[0m\u001b[0mopop\u001b[0m\u001b[0;34m}\u001b[0m\u001b[0;34m)\u001b[0m\u001b[0;34m\u001b[0m\u001b[0;34m\u001b[0m\u001b[0m\n\u001b[0m\u001b[1;32m      8\u001b[0m         \u001b[0;32mif\u001b[0m \u001b[0mi\u001b[0m \u001b[0;34m%\u001b[0m \u001b[0;36m10\u001b[0m \u001b[0;34m==\u001b[0m \u001b[0;36m0\u001b[0m\u001b[0;34m:\u001b[0m\u001b[0;34m\u001b[0m\u001b[0;34m\u001b[0m\u001b[0m\n\u001b[1;32m      9\u001b[0m             \u001b[0mprint\u001b[0m\u001b[0;34m(\u001b[0m\u001b[0;34m\"Loss: \"\u001b[0m\u001b[0;34m,\u001b[0m \u001b[0mloss\u001b[0m\u001b[0;34m)\u001b[0m\u001b[0;34m\u001b[0m\u001b[0;34m\u001b[0m\u001b[0m\n",
      "\u001b[0;31mTypeError\u001b[0m: cannot unpack non-iterable NoneType object"
     ]
    }
   ],
   "source": [
    "\n",
    "\n",
    "for i in range(201):\n",
    "        print('EPOCH', i)\n",
    "        _, accuracy_val = sess.run(train_op, feed_dict={x: imflat, y_true:opop})\n",
    "        if i % 10 == 0:\n",
    "            print(\"Loss: \", loss)\n",
    "        print('DONE WITH EPOCH')"
   ]
  },
  {
   "cell_type": "code",
   "execution_count": 17,
   "metadata": {},
   "outputs": [],
   "source": [
    "def optimize(num_iterations):\n",
    "    for i in range(num_iterations):\n",
    "        # Get a batch of training examples.\n",
    "        # x_batch now holds a batch of images and\n",
    "        # y_true_batch are the true labels for those images.\n",
    "        #x_batch, y_true_batch, _ = data.random_batch(batch_size=batch_size)\n",
    "        \n",
    "        # Put the batch into a dict with the proper names\n",
    "        # for placeholder variables in the TensorFlow graph.\n",
    "        # Note that the placeholder for y_true_cls is not set\n",
    "        # because it is not used during training.\n",
    "        feed_dict_train={x: imflat, y_true:opop}\n",
    "        # Run the optimizer using this batch of training data.\n",
    "        # TensorFlow assigns the variables in feed_dict_train\n",
    "        # to the placeholder variables and then runs the optimizer.\n",
    "        session.run(train_op, feed_dict=feed_dict_train)"
   ]
  },
  {
   "cell_type": "code",
   "execution_count": 28,
   "metadata": {},
   "outputs": [],
   "source": [
    "optimize(500)"
   ]
  },
  {
   "cell_type": "code",
   "execution_count": 19,
   "metadata": {},
   "outputs": [
    {
     "name": "stdout",
     "output_type": "stream",
     "text": [
      "/home/vimal/TensorFlow-Tutorials/latest/BelgiumTSC_Testing/Testing/\n"
     ]
    },
    {
     "name": "stderr",
     "output_type": "stream",
     "text": [
      "/home/vimal/anaconda3/lib/python3.7/site-packages/skimage/transform/_warps.py:105: UserWarning: The default mode, 'constant', will be changed to 'reflect' in skimage 0.15.\n",
      "  warn(\"The default mode, 'constant', will be changed to 'reflect' in \"\n",
      "/home/vimal/anaconda3/lib/python3.7/site-packages/skimage/transform/_warps.py:110: UserWarning: Anti-aliasing will be enabled by default in skimage 0.15 to avoid aliasing artifacts when down-sampling images.\n",
      "  warn(\"Anti-aliasing will be enabled by default in skimage 0.15 to \"\n"
     ]
    }
   ],
   "source": [
    "from skimage import transform\n",
    "\n",
    "# Load the test data\n",
    "test_images, test_labels = load_data(os.path.join(os.getcwd(),r'latest/BelgiumTSC_Testing/Testing/'))\n",
    "\n",
    "# Transform the images to 28 by 28 pixels\n",
    "test_images28 = [transform.resize(image, (28, 28)) for image in test_images]\n",
    "\n",
    "# Convert to grayscale\n",
    "from skimage.color import rgb2gray\n",
    "test_images28 = rgb2gray(np.array(test_images28))\n",
    "\n",
    "# Run predictions against the full test set.\n"
   ]
  },
  {
   "cell_type": "code",
   "execution_count": 20,
   "metadata": {},
   "outputs": [],
   "source": [
    "imflat2 = [ np.array(i).reshape([1,-1])[0] for i in test_images28]"
   ]
  },
  {
   "cell_type": "code",
   "execution_count": 21,
   "metadata": {},
   "outputs": [],
   "source": [
    "imflat2 = np.array(imflat2)"
   ]
  },
  {
   "cell_type": "code",
   "execution_count": 22,
   "metadata": {},
   "outputs": [
    {
     "data": {
      "text/plain": [
       "(2520, 784)"
      ]
     },
     "execution_count": 22,
     "metadata": {},
     "output_type": "execute_result"
    }
   ],
   "source": [
    "imflat2.shape"
   ]
  },
  {
   "cell_type": "code",
   "execution_count": 31,
   "metadata": {},
   "outputs": [
    {
     "name": "stdout",
     "output_type": "stream",
     "text": [
      "Accuracy: 0.824\n"
     ]
    }
   ],
   "source": [
    "predicted = session.run([y_pred_cls], feed_dict={x: imflat2})[0]\n",
    "\n",
    "# Calculate correct matches \n",
    "match_count = sum([int(y == y_) for y, y_ in zip(test_labels, predicted)])\n",
    "\n",
    "# Calculate the accuracy\n",
    "accuracy = match_count / len(test_labels)\n",
    "\n",
    "# Print the accuracy\n",
    "print(\"Accuracy: {:.3f}\".format(accuracy))"
   ]
  },
  {
   "cell_type": "code",
   "execution_count": 33,
   "metadata": {},
   "outputs": [],
   "source": [
    "session.close()"
   ]
  },
  {
   "cell_type": "code",
   "execution_count": 5,
   "metadata": {},
   "outputs": [
    {
     "name": "stderr",
     "output_type": "stream",
     "text": [
      "WARNING: Logging before flag parsing goes to stderr.\n",
      "W0822 12:49:35.757881 140655644895040 deprecation.py:323] From /home/vimal/anaconda3/lib/python3.7/site-packages/tensorflow/python/compat/v2_compat.py:96: disable_resource_variables (from tensorflow.python.ops.variable_scope) is deprecated and will be removed in a future version.\n",
      "Instructions for updating:\n",
      "non-resource variables are not supported in the long term\n"
     ]
    }
   ],
   "source": [
    "import tensorflow.compat.v1 as tf\n",
    "tf.disable_v2_behavior() "
   ]
  },
  {
   "cell_type": "code",
   "execution_count": 6,
   "metadata": {},
   "outputs": [
    {
     "ename": "AttributeError",
     "evalue": "module 'tensorflow.compat.v1' has no attribute 'contrib'",
     "output_type": "error",
     "traceback": [
      "\u001b[0;31m---------------------------------------------------------------------------\u001b[0m",
      "\u001b[0;31mAttributeError\u001b[0m                            Traceback (most recent call last)",
      "\u001b[0;32m<ipython-input-6-8295660719e0>\u001b[0m in \u001b[0;36m<module>\u001b[0;34m\u001b[0m\n\u001b[1;32m      2\u001b[0m \u001b[0my\u001b[0m \u001b[0;34m=\u001b[0m \u001b[0mtf\u001b[0m\u001b[0;34m.\u001b[0m\u001b[0mplaceholder\u001b[0m\u001b[0;34m(\u001b[0m\u001b[0mdtype\u001b[0m \u001b[0;34m=\u001b[0m \u001b[0mtf\u001b[0m\u001b[0;34m.\u001b[0m\u001b[0mint32\u001b[0m\u001b[0;34m,\u001b[0m \u001b[0mshape\u001b[0m \u001b[0;34m=\u001b[0m \u001b[0;34m[\u001b[0m\u001b[0;32mNone\u001b[0m\u001b[0;34m]\u001b[0m\u001b[0;34m)\u001b[0m\u001b[0;34m\u001b[0m\u001b[0;34m\u001b[0m\u001b[0m\n\u001b[1;32m      3\u001b[0m \u001b[0;34m\u001b[0m\u001b[0m\n\u001b[0;32m----> 4\u001b[0;31m \u001b[0mflat\u001b[0m \u001b[0;34m=\u001b[0m \u001b[0mtf\u001b[0m\u001b[0;34m.\u001b[0m\u001b[0mcontrib\u001b[0m\u001b[0;34m.\u001b[0m\u001b[0mlayers\u001b[0m\u001b[0;34m.\u001b[0m\u001b[0mflatten\u001b[0m\u001b[0;34m(\u001b[0m\u001b[0mx\u001b[0m\u001b[0;34m)\u001b[0m\u001b[0;34m\u001b[0m\u001b[0;34m\u001b[0m\u001b[0m\n\u001b[0m\u001b[1;32m      5\u001b[0m \u001b[0;34m\u001b[0m\u001b[0m\n\u001b[1;32m      6\u001b[0m \u001b[0mfc\u001b[0m \u001b[0;34m=\u001b[0m \u001b[0mtf\u001b[0m\u001b[0;34m.\u001b[0m\u001b[0mcontrib\u001b[0m\u001b[0;34m.\u001b[0m\u001b[0mlayers\u001b[0m\u001b[0;34m.\u001b[0m\u001b[0mfully_connected\u001b[0m\u001b[0;34m(\u001b[0m\u001b[0mflat\u001b[0m\u001b[0;34m,\u001b[0m\u001b[0;36m62\u001b[0m\u001b[0;34m)\u001b[0m\u001b[0;34m\u001b[0m\u001b[0;34m\u001b[0m\u001b[0m\n",
      "\u001b[0;31mAttributeError\u001b[0m: module 'tensorflow.compat.v1' has no attribute 'contrib'"
     ]
    }
   ],
   "source": [
    "x = tf.placeholder(dtype = tf.float32,shape = [None,28,28])\n",
    "y = tf.placeholder(dtype = tf.int32, shape = [None])\n",
    "\n",
    "flat = tf.contrib.layers.flatten(x)\n",
    "\n",
    "fc = tf.contrib.layers.fully_connected(flat,62)\n",
    "\n",
    "\n",
    "\n",
    "cross_entropy = tf.nn.sparse_softmax_cross_entropy_with_logits(logits = fc , labels = y)\n",
    "\n",
    "loss = tf.reduce_mean(cross_entropy)\n",
    "\n",
    "opt = tf.train.AdamOptimizer(learning_rate=0.001).minimize(loss)\n"
   ]
  },
  {
   "cell_type": "code",
   "execution_count": null,
   "metadata": {},
   "outputs": [],
   "source": [
    "# Flatten the input data\n",
    "images_flat = tf.contrib.layers.flatten(x)\n",
    "\n",
    "# Fully connected layer \n",
    "logits = tf.contrib.layers.fully_connected(images_flat, 62, tf.nn.relu)\n",
    "\n",
    "# Define a loss function\n",
    "loss = tf.reduce_mean(tf.nn.sparse_softmax_cross_entropy_with_logits(labels = y, \n",
    "                                                                    logits = logits))\n",
    "# Define an optimizer \n",
    "train_op = tf.train.AdamOptimizer(learning_rate=0.001).minimize(loss)\n",
    "\n",
    "# Convert logits to label indexes\n",
    "correct_pred = tf.argmax(logits, 1)\n",
    "\n",
    "# Define an accuracy metric\n",
    "accuracy = tf.reduce_mean(tf.cast(correct_pred, tf.float32))"
   ]
  },
  {
   "cell_type": "code",
   "execution_count": 4,
   "metadata": {},
   "outputs": [],
   "source": [
    "import tensorflow as tf\n",
    "from tensorflow import keras\n",
    "from tensorflow.keras.utils import to_categorical\n",
    "from tensorflow.keras.preprocessing import image"
   ]
  },
  {
   "cell_type": "code",
   "execution_count": 26,
   "metadata": {},
   "outputs": [
    {
     "data": {
      "text/plain": [
       "array([[0., 1., 0., 0., 0., 0.],\n",
       "       [0., 0., 1., 0., 0., 0.],\n",
       "       [0., 0., 0., 0., 1., 0.],\n",
       "       [0., 0., 0., 0., 0., 1.],\n",
       "       [0., 0., 0., 1., 0., 0.],\n",
       "       [1., 0., 0., 0., 0., 0.]], dtype=float32)"
      ]
     },
     "execution_count": 26,
     "metadata": {},
     "output_type": "execute_result"
    }
   ],
   "source": [
    "keras.utils.to_categorical([1,2,4,5,3,0])"
   ]
  },
  {
   "cell_type": "code",
   "execution_count": 5,
   "metadata": {},
   "outputs": [],
   "source": [
    "y = to_categorical(labels)"
   ]
  },
  {
   "cell_type": "code",
   "execution_count": 6,
   "metadata": {},
   "outputs": [
    {
     "data": {
      "text/plain": [
       "(4575, 62)"
      ]
     },
     "execution_count": 6,
     "metadata": {},
     "output_type": "execute_result"
    }
   ],
   "source": [
    "y.shape"
   ]
  },
  {
   "cell_type": "code",
   "execution_count": 7,
   "metadata": {},
   "outputs": [],
   "source": [
    "\n",
    "folder = os.path.join(os.getcwd(),r'latest/BelgiumTSC_Training/Training/')\n",
    "ds = [os.path.join(folder,i) for i in os.listdir(folder) if os.path.isdir(os.path.join(folder,i))]\n",
    "images = []\n",
    "labels = []\n",
    "train_image=[]\n",
    "for d in ds:\n",
    "    f = [os.path.join(d,i) for i in os.listdir(d) if 'ppm' in i]\n",
    "    for img in f:\n",
    "        img = image.load_img(img, target_size=(28,28,1), color_mode=\"grayscale\")\n",
    "        img = image.img_to_array(img)\n",
    "        img = img/255\n",
    "        train_image.append(img)\n",
    "        \n",
    "\n"
   ]
  },
  {
   "cell_type": "code",
   "execution_count": 8,
   "metadata": {},
   "outputs": [],
   "source": [
    "X = np.array(train_image)"
   ]
  },
  {
   "cell_type": "code",
   "execution_count": 9,
   "metadata": {},
   "outputs": [],
   "source": [
    "from sklearn.model_selection import train_test_split\n",
    "X_train, X_test, y_train, y_test = train_test_split(X, y, random_state=42, test_size=0.2)\n",
    "\n"
   ]
  },
  {
   "cell_type": "code",
   "execution_count": 54,
   "metadata": {},
   "outputs": [],
   "source": [
    "finmg = np.array(finmg)"
   ]
  },
  {
   "cell_type": "code",
   "execution_count": 10,
   "metadata": {},
   "outputs": [],
   "source": [
    "model = keras.Sequential()\n",
    "model.add(keras.layers.Conv2D(32 , kernel_size = (3,3), activation = 'relu' , input_shape = (28,28,1)))\n",
    "model.add(keras.layers.Conv2D(64 , kernel_size = (3,3) , activation = 'relu' ))\n",
    "model.add(keras.layers.MaxPool2D(pool_size=(2,2)))\n",
    "model.add(keras.layers.Dropout(0.25))\n",
    "model.add(keras.layers.Flatten())\n",
    "model.add(keras.layers.Dense(128,activation = 'relu'))\n",
    "model.add(keras.layers.Dropout(.5))\n",
    "model.add(keras.layers.Dense(62,activation = 'softmax'))\n"
   ]
  },
  {
   "cell_type": "code",
   "execution_count": 11,
   "metadata": {},
   "outputs": [
    {
     "name": "stdout",
     "output_type": "stream",
     "text": [
      "Epoch 1/10\n",
      "115/115 [==============================] - 6s 55ms/step - loss: 2.9182 - accuracy: 0.3470 - val_loss: 1.6302 - val_accuracy: 0.6568\n",
      "Epoch 2/10\n",
      "115/115 [==============================] - 6s 52ms/step - loss: 1.4609 - accuracy: 0.6459 - val_loss: 0.8098 - val_accuracy: 0.8022\n",
      "Epoch 3/10\n",
      "115/115 [==============================] - 6s 53ms/step - loss: 0.9382 - accuracy: 0.7549 - val_loss: 0.5751 - val_accuracy: 0.8557\n",
      "Epoch 4/10\n",
      "115/115 [==============================] - 6s 54ms/step - loss: 0.6923 - accuracy: 0.8055 - val_loss: 0.3935 - val_accuracy: 0.8973\n",
      "Epoch 5/10\n",
      "115/115 [==============================] - 6s 51ms/step - loss: 0.5235 - accuracy: 0.8374 - val_loss: 0.3510 - val_accuracy: 0.9038\n",
      "Epoch 6/10\n",
      "115/115 [==============================] - 6s 53ms/step - loss: 0.4509 - accuracy: 0.8620 - val_loss: 0.2886 - val_accuracy: 0.9148\n",
      "Epoch 7/10\n",
      "115/115 [==============================] - 6s 53ms/step - loss: 0.3966 - accuracy: 0.8716 - val_loss: 0.2545 - val_accuracy: 0.9148\n",
      "Epoch 8/10\n",
      "115/115 [==============================] - 6s 53ms/step - loss: 0.3159 - accuracy: 0.9022 - val_loss: 0.2345 - val_accuracy: 0.9311\n",
      "Epoch 9/10\n",
      "115/115 [==============================] - 6s 54ms/step - loss: 0.3181 - accuracy: 0.9003 - val_loss: 0.1924 - val_accuracy: 0.9410\n",
      "Epoch 10/10\n",
      "115/115 [==============================] - 6s 53ms/step - loss: 0.2678 - accuracy: 0.9120 - val_loss: 0.2009 - val_accuracy: 0.9399\n"
     ]
    },
    {
     "data": {
      "text/plain": [
       "<tensorflow.python.keras.callbacks.History at 0x7f025c295898>"
      ]
     },
     "execution_count": 11,
     "metadata": {},
     "output_type": "execute_result"
    }
   ],
   "source": [
    "model.compile(optimizer='adam',\n",
    "              loss='categorical_crossentropy',\n",
    "              metrics=['accuracy'])\n",
    "\n",
    "\n",
    "model.fit(X_train, y_train, epochs=10, validation_data=(X_test, y_test))"
   ]
  },
  {
   "cell_type": "code",
   "execution_count": 12,
   "metadata": {},
   "outputs": [
    {
     "name": "stderr",
     "output_type": "stream",
     "text": [
      "[nltk_data] Downloading package punkt to /home/vimal/nltk_data...\n",
      "[nltk_data]   Unzipping tokenizers/punkt.zip.\n"
     ]
    }
   ],
   "source": [
    "# TensorFlow and tf.keras\n",
    "import tensorflow as tf\n",
    "from tensorflow import keras\n",
    "\n",
    "# Import numpy, Pandas, Regex & Visualisation libraries\n",
    "import numpy as np\n",
    "import pandas as pd\n",
    "import re\n",
    "from matplotlib import pyplot as plt\n",
    "\n",
    "# Import NLTK & Download Required Module\n",
    "import nltk\n",
    "nltk.download('punkt')\n",
    "\n",
    "# Train Test Split\n",
    "from sklearn.model_selection import train_test_split\n",
    "\n",
    "# F1 Score\n",
    "from sklearn.metrics import f1_score"
   ]
  },
  {
   "cell_type": "code",
   "execution_count": 13,
   "metadata": {},
   "outputs": [
    {
     "data": {
      "text/plain": [
       "'/home/vimal/TensorFlow-Tutorials'"
      ]
     },
     "execution_count": 13,
     "metadata": {},
     "output_type": "execute_result"
    }
   ],
   "source": [
    "os.getcwd()"
   ]
  },
  {
   "cell_type": "code",
   "execution_count": 14,
   "metadata": {},
   "outputs": [],
   "source": [
    "import pandas as pd"
   ]
  },
  {
   "cell_type": "code",
   "execution_count": 15,
   "metadata": {},
   "outputs": [],
   "source": [
    "df = pd.DataFrame()\n",
    "df = pd.read_csv('train.csv')"
   ]
  },
  {
   "cell_type": "code",
   "execution_count": 35,
   "metadata": {},
   "outputs": [
    {
     "data": {
      "text/html": [
       "<div>\n",
       "<style scoped>\n",
       "    .dataframe tbody tr th:only-of-type {\n",
       "        vertical-align: middle;\n",
       "    }\n",
       "\n",
       "    .dataframe tbody tr th {\n",
       "        vertical-align: top;\n",
       "    }\n",
       "\n",
       "    .dataframe thead th {\n",
       "        text-align: right;\n",
       "    }\n",
       "</style>\n",
       "<table border=\"1\" class=\"dataframe\">\n",
       "  <thead>\n",
       "    <tr style=\"text-align: right;\">\n",
       "      <th></th>\n",
       "      <th>label</th>\n",
       "      <th>pixel0</th>\n",
       "      <th>pixel1</th>\n",
       "      <th>pixel2</th>\n",
       "      <th>pixel3</th>\n",
       "      <th>pixel4</th>\n",
       "    </tr>\n",
       "  </thead>\n",
       "  <tbody>\n",
       "    <tr>\n",
       "      <th>0</th>\n",
       "      <td>1</td>\n",
       "      <td>0</td>\n",
       "      <td>0</td>\n",
       "      <td>0</td>\n",
       "      <td>0</td>\n",
       "      <td>0</td>\n",
       "    </tr>\n",
       "    <tr>\n",
       "      <th>1</th>\n",
       "      <td>0</td>\n",
       "      <td>0</td>\n",
       "      <td>0</td>\n",
       "      <td>0</td>\n",
       "      <td>0</td>\n",
       "      <td>0</td>\n",
       "    </tr>\n",
       "    <tr>\n",
       "      <th>2</th>\n",
       "      <td>1</td>\n",
       "      <td>0</td>\n",
       "      <td>0</td>\n",
       "      <td>0</td>\n",
       "      <td>0</td>\n",
       "      <td>0</td>\n",
       "    </tr>\n",
       "  </tbody>\n",
       "</table>\n",
       "</div>"
      ],
      "text/plain": [
       "   label  pixel0  pixel1  pixel2  pixel3  pixel4\n",
       "0      1       0       0       0       0       0\n",
       "1      0       0       0       0       0       0\n",
       "2      1       0       0       0       0       0"
      ]
     },
     "execution_count": 35,
     "metadata": {},
     "output_type": "execute_result"
    }
   ],
   "source": [
    "df.iloc[:3,:6]"
   ]
  },
  {
   "cell_type": "code",
   "execution_count": 23,
   "metadata": {},
   "outputs": [
    {
     "name": "stderr",
     "output_type": "stream",
     "text": [
      "WARNING: Logging before flag parsing goes to stderr.\n",
      "W0823 23:26:10.549721 139650442909504 deprecation.py:323] From <ipython-input-23-17bb7203622b>:1: is_gpu_available (from tensorflow.python.framework.test_util) is deprecated and will be removed in a future version.\n",
      "Instructions for updating:\n",
      "Use `tf.config.list_physical_devices('GPU')` instead.\n"
     ]
    },
    {
     "data": {
      "text/plain": [
       "False"
      ]
     },
     "execution_count": 23,
     "metadata": {},
     "output_type": "execute_result"
    }
   ],
   "source": [
    "tf.test.is_gpu_available()"
   ]
  },
  {
   "cell_type": "code",
   "execution_count": 25,
   "metadata": {},
   "outputs": [
    {
     "data": {
      "text/plain": [
       "[PhysicalDevice(name='/physical_device:CPU:0', device_type='CPU'),\n",
       " PhysicalDevice(name='/physical_device:XLA_CPU:0', device_type='XLA_CPU')]"
      ]
     },
     "execution_count": 25,
     "metadata": {},
     "output_type": "execute_result"
    }
   ],
   "source": [
    "tf.config.list_physical_devices()"
   ]
  },
  {
   "cell_type": "code",
   "execution_count": 28,
   "metadata": {},
   "outputs": [
    {
     "data": {
      "text/plain": [
       "'2.3.0'"
      ]
     },
     "execution_count": 28,
     "metadata": {},
     "output_type": "execute_result"
    }
   ],
   "source": [
    "tf.__version__"
   ]
  },
  {
   "cell_type": "code",
   "execution_count": 30,
   "metadata": {},
   "outputs": [
    {
     "name": "stdout",
     "output_type": "stream",
     "text": [
      "<tf.Variable 'Variable:0' shape=() dtype=string, numpy=b'Hello World'>\n"
     ]
    }
   ],
   "source": [
    "x = tf.Variable(\"Hello World\")\n",
    "print()"
   ]
  },
  {
   "cell_type": "code",
   "execution_count": 1,
   "metadata": {},
   "outputs": [],
   "source": [
    "import tensorflow as tf\n",
    "from tensorflow import keras\n",
    "import os\n",
    "from tensorflow.keras import layers,optimizers,datasets\n",
    "import numpy as np"
   ]
  },
  {
   "cell_type": "code",
   "execution_count": 2,
   "metadata": {},
   "outputs": [],
   "source": [
    "def prepare_mnist_features_and_labels(x, y):\n",
    "  x = tf.cast(x, tf.float32) / 255.0\n",
    "  y = tf.cast(y, tf.int64)\n",
    "  return x, y"
   ]
  },
  {
   "cell_type": "code",
   "execution_count": 3,
   "metadata": {},
   "outputs": [],
   "source": [
    "def mnist_dataset():\n",
    "  (x, y), _ = datasets.mnist.load_data()\n",
    "  ds = tf.data.Dataset.from_tensor_slices((x, y))\n",
    "  ds = ds.map(prepare_mnist_features_and_labels)\n",
    "  ds = ds.take(20000).shuffle(20000).batch(100)\n",
    "  return ds"
   ]
  },
  {
   "cell_type": "code",
   "execution_count": 2,
   "metadata": {},
   "outputs": [],
   "source": [
    "model = keras.Sequential([\n",
    "    layers.Reshape(target_shape = (28 * 28,),input_shape = (28,28)),\n",
    "    layers.Dense(100, activation = 'relu'),\n",
    "    layers.Dense(100, activation = 'relu'),\n",
    "    layers.Dense(10 , activation = 'softmax')\n",
    "])"
   ]
  },
  {
   "cell_type": "code",
   "execution_count": 5,
   "metadata": {},
   "outputs": [],
   "source": [
    "optimizer = optimizers.Adam()"
   ]
  },
  {
   "cell_type": "code",
   "execution_count": 8,
   "metadata": {},
   "outputs": [],
   "source": [
    "@tf.function\n",
    "def compute_loss(logits, labels):\n",
    "  return tf.reduce_mean(\n",
    "      tf.nn.sparse_softmax_cross_entropy_with_logits(\n",
    "          logits=logits, labels=labels))\n",
    "\n",
    "@tf.function\n",
    "def compute_accuracy(logits, labels):\n",
    "  predictions = tf.argmax(logits, axis=1)\n",
    "  return tf.reduce_mean(tf.cast(tf.equal(predictions, labels), tf.float32))\n",
    "\n",
    "@tf.function\n",
    "def train_one_step(model, optimizer, x, y):\n",
    "\n",
    "  with tf.GradientTape() as tape:\n",
    "    logits = model(x)\n",
    "    loss = compute_loss(logits, y)\n",
    "\n",
    "  # compute gradient\n",
    "  grads = tape.gradient(loss, model.trainable_variables)\n",
    "  # update to weights\n",
    "  optimizer.apply_gradients(zip(grads, model.trainable_variables))\n",
    "\n",
    "  accuracy = compute_accuracy(logits, y)\n",
    "\n",
    "  # loss and accuracy is scalar tensor\n",
    "  return loss, accuracy\n",
    "\n",
    "def train(epoch, model, optimizer):\n",
    "\n",
    "  train_ds = mnist_dataset()\n",
    "  loss = 0.0\n",
    "  accuracy = 0.0\n",
    "  for step, (x, y) in enumerate(train_ds):\n",
    "    loss, accuracy = train_one_step(model, optimizer, x, y)\n",
    "\n",
    "    if step % 500 == 0:\n",
    "      print('epoch', epoch, ': loss', loss.numpy(), '; accuracy', accuracy.numpy())\n",
    "\n",
    "  return loss, accuracy"
   ]
  },
  {
   "cell_type": "code",
   "execution_count": 9,
   "metadata": {},
   "outputs": [
    {
     "name": "stdout",
     "output_type": "stream",
     "text": [
      "epoch 0 : loss 2.3037112 ; accuracy 0.08\n",
      "epoch 1 : loss 1.5570983 ; accuracy 0.94\n",
      "epoch 2 : loss 1.570593 ; accuracy 0.89\n",
      "epoch 3 : loss 1.500196 ; accuracy 0.97\n",
      "epoch 4 : loss 1.5206308 ; accuracy 0.95\n",
      "epoch 5 : loss 1.4837203 ; accuracy 0.98\n",
      "epoch 6 : loss 1.4999657 ; accuracy 0.96\n",
      "epoch 7 : loss 1.4957271 ; accuracy 0.97\n",
      "epoch 8 : loss 1.4957865 ; accuracy 0.97\n",
      "epoch 9 : loss 1.4919451 ; accuracy 0.98\n",
      "Final epoch 9 : loss 1.4884415 ; accuracy 0.98\n"
     ]
    }
   ],
   "source": [
    "\n",
    "for epoch in range(10):\n",
    "  loss, accuracy = train(epoch, model, optimizer)\n",
    "\n",
    "print('Final epoch', epoch, ': loss', loss.numpy(), '; accuracy', accuracy.numpy())\n"
   ]
  },
  {
   "cell_type": "code",
   "execution_count": 11,
   "metadata": {},
   "outputs": [],
   "source": [
    "model.compile(optimizer='adam', loss='sparse_categorical_crossentropy', metrics=['accuracy'])\n",
    "# fit the model\n",
    "\n"
   ]
  },
  {
   "cell_type": "code",
   "execution_count": 3,
   "metadata": {},
   "outputs": [],
   "source": [
    "(x, y), (xt,yt) = datasets.mnist.load_data()"
   ]
  },
  {
   "cell_type": "code",
   "execution_count": 4,
   "metadata": {},
   "outputs": [],
   "source": [
    "x,y = prepare_mnist_features_and_labels(x,y)"
   ]
  },
  {
   "cell_type": "code",
   "execution_count": 5,
   "metadata": {},
   "outputs": [],
   "source": [
    "xt,yt = prepare_mnist_features_and_labels(xt,yt)"
   ]
  },
  {
   "cell_type": "code",
   "execution_count": 6,
   "metadata": {},
   "outputs": [
    {
     "name": "stdout",
     "output_type": "stream",
     "text": [
      "<class 'tensorflow.python.framework.ops.EagerTensor'>\n"
     ]
    }
   ],
   "source": [
    "print(type(x))"
   ]
  },
  {
   "cell_type": "code",
   "execution_count": 7,
   "metadata": {},
   "outputs": [],
   "source": [
    "x = tf.reshape(x , shape=(60000,784,))"
   ]
  },
  {
   "cell_type": "code",
   "execution_count": 19,
   "metadata": {},
   "outputs": [
    {
     "data": {
      "text/plain": [
       "10000"
      ]
     },
     "execution_count": 19,
     "metadata": {},
     "output_type": "execute_result"
    }
   ],
   "source": [
    "len(xt)"
   ]
  },
  {
   "cell_type": "code",
   "execution_count": 12,
   "metadata": {},
   "outputs": [
    {
     "name": "stdout",
     "output_type": "stream",
     "text": [
      "Epoch 1/10\n",
      "469/469 [==============================] - 1s 2ms/step - loss: 0.3367 - accuracy: 0.9056\n",
      "Epoch 2/10\n",
      "469/469 [==============================] - 1s 2ms/step - loss: 0.1417 - accuracy: 0.9581\n",
      "Epoch 3/10\n",
      "469/469 [==============================] - 1s 2ms/step - loss: 0.1004 - accuracy: 0.9704\n",
      "Epoch 4/10\n",
      "469/469 [==============================] - 1s 2ms/step - loss: 0.0767 - accuracy: 0.9767\n",
      "Epoch 5/10\n",
      "469/469 [==============================] - 1s 2ms/step - loss: 0.0632 - accuracy: 0.9800\n",
      "Epoch 6/10\n",
      "469/469 [==============================] - 1s 2ms/step - loss: 0.0523 - accuracy: 0.9838\n",
      "Epoch 7/10\n",
      "469/469 [==============================] - 1s 2ms/step - loss: 0.0425 - accuracy: 0.9867\n",
      "Epoch 8/10\n",
      "469/469 [==============================] - 1s 2ms/step - loss: 0.0345 - accuracy: 0.9891\n",
      "Epoch 9/10\n",
      "469/469 [==============================] - 1s 2ms/step - loss: 0.0292 - accuracy: 0.9908\n",
      "Epoch 10/10\n",
      "469/469 [==============================] - 1s 2ms/step - loss: 0.0231 - accuracy: 0.9929\n"
     ]
    },
    {
     "data": {
      "text/plain": [
       "<tensorflow.python.keras.callbacks.History at 0x7f281c4a8128>"
      ]
     },
     "execution_count": 12,
     "metadata": {},
     "output_type": "execute_result"
    }
   ],
   "source": [
    "model.fit(x, y, epochs=10, batch_size=128, verbose=1)\n",
    "# evaluate the model\n",
    "\n"
   ]
  },
  {
   "cell_type": "code",
   "execution_count": 13,
   "metadata": {},
   "outputs": [
    {
     "name": "stdout",
     "output_type": "stream",
     "text": [
      "313/313 [==============================] - 0s 1ms/step - loss: 0.0766 - accuracy: 0.9787\n",
      "Accuracy: 0.979\n"
     ]
    }
   ],
   "source": [
    "loss, acc = model.evaluate(tf.reshape(xt, shape=(10000,784,)), yt, verbose=1)\n",
    "print('Accuracy: %.3f' % acc)"
   ]
  },
  {
   "cell_type": "code",
   "execution_count": 1,
   "metadata": {},
   "outputs": [],
   "source": [
    "import tensorflow as tf\n",
    "import tensorflow.keras as keras"
   ]
  },
  {
   "cell_type": "code",
   "execution_count": 2,
   "metadata": {},
   "outputs": [],
   "source": [
    "\n",
    "x_in = keras.Input(784,)\n",
    "\n",
    "d1 = keras.layers.Dense(100 , activation= 'relu')(x_in)\n",
    "d2 = keras.layers.Dense(100 , activation= 'relu')(d1)\n",
    "x_out = keras.layers.Dense(10, activation= 'softmax')(d2)"
   ]
  },
  {
   "cell_type": "code",
   "execution_count": 3,
   "metadata": {},
   "outputs": [],
   "source": [
    "model = keras.Model(inputs=x_in, outputs=x_out)"
   ]
  },
  {
   "cell_type": "code",
   "execution_count": 4,
   "metadata": {},
   "outputs": [
    {
     "name": "stdout",
     "output_type": "stream",
     "text": [
      "Model: \"functional_1\"\n",
      "_________________________________________________________________\n",
      "Layer (type)                 Output Shape              Param #   \n",
      "=================================================================\n",
      "input_1 (InputLayer)         [(None, 784)]             0         \n",
      "_________________________________________________________________\n",
      "dense (Dense)                (None, 100)               78500     \n",
      "_________________________________________________________________\n",
      "dense_1 (Dense)              (None, 100)               10100     \n",
      "_________________________________________________________________\n",
      "dense_2 (Dense)              (None, 10)                1010      \n",
      "=================================================================\n",
      "Total params: 89,610\n",
      "Trainable params: 89,610\n",
      "Non-trainable params: 0\n",
      "_________________________________________________________________\n"
     ]
    }
   ],
   "source": [
    "model.summary()"
   ]
  },
  {
   "cell_type": "code",
   "execution_count": 5,
   "metadata": {},
   "outputs": [],
   "source": [
    "from tensorflow.keras.utils import plot_model"
   ]
  },
  {
   "cell_type": "code",
   "execution_count": 8,
   "metadata": {},
   "outputs": [
    {
     "data": {
      "image/png": "[encoded data removed]",
      "text/plain": [
       "<IPython.core.display.Image object>"
      ]
     },
     "execution_count": 8,
     "metadata": {},
     "output_type": "execute_result"
    }
   ],
   "source": [
    "plot_model(model,'a.png',show_shapes= True)"
   ]
  },
  {
   "cell_type": "code",
   "execution_count": 17,
   "metadata": {},
   "outputs": [
    {
     "name": "stdout",
     "output_type": "stream",
     "text": [
      "Collecting pydot\n",
      "  Downloading pydot-1.4.1-py2.py3-none-any.whl (19 kB)\n",
      "Requirement already satisfied: pyparsing>=2.1.4 in /home/vimal/anaconda3/lib/python3.7/site-packages (from pydot) (2.3.1)\n",
      "Installing collected packages: pydot\n",
      "Successfully installed pydot-1.4.1\n",
      "\u001b[33mWARNING: You are using pip version 20.1.1; however, version 20.2.2 is available.\n",
      "You should consider upgrading via the '/home/vimal/anaconda3/bin/python -m pip install --upgrade pip' command.\u001b[0m\n"
     ]
    }
   ],
   "source": [
    "!pip install pydot"
   ]
  },
  {
   "cell_type": "code",
   "execution_count": 1,
   "metadata": {},
   "outputs": [
    {
     "name": "stdout",
     "output_type": "stream",
     "text": [
      "(235, 34) (116, 34) (235,) (116,)\n",
      "Test Accuracy: 0.940\n",
      "Predicted: 0.992\n"
     ]
    }
   ],
   "source": [
    "# mlp for binary classification\n",
    "from pandas import read_csv\n",
    "from sklearn.model_selection import train_test_split\n",
    "from sklearn.preprocessing import LabelEncoder\n",
    "from tensorflow.keras import Sequential\n",
    "from tensorflow.keras.layers import Dense\n",
    "# load the dataset\n",
    "path = 'https://raw.githubusercontent.com/jbrownlee/Datasets/master/ionosphere.csv'\n",
    "df = read_csv(path, header=None)\n",
    "# split into input and output columns\n",
    "X, y = df.values[:, :-1], df.values[:, -1]\n",
    "# ensure all data are floating point values\n",
    "X = X.astype('float32')\n",
    "# encode strings to integer\n",
    "y = LabelEncoder().fit_transform(y)\n",
    "# split into train and test datasets\n",
    "X_train, X_test, y_train, y_test = train_test_split(X, y, test_size=0.33)\n",
    "print(X_train.shape, X_test.shape, y_train.shape, y_test.shape)\n",
    "# determine the number of input features\n",
    "n_features = X_train.shape[1]\n",
    "# define model\n",
    "model = Sequential()\n",
    "model.add(Dense(10, activation='relu', kernel_initializer='he_normal', input_shape=(n_features,)))\n",
    "model.add(Dense(8, activation='relu', kernel_initializer='he_normal'))\n",
    "model.add(Dense(1, activation='sigmoid'))\n",
    "# compile the model\n",
    "model.compile(optimizer='adam', loss='binary_crossentropy', metrics=['accuracy'])\n",
    "# fit the model\n",
    "model.fit(X_train, y_train, epochs=150, batch_size=32, verbose=0)\n",
    "# evaluate the model\n",
    "loss, acc = model.evaluate(X_test, y_test, verbose=0)\n",
    "print('Test Accuracy: %.3f' % acc)\n",
    "# make a prediction\n",
    "row = [1,0,0.99539,-0.05889,0.85243,0.02306,0.83398,-0.37708,1,0.03760,0.85243,-0.17755,0.59755,-0.44945,0.60536,-0.38223,0.84356,-0.38542,0.58212,-0.32192,0.56971,-0.29674,0.36946,-0.47357,0.56811,-0.51171,0.41078,-0.46168,0.21266,-0.34090,0.42267,-0.54487,0.18641,-0.45300]\n",
    "yhat = model.predict([row])\n",
    "print('Predicted: %.3f' % yhat)"
   ]
  },
  {
   "cell_type": "code",
   "execution_count": 1,
   "metadata": {},
   "outputs": [],
   "source": [
    "import pandas as pd\n",
    "from sklearn.model_selection import train_test_split\n",
    "from sklearn.preprocessing import LabelEncoder\n",
    "from tensorflow import keras\n",
    "from tensorflow.keras.utils import to_categorical"
   ]
  },
  {
   "cell_type": "code",
   "execution_count": 2,
   "metadata": {},
   "outputs": [],
   "source": [
    "path = 'https://raw.githubusercontent.com/jbrownlee/Datasets/master/ionosphere.csv'\n",
    "df = pd.read_csv(path, header=None)"
   ]
  },
  {
   "cell_type": "code",
   "execution_count": 2,
   "metadata": {},
   "outputs": [],
   "source": [
    "path = 'https://raw.githubusercontent.com/jbrownlee/Datasets/master/iris.csv'\n",
    "df = pd.read_csv(path, header=None)"
   ]
  },
  {
   "cell_type": "code",
   "execution_count": 3,
   "metadata": {},
   "outputs": [
    {
     "data": {
      "text/html": [
       "<div>\n",
       "<style scoped>\n",
       "    .dataframe tbody tr th:only-of-type {\n",
       "        vertical-align: middle;\n",
       "    }\n",
       "\n",
       "    .dataframe tbody tr th {\n",
       "        vertical-align: top;\n",
       "    }\n",
       "\n",
       "    .dataframe thead th {\n",
       "        text-align: right;\n",
       "    }\n",
       "</style>\n",
       "<table border=\"1\" class=\"dataframe\">\n",
       "  <thead>\n",
       "    <tr style=\"text-align: right;\">\n",
       "      <th></th>\n",
       "      <th>0</th>\n",
       "      <th>1</th>\n",
       "      <th>2</th>\n",
       "      <th>3</th>\n",
       "      <th>4</th>\n",
       "    </tr>\n",
       "  </thead>\n",
       "  <tbody>\n",
       "    <tr>\n",
       "      <th>0</th>\n",
       "      <td>5.1</td>\n",
       "      <td>3.5</td>\n",
       "      <td>1.4</td>\n",
       "      <td>0.2</td>\n",
       "      <td>Iris-setosa</td>\n",
       "    </tr>\n",
       "    <tr>\n",
       "      <th>1</th>\n",
       "      <td>4.9</td>\n",
       "      <td>3.0</td>\n",
       "      <td>1.4</td>\n",
       "      <td>0.2</td>\n",
       "      <td>Iris-setosa</td>\n",
       "    </tr>\n",
       "    <tr>\n",
       "      <th>2</th>\n",
       "      <td>4.7</td>\n",
       "      <td>3.2</td>\n",
       "      <td>1.3</td>\n",
       "      <td>0.2</td>\n",
       "      <td>Iris-setosa</td>\n",
       "    </tr>\n",
       "    <tr>\n",
       "      <th>3</th>\n",
       "      <td>4.6</td>\n",
       "      <td>3.1</td>\n",
       "      <td>1.5</td>\n",
       "      <td>0.2</td>\n",
       "      <td>Iris-setosa</td>\n",
       "    </tr>\n",
       "    <tr>\n",
       "      <th>4</th>\n",
       "      <td>5.0</td>\n",
       "      <td>3.6</td>\n",
       "      <td>1.4</td>\n",
       "      <td>0.2</td>\n",
       "      <td>Iris-setosa</td>\n",
       "    </tr>\n",
       "  </tbody>\n",
       "</table>\n",
       "</div>"
      ],
      "text/plain": [
       "     0    1    2    3            4\n",
       "0  5.1  3.5  1.4  0.2  Iris-setosa\n",
       "1  4.9  3.0  1.4  0.2  Iris-setosa\n",
       "2  4.7  3.2  1.3  0.2  Iris-setosa\n",
       "3  4.6  3.1  1.5  0.2  Iris-setosa\n",
       "4  5.0  3.6  1.4  0.2  Iris-setosa"
      ]
     },
     "execution_count": 3,
     "metadata": {},
     "output_type": "execute_result"
    }
   ],
   "source": [
    "df.head()"
   ]
  },
  {
   "cell_type": "code",
   "execution_count": 4,
   "metadata": {},
   "outputs": [
    {
     "name": "stdout",
     "output_type": "stream",
     "text": [
      "(100, 4) (50, 4) (100,) (50,)\n"
     ]
    }
   ],
   "source": [
    "X, y = df.values[:, :-1], df.values[:, -1]\n",
    "# ensure all data are floating point values\n",
    "X = X.astype('float32')\n",
    "# encode strings to integer\n",
    "y = LabelEncoder().fit_transform(y)\n",
    "# split into train and test datasets\n",
    "X_train, X_test, y_train, y_test = train_test_split(X, y, test_size=0.33)\n",
    "print(X_train.shape, X_test.shape, y_train.shape, y_test.shape)\n",
    "# determine the number of input features\n",
    "n_features = X_train.shape[1]"
   ]
  },
  {
   "cell_type": "code",
   "execution_count": 5,
   "metadata": {},
   "outputs": [
    {
     "data": {
      "text/plain": [
       "4"
      ]
     },
     "execution_count": 5,
     "metadata": {},
     "output_type": "execute_result"
    }
   ],
   "source": [
    "n_features"
   ]
  },
  {
   "cell_type": "code",
   "execution_count": 6,
   "metadata": {},
   "outputs": [
    {
     "data": {
      "text/plain": [
       "array([0, 0, 0, 0, 0, 0, 0, 0, 0, 0, 0, 0, 0, 0, 0, 0, 0, 0, 0, 0, 0, 0,\n",
       "       0, 0, 0, 0, 0, 0, 0, 0, 0, 0, 0, 0, 0, 0, 0, 0, 0, 0, 0, 0, 0, 0,\n",
       "       0, 0, 0, 0, 0, 0, 1, 1, 1, 1, 1, 1, 1, 1, 1, 1, 1, 1, 1, 1, 1, 1,\n",
       "       1, 1, 1, 1, 1, 1, 1, 1, 1, 1, 1, 1, 1, 1, 1, 1, 1, 1, 1, 1, 1, 1,\n",
       "       1, 1, 1, 1, 1, 1, 1, 1, 1, 1, 1, 1, 2, 2, 2, 2, 2, 2, 2, 2, 2, 2,\n",
       "       2, 2, 2, 2, 2, 2, 2, 2, 2, 2, 2, 2, 2, 2, 2, 2, 2, 2, 2, 2, 2, 2,\n",
       "       2, 2, 2, 2, 2, 2, 2, 2, 2, 2, 2, 2, 2, 2, 2, 2, 2, 2])"
      ]
     },
     "execution_count": 6,
     "metadata": {},
     "output_type": "execute_result"
    }
   ],
   "source": [
    "y"
   ]
  },
  {
   "cell_type": "code",
   "execution_count": 7,
   "metadata": {},
   "outputs": [],
   "source": [
    "model = keras.Sequential()\n",
    "model.add(keras.layers.Dense(20 , activation = 'relu',input_shape = (4,), kernel_initializer = 'he_normal' ))\n",
    "model.add(keras.layers.Dense(10,  activation = 'relu' , kernel_initializer= 'he_normal'))\n",
    "model.add(keras.layers.Dense(3 , activation = 'softmax'))\n"
   ]
  },
  {
   "cell_type": "code",
   "execution_count": 9,
   "metadata": {},
   "outputs": [],
   "source": [
    "model.compile(loss = 'sparse_categorical_crossentropy' , optimizer='adam' , metrics = ['mse'])"
   ]
  },
  {
   "cell_type": "code",
   "execution_count": 10,
   "metadata": {},
   "outputs": [
    {
     "name": "stdout",
     "output_type": "stream",
     "text": [
      "Epoch 1/200\n",
      "2/2 [==============================] - 0s 2ms/step - loss: 1.3192 - mse: 1.1813\n",
      "Epoch 2/200\n",
      "2/2 [==============================] - 0s 1ms/step - loss: 1.2731 - mse: 1.1787\n",
      "Epoch 3/200\n",
      "2/2 [==============================] - 0s 1ms/step - loss: 1.2356 - mse: 1.1760\n",
      "Epoch 4/200\n",
      "2/2 [==============================] - 0s 2ms/step - loss: 1.1931 - mse: 1.1732\n",
      "Epoch 5/200\n",
      "2/2 [==============================] - 0s 1ms/step - loss: 1.1589 - mse: 1.1705\n",
      "Epoch 6/200\n",
      "2/2 [==============================] - 0s 2ms/step - loss: 1.1270 - mse: 1.1678\n",
      "Epoch 7/200\n",
      "2/2 [==============================] - 0s 2ms/step - loss: 1.0987 - mse: 1.1651\n",
      "Epoch 8/200\n",
      "2/2 [==============================] - 0s 3ms/step - loss: 1.0644 - mse: 1.1626\n",
      "Epoch 9/200\n",
      "2/2 [==============================] - 0s 4ms/step - loss: 1.0424 - mse: 1.1604\n",
      "Epoch 10/200\n",
      "2/2 [==============================] - 0s 993us/step - loss: 1.0177 - mse: 1.1584\n",
      "Epoch 11/200\n",
      "2/2 [==============================] - 0s 3ms/step - loss: 0.9972 - mse: 1.1567\n",
      "Epoch 12/200\n",
      "2/2 [==============================] - 0s 1ms/step - loss: 0.9787 - mse: 1.1553\n",
      "Epoch 13/200\n",
      "2/2 [==============================] - 0s 1ms/step - loss: 0.9617 - mse: 1.1544\n",
      "Epoch 14/200\n",
      "2/2 [==============================] - 0s 1ms/step - loss: 0.9476 - mse: 1.1537\n",
      "Epoch 15/200\n",
      "2/2 [==============================] - 0s 2ms/step - loss: 0.9374 - mse: 1.1535\n",
      "Epoch 16/200\n",
      "2/2 [==============================] - 0s 1ms/step - loss: 0.9281 - mse: 1.1537\n",
      "Epoch 17/200\n",
      "2/2 [==============================] - 0s 2ms/step - loss: 0.9180 - mse: 1.1542\n",
      "Epoch 18/200\n",
      "2/2 [==============================] - 0s 971us/step - loss: 0.9126 - mse: 1.1549\n",
      "Epoch 19/200\n",
      "2/2 [==============================] - 0s 2ms/step - loss: 0.9072 - mse: 1.1558\n",
      "Epoch 20/200\n",
      "2/2 [==============================] - 0s 1ms/step - loss: 0.9020 - mse: 1.1568\n",
      "Epoch 21/200\n",
      "2/2 [==============================] - 0s 2ms/step - loss: 0.8984 - mse: 1.1577\n",
      "Epoch 22/200\n",
      "2/2 [==============================] - 0s 1ms/step - loss: 0.8948 - mse: 1.1587\n",
      "Epoch 23/200\n",
      "2/2 [==============================] - 0s 3ms/step - loss: 0.8916 - mse: 1.1595\n",
      "Epoch 24/200\n",
      "2/2 [==============================] - 0s 4ms/step - loss: 0.8885 - mse: 1.1601\n",
      "Epoch 25/200\n",
      "2/2 [==============================] - 0s 2ms/step - loss: 0.8849 - mse: 1.1607\n",
      "Epoch 26/200\n",
      "2/2 [==============================] - 0s 1ms/step - loss: 0.8807 - mse: 1.1611\n",
      "Epoch 27/200\n",
      "2/2 [==============================] - 0s 1ms/step - loss: 0.8768 - mse: 1.1613\n",
      "Epoch 28/200\n",
      "2/2 [==============================] - 0s 3ms/step - loss: 0.8723 - mse: 1.1614\n",
      "Epoch 29/200\n",
      "2/2 [==============================] - 0s 1ms/step - loss: 0.8677 - mse: 1.1614\n",
      "Epoch 30/200\n",
      "2/2 [==============================] - 0s 1ms/step - loss: 0.8633 - mse: 1.1614\n",
      "Epoch 31/200\n",
      "2/2 [==============================] - 0s 1ms/step - loss: 0.8585 - mse: 1.1615\n",
      "Epoch 32/200\n",
      "2/2 [==============================] - 0s 3ms/step - loss: 0.8542 - mse: 1.1615\n",
      "Epoch 33/200\n",
      "2/2 [==============================] - 0s 1ms/step - loss: 0.8500 - mse: 1.1615\n",
      "Epoch 34/200\n",
      "2/2 [==============================] - 0s 2ms/step - loss: 0.8452 - mse: 1.1617\n",
      "Epoch 35/200\n",
      "2/2 [==============================] - 0s 2ms/step - loss: 0.8409 - mse: 1.1619\n",
      "Epoch 36/200\n",
      "2/2 [==============================] - 0s 2ms/step - loss: 0.8365 - mse: 1.1621\n",
      "Epoch 37/200\n",
      "2/2 [==============================] - 0s 2ms/step - loss: 0.8318 - mse: 1.1624\n",
      "Epoch 38/200\n",
      "2/2 [==============================] - 0s 5ms/step - loss: 0.8270 - mse: 1.1628\n",
      "Epoch 39/200\n",
      "2/2 [==============================] - 0s 2ms/step - loss: 0.8221 - mse: 1.1633\n",
      "Epoch 40/200\n",
      "2/2 [==============================] - 0s 4ms/step - loss: 0.8171 - mse: 1.1639\n",
      "Epoch 41/200\n",
      "2/2 [==============================] - 0s 3ms/step - loss: 0.8121 - mse: 1.1644\n",
      "Epoch 42/200\n",
      "2/2 [==============================] - 0s 2ms/step - loss: 0.8072 - mse: 1.1650\n",
      "Epoch 43/200\n",
      "2/2 [==============================] - 0s 2ms/step - loss: 0.8021 - mse: 1.1656\n",
      "Epoch 44/200\n",
      "2/2 [==============================] - 0s 2ms/step - loss: 0.7970 - mse: 1.1662\n",
      "Epoch 45/200\n",
      "2/2 [==============================] - 0s 1ms/step - loss: 0.7922 - mse: 1.1667\n",
      "Epoch 46/200\n",
      "2/2 [==============================] - 0s 2ms/step - loss: 0.7869 - mse: 1.1673\n",
      "Epoch 47/200\n",
      "2/2 [==============================] - 0s 1ms/step - loss: 0.7816 - mse: 1.1679\n",
      "Epoch 48/200\n",
      "2/2 [==============================] - 0s 2ms/step - loss: 0.7762 - mse: 1.1685\n",
      "Epoch 49/200\n",
      "2/2 [==============================] - 0s 3ms/step - loss: 0.7707 - mse: 1.1690\n",
      "Epoch 50/200\n",
      "2/2 [==============================] - 0s 1ms/step - loss: 0.7654 - mse: 1.1695\n",
      "Epoch 51/200\n",
      "2/2 [==============================] - 0s 2ms/step - loss: 0.7597 - mse: 1.1700\n",
      "Epoch 52/200\n",
      "2/2 [==============================] - 0s 2ms/step - loss: 0.7543 - mse: 1.1705\n",
      "Epoch 53/200\n",
      "2/2 [==============================] - 0s 973us/step - loss: 0.7491 - mse: 1.1710\n",
      "Epoch 54/200\n",
      "2/2 [==============================] - 0s 1ms/step - loss: 0.7431 - mse: 1.1716\n",
      "Epoch 55/200\n",
      "2/2 [==============================] - 0s 2ms/step - loss: 0.7377 - mse: 1.1725\n",
      "Epoch 56/200\n",
      "2/2 [==============================] - 0s 2ms/step - loss: 0.7320 - mse: 1.1733\n",
      "Epoch 57/200\n",
      "2/2 [==============================] - 0s 1ms/step - loss: 0.7262 - mse: 1.1742\n",
      "Epoch 58/200\n",
      "2/2 [==============================] - 0s 5ms/step - loss: 0.7207 - mse: 1.1752\n",
      "Epoch 59/200\n",
      "2/2 [==============================] - 0s 3ms/step - loss: 0.7153 - mse: 1.1762\n",
      "Epoch 60/200\n",
      "2/2 [==============================] - 0s 3ms/step - loss: 0.7095 - mse: 1.1771\n",
      "Epoch 61/200\n",
      "2/2 [==============================] - 0s 3ms/step - loss: 0.7037 - mse: 1.1778\n",
      "Epoch 62/200\n",
      "2/2 [==============================] - 0s 2ms/step - loss: 0.6979 - mse: 1.1785\n",
      "Epoch 63/200\n",
      "2/2 [==============================] - 0s 2ms/step - loss: 0.6923 - mse: 1.1792\n",
      "Epoch 64/200\n",
      "2/2 [==============================] - 0s 1ms/step - loss: 0.6865 - mse: 1.1799\n",
      "Epoch 65/200\n",
      "2/2 [==============================] - 0s 2ms/step - loss: 0.6807 - mse: 1.1806\n",
      "Epoch 66/200\n",
      "2/2 [==============================] - 0s 3ms/step - loss: 0.6754 - mse: 1.1813\n",
      "Epoch 67/200\n",
      "2/2 [==============================] - 0s 1ms/step - loss: 0.6693 - mse: 1.1822\n",
      "Epoch 68/200\n",
      "2/2 [==============================] - 0s 3ms/step - loss: 0.6638 - mse: 1.1829\n",
      "Epoch 69/200\n",
      "2/2 [==============================] - 0s 3ms/step - loss: 0.6581 - mse: 1.1837\n",
      "Epoch 70/200\n",
      "2/2 [==============================] - 0s 1ms/step - loss: 0.6524 - mse: 1.1846\n",
      "Epoch 71/200\n",
      "2/2 [==============================] - 0s 1ms/step - loss: 0.6469 - mse: 1.1854\n",
      "Epoch 72/200\n",
      "2/2 [==============================] - 0s 2ms/step - loss: 0.6411 - mse: 1.1864\n",
      "Epoch 73/200\n",
      "2/2 [==============================] - 0s 3ms/step - loss: 0.6356 - mse: 1.1873\n",
      "Epoch 74/200\n",
      "2/2 [==============================] - 0s 6ms/step - loss: 0.6300 - mse: 1.1883\n",
      "Epoch 75/200\n",
      "2/2 [==============================] - 0s 1ms/step - loss: 0.6248 - mse: 1.1892\n",
      "Epoch 76/200\n",
      "2/2 [==============================] - 0s 1ms/step - loss: 0.6192 - mse: 1.1902\n",
      "Epoch 77/200\n",
      "2/2 [==============================] - 0s 1ms/step - loss: 0.6137 - mse: 1.1911\n",
      "Epoch 78/200\n",
      "2/2 [==============================] - 0s 2ms/step - loss: 0.6083 - mse: 1.1921\n",
      "Epoch 79/200\n",
      "2/2 [==============================] - 0s 2ms/step - loss: 0.6031 - mse: 1.1931\n",
      "Epoch 80/200\n",
      "2/2 [==============================] - 0s 2ms/step - loss: 0.5976 - mse: 1.1942\n",
      "Epoch 81/200\n",
      "2/2 [==============================] - 0s 2ms/step - loss: 0.5922 - mse: 1.1952\n",
      "Epoch 82/200\n",
      "2/2 [==============================] - 0s 2ms/step - loss: 0.5868 - mse: 1.1964\n",
      "Epoch 83/200\n",
      "2/2 [==============================] - 0s 2ms/step - loss: 0.5816 - mse: 1.1974\n",
      "Epoch 84/200\n",
      "2/2 [==============================] - 0s 1ms/step - loss: 0.5764 - mse: 1.1987\n",
      "Epoch 85/200\n",
      "2/2 [==============================] - 0s 1ms/step - loss: 0.5711 - mse: 1.1999\n",
      "Epoch 86/200\n",
      "2/2 [==============================] - 0s 4ms/step - loss: 0.5661 - mse: 1.2009\n",
      "Epoch 87/200\n",
      "2/2 [==============================] - 0s 3ms/step - loss: 0.5610 - mse: 1.2021\n",
      "Epoch 88/200\n",
      "2/2 [==============================] - 0s 2ms/step - loss: 0.5560 - mse: 1.2031\n",
      "Epoch 89/200\n"
     ]
    },
    {
     "name": "stdout",
     "output_type": "stream",
     "text": [
      "2/2 [==============================] - 0s 2ms/step - loss: 0.5512 - mse: 1.2041\n",
      "Epoch 90/200\n",
      "2/2 [==============================] - 0s 2ms/step - loss: 0.5466 - mse: 1.2050\n",
      "Epoch 91/200\n",
      "2/2 [==============================] - 0s 1ms/step - loss: 0.5421 - mse: 1.2058\n",
      "Epoch 92/200\n",
      "2/2 [==============================] - 0s 4ms/step - loss: 0.5377 - mse: 1.2067\n",
      "Epoch 93/200\n",
      "2/2 [==============================] - 0s 1ms/step - loss: 0.5334 - mse: 1.2076\n",
      "Epoch 94/200\n",
      "2/2 [==============================] - 0s 3ms/step - loss: 0.5292 - mse: 1.2087\n",
      "Epoch 95/200\n",
      "2/2 [==============================] - 0s 3ms/step - loss: 0.5253 - mse: 1.2098\n",
      "Epoch 96/200\n",
      "2/2 [==============================] - 0s 1ms/step - loss: 0.5211 - mse: 1.2108\n",
      "Epoch 97/200\n",
      "2/2 [==============================] - 0s 2ms/step - loss: 0.5171 - mse: 1.2117\n",
      "Epoch 98/200\n",
      "2/2 [==============================] - 0s 1ms/step - loss: 0.5133 - mse: 1.2125\n",
      "Epoch 99/200\n",
      "2/2 [==============================] - 0s 2ms/step - loss: 0.5094 - mse: 1.2133\n",
      "Epoch 100/200\n",
      "2/2 [==============================] - 0s 3ms/step - loss: 0.5057 - mse: 1.2142\n",
      "Epoch 101/200\n",
      "2/2 [==============================] - 0s 1ms/step - loss: 0.5020 - mse: 1.2150\n",
      "Epoch 102/200\n",
      "2/2 [==============================] - 0s 2ms/step - loss: 0.4984 - mse: 1.2159\n",
      "Epoch 103/200\n",
      "2/2 [==============================] - 0s 4ms/step - loss: 0.4949 - mse: 1.2167\n",
      "Epoch 104/200\n",
      "2/2 [==============================] - 0s 2ms/step - loss: 0.4914 - mse: 1.2175\n",
      "Epoch 105/200\n",
      "2/2 [==============================] - 0s 2ms/step - loss: 0.4879 - mse: 1.2183\n",
      "Epoch 106/200\n",
      "2/2 [==============================] - 0s 3ms/step - loss: 0.4845 - mse: 1.2191\n",
      "Epoch 107/200\n",
      "2/2 [==============================] - 0s 2ms/step - loss: 0.4812 - mse: 1.2198\n",
      "Epoch 108/200\n",
      "2/2 [==============================] - 0s 2ms/step - loss: 0.4783 - mse: 1.2204\n",
      "Epoch 109/200\n",
      "2/2 [==============================] - 0s 2ms/step - loss: 0.4750 - mse: 1.2212\n",
      "Epoch 110/200\n",
      "2/2 [==============================] - 0s 1ms/step - loss: 0.4718 - mse: 1.2221\n",
      "Epoch 111/200\n",
      "2/2 [==============================] - 0s 2ms/step - loss: 0.4687 - mse: 1.2229\n",
      "Epoch 112/200\n",
      "2/2 [==============================] - 0s 5ms/step - loss: 0.4658 - mse: 1.2236\n",
      "Epoch 113/200\n",
      "2/2 [==============================] - 0s 2ms/step - loss: 0.4628 - mse: 1.2244\n",
      "Epoch 114/200\n",
      "2/2 [==============================] - 0s 2ms/step - loss: 0.4598 - mse: 1.2254\n",
      "Epoch 115/200\n",
      "2/2 [==============================] - 0s 2ms/step - loss: 0.4569 - mse: 1.2262\n",
      "Epoch 116/200\n",
      "2/2 [==============================] - 0s 2ms/step - loss: 0.4541 - mse: 1.2269\n",
      "Epoch 117/200\n",
      "2/2 [==============================] - 0s 1ms/step - loss: 0.4513 - mse: 1.2277\n",
      "Epoch 118/200\n",
      "2/2 [==============================] - 0s 1ms/step - loss: 0.4485 - mse: 1.2283\n",
      "Epoch 119/200\n",
      "2/2 [==============================] - 0s 2ms/step - loss: 0.4458 - mse: 1.2289\n",
      "Epoch 120/200\n",
      "2/2 [==============================] - 0s 2ms/step - loss: 0.4433 - mse: 1.2295\n",
      "Epoch 121/200\n",
      "2/2 [==============================] - 0s 3ms/step - loss: 0.4407 - mse: 1.2301\n",
      "Epoch 122/200\n",
      "2/2 [==============================] - 0s 3ms/step - loss: 0.4380 - mse: 1.2309\n",
      "Epoch 123/200\n",
      "2/2 [==============================] - 0s 2ms/step - loss: 0.4355 - mse: 1.2317\n",
      "Epoch 124/200\n",
      "2/2 [==============================] - 0s 1ms/step - loss: 0.4330 - mse: 1.2325\n",
      "Epoch 125/200\n",
      "2/2 [==============================] - 0s 4ms/step - loss: 0.4308 - mse: 1.2332\n",
      "Epoch 126/200\n",
      "2/2 [==============================] - 0s 3ms/step - loss: 0.4280 - mse: 1.2339\n",
      "Epoch 127/200\n",
      "2/2 [==============================] - 0s 2ms/step - loss: 0.4258 - mse: 1.2343\n",
      "Epoch 128/200\n",
      "2/2 [==============================] - 0s 2ms/step - loss: 0.4233 - mse: 1.2347\n",
      "Epoch 129/200\n",
      "2/2 [==============================] - 0s 2ms/step - loss: 0.4208 - mse: 1.2353\n",
      "Epoch 130/200\n",
      "2/2 [==============================] - 0s 2ms/step - loss: 0.4186 - mse: 1.2359\n",
      "Epoch 131/200\n",
      "2/2 [==============================] - 0s 3ms/step - loss: 0.4163 - mse: 1.2365\n",
      "Epoch 132/200\n",
      "2/2 [==============================] - 0s 2ms/step - loss: 0.4139 - mse: 1.2370\n",
      "Epoch 133/200\n",
      "2/2 [==============================] - 0s 2ms/step - loss: 0.4119 - mse: 1.2374\n",
      "Epoch 134/200\n",
      "2/2 [==============================] - 0s 2ms/step - loss: 0.4096 - mse: 1.2379\n",
      "Epoch 135/200\n",
      "2/2 [==============================] - 0s 5ms/step - loss: 0.4075 - mse: 1.2385\n",
      "Epoch 136/200\n",
      "2/2 [==============================] - 0s 2ms/step - loss: 0.4053 - mse: 1.2390\n",
      "Epoch 137/200\n",
      "2/2 [==============================] - 0s 3ms/step - loss: 0.4031 - mse: 1.2396\n",
      "Epoch 138/200\n",
      "2/2 [==============================] - 0s 2ms/step - loss: 0.4010 - mse: 1.2401\n",
      "Epoch 139/200\n",
      "2/2 [==============================] - 0s 1ms/step - loss: 0.3992 - mse: 1.2405\n",
      "Epoch 140/200\n",
      "2/2 [==============================] - 0s 2ms/step - loss: 0.3969 - mse: 1.2410\n",
      "Epoch 141/200\n",
      "2/2 [==============================] - 0s 1ms/step - loss: 0.3948 - mse: 1.2417\n",
      "Epoch 142/200\n",
      "2/2 [==============================] - 0s 2ms/step - loss: 0.3928 - mse: 1.2423\n",
      "Epoch 143/200\n",
      "2/2 [==============================] - 0s 2ms/step - loss: 0.3907 - mse: 1.2429\n",
      "Epoch 144/200\n",
      "2/2 [==============================] - 0s 3ms/step - loss: 0.3888 - mse: 1.2435\n",
      "Epoch 145/200\n",
      "2/2 [==============================] - 0s 2ms/step - loss: 0.3868 - mse: 1.2442\n",
      "Epoch 146/200\n",
      "2/2 [==============================] - 0s 3ms/step - loss: 0.3849 - mse: 1.2449\n",
      "Epoch 147/200\n",
      "2/2 [==============================] - 0s 2ms/step - loss: 0.3830 - mse: 1.2454\n",
      "Epoch 148/200\n",
      "2/2 [==============================] - 0s 3ms/step - loss: 0.3812 - mse: 1.2460\n",
      "Epoch 149/200\n",
      "2/2 [==============================] - 0s 1ms/step - loss: 0.3791 - mse: 1.2464\n",
      "Epoch 150/200\n",
      "2/2 [==============================] - 0s 4ms/step - loss: 0.3771 - mse: 1.2467\n",
      "Epoch 151/200\n",
      "2/2 [==============================] - 0s 4ms/step - loss: 0.3755 - mse: 1.2470\n",
      "Epoch 152/200\n",
      "2/2 [==============================] - 0s 1ms/step - loss: 0.3734 - mse: 1.2473\n",
      "Epoch 153/200\n",
      "2/2 [==============================] - 0s 2ms/step - loss: 0.3715 - mse: 1.2478\n",
      "Epoch 154/200\n",
      "2/2 [==============================] - 0s 1ms/step - loss: 0.3697 - mse: 1.2482\n",
      "Epoch 155/200\n",
      "2/2 [==============================] - 0s 2ms/step - loss: 0.3680 - mse: 1.2488\n",
      "Epoch 156/200\n",
      "2/2 [==============================] - 0s 3ms/step - loss: 0.3660 - mse: 1.2493\n",
      "Epoch 157/200\n",
      "2/2 [==============================] - 0s 2ms/step - loss: 0.3642 - mse: 1.2496\n",
      "Epoch 158/200\n",
      "2/2 [==============================] - 0s 2ms/step - loss: 0.3623 - mse: 1.2499\n",
      "Epoch 159/200\n",
      "2/2 [==============================] - 0s 2ms/step - loss: 0.3605 - mse: 1.2502\n",
      "Epoch 160/200\n",
      "2/2 [==============================] - 0s 1ms/step - loss: 0.3588 - mse: 1.2506\n",
      "Epoch 161/200\n",
      "2/2 [==============================] - 0s 2ms/step - loss: 0.3570 - mse: 1.2510\n",
      "Epoch 162/200\n",
      "2/2 [==============================] - 0s 2ms/step - loss: 0.3552 - mse: 1.2513\n",
      "Epoch 163/200\n",
      "2/2 [==============================] - 0s 2ms/step - loss: 0.3537 - mse: 1.2515\n",
      "Epoch 164/200\n",
      "2/2 [==============================] - 0s 2ms/step - loss: 0.3517 - mse: 1.2519\n",
      "Epoch 165/200\n",
      "2/2 [==============================] - 0s 3ms/step - loss: 0.3500 - mse: 1.2524\n",
      "Epoch 166/200\n",
      "2/2 [==============================] - 0s 1ms/step - loss: 0.3482 - mse: 1.2530\n",
      "Epoch 167/200\n",
      "2/2 [==============================] - 0s 5ms/step - loss: 0.3465 - mse: 1.2536\n",
      "Epoch 168/200\n",
      "2/2 [==============================] - 0s 2ms/step - loss: 0.3449 - mse: 1.2541\n",
      "Epoch 169/200\n",
      "2/2 [==============================] - 0s 2ms/step - loss: 0.3431 - mse: 1.2546\n",
      "Epoch 170/200\n",
      "2/2 [==============================] - 0s 2ms/step - loss: 0.3414 - mse: 1.2551\n",
      "Epoch 171/200\n",
      "2/2 [==============================] - 0s 2ms/step - loss: 0.3398 - mse: 1.2554\n",
      "Epoch 172/200\n",
      "2/2 [==============================] - 0s 2ms/step - loss: 0.3380 - mse: 1.2557\n",
      "Epoch 173/200\n",
      "2/2 [==============================] - 0s 1ms/step - loss: 0.3363 - mse: 1.2560\n",
      "Epoch 174/200\n",
      "2/2 [==============================] - 0s 2ms/step - loss: 0.3346 - mse: 1.2564\n",
      "Epoch 175/200\n",
      "2/2 [==============================] - 0s 1ms/step - loss: 0.3329 - mse: 1.2569\n",
      "Epoch 176/200\n",
      "2/2 [==============================] - 0s 2ms/step - loss: 0.3314 - mse: 1.2573\n",
      "Epoch 177/200\n",
      "2/2 [==============================] - 0s 4ms/step - loss: 0.3296 - mse: 1.2578\n",
      "Epoch 178/200\n",
      "2/2 [==============================] - 0s 2ms/step - loss: 0.3279 - mse: 1.2581\n",
      "Epoch 179/200\n",
      "2/2 [==============================] - 0s 2ms/step - loss: 0.3262 - mse: 1.2585\n",
      "Epoch 180/200\n",
      "2/2 [==============================] - 0s 3ms/step - loss: 0.3245 - mse: 1.2588\n",
      "Epoch 181/200\n",
      "2/2 [==============================] - 0s 1ms/step - loss: 0.3229 - mse: 1.2592\n",
      "Epoch 182/200\n",
      "2/2 [==============================] - 0s 1ms/step - loss: 0.3213 - mse: 1.2596\n",
      "Epoch 183/200\n",
      "2/2 [==============================] - 0s 1ms/step - loss: 0.3196 - mse: 1.2599\n",
      "Epoch 184/200\n",
      "2/2 [==============================] - 0s 1ms/step - loss: 0.3180 - mse: 1.2603\n",
      "Epoch 185/200\n",
      "2/2 [==============================] - 0s 2ms/step - loss: 0.3163 - mse: 1.2607\n",
      "Epoch 186/200\n",
      "2/2 [==============================] - 0s 1ms/step - loss: 0.3147 - mse: 1.2609\n",
      "Epoch 187/200\n",
      "2/2 [==============================] - 0s 2ms/step - loss: 0.3130 - mse: 1.2614\n",
      "Epoch 188/200\n",
      "2/2 [==============================] - 0s 3ms/step - loss: 0.3113 - mse: 1.2618\n",
      "Epoch 189/200\n",
      "2/2 [==============================] - 0s 2ms/step - loss: 0.3097 - mse: 1.2622\n",
      "Epoch 190/200\n",
      "2/2 [==============================] - 0s 2ms/step - loss: 0.3081 - mse: 1.2625\n",
      "Epoch 191/200\n",
      "2/2 [==============================] - 0s 2ms/step - loss: 0.3065 - mse: 1.2628\n",
      "Epoch 192/200\n",
      "2/2 [==============================] - 0s 3ms/step - loss: 0.3049 - mse: 1.2632\n",
      "Epoch 193/200\n",
      "2/2 [==============================] - 0s 1ms/step - loss: 0.3033 - mse: 1.2636\n",
      "Epoch 194/200\n",
      "2/2 [==============================] - 0s 3ms/step - loss: 0.3020 - mse: 1.2639\n",
      "Epoch 195/200\n",
      "2/2 [==============================] - 0s 2ms/step - loss: 0.3001 - mse: 1.2643\n",
      "Epoch 196/200\n",
      "2/2 [==============================] - 0s 2ms/step - loss: 0.2985 - mse: 1.2645\n",
      "Epoch 197/200\n",
      "2/2 [==============================] - 0s 1ms/step - loss: 0.2971 - mse: 1.2647\n",
      "Epoch 198/200\n",
      "2/2 [==============================] - 0s 1ms/step - loss: 0.2953 - mse: 1.2652\n",
      "Epoch 199/200\n",
      "2/2 [==============================] - 0s 2ms/step - loss: 0.2938 - mse: 1.2657\n",
      "Epoch 200/200\n",
      "2/2 [==============================] - 0s 2ms/step - loss: 0.2923 - mse: 1.2663\n"
     ]
    },
    {
     "data": {
      "text/plain": [
       "<tensorflow.python.keras.callbacks.History at 0x7f75146203c8>"
      ]
     },
     "execution_count": 10,
     "metadata": {},
     "output_type": "execute_result"
    }
   ],
   "source": [
    "model.fit(X_train , y_train , epochs= 200, batch_size=64 , verbose=1)"
   ]
  },
  {
   "cell_type": "code",
   "execution_count": null,
   "metadata": {},
   "outputs": [],
   "source": [
    "loss, acc = model.evaluate(X_test, y_test, verbose=0)\n",
    "print('Test Accuracy: %.3f' % acc)\n",
    "# make a prediction\n",
    "row = [1,0,0.99539,-0.05889,0.85243,0.02306,0.83398,-0.37708,1,0.03760,0.85243,-0.17755,0.59755,-0.44945,0.60536,-0.38223,0.84356,-0.38542,0.58212,-0.32192,0.56971,-0.29674,0.36946,-0.47357,0.56811,-0.51171,0.41078,-0.46168,0.21266,-0.34090,0.42267,-0.54487,0.18641,-0.45300]\n",
    "yhat = model.predict([row])\n",
    "print('Predicted: %.3f' % yhat)"
   ]
  },
  {
   "cell_type": "code",
   "execution_count": null,
   "metadata": {},
   "outputs": [],
   "source": [
    "from numpy import sqrt\n",
    "loss, error = model.evaluate(X_test, y_test, verbose=0)\n",
    "print('MSE: %.3f, RMSE: %.3f' % (error, sqrt(error)))\n",
    "# make a prediction\n",
    "row = [0.00632,18.00,2.310,0,0.5380,6.5750,65.20,4.0900,1,296.0,15.30,396.90,4.98]\n",
    "yhat = model.predict([row])\n",
    "print('Predicted: %.3f' % yhat)"
   ]
  },
  {
   "cell_type": "code",
   "execution_count": 13,
   "metadata": {},
   "outputs": [],
   "source": [
    "#CNN"
   ]
  },
  {
   "cell_type": "code",
   "execution_count": 1,
   "metadata": {},
   "outputs": [],
   "source": [
    "from tensorflow.keras.datasets.mnist import load_data"
   ]
  },
  {
   "cell_type": "code",
   "execution_count": 2,
   "metadata": {},
   "outputs": [
    {
     "name": "stdout",
     "output_type": "stream",
     "text": [
      "Train: X=(60000, 28, 28), y=(60000,)\n",
      "Test: X=(10000, 28, 28), y=(10000,)\n"
     ]
    },
    {
     "data": {
      "text/plain": [
       "<Figure size 640x480 with 25 Axes>"
      ]
     },
     "metadata": {},
     "output_type": "display_data"
    }
   ],
   "source": [
    "from matplotlib import pyplot as plt# example of loading and plotting the mnist dataset\n",
    "\n",
    "# load dataset\n",
    "(trainX, trainy), (testX, testy) = load_data()\n",
    "# summarize loaded dataset\n",
    "print('Train: X=%s, y=%s' % (trainX.shape, trainy.shape))\n",
    "print('Test: X=%s, y=%s' % (testX.shape, testy.shape))\n",
    "# plot first few images\n",
    "for i in range(25):\n",
    "\t# define subplot\n",
    "\tplt.subplot(5, 5, i+1)\n",
    "\t# plot raw pixel data\n",
    "\tplt.imshow(trainX[i], cmap=plt.get_cmap('gray'))\n",
    "# show the figure\n",
    "plt.show()"
   ]
  },
  {
   "cell_type": "code",
   "execution_count": 3,
   "metadata": {},
   "outputs": [],
   "source": [
    "from tensorflow.keras.layers import Dense , MaxPool2D , Flatten , Dropout , Conv2D"
   ]
  },
  {
   "cell_type": "code",
   "execution_count": 4,
   "metadata": {},
   "outputs": [
    {
     "name": "stdout",
     "output_type": "stream",
     "text": [
      "(60000, 28, 28)\n",
      "(60000, 28, 28, 1)\n",
      "(28, 28, 1) 10\n"
     ]
    }
   ],
   "source": [
    "from numpy import unique\n",
    "(x_train, y_train), (x_test, y_test) = load_data()\n",
    "print(x_train.shape)\n",
    "x_train = x_train.reshape((x_train.shape[0], x_train.shape[1], x_train.shape[2], 1))\n",
    "x_test = x_test.reshape((x_test.shape[0], x_test.shape[1], x_test.shape[2], 1))\n",
    "print(x_train.shape)\n",
    "# determine the shape of the input images\n",
    "in_shape = x_train.shape[1:]\n",
    "# determine the number of classes\n",
    "n_classes = len(unique(y_train))\n",
    "print(in_shape, n_classes)\n",
    "# normalize pixel values\n",
    "x_train = x_train.astype('float32') / 255.0\n",
    "x_test = x_test.astype('float32') / 255.0"
   ]
  },
  {
   "cell_type": "code",
   "execution_count": 5,
   "metadata": {},
   "outputs": [
    {
     "data": {
      "text/plain": [
       "(60000, 28, 28)"
      ]
     },
     "execution_count": 5,
     "metadata": {},
     "output_type": "execute_result"
    }
   ],
   "source": [
    "x_train.shape[0], x_train.shape[1], x_train.shape[2]"
   ]
  },
  {
   "cell_type": "code",
   "execution_count": 6,
   "metadata": {},
   "outputs": [
    {
     "data": {
      "text/plain": [
       "(28, 28, 1)"
      ]
     },
     "execution_count": 6,
     "metadata": {},
     "output_type": "execute_result"
    }
   ],
   "source": [
    "x_train[0].shape"
   ]
  },
  {
   "cell_type": "code",
   "execution_count": 7,
   "metadata": {},
   "outputs": [],
   "source": [
    "import tensorflow as tf\n",
    "from tensorflow import keras"
   ]
  },
  {
   "cell_type": "code",
   "execution_count": 8,
   "metadata": {},
   "outputs": [],
   "source": [
    "model = keras.Sequential()\n",
    "model.add(Conv2D(32 , kernel_size=(3,3), input_shape= (x_train[0].shape) , activation = 'relu', kernel_initializer='he_normal' ))\n",
    "model.add(Conv2D(64 , kernel_size = (3,3),kernel_initializer = 'he_normal' , activation = 'relu' ))\n",
    "model.add(MaxPool2D((2,2)))\n",
    "model.add(Flatten())\n",
    "model.add(Dense(100, activation = 'relu',kernel_initializer= 'he_normal' ))\n",
    "model.add(Dropout(0.5))\n",
    "model.add(Dense(10 , activation = 'softmax'))"
   ]
  },
  {
   "cell_type": "code",
   "execution_count": 9,
   "metadata": {},
   "outputs": [],
   "source": [
    "model.compile(optimizer='adam' , loss = 'sparse_categorical_crossentropy', metrics=['accuracy'])"
   ]
  },
  {
   "cell_type": "code",
   "execution_count": 10,
   "metadata": {},
   "outputs": [
    {
     "name": "stdout",
     "output_type": "stream",
     "text": [
      "Epoch 1/10\n",
      "900/900 [==============================] - ETA: 0s - loss: 0.2502 - accuracy: 0.9245Accuray over 99 percent\n",
      "900/900 [==============================] - 82s 91ms/step - loss: 0.2502 - accuracy: 0.9245\n",
      "Epoch 2/10\n",
      "900/900 [==============================] - ETA: 0s - loss: 0.0955 - accuracy: 0.9717Accuray over 99 percent\n",
      "900/900 [==============================] - 73s 82ms/step - loss: 0.0955 - accuracy: 0.9717\n",
      "Epoch 3/10\n",
      "900/900 [==============================] - ETA: 0s - loss: 0.0688 - accuracy: 0.9797Accuray over 99 percent\n",
      "900/900 [==============================] - 67s 75ms/step - loss: 0.0688 - accuracy: 0.9797\n",
      "Epoch 4/10\n",
      "900/900 [==============================] - ETA: 0s - loss: 0.0547 - accuracy: 0.9829Accuray over 99 percent\n",
      "900/900 [==============================] - 67s 74ms/step - loss: 0.0547 - accuracy: 0.9829\n",
      "Epoch 5/10\n",
      "900/900 [==============================] - ETA: 0s - loss: 0.0480 - accuracy: 0.9852Accuray over 99 percent\n",
      "900/900 [==============================] - 67s 74ms/step - loss: 0.0480 - accuracy: 0.9852\n",
      "Epoch 6/10\n",
      "900/900 [==============================] - ETA: 0s - loss: 0.0403 - accuracy: 0.9866Accuray over 99 percent\n",
      "900/900 [==============================] - 67s 74ms/step - loss: 0.0403 - accuracy: 0.9866\n",
      "Epoch 7/10\n",
      "900/900 [==============================] - ETA: 0s - loss: 0.0334 - accuracy: 0.9892Accuray over 99 percent\n",
      "900/900 [==============================] - 67s 74ms/step - loss: 0.0334 - accuracy: 0.9892\n",
      "Epoch 8/10\n",
      "900/900 [==============================] - ETA: 0s - loss: 0.0290 - accuracy: 0.9909Accuray over 99 percent\n",
      "900/900 [==============================] - 67s 74ms/step - loss: 0.0290 - accuracy: 0.9909\n",
      "Epoch 9/10\n",
      "900/900 [==============================] - ETA: 0s - loss: 0.0274 - accuracy: 0.9907Accuray over 99 percent\n",
      "900/900 [==============================] - 67s 74ms/step - loss: 0.0274 - accuracy: 0.9907\n",
      "Epoch 10/10\n",
      "900/900 [==============================] - ETA: 0s - loss: 0.0248 - accuracy: 0.9918Accuray over 99 percent\n",
      "900/900 [==============================] - 67s 74ms/step - loss: 0.0248 - accuracy: 0.9918\n"
     ]
    },
    {
     "data": {
      "text/plain": [
       "<tensorflow.python.keras.callbacks.History at 0x7f5e1c1c5518>"
      ]
     },
     "execution_count": 10,
     "metadata": {},
     "output_type": "execute_result"
    }
   ],
   "source": [
    "class mycall(tf.keras.callbacks.Callback):\n",
    "    def on_epoch_end(self,epoch,logs={}):\n",
    "        if logs['accuracy'] >0.90:\n",
    "            print(\"Accuray over 99 percent\")\n",
    "            self.model.stop_trainig = True\n",
    "callback = mycall()\n",
    "#callback = tf.keras.callbacks.EarlyStopping(monitor='loss', patience=3)\n",
    "model.fit(x_train , y_train , epochs=10 , batch_size=64 , verbose=1, callbacks=[callback],steps_per_epoch=900)"
   ]
  },
  {
   "cell_type": "code",
   "execution_count": 11,
   "metadata": {},
   "outputs": [
    {
     "name": "stdout",
     "output_type": "stream",
     "text": [
      "313/313 [==============================] - 4s 11ms/step - loss: 0.0349 - accuracy: 0.9917\n"
     ]
    }
   ],
   "source": [
    "loss , acc = model.evaluate(x_test , y_test , verbose = 1)"
   ]
  },
  {
   "cell_type": "code",
   "execution_count": 12,
   "metadata": {},
   "outputs": [
    {
     "name": "stdout",
     "output_type": "stream",
     "text": [
      "Accuracy: 0.992\n"
     ]
    }
   ],
   "source": [
    "print('Accuracy: %.3f' % acc)\n"
   ]
  },
  {
   "cell_type": "code",
   "execution_count": 16,
   "metadata": {},
   "outputs": [],
   "source": [
    "acc = 22.34353"
   ]
  },
  {
   "cell_type": "code",
   "execution_count": 18,
   "metadata": {},
   "outputs": [
    {
     "name": "stdout",
     "output_type": "stream",
     "text": [
      "name 'sd' is not defined\n"
     ]
    }
   ],
   "source": [
    "try:\n",
    "    sd\n",
    "except Exception as e:\n",
    "    print(e)"
   ]
  },
  {
   "cell_type": "code",
   "execution_count": 1,
   "metadata": {},
   "outputs": [],
   "source": [
    "import tensorflow as tf\n",
    "from tensorflow import keras\n",
    "from tensorflow.keras.layers import Flatten , Dense , Conv2D , MaxPool2D"
   ]
  },
  {
   "cell_type": "code",
   "execution_count": 2,
   "metadata": {},
   "outputs": [],
   "source": [
    "(xtr , ytr) , (xt , yt) = keras.datasets.fashion_mnist.load_data()"
   ]
  },
  {
   "cell_type": "code",
   "execution_count": 4,
   "metadata": {},
   "outputs": [],
   "source": [
    "xtr = tf.reshape(xtr , [60000,28,28,1])"
   ]
  },
  {
   "cell_type": "code",
   "execution_count": 5,
   "metadata": {},
   "outputs": [],
   "source": [
    "xt = tf.reshape(xt , [10000,28,28,1])"
   ]
  },
  {
   "cell_type": "code",
   "execution_count": 5,
   "metadata": {},
   "outputs": [
    {
     "data": {
      "text/plain": [
       "array([0, 1, 2, 3, 4, 5, 6, 7, 8, 9], dtype=uint8)"
      ]
     },
     "execution_count": 5,
     "metadata": {},
     "output_type": "execute_result"
    }
   ],
   "source": [
    "import numpy as np\n",
    "np.unique(ytr)"
   ]
  },
  {
   "cell_type": "code",
   "execution_count": 3,
   "metadata": {},
   "outputs": [],
   "source": [
    "xtr = xtr/255.0\n",
    "xt = xt/255.0"
   ]
  },
  {
   "cell_type": "code",
   "execution_count": 6,
   "metadata": {},
   "outputs": [],
   "source": [
    "model = tf.keras.models.Sequential([\n",
    "  tf.keras.layers.Conv2D(32, (3,3), activation='relu', input_shape=(28, 28, 1)),\n",
    "  tf.keras.layers.MaxPooling2D(2, 2),\n",
    "  tf.keras.layers.Flatten(),\n",
    "  tf.keras.layers.Dense(128, activation='relu'),\n",
    "  tf.keras.layers.Dense(10, activation='softmax')\n",
    "])"
   ]
  },
  {
   "cell_type": "code",
   "execution_count": 7,
   "metadata": {},
   "outputs": [
    {
     "name": "stdout",
     "output_type": "stream",
     "text": [
      "Model: \"sequential\"\n",
      "_________________________________________________________________\n",
      "Layer (type)                 Output Shape              Param #   \n",
      "=================================================================\n",
      "conv2d (Conv2D)              (None, 26, 26, 32)        320       \n",
      "_________________________________________________________________\n",
      "max_pooling2d (MaxPooling2D) (None, 13, 13, 32)        0         \n",
      "_________________________________________________________________\n",
      "flatten (Flatten)            (None, 5408)              0         \n",
      "_________________________________________________________________\n",
      "dense (Dense)                (None, 128)               692352    \n",
      "_________________________________________________________________\n",
      "dense_1 (Dense)              (None, 10)                1290      \n",
      "=================================================================\n",
      "Total params: 693,962\n",
      "Trainable params: 693,962\n",
      "Non-trainable params: 0\n",
      "_________________________________________________________________\n"
     ]
    }
   ],
   "source": [
    "model.summary()"
   ]
  },
  {
   "cell_type": "code",
   "execution_count": 8,
   "metadata": {},
   "outputs": [],
   "source": [
    "model.compile(optimizer='adam', loss = 'sparse_categorical_crossentropy', metrics = ['accuracy'])"
   ]
  },
  {
   "cell_type": "code",
   "execution_count": 9,
   "metadata": {},
   "outputs": [
    {
     "name": "stdout",
     "output_type": "stream",
     "text": [
      "Epoch 1/5\n",
      "1875/1875 [==============================] - 25s 13ms/step - loss: 0.3916 - accuracy: 0.8600\n",
      "Epoch 2/5\n",
      "1875/1875 [==============================] - 24s 13ms/step - loss: 0.2657 - accuracy: 0.9051\n",
      "Epoch 3/5\n",
      "1875/1875 [==============================] - 23s 12ms/step - loss: 0.2225 - accuracy: 0.9184\n",
      "Epoch 4/5\n",
      "1875/1875 [==============================] - 25s 13ms/step - loss: 0.1911 - accuracy: 0.9295\n",
      "Epoch 5/5\n",
      "1875/1875 [==============================] - 24s 13ms/step - loss: 0.1638 - accuracy: 0.9392\n"
     ]
    },
    {
     "data": {
      "text/plain": [
       "<tensorflow.python.keras.callbacks.History at 0x7fe543ab9e80>"
      ]
     },
     "execution_count": 9,
     "metadata": {},
     "output_type": "execute_result"
    }
   ],
   "source": [
    "model.fit(xtr,ytr, epochs = 5,verbose=1)"
   ]
  },
  {
   "cell_type": "code",
   "execution_count": 10,
   "metadata": {},
   "outputs": [
    {
     "name": "stdout",
     "output_type": "stream",
     "text": [
      "313/313 [==============================] - 1s 4ms/step - loss: 0.2638 - accuracy: 0.9089\n"
     ]
    },
    {
     "data": {
      "text/plain": [
       "[0.26383671164512634, 0.9089000225067139]"
      ]
     },
     "execution_count": 10,
     "metadata": {},
     "output_type": "execute_result"
    }
   ],
   "source": [
    "model.evaluate(xt,yt)"
   ]
  },
  {
   "cell_type": "code",
   "execution_count": 28,
   "metadata": {},
   "outputs": [
    {
     "data": {
      "text/plain": [
       "[<tf.Tensor 'conv2d/Relu:0' shape=(None, 28, 28, 64) dtype=float32>,\n",
       " <tf.Tensor 'max_pooling2d/MaxPool:0' shape=(None, 14, 14, 64) dtype=float32>,\n",
       " <tf.Tensor 'conv2d_1/Relu:0' shape=(None, 14, 14, 64) dtype=float32>,\n",
       " <tf.Tensor 'max_pooling2d_1/MaxPool:0' shape=(None, 7, 7, 64) dtype=float32>,\n",
       " <tf.Tensor 'flatten/Reshape:0' shape=(None, 3136) dtype=float32>,\n",
       " <tf.Tensor 'dense/Relu:0' shape=(None, 128) dtype=float32>,\n",
       " <tf.Tensor 'dropout/cond/Identity:0' shape=(None, 128) dtype=float32>,\n",
       " <tf.Tensor 'dense_1/Softmax:0' shape=(None, 10) dtype=float32>]"
      ]
     },
     "execution_count": 28,
     "metadata": {},
     "output_type": "execute_result"
    }
   ],
   "source": [
    "from tensorflow.keras import models\n",
    "layer_outputs = [layer.output for layer in model.layers]\n",
    "layer_outputs"
   ]
  },
  {
   "cell_type": "code",
   "execution_count": 35,
   "metadata": {},
   "outputs": [
    {
     "data": {
      "text/plain": [
       "<tf.Tensor 'conv2d_input:0' shape=(None, 28, 28, 1) dtype=float32>"
      ]
     },
     "execution_count": 35,
     "metadata": {},
     "output_type": "execute_result"
    }
   ],
   "source": [
    "train_datagen = ImageDataGenerator(\n",
    "      rescale=1./255,\n",
    "      rotation_range=40,\n",
    "      width_shift_range=0.2,\n",
    "      height_shift_range=0.2,\n",
    "      shear_range=0.2,\n",
    "      zoom_range=0.2,\n",
    "      horizontal_flip=True,\n",
    "      fill_mode='nearest')"
   ]
  },
  {
   "cell_type": "code",
   "execution_count": 11,
   "metadata": {},
   "outputs": [],
   "source": [
    "gen = tf.keras.preprocessing.image.ImageDataGenerator(rescale=1.0/225.0 , rotation_range=40 , width_shift_range=0.2, height_shift_range=.2 , shear_range=0.2 , zoom_range=0.2 , horizontal_flip= True , fill_mode='nearest' )\n"
   ]
  },
  {
   "cell_type": "code",
   "execution_count": 12,
   "metadata": {},
   "outputs": [
    {
     "ename": "FileNotFoundError",
     "evalue": "[Errno 2] No such file or directory: 'dirname'",
     "output_type": "error",
     "traceback": [
      "\u001b[0;31m---------------------------------------------------------------------------\u001b[0m",
      "\u001b[0;31mFileNotFoundError\u001b[0m                         Traceback (most recent call last)",
      "\u001b[0;32m<ipython-input-12-086c526e30f0>\u001b[0m in \u001b[0;36m<module>\u001b[0;34m\u001b[0m\n\u001b[0;32m----> 1\u001b[0;31m \u001b[0mdataaa\u001b[0m \u001b[0;34m=\u001b[0m \u001b[0mgen\u001b[0m\u001b[0;34m.\u001b[0m\u001b[0mflow_from_directory\u001b[0m\u001b[0;34m(\u001b[0m\u001b[0;34m'dirname'\u001b[0m \u001b[0;34m,\u001b[0m \u001b[0mbatch_size\u001b[0m\u001b[0;34m=\u001b[0m\u001b[0;36m32\u001b[0m \u001b[0;34m,\u001b[0m\u001b[0mtarget_size\u001b[0m\u001b[0;34m=\u001b[0m\u001b[0;34m(\u001b[0m\u001b[0;34m)\u001b[0m \u001b[0;34m,\u001b[0m \u001b[0mclass_mode\u001b[0m\u001b[0;34m=\u001b[0m\u001b[0;34m'binary'\u001b[0m\u001b[0;34m)\u001b[0m\u001b[0;34m\u001b[0m\u001b[0;34m\u001b[0m\u001b[0m\n\u001b[0m",
      "\u001b[0;32m~/anaconda3/lib/python3.7/site-packages/tensorflow/python/keras/preprocessing/image.py\u001b[0m in \u001b[0;36mflow_from_directory\u001b[0;34m(self, directory, target_size, color_mode, classes, class_mode, batch_size, shuffle, seed, save_to_dir, save_prefix, save_format, follow_links, subset, interpolation)\u001b[0m\n\u001b[1;32m    957\u001b[0m         \u001b[0mfollow_links\u001b[0m\u001b[0;34m=\u001b[0m\u001b[0mfollow_links\u001b[0m\u001b[0;34m,\u001b[0m\u001b[0;34m\u001b[0m\u001b[0;34m\u001b[0m\u001b[0m\n\u001b[1;32m    958\u001b[0m         \u001b[0msubset\u001b[0m\u001b[0;34m=\u001b[0m\u001b[0msubset\u001b[0m\u001b[0;34m,\u001b[0m\u001b[0;34m\u001b[0m\u001b[0;34m\u001b[0m\u001b[0m\n\u001b[0;32m--> 959\u001b[0;31m         interpolation=interpolation)\n\u001b[0m\u001b[1;32m    960\u001b[0m \u001b[0;34m\u001b[0m\u001b[0m\n\u001b[1;32m    961\u001b[0m   def flow_from_dataframe(self,\n",
      "\u001b[0;32m~/anaconda3/lib/python3.7/site-packages/tensorflow/python/keras/preprocessing/image.py\u001b[0m in \u001b[0;36m__init__\u001b[0;34m(self, directory, image_data_generator, target_size, color_mode, classes, class_mode, batch_size, shuffle, seed, data_format, save_to_dir, save_prefix, save_format, follow_links, subset, interpolation, dtype)\u001b[0m\n\u001b[1;32m    395\u001b[0m         \u001b[0msubset\u001b[0m\u001b[0;34m=\u001b[0m\u001b[0msubset\u001b[0m\u001b[0;34m,\u001b[0m\u001b[0;34m\u001b[0m\u001b[0;34m\u001b[0m\u001b[0m\n\u001b[1;32m    396\u001b[0m         \u001b[0minterpolation\u001b[0m\u001b[0;34m=\u001b[0m\u001b[0minterpolation\u001b[0m\u001b[0;34m,\u001b[0m\u001b[0;34m\u001b[0m\u001b[0;34m\u001b[0m\u001b[0m\n\u001b[0;32m--> 397\u001b[0;31m         **kwargs)\n\u001b[0m\u001b[1;32m    398\u001b[0m \u001b[0;34m\u001b[0m\u001b[0m\n\u001b[1;32m    399\u001b[0m \u001b[0;34m\u001b[0m\u001b[0m\n",
      "\u001b[0;32m~/anaconda3/lib/python3.7/site-packages/keras_preprocessing/image/directory_iterator.py\u001b[0m in \u001b[0;36m__init__\u001b[0;34m(self, directory, image_data_generator, target_size, color_mode, classes, class_mode, batch_size, shuffle, seed, data_format, save_to_dir, save_prefix, save_format, follow_links, subset, interpolation, dtype)\u001b[0m\n\u001b[1;32m    113\u001b[0m         \u001b[0;32mif\u001b[0m \u001b[0;32mnot\u001b[0m \u001b[0mclasses\u001b[0m\u001b[0;34m:\u001b[0m\u001b[0;34m\u001b[0m\u001b[0;34m\u001b[0m\u001b[0m\n\u001b[1;32m    114\u001b[0m             \u001b[0mclasses\u001b[0m \u001b[0;34m=\u001b[0m \u001b[0;34m[\u001b[0m\u001b[0;34m]\u001b[0m\u001b[0;34m\u001b[0m\u001b[0;34m\u001b[0m\u001b[0m\n\u001b[0;32m--> 115\u001b[0;31m             \u001b[0;32mfor\u001b[0m \u001b[0msubdir\u001b[0m \u001b[0;32min\u001b[0m \u001b[0msorted\u001b[0m\u001b[0;34m(\u001b[0m\u001b[0mos\u001b[0m\u001b[0;34m.\u001b[0m\u001b[0mlistdir\u001b[0m\u001b[0;34m(\u001b[0m\u001b[0mdirectory\u001b[0m\u001b[0;34m)\u001b[0m\u001b[0;34m)\u001b[0m\u001b[0;34m:\u001b[0m\u001b[0;34m\u001b[0m\u001b[0;34m\u001b[0m\u001b[0m\n\u001b[0m\u001b[1;32m    116\u001b[0m                 \u001b[0;32mif\u001b[0m \u001b[0mos\u001b[0m\u001b[0;34m.\u001b[0m\u001b[0mpath\u001b[0m\u001b[0;34m.\u001b[0m\u001b[0misdir\u001b[0m\u001b[0;34m(\u001b[0m\u001b[0mos\u001b[0m\u001b[0;34m.\u001b[0m\u001b[0mpath\u001b[0m\u001b[0;34m.\u001b[0m\u001b[0mjoin\u001b[0m\u001b[0;34m(\u001b[0m\u001b[0mdirectory\u001b[0m\u001b[0;34m,\u001b[0m \u001b[0msubdir\u001b[0m\u001b[0;34m)\u001b[0m\u001b[0;34m)\u001b[0m\u001b[0;34m:\u001b[0m\u001b[0;34m\u001b[0m\u001b[0;34m\u001b[0m\u001b[0m\n\u001b[1;32m    117\u001b[0m                     \u001b[0mclasses\u001b[0m\u001b[0;34m.\u001b[0m\u001b[0mappend\u001b[0m\u001b[0;34m(\u001b[0m\u001b[0msubdir\u001b[0m\u001b[0;34m)\u001b[0m\u001b[0;34m\u001b[0m\u001b[0;34m\u001b[0m\u001b[0m\n",
      "\u001b[0;31mFileNotFoundError\u001b[0m: [Errno 2] No such file or directory: 'dirname'"
     ]
    }
   ],
   "source": [
    "dataaa = gen.flow_from_directory('dirname' , batch_size=32 ,target_size=() , class_mode='binary')"
   ]
  },
  {
   "cell_type": "code",
   "execution_count": 13,
   "metadata": {},
   "outputs": [],
   "source": [
    "gen = tf.keras.preprocessing.image.ImageDataGenerator(rescale=1.0/255.0 , height_shift_range=.2 , width_shift_range=0.3 , zoom_range=0.2 , shear_range= 0.2 ,horizontal_flip=True , rotation_range=40, fill_mode = 'nearest')\n"
   ]
  },
  {
   "cell_type": "code",
   "execution_count": null,
   "metadata": {},
   "outputs": [],
   "source": [
    "dataa = gen.flow_from_directory('direc' , target_size=(150,150), batch_size = 32 , class_mode='binary')"
   ]
  },
  {
   "cell_type": "code",
   "execution_count": 2,
   "metadata": {},
   "outputs": [],
   "source": [
    "import tensorflow as tf"
   ]
  },
  {
   "cell_type": "code",
   "execution_count": 3,
   "metadata": {},
   "outputs": [],
   "source": [
    "tokenizer = tf.keras.preprocessing.text.Tokenizer(num_words=100)"
   ]
  },
  {
   "cell_type": "code",
   "execution_count": 4,
   "metadata": {},
   "outputs": [],
   "source": [
    "sen = ['hi i love my dog','i love my cat','i love dogs!!']"
   ]
  },
  {
   "cell_type": "code",
   "execution_count": 11,
   "metadata": {},
   "outputs": [],
   "source": [
    "tokenizer.fit_on_texts(sen)"
   ]
  },
  {
   "cell_type": "code",
   "execution_count": 12,
   "metadata": {},
   "outputs": [
    {
     "data": {
      "text/plain": [
       "{'love': 1, 'i': 2, 'my': 3, 'dog': 4, 'cat': 5, 'you': 6, 'hi': 7, 'dogs': 8}"
      ]
     },
     "execution_count": 12,
     "metadata": {},
     "output_type": "execute_result"
    }
   ],
   "source": [
    "tokenizer.word_index"
   ]
  },
  {
   "cell_type": "code",
   "execution_count": 5,
   "metadata": {},
   "outputs": [
    {
     "name": "stdout",
     "output_type": "stream",
     "text": [
      "{'OOV': 1, 'love': 2, 'my': 3, 'i': 4, 'dog': 5, 'cat': 6, 'you': 7}\n"
     ]
    }
   ],
   "source": [
    "from tensorflow.keras.preprocessing.text import Tokenizer\n",
    "\n",
    "sentences = [\n",
    "    'i love my dog',\n",
    "    'I, love my cat',\n",
    "    'You love my dog!',\n",
    "    \n",
    "]\n",
    "\n",
    "tokenizer = Tokenizer(num_words = 100, oov_token=\"OOV\")\n",
    "tokenizer.fit_on_texts(sentences)\n",
    "word_index = tokenizer.word_index\n",
    "print(word_index)"
   ]
  },
  {
   "cell_type": "code",
   "execution_count": 6,
   "metadata": {},
   "outputs": [
    {
     "data": {
      "text/plain": [
       "[[4, 2, 3, 5], [4, 2, 3, 6], [7, 2, 3, 5]]"
      ]
     },
     "execution_count": 6,
     "metadata": {},
     "output_type": "execute_result"
    }
   ],
   "source": [
    "tokenizer.texts_to_sequences(sentences)"
   ]
  },
  {
   "cell_type": "code",
   "execution_count": 7,
   "metadata": {},
   "outputs": [],
   "source": [
    "sentences = [\n",
    "    'i love my dog',\n",
    "    'I, love my cat',\n",
    "    'You love my dog!',\n",
    "    'hello how are you doing'\n",
    "]"
   ]
  },
  {
   "cell_type": "code",
   "execution_count": 9,
   "metadata": {},
   "outputs": [],
   "source": [
    "seq = tokenizer.texts_to_sequences(sentences)"
   ]
  },
  {
   "cell_type": "code",
   "execution_count": null,
   "metadata": {},
   "outputs": [],
   "source": [
    "import tensorflow as tf\n",
    "from tensorflow import keras\n",
    "\n",
    "\n",
    "from tensorflow.keras.preprocessing.text import Tokenizer\n",
    "from tensorflow.keras.preprocessing.sequence import pad_sequences\n",
    "\n",
    "sentences = [\n",
    "    'I love my dog',\n",
    "    'I love my cat',\n",
    "    'You love my dog!',\n",
    "    'Do you think my dog is amazing?'\n",
    "]\n",
    "\n",
    "tokenizer = Tokenizer(num_words = 100, oov_token=\"<OOV>\")\n",
    "tokenizer.fit_on_texts(sentences)\n",
    "word_index = tokenizer.word_index\n",
    "\n",
    "sequences = tokenizer.texts_to_sequences(sentences)\n",
    "\n",
    "padded = pad_sequences(sequences, maxlen=5)\n",
    "print(\"\\nWord Index = \" , word_index)\n",
    "print(\"\\nSequences = \" , sequences)\n",
    "print(\"\\nPadded Sequences:\")\n",
    "print(padded)\n",
    "\n",
    "\n",
    "# Try with words that the tokenizer wasn't fit to\n",
    "test_data = [\n",
    "    'i really love my dog',\n",
    "    'my dog loves my manatee'\n",
    "]\n",
    "\n",
    "test_seq = tokenizer.texts_to_sequences(test_data)\n",
    "print(\"\\nTest Sequence = \", test_seq)\n",
    "\n",
    "padded = pad_sequences(test_seq, maxlen=10)\n",
    "print(\"\\nPadded Test Sequence: \")\n",
    "print(padded)"
   ]
  },
  {
   "cell_type": "code",
   "execution_count": 10,
   "metadata": {},
   "outputs": [],
   "source": [
    "from tensorflow.keras.preprocessing.sequence import pad_sequences"
   ]
  },
  {
   "cell_type": "code",
   "execution_count": 17,
   "metadata": {},
   "outputs": [],
   "source": [
    "padded = pad_sequences(seq,padding='post',maxlen=6,truncating='post')"
   ]
  },
  {
   "cell_type": "code",
   "execution_count": 18,
   "metadata": {},
   "outputs": [
    {
     "data": {
      "text/plain": [
       "array([[4, 2, 3, 5, 0, 0],\n",
       "       [4, 2, 3, 6, 0, 0],\n",
       "       [7, 2, 3, 5, 0, 0],\n",
       "       [1, 1, 1, 7, 1, 0]], dtype=int32)"
      ]
     },
     "execution_count": 18,
     "metadata": {},
     "output_type": "execute_result"
    }
   ],
   "source": [
    "padded"
   ]
  },
  {
   "cell_type": "code",
   "execution_count": 19,
   "metadata": {},
   "outputs": [
    {
     "name": "stdout",
     "output_type": "stream",
     "text": [
      "Collecting agate\n",
      "  Downloading agate-1.6.1-py2.py3-none-any.whl (98 kB)\n",
      "\u001b[K     |████████████████████████████████| 98 kB 921 kB/s eta 0:00:011\n",
      "\u001b[?25hCollecting leather>=0.3.2\n",
      "  Downloading leather-0.3.3-py3-none-any.whl (35 kB)\n",
      "Requirement already satisfied: six>=1.9.0 in /home/vimal/anaconda3/lib/python3.7/site-packages (from agate) (1.12.0)\n",
      "Requirement already satisfied: Babel>=2.0 in /home/vimal/anaconda3/lib/python3.7/site-packages (from agate) (2.6.0)\n",
      "Collecting pytimeparse>=1.1.5\n",
      "  Downloading pytimeparse-1.1.8-py2.py3-none-any.whl (10.0 kB)\n",
      "Requirement already satisfied: python-slugify>=1.2.1 in /home/vimal/anaconda3/lib/python3.7/site-packages (from agate) (3.0.2)\n",
      "Collecting isodate>=0.5.4\n",
      "  Downloading isodate-0.6.0-py2.py3-none-any.whl (45 kB)\n",
      "\u001b[K     |████████████████████████████████| 45 kB 3.1 MB/s  eta 0:00:01\n",
      "\u001b[?25hCollecting parsedatetime>=2.1\n",
      "  Downloading parsedatetime-2.6-py3-none-any.whl (42 kB)\n",
      "\u001b[K     |████████████████████████████████| 42 kB 168 kB/s  eta 0:00:01\n",
      "\u001b[?25hRequirement already satisfied: pytz>=0a in /home/vimal/anaconda3/lib/python3.7/site-packages (from Babel>=2.0->agate) (2018.9)\n",
      "Requirement already satisfied: text-unidecode==1.2 in /home/vimal/anaconda3/lib/python3.7/site-packages (from python-slugify>=1.2.1->agate) (1.2)\n",
      "Installing collected packages: leather, pytimeparse, isodate, parsedatetime, agate\n",
      "Successfully installed agate-1.6.1 isodate-0.6.0 leather-0.3.3 parsedatetime-2.6 pytimeparse-1.1.8\n",
      "\u001b[33mWARNING: You are using pip version 20.1.1; however, version 20.2.3 is available.\n",
      "You should consider upgrading via the '/home/vimal/anaconda3/bin/python -m pip install --upgrade pip' command.\u001b[0m\n"
     ]
    }
   ],
   "source": [
    "!pip install agate"
   ]
  },
  {
   "cell_type": "code",
   "execution_count": 1,
   "metadata": {},
   "outputs": [],
   "source": [
    "import tensorflow as tf\n"
   ]
  },
  {
   "cell_type": "code",
   "execution_count": 22,
   "metadata": {},
   "outputs": [
    {
     "name": "stdout",
     "output_type": "stream",
     "text": [
      "--2020-09-09 11:41:34--  https://storage.googleapis.com/laurencemoroney-blog.appspot.com/sarcasm.json\n",
      "Resolving storage.googleapis.com (storage.googleapis.com)... 216.58.203.144, 216.58.196.80, 216.58.203.48, ...\n",
      "Connecting to storage.googleapis.com (storage.googleapis.com)|216.58.203.144|:443... connected.\n",
      "HTTP request sent, awaiting response... 200 OK\n",
      "Length: 5643545 (5.4M) [application/json]\n",
      "Saving to: ‘/home/vimal/sarcasm.json’\n",
      "\n",
      "/home/vimal/sarcasm 100%[===================>]   5.38M  7.16MB/s    in 0.8s    \n",
      "\n",
      "2020-09-09 11:41:36 (7.16 MB/s) - ‘/home/vimal/sarcasm.json’ saved [5643545/5643545]\n",
      "\n"
     ]
    }
   ],
   "source": [
    "!wget --no-check-certificate \\\n",
    "    https://storage.googleapis.com/laurencemoroney-blog.appspot.com/sarcasm.json \\\n",
    "    -O /home/vimal/sarcasm.json\n"
   ]
  },
  {
   "cell_type": "code",
   "execution_count": 2,
   "metadata": {},
   "outputs": [],
   "source": [
    "import json\n",
    "\n",
    "with open('/home/vimal/sarcasm.json') as f:\n",
    "    ff = json.load(f)"
   ]
  },
  {
   "cell_type": "code",
   "execution_count": 27,
   "metadata": {},
   "outputs": [
    {
     "data": {
      "text/plain": [
       "[{'article_link': 'https://www.huffingtonpost.com/entry/versace-black-code_us_5861fbefe4b0de3a08f600d5',\n",
       "  'headline': \"former versace store clerk sues over secret 'black code' for minority shoppers\",\n",
       "  'is_sarcastic': 0},\n",
       " {'article_link': 'https://www.huffingtonpost.com/entry/roseanne-revival-review_us_5ab3a497e4b054d118e04365',\n",
       "  'headline': \"the 'roseanne' revival catches up to our thorny political mood, for better and worse\",\n",
       "  'is_sarcastic': 0},\n",
       " {'article_link': 'https://local.theonion.com/mom-starting-to-fear-son-s-web-series-closest-thing-she-1819576697',\n",
       "  'headline': \"mom starting to fear son's web series closest thing she will have to grandchild\",\n",
       "  'is_sarcastic': 1},\n",
       " {'article_link': 'https://politics.theonion.com/boehner-just-wants-wife-to-listen-not-come-up-with-alt-1819574302',\n",
       "  'headline': 'boehner just wants wife to listen, not come up with alternative debt-reduction ideas',\n",
       "  'is_sarcastic': 1},\n",
       " {'article_link': 'https://www.huffingtonpost.com/entry/jk-rowling-wishes-snape-happy-birthday_us_569117c4e4b0cad15e64fdcb',\n",
       "  'headline': 'j.k. rowling wishes snape happy birthday in the most magical way',\n",
       "  'is_sarcastic': 0},\n",
       " {'article_link': 'https://www.huffingtonpost.com/entry/advancing-the-worlds-women_b_6810038.html',\n",
       "  'headline': \"advancing the world's women\",\n",
       "  'is_sarcastic': 0},\n",
       " {'article_link': 'https://www.huffingtonpost.com/entry/how-meat-is-grown-in-a-lab_us_561d1189e4b0c5a1ce607e86',\n",
       "  'headline': 'the fascinating case for eating lab-grown meat',\n",
       "  'is_sarcastic': 0},\n",
       " {'article_link': 'https://www.huffingtonpost.com/entry/boxed-college-tuition-ben_n_7445644.html',\n",
       "  'headline': 'this ceo will send your kids to school, if you work for his company',\n",
       "  'is_sarcastic': 0},\n",
       " {'article_link': 'https://politics.theonion.com/top-snake-handler-leaves-sinking-huckabee-campaign-1819578231',\n",
       "  'headline': 'top snake handler leaves sinking huckabee campaign',\n",
       "  'is_sarcastic': 1},\n",
       " {'article_link': 'https://www.huffingtonpost.com/entry/fridays-morning-email-inside-trumps-presser-for-the-ages_us_58a6e33ee4b07602ad53a315',\n",
       "  'headline': \"friday's morning email: inside trump's presser for the ages\",\n",
       "  'is_sarcastic': 0},\n",
       " {'article_link': 'https://www.huffingtonpost.com/entry/airline-passengers-tackle-man-who-rushes-cockpit-in-bomb-threat_us_59302e57e4b07572bdbf9460',\n",
       "  'headline': 'airline passengers tackle man who rushes cockpit in bomb threat',\n",
       "  'is_sarcastic': 0},\n",
       " {'article_link': 'https://www.huffingtonpost.com/entry/facebook-healthcare_n_5926140.html',\n",
       "  'headline': 'facebook reportedly working on healthcare features and apps',\n",
       "  'is_sarcastic': 0},\n",
       " {'article_link': 'https://www.huffingtonpost.comhttp://www.theguardian.com/world/2016/may/31/north-korea-praises-trump-and-urges-us-voters-to-reject-dull-hillary',\n",
       "  'headline': \"north korea praises trump and urges us voters to reject 'dull hillary'\",\n",
       "  'is_sarcastic': 0},\n",
       " {'article_link': 'https://www.huffingtonpost.com/entry/jeffrey-lord-worst-comments_us_598cd410e4b09071f6989d91',\n",
       "  'headline': \"actually, cnn's jeffrey lord has been 'indefensible' for a while\",\n",
       "  'is_sarcastic': 0},\n",
       " {'article_link': 'https://www.huffingtonpost.com/entry/barcelona-refugee-protest_us_58aa040ce4b037d17d290230',\n",
       "  'headline': 'barcelona holds huge protest in support of refugees',\n",
       "  'is_sarcastic': 0},\n",
       " {'article_link': 'https://entertainment.theonion.com/nuclear-bomb-detonates-during-rehearsal-for-spider-man-1819572009',\n",
       "  'headline': \"nuclear bomb detonates during rehearsal for 'spider-man' musical\",\n",
       "  'is_sarcastic': 1},\n",
       " {'article_link': 'https://www.theonion.com/cosby-lawyer-asks-why-accusers-didn-t-come-forward-to-b-1819577265',\n",
       "  'headline': \"cosby lawyer asks why accusers didn't come forward to be smeared by legal team years ago\",\n",
       "  'is_sarcastic': 1},\n",
       " {'article_link': 'https://www.theonion.com/stock-analysts-confused-frightened-by-boar-market-1819567580',\n",
       "  'headline': 'stock analysts confused, frightened by boar market',\n",
       "  'is_sarcastic': 1},\n",
       " {'article_link': 'https://www.huffingtonpost.com/entry/bloomberg-philanthropies-what-works-cities-expands_us_566746f3e4b080eddf55ee73',\n",
       "  'headline': \"bloomberg's program to build better cities just got bigger\",\n",
       "  'is_sarcastic': 0},\n",
       " {'article_link': 'https://www.huffingtonpost.com/entry/craig-hicks-indicted-chapel-hill_n_6692980.html',\n",
       "  'headline': 'craig hicks indicted',\n",
       "  'is_sarcastic': 0},\n",
       " {'article_link': 'https://local.theonion.com/courtroom-sketch-artist-has-clear-manga-influences-1820298494',\n",
       "  'headline': 'courtroom sketch artist has clear manga influences',\n",
       "  'is_sarcastic': 1},\n",
       " {'article_link': 'https://politics.theonion.com/trump-assures-nation-that-decision-for-syrian-airstrike-1819579813',\n",
       "  'headline': 'trump assures nation that decision for syrian airstrikes came after carefully considering all his passing whims',\n",
       "  'is_sarcastic': 1},\n",
       " {'article_link': 'https://www.huffingtonpost.com/entry/qatar-dutch-woman-raped_us_575eb891e4b00f97fba8cead',\n",
       "  'headline': 'qatar deporting dutch woman who reported she was drugged and raped',\n",
       "  'is_sarcastic': 0},\n",
       " {'article_link': 'https://www.huffingtonpost.comhttp://pubx.co/dnWZew',\n",
       "  'headline': \"this is why you shouldn't go to the circus\",\n",
       "  'is_sarcastic': 0},\n",
       " {'article_link': 'https://www.huffingtonpost.com/entry/ted-cruz-republicans-lose-congress_us_5a9f60cee4b0e9381c135ba6',\n",
       "  'headline': \"ted cruz hits the panic button: 'we could lose both houses of congress'\",\n",
       "  'is_sarcastic': 0},\n",
       " {'article_link': 'https://www.huffingtonpost.com/entry/why-writers-must-plan-to-_b_8672192.html',\n",
       "  'headline': 'why writers must plan to be surprised',\n",
       "  'is_sarcastic': 0},\n",
       " {'article_link': 'https://www.huffingtonpost.com/entry/obama-veterans-day_us_564372e9e4b08cda3486f09b',\n",
       "  'headline': 'obama visits arlington national cemetery to honor veterans',\n",
       "  'is_sarcastic': 0},\n",
       " {'article_link': 'https://local.theonion.com/ex-con-back-behind-bar-1819589400',\n",
       "  'headline': 'ex-con back behind bar',\n",
       "  'is_sarcastic': 1},\n",
       " {'article_link': 'https://www.theonion.com/after-careful-consideration-bush-recommends-oil-drilli-1819586993',\n",
       "  'headline': 'after careful consideration, bush recommends oil drilling',\n",
       "  'is_sarcastic': 1},\n",
       " {'article_link': 'https://www.huffingtonpost.com/entry/remembrance-is-the-beginn_b_5382344.html',\n",
       "  'headline': 'remembrance is the beginning of the task',\n",
       "  'is_sarcastic': 0},\n",
       " {'article_link': 'https://www.huffingtonpost.com/entry/nemtsov-killing-motive_n_6830086.html',\n",
       "  'headline': 'allies: islamist motive for killing nemtsov is nonsense',\n",
       "  'is_sarcastic': 0},\n",
       " {'article_link': 'https://www.huffingtonpost.com/entry/gillian-jacobs-life-partners_n_5201193.html',\n",
       "  'headline': \"gillian jacobs on what it's like to kiss adam brody\",\n",
       "  'is_sarcastic': 0},\n",
       " {'article_link': 'https://www.huffingtonpost.com/entry/uber-repay-nyc-drivers-millions-tax-commission_us_59259fa0e4b00c8df2a0d702',\n",
       "  'headline': \"uber vows to repay nyc drivers 'tens of millions' after tax snafu\",\n",
       "  'is_sarcastic': 0},\n",
       " {'article_link': 'https://www.huffingtonpost.com/entry/apple-may-have-poached-electric-motorcycle-company-to-death_us_5624f1f3e4b0bce347014203',\n",
       "  'headline': 'apple may have poached electric motorcycle company to death',\n",
       "  'is_sarcastic': 0},\n",
       " {'article_link': 'https://www.huffingtonpost.com/entry/drug-resistant-bacteria-often-lurk-in-childrens-dogs-sandboxes_us_5967ae43e4b03389bb15cfd6',\n",
       "  'headline': \"drug-resistant bacteria often lurk in children's, dogs' sandboxes\",\n",
       "  'is_sarcastic': 0},\n",
       " {'article_link': 'https://www.huffingtonpost.com/entry/if-you-see-a-muslim-at-the-airport_us_588ddf13e4b0cd25e49049d8',\n",
       "  'headline': 'if you see a muslim at the airport',\n",
       "  'is_sarcastic': 0},\n",
       " {'article_link': 'https://www.theonion.com/giant-altoid-heading-toward-earth-1819586323',\n",
       "  'headline': 'giant altoid heading toward earth',\n",
       "  'is_sarcastic': 1},\n",
       " {'article_link': 'https://www.huffingtonpost.com/entry/moana-box-office-thanksgiving_us_583b435be4b000af95ee8aa4',\n",
       "  'headline': \"'moana' sails straight to the top of the box office with massive $81.1 million opening\",\n",
       "  'is_sarcastic': 0},\n",
       " {'article_link': 'https://www.huffingtonpost.com/entry/bud-selig-baseball_b_6007732.html',\n",
       "  'headline': 'selig counted money while baseball lost the next generation of fans',\n",
       "  'is_sarcastic': 0},\n",
       " {'article_link': 'https://entertainment.theonion.com/robin-williams-inflicted-on-holiday-moviegoers-for-eigh-1819564977',\n",
       "  'headline': 'robin williams inflicted on holiday moviegoers for eighth straight year',\n",
       "  'is_sarcastic': 1},\n",
       " {'article_link': 'https://www.huffingtonpost.com/entry/devin-nunes-vows-to-never-reveal-source-of-white-house-leak_us_58dae860e4b01ca7b427db5b',\n",
       "  'headline': \"devin nunes vows to 'never' reveal source of surveillance claims\",\n",
       "  'is_sarcastic': 0},\n",
       " {'article_link': 'https://www.huffingtonpost.com/entry/scott-longert-sleep-apnea-electronic-stimulation-implant-_n_5460348.html',\n",
       "  'headline': 'scott used to stop breathing nearly 40 times an hour. this device changed his life',\n",
       "  'is_sarcastic': 0},\n",
       " {'article_link': 'https://local.theonion.com/rescuers-heroically-help-beached-garbage-back-into-ocea-1819578060',\n",
       "  'headline': 'rescuers heroically help beached garbage back into ocean',\n",
       "  'is_sarcastic': 1},\n",
       " {'article_link': 'https://www.huffingtonpost.com/entry/medical-workers-drop-soccer-player-from-stretcher_us_56deebe5e4b0ffe6f8ea9860',\n",
       "  'headline': \"medics drop soccer player from stretcher; he's ticked\",\n",
       "  'is_sarcastic': 0},\n",
       " {'article_link': 'https://www.huffingtonpost.com/entry/give-the-gift-of-play-thi_b_6309948.html',\n",
       "  'headline': 'give the gift of play this holiday season',\n",
       "  'is_sarcastic': 0},\n",
       " {'article_link': 'https://www.theonion.com/christian-bale-visits-sikh-temple-victims-1819573750',\n",
       "  'headline': 'christian bale visits sikh temple victims',\n",
       "  'is_sarcastic': 1},\n",
       " {'article_link': 'https://www.huffingtonpost.com/entry/sean-spicer-maternity-leave-health-care-bill_us_58d419d7e4b0f838c630a352',\n",
       "  'headline': 'spicer denies that ending maternity care guarantee would mean women pay more for health care',\n",
       "  'is_sarcastic': 0},\n",
       " {'article_link': 'https://www.theonion.com/right-to-live-life-in-complete-stunned-horror-added-t-1819574325',\n",
       "  'headline': \"'right to live life in complete, stunned horror,' added to constitution\",\n",
       "  'is_sarcastic': 1},\n",
       " {'article_link': 'https://www.theonion.com/nasa-now-almost-positive-mars-is-rocky-1819573727',\n",
       "  'headline': 'nasa now almost positive mars is rocky',\n",
       "  'is_sarcastic': 1},\n",
       " {'article_link': 'https://local.theonion.com/monster-undeterred-by-night-light-1819564473',\n",
       "  'headline': 'monster undeterred by night-light',\n",
       "  'is_sarcastic': 1},\n",
       " {'article_link': 'https://www.huffingtonpost.com/entry/diy-sports-equipment-clos_n_5420357.html',\n",
       "  'headline': 'diy: sports equipment closet',\n",
       "  'is_sarcastic': 0},\n",
       " {'article_link': 'https://www.huffingtonpost.com/entry/nyc-concert-shooting_us_57468bbbe4b03ede4413e137',\n",
       "  'headline': '1 dead, 3 injured in shooting at t.i. concert in nyc',\n",
       "  'is_sarcastic': 0},\n",
       " {'article_link': 'https://local.theonion.com/longtime-teacher-retires-without-changing-a-single-stud-1819573446',\n",
       "  'headline': \"longtime teacher retires without changing a single student's life\",\n",
       "  'is_sarcastic': 1},\n",
       " {'article_link': 'https://www.huffingtonpost.com/entry/donald-trump-northeast-state-polls_us_57069d07e4b0b90ac27184eb',\n",
       "  'headline': 'donald trump heading for a series of wins in the northeast, polls say',\n",
       "  'is_sarcastic': 0},\n",
       " {'article_link': 'https://www.huffingtonpost.comhttp://www.wsj.com/articles/self-financing-campaign-all-the-way-would-have-been-a-stretch-for-trump-1463341722',\n",
       "  'headline': \"donald trump wouldn't have had the ready cash to self-finance entire campaign — analysis\",\n",
       "  'is_sarcastic': 0},\n",
       " {'article_link': 'https://entertainment.theonion.com/new-star-wars-film-once-again-disappoints-die-hard-ni-1821291309',\n",
       "  'headline': \"new 'star wars' film once again disappoints die-hard nien nunb fans\",\n",
       "  'is_sarcastic': 1},\n",
       " {'article_link': 'https://local.theonion.com/bats-shooed-out-of-nations-waterslide-tunnels-in-prepar-1819573552',\n",
       "  'headline': \"bats shooed out of nation's waterslide tunnels in preparation for summer\",\n",
       "  'is_sarcastic': 1},\n",
       " {'article_link': 'https://www.theonion.com/mobile-news-crew-reports-on-own-van-breaking-down-1819587345',\n",
       "  'headline': 'mobile news crew reports on own van breaking down',\n",
       "  'is_sarcastic': 1},\n",
       " {'article_link': 'https://www.huffingtonpost.com/entry/syria-humanitarian-crisis_us_59f2fbf2e4b07fdc5fbd5a75',\n",
       "  'headline': \"un rights chief calls humanitarian situation in syria 'an outrage'\",\n",
       "  'is_sarcastic': 0},\n",
       " {'article_link': 'https://www.huffingtonpost.com/entry/track-santa-on-christmas-eve-norad_us_5a3a6364e4b0b0e5a79e9b6e',\n",
       "  'headline': \"how to track santa claus' flight around the world this christmas eve\",\n",
       "  'is_sarcastic': 0},\n",
       " {'article_link': 'https://politics.theonion.com/obama-has-colorado-appraised-1819576803',\n",
       "  'headline': 'obama has colorado appraised',\n",
       "  'is_sarcastic': 1},\n",
       " {'article_link': 'https://entertainment.theonion.com/trouble-again-in-tvs-africa-1819565669',\n",
       "  'headline': \"trouble again in tv's africa\",\n",
       "  'is_sarcastic': 1},\n",
       " {'article_link': 'https://www.theonion.com/brita-unveils-new-in-throat-water-filters-1819578824',\n",
       "  'headline': 'brita unveils new in-throat water filters',\n",
       "  'is_sarcastic': 1},\n",
       " {'article_link': 'https://entertainment.theonion.com/report-john-grisham-slowly-but-surely-climbing-list-of-1826058008',\n",
       "  'headline': 'report: john grisham slowly but surely climbing list of greatest living american authors',\n",
       "  'is_sarcastic': 1},\n",
       " {'article_link': 'https://www.theonion.com/ghost-cant-make-a-simple-cup-of-coffee-without-everyone-1819567608',\n",
       "  'headline': \"ghost can't make a simple cup of coffee without everyone freaking out\",\n",
       "  'is_sarcastic': 1},\n",
       " {'article_link': 'https://local.theonion.com/tupperware-will-never-truly-recover-from-red-curry-left-1819592714',\n",
       "  'headline': 'tupperware will never truly recover from red curry leftovers',\n",
       "  'is_sarcastic': 1},\n",
       " {'article_link': 'https://www.huffingtonpost.com/entry/one-of-the-planets-most-powerful-forces-for-change_us_59dd0877e4b07a185aa75ec6',\n",
       "  'headline': \"one of the planet's most powerful forces for change? an adolescent girl\",\n",
       "  'is_sarcastic': 0},\n",
       " {'article_link': 'https://www.huffingtonpost.com/entry/draymond-green-wnba_us_573c7f0ee4b0646cbeeba0fb',\n",
       "  'headline': 'how does draymond green take his game to the next level? by tuning in to the wnba',\n",
       "  'is_sarcastic': 0},\n",
       " {'article_link': 'https://local.theonion.com/area-woman-said-sorry-118-times-yesterday-1819576089',\n",
       "  'headline': \"area woman said 'sorry' 118 times yesterday\",\n",
       "  'is_sarcastic': 1},\n",
       " {'article_link': 'https://www.huffingtonpost.com/entry/ryan-lochte-apology_us_57b715bae4b0b51733a2e327',\n",
       "  'headline': 'ryan lochte apologizes for behavior in rio',\n",
       "  'is_sarcastic': 0},\n",
       " {'article_link': 'https://www.theonion.com/north-dakota-not-heard-from-in-48-hours-1819564531',\n",
       "  'headline': 'north dakota not heard from in 48 hours',\n",
       "  'is_sarcastic': 1},\n",
       " {'article_link': 'https://www.huffingtonpost.com/entry/4-lessons-prison-taught-m_b_7108198.html',\n",
       "  'headline': '4 lessons prison taught me about power and control',\n",
       "  'is_sarcastic': 0},\n",
       " {'article_link': 'https://www.theonion.com/sick-fucks-line-up-to-gape-at-dead-body-1819591545',\n",
       "  'headline': 'sick fucks line up to gape at dead body',\n",
       "  'is_sarcastic': 1},\n",
       " {'article_link': 'https://www.huffingtonpost.com/entry/muslim-fraternity-alif-laam-meem_n_5405764.html',\n",
       "  'headline': \"what is america's first muslim fraternity really like?\",\n",
       "  'is_sarcastic': 0},\n",
       " {'article_link': 'https://www.huffingtonpost.com/entry/the-vicious-knot-of-syria-the-untangling-process-contains_us_590ff9efe4b0f7118072462a',\n",
       "  'headline': 'the vicious knot of syria, the untangling process contains solutions in our time',\n",
       "  'is_sarcastic': 0},\n",
       " {'article_link': 'https://www.huffingtonpost.com/entry/peter-defazio-craft-beer_us_56215319e4b0bce34700aa00',\n",
       "  'headline': 'this congressman thinks we can fix the economy by drinking beer',\n",
       "  'is_sarcastic': 0},\n",
       " {'article_link': 'https://www.theonion.com/breast-implants-found-to-cause-problems-in-laboratory-m-1819586306',\n",
       "  'headline': 'breast implants found to cause problems in laboratory mice',\n",
       "  'is_sarcastic': 1},\n",
       " {'article_link': 'https://www.huffingtonpost.com/entry/trump-strikes-syria-retaliation-chemical-attack_us_5acc7508e4b07a3485e7e642',\n",
       "  'headline': 'trump orders strikes on syria in retaliation for chemical attack',\n",
       "  'is_sarcastic': 0},\n",
       " {'article_link': 'https://www.theonion.com/ceos-funeral-a-networking-dream-1819569324',\n",
       "  'headline': \"ceo's funeral a networking dream\",\n",
       "  'is_sarcastic': 1},\n",
       " {'article_link': 'https://www.huffingtonpost.com/entry/year-round-schooling-how_b_5740932.html',\n",
       "  'headline': 'year-round schooling: how it would help minority students',\n",
       "  'is_sarcastic': 0},\n",
       " {'article_link': 'https://www.huffingtonpost.com/entry/zen-teachers-abuse-letter_n_6488386.html',\n",
       "  'headline': '90 zen teachers pledge to change culture that fosters abuse',\n",
       "  'is_sarcastic': 0},\n",
       " {'article_link': 'https://www.huffingtonpost.com/entry/substantiated-complaints-_n_6658222.html',\n",
       "  'headline': 'nypd weighs allowing chokeholds following eric garner death',\n",
       "  'is_sarcastic': 0},\n",
       " {'article_link': 'https://www.theonion.com/sonny-bono-foundation-prevents-at-risk-youths-from-skii-1819574621',\n",
       "  'headline': 'sonny bono foundation prevents at-risk youths from skiing into trees',\n",
       "  'is_sarcastic': 1},\n",
       " {'article_link': 'https://www.huffingtonpost.com/entry/pope-francis-reminds-the-world-that-caring-for-the-earth-is-everyones-responsibility_us_593595d7e4b0cfcda9167c04',\n",
       "  'headline': \"pope francis reminds the world that caring for the earth is everyone's responsibility\",\n",
       "  'is_sarcastic': 0},\n",
       " {'article_link': 'https://local.theonion.com/6-year-old-cries-when-told-mtm-productions-kitten-dead-1819565939',\n",
       "  'headline': '6-year-old cries when told mtm productions kitten dead by now',\n",
       "  'is_sarcastic': 1},\n",
       " {'article_link': 'https://local.theonion.com/ex-boyfriend-just-thought-he-d-check-in-and-throw-entir-1819579341',\n",
       "  'headline': \"ex-boyfriend just thought he'd check in and throw entire day off\",\n",
       "  'is_sarcastic': 1},\n",
       " {'article_link': 'https://entertainment.theonion.com/doctors-restore-ken-burns-full-color-vision-after-remo-1819579412',\n",
       "  'headline': \"doctors restore ken burns' full-color vision after removing massive tumor from filmmaker's visual cortex\",\n",
       "  'is_sarcastic': 1},\n",
       " {'article_link': 'https://www.huffingtonpost.com/entry/t-pga-awards-2014_n_5672138.html',\n",
       "  'headline': \"'gravity' & '12 years a slave' tie at 2014 pga awards\",\n",
       "  'is_sarcastic': 0},\n",
       " {'article_link': 'https://www.huffingtonpost.com/entry/lgbq-sports-people-come-out_us_59dd21a2e4b01df09b76c149',\n",
       "  'headline': 'for national coming out day, 150 lgbtq sports people who have come out in the last year',\n",
       "  'is_sarcastic': 0},\n",
       " {'article_link': 'https://www.huffingtonpost.com/entry/john-oliver-trump-impact-america_us_5a094caae4b05673aa5a3b68',\n",
       "  'headline': 'john oliver lays out the most disturbing ways in which trump impacts america',\n",
       "  'is_sarcastic': 0},\n",
       " {'article_link': 'https://www.huffingtonpost.com/entry/jason-chaffetz-strips-mea_n_7629404.html',\n",
       "  'headline': 'house gop crackdown continues',\n",
       "  'is_sarcastic': 0},\n",
       " {'article_link': 'https://www.theonion.com/i-must-make-sure-you-have-the-skills-to-please-my-gran-1823835071',\n",
       "  'headline': \"'i must make sure you have the skills to please my grandson,' says queen elizabeth disrobing before meghan markle\",\n",
       "  'is_sarcastic': 1},\n",
       " {'article_link': 'https://local.theonion.com/man-visiting-hometown-amazed-to-find-all-his-childhood-1819576945',\n",
       "  'headline': 'man visiting hometown amazed to find all his childhood insecurities still there',\n",
       "  'is_sarcastic': 1},\n",
       " {'article_link': 'https://www.huffingtonpost.com/entry/bug-james-rodriguez_n_5559326.html',\n",
       "  'headline': 'look: world cup star attacked by giant bug',\n",
       "  'is_sarcastic': 0},\n",
       " {'article_link': 'https://www.theonion.com/clinton-becomes-first-president-to-clear-18-feet-in-pol-1819586822',\n",
       "  'headline': 'clinton becomes first president to clear 18 feet in pole vault',\n",
       "  'is_sarcastic': 1},\n",
       " {'article_link': 'https://www.theonion.com/hunter-s-thompson-shoots-mouth-off-one-last-time-1819588025',\n",
       "  'headline': 'hunter s. thompson shoots mouth off one last time',\n",
       "  'is_sarcastic': 1},\n",
       " {'article_link': 'https://www.huffingtonpost.com/entry/inhofe-barbra-streisand_n_6261874.html',\n",
       "  'headline': \"inhofe's grand climate conspiracy theory: it's all about barbra streisand\",\n",
       "  'is_sarcastic': 0},\n",
       " {'article_link': 'https://www.huffingtonpost.com/entry/questions-i-wish-younger-people-would-stop-asking_b_6842198.html',\n",
       "  'headline': '5 questions i wish younger people would stop asking me',\n",
       "  'is_sarcastic': 0},\n",
       " {'article_link': 'https://www.huffingtonpost.com/entry/albuquerque-shooting_n_5663923.html',\n",
       "  'headline': 'albuquerque shooter on the loose; gunman leaves 1 dead, 3 injured',\n",
       "  'is_sarcastic': 0},\n",
       " {'article_link': 'https://www.huffingtonpost.com/entry/an-adventure-through-hell_b_7624316.html',\n",
       "  'headline': \"what it's like to lose everything in a flood\",\n",
       "  'is_sarcastic': 0},\n",
       " {'article_link': 'https://www.huffingtonpost.com/entry/watch-demi-lovato-drops-n_n_6377942.html',\n",
       "  'headline': \"demi lovato drops emotional 'nightingale' music vid\",\n",
       "  'is_sarcastic': 0},\n",
       " {'article_link': 'https://www.huffingtonpost.com/entry/miley-cyrus-liam-hemsworth-nye-kiss_us_586a8feae4b0d9a5945c150c',\n",
       "  'headline': 'miley cyrus and liam hemsworth smooch on nye, and the world notices',\n",
       "  'is_sarcastic': 0},\n",
       " {'article_link': 'https://www.theonion.com/jealous-gps-clearly-wants-man-to-back-over-wife-1819589581',\n",
       "  'headline': 'jealous gps clearly wants man to back over wife',\n",
       "  'is_sarcastic': 1},\n",
       " {'article_link': 'https://www.huffingtonpost.com/entry/natalie-morales-queer_us_5958ecbae4b0da2c7324148b',\n",
       "  'headline': \"'parks and rec' star natalie morales comes out as queer\",\n",
       "  'is_sarcastic': 0},\n",
       " {'article_link': 'https://www.huffingtonpost.com/entry/our-top-italy-tours-for-2_b_5787288.html',\n",
       "  'headline': 'the top italy tours for 2015',\n",
       "  'is_sarcastic': 0},\n",
       " {'article_link': 'https://www.huffingtonpost.com/entry/cindy-crawford-daughter-kaia-gerber_us_56b224a9e4b01d80b244a90d',\n",
       "  'headline': \"kaia gerber, cindy crawford's daughter, lands major fashion campaign\",\n",
       "  'is_sarcastic': 0},\n",
       " {'article_link': 'https://sports.theonion.com/l-a-grants-clippers-12-for-new-nets-1819588443',\n",
       "  'headline': 'l.a. grants clippers $12 for new nets',\n",
       "  'is_sarcastic': 1},\n",
       " {'article_link': 'https://www.huffingtonpost.com/entry/david-beckham-matching-victoria_us_593add0be4b0c5a35c9f03d7',\n",
       "  'headline': 'james corden roasts david beckham for matching outfits with posh',\n",
       "  'is_sarcastic': 0},\n",
       " {'article_link': 'https://www.theonion.com/cafe-adds-heartbreaking-little-lunch-menu-1819577737',\n",
       "  'headline': 'café adds heartbreaking little lunch menu',\n",
       "  'is_sarcastic': 1},\n",
       " {'article_link': 'https://www.huffingtonpost.com/entry/mcdonalds-vows-all-green-packaging-goal_us_5a5f95bde4b054e35176b509',\n",
       "  'headline': \"mcdonald's says its packaging will be 100 percent green by 2025\",\n",
       "  'is_sarcastic': 0},\n",
       " {'article_link': 'https://www.huffingtonpost.com/entry/kris-jenner-turned-all-the-way-up-for-drunken-valentines-day-karaoke_us_5a859a15e4b0774f31d2ceb0',\n",
       "  'headline': \"kris jenner turned all the way up for drunken valentine's day karaoke\",\n",
       "  'is_sarcastic': 0},\n",
       " {'article_link': 'https://www.theonion.com/whale-regrets-eating-290-000-plastic-poker-chips-that-f-1819579538',\n",
       "  'headline': 'whale regrets eating 290,000 plastic poker chips that fell off container ship',\n",
       "  'is_sarcastic': 1},\n",
       " {'article_link': 'https://www.huffingtonpost.com/entry/texas-ebola-patient-thomas-eric-duncan_n_5935286.html',\n",
       "  'headline': \"texas ebola patient 'fighting for his life'\",\n",
       "  'is_sarcastic': 0},\n",
       " {'article_link': 'https://local.theonion.com/is-it-too-late-to-audition-asks-perfect-actor-for-ro-1819579594',\n",
       "  'headline': \"'is it too late to audition?' asks perfect actor for role, poking head into room just as producers were giving up hope\",\n",
       "  'is_sarcastic': 1},\n",
       " {'article_link': 'https://entertainment.theonion.com/robert-de-niro-to-turn-58-for-movie-role-1819586959',\n",
       "  'headline': 'robert de niro to turn 58 for movie role',\n",
       "  'is_sarcastic': 1},\n",
       " {'article_link': 'https://www.huffingtonpost.com/entry/scott-pruitt-donald-trump-climate-change_us_5936979de4b013c4816ae169',\n",
       "  'headline': 'scott pruitt (sort of) answers whether trump believes in climate change',\n",
       "  'is_sarcastic': 0},\n",
       " {'article_link': 'https://www.huffingtonpost.com/entry/father-son-urinal-thieves_n_5420448.html',\n",
       "  'headline': 'accused father and son urinal thieves flushed out by cops',\n",
       "  'is_sarcastic': 0},\n",
       " {'article_link': 'https://local.theonion.com/just-take-it-slow-and-you-ll-be-fine-drunk-driver-a-1820399426',\n",
       "  'headline': \"'just take it slow, and you'll be fine,' drunk driver assures self while speeding away in stolen police car\",\n",
       "  'is_sarcastic': 1},\n",
       " {'article_link': 'https://www.huffingtonpost.com/entry/philadelphia-mayor-super-pac_n_7268872.html',\n",
       "  'headline': \"3 libertarians fuel $7 million super pac in philadelphia's mayoral democratic primary\",\n",
       "  'is_sarcastic': 0},\n",
       " {'article_link': 'https://www.huffingtonpost.com/entry/air-force-oath_n_5838802.html',\n",
       "  'headline': \"air force will no longer require 'so help me god' in enlistment oaths\",\n",
       "  'is_sarcastic': 0},\n",
       " {'article_link': 'https://entertainment.theonion.com/paul-newman-dies-after-consuming-51-hard-boiled-eggs-1819589151',\n",
       "  'headline': 'paul newman dies after consuming 51 hard-boiled eggs',\n",
       "  'is_sarcastic': 1},\n",
       " {'article_link': 'https://www.theonion.com/yak-chews-thoughtfully-1819586953',\n",
       "  'headline': 'yak chews thoughtfully',\n",
       "  'is_sarcastic': 1},\n",
       " {'article_link': 'https://local.theonion.com/man-worried-about-drug-dealer-whos-not-picking-up-phone-1819575944',\n",
       "  'headline': \"man worried about drug dealer who's not picking up phone\",\n",
       "  'is_sarcastic': 1},\n",
       " {'article_link': 'https://local.theonion.com/dad-recommends-hotel-10-miles-away-from-city-you-re-vis-1823892709',\n",
       "  'headline': \"dad recommends hotel 10 miles away from city you're visiting\",\n",
       "  'is_sarcastic': 1},\n",
       " {'article_link': 'https://www.huffingtonpost.com/entry/paris-building-explosion_n_5743914.html',\n",
       "  'headline': 'explosion fells building outside paris, killing at least 2',\n",
       "  'is_sarcastic': 0},\n",
       " {'article_link': 'https://www.huffingtonpost.com/entry/source-of-donald-trumps-military-expertise-finally-revealed_us_57d19fb4e4b00642712c3666',\n",
       "  'headline': \"the source of donald trump's military expertise finally revealed!\",\n",
       "  'is_sarcastic': 0},\n",
       " {'article_link': 'https://www.huffingtonpost.com/entry/bernie-sanders-union-workers_us_56aa7ed6e4b05e4e3703b874',\n",
       "  'headline': 'union claims sanders campaign staffers posed as members to influence workers',\n",
       "  'is_sarcastic': 0},\n",
       " {'article_link': 'https://www.huffingtonpost.com/entry/seattle-mayors-accuser-in-sex-abuse-lawsuit-comes-forward_us_58f77208e4b0de5bac429ed3',\n",
       "  'headline': \"seattle mayor's accuser in sex-abuse lawsuit comes forward\",\n",
       "  'is_sarcastic': 0},\n",
       " {'article_link': 'https://local.theonion.com/southern-comfort-comforts-southerner-1819564529',\n",
       "  'headline': 'southern comfort comforts southerner',\n",
       "  'is_sarcastic': 1},\n",
       " {'article_link': 'https://www.huffingtonpost.com/entry/sweden-fox-news-trump-police_us_58ab095ee4b037d17d29be2b',\n",
       "  'headline': 'swedish police featured in film shown by fox news say they were selectively edited',\n",
       "  'is_sarcastic': 0},\n",
       " {'article_link': 'https://www.huffingtonpost.com/entry/chromat-plus-size-models_us_55f420e9e4b063ecbfa48f3c',\n",
       "  'headline': 'chromat features not 1, but 2 plus-size models on its runway',\n",
       "  'is_sarcastic': 0},\n",
       " {'article_link': 'https://www.huffingtonpost.comhttp://www.baltimoresun.com/news/maryland/bs-md-eyeam-baltimore-tour-20150515-story.html',\n",
       "  'headline': 'councilman calls on baltimore rappers to inspire students',\n",
       "  'is_sarcastic': 0},\n",
       " {'article_link': 'https://www.huffingtonpost.com/entry/10-qualities-of-your-inner-spirit_b_7067524.html',\n",
       "  'headline': '10 qualities of your inner spirit',\n",
       "  'is_sarcastic': 0},\n",
       " {'article_link': 'https://entertainment.theonion.com/chubby-jewish-boy-dreams-of-one-day-being-next-apatow-m-1819570967',\n",
       "  'headline': 'chubby jewish boy dreams of one day being next apatow muse',\n",
       "  'is_sarcastic': 1},\n",
       " {'article_link': 'https://www.huffingtonpost.com/entry/the-only-parenting-advice-id-dare-to-give_us_59c75602e4b0f2df5e83af0b',\n",
       "  'headline': \"the only parenting advice i'd dare to give\",\n",
       "  'is_sarcastic': 0},\n",
       " {'article_link': 'https://local.theonion.com/family-chooses-different-dog-than-reincarnated-grandfat-1819578924',\n",
       "  'headline': 'family chooses different dog than reincarnated grandfather',\n",
       "  'is_sarcastic': 1},\n",
       " {'article_link': 'https://www.huffingtonpost.com/entry/celebrities-fourth-of-july_us_577a5ff6e4b0a629c1aa7a94',\n",
       "  'headline': 'celebrities celebrate fourth of july with some fun in the sun',\n",
       "  'is_sarcastic': 0},\n",
       " {'article_link': 'https://www.huffingtonpost.com/entry/international-womens-day-_23_b_6805300.html',\n",
       "  'headline': 'international women\\'s day: will \"western women save the world\"?',\n",
       "  'is_sarcastic': 0},\n",
       " {'article_link': 'https://www.huffingtonpost.com/entry/michelle-phan-empowers-women_n_6271018.html',\n",
       "  'headline': \"michelle phan, youtube's 'beauty bestie,' empowers women from the outside in\",\n",
       "  'is_sarcastic': 0},\n",
       " {'article_link': 'https://www.huffingtonpost.com/entry/caitlyn-jenner-responds-ricky-gervais-jokes_us_5698f048e4b0b4eb759e0957',\n",
       "  'headline': \"caitlyn jenner responds to ricky gervais' golden globes jokes\",\n",
       "  'is_sarcastic': 0},\n",
       " {'article_link': 'https://www.huffingtonpost.com/entry/joy-behar-response-to-michael-flynn-guilty-plea-with-pure-joy_us_5a21a249e4b03c44072d6cdb',\n",
       "  'headline': 'joy behar responds to michael flynn guilty plea with pure joy',\n",
       "  'is_sarcastic': 0},\n",
       " {'article_link': 'https://www.huffingtonpost.com/entry/6-things-no-one-tells-women-about-their-weight-loss-journey_b_7003184.html',\n",
       "  'headline': '6 things no one tells women about their weight loss journey',\n",
       "  'is_sarcastic': 0},\n",
       " {'article_link': 'https://local.theonion.com/fan-disappointed-to-learn-l-ron-hubbard-scientologist-1819580236',\n",
       "  'headline': 'fan disappointed to learn l. ron hubbard scientologist',\n",
       "  'is_sarcastic': 1},\n",
       " {'article_link': 'https://local.theonion.com/marriage-breaks-up-over-procreative-differences-1819586883',\n",
       "  'headline': 'marriage breaks up over procreative differences',\n",
       "  'is_sarcastic': 1},\n",
       " {'article_link': 'https://www.huffingtonpost.com/entry/ne-yo-investment-tech-school-holberton_us_59074214e4b02655f83eaad3',\n",
       "  'headline': 'ne-yo helps to raise $2.3 million for california engineering school',\n",
       "  'is_sarcastic': 0},\n",
       " {'article_link': 'https://www.huffingtonpost.com/entry/elizabeth-warren-donald-trump_us_575a0b38e4b0ced23ca7a3b4',\n",
       "  'headline': \"elizabeth warren calls donald trump a 'racist bully'\",\n",
       "  'is_sarcastic': 0},\n",
       " {'article_link': 'https://www.huffingtonpost.com/entry/baltimore-bus-crash_us_58189085e4b064e1b4b4a389',\n",
       "  'headline': 'six dead, 10 hurt in baltimore commuter, school bus crash',\n",
       "  'is_sarcastic': 0},\n",
       " {'article_link': 'https://www.theonion.com/fox-news-problem-solvers-in-way-over-their-heads-1819587510',\n",
       "  'headline': 'fox news problem solvers in way over their heads',\n",
       "  'is_sarcastic': 1},\n",
       " {'article_link': 'https://www.huffingtonpost.com/entry/kim-gordon-lana-del-rey_n_6745694.html',\n",
       "  'headline': 'kim gordon clarifies her comments on lana del rey and feminism',\n",
       "  'is_sarcastic': 0},\n",
       " {'article_link': 'https://www.theonion.com/bashar-al-assad-tries-tiny-bit-of-sarin-gas-on-self-to-1819575557',\n",
       "  'headline': \"bashar al-assad tries tiny bit of sarin gas on self to see what it's like\",\n",
       "  'is_sarcastic': 1},\n",
       " {'article_link': 'https://www.huffingtonpost.com/entry/my-niece-has-cancer-and-im-ticked-about-it_us_5946bf47e4b0d188d027ff8b',\n",
       "  'headline': \"my niece has cancer and i'm ticked about it\",\n",
       "  'is_sarcastic': 0},\n",
       " {'article_link': 'https://www.huffingtonpost.com/entry/stephanie-seymour-drunk-driving-arrest_us_569ddb71e4b0cd99679b37c8',\n",
       "  'headline': 'supermodel stephanie seymour arrested, charged with drunken driving',\n",
       "  'is_sarcastic': 0},\n",
       " {'article_link': 'https://www.huffingtonpost.com/entry/scoliosis-what-you-need-to-know_us_590ba7e0e4b046ea176ae971',\n",
       "  'headline': 'scoliosis: what you need to know',\n",
       "  'is_sarcastic': 0},\n",
       " {'article_link': 'https://www.huffingtonpost.com/entry/controversy-erupts-after-uk-retailer-removes-gender-labels-from-kids-clothes_us_59aebad4e4b0dfaafcf2bdd7',\n",
       "  'headline': \"controversy erupts after uk retailer removes gender labels from kids' clothes\",\n",
       "  'is_sarcastic': 0},\n",
       " {'article_link': 'https://www.theonion.com/teacher-bitches-about-paycheck-to-sixth-grade-class-1819566662',\n",
       "  'headline': 'teacher bitches about paycheck to sixth-grade class',\n",
       "  'is_sarcastic': 1},\n",
       " {'article_link': 'https://www.theonion.com/area-insurance-salesman-celebrates-14th-year-of-quoting-1819565058',\n",
       "  'headline': 'area insurance salesman celebrates 14th year of quoting fletch',\n",
       "  'is_sarcastic': 1},\n",
       " {'article_link': 'https://www.theonion.com/friends-always-on-best-behavior-around-neil-labute-1819567779',\n",
       "  'headline': 'friends always on best behavior around neil labute',\n",
       "  'is_sarcastic': 1},\n",
       " {'article_link': 'https://entertainment.theonion.com/man-vows-never-to-watch-another-sci-fi-movie-with-physi-1819566728',\n",
       "  'headline': 'man vows never to watch another sci-fi movie with physicist friend',\n",
       "  'is_sarcastic': 1},\n",
       " {'article_link': 'https://www.theonion.com/biologists-announce-they-re-all-done-with-rodents-1819578401',\n",
       "  'headline': \"biologists announce they're all done with rodents\",\n",
       "  'is_sarcastic': 1},\n",
       " {'article_link': 'https://www.huffingtonpost.comhttps://www.washingtonpost.com/lifestyle/megyn-kelly-preps-for-her-trump-interview-a-chance-to-go-to-a-different-place/2016/05/16/15e46206-187a-11e6-9e16-2e5a123aac62_story.html?hpid=hp_hp-top-table-main_kelly-2pm:homepage/story',\n",
       "  'headline': \"megyn kelly on donald trump: 'i have done my level best to not make this story about me'\",\n",
       "  'is_sarcastic': 0},\n",
       " {'article_link': 'https://www.huffingtonpost.com/entry/the-secret-behind-a-one-d_b_7194404.html',\n",
       "  'headline': 'the secret behind a one day project going viral',\n",
       "  'is_sarcastic': 0},\n",
       " {'article_link': 'https://www.huffingtonpost.com/entry/creating-leverage-where-n_b_6303448.html',\n",
       "  'headline': 'creating leverage where none seems to exist',\n",
       "  'is_sarcastic': 0},\n",
       " {'article_link': 'https://entertainment.theonion.com/new-movie-taps-into-nations-love-of-rapping-kangaroos-1819566721',\n",
       "  'headline': \"new movie taps into nation's love of rapping kangaroos\",\n",
       "  'is_sarcastic': 1},\n",
       " {'article_link': 'https://www.theonion.com/newspaper-starting-to-worry-spending-so-much-time-on-fa-1819580373',\n",
       "  'headline': 'newspaper starting to worry spending so much time on facebook not healthy for it',\n",
       "  'is_sarcastic': 1},\n",
       " {'article_link': 'https://www.huffingtonpost.com/entry/the-lawsuit-against-black-lives-matter-and-the-central_us_59640672e4b0911162fc2e6b',\n",
       "  'headline': 'the lawsuit against black lives matter and the central meaning of the first amendment',\n",
       "  'is_sarcastic': 0},\n",
       " {'article_link': 'https://www.theonion.com/vatican-putting-out-feelers-for-how-public-would-react-1819579340',\n",
       "  'headline': \"vatican putting out feelers for how public would react to another children's crusade\",\n",
       "  'is_sarcastic': 1},\n",
       " {'article_link': 'https://www.huffingtonpost.comhttp://baltimore.cbslocal.com/2015/07/18/the-wire-cast-reunited-in-baltimore-to-uplift-community/',\n",
       "  'headline': \"'the wire' cast reunited in baltimore to uplift community\",\n",
       "  'is_sarcastic': 0},\n",
       " {'article_link': 'https://www.huffingtonpost.com/entry/merrick-garland-drug-sentencing-richard-smith_us_57225b30e4b0f309baf0345f',\n",
       "  'headline': \"obama's supreme court nominee just bragged about sending this man to prison. now he's free.\",\n",
       "  'is_sarcastic': 0},\n",
       " {'article_link': 'https://www.huffingtonpost.com/entry/alonzo-smith-dc-homicide_us_566ef473e4b0fccee16f3d59',\n",
       "  'headline': 'death of d.c. man in security guard custody ruled a homicide',\n",
       "  'is_sarcastic': 0},\n",
       " {'article_link': 'https://www.huffingtonpost.com/entry/boehner-vows-to-get-stuff-done_us_560aa588e4b0dd8503092743',\n",
       "  'headline': 'boehner vows to leave successor with clean slate',\n",
       "  'is_sarcastic': 0},\n",
       " {'article_link': 'https://politics.theonion.com/trump-makes-last-minute-push-to-appeal-to-whites-1819579415',\n",
       "  'headline': 'trump makes last-minute push to appeal to whites',\n",
       "  'is_sarcastic': 1},\n",
       " {'article_link': 'https://www.huffingtonpost.com/entry/shishmaref-alaska-relocation-vote-2016_us_57b4faa7e4b095b2f5427b1b',\n",
       "  'headline': 'facing rising seas, remote alaskan village votes to move (again)',\n",
       "  'is_sarcastic': 0},\n",
       " {'article_link': 'https://www.theonion.com/all-of-child-s-fondest-memories-times-when-dad-trying-t-1819577766',\n",
       "  'headline': \"all of child's fondest memories times when dad trying to make up for things\",\n",
       "  'is_sarcastic': 1},\n",
       " {'article_link': 'https://www.huffingtonpost.com/entry/the-worst-place-in-the-wo_b_6192524.html',\n",
       "  'headline': 'the worst place in the world for a child',\n",
       "  'is_sarcastic': 0},\n",
       " {'article_link': 'https://www.huffingtonpost.com/entry/mom-25-years-death-4-month-old-daughter_n_6451446.html',\n",
       "  'headline': \"mom sentenced for encouraging boyfriend's sex assault on baby\",\n",
       "  'is_sarcastic': 0},\n",
       " {'article_link': 'https://www.huffingtonpost.comhttps://www.washingtonpost.com/opinions/an-assault-on-our-values/2016/06/13/a0eadc98-31ae-11e6-8758-d58e76e11b12_story.html',\n",
       "  'headline': \"donald trump's assault on our values\",\n",
       "  'is_sarcastic': 0},\n",
       " {'article_link': 'https://www.huffingtonpost.com/entry/womens-march-inspired-democrats-unseating-gop-men_us_5a03099de4b06ff32c94cb55',\n",
       "  'headline': \"the women's march inspired them to run. now they're unseating gop men.\",\n",
       "  'is_sarcastic': 0},\n",
       " {'article_link': 'https://www.huffingtonpost.com/entry/was-it-worth-it-america_b_6956846.html',\n",
       "  'headline': 'was it worth it, america?',\n",
       "  'is_sarcastic': 0},\n",
       " {'article_link': 'https://www.huffingtonpost.comhttp://www.politico.com/story/2016/04/trump-gop-resistance-222551',\n",
       "  'headline': \"gop senators aren't ready to accept trump as their champion\",\n",
       "  'is_sarcastic': 0},\n",
       " {'article_link': 'https://www.huffingtonpost.com/entry/martin-shkreli-kalobios-ceo_us_564f55f0e4b0258edb313e7c',\n",
       "  'headline': 'price-gouging pharma ceo takes over cancer company',\n",
       "  'is_sarcastic': 0},\n",
       " {'article_link': 'https://www.theonion.com/man-failing-to-heed-harsh-lessons-of-past-orders-sonic-1819576683',\n",
       "  'headline': 'man failing to heed harsh lessons of past orders sonic bacon cheeseburger toaster',\n",
       "  'is_sarcastic': 1},\n",
       " {'article_link': 'https://entertainment.theonion.com/ken-burns-completes-documentary-about-fucking-liars-who-1819579264',\n",
       "  'headline': \"ken burns completes documentary about fucking liars who claimed they watched entire 'jazz' series\",\n",
       "  'is_sarcastic': 1},\n",
       " {'article_link': 'https://www.theonion.com/magic-markered-initials-fail-to-deter-breakroom-rice-ca-1819567927',\n",
       "  'headline': 'magic-markered initials fail to deter breakroom rice-cake thief',\n",
       "  'is_sarcastic': 1},\n",
       " {'article_link': 'https://www.huffingtonpost.com/entry/straight-outta-compton-is_b_7993458.html',\n",
       "  'headline': \"'straight outta compton' is a stunning surprise\",\n",
       "  'is_sarcastic': 0},\n",
       " {'article_link': 'https://www.huffingtonpost.com/entry/carly-rae-jepsen-all-that_n_7007920.html',\n",
       "  'headline': \"carly rae jepsen just released her new single, 'all that'\",\n",
       "  'is_sarcastic': 0},\n",
       " {'article_link': 'https://www.theonion.com/god-humbled-to-be-the-answer-to-jeopardy-clue-1826072334',\n",
       "  'headline': \"god humbled to be the answer to 'jeopardy!' clue\",\n",
       "  'is_sarcastic': 1},\n",
       " {'article_link': 'https://local.theonion.com/female-barista-getting-a-lot-better-at-avoiding-touchin-1822847043',\n",
       "  'headline': \"female barista getting a lot better at avoiding touching male patrons' hands when they pay\",\n",
       "  'is_sarcastic': 1},\n",
       " {'article_link': 'https://www.huffingtonpost.com/entry/konstanz-nightclub-shooting-germany_us_597d9422e4b02a8434b6e44a',\n",
       "  'headline': 'gunman kills one, wounds four in shooting at german nightclub',\n",
       "  'is_sarcastic': 0},\n",
       " {'article_link': 'https://www.theonion.com/couple-at-point-where-theyre-comfortable-using-toilet-a-1819574876',\n",
       "  'headline': \"couple at point where they're comfortable using toilet at same time\",\n",
       "  'is_sarcastic': 1},\n",
       " {'article_link': 'https://www.huffingtonpost.com/entry/cougar-p-23-killed-malibu_us_5a73c590e4b0905433b2a507',\n",
       "  'headline': 'mountain lion tracked by scientists is found dead near malibu road',\n",
       "  'is_sarcastic': 0},\n",
       " {'article_link': 'https://www.huffingtonpost.com/entry/noah-cyrus-has-pipes_us_58920c14e4b0522c7d3e625f',\n",
       "  'headline': \"noah cyrus makes her late-night debut belting out 'make me (cry)'\",\n",
       "  'is_sarcastic': 0},\n",
       " {'article_link': 'https://politics.theonion.com/scalia-goes-on-abortion-bender-after-being-passed-over-1819568026',\n",
       "  'headline': 'scalia goes on abortion bender after being passed over for chief justice',\n",
       "  'is_sarcastic': 1},\n",
       " {'article_link': 'https://www.theonion.com/campbells-unveils-one-big-can-sized-noodle-1822424458',\n",
       "  'headline': \"campbell's unveils one big can-sized noodle\",\n",
       "  'is_sarcastic': 1},\n",
       " {'article_link': 'https://local.theonion.com/is-area-man-going-to-finish-those-fries-1819565422',\n",
       "  'headline': 'is area man going to finish those fries?',\n",
       "  'is_sarcastic': 1},\n",
       " {'article_link': 'https://www.huffingtonpost.com/entry/taylor-swift-gremlin-voice_n_6049578.html',\n",
       "  'headline': \"taylor swift used a 'gremlin voice' while writing '1989'\",\n",
       "  'is_sarcastic': 0},\n",
       " {'article_link': 'https://local.theonion.com/restaurant-s-eating-challenge-rewards-any-patron-who-ca-1819579155',\n",
       "  'headline': \"restaurant's eating challenge rewards any patron who can consume reasonably portioned meal\",\n",
       "  'is_sarcastic': 1},\n",
       " {'article_link': 'https://local.theonion.com/fun-sticker-placed-on-child-s-ventilator-1819591576',\n",
       "  'headline': \"fun sticker placed on child's ventilator\",\n",
       "  'is_sarcastic': 1},\n",
       " {'article_link': 'https://www.huffingtonpost.com/entry/the-best-way-to-eat-avoca_b_5602606.html',\n",
       "  'headline': 'the best way to eat avocados: avocado pasta',\n",
       "  'is_sarcastic': 0},\n",
       " {'article_link': 'https://www.theonion.com/that-one-mcdonalds-plate-from-the-70s-holy-shit-there-1819586984',\n",
       "  'headline': \"that one mcdonald's plate from the '70s: holy shit, there it is\",\n",
       "  'is_sarcastic': 1},\n",
       " {'article_link': 'https://www.huffingtonpost.com/entry/an-open-letter-to-progres_b_7257776.html',\n",
       "  'headline': \"an open letter to progressives: tpp is not yet 'the most progressive trade agreement in history'\",\n",
       "  'is_sarcastic': 0},\n",
       " {'article_link': 'https://www.theonion.com/modern-day-lancelot-offers-to-pay-for-abortion-1819577414',\n",
       "  'headline': 'modern-day lancelot offers to pay for abortion',\n",
       "  'is_sarcastic': 1},\n",
       " {'article_link': 'https://www.theonion.com/united-airlines-offering-immigrants-special-flights-tha-1819580058',\n",
       "  'headline': 'united airlines offering immigrants special flights that circle u.s. awaiting gaps in travel ban',\n",
       "  'is_sarcastic': 1},\n",
       " {'article_link': 'https://www.theonion.com/sun-thinking-of-just-collapsing-now-and-getting-this-al-1821437839',\n",
       "  'headline': 'sun thinking of just collapsing now and getting this all over with',\n",
       "  'is_sarcastic': 1},\n",
       " {'article_link': 'https://www.huffingtonpost.com/entry/clarence-thomas-retiring-ginni-thomas_us_57684942e4b015db1bca42e5',\n",
       "  'headline': \"justice thomas' wife calls supreme court retirement report 'bogus'\",\n",
       "  'is_sarcastic': 0},\n",
       " {'article_link': 'https://politics.theonion.com/trump-retweets-video-from-anti-muslim-hate-group-1820885422',\n",
       "  'headline': 'trump retweets video from anti-muslim hate group',\n",
       "  'is_sarcastic': 1},\n",
       " {'article_link': 'https://local.theonion.com/long-silent-facebook-friend-comes-out-of-woodwork-with-1819577520',\n",
       "  'headline': 'long-silent facebook friend comes out of woodwork with post asking about insulating windows',\n",
       "  'is_sarcastic': 1},\n",
       " {'article_link': 'https://www.theonion.com/struggling-airline-helped-by-friendly-giant-1819566439',\n",
       "  'headline': 'struggling airline helped by friendly giant',\n",
       "  'is_sarcastic': 1},\n",
       " {'article_link': 'https://www.huffingtonpost.com/entry/how-to-breakup-like-a-boss_n_7166338.html',\n",
       "  'headline': '7 ways to breakup like a boss',\n",
       "  'is_sarcastic': 0},\n",
       " {'article_link': 'https://www.huffingtonpost.com/entry/malcolm-in-the-middle-reboot_us_55facc4ae4b0fde8b0cd23fe',\n",
       "  'headline': \"sure seems like frankie muniz wants a 'malcolm in the middle' reboot\",\n",
       "  'is_sarcastic': 0},\n",
       " {'article_link': 'https://www.huffingtonpost.com/entry/using-the-united-fiasco-to-flourish-in-the-future_us_58f39cebe4b048372700d953',\n",
       "  'headline': 'using the united fiasco to flourish in the future',\n",
       "  'is_sarcastic': 0},\n",
       " {'article_link': 'https://local.theonion.com/unemployed-sibling-makes-last-push-for-group-mother-s-d-1819577778',\n",
       "  'headline': \"unemployed sibling makes last push for group mother's day gift\",\n",
       "  'is_sarcastic': 1},\n",
       " {'article_link': 'https://www.theonion.com/3822-voted-americas-favorite-pin-number-1819566070',\n",
       "  'headline': \"3822 voted america's favorite pin number\",\n",
       "  'is_sarcastic': 1},\n",
       " {'article_link': 'https://www.huffingtonpost.com/entry/thank-a-teacher-thursday--_b_7463640.html',\n",
       "  'headline': 'thank a teacher thursday: dominic casulli and the power of encouragement, part 1',\n",
       "  'is_sarcastic': 0},\n",
       " {'article_link': 'https://www.huffingtonpost.com/entry/a-toe-in-the-arctic-ocean_b_7895942.html',\n",
       "  'headline': \"a toe in the arctic ocean: canada's northwest territories on the looney front, part 2\",\n",
       "  'is_sarcastic': 0},\n",
       " {'article_link': 'https://www.huffingtonpost.com/entry/it-will-never-happen-to-me_us_590cb4b0e4b0f71180724429',\n",
       "  'headline': \"'it will never happen to me'\",\n",
       "  'is_sarcastic': 0},\n",
       " {'article_link': 'https://www.theonion.com/mark-zuckerberg-cited-for-contempt-of-congress-after-re-1825178093',\n",
       "  'headline': 'mark zuckerberg cited for contempt of congress after refusing to shut the fuck up about how he started company in dorm room',\n",
       "  'is_sarcastic': 1},\n",
       " {'article_link': 'https://www.huffingtonpost.comhttp://pubx.co/ik1f48',\n",
       "  'headline': \"rubio supporters get in a scuffle with a 'rubiobot'\",\n",
       "  'is_sarcastic': 0},\n",
       " {'article_link': 'https://www.huffingtonpost.com/entry/the-music-of-strangers-a-film-review-by-dr-lloyd_us_5766d293e4b0092652d7a275',\n",
       "  'headline': 'the music of strangers: a film review by dr. lloyd sederer',\n",
       "  'is_sarcastic': 0},\n",
       " {'article_link': 'https://www.theonion.com/dsm-5-updated-to-accommodate-man-who-is-legitimately-1819579090',\n",
       "  'headline': \"'dsm-5' updated to accommodate man who is legitimately being ordered to kill by the moon\",\n",
       "  'is_sarcastic': 1},\n",
       " {'article_link': 'https://www.theonion.com/purina-debuts-new-slovenly-feast-for-nasty-ass-shelte-1820086710',\n",
       "  'headline': \"purina debuts new 'slovenly feast' for nasty-ass shelter cats\",\n",
       "  'is_sarcastic': 1},\n",
       " {'article_link': 'https://www.huffingtonpost.com/entry/obama-darrell-issa_us_580e2324e4b000d0b1578c14',\n",
       "  'headline': 'obama chides darrell issa for touting alliance with him in re-election fight',\n",
       "  'is_sarcastic': 0},\n",
       " {'article_link': 'https://www.huffingtonpost.com/entry/pope-francis-iraq-peace_n_5669666.html',\n",
       "  'headline': \"pope francis' iraq peace message meets the reality of war\",\n",
       "  'is_sarcastic': 0},\n",
       " {'article_link': 'https://www.huffingtonpost.com/entry/ant-man-and-the-wasp-trailer_us_5ae877bfe4b02baed1be36eb',\n",
       "  'headline': \"'ant-man and the wasp' trailer brings the fun after 'avengers: infinity war'\",\n",
       "  'is_sarcastic': 0},\n",
       " {'article_link': 'https://www.theonion.com/frontier-airlines-tells-customers-to-just-fucking-deal-1819580035',\n",
       "  'headline': 'frontier airlines tells customers to just fucking deal with it',\n",
       "  'is_sarcastic': 1},\n",
       " {'article_link': 'https://www.huffingtonpost.com/entry/moses-and-the-red-sea_b_7004042.html',\n",
       "  'headline': 'moses and the red sea',\n",
       "  'is_sarcastic': 0},\n",
       " {'article_link': 'https://www.theonion.com/everyone-forgets-to-bring-swimsuits-to-coworker-s-party-1819575001',\n",
       "  'headline': \"everyone forgets to bring swimsuits to coworker's party\",\n",
       "  'is_sarcastic': 1},\n",
       " {'article_link': 'https://www.huffingtonpost.com/entry/george-takei-accused-sexual-assault_us_5a0661dde4b01d21c83e9fc8',\n",
       "  'headline': 'george takei accused of groping former male model in 1981',\n",
       "  'is_sarcastic': 0},\n",
       " {'article_link': 'https://www.theonion.com/new-york-times-adds-color-to-target-under-70-demographi-1819564443',\n",
       "  'headline': 'new york times adds color to target under-70 demographic',\n",
       "  'is_sarcastic': 1},\n",
       " {'article_link': 'https://www.huffingtonpost.com/entry/the-hollywood-boys-club-that-supports-casey-affleck_us_58b34bbbe4b0658fc20f9720',\n",
       "  'headline': \"the hollywood boys' club that supports casey affleck is a total disgrace\",\n",
       "  'is_sarcastic': 0},\n",
       " {'article_link': 'https://www.huffingtonpost.com/entry/3-myths-about-low-libido_b_7640656.html',\n",
       "  'headline': '3 myths about low libido',\n",
       "  'is_sarcastic': 0},\n",
       " {'article_link': 'https://www.theonion.com/girl-scouts-rocked-by-cookies-for-cash-fundraising-sc-1819586265',\n",
       "  'headline': \"girl scouts rocked by 'cookies for cash' fundraising scandal\",\n",
       "  'is_sarcastic': 1},\n",
       " {'article_link': 'https://local.theonion.com/christian-juggler-regrets-years-wasted-as-secular-juggl-1819568246',\n",
       "  'headline': 'christian juggler regrets years wasted as secular juggler',\n",
       "  'is_sarcastic': 1},\n",
       " {'article_link': 'https://www.huffingtonpost.com/entry/huffpollster-voting-rights-remain-a-problem_us_55c4addee4b0d9b743dbbd78',\n",
       "  'headline': 'huffpollster: americans see progress, room for improvement on voting rights',\n",
       "  'is_sarcastic': 0},\n",
       " {'article_link': 'https://www.huffingtonpost.com/entry/world-will-miss-goal-for-universal-education-by-50-years-un_us_57cec2c1e4b0a22de096dbad',\n",
       "  'headline': 'world will miss goal for universal education by 50 years: un',\n",
       "  'is_sarcastic': 0},\n",
       " {'article_link': 'https://www.huffingtonpost.com/entry/jennifer-lopez-name-change_n_6413536.html',\n",
       "  'headline': \"jennifer lopez's name is jennifer lopez again\",\n",
       "  'is_sarcastic': 0},\n",
       " {'article_link': 'https://www.huffingtonpost.com/entry/how-to-rebuild-your-credi_b_5790860.html',\n",
       "  'headline': 'how to rebuild your credit after bankruptcy -- fast',\n",
       "  'is_sarcastic': 0},\n",
       " {'article_link': 'https://www.huffingtonpost.com/entry/google-timelapse-climate-change_us_58491117e4b0f9723d0046d7',\n",
       "  'headline': 'discover how climate change is rapidly transforming our earth with google timelapse',\n",
       "  'is_sarcastic': 0},\n",
       " {'article_link': 'https://local.theonion.com/man-who-does-everything-at-last-minute-wonders-how-you-1819568263',\n",
       "  'headline': 'man who does everything at last minute wonders how you do it',\n",
       "  'is_sarcastic': 1},\n",
       " {'article_link': 'https://www.huffingtonpost.com/entry/voting-lines-are-shorter-but-mostly-for-whites_us_5a85a1bbe4b00e7aba2d2978',\n",
       "  'headline': 'voting lines are shorter — but mostly for whites',\n",
       "  'is_sarcastic': 0},\n",
       " {'article_link': 'https://entertainment.theonion.com/conrad-bain-steps-down-as-national-kitsch-reference-lau-1819566330',\n",
       "  'headline': 'conrad bain steps down as national kitsch-reference laureate',\n",
       "  'is_sarcastic': 1},\n",
       " {'article_link': 'https://www.huffingtonpost.com/entry/amanda-slavin-not-just-a-_b_5794432.html',\n",
       "  'headline': 'amanda slavin: not just a statistic',\n",
       "  'is_sarcastic': 0},\n",
       " {'article_link': 'https://www.huffingtonpost.com/entry/laurie-hernandez-and-val-chmerkovskiy-are-already-our-favorite-dancing-with-the-stars-couple_us_57c87863e4b0a22de094ce58',\n",
       "  'headline': \"laurie hernandez and val chmerkovskiy are already our favorite 'dancing with the stars' couple\",\n",
       "  'is_sarcastic': 0},\n",
       " {'article_link': 'https://www.huffingtonpost.com/entry/hurricane-matthew-photos_us_57f69868e4b00885f2c68128',\n",
       "  'headline': \"new photos show hurricane matthew's path of destruction in haiti\",\n",
       "  'is_sarcastic': 0},\n",
       " {'article_link': 'https://www.huffingtonpost.com/entry/florida-child-marriage-law-under-17_us_5aa5066fe4b086698a9e91d4',\n",
       "  'headline': 'florida lawmakers vote to ban marriage under the age of 17',\n",
       "  'is_sarcastic': 0},\n",
       " {'article_link': 'https://www.theonion.com/nasa-inadvertently-launches-unmanned-space-shuttle-1819589966',\n",
       "  'headline': 'nasa inadvertently launches unmanned space shuttle',\n",
       "  'is_sarcastic': 1},\n",
       " {'article_link': 'https://www.huffingtonpost.com/entry/nick-viall-bachelor-winner_us_58c1bee2e4b0ed71826b408d',\n",
       "  'headline': \"nick viall is no longer a 'bachelor'\",\n",
       "  'is_sarcastic': 0},\n",
       " {'article_link': 'https://www.huffingtonpost.com/entry/why-america-demonizes-its-teachers_b_7463084.html',\n",
       "  'headline': 'why america demonizes its teachers',\n",
       "  'is_sarcastic': 0},\n",
       " {'article_link': 'https://www.theonion.com/new-instant-lottery-game-features-three-ways-to-win-19-1819586628',\n",
       "  'headline': 'new instant lottery game features three ways to win, 19,839,947 ways to lose',\n",
       "  'is_sarcastic': 1},\n",
       " {'article_link': 'https://www.theonion.com/podcast-a-cry-for-help-1819567977',\n",
       "  'headline': 'podcast a cry for help',\n",
       "  'is_sarcastic': 1},\n",
       " {'article_link': 'https://www.huffingtonpost.com/entry/peter-soms-minestrone-soup_b_5777290.html',\n",
       "  'headline': \"fashion designer peter som's legendary minestrone soup recipe\",\n",
       "  'is_sarcastic': 0},\n",
       " {'article_link': 'https://www.huffingtonpost.com/entry/lola-flash-photos_n_7172994.html',\n",
       "  'headline': 'photography series spotlighting iconic women over 70 proves the best is yet to come',\n",
       "  'is_sarcastic': 0},\n",
       " {'article_link': 'https://entertainment.theonion.com/clairvoyant-vince-vaughn-accepts-movie-role-before-its-1819568014',\n",
       "  'headline': \"clairvoyant vince vaughn accepts movie role before it's offered\",\n",
       "  'is_sarcastic': 1},\n",
       " {'article_link': 'https://www.huffingtonpost.com/entry/kenan-thompson-leaving-snl_n_5862614.html',\n",
       "  'headline': \"report kenan thompson is leaving 'snl' deemed 'inaccurate'\",\n",
       "  'is_sarcastic': 0},\n",
       " {'article_link': 'https://www.huffingtonpost.com/entry/jill-roy-butt_n_5947842.html',\n",
       "  'headline': 'woman hid heroin, oxy under fake butt, cops say',\n",
       "  'is_sarcastic': 0},\n",
       " {'article_link': 'https://www.huffingtonpost.com/entry/dont-cry-for-me_b_5646199.html',\n",
       "  'headline': \"'don't cry for me'\",\n",
       "  'is_sarcastic': 0},\n",
       " {'article_link': 'https://www.huffingtonpost.com/entry/isis-and-the-g41-world_b_5681474.html',\n",
       "  'headline': 'isis and the g-41 world',\n",
       "  'is_sarcastic': 0},\n",
       " {'article_link': 'https://politics.theonion.com/melania-trump-hangs-decayed-badger-carcass-over-white-h-1820886857',\n",
       "  'headline': 'melania trump hangs decayed badger carcass over white house mantel to finish off traditional slovenian christmas decor',\n",
       "  'is_sarcastic': 1},\n",
       " {'article_link': 'https://entertainment.theonion.com/woman-who-admits-to-having-watched-golden-globes-thinks-1819574376',\n",
       "  'headline': 'woman who admits to having watched golden globes thinks jodie foster embarrassed herself',\n",
       "  'is_sarcastic': 1},\n",
       " {'article_link': 'https://www.huffingtonpost.com/entry/trump-attacks-kirsten-gillibrand_us_5a300bcfe4b07895028418cb',\n",
       "  'headline': \"sarah huckabee sanders defends trump's sexist attack on kirsten gillibrand\",\n",
       "  'is_sarcastic': 0},\n",
       " {'article_link': 'https://www.huffingtonpost.com/entry/villa-carlotta-renovation_n_6496596.html',\n",
       "  'headline': \"saying goodbye to hollywood's hottest, seediest address\",\n",
       "  'is_sarcastic': 0},\n",
       " {'article_link': 'https://politics.theonion.com/bush-increasingly-focused-on-how-revisionist-history-wi-1819568342',\n",
       "  'headline': 'bush increasingly focused on how revisionist history will see him',\n",
       "  'is_sarcastic': 1},\n",
       " {'article_link': 'https://www.huffingtonpost.com/entry/11-years-later-the-human-_b_5242182.html',\n",
       "  'headline': '11 years later: the human genome paves the way for genomic technonlogy',\n",
       "  'is_sarcastic': 0},\n",
       " {'article_link': 'https://www.huffingtonpost.com/entry/nigeria-boko-haram_us_57e81279e4b0e80b1ba2a0fe',\n",
       "  'headline': 'man claiming to be boko haram leader appears in new video',\n",
       "  'is_sarcastic': 0},\n",
       " {'article_link': 'https://www.huffingtonpost.com/entry/how-do-i-live-with-proof-_b_5812372.html',\n",
       "  'headline': 'how do i live knowing proof of heaven?',\n",
       "  'is_sarcastic': 0},\n",
       " {'article_link': 'https://www.huffingtonpost.com/entry/on-pilgrimage-in-india_b_6265672.html',\n",
       "  'headline': 'on pilgrimage in india',\n",
       "  'is_sarcastic': 0},\n",
       " {'article_link': 'https://www.huffingtonpost.com/entry/will-religious-freedom-advocates-oppose-roy-moore_us_5a2987b0e4b09ee35b8ae73e',\n",
       "  'headline': 'will religious freedom advocates oppose roy moore?',\n",
       "  'is_sarcastic': 0},\n",
       " {'article_link': 'https://www.huffingtonpost.com/entry/uaw-fca-negotiations_us_55f8228de4b09ecde1d9a378',\n",
       "  'headline': \"uaw, fca still negotiating under 'hour-by-hour' contract extension\",\n",
       "  'is_sarcastic': 0},\n",
       " {'article_link': 'https://www.huffingtonpost.com/entry/if-bernie-sanders-wanted-to-solve-problems-like-donald-trump_us_565df661e4b072e9d1c38c37',\n",
       "  'headline': 'if bernie sanders wanted to solve problems like donald trump',\n",
       "  'is_sarcastic': 0},\n",
       " {'article_link': 'https://www.huffingtonpost.com/entry/there-is-no-right-way-just-write_b_5619037.html',\n",
       "  'headline': 'there is no right way, just write',\n",
       "  'is_sarcastic': 0},\n",
       " {'article_link': 'https://local.theonion.com/rest-of-evening-spent-declaring-asshole-not-going-to-ru-1819576790',\n",
       "  'headline': 'rest of evening spent declaring asshole not going to ruin evening',\n",
       "  'is_sarcastic': 1},\n",
       " {'article_link': 'https://www.huffingtonpost.com/entry/north-carolina-police-camera-footage_us_57850a43e4b0ed2111d7952a',\n",
       "  'headline': \"north carolina doesn't seem to want people to see police camera footage\",\n",
       "  'is_sarcastic': 0},\n",
       " {'article_link': 'https://www.huffingtonpost.com/entry/transgender-student-bathrooms_us_5a81c443e4b0c6726e15d2bb',\n",
       "  'headline': \"the education department officially won't deal with transgender students experiencing bathroom discrimination\",\n",
       "  'is_sarcastic': 0},\n",
       " {'article_link': 'https://www.huffingtonpost.com/entry/why-we-wont-be-participat_b_6234830.html',\n",
       "  'headline': \"why we won't be participating in black friday\",\n",
       "  'is_sarcastic': 0},\n",
       " {'article_link': 'https://politics.theonion.com/hooded-members-of-congress-drown-another-love-child-in-1820838488',\n",
       "  'headline': 'hooded members of congress drown another love child in potomac to prevent affair from getting out',\n",
       "  'is_sarcastic': 1},\n",
       " {'article_link': 'https://www.huffingtonpost.com/entry/merkel-isis_n_5747976.html',\n",
       "  'headline': 'merkel: isis poses major risk to europe',\n",
       "  'is_sarcastic': 0},\n",
       " {'article_link': 'https://www.theonion.com/alcoholic-kindergarten-teacher-stretches-naptime-to-thr-1819568162',\n",
       "  'headline': 'alcoholic kindergarten teacher stretches naptime to three hours',\n",
       "  'is_sarcastic': 1},\n",
       " {'article_link': 'https://local.theonion.com/report-store-out-of-good-kind-1819579851',\n",
       "  'headline': 'report: store out of good kind',\n",
       "  'is_sarcastic': 1},\n",
       " {'article_link': 'https://www.huffingtonpost.com/entry/devastating-floods-west-virginia_us_576d52a4e4b0dbb1bbba576f',\n",
       "  'headline': 'devastating floods leave 23 dead in west virginia',\n",
       "  'is_sarcastic': 0},\n",
       " {'article_link': 'https://www.huffingtonpost.com/entry/obamas-grace-the-atlantic_n_7680000.html',\n",
       "  'headline': \"obama's greatest oratory performance\",\n",
       "  'is_sarcastic': 0},\n",
       " {'article_link': 'https://local.theonion.com/grandmother-palms-grandson-10-like-she-fixing-boxing-m-1819578572',\n",
       "  'headline': 'grandmother palms grandson $10 like she fixing boxing match',\n",
       "  'is_sarcastic': 1},\n",
       " {'article_link': 'https://www.theonion.com/bumper-nilla-crop-spells-profit-for-wafer-growers-1819568618',\n",
       "  'headline': 'bumper nilla crop spells profit for wafer growers',\n",
       "  'is_sarcastic': 1},\n",
       " {'article_link': 'https://www.huffingtonpost.com/entry/6-summer-salads-youll-act_b_5517682.html',\n",
       "  'headline': \"6 summer salads you'll actually crave\",\n",
       "  'is_sarcastic': 0},\n",
       " {'article_link': 'https://www.huffingtonpost.com/entry/the-black-keys-turn-blue_n_5272454.html',\n",
       "  'headline': \"the black keys new album 'turn blue' is now available to stream in full\",\n",
       "  'is_sarcastic': 0},\n",
       " {'article_link': 'https://www.huffingtonpost.com/entry/isis-vs-isil-whats-in-a-n_b_5807198.html',\n",
       "  'headline': \"isis vs isil -- what's in a name?\",\n",
       "  'is_sarcastic': 0},\n",
       " {'article_link': 'https://www.theonion.com/national-trust-for-historic-preservation-to-pay-for-and-1819568738',\n",
       "  'headline': \"national trust for historic preservation to pay for andy rooney's upkeep\",\n",
       "  'is_sarcastic': 1},\n",
       " {'article_link': 'https://local.theonion.com/list-of-names-on-gchat-sidebar-like-a-portal-into-area-1819579005',\n",
       "  'headline': \"list of names on gchat sidebar like a portal into area man's past lives\",\n",
       "  'is_sarcastic': 1},\n",
       " {'article_link': 'https://www.huffingtonpost.com/entry/tomi-lahren-sues-glenn-beck_us_58e7f216e4b058f0a02f3841',\n",
       "  'headline': 'tomi lahren is suing glenn beck and theblaze',\n",
       "  'is_sarcastic': 0},\n",
       " {'article_link': 'https://www.huffingtonpost.com/entry/greg-hardy-unapologetically-refutes-domestic-abuse-allegations_us_5702cdffe4b083f5c6088971',\n",
       "  'headline': 'greg hardy unapologetically denies domestic abuse allegations',\n",
       "  'is_sarcastic': 0},\n",
       " {'article_link': 'https://www.huffingtonpost.com/entry/tunisia-hotel-attack-survivors_n_7677574.html',\n",
       "  'headline': 'tourists describe scenes of horror in tunisian beach massacre',\n",
       "  'is_sarcastic': 0},\n",
       " {'article_link': 'https://www.huffingtonpost.com/entry/trump-voters-blink_us_596d85e5e4b05561da5a5a40',\n",
       "  'headline': 'trump voters blink',\n",
       "  'is_sarcastic': 0},\n",
       " {'article_link': 'https://www.huffingtonpost.com/entry/ahs-pregnant-gaga-photos-may-explain-creepy-kids_us_561fa5c3e4b028dd7ea6bc14',\n",
       "  'headline': \"photos from 'ahs' set may help explain all those creepy blond children\",\n",
       "  'is_sarcastic': 0},\n",
       " {'article_link': 'https://www.theonion.com/study-more-couples-delaying-divorce-until-kids-old-eno-1819576618',\n",
       "  'headline': 'study: more couples delaying divorce until kids old enough to remember every painful detail',\n",
       "  'is_sarcastic': 1},\n",
       " {'article_link': 'https://www.theonion.com/never-before-heard-buzzword-flying-around-office-can-t-1819578329',\n",
       "  'headline': \"never-before-heard buzzword flying around office can't be good\",\n",
       "  'is_sarcastic': 1},\n",
       " {'article_link': 'https://local.theonion.com/man-not-certain-what-any-of-his-coworkers-names-are-1819574786',\n",
       "  'headline': \"man not certain what any of his coworkers' names are\",\n",
       "  'is_sarcastic': 1},\n",
       " {'article_link': 'https://www.huffingtonpost.com/entry/smartphone-warning-label_us_56152dc6e4b0cf9984d7c43a',\n",
       "  'headline': 'psychologists push for smartphone warning labels',\n",
       "  'is_sarcastic': 0},\n",
       " {'article_link': 'https://politics.theonion.com/clinton-receives-400-000-honorary-degrees-for-college-c-1819592824',\n",
       "  'headline': 'clinton receives 400,000 honorary degrees for college commencement speech',\n",
       "  'is_sarcastic': 1},\n",
       " {'article_link': 'https://local.theonion.com/scavenger-hunt-party-not-leaving-without-twine-1819568822',\n",
       "  'headline': \"scavenger-hunt party 'not leaving without twine'\",\n",
       "  'is_sarcastic': 1},\n",
       " {'article_link': 'https://www.huffingtonpost.com/entry/republican-obamacare-problem_us_58af114be4b057efdce9e743',\n",
       "  'headline': 'the republican obamacare dilemma in one 6-minute video',\n",
       "  'is_sarcastic': 0},\n",
       " {'article_link': 'https://www.huffingtonpost.com/entry/rohingya-mass-graves-myanmar_us_5a734e7ae4b0905433b21a6e',\n",
       "  'headline': 'mass graves suggest systematic killing of rohingya in myanmar',\n",
       "  'is_sarcastic': 0},\n",
       " {'article_link': 'https://www.theonion.com/final-german-u-boat-surrenders-to-allied-powers-1819588851',\n",
       "  'headline': 'final german u-boat surrenders to allied powers',\n",
       "  'is_sarcastic': 1},\n",
       " {'article_link': 'https://www.huffingtonpost.com/entry/private-prison-companies-will-keep-locking-up-immigrants-after-doj-decision_us_57b60b6be4b00d9c3a165506',\n",
       "  'headline': 'private prison companies will still lock up immigrants, despite doj decision',\n",
       "  'is_sarcastic': 0},\n",
       " {'article_link': 'https://www.theonion.com/woman-s-head-feared-lost-forever-inside-infinity-scarf-1819592751',\n",
       "  'headline': \"woman's head feared lost forever inside infinity scarf\",\n",
       "  'is_sarcastic': 1},\n",
       " {'article_link': 'https://local.theonion.com/fed-up-brookstone-body-massage-chair-now-only-entertain-1819588319',\n",
       "  'headline': 'fed-up brookstone body-massage chair now only entertaining serious buyers',\n",
       "  'is_sarcastic': 1},\n",
       " {'article_link': 'https://politics.theonion.com/trump-asks-entire-senate-to-clear-out-of-chamber-so-he-1819579987',\n",
       "  'headline': 'trump asks entire senate to clear out of chamber so he can speak to comey alone',\n",
       "  'is_sarcastic': 1},\n",
       " {'article_link': 'https://www.huffingtonpost.com/entry/john-perry-barlow-dead_us_5a7beda5e4b08dfc92fff7c7',\n",
       "  'headline': 'grateful dead lyricist, internet pioneer john perry barlow dead at 70',\n",
       "  'is_sarcastic': 0},\n",
       " {'article_link': 'https://www.theonion.com/new-report-finds-americans-most-interested-in-science-w-1819579453',\n",
       "  'headline': 'new report finds americans most interested in science when moon looks different than usual',\n",
       "  'is_sarcastic': 1},\n",
       " {'article_link': 'https://www.theonion.com/new-york-times-moves-all-content-you-wont-give-a-shit-a-1819572243',\n",
       "  'headline': \"'new york times' moves all content you won't give a shit about unless you make at least $200k a year into one convenient section\",\n",
       "  'is_sarcastic': 1},\n",
       " {'article_link': 'https://www.huffingtonpost.com/entry/philippines-president-encourages-civilians-to-go-ahead-and-kill-drug-addicts_us_57767fc8e4b04164640f91c2',\n",
       "  'headline': 'philippines president calls on civilians to kill drug addicts',\n",
       "  'is_sarcastic': 0},\n",
       " {'article_link': 'https://www.huffingtonpost.com/entry/woman-breaks-down-why-shes-not-just-a-nurse_us_57fd012fe4b0e655eab7a2b7',\n",
       "  'headline': \"woman perfectly breaks down why she's not 'just' a nurse\",\n",
       "  'is_sarcastic': 0},\n",
       " {'article_link': 'https://www.theonion.com/chicago-police-department-to-monitor-all-interactions-w-1819578516',\n",
       "  'headline': 'chicago police department to monitor all interactions with public using new bullet cams',\n",
       "  'is_sarcastic': 1},\n",
       " {'article_link': 'https://www.huffingtonpost.com/entry/davos-meditation_n_6522806.html',\n",
       "  'headline': 'amid the chattering of the global elite, a silent interlude',\n",
       "  'is_sarcastic': 0},\n",
       " {'article_link': 'https://www.huffingtonpost.com/entry/scott-pruitt-scandals-list_us_5ac66dffe4b09d0a1191647f',\n",
       "  'headline': 'at least 23 ethical issues are dogging epa administrator scott pruitt',\n",
       "  'is_sarcastic': 0},\n",
       " {'article_link': 'https://www.huffingtonpost.com/entry/wont-ask-dont-tell_b_7255748.html',\n",
       "  'headline': \"won't ask, don't tell\",\n",
       "  'is_sarcastic': 0},\n",
       " {'article_link': 'https://local.theonion.com/weird-black-dot-actually-part-of-bowl-1819591326',\n",
       "  'headline': 'weird black dot actually part of bowl',\n",
       "  'is_sarcastic': 1},\n",
       " {'article_link': 'https://www.huffingtonpost.com/entry/vegas-baby-well-minus-our-babies_b_5684367.html',\n",
       "  'headline': 'vegas, baby! (well, minus our babies)',\n",
       "  'is_sarcastic': 0},\n",
       " {'article_link': 'https://www.huffingtonpost.com/entry/kanye-west-new-song-real-friends_us_56900997e4b0c8beacf6dfee',\n",
       "  'headline': \"people really like kanye's new song 'real friends' because it's really g.o.o.d.\",\n",
       "  'is_sarcastic': 0},\n",
       " {'article_link': 'https://www.huffingtonpost.com/entry/suede-spring-pieces_n_6859940.html',\n",
       "  'headline': \"20 suede pieces you'll want to wear all spring\",\n",
       "  'is_sarcastic': 0},\n",
       " {'article_link': 'https://www.theonion.com/fcc-sentences-artie-lange-to-death-1819587542',\n",
       "  'headline': 'fcc sentences artie lange to death',\n",
       "  'is_sarcastic': 1},\n",
       " {'article_link': 'https://www.huffingtonpost.com/entry/behold-the-title-of-american-horror-story-season-7_us_5970e60be4b0aa14ea7872e5',\n",
       "  'headline': \"behold the title of 'american horror story' season 7\",\n",
       "  'is_sarcastic': 0},\n",
       " {'article_link': 'https://www.huffingtonpost.com/entry/sikh-turbans-football-game_us_566db725e4b0e292150e3f6a',\n",
       "  'headline': 'football-loving americans harassed for wearing turbans to nfl game',\n",
       "  'is_sarcastic': 0},\n",
       " {'article_link': 'https://www.huffingtonpost.com/entry/to-your-health_b_6931932.html',\n",
       "  'headline': 'to your health',\n",
       "  'is_sarcastic': 0},\n",
       " {'article_link': 'https://politics.theonion.com/new-job-posting-on-craigslist-clearly-for-secretary-of-1819568699',\n",
       "  'headline': 'new job posting on craigslist clearly for secretary of the interior',\n",
       "  'is_sarcastic': 1},\n",
       " {'article_link': 'https://www.huffingtonpost.com/entry/seth-meyers-christmas-close-thanksgiving_us_5837f0e0e4b000af95ee0991',\n",
       "  'headline': \"seth meyers loses it over thanksgiving's proximity to christmas\",\n",
       "  'is_sarcastic': 0},\n",
       " {'article_link': 'https://www.huffingtonpost.com/entry/15-espn-trade-machineappr_n_6457158.html',\n",
       "  'headline': '15 ways the knicks can trade carmelo anthony',\n",
       "  'is_sarcastic': 0},\n",
       " {'article_link': 'https://www.huffingtonpost.com/entry/charlotte-gwenyth-gray-batten-disease_n_7558614.html',\n",
       "  'headline': 'parents fight to save their two daughters after tragic diagnosis',\n",
       "  'is_sarcastic': 0},\n",
       " {'article_link': 'https://www.huffingtonpost.com/entry/the-quiet-practice-where-i-found-my-voice_us_56a988c2e4b0d82286d4ef18',\n",
       "  'headline': 'the quiet practice where i found my voice',\n",
       "  'is_sarcastic': 0},\n",
       " {'article_link': 'https://www.theonion.com/fcc-assures-nation-their-favorite-verizon-websites-wont-1821305714',\n",
       "  'headline': \"fcc assures nation their favorite verizon websites won't be affected by net neutrality repeal\",\n",
       "  'is_sarcastic': 1},\n",
       " {'article_link': 'https://www.huffingtonpost.com/entry/everyone-told-me-my-second-child-would-be-so-much-harder_us_5aecb3e1e4b066cd764091cc',\n",
       "  'headline': 'everyone told me my second child would be so much harder than my first, but they were wrong',\n",
       "  'is_sarcastic': 0},\n",
       " {'article_link': 'https://politics.theonion.com/report-it-still-nowhere-near-okay-to-act-like-donald-t-1819579444',\n",
       "  'headline': 'report: it still nowhere near okay to act like donald trump',\n",
       "  'is_sarcastic': 1},\n",
       " {'article_link': 'https://www.huffingtonpost.com/entry/arizona-church-trump-win_us_5850355be4b0e05aded6267e',\n",
       "  'headline': 'man reportedly unleashes trump-inspired anti-lgbtq rant at church',\n",
       "  'is_sarcastic': 0},\n",
       " {'article_link': 'https://sports.theonion.com/white-sprinter-finishes-fifth-1819586495',\n",
       "  'headline': 'white sprinter finishes fifth',\n",
       "  'is_sarcastic': 1},\n",
       " {'article_link': 'https://www.huffingtonpost.com/entry/wendy-davis-campaign_b_5440570.html',\n",
       "  'headline': \"how i'm finding my voice with wendy davis\",\n",
       "  'is_sarcastic': 0},\n",
       " {'article_link': 'https://politics.theonion.com/obama-begins-inauguration-festivities-with-ceremonial-d-1819574406',\n",
       "  'headline': 'obama begins inauguration festivities with ceremonial drone flyover',\n",
       "  'is_sarcastic': 1},\n",
       " {'article_link': 'https://entertainment.theonion.com/lindsay-wagner-to-star-in-anything-offered-her-1819586354',\n",
       "  'headline': 'lindsay wagner to star in anything offered her',\n",
       "  'is_sarcastic': 1},\n",
       " {'article_link': 'https://www.theonion.com/democratic-senator-strides-down-corridors-of-powerlessn-1819587815',\n",
       "  'headline': 'democratic senator strides down corridors of powerlessness',\n",
       "  'is_sarcastic': 1},\n",
       " {'article_link': 'https://www.huffingtonpost.com/entry/days-of-rage_us_5913159ce4b07e366cebb793',\n",
       "  'headline': \"here's how trump's rage campaign opened the door to the james comey firing\",\n",
       "  'is_sarcastic': 0},\n",
       " {'article_link': 'https://www.huffingtonpost.com/entry/happiness_b_5222784.html',\n",
       "  'headline': 'looking for happiness in all the wrong places',\n",
       "  'is_sarcastic': 0},\n",
       " {'article_link': 'https://www.huffingtonpost.com/entry/drones-beethoven-intel-world-record_us_5693ae9de4b0a2b6fb70b843',\n",
       "  'headline': \"swarm of 100 drones dance to beethoven's 'symphony no. 5' in the night sky\",\n",
       "  'is_sarcastic': 0},\n",
       " {'article_link': 'https://www.theonion.com/fatal-school-bus-crash-cements-bff-status-1819588524',\n",
       "  'headline': 'fatal school bus crash cements bff status',\n",
       "  'is_sarcastic': 1},\n",
       " {'article_link': 'https://www.theonion.com/no-makeup-look-easier-to-achieve-than-elle-claims-1819567390',\n",
       "  'headline': 'no-makeup look easier to achieve than elle claims',\n",
       "  'is_sarcastic': 1},\n",
       " {'article_link': 'https://www.huffingtonpost.com/entry/the-outfit-that-got-this-woman-kicked-out-of-her-schools-gym_us_56b4f11ce4b04f9b57d97572',\n",
       "  'headline': \"the outfit that got this woman kicked out of her school's gym\",\n",
       "  'is_sarcastic': 0},\n",
       " {'article_link': 'https://www.theonion.com/bluetooth-headset-worn-throughout-date-1819588665',\n",
       "  'headline': 'bluetooth headset worn throughout date',\n",
       "  'is_sarcastic': 1},\n",
       " {'article_link': 'https://www.theonion.com/breakroom-tension-at-all-time-high-following-mug-disput-1819565122',\n",
       "  'headline': 'breakroom tension at all-time high following mug dispute',\n",
       "  'is_sarcastic': 1},\n",
       " {'article_link': 'https://local.theonion.com/depression-symptom-checklist-speaking-to-area-man-as-no-1819578201',\n",
       "  'headline': 'depression symptom checklist speaking to area man as no poem ever could',\n",
       "  'is_sarcastic': 1},\n",
       " {'article_link': 'https://local.theonion.com/parents-formally-announce-transfer-of-expectations-to-s-1819577993',\n",
       "  'headline': 'parents formally announce transfer of expectations to second child',\n",
       "  'is_sarcastic': 1},\n",
       " {'article_link': 'https://www.huffingtonpost.com/entry/halloween-saturday-night-live-snl-video_us_581472dbe4b0990edc3182ae',\n",
       "  'headline': \"'saturday night live' celebrates halloween with spooktacular montage\",\n",
       "  'is_sarcastic': 0},\n",
       " {'article_link': 'https://entertainment.theonion.com/steven-spielberg-can-his-career-be-salvaged-1819586503',\n",
       "  'headline': 'steven spielberg: can his career be salvaged?',\n",
       "  'is_sarcastic': 1},\n",
       " {'article_link': 'https://www.theonion.com/local-laundromat-employs-social-media-coordinator-1819575080',\n",
       "  'headline': 'local laundromat employs social media coordinator',\n",
       "  'is_sarcastic': 1},\n",
       " {'article_link': 'https://local.theonion.com/partygoer-vows-to-fix-keg-1819566083',\n",
       "  'headline': 'partygoer vows to fix keg',\n",
       "  'is_sarcastic': 1},\n",
       " {'article_link': 'https://www.theonion.com/right-to-own-handheld-device-that-shoots-deadly-metal-p-1819574320',\n",
       "  'headline': 'right to own handheld device that shoots deadly metal pellets at high speed worth all of this',\n",
       "  'is_sarcastic': 1},\n",
       " {'article_link': 'https://entertainment.theonion.com/oscar-countdown-2002-begins-1819565949',\n",
       "  'headline': 'oscar countdown 2002 begins',\n",
       "  'is_sarcastic': 1},\n",
       " {'article_link': 'https://www.huffingtonpost.com/entry/asteroid-boiled-oceans_n_7457722.html',\n",
       "  'headline': 'disaster movies are tame compared to what happened 3.3 billion years ago',\n",
       "  'is_sarcastic': 0},\n",
       " {'article_link': 'https://www.huffingtonpost.com/entry/washington-dc-officer-shoots-woman-carrying-knife_us_55c6b569e4b0923c12bd22ec',\n",
       "  'headline': 'washington d.c. officer shoots woman carrying knife',\n",
       "  'is_sarcastic': 0},\n",
       " {'article_link': 'https://www.huffingtonpost.com/entry/in-your-face-the-hidden-h_b_5351726.html',\n",
       "  'headline': 'in your face: the hidden history of plastic surgery and why looks matter',\n",
       "  'is_sarcastic': 0},\n",
       " {'article_link': 'https://www.huffingtonpost.com/entry/a-knicks-fan-open-letter-to-santa_b_6384792.html',\n",
       "  'headline': \"a knicks' fan's open letter to santa\",\n",
       "  'is_sarcastic': 0},\n",
       " {'article_link': 'https://sports.theonion.com/wolf-blitzer-decks-boston-man-who-hasn-t-been-healed-by-1819574858',\n",
       "  'headline': \"wolf blitzer decks boston man who hasn't been healed by red sox baseball\",\n",
       "  'is_sarcastic': 1},\n",
       " {'article_link': 'https://www.huffingtonpost.com/entry/donald-trump-and-americas-blood-sport-of-choice_us_59e900dce4b05b4f1c3a0717',\n",
       "  'headline': \"donald trump and america's blood sport of choice\",\n",
       "  'is_sarcastic': 0},\n",
       " {'article_link': 'https://www.huffingtonpost.com/entry/time-to-end-subsidies-that-are-destroying-forests_us_5975aaeae4b06b511b02c4ac',\n",
       "  'headline': 'time to end subsidies that are destroying forests',\n",
       "  'is_sarcastic': 0},\n",
       " {'article_link': 'https://www.huffingtonpost.com/entry/netflix-to-shut-down-planned-louis-ck-comedy-special_us_5a05ceede4b0e37d2f37310c',\n",
       "  'headline': 'netflix to shut down planned louis c.k. comedy special',\n",
       "  'is_sarcastic': 0},\n",
       " {'article_link': 'https://www.huffingtonpost.com/entry/donald-trump-bill-clinton-obamacare_us_57f4e4c5e4b04c71d6f118a8',\n",
       "  'headline': \"trump undercuts easy obamacare attack with dig about bill clinton's infidelities\",\n",
       "  'is_sarcastic': 0},\n",
       " {'article_link': 'https://www.theonion.com/narcissist-mentally-undresses-self-1819567215',\n",
       "  'headline': 'narcissist mentally undresses self',\n",
       "  'is_sarcastic': 1},\n",
       " {'article_link': 'https://www.huffingtonpost.com/entry/we-got-the-exclusive-look-at-hillarys-dnc-speech-notes_us_579a5161e4b08a8e8b5d1cc8',\n",
       "  'headline': \"we got the exclusive look at hillary's dnc speech notes\",\n",
       "  'is_sarcastic': 0},\n",
       " {'article_link': 'https://www.huffingtonpost.com/entry/john-kasich-david-bowie_us_56a570e9e4b0404eb8f20825',\n",
       "  'headline': 'watch john kasich lead an awkward david bowie sing-along',\n",
       "  'is_sarcastic': 0},\n",
       " {'article_link': 'https://www.theonion.com/pro-governing-is-it-faked-1819586544',\n",
       "  'headline': 'pro governing: is it faked?',\n",
       "  'is_sarcastic': 1},\n",
       " {'article_link': 'https://www.huffingtonpost.com/entry/ed-burns-social-media-detox_us_55dc7cb2e4b08cd3359d48da',\n",
       "  'headline': 'how a social media detox helped ed burns become more productive',\n",
       "  'is_sarcastic': 0},\n",
       " {'article_link': 'https://www.theonion.com/outdoor-movie-guest-excited-to-watch-barely-audible-ba-1819577856',\n",
       "  'headline': \"outdoor movie guest excited to watch barely audible 'back to the future' while sitting on tree root\",\n",
       "  'is_sarcastic': 1},\n",
       " {'article_link': 'https://www.huffingtonpost.com/entry/north-korea-guam_us_598c3996e4b0449ed5081ef1',\n",
       "  'headline': \"north korea claims it's planning to fire missiles near guam\",\n",
       "  'is_sarcastic': 0},\n",
       " {'article_link': 'https://www.theonion.com/gorillagram-employee-shot-by-white-house-security-1819587417',\n",
       "  'headline': 'gorillagram employee shot by white house security',\n",
       "  'is_sarcastic': 1},\n",
       " {'article_link': 'https://www.huffingtonpost.com/entry/how-do-i-make-my-4-month-old-fall-in-love-with-reading_us_5789a482e4b0cbf01e9fd238',\n",
       "  'headline': 'how do i make my 4-month-old fall in love with reading?',\n",
       "  'is_sarcastic': 0},\n",
       " {'article_link': 'https://www.huffingtonpost.com/entry/weird-things-left-in-uber_us_58de0c19e4b08194e3b8e46a',\n",
       "  'headline': '15 weirdest things that people have left behind in an uber',\n",
       "  'is_sarcastic': 0},\n",
       " {'article_link': 'https://www.huffingtonpost.com/entry/ledell-lee-execution-arkansas_us_58f8134ee4b0cb086d7df22e',\n",
       "  'headline': 'arkansas executes first inmate in 12 years',\n",
       "  'is_sarcastic': 0},\n",
       " {'article_link': 'https://entertainment.theonion.com/meet-the-other-baldwin-brother-james-1819586063',\n",
       "  'headline': 'meet the other baldwin brother, james!',\n",
       "  'is_sarcastic': 1},\n",
       " {'article_link': 'https://www.huffingtonpost.com/entry/a-sadder-pride-because-of-washington-inaction_us_59405935e4b09ad4fbe3e9ca',\n",
       "  'headline': 'a sadder pride because of washington inaction',\n",
       "  'is_sarcastic': 0},\n",
       " {'article_link': 'https://entertainment.theonion.com/brad-pitt-stumbles-across-old-cardboard-box-with-gwynet-1822454158',\n",
       "  'headline': \"brad pitt stumbles across old cardboard box with gwyneth paltrow's head in attic\",\n",
       "  'is_sarcastic': 1},\n",
       " {'article_link': 'https://www.huffingtonpost.com/entry/shonda-rhimes-on-the-motivation-behind-her-weight-loss-journey_us_560be4b3e4b0dd850309ea0b',\n",
       "  'headline': 'shonda rhimes on the motivation behind her weight loss journey',\n",
       "  'is_sarcastic': 0},\n",
       " {'article_link': 'https://www.huffingtonpost.com/entry/excellent-educators-for-all_n_5562269.html',\n",
       "  'headline': 'obama plans to tackle major education inequality',\n",
       "  'is_sarcastic': 0},\n",
       " {'article_link': 'https://www.huffingtonpost.com/entry/teaching-learning-and-the_b_6362768.html',\n",
       "  'headline': 'teaching, learning and the college ratings framework',\n",
       "  'is_sarcastic': 0},\n",
       " {'article_link': 'https://www.huffingtonpost.com/entry/pigeon-bread-necklace_us_589b324ce4b04061313a8df3',\n",
       "  'headline': 'fashion-forward pigeon sports bread necklace in bold style choice',\n",
       "  'is_sarcastic': 0},\n",
       " {'article_link': 'https://www.huffingtonpost.com/entry/philip-coleman-chicago-video_us_56670fb1e4b079b2819028f1',\n",
       "  'headline': 'video relaunches investigation into death of man held by chicago police',\n",
       "  'is_sarcastic': 0},\n",
       " {'article_link': 'https://www.huffingtonpost.com/entry/whoopi-goldberg-oscars_us_56a76fe1e4b0172c659413b6',\n",
       "  'headline': \"whoopi goldberg says the oscars 'can't be that racist' because she won once\",\n",
       "  'is_sarcastic': 0},\n",
       " {'article_link': 'https://local.theonion.com/housefly-tracks-dog-shit-all-over-cucumber-slice-1819592647',\n",
       "  'headline': 'housefly tracks dog shit all over cucumber slice',\n",
       "  'is_sarcastic': 1},\n",
       " {'article_link': 'https://politics.theonion.com/hillary-clinton-opens-new-presidential-library-charting-1819580195',\n",
       "  'headline': 'hillary clinton opens new presidential library charting course of purely theoretical tenure as commander in chief',\n",
       "  'is_sarcastic': 1},\n",
       " {'article_link': 'https://www.theonion.com/bounty-brawny-ceos-wearing-down-patience-of-mutual-fri-1819570942',\n",
       "  'headline': 'bounty, brawny ceos wearing down patience of mutual friend',\n",
       "  'is_sarcastic': 1},\n",
       " {'article_link': 'https://www.huffingtonpost.com/entry/sherman-alexie-writers-under-trump_us_584998f8e4b08283d6b4ed0c',\n",
       "  'headline': \"sherman alexie says artists under trump will be 'noise-canceling headphones'\",\n",
       "  'is_sarcastic': 0},\n",
       " {'article_link': 'https://local.theonion.com/visibly-flu-stricken-choir-kid-really-dragging-down-who-1821530831',\n",
       "  'headline': 'visibly flu-stricken choir kid really dragging down whole christmas pageant',\n",
       "  'is_sarcastic': 1},\n",
       " {'article_link': 'https://www.huffingtonpost.com/entry/nbc-ayman-mohyeldin-return-to-gaza_n_5601145.html',\n",
       "  'headline': 'nbc news correspondent ayman mohyeldin returning to gaza',\n",
       "  'is_sarcastic': 0},\n",
       " {'article_link': 'https://entertainment.theonion.com/tim-robbins-tired-of-being-typecast-as-relatively-tall-1819589144',\n",
       "  'headline': 'tim robbins tired of being typecast as relatively tall characters',\n",
       "  'is_sarcastic': 1},\n",
       " {'article_link': 'https://www.huffingtonpost.com/entry/tom-cotton-waterboarding_us_5823a501e4b0e80b02ceb6e4',\n",
       "  'headline': \"sen. tom cotton thinks 'tough guy' trump is ready to resume waterboarding\",\n",
       "  'is_sarcastic': 0},\n",
       " {'article_link': 'https://politics.theonion.com/leather-clad-ted-cruz-greeting-voters-at-reno-area-feti-1819592513',\n",
       "  'headline': 'leather-clad ted cruz greeting voters at reno-area fetish club',\n",
       "  'is_sarcastic': 1},\n",
       " {'article_link': 'https://local.theonion.com/man-s-family-rises-to-record-high-fourth-priority-1819577274',\n",
       "  'headline': \"man's family rises to record-high fourth priority\",\n",
       "  'is_sarcastic': 1},\n",
       " {'article_link': 'https://www.huffingtonpost.com/entry/mike-ditka-oppression_us_59dcd977e4b00377980c03ad',\n",
       "  'headline': 'mike ditka has not been paying attention to history',\n",
       "  'is_sarcastic': 0},\n",
       " {'article_link': 'https://local.theonion.com/what-mom-would-have-wanted-evolving-over-course-of-fune-1819576934',\n",
       "  'headline': 'what mom would have wanted evolving over course of funeral planning',\n",
       "  'is_sarcastic': 1},\n",
       " {'article_link': 'https://local.theonion.com/simple-task-of-going-to-post-office-feels-like-weight-o-1819570794',\n",
       "  'headline': 'simple task of going to post office feels like weight of 10,000 boulders',\n",
       "  'is_sarcastic': 1},\n",
       " {'article_link': 'https://local.theonion.com/report-some-crazy-shit-probably-happened-to-classmate-1819578929',\n",
       "  'headline': 'report: some crazy shit probably happened to classmate being raised by grandmother',\n",
       "  'is_sarcastic': 1},\n",
       " {'article_link': 'https://www.huffingtonpost.com/entry/ivanka-trump-judaism-largest-world-religions_us_593e7933e4b0c5a35ca112f4',\n",
       "  'headline': \"ivanka trump incorrectly names judaism as 1 of the 3 'largest world religions'\",\n",
       "  'is_sarcastic': 0},\n",
       " {'article_link': 'https://www.huffingtonpost.comhttp://pubx.co/VVLx1k',\n",
       "  'headline': 'rescued lion has been obsessed with blankets since he was a baby',\n",
       "  'is_sarcastic': 0},\n",
       " {'article_link': 'https://local.theonion.com/county-fair-judges-blown-away-by-heifer-1819567995',\n",
       "  'headline': 'county fair judges blown away by heifer',\n",
       "  'is_sarcastic': 1},\n",
       " {'article_link': 'https://www.huffingtonpost.com/entry/best-toys-kid-products-prime-day_us_59553139e4b0da2c7321e754',\n",
       "  'headline': 'the best toys to shop on prime day for kids of all ages',\n",
       "  'is_sarcastic': 0},\n",
       " {'article_link': 'https://www.huffingtonpost.com/entry/the-sanders-phenomenon_b_10180994.html',\n",
       "  'headline': 'the sanders phenomenon',\n",
       "  'is_sarcastic': 0},\n",
       " {'article_link': 'https://politics.theonion.com/clinton-staff-readies-emp-launch-to-disable-all-nation-1819579399',\n",
       "  'headline': \"clinton staff readies emp launch to disable all nation's electronic devices\",\n",
       "  'is_sarcastic': 1},\n",
       " {'article_link': 'https://www.huffingtonpost.com/entry/khloe-kardashian-waist-instagram_n_5259261.html',\n",
       "  'headline': \"khloe kardashian joins 'waist gang'\",\n",
       "  'is_sarcastic': 0},\n",
       " {'article_link': 'https://www.huffingtonpost.com/entry/gop-debate-utah-canceled_us_56e9966ce4b0b25c9184203e',\n",
       "  'headline': \"next week's republican debate in utah canceled\",\n",
       "  'is_sarcastic': 0},\n",
       " {'article_link': 'https://www.huffingtonpost.com/entry/a-trove-of-lost-and-found_n_5738476.html',\n",
       "  'headline': \"a trove of 'lost and found' photos reveal one mystery couple's beautiful life\",\n",
       "  'is_sarcastic': 0},\n",
       " {'article_link': 'https://www.huffingtonpost.com/entry/bear-family-pool-party_us_55d734dee4b08cd3359bb180',\n",
       "  'headline': 'bear family pool party is the cutest backyard invasion ever',\n",
       "  'is_sarcastic': 0},\n",
       " {'article_link': 'https://www.huffingtonpost.com/entry/dustin-hoffman-accusers-nbc-interview_us_5a3924b1e4b0fc99878eceb1',\n",
       "  'headline': 'dustin hoffman accusers speak out about alleged abuse in joint nbc interview',\n",
       "  'is_sarcastic': 0},\n",
       " {'article_link': 'https://www.huffingtonpost.com/entry/another-open-letter-to-betsy-devos-from-a-public-school_us_5921a1fee4b07617ae4cbd07',\n",
       "  'headline': 'another open letter to betsy devos from a public school teacher',\n",
       "  'is_sarcastic': 0},\n",
       " {'article_link': 'https://www.huffingtonpost.com/entry/6-tips-to-jump-start-your_b_7727554.html',\n",
       "  'headline': '6 tips to boost your career',\n",
       "  'is_sarcastic': 0},\n",
       " {'article_link': 'https://www.huffingtonpost.com/entry/transphobic-target-man-confrontation_us_5743655ce4b0613b512b044b',\n",
       "  'headline': 'video shows transphobic man preaching in target getting shut down by customer',\n",
       "  'is_sarcastic': 0},\n",
       " {'article_link': 'https://www.huffingtonpost.com/entry/xmas-gifts-from-trump_us_5a28f8a8e4b03ece03001d15',\n",
       "  'headline': '#xmasgiftsfromtrump wish list will give trump a very un-merry christmas',\n",
       "  'is_sarcastic': 0},\n",
       " {'article_link': 'https://www.huffingtonpost.com/entry/ronda-rousey-predicted-lose_us_56488171e4b045bf3def7cd5',\n",
       "  'headline': 'ronda rousey eerily predicted how she would lose',\n",
       "  'is_sarcastic': 0},\n",
       " {'article_link': 'https://local.theonion.com/police-release-haircut-progressed-photo-of-missing-woma-1819577510',\n",
       "  'headline': 'police release haircut-progressed photo of missing woman',\n",
       "  'is_sarcastic': 1},\n",
       " {'article_link': 'https://www.huffingtonpost.com/entry/a-brief-pun-intended-hist_b_7053048.html',\n",
       "  'headline': 'a brief (pun intended) history of lawyers in movies',\n",
       "  'is_sarcastic': 0},\n",
       " {'article_link': 'https://www.huffingtonpost.com/entry/oklahoma-city-thunder-durant-shot-gifs_n_5188756.html',\n",
       "  'headline': 'gifs: the memphis grizzlies weathered this epic oklahoma city thunder storm',\n",
       "  'is_sarcastic': 0},\n",
       " {'article_link': 'https://local.theonion.com/stomach-sets-aside-synthetic-additives-until-it-has-a-f-1819578356',\n",
       "  'headline': 'stomach sets aside synthetic additives until it has a few minutes to figure out how to digest them',\n",
       "  'is_sarcastic': 1},\n",
       " {'article_link': 'https://www.huffingtonpost.com/entry/russia-trump_us_58760102e4b092a6cae3fe90',\n",
       "  'headline': 'russia denies it has compromising information on donald trump',\n",
       "  'is_sarcastic': 0},\n",
       " {'article_link': 'https://www.huffingtonpost.com/entry/bible-comics_n_5111481.html',\n",
       "  'headline': 'what comics can offer to bible readers',\n",
       "  'is_sarcastic': 0},\n",
       " {'article_link': 'https://www.huffingtonpost.comhttp://magazine.good.is/features/issue-35-ego-roxane-gay',\n",
       "  'headline': 'breaking uniform',\n",
       "  'is_sarcastic': 0},\n",
       " {'article_link': 'https://politics.theonion.com/congress-approves-of-250-billion-1819567635',\n",
       "  'headline': 'congress approves of $250 billion',\n",
       "  'is_sarcastic': 1},\n",
       " {'article_link': 'https://www.huffingtonpost.com/entry/7-fascinating-but-forgott_b_5697800.html',\n",
       "  'headline': '7 fascinating but forgotten facts from world war i (new book)',\n",
       "  'is_sarcastic': 0},\n",
       " {'article_link': 'https://entertainment.theonion.com/taylor-swift-now-dating-watertown-boat-1819574857',\n",
       "  'headline': 'taylor swift now dating watertown boat',\n",
       "  'is_sarcastic': 1},\n",
       " {'article_link': 'https://local.theonion.com/rapture-wreaks-havoc-on-local-book-club-1819568980',\n",
       "  'headline': 'rapture wreaks havoc on local book club',\n",
       "  'is_sarcastic': 1},\n",
       " {'article_link': 'https://www.huffingtonpost.com/entry/setting-goals-steve-harvey_n_6367942.html',\n",
       "  'headline': 'the key to setting achievable goals',\n",
       "  'is_sarcastic': 0},\n",
       " {'article_link': 'https://www.huffingtonpost.com/entry/cyber-monday-guide-2015_us_5654ba94e4b0879a5b0cbc23',\n",
       "  'headline': 'the only shopping guide for cyber monday you need',\n",
       "  'is_sarcastic': 0},\n",
       " {'article_link': 'https://www.huffingtonpost.com/entry/trump-brexit-refugees_us_587bf562e4b09281d0eb80da',\n",
       "  'headline': 'donald trump says refugee crisis and threats to uk identity drove brexit',\n",
       "  'is_sarcastic': 0},\n",
       " {'article_link': 'https://www.theonion.com/science-fiction-writer-admits-unstoppable-killing-machi-1819569329',\n",
       "  'headline': 'science fiction writer admits unstoppable killing machine based on mother',\n",
       "  'is_sarcastic': 1},\n",
       " {'article_link': 'https://www.huffingtonpost.com/entry/gunman-kills-two-american-advisors-in-kabul-shooting_us_580788fee4b0dd54ce369996',\n",
       "  'headline': 'gunman kills at least two american advisers in kabul shooting',\n",
       "  'is_sarcastic': 0},\n",
       " {'article_link': 'https://www.huffingtonpost.com/entry/kris-kobach-private-email_us_59c15bfbe4b0f22c4a8d1dbd',\n",
       "  'headline': 'kris kobach defends using a private email for government business',\n",
       "  'is_sarcastic': 0},\n",
       " {'article_link': 'https://local.theonion.com/10-year-old-denies-girl-liking-allegations-1819564679',\n",
       "  'headline': '10-year-old denies girl-liking allegations',\n",
       "  'is_sarcastic': 1},\n",
       " {'article_link': 'https://www.theonion.com/stray-dad-found-in-lumber-section-of-the-home-depot-1819575703',\n",
       "  'headline': 'stray dad found in lumber section of the home depot',\n",
       "  'is_sarcastic': 1},\n",
       " {'article_link': 'https://local.theonion.com/office-manager-unveils-new-rule-1819579195',\n",
       "  'headline': 'office manager unveils new rule',\n",
       "  'is_sarcastic': 1},\n",
       " {'article_link': 'https://www.huffingtonpost.com/entry/charles-darwin--the-sunmi_b_6162514.html',\n",
       "  'headline': 'charles darwin and the sunmine',\n",
       "  'is_sarcastic': 0},\n",
       " {'article_link': 'https://www.huffingtonpost.com/entry/women-breastfeeding-at-work_us_561d624ee4b0c5a1ce60dba3',\n",
       "  'headline': 'another way companies make it harder for new mothers',\n",
       "  'is_sarcastic': 0},\n",
       " {'article_link': 'https://www.theonion.com/sheets-changed-after-every-breakup-1819567289',\n",
       "  'headline': 'sheets changed after every breakup',\n",
       "  'is_sarcastic': 1},\n",
       " {'article_link': 'https://www.huffingtonpost.com/entry/walking-meetings-productive_n_5333120.html',\n",
       "  'headline': 'want to make meetings more productive? start walking',\n",
       "  'is_sarcastic': 0},\n",
       " {'article_link': 'https://www.theonion.com/man-overjoyed-he-no-longer-has-to-purchase-entire-day-s-1819578278',\n",
       "  'headline': \"man overjoyed he no longer has to purchase entire day's worth of egg mcmuffins in morning\",\n",
       "  'is_sarcastic': 1},\n",
       " {'article_link': 'https://www.huffingtonpost.com/entry/stone-brewing-evacuates_n_5335412.html',\n",
       "  'headline': 'watch: stone brewing evacuates as wildfire approaches',\n",
       "  'is_sarcastic': 0},\n",
       " {'article_link': 'https://www.huffingtonpost.comhttps://www.washingtonpost.com/world/national-security/military-prosecutor-senate-report-on-cia-interrogation-program-is-accurate/2016/02/10/d75d51a8-cf47-11e5-88cd-753e80cd29ad_story.html',\n",
       "  'headline': 'military prosecutor: senate report on cia interrogation program is accurate',\n",
       "  'is_sarcastic': 0},\n",
       " {'article_link': 'https://www.huffingtonpost.com/entry/national-parks-lgbtq_us_57fd5c09e4b0e9c70229af70',\n",
       "  'headline': 'national park service studies historic lgbtq sites for possible recognition',\n",
       "  'is_sarcastic': 0},\n",
       " {'article_link': 'https://www.huffingtonpost.com/entry/safeguarding-americas-health-system-from-sabotage_us_5a1ecf33e4b0e37da0447b66',\n",
       "  'headline': \"safeguarding america's health system from sabotage\",\n",
       "  'is_sarcastic': 0},\n",
       " {'article_link': 'https://www.theonion.com/jonathan-safran-foer-guesses-it-s-time-to-give-up-on-si-1824077900',\n",
       "  'headline': \"jonathan safran foer guesses it's time to give up on silly little dream of becoming good writer\",\n",
       "  'is_sarcastic': 1},\n",
       " {'article_link': 'https://www.huffingtonpost.com/entry/luke-aikins-skydive-parachute_us_579d7485e4b08a8e8b5e5a04',\n",
       "  'headline': 'skydiver luke aikins makes jump without a parachute',\n",
       "  'is_sarcastic': 0},\n",
       " {'article_link': 'https://www.theonion.com/study-universe-actually-shrunk-by-about-19-inches-last-1819589814',\n",
       "  'headline': 'study: universe actually shrunk by about 19 inches last year',\n",
       "  'is_sarcastic': 1},\n",
       " {'article_link': 'https://www.theonion.com/power-crazed-orkin-man-burns-house-to-ground-1819567429',\n",
       "  'headline': 'power-crazed orkin man burns house to ground',\n",
       "  'is_sarcastic': 1},\n",
       " {'article_link': 'https://local.theonion.com/couple-s-fucked-up-presex-ritual-involves-tucking-both-1819580337',\n",
       "  'headline': \"couple's fucked-up presex ritual involves tucking both kids into bed\",\n",
       "  'is_sarcastic': 1},\n",
       " {'article_link': 'https://www.huffingtonpost.com/entry/will-all-senate-republicans-kowtow-to-trump-and-the_us_58e50789e4b09dbd42f3dc4a',\n",
       "  'headline': 'will all senate republicans kowtow to trump and the far right?',\n",
       "  'is_sarcastic': 0},\n",
       " {'article_link': 'https://www.huffingtonpost.com/entry/deputy-brings-homeless-man-he-saw-on-side-of-highway-to-mcdonalds-so-hed-be-warm_us_568d5698e4b0a2b6fb6e4265',\n",
       "  'headline': 'viral photo captures incredible moment between police officer, homeless man',\n",
       "  'is_sarcastic': 0},\n",
       " {'article_link': 'https://www.theonion.com/google-employees-disappointed-15th-anniversary-party-on-1819575642',\n",
       "  'headline': 'google employees disappointed 15th anniversary party only has one solar-powered lego drag race reffed by david pogue',\n",
       "  'is_sarcastic': 1},\n",
       " {'article_link': 'https://www.theonion.com/study-average-american-tries-getting-out-of-10-000-thi-1819576586',\n",
       "  'headline': 'study: average american tries getting out of 10,000 things each year',\n",
       "  'is_sarcastic': 1},\n",
       " {'article_link': 'https://politics.theonion.com/rnc-builds-levee-out-of-poor-people-to-protect-conventi-1819573810',\n",
       "  'headline': 'rnc builds levee out of poor people to protect convention site',\n",
       "  'is_sarcastic': 1},\n",
       " {'article_link': 'https://politics.theonion.com/romney-delivers-stern-warning-to-china-speaking-direct-1819574101',\n",
       "  'headline': 'romney delivers stern warning to china, speaking directly into the camera in fluent mandarin',\n",
       "  'is_sarcastic': 1},\n",
       " {'article_link': 'https://www.huffingtonpost.com/entry/congress-bailout-great-recession_us_599343e2e4b009141640806f',\n",
       "  'headline': 'the inside story of how congress sent the stock market tumbling',\n",
       "  'is_sarcastic': 0},\n",
       " {'article_link': 'https://politics.theonion.com/voters-shocked-christie-botched-such-an-easy-political-1819575996',\n",
       "  'headline': 'voters shocked christie botched such an easy political cover-up',\n",
       "  'is_sarcastic': 1},\n",
       " {'article_link': 'https://politics.theonion.com/desperate-dole-promises-best-prom-ever-1819564084',\n",
       "  'headline': 'desperate dole promises best prom ever',\n",
       "  'is_sarcastic': 1},\n",
       " {'article_link': 'https://www.huffingtonpost.com/entry/a-different-kind-of-mom_us_57b8bf69e4b007f18198889d',\n",
       "  'headline': 'a different kind of mom',\n",
       "  'is_sarcastic': 0},\n",
       " {'article_link': 'https://www.huffingtonpost.com/entry/uber-halt-self-driving-cars-california_us_5abaa6ede4b03e2a5c7704ad',\n",
       "  'headline': \"uber halts self-driving car tests in california, where it didn't test much anyway\",\n",
       "  'is_sarcastic': 0},\n",
       " {'article_link': 'https://www.huffingtonpost.com/entry/from-tiger-mothers-to-fre_b_6773744.html',\n",
       "  'headline': \"from tiger mothers to fresh off the boat: eddie huang's mom is not every asian-american mom\",\n",
       "  'is_sarcastic': 0},\n",
       " {'article_link': 'https://www.huffingtonpost.com/entry/donald-trump-goodell_us_58934586e4b0af07cb6bbebc',\n",
       "  'headline': \"donald trump thinks roger goodell is 'weak,' 'stupid' and a 'dope'\",\n",
       "  'is_sarcastic': 0},\n",
       " {'article_link': 'https://www.huffingtonpost.com/entry/trump-congress-libel-wall-street-journal_us_5a57d91ae4b0720dc4c58976',\n",
       "  'headline': \"trump says congress won't change libel laws, but that's a decision for the states\",\n",
       "  'is_sarcastic': 0},\n",
       " {'article_link': 'https://www.huffingtonpost.com/entry/flag-underwear-world-series_us_59f75619e4b0c0c8e67b2c7f',\n",
       "  'headline': 'shirtless goofball in flag underwear invades field at world series',\n",
       "  'is_sarcastic': 0},\n",
       " {'article_link': 'https://entertainment.theonion.com/local-moviegoer-enjoying-movie-so-far-1819564030',\n",
       "  'headline': 'local moviegoer enjoying movie so far',\n",
       "  'is_sarcastic': 1},\n",
       " {'article_link': 'https://www.huffingtonpost.com/entry/why-chinese-parents-dont-say-i-love-you_us_584b5739e4b01713310510a9',\n",
       "  'headline': \"why chinese parents don't say 'i love you'\",\n",
       "  'is_sarcastic': 0},\n",
       " {'article_link': 'https://www.huffingtonpost.com/entry/americans-think-white-house-creating-problems_us_598a217ce4b0449ed5062d2f',\n",
       "  'headline': 'americans say the white house is creating more problems than it solves',\n",
       "  'is_sarcastic': 0},\n",
       " {'article_link': 'https://www.theonion.com/theater-major-has-too-long-borne-shakespeare-teachers-b-1819568815',\n",
       "  'headline': \"theater major has too long borne shakespeare teacher's blunt upbraidings, bitter scoffs\",\n",
       "  'is_sarcastic': 1},\n",
       " {'article_link': 'https://www.huffingtonpost.com/entry/a-lancet-breakthrough-pub_b_7777494.html',\n",
       "  'headline': 'a lancet breakthrough: publishing about faith and health',\n",
       "  'is_sarcastic': 0},\n",
       " {'article_link': 'https://local.theonion.com/area-grasshopper-kind-of-a-thorax-man-himself-1819566187',\n",
       "  'headline': 'area grasshopper kind of a thorax man himself',\n",
       "  'is_sarcastic': 1},\n",
       " {'article_link': 'https://www.theonion.com/freemasons-return-to-jupiter-1819586200',\n",
       "  'headline': 'freemasons return to jupiter',\n",
       "  'is_sarcastic': 1},\n",
       " {'article_link': 'https://entertainment.theonion.com/banjo-wielding-matt-damon-makes-last-minute-bid-for-bes-1823505244',\n",
       "  'headline': 'banjo-wielding matt damon makes last-minute bid for best original song',\n",
       "  'is_sarcastic': 1},\n",
       " {'article_link': 'https://www.huffingtonpost.com/entry/after-criticism-cleveland-officials-to-outline-convention-security-plans_us_574ae78ee4b03ede441510d3',\n",
       "  'headline': 'after criticism, cleveland officials to outline convention security plans',\n",
       "  'is_sarcastic': 0},\n",
       " {'article_link': 'https://www.theonion.com/new-teen-trend-walking-wet-and-nude-couldn-t-have-cau-1819591534',\n",
       "  'headline': \"new teen trend 'walking wet and nude' couldn't have caught on at worse time\",\n",
       "  'is_sarcastic': 1},\n",
       " {'article_link': 'https://www.huffingtonpost.com/entry/justin-bieber-scold-spanish_us_5638b5cbe4b079a43c047be0',\n",
       "  'headline': 'justin bieber interrupts performance to scold spanish audience',\n",
       "  'is_sarcastic': 0},\n",
       " {'article_link': 'https://www.huffingtonpost.com/entry/mudbound-netflix-oscar-nominations_us_5a67440fe4b0e5630073a15d',\n",
       "  'headline': \"'mudbound' oscar nominations place netflix in big leagues\",\n",
       "  'is_sarcastic': 0},\n",
       " {'article_link': 'https://local.theonion.com/area-man-uses-wtc-attack-as-excuse-to-call-ex-girlfrien-1819566193',\n",
       "  'headline': 'area man uses wtc attack as excuse to call ex-girlfriend',\n",
       "  'is_sarcastic': 1},\n",
       " {'article_link': 'https://politics.theonion.com/mccain-gets-hammered-at-local-vfw-1819570338',\n",
       "  'headline': 'mccain gets hammered at local vfw',\n",
       "  'is_sarcastic': 1},\n",
       " {'article_link': 'https://local.theonion.com/12-year-old-s-christmas-list-demonstrates-heartbreaking-1819577264',\n",
       "  'headline': \"12-year-old's christmas list demonstrates heartbreaking awareness of family's financial predicament\",\n",
       "  'is_sarcastic': 1},\n",
       " {'article_link': 'https://www.huffingtonpost.com/entry/grammy-nominations-2016_us_56658a7ee4b079b2818f190b',\n",
       "  'headline': 'kendrick lamar, taylor swift and the weeknd lead the 2016 grammy nominations',\n",
       "  'is_sarcastic': 0},\n",
       " {'article_link': 'https://www.theonion.com/slight-inconvenience-avoided-1819566029',\n",
       "  'headline': 'slight inconvenience avoided',\n",
       "  'is_sarcastic': 1},\n",
       " {'article_link': 'https://entertainment.theonion.com/frustrated-fcc-unable-to-stop-use-of-word-friggin-1819567102',\n",
       "  'headline': \"frustrated fcc unable to stop use of word 'friggin''\",\n",
       "  'is_sarcastic': 1},\n",
       " {'article_link': 'https://www.huffingtonpost.com/entry/nbc-law-and-order-true-crime-menendez-brothers-series_us_57893e39e4b0867123e14152',\n",
       "  'headline': \"nbc to dramatize menendez brothers murders in 'law & order: true crime' spinoff\",\n",
       "  'is_sarcastic': 0},\n",
       " {'article_link': 'https://www.huffingtonpost.com/entry/berlin-christmas-market-attack_us_5858cecbe4b0b3ddfd8e82c5',\n",
       "  'headline': 'police assume truck was deliberately driven into berlin christmas market',\n",
       "  'is_sarcastic': 0},\n",
       " {'article_link': 'https://local.theonion.com/area-man-cleans-apartment-once-every-relationship-1819576384',\n",
       "  'headline': 'area man cleans apartment once every relationship',\n",
       "  'is_sarcastic': 1},\n",
       " {'article_link': 'https://www.huffingtonpost.com/entry/orlando-shooting-food-donations_us_57604e3de4b0e4fe5143eb6f',\n",
       "  'headline': 'after shooting, orlando chefs provide thousands of free meals',\n",
       "  'is_sarcastic': 0},\n",
       " {'article_link': 'https://www.huffingtonpost.com/entry/jeff-flake-republicans-lead_us_5aab28aae4b0c33361af33a6',\n",
       "  'headline': \"gop sen. jeff flake comes out and says it: 'my party might not deserve to lead'\",\n",
       "  'is_sarcastic': 0},\n",
       " {'article_link': 'https://www.huffingtonpost.com/entry/dentist-buys-back-halloween-candy_us_56376154e4b00aa54a4ea562',\n",
       "  'headline': 'dentist offers to buy back halloween candy',\n",
       "  'is_sarcastic': 0},\n",
       " {'article_link': 'https://www.theonion.com/mta-officials-assure-new-yorkers-that-today-s-subway-wi-1821190648',\n",
       "  'headline': \"mta officials assure new yorkers that today's subway will run just as fucked up as normal\",\n",
       "  'is_sarcastic': 1},\n",
       " {'article_link': 'https://www.theonion.com/routine-drunk-driving-trip-turns-tragic-for-five-local-1819586615',\n",
       "  'headline': 'routine drunk-driving trip turns tragic for five local teens',\n",
       "  'is_sarcastic': 1},\n",
       " {'article_link': 'https://local.theonion.com/grizzly-bear-sprained-paw-while-mauling-hunter-reports-1819572712',\n",
       "  'headline': 'grizzly bear sprained paw while mauling hunter, reports ranger',\n",
       "  'is_sarcastic': 1},\n",
       " {'article_link': 'https://politics.theonion.com/trump-selects-longtime-personal-plane-to-head-faa-1823360726',\n",
       "  'headline': 'trump selects longtime personal plane to head faa',\n",
       "  'is_sarcastic': 1},\n",
       " {'article_link': 'https://www.theonion.com/new-antidepressant-makes-friends-problems-seem-worse-1819575964',\n",
       "  'headline': \"new antidepressant makes friends' problems seem worse\",\n",
       "  'is_sarcastic': 1},\n",
       " {'article_link': 'https://www.huffingtonpost.com/entry/brandon-chrostowski-edwins-restaurant-teaches-ex-offenders-how-to-cook_us_56fd7019e4b0daf53aef2350',\n",
       "  'headline': 'restaurant teaches former inmates to cook, helps them get back on their feet',\n",
       "  'is_sarcastic': 0},\n",
       " {'article_link': 'https://www.huffingtonpost.com/entry/5-entrepreneurial-rules-t_b_7780328.html',\n",
       "  'headline': '5 entrepreneurial rules to live by',\n",
       "  'is_sarcastic': 0},\n",
       " {'article_link': 'https://www.theonion.com/laser-pointer-aimed-toward-space-in-1997-finally-annoyi-1819571377',\n",
       "  'headline': 'laser pointer aimed toward space in 1997 finally annoying planet 13 light-years away',\n",
       "  'is_sarcastic': 1},\n",
       " {'article_link': 'https://local.theonion.com/man-who-skipped-airport-s-moving-walkway-immediately-re-1819579777',\n",
       "  'headline': \"man who skipped airport's moving walkway immediately realizes what an arrogant fool he's been\",\n",
       "  'is_sarcastic': 1},\n",
       " {'article_link': 'https://www.huffingtonpost.com/entry/7-things-you-probably-didnt-know-about-christmas_us_5851d850e4b016e9c118828a',\n",
       "  'headline': \"7 things you probably didn't know about christmas\",\n",
       "  'is_sarcastic': 0},\n",
       " {'article_link': 'https://www.huffingtonpost.com/entry/2016-man-booker-prize_us_581023ffe4b001e247df4321',\n",
       "  'headline': 'paul beatty becomes first american to win man booker prize for fiction',\n",
       "  'is_sarcastic': 0},\n",
       " {'article_link': 'https://www.huffingtonpost.com/entry/your-favorite-female-star-wars-heroes-finally-get-their-own-series_us_58ef68eae4b0b9e98489b03a',\n",
       "  'headline': \"your favorite female 'star wars' heroes finally get their own series\",\n",
       "  'is_sarcastic': 0},\n",
       " {'article_link': 'https://www.theonion.com/nation-checks-out-cnn-com-to-see-what-their-old-pals-th-1819574972',\n",
       "  'headline': 'nation checks out cnn.com to see what their old pals the tsarnaevs and castros are up to',\n",
       "  'is_sarcastic': 1},\n",
       " {'article_link': 'https://www.theonion.com/small-town-beginning-to-wonder-what-taking-heroin-epide-1819579260',\n",
       "  'headline': 'small town beginning to wonder what taking heroin epidemic so long to get there',\n",
       "  'is_sarcastic': 1},\n",
       " {'article_link': 'https://www.huffingtonpost.com/entry/new-ted-cruz-superpacs-ta_n_7024478.html',\n",
       "  'headline': 'new ted cruz super-pacs take in record haul',\n",
       "  'is_sarcastic': 0},\n",
       " {'article_link': 'https://www.huffingtonpost.com/entry/domestic-abuse-olliette-murry-drobot_us_59a5bd08e4b063ae34d96f61',\n",
       "  'headline': 'domestic abuse survivor gives young victims the support she wishes she had',\n",
       "  'is_sarcastic': 0},\n",
       " {'article_link': 'https://www.huffingtonpost.com/entry/dogs-smell-grandmas-scent-set-off-on-quest-to-find-her_us_584c2eede4b0bd9c3dfd1730',\n",
       "  'headline': \"dogs smell grandma's scent, set off on quest to find her\",\n",
       "  'is_sarcastic': 0},\n",
       " {'article_link': 'https://www.huffingtonpost.com/entry/smbs-are-changing-the-way_b_6582754.html',\n",
       "  'headline': \"smb's are changing the way they do business\",\n",
       "  'is_sarcastic': 0},\n",
       " {'article_link': 'https://politics.theonion.com/president-s-american-manufacturing-council-down-to-ceo-1819580159',\n",
       "  'headline': \"president's american manufacturing council down to ceo of shoe carnival\",\n",
       "  'is_sarcastic': 1},\n",
       " {'article_link': 'https://www.theonion.com/worlds-physicists-complete-study-of-physics-1819571253',\n",
       "  'headline': \"world's physicists complete study of physics\",\n",
       "  'is_sarcastic': 1},\n",
       " {'article_link': 'https://www.huffingtonpost.com/entry/how-to-really-listen-in-a_b_8126742.html',\n",
       "  'headline': 'how to really listen in a difficult conversation (6.2)',\n",
       "  'is_sarcastic': 0},\n",
       " {'article_link': 'https://www.theonion.com/heroic-turtle-dials-most-of-911-1819587282',\n",
       "  'headline': 'heroic turtle dials most of 911',\n",
       "  'is_sarcastic': 1},\n",
       " {'article_link': 'https://www.huffingtonpost.com/entry/miscarriage-stories-what-its-like_us_589e21cee4b094a129eb076a',\n",
       "  'headline': \"what it's really like to have a miscarriage\",\n",
       "  'is_sarcastic': 0},\n",
       " {'article_link': 'https://www.huffingtonpost.com/entry/texas-anti-lgbt-bills_us_584873d3e4b0f9723cfff3be',\n",
       "  'headline': 'businesses say anti-lgbt bills could cost texas billions',\n",
       "  'is_sarcastic': 0},\n",
       " {'article_link': 'https://www.huffingtonpost.com/entry/man-accused-of-new-hampsh_n_5462404.html',\n",
       "  'headline': \"accused killer wanted 'army of people who'd do anything he asked'\",\n",
       "  'is_sarcastic': 0},\n",
       " {'article_link': 'https://sports.theonion.com/avid-fisherman-forever-ruins-fishing-for-son-1819567026',\n",
       "  'headline': 'avid fisherman forever ruins fishing for son',\n",
       "  'is_sarcastic': 1},\n",
       " {'article_link': 'https://www.huffingtonpost.com/entry/british-public-on-the-hunt-for-witches-marks-this-halloween_us_58179b1ae4b0390e69d1e098',\n",
       "  'headline': \"british public on the hunt for 'witches' marks' this halloween\",\n",
       "  'is_sarcastic': 0},\n",
       " {'article_link': 'https://entertainment.theonion.com/nation-relieved-insufferable-little-game-of-thrones-f-1819578815',\n",
       "  'headline': \"nation relieved insufferable little 'game of thrones' fans don't have book to lord over them this season\",\n",
       "  'is_sarcastic': 1},\n",
       " {'article_link': 'https://www.huffingtonpost.com/entry/the-best-volunteer-progra_b_7566478.html',\n",
       "  'headline': 'the best volunteer programs do this',\n",
       "  'is_sarcastic': 0},\n",
       " {'article_link': 'https://www.theonion.com/nasa-completely-forgot-probe-was-returning-today-1819568305',\n",
       "  'headline': 'nasa completely forgot probe was returning today',\n",
       "  'is_sarcastic': 1},\n",
       " {'article_link': 'https://www.theonion.com/3m-introduces-new-line-of-protective-foam-eye-plugs-1822590036',\n",
       "  'headline': '3m introduces new line of protective foam eye plugs',\n",
       "  'is_sarcastic': 1},\n",
       " {'article_link': 'https://www.huffingtonpost.com/entry/michael-b-jordan-sets-fire-to-first-fahrenheit-451-trailer_us_5a95795ce4b01f65f59aa9aa',\n",
       "  'headline': \"michael b. jordan sets fire to first 'fahrenheit 451' trailer\",\n",
       "  'is_sarcastic': 0},\n",
       " {'article_link': 'https://www.theonion.com/astronomers-predict-giant-asteroid-will-hit-nations-the-1819564716',\n",
       "  'headline': \"astronomers predict giant asteroid will hit nation's theaters this summer\",\n",
       "  'is_sarcastic': 1},\n",
       " {'article_link': 'https://local.theonion.com/hero-of-the-common-man-talks-to-plumber-for-entire-time-1819577072',\n",
       "  'headline': \"hero of the common man talks to plumber for entire time he's in house\",\n",
       "  'is_sarcastic': 1},\n",
       " {'article_link': 'https://www.huffingtonpost.comhttp://www.huffingtonpost.in/2016/08/15/social-unity-is-most-important-says-pm-modi-on-indias-70th-ind/?utm_hp_ref=in-homepage',\n",
       "  'headline': \"social unity is most important, says pm modi on india's 70th independence day\",\n",
       "  'is_sarcastic': 0},\n",
       " {'article_link': 'https://www.huffingtonpost.com/entry/reagan-opinion-roe-wade-harassment_us_5a63d88ee4b0dc592a096aa1',\n",
       "  'headline': \"roe made abortions legal, but it doesn't keep women and providers safe\",\n",
       "  'is_sarcastic': 0},\n",
       " {'article_link': 'https://www.theonion.com/hussein-judge-hoping-for-fair-speedy-assassination-1819568536',\n",
       "  'headline': 'hussein judge hoping for fair, speedy assassination',\n",
       "  'is_sarcastic': 1},\n",
       " {'article_link': 'https://politics.theonion.com/savvy-man-registers-sleepy-romney-twitter-account-just-1819574064',\n",
       "  'headline': \"savvy man registers 'sleepy romney' twitter account just in case candidate looks tired\",\n",
       "  'is_sarcastic': 1},\n",
       " {'article_link': 'https://www.huffingtonpost.comhttp://www.politico.com/story/2016/05/immigration-trump-deportations-dreamers-223658',\n",
       "  'headline': \"dreamers face nightmare of trump's deportation force\",\n",
       "  'is_sarcastic': 0},\n",
       " {'article_link': 'https://www.theonion.com/third-world-disease-eliminated-with-hot-air-hand-dryers-1819565375',\n",
       "  'headline': 'third world disease eliminated with hot-air hand dryers',\n",
       "  'is_sarcastic': 1},\n",
       " {'article_link': 'https://www.huffingtonpost.com/entry/yayoi-kusama-selfie-snapper-smashes-sculpture_us_58b6975de4b0780bac2e9046',\n",
       "  'headline': 'whoops! selfie snapper smashes sculpture days after exhibit opens',\n",
       "  'is_sarcastic': 0},\n",
       " {'article_link': 'https://entertainment.theonion.com/aspiring-actor-dreams-of-one-day-publicly-voicing-regre-1822199182',\n",
       "  'headline': 'aspiring actor dreams of one day publicly voicing regret for working with woody allen',\n",
       "  'is_sarcastic': 1},\n",
       " {'article_link': 'https://www.theonion.com/swiss-unable-to-maintain-neutrality-toward-delicious-pa-1819564621',\n",
       "  'headline': 'swiss unable to maintain neutrality toward delicious pastries',\n",
       "  'is_sarcastic': 1},\n",
       " {'article_link': 'https://www.huffingtonpost.com/entry/9-things-all-parents-of-college-kids-do-but-hate-to-admit_us_56cc6f94e4b041136f1845ca',\n",
       "  'headline': '9 things all parents of college kids do but hate to admit',\n",
       "  'is_sarcastic': 0},\n",
       " {'article_link': 'https://www.theonion.com/thousands-of-new-orleans-households-still-without-polit-1819568190',\n",
       "  'headline': 'thousands of new orleans households still without political power',\n",
       "  'is_sarcastic': 1},\n",
       " {'article_link': 'https://www.huffingtonpost.com/entry/reuniting-families-with-remains_b_5849866.html',\n",
       "  'headline': 'watch: underreported story -- reuniting families with remains of dead migrants',\n",
       "  'is_sarcastic': 0},\n",
       " {'article_link': 'https://www.huffingtonpost.com/entry/yahoos-newfront-pulses-to_b_7195252.html',\n",
       "  'headline': \"yahoo's newfront pulses to steve aoki's edm beat\",\n",
       "  'is_sarcastic': 0},\n",
       " {'article_link': 'https://www.theonion.com/look-at-it-its-goddamn-beautiful-1819590339',\n",
       "  'headline': \"look at it: it's goddamn beautiful\",\n",
       "  'is_sarcastic': 1},\n",
       " {'article_link': 'https://www.huffingtonpost.com/entry/how-to-lose-to-the-islami_b_6244574.html',\n",
       "  'headline': 'how to lose to the islamic state: obama administration considers deploying troops to iraq, focusing on assad in syria',\n",
       "  'is_sarcastic': 0},\n",
       " {'article_link': 'https://www.huffingtonpost.com/entry/erics-bogosians-operation_b_7097268.html',\n",
       "  'headline': \"eric's bogosian's operation nemesis: can a genocide ever truly be avenged?\",\n",
       "  'is_sarcastic': 0},\n",
       " {'article_link': 'https://www.theonion.com/antarctic-observational-comic-running-out-of-ideas-1819566013',\n",
       "  'headline': 'antarctic observational comic running out of ideas',\n",
       "  'is_sarcastic': 1},\n",
       " {'article_link': 'https://www.huffingtonpost.com/entry/moscow-protests_us_59189721e4b0fe039b355e07',\n",
       "  'headline': 'thousands protest in moscow against housing plan',\n",
       "  'is_sarcastic': 0},\n",
       " {'article_link': 'https://entertainment.theonion.com/new-pixar-employees-required-to-watch-adorable-sexual-h-1819571585',\n",
       "  'headline': 'new pixar employees required to watch adorable sexual harassment video',\n",
       "  'is_sarcastic': 1},\n",
       " {'article_link': 'https://entertainment.theonion.com/cosmopolitan-releases-40-year-compendium-812-683-ways-1819587929',\n",
       "  'headline': 'cosmopolitan releases 40-year compendium: 812,683 ways to please your man',\n",
       "  'is_sarcastic': 1},\n",
       " {'article_link': 'https://www.theonion.com/row-of-asterisks-spices-up-otherwise-ordinary-e-mail-1819571919',\n",
       "  'headline': 'row of asterisks spices up otherwise ordinary e-mail',\n",
       "  'is_sarcastic': 1},\n",
       " {'article_link': 'https://www.huffingtonpost.com/entry/queer-tattoo-shop_us_58c95a73e4b01c029d78044f',\n",
       "  'headline': 'this tattoo shop is creating a safe and accepting space for queer bodies',\n",
       "  'is_sarcastic': 0},\n",
       " {'article_link': 'https://local.theonion.com/sears-gold-card-holder-pushing-weight-around-area-sears-1819569396',\n",
       "  'headline': 'sears gold card holder pushing weight around area sears',\n",
       "  'is_sarcastic': 1},\n",
       " {'article_link': 'https://www.huffingtonpost.com/entry/jeff-lindsay-goodbye-dexter_us_55a52cc5e4b0a47ac15d60cf',\n",
       "  'headline': 'author jeff lindsay says goodbye to serial killer dexter with final novel',\n",
       "  'is_sarcastic': 0},\n",
       " {'article_link': 'https://local.theonion.com/after-work-drinks-enter-third-excruciating-minute-1819573762',\n",
       "  'headline': 'after-work drinks enter third excruciating minute',\n",
       "  'is_sarcastic': 1},\n",
       " {'article_link': 'https://www.huffingtonpost.comhttp://thehill.com/homenews/campaign/267641-koch-network-spent-nearly-400-million-in-2015',\n",
       "  'headline': 'koch network spent nearly $400 million in 2015',\n",
       "  'is_sarcastic': 0},\n",
       " {'article_link': 'https://www.huffingtonpost.com/entry/university-of-delaware-noose_us_5602a0dde4b00310edf93a76',\n",
       "  'headline': \"those weren't nooses at university of delaware\",\n",
       "  'is_sarcastic': 0},\n",
       " {'article_link': 'https://local.theonion.com/man-already-has-whole-sentence-lined-up-for-later-in-co-1819580389',\n",
       "  'headline': 'man already has whole sentence lined up for later in conversation',\n",
       "  'is_sarcastic': 1},\n",
       " {'article_link': 'https://local.theonion.com/area-waitress-has-one-hell-of-an-ass-on-her-local-man-1819564893',\n",
       "  'headline': 'area waitress has one hell of an ass on her, local man will tell you that right now',\n",
       "  'is_sarcastic': 1},\n",
       " {'article_link': 'https://www.huffingtonpost.com/entry/gifts-for-plant-lovers_us_5aff32b4e4b0463cdba1c5af',\n",
       "  'headline': '30 unbeleafably adorable gifts for plant lovers',\n",
       "  'is_sarcastic': 0},\n",
       " {'article_link': 'https://www.huffingtonpost.com/entry/cuomo-afghanistan_n_5893280.html',\n",
       "  'headline': 'cuomo makes surprise afghanistan trip',\n",
       "  'is_sarcastic': 0},\n",
       " {'article_link': 'https://entertainment.theonion.com/drummers-girlfriend-thinks-he-should-sing-1819566660',\n",
       "  'headline': \"drummer's girlfriend thinks he should sing\",\n",
       "  'is_sarcastic': 1},\n",
       " {'article_link': 'https://www.huffingtonpost.com/entry/matthew-mcconaughey-youtube-channel_us_57b8bd43e4b03d513688ca99',\n",
       "  'headline': \"nobody watched matthew mcconaughey's forgotten youtube channel until now\",\n",
       "  'is_sarcastic': 0},\n",
       " {'article_link': 'https://www.theonion.com/pope-francis-admits-god-really-starting-to-look-old-1819879536',\n",
       "  'headline': 'pope francis admits god really starting to look old',\n",
       "  'is_sarcastic': 1},\n",
       " {'article_link': 'https://www.huffingtonpost.com/entry/getting-lost-in-the-paren_b_6181148.html',\n",
       "  'headline': 'what has becoming a parent done to me?',\n",
       "  'is_sarcastic': 0},\n",
       " {'article_link': 'https://www.huffingtonpost.com/entry/video-congressmans-icantb_b_6272128.html',\n",
       "  'headline': 'video:  #icantbreathe poem on house floor',\n",
       "  'is_sarcastic': 0},\n",
       " {'article_link': 'https://local.theonion.com/man-somehow-overcomes-alcoholism-without-jesus-1819572870',\n",
       "  'headline': 'man somehow overcomes alcoholism without jesus',\n",
       "  'is_sarcastic': 1},\n",
       " {'article_link': 'https://www.huffingtonpost.com/entry/donald-w-bush_us_59ee180ce4b0a484d064d7b7',\n",
       "  'headline': 'donald w. bush?',\n",
       "  'is_sarcastic': 0},\n",
       " {'article_link': 'https://www.theonion.com/mom-uses-full-name-to-refer-to-bisquick-impossibly-easy-1819566208',\n",
       "  'headline': 'mom uses full name to refer to bisquick impossibly easy cheeseburger pie\\x99',\n",
       "  'is_sarcastic': 1},\n",
       " {'article_link': 'https://www.huffingtonpost.com/entry/donald-trump-filemon-vela_us_5a1acb05e4b0cee6c0504421',\n",
       "  'headline': \"congressman calls trump 'an idiot' for using egypt mosque attack to promote border wall\",\n",
       "  'is_sarcastic': 0},\n",
       " {'article_link': 'https://www.huffingtonpost.com/entry/luke-bryan-confederate-flag-raising-sisters-kids_us_55b77596e4b0a13f9d1a0ed0',\n",
       "  'headline': \"luke bryan says confederate flag has become a 'symbol of racism'\",\n",
       "  'is_sarcastic': 0},\n",
       " {'article_link': 'https://www.theonion.com/rich-first-grader-buys-whole-sheet-of-gold-stars-1819566777',\n",
       "  'headline': 'rich first-grader buys whole sheet of gold stars',\n",
       "  'is_sarcastic': 1},\n",
       " {'article_link': 'https://www.huffingtonpost.com/entry/we-aint-germans_b_5666629.html',\n",
       "  'headline': \"we ain't germans\",\n",
       "  'is_sarcastic': 0},\n",
       " {'article_link': 'https://www.huffingtonpost.com/entry/matt-bevin-kentucky-confederate-statues_us_59946af7e4b04b193362462e',\n",
       "  'headline': \"kentucky governor echoes trump: 'all sides' to blame for charlottesville violence\",\n",
       "  'is_sarcastic': 0},\n",
       " {'article_link': 'https://www.huffingtonpost.com/entry/how-caitlyn-jenner-is-helping-me-be-a-better-me_b_7537712.html',\n",
       "  'headline': 'how caitlyn jenner is helping me be a better me',\n",
       "  'is_sarcastic': 0},\n",
       " {'article_link': 'https://www.theonion.com/new-apple-campaign-urges-consumers-to-buy-iphone-for-ot-1819573673',\n",
       "  'headline': 'new apple campaign urges consumers to buy iphone for other hand',\n",
       "  'is_sarcastic': 1},\n",
       " {'article_link': 'https://local.theonion.com/woman-dozing-at-coffee-shop-has-that-dave-eggers-sex-dr-1819567737',\n",
       "  'headline': 'woman dozing at coffee shop has that dave eggers sex dream again',\n",
       "  'is_sarcastic': 1},\n",
       " {'article_link': 'https://www.theonion.com/manager-of-combination-taco-bell-kfc-secretly-considers-1825290602',\n",
       "  'headline': 'manager of combination taco bell/kfc secretly considers it mostly a taco bell',\n",
       "  'is_sarcastic': 1},\n",
       " {'article_link': 'https://politics.theonion.com/could-hillary-clinton-have-what-it-takes-to-defeat-the-1819587781',\n",
       "  'headline': 'could hillary clinton have what it takes to defeat the democrats in 2008?',\n",
       "  'is_sarcastic': 1},\n",
       " {'article_link': 'https://www.huffingtonpost.com/entry/-wild-tales-outstanding-b_b_5389941.html',\n",
       "  'headline': 'wild tales:  outstanding black comedy at cannes',\n",
       "  'is_sarcastic': 0},\n",
       " {'article_link': 'https://www.huffingtonpost.com/entry/donald-trump-cte-kevin-blackistone_us_59c98009e4b06ddf45fa8f7f',\n",
       "  'headline': 'donald trump prefers violent football so more black players get hurt: espn analyst',\n",
       "  'is_sarcastic': 0},\n",
       " {'article_link': 'https://www.huffingtonpost.com/entry/black-ribbon-in-the-balsa_b_6315304.html',\n",
       "  'headline': 'black ribbon in the balsam',\n",
       "  'is_sarcastic': 0},\n",
       " {'article_link': 'https://www.huffingtonpost.com/entry/buttermilk-biscuit-recipes_n_7274192.html',\n",
       "  'headline': 'the buttermilk biscuit recipes you want and need',\n",
       "  'is_sarcastic': 0},\n",
       " {'article_link': 'https://www.huffingtonpost.com/entry/ai-weiwei-commemorates-drowned-refugees-with-public-installation-during-berlin-film-festival_us_56c20c0de4b08ffac125f029',\n",
       "  'headline': 'ai weiwei commemorates drowned refugees during berlin film festival',\n",
       "  'is_sarcastic': 0},\n",
       " {'article_link': 'https://www.huffingtonpost.comhttp://thinkprogress.org/media/2015/08/03/3687249/koch-freedom-partners-media-restrictions/',\n",
       "  'headline': \"the restrictions journalists agreed to in order to attend the koch brothers' conference\",\n",
       "  'is_sarcastic': 0},\n",
       " {'article_link': 'https://local.theonion.com/7-year-old-puts-on-uno-face-1819567628',\n",
       "  'headline': '7-year-old puts on uno face',\n",
       "  'is_sarcastic': 1},\n",
       " {'article_link': 'https://www.huffingtonpost.com/entry/little-boy-stands-tall_b_7144538.html',\n",
       "  'headline': \"'little boy' stands tall\",\n",
       "  'is_sarcastic': 0},\n",
       " {'article_link': 'https://www.huffingtonpost.com/entry/jake-tapper-tweets-response-snl-kellyanne-conway-sketch_us_58a1d246e4b03df370d886c5',\n",
       "  'headline': \"jake tapper has one-word response to creepy kellyanne conway 'snl' sketch\",\n",
       "  'is_sarcastic': 0},\n",
       " {'article_link': 'https://www.huffingtonpost.com/entry/hobby-lobby-poll_n_5540769.html',\n",
       "  'headline': 'poll shows support for birth control mandate on eve of court ruling',\n",
       "  'is_sarcastic': 0},\n",
       " {'article_link': 'https://www.huffingtonpost.com/entry/steven-hayes-kosher_n_6240420.html',\n",
       "  'headline': 'death row inmate loses fight over kosher food',\n",
       "  'is_sarcastic': 0},\n",
       " {'article_link': 'https://www.huffingtonpost.com/entry/jada-pinkett-smith-gabrielle-union-feud_us_5aec363be4b041fd2d257f8d',\n",
       "  'headline': 'jada pinkett smith and gabrielle union end feud after 17 years',\n",
       "  'is_sarcastic': 0},\n",
       " {'article_link': 'https://www.huffingtonpost.com/entry/huffpost-rise-morning-newsbrief-feb-10_us_56bac83ce4b0c3c5504f6cba',\n",
       "  'headline': 'huffpost rise: what you need to know on february 10',\n",
       "  'is_sarcastic': 0},\n",
       " {'article_link': 'https://www.huffingtonpost.com/entry/dear-mr-president-a-dispatch-from-bowling-green_us_58955fd7e4b02bbb1816ba90',\n",
       "  'headline': 'dear mr. president: a dispatch from bowling green',\n",
       "  'is_sarcastic': 0},\n",
       " {'article_link': 'https://www.huffingtonpost.com/entry/shinto-priestess-killed-by-brother-during-sword-attack-at-tokyo-shrine_us_5a2ac2cce4b073789f695096',\n",
       "  'headline': 'shinto priestess killed by brother during sword attack at tokyo shrine',\n",
       "  'is_sarcastic': 0},\n",
       " {'article_link': 'https://www.huffingtonpost.com/entry/journalists-rebuke-of-michelle-wolf-doesnt-celebrate-press-freedom_us_5ae70b2fe4b02baed1bc4dd8',\n",
       "  'headline': \"journalists push back on correspondents' association's response to michelle wolf\",\n",
       "  'is_sarcastic': 0},\n",
       " {'article_link': 'https://www.huffingtonpost.com/entry/nina-dobrev-return-to-vampire-diaries_us_587e7cf6e4b01cdc64c82984',\n",
       "  'headline': \"nina dobrev addresses her rumored return to 'vampire diaries'\",\n",
       "  'is_sarcastic': 0},\n",
       " {'article_link': 'https://www.huffingtonpost.com/entry/british-pm-buddies-up-to-trump_us_58664f64e4b0d9a5945af5e8',\n",
       "  'headline': 'theresa may, edging towards donald trump, scolds john kerry over israel',\n",
       "  'is_sarcastic': 0},\n",
       " {'article_link': 'https://www.theonion.com/child-assured-it-will-be-long-time-before-he-dies-1819574566',\n",
       "  'headline': 'child assured it will be long time before he dies',\n",
       "  'is_sarcastic': 1},\n",
       " {'article_link': 'https://www.huffingtonpost.com/entry/prank-leaves-girl-glued_us_568a8627e4b014efe0dae81f',\n",
       "  'headline': \"new year's eve prank leaves 4-year-old glued to mcdonald's toilet\",\n",
       "  'is_sarcastic': 0},\n",
       " {'article_link': 'https://www.huffingtonpost.com/entry/tamir-rice-family-slams-prosecutors_us_5670572ce4b0e292150f67dc',\n",
       "  'headline': 'prosecutors in tamir rice case bizarrely pointed toy gun at witness, lawyers allege',\n",
       "  'is_sarcastic': 0},\n",
       " {'article_link': 'https://www.huffingtonpost.com/entry/obama-isis-iran_n_6165352.html',\n",
       "  'headline': \"what's wrong with this picture? for u.s. fight against isis, everything\",\n",
       "  'is_sarcastic': 0},\n",
       " {'article_link': 'https://www.huffingtonpost.com/entry/afi-docs-where-policy-mee_b_7564840.html',\n",
       "  'headline': 'afi docs: where policy meets art',\n",
       "  'is_sarcastic': 0},\n",
       " {'article_link': 'https://www.theonion.com/school-bully-not-so-tough-since-being-molested-1819587116',\n",
       "  'headline': 'school bully not so tough since being molested',\n",
       "  'is_sarcastic': 1},\n",
       " {'article_link': 'https://www.huffingtonpost.com/entry/the-real-mothers-of-mothe_b_5297124.html',\n",
       "  'headline': \"the real mothers of mother's day\",\n",
       "  'is_sarcastic': 0},\n",
       " {'article_link': 'https://www.huffingtonpost.com/entry/dad-shoots-daughter-teaching-gun-safety_us_55bfac35e4b0d4f33a0384a5',\n",
       "  'headline': 'dad shoots daughter while teaching her about gun safety',\n",
       "  'is_sarcastic': 0},\n",
       " {'article_link': 'https://www.huffingtonpost.com/entry/3-unexpected-tips-on-taming-screen-time-in-your-household_us_559f2311e4b01c2162a63ff7',\n",
       "  'headline': '3 unexpected ways to help your kids be mindful about screen time',\n",
       "  'is_sarcastic': 0},\n",
       " {'article_link': 'https://www.huffingtonpost.com/entry/dee-bogetti-gps-guide_us_56e729c7e4b0b25c9182fd9f',\n",
       "  'headline': \"dee bogetti's gps guide for living in the moment\",\n",
       "  'is_sarcastic': 0},\n",
       " {'article_link': 'https://politics.theonion.com/paul-ryan-confident-american-people-will-warm-up-to-tax-1821509050',\n",
       "  'headline': 'paul ryan confident american people will warm up to tax plan once they realize life a cruel and meaningless farce',\n",
       "  'is_sarcastic': 1},\n",
       " {'article_link': 'https://www.theonion.com/war-torn-blood-soaked-kosovo-would-bombing-it-help-1819586587',\n",
       "  'headline': 'war-torn, blood-soaked kosovo: would bombing it help?',\n",
       "  'is_sarcastic': 1},\n",
       " {'article_link': 'https://www.huffingtonpost.com/entry/starving-for-a-fantasy_b_6920540.html',\n",
       "  'headline': 'starving for a fantasy',\n",
       "  'is_sarcastic': 0},\n",
       " {'article_link': 'https://politics.theonion.com/bill-clinton-waiting-until-after-primaries-to-endorse-c-1819588484',\n",
       "  'headline': 'bill clinton waiting until after primaries to endorse candidate',\n",
       "  'is_sarcastic': 1},\n",
       " {'article_link': 'https://www.huffingtonpost.com/entry/what-to-do-own-volkswagen-recalled_us_55fdcf38e4b00310edf754c4',\n",
       "  'headline': 'what you should do if you own a volkswagen that was just recalled',\n",
       "  'is_sarcastic': 0},\n",
       " {'article_link': 'https://www.huffingtonpost.com/entry/to-read-or-not-to-read-pa_b_6174326.html',\n",
       "  'headline': 'to read or not to read, part 2',\n",
       "  'is_sarcastic': 0},\n",
       " {'article_link': 'https://www.huffingtonpost.com/entry/bernie-sanders-hillary-clinton-iowa_us_55f1798ae4b093be51bdb35c',\n",
       "  'headline': 'hillary clinton loses lead over bernie sanders in new iowa poll',\n",
       "  'is_sarcastic': 0},\n",
       " {'article_link': 'https://www.huffingtonpost.com/entry/don-hazen-accused-sexual-harassment_us_5a3ad9d1e4b06d1621b192d8',\n",
       "  'headline': 'several women accuse progressive media executive don hazen of sexual harassment',\n",
       "  'is_sarcastic': 0},\n",
       " {'article_link': 'https://www.huffingtonpost.com/entry/success-and-still-enjoying-your-happy-place_b_5579043.html',\n",
       "  'headline': \"success and still enjoying your 'happy place'\",\n",
       "  'is_sarcastic': 0},\n",
       " {'article_link': 'https://local.theonion.com/last-12-years-a-real-wake-up-call-for-area-man-1819575039',\n",
       "  'headline': 'last 12 years a real wake-up call for area man',\n",
       "  'is_sarcastic': 1},\n",
       " {'article_link': 'https://politics.theonion.com/pollsters-admit-they-underestimated-voters-adrenal-gla-1819579435',\n",
       "  'headline': \"pollsters admit they underestimated voters' adrenal glands\",\n",
       "  'is_sarcastic': 1},\n",
       " {'article_link': 'https://www.huffingtonpost.com/entry/lin-manuel-miranda-ellen-degeneres_us_5825ec17e4b0c4b63b0c4840',\n",
       "  'headline': \"lin-manuel miranda freestyles about life's most annoying minor inconveniences on 'ellen'\",\n",
       "  'is_sarcastic': 0},\n",
       " {'article_link': 'https://www.huffingtonpost.com/entry/john-lewis-donald-trump-civil-rights-museum_us_5a29a5fbe4b0a290f04f2f70',\n",
       "  'headline': \"john lewis won't attend civil rights museum opening because trump is going\",\n",
       "  'is_sarcastic': 0},\n",
       " {'article_link': 'https://www.huffingtonpost.com/entry/is-trouble-brewing-for-the-2015-npt-review-conference_b_7106216.html',\n",
       "  'headline': 'is trouble brewing for the 2015 npt review conference?',\n",
       "  'is_sarcastic': 0},\n",
       " {'article_link': 'https://local.theonion.com/area-man-going-to-go-ahead-and-consider-that-a-date-1819568761',\n",
       "  'headline': 'area man going to go ahead and consider that a date',\n",
       "  'is_sarcastic': 1},\n",
       " {'article_link': 'https://politics.theonion.com/4-senators-mauled-during-congressional-tiger-show-1819576294',\n",
       "  'headline': '4 senators mauled during congressional tiger show',\n",
       "  'is_sarcastic': 1},\n",
       " {'article_link': 'https://www.huffingtonpost.com/entry/huffpost-hill_n_6858772.html',\n",
       "  'headline': 'huffpost hill - secret service agents really glad dark sunglasses hide bloodshot eyes',\n",
       "  'is_sarcastic': 0},\n",
       " {'article_link': 'https://www.theonion.com/kite-flyer-in-the-zone-1819587609',\n",
       "  'headline': 'kite flyer in the zone',\n",
       "  'is_sarcastic': 1},\n",
       " {'article_link': 'https://www.theonion.com/bacon-just-one-of-sprints-new-downloadable-ring-scents-1819567731',\n",
       "  'headline': \"bacon just one of sprint's new downloadable ring scents\",\n",
       "  'is_sarcastic': 1},\n",
       " {'article_link': 'https://www.huffingtonpost.com/entry/i-photograph-to-remember_b_6281740.html',\n",
       "  'headline': 'i photograph to remember',\n",
       "  'is_sarcastic': 0},\n",
       " {'article_link': 'https://www.huffingtonpost.com/entry/steven-holcomb-tribute_us_5a7d56a2e4b0c6726e11db7d',\n",
       "  'headline': 'u.s. bobsled team pays tribute to late gold medalist steven holcomb',\n",
       "  'is_sarcastic': 0},\n",
       " {'article_link': 'https://www.huffingtonpost.com/entry/with-history-art-culture-_b_6344880.html',\n",
       "  'headline': \"among santa fe's many virtues? history, art, culture, hospitality and killer vintage clothing\",\n",
       "  'is_sarcastic': 0},\n",
       " {'article_link': 'https://www.huffingtonpost.com/entry/power-plan-foes-from-mars_b_12068010.html',\n",
       "  'headline': 'power plan foes from mars, backers from venus (earth actually)',\n",
       "  'is_sarcastic': 0},\n",
       " {'article_link': 'https://www.huffingtonpost.com/entry/journalists-who-refuse-to_b_10661042.html',\n",
       "  'headline': 'journalists who refuse to take the same non-answer for an answer',\n",
       "  'is_sarcastic': 0},\n",
       " {'article_link': 'https://www.huffingtonpost.com/entry/nukes-and-the-global-schism_us_5967d173e4b022bb9372b023',\n",
       "  'headline': 'nukes and the global schism',\n",
       "  'is_sarcastic': 0},\n",
       " {'article_link': 'https://local.theonion.com/weird-relative-at-family-reunion-knows-how-everyone-rel-1819579336',\n",
       "  'headline': 'weird relative at family reunion knows how everyone related to each other',\n",
       "  'is_sarcastic': 1},\n",
       " {'article_link': 'https://www.huffingtonpost.com/entry/negro-week-at-the-19391940-new-york-worlds-fair_us_58b26313e4b02f3f81e44893',\n",
       "  'headline': \"negro week at the 1939–1940 new york world's fair\",\n",
       "  'is_sarcastic': 0},\n",
       " {'article_link': 'https://www.huffingtonpost.com/entry/trump-threatens-veto-of-spending-bill-over-border-wall-funding_us_5ab4f979e4b008c9e5f676aa',\n",
       "  'headline': 'trump threatens to veto spending bill over border wall funding, then signs it',\n",
       "  'is_sarcastic': 0},\n",
       " {'article_link': 'https://www.huffingtonpost.com/entry/6-diy-stress-hacks-using-whats-in-your-closet_b_7525764.html',\n",
       "  'headline': \"6 diy stress hacks using what's in your closet\",\n",
       "  'is_sarcastic': 0},\n",
       " {'article_link': 'https://www.huffingtonpost.com/entry/the-major-concern-with-the-phone-call-with-taiwan_us_5844423fe4b0b93e10f8e31a',\n",
       "  'headline': 'the major concern with the phone call with taiwan',\n",
       "  'is_sarcastic': 0},\n",
       " {'article_link': 'https://www.huffingtonpost.com/entry/a-weird-and-wonderful-cab_b_6957164.html',\n",
       "  'headline': \"a weird and wonderful cabaret chronicle: karen mason revisits her roots at 'don't tell mama!'\",\n",
       "  'is_sarcastic': 0},\n",
       " {'article_link': 'https://www.huffingtonpost.com/entry/companies-urged-to-report-climate-change-risks_us_56fe7911e4b0a06d58057057',\n",
       "  'headline': \"why companies shouldn't hide the financial risks of climate change\",\n",
       "  'is_sarcastic': 0},\n",
       " {'article_link': 'https://www.huffingtonpost.com/entry/louvre-rats_n_5631598.html',\n",
       "  'headline': 'the louvre gardens are teeming with rats',\n",
       "  'is_sarcastic': 0},\n",
       " {'article_link': 'https://www.huffingtonpost.com/entry/trump-no-1-polls-macarena_us_55b25af5e4b0224d8831f6ce',\n",
       "  'headline': \"trump is #1 in the polls, and so was the 'macarena'\",\n",
       "  'is_sarcastic': 0},\n",
       " {'article_link': 'https://www.huffingtonpost.com/entry/boy-george-saves-a-child-from-suicide-among-other_us_58334d6fe4b08c963e344339',\n",
       "  'headline': 'boy george opens up about happiness, being a u.s. politics junkie and more',\n",
       "  'is_sarcastic': 0},\n",
       " {'article_link': 'https://local.theonion.com/area-woman-decides-not-to-post-facebook-status-that-wou-1819574365',\n",
       "  'headline': 'area woman decides not to post facebook status that would have tipped gun control debate',\n",
       "  'is_sarcastic': 1},\n",
       " {'article_link': 'https://www.theonion.com/sprint-t-mobile-ceos-merge-into-grotesque-executive-hy-1825660392',\n",
       "  'headline': 'sprint, t-mobile ceos merge into grotesque executive hybrid',\n",
       "  'is_sarcastic': 1},\n",
       " {'article_link': 'https://www.huffingtonpost.com/entry/patrick-stewart-1-star-reviews_us_58afe43fe4b060480e069d26',\n",
       "  'headline': 'patrick stewart reads hilariously bad reviews of iconic tourist attractions',\n",
       "  'is_sarcastic': 0},\n",
       " {'article_link': 'https://www.huffingtonpost.com/entry/safeguarding-the-well-bei_b_7509452.html',\n",
       "  'headline': 'safeguarding the well-being of children',\n",
       "  'is_sarcastic': 0},\n",
       " {'article_link': 'https://www.huffingtonpost.com/entry/anger-gun-violence_us_5a8b18f5e4b05c2bcace143f',\n",
       "  'headline': 'the public health threat of private anger',\n",
       "  'is_sarcastic': 0},\n",
       " {'article_link': 'https://local.theonion.com/target-dorm-room-essentials-aisle-being-browsed-exclu-1819580224',\n",
       "  'headline': \"target 'dorm room essentials' aisle being browsed exclusively by 30-year-old men with studio apartments\",\n",
       "  'is_sarcastic': 1},\n",
       " {'article_link': 'https://www.theonion.com/suzanne-somers-named-u-s-thighmaster-general-1819586302',\n",
       "  'headline': 'suzanne somers named u.s. thighmaster general',\n",
       "  'is_sarcastic': 1},\n",
       " {'article_link': 'https://www.huffingtonpost.com/entry/oscar-isaac-hamlet_us_595ff12ce4b0615b9e9194e3',\n",
       "  'headline': 'just a friendly and wildly hot reminder that oscar isaac is playing hamlet',\n",
       "  'is_sarcastic': 0},\n",
       " {'article_link': 'https://www.huffingtonpost.com/entry/terror-at-the-mall-kenya-documentary_n_5810932.html',\n",
       "  'headline': \"a new hbo documentary shows what it's really like inside a terror attack\",\n",
       "  'is_sarcastic': 0},\n",
       " {'article_link': 'https://www.huffingtonpost.com/entry/watch-stories-you-wont-be_b_5558211.html',\n",
       "  'headline': \"watch: stories you won't believe from some of the world's dirtiest jobs\",\n",
       "  'is_sarcastic': 0},\n",
       " {'article_link': 'https://www.huffingtonpost.com/entry/danny-willett-wins-masters_us_570adde0e4b0142232495057',\n",
       "  'headline': 'golf sensation jordan spieth loses masters after horrible meltdown; danny willett wins',\n",
       "  'is_sarcastic': 0},\n",
       " {'article_link': 'https://www.huffingtonpost.com/entry/first-gay-couple-receives-marriage-license-in-jailed-kentucky-clerks-county_us_55e98be0e4b093be51bb2349',\n",
       "  'headline': \"first gay couple receives marriage license at jailed kentucky clerk's office\",\n",
       "  'is_sarcastic': 0},\n",
       " {'article_link': 'https://www.theonion.com/worlds-jews-celebrate-christmas-with-ceremonial-re-murd-1819565421',\n",
       "  'headline': \"world's jews celebrate christmas with ceremonial re-murdering of christ\",\n",
       "  'is_sarcastic': 1},\n",
       " {'article_link': 'https://www.huffingtonpost.com/entry/john-mccain-ebola-czar_n_5972988.html',\n",
       "  'headline': 'john mccain, czar hater, calls for ebola czar',\n",
       "  'is_sarcastic': 0},\n",
       " {'article_link': 'https://www.huffingtonpost.com/entry/father-of-trump-tower-climber-also-has-an-important-message-for-you_us_57ae374de4b007c36e4edb09',\n",
       "  'headline': 'father of trump tower climber also has an important message for you',\n",
       "  'is_sarcastic': 0},\n",
       " {'article_link': 'https://entertainment.theonion.com/that-guy-from-that-one-show-in-rehab-1819567262',\n",
       "  'headline': 'that guy from that one show in rehab',\n",
       "  'is_sarcastic': 1},\n",
       " {'article_link': 'https://www.huffingtonpost.comhttp://www.politico.com/story/2016/02/bernie-sanders-bill-clinton-welfare-reform-trade-219470',\n",
       "  'headline': 'sanders hits bill clinton on welfare reform, trade',\n",
       "  'is_sarcastic': 0},\n",
       " {'article_link': 'https://www.huffingtonpost.com/entry/white-nationalist-calls-presidents-denouncement-of-hate-groups-kumbaya-nonsense_us_59923778e4b09096429961e8',\n",
       "  'headline': \"white nationalist calls trump's denouncement of hate groups 'kumbaya nonsense'\",\n",
       "  'is_sarcastic': 0},\n",
       " {'article_link': 'https://local.theonion.com/old-milwaukee-book-of-world-records-confirms-title-for-1819570578',\n",
       "  'headline': \"'old milwaukee book of world records' confirms title for most punches to shoulder\",\n",
       "  'is_sarcastic': 1},\n",
       " {'article_link': 'https://www.huffingtonpost.com/entry/london-terror-attack-suspects_us_59337ebfe4b0c242ca24ba43',\n",
       "  'headline': 'new details paint unsettling pictures of london attackers',\n",
       "  'is_sarcastic': 0},\n",
       " {'article_link': 'https://www.huffingtonpost.com/entry/breast-cancer-dont-ask-us-to-get-over-it_us_57f18712e4b07f20daa10e51',\n",
       "  'headline': \"don't ask me to 'get over' my history with breast cancer\",\n",
       "  'is_sarcastic': 0},\n",
       " {'article_link': 'https://www.huffingtonpost.com/entry/facebook-passive-use_us_5a34517ae4b040881beaae39',\n",
       "  'headline': \"being a facebook wallflower isn't good for you, the social site says\",\n",
       "  'is_sarcastic': 0},\n",
       " {'article_link': 'https://entertainment.theonion.com/woody-harrelson-spends-two-hours-drawing-marijuana-leaf-1819586711',\n",
       "  'headline': 'woody harrelson spends two hours drawing marijuana leaf on binder',\n",
       "  'is_sarcastic': 1},\n",
       " {'article_link': 'https://local.theonion.com/burger-king-franchise-owner-adds-sad-little-personal-to-1819577359',\n",
       "  'headline': 'burger king franchise owner adds sad little personal touches to restaurant',\n",
       "  'is_sarcastic': 1},\n",
       " {'article_link': 'https://www.theonion.com/verb-to-follow-noun-prepositional-phrase-to-follow-1819564061',\n",
       "  'headline': 'verb to follow noun; prepositional phrase to follow',\n",
       "  'is_sarcastic': 1},\n",
       " {'article_link': 'https://www.huffingtonpost.com/entry/a-friendship-valentine_us_58a0c6efe4b0cd37efcfea0a',\n",
       "  'headline': \"a valentine for my best friend: my life wouldn't be the same without you\",\n",
       "  'is_sarcastic': 0},\n",
       " {'article_link': 'https://www.huffingtonpost.com/entry/the-importance-of-being-c_1_b_5244652.html',\n",
       "  'headline': 'the importance of being collaborative',\n",
       "  'is_sarcastic': 0},\n",
       " {'article_link': 'https://politics.theonion.com/russian-officials-scrambling-as-plan-to-delegitimize-we-1819579674',\n",
       "  'headline': 'russian officials scrambling as plan to delegitimize western democracy moving way faster than intended',\n",
       "  'is_sarcastic': 1},\n",
       " {'article_link': 'https://politics.theonion.com/obama-sort-of-freaked-out-after-not-receiving-single-e-1819572760',\n",
       "  'headline': 'obama sort of freaked out after not receiving single e-mail, phone call for entire day',\n",
       "  'is_sarcastic': 1},\n",
       " {'article_link': 'https://www.huffingtonpost.com/entry/adele-tweets-apology-after-stage-rigging-hits-glasgow-concertgoer_us_56f6d02be4b0a372181a210a',\n",
       "  'headline': 'adele tweets apology after stage rigging hits glasgow concertgoer',\n",
       "  'is_sarcastic': 0},\n",
       " {'article_link': 'https://local.theonion.com/pastor-talking-to-non-christian-who-just-lost-wife-can-1819579838',\n",
       "  'headline': 'pastor talking to non-christian who just lost wife can smell blood',\n",
       "  'is_sarcastic': 1},\n",
       " {'article_link': 'https://www.huffingtonpost.com/entry/australia-same-sex-marriage-religious-freedom_us_5a0c8e7fe4b0bc648a0f9c6f',\n",
       "  'headline': \"'religious freedom' clauses are point of contention as australia crafts marriage equality laws\",\n",
       "  'is_sarcastic': 0},\n",
       " {'article_link': 'https://www.huffingtonpost.com/entry/voters-mixed-feelings-hillary-clinton-donald-trump_us_5730f7ebe4b096e9f0925621',\n",
       "  'headline': 'voters are excited for november despite not really loving the likely nominees',\n",
       "  'is_sarcastic': 0},\n",
       " {'article_link': 'https://local.theonion.com/everyone-in-family-compliments-grandmother-on-how-small-1819577242',\n",
       "  'headline': \"everyone in family compliments grandmother on how small and feeble she's gotten\",\n",
       "  'is_sarcastic': 1},\n",
       " {'article_link': 'https://local.theonion.com/eating-entire-box-of-donuts-not-originally-part-of-even-1819566706',\n",
       "  'headline': \"eating entire box of donuts not originally part of evening's plan\",\n",
       "  'is_sarcastic': 1},\n",
       " {'article_link': 'https://politics.theonion.com/white-house-pretty-sure-uzbekistan-diplomat-stole-a-bun-1819566776',\n",
       "  'headline': 'white house pretty sure uzbekistan diplomat stole a bunch of soap',\n",
       "  'is_sarcastic': 1},\n",
       " {'article_link': 'https://politics.theonion.com/jared-kushner-quietly-transfers-solve-middle-east-cris-1819579797',\n",
       "  'headline': \"jared kushner quietly transfers 'solve middle east crisis' to next week's to-do list\",\n",
       "  'is_sarcastic': 1},\n",
       " {'article_link': 'https://www.theonion.com/15-years-in-environment-of-constant-fear-somehow-fails-1819576202',\n",
       "  'headline': '15 years in environment of constant fear somehow fails to rehabilitate prisoner',\n",
       "  'is_sarcastic': 1},\n",
       " {'article_link': 'https://www.huffingtonpost.com/entry/michael-buckley-sex-tips-play_us_559da0bde4b01c2162a5d17b',\n",
       "  'headline': \"internet personality michael buckley on giving 'sex tips' off broadway\",\n",
       "  'is_sarcastic': 0},\n",
       " {'article_link': 'https://www.huffingtonpost.com/entry/legends-of-new-yorks-latex-ball-celebrate-history-of-ballroom-and-voguing_us_55b296a6e4b0a13f9d188c6b',\n",
       "  'headline': \"legends of new york's latex ball celebrate the history of voguing\",\n",
       "  'is_sarcastic': 0},\n",
       " {'article_link': 'https://local.theonion.com/man-unfortunately-sleeps-like-baby-1819573039',\n",
       "  'headline': 'man unfortunately sleeps like baby',\n",
       "  'is_sarcastic': 1},\n",
       " {'article_link': 'https://entertainment.theonion.com/one-last-ruben-studdard-reference-wafts-gently-into-the-1819569454',\n",
       "  'headline': 'one last ruben studdard reference wafts gently into the cool evening air',\n",
       "  'is_sarcastic': 1},\n",
       " {'article_link': 'https://www.theonion.com/hubble-telescope-discovers-giant-amelia-earhart-statue-1819592315',\n",
       "  'headline': 'hubble telescope discovers giant amelia earhart statue on distant planet',\n",
       "  'is_sarcastic': 1},\n",
       " {'article_link': 'https://www.huffingtonpost.com/entry/trump-is-telling-jokes-but-nobodys-laughing_us_5983d162e4b0f2c7d93f5499',\n",
       "  'headline': 'trump is telling \"jokes,\" but nobody\\'s laughing',\n",
       "  'is_sarcastic': 0},\n",
       " {'article_link': 'https://politics.theonion.com/hundreds-of-miniature-sean-hannitys-burst-from-roger-ai-1819579957',\n",
       "  'headline': \"hundreds of miniature sean hannitys burst from roger ailes' corpse\",\n",
       "  'is_sarcastic': 1},\n",
       " {'article_link': 'https://www.huffingtonpost.com/entry/kellie-pickler-family-feud-fail_us_57726de8e4b017b379f73c2d',\n",
       "  'headline': \"kellie pickler hilariously misses the buzzer in celebrity 'family feud' fail\",\n",
       "  'is_sarcastic': 0},\n",
       " {'article_link': 'https://politics.theonion.com/military-institutes-new-dont-tell-let-me-guess-policy-1819570876',\n",
       "  'headline': \"military institutes new 'don't tell, let me guess' policy\",\n",
       "  'is_sarcastic': 1},\n",
       " {'article_link': 'https://www.huffingtonpost.com/entry/jeb-bush-family-dynasty_us_55ce4cf1e4b07addcb4304a7',\n",
       "  'headline': \"jeb bush insists he's a washington outsider\",\n",
       "  'is_sarcastic': 0},\n",
       " {'article_link': 'https://www.huffingtonpost.comhttps://www.washingtonpost.com/world/jailed-washington-post-correspondent-has-christmas-meal-with-family/2015/12/25/dacdb3ac-ab2d-11e5-bff5-905b92f5f94b_story.html?postshare=2821451070250310&tid=ss_tw',\n",
       "  'headline': 'washington post journalist jailed in iran has christmas meal with family',\n",
       "  'is_sarcastic': 0},\n",
       " {'article_link': 'https://www.huffingtonpost.com/entry/colorado-voters-trump-voter-fraud-probe_us_59f3690ae4b077d8dfc960b9',\n",
       "  'headline': \"coloradans who deregistered after trump request for voter data aren't signing up again\",\n",
       "  'is_sarcastic': 0},\n",
       " {'article_link': 'https://www.huffingtonpost.com/entry/vin-diesel-dubs-i-am-groot_n_5635213.html',\n",
       "  'headline': \"watch vin diesel say 'i am groot' in different languages\",\n",
       "  'is_sarcastic': 0},\n",
       " {'article_link': 'https://www.huffingtonpost.com/entry/luiso-garcia-tess-asplund-image_us_5730b710e4b096e9f09205c8',\n",
       "  'headline': \"artist's stunning image honors the moment one woman defied a neo-nazi march\",\n",
       "  'is_sarcastic': 0},\n",
       " {'article_link': 'https://politics.theonion.com/voters-glad-they-got-hope-in-politicians-out-of-system-1819578986',\n",
       "  'headline': 'voters glad they got hope in politicians out of system for next election cycle or two',\n",
       "  'is_sarcastic': 1},\n",
       " {'article_link': 'https://www.huffingtonpost.com/entry/new-years-resolutionlet-c_b_6407324.html',\n",
       "  'headline': \"new year's resolution -- let colleges lead the way to a new normal in cuba\",\n",
       "  'is_sarcastic': 0},\n",
       " {'article_link': 'https://www.huffingtonpost.com/entry/paris-notre-dame-gas-cylinders_us_57d000afe4b0a48094a69500',\n",
       "  'headline': 'paris police arrest second couple over notre dame gas cylinders',\n",
       "  'is_sarcastic': 0},\n",
       " {'article_link': 'https://www.huffingtonpost.com/entry/teen-beauty-products_b_5194220.html',\n",
       "  'headline': 'my 8 favorite beauty products',\n",
       "  'is_sarcastic': 0},\n",
       " {'article_link': 'https://www.huffingtonpost.com/entry/financial-burden-of-cancer-can-harm-quality-of-life_us_56e6df1ae4b065e2e3d68296',\n",
       "  'headline': 'financial burden of cancer can harm quality of life',\n",
       "  'is_sarcastic': 0},\n",
       " {'article_link': 'https://local.theonion.com/high-schooler-promises-to-have-man-s-impregnated-daught-1819577575',\n",
       "  'headline': \"high schooler promises to have man's impregnated daughter home by midnight\",\n",
       "  'is_sarcastic': 1},\n",
       " {'article_link': 'https://www.theonion.com/cnn-anchor-interviews-al-jazeera-anchor-who-interviewed-1819572373',\n",
       "  'headline': 'cnn anchor interviews al jazeera anchor who interviewed libyan rebels',\n",
       "  'is_sarcastic': 1},\n",
       " {'article_link': 'https://www.huffingtonpost.com/entry/the-quadruple-bottom-line_b_5413762.html',\n",
       "  'headline': 'the quadruple bottom line: its time has come',\n",
       "  'is_sarcastic': 0},\n",
       " {'article_link': 'https://www.huffingtonpost.com/entry/elizabeth-lesser-repairing-a-broken-relationship_us_57ed5a77e4b082aad9b9f46c',\n",
       "  'headline': 'this may be holding you back from repairing a broken relationship',\n",
       "  'is_sarcastic': 0},\n",
       " {'article_link': 'https://www.huffingtonpost.com/entry/barack-obama-public-lands-trump_us_5837f4ece4b09b6056006007',\n",
       "  'headline': \"in the weeks before trump takes office, obama's mad dash to save public lands\",\n",
       "  'is_sarcastic': 0},\n",
       " {'article_link': 'https://www.huffingtonpost.com/entry/the-changing-holiday-shop_b_13256406.html',\n",
       "  'headline': 'the changing holiday shopping landscape',\n",
       "  'is_sarcastic': 0},\n",
       " {'article_link': 'https://local.theonion.com/burger-king-introduces-new-thing-to-throw-in-front-of-k-1819573136',\n",
       "  'headline': 'burger king introduces new thing to throw in front of kids after another hellish day at work',\n",
       "  'is_sarcastic': 1},\n",
       " {'article_link': 'https://www.huffingtonpost.com/entry/funny-road-sign_n_5952970.html',\n",
       "  'headline': 'this road sign is a lot less helpful than it looks',\n",
       "  'is_sarcastic': 0},\n",
       " {'article_link': 'https://local.theonion.com/day-chalked-up-as-loss-by-10-15-a-m-1819577478',\n",
       "  'headline': 'day chalked up as loss by 10:15 a.m.',\n",
       "  'is_sarcastic': 1},\n",
       " {'article_link': 'https://www.huffingtonpost.com/entry/australian-lawmaker-shoots-opponents-in-campaign-ad-draws-ire-after-orlando_us_5761209fe4b05e4be860398d',\n",
       "  'headline': 'australian lawmaker shoots opponents in campaign ad, draws ire after orlando',\n",
       "  'is_sarcastic': 0},\n",
       " {'article_link': 'https://www.huffingtonpost.com/entry/creepy-peter-pan-disney-world_us_5609484ae4b0dd8503081abc',\n",
       "  'headline': 'kinda creepy peter pan pranks disney world',\n",
       "  'is_sarcastic': 0},\n",
       " {'article_link': 'https://www.huffingtonpost.com/entry/brown-ribbon-campaign-hollywood-latinos_us_56d1f358e4b0871f60eba3ce',\n",
       "  'headline': \"#brownribboncampaign reminds us oscar diversity isn't just black and white\",\n",
       "  'is_sarcastic': 0},\n",
       " {'article_link': 'https://local.theonion.com/high-school-elects-gay-45-year-old-homecoming-king-for-1819575825',\n",
       "  'headline': 'high school elects gay 45-year-old homecoming king for first time in school history',\n",
       "  'is_sarcastic': 1},\n",
       " {'article_link': 'https://entertainment.theonion.com/george-thorogood-fan-disgusted-to-learn-musician-licens-1824210015',\n",
       "  'headline': \"george thorogood fan disgusted to learn musician licensed 'bad to the bone' for commercial purposes\",\n",
       "  'is_sarcastic': 1},\n",
       " {'article_link': 'https://www.huffingtonpost.com/entry/for-americas-future-engin_b_6118016.html',\n",
       "  'headline': \"for america's future, engineering needs to diversify\",\n",
       "  'is_sarcastic': 0},\n",
       " {'article_link': 'https://www.huffingtonpost.com/entry/darrelle-revis-to-be-charged-in-fight-that-leaves-two-men-unconscious_us_58a716b6e4b045cd34c0ed1c',\n",
       "  'headline': 'darrelle revis to be charged in fight that leaves two men unconscious',\n",
       "  'is_sarcastic': 0},\n",
       " {'article_link': 'https://www.huffingtonpost.com/entry/dont-pay-another-bill-unt_b_8200920.html',\n",
       "  'headline': \"don't pay another bill until you pay this\",\n",
       "  'is_sarcastic': 0},\n",
       " {'article_link': 'https://www.theonion.com/move-to-houseboat-regretted-by-third-day-1819566198',\n",
       "  'headline': 'move to houseboat regretted by third day',\n",
       "  'is_sarcastic': 1},\n",
       " {'article_link': 'https://www.theonion.com/buick-regal-named-best-vehicle-in-class-for-idling-outs-1819579697',\n",
       "  'headline': 'buick regal named best vehicle in class for idling outside off-track betting parlor',\n",
       "  'is_sarcastic': 1},\n",
       " {'article_link': 'https://www.theonion.com/arizona-iced-tea-unveils-new-4-foot-tall-cans-1819590557',\n",
       "  'headline': 'arizona iced tea unveils new 4-foot-tall cans',\n",
       "  'is_sarcastic': 1},\n",
       " {'article_link': 'https://www.huffingtonpost.com/entry/black-lives-matter-census-project-alicia-garza_us_5a9429fce4b02cb368c42d52',\n",
       "  'headline': \"blm's alicia garza launches census project to mobilize black political power\",\n",
       "  'is_sarcastic': 0},\n",
       " {'article_link': 'https://www.huffingtonpost.com/entry/911-audio-leaked-in-killing-of-unarmed-black-teen-christian-taylor_us_55c6757de4b0923c12bd15f6',\n",
       "  'headline': 'police audio leaked in killing of unarmed black teen christian taylor',\n",
       "  'is_sarcastic': 0},\n",
       " {'article_link': 'https://www.huffingtonpost.com/entry/for-a-firsttime-marathone_b_6031016.html',\n",
       "  'headline': \"for a first-time marathoner, there's strength in numbers\",\n",
       "  'is_sarcastic': 0},\n",
       " {'article_link': 'https://www.huffingtonpost.com/entry/hate-preachers-on-qatar-c_b_9785706.html',\n",
       "  'headline': 'hate preachers on qatar campus: obama gives qatar undeserved a+ on fighting incitement',\n",
       "  'is_sarcastic': 0},\n",
       " {'article_link': 'https://local.theonion.com/10th-grade-prodigy-studying-mathematics-at-10th-grade-l-1819577209',\n",
       "  'headline': '10th-grade prodigy studying mathematics at 10th-grade level',\n",
       "  'is_sarcastic': 1},\n",
       " {'article_link': 'https://www.huffingtonpost.com/entry/3-reminders-that-can-help-you-raise-resilient-kids_b_5585453.html',\n",
       "  'headline': '3 reminders that can help you raise resilient kids',\n",
       "  'is_sarcastic': 0},\n",
       " {'article_link': 'https://www.theonion.com/nation-horrified-to-learn-about-war-in-afghanistan-whil-1819574188',\n",
       "  'headline': 'nation horrified to learn about war in afghanistan while reading up on petraeus sex scandal',\n",
       "  'is_sarcastic': 1},\n",
       " {'article_link': 'https://politics.theonion.com/trump-relaxes-after-debate-by-slipping-back-into-nice-1819579285',\n",
       "  'headline': 'trump relaxes after debate by slipping back into nice, warm personal reality',\n",
       "  'is_sarcastic': 1},\n",
       " {'article_link': 'https://politics.theonion.com/area-liberal-no-longer-recognizes-fanciful-wildly-inac-1819579440',\n",
       "  'headline': 'area liberal no longer recognizes fanciful, wildly inaccurate mental picture of country he lives in',\n",
       "  'is_sarcastic': 1},\n",
       " {'article_link': 'https://www.theonion.com/update-the-onion-is-immediately-suspending-productio-1820056365',\n",
       "  'headline': \"update: 'the onion' is immediately suspending production on our basketball infographic video directed by brett ratner\",\n",
       "  'is_sarcastic': 1},\n",
       " {'article_link': 'https://www.theonion.com/george-foreman-grill-retires-to-promote-own-grill-1819567575',\n",
       "  'headline': 'george foreman grill retires to promote own grill',\n",
       "  'is_sarcastic': 1},\n",
       " {'article_link': 'https://www.theonion.com/study-finds-having-it-all-leading-indicator-that-everyt-1822119926',\n",
       "  'headline': 'study finds having it all leading indicator that everything will come crashing down',\n",
       "  'is_sarcastic': 1},\n",
       " {'article_link': 'https://www.huffingtonpost.com/entry/shooting-copenhagen-synagogue-_n_6685512.html',\n",
       "  'headline': 'shooting at copenhagen synagogue leaves 1 dead, 2 officers wounded',\n",
       "  'is_sarcastic': 0},\n",
       " {'article_link': 'https://www.huffingtonpost.com/entry/paris-hilton-becomes-kim-kardashian-lookalike-for-kanye-west-line_us_5a71aee0e4b0be822ba1fe81',\n",
       "  'headline': 'paris hilton impersonates kim kardashian for kanye west fashion line',\n",
       "  'is_sarcastic': 0},\n",
       " {'article_link': 'https://www.theonion.com/international-space-station-tented-to-spray-for-xenomor-1826362305',\n",
       "  'headline': 'international space station tented to spray for xenomorphs',\n",
       "  'is_sarcastic': 1},\n",
       " {'article_link': 'https://local.theonion.com/ex-boyfriend-hopes-to-still-be-terrible-incompatible-f-1825299729',\n",
       "  'headline': 'ex-boyfriend hopes to still be terrible, incompatible friends',\n",
       "  'is_sarcastic': 1},\n",
       " {'article_link': 'https://www.huffingtonpost.com/entry/teen-is-accepted-into-113-colleges-4-million-scholarship-accepts-full-ride-to-hbcu_us_5aeb7021e4b0c4f193206248',\n",
       "  'headline': 'teen accepted into 113 colleges chooses full ride to hbcu',\n",
       "  'is_sarcastic': 0},\n",
       " {'article_link': 'https://www.huffingtonpost.com/entry/danica-roem-donald-trump-transgender-lawmaker-virginia_us_5a183d1be4b0d4906cae74fe',\n",
       "  'headline': \"transgender lawmaker danica roem: trump shows there's 'no barrier' to getting elected\",\n",
       "  'is_sarcastic': 0},\n",
       " {'article_link': 'https://local.theonion.com/shit-friend-just-said-something-to-obnoxious-drunk-guy-1819573422',\n",
       "  'headline': 'shit, friend just said something to obnoxious drunk guy on bus',\n",
       "  'is_sarcastic': 1},\n",
       " {'article_link': 'https://local.theonion.com/weekend-encounter-with-coworker-never-acknowledged-1819574897',\n",
       "  'headline': 'weekend encounter with coworker never acknowledged',\n",
       "  'is_sarcastic': 1},\n",
       " {'article_link': 'https://www.theonion.com/study-74-of-home-contractors-end-up-accidentally-wall-1819578206',\n",
       "  'headline': 'study: 74% of home contractors end up accidentally walling themselves in during housing construction',\n",
       "  'is_sarcastic': 1},\n",
       " {'article_link': 'https://www.theonion.com/goth-kid-builds-scary-ass-birdhouse-1819587621',\n",
       "  'headline': 'goth kid builds scary-ass birdhouse',\n",
       "  'is_sarcastic': 1},\n",
       " {'article_link': 'https://www.theonion.com/outbreak-of-va-va-vooms-traced-to-miniskirt-wearing-blo-1819571745',\n",
       "  'headline': 'outbreak of va-va-vooms traced to miniskirt-wearing blonde',\n",
       "  'is_sarcastic': 1},\n",
       " {'article_link': 'https://entertainment.theonion.com/grandmother-cant-believe-they-let-people-with-tattoos-o-1819567208',\n",
       "  'headline': \"grandmother can't believe they let people with tattoos on price is right\",\n",
       "  'is_sarcastic': 1},\n",
       " {'article_link': 'https://www.huffingtonpost.com/entry/7th-heaven-reunion_n_5837788.html',\n",
       "  'headline': \"the '7th heaven' cast reunites for the first time in 8 years\",\n",
       "  'is_sarcastic': 0},\n",
       " {'article_link': 'https://www.theonion.com/are-we-meeting-the-needs-of-our-nations-rich-1819586293',\n",
       "  'headline': \"are we meeting the needs of our nation's rich?\",\n",
       "  'is_sarcastic': 1},\n",
       " {'article_link': 'https://www.huffingtonpost.com/entry/there-is-nothing-libertar_b_6883224.html',\n",
       "  'headline': 'there is nothing libertarian about conservatives',\n",
       "  'is_sarcastic': 0},\n",
       " {'article_link': 'https://entertainment.theonion.com/yorkshire-terrier-monogrammed-1819588421',\n",
       "  'headline': 'yorkshire terrier monogrammed',\n",
       "  'is_sarcastic': 1},\n",
       " {'article_link': 'https://www.theonion.com/pope-cleans-up-dead-angel-who-flew-into-sistine-chapel-1819578166',\n",
       "  'headline': 'pope cleans up dead angel who flew into sistine chapel window',\n",
       "  'is_sarcastic': 1},\n",
       " {'article_link': 'https://www.theonion.com/remainder-of-ross-ice-shelf-now-in-smithsonian-freezer-1819567901',\n",
       "  'headline': 'remainder of ross ice shelf now in smithsonian freezer',\n",
       "  'is_sarcastic': 1},\n",
       " {'article_link': 'https://politics.theonion.com/panicked-agriculture-secretary-momentarily-forgets-what-1819570602',\n",
       "  'headline': 'panicked agriculture secretary momentarily forgets what corn is',\n",
       "  'is_sarcastic': 1},\n",
       " {'article_link': 'https://www.huffingtonpost.com/entry/introvert-holiday-party_us_584ea33be4b04c8e2bb07609',\n",
       "  'headline': \"an introvert's guide to throwing a solid holiday party\",\n",
       "  'is_sarcastic': 0},\n",
       " {'article_link': 'https://www.theonion.com/area-client-would-like-a-different-font-1819564797',\n",
       "  'headline': 'area client would like a different font',\n",
       "  'is_sarcastic': 1},\n",
       " {'article_link': 'https://www.huffingtonpost.com/entry/lauren-jauregui-lgbtq-youth-twitter_us_5a7b620ae4b0c6726e0ec785',\n",
       "  'headline': \"fifth harmony's lauren jauregui blasts 'toxic' homophobia in poignant twitter exchange\",\n",
       "  'is_sarcastic': 0},\n",
       " {'article_link': 'https://www.theonion.com/usda-admits-weight-loss-not-possible-for-people-who-don-1819579231',\n",
       "  'headline': \"usda admits weight loss not possible for people who don't like salmon\",\n",
       "  'is_sarcastic': 1},\n",
       " {'article_link': 'https://www.huffingtonpost.com/entry/six-teenagers-in-britain-suspected-of-killing-polish-man-in-hate-crime_us_57c6cef3e4b078581f102a55',\n",
       "  'headline': 'six teenagers in britain suspected of killing polish man in hate crime',\n",
       "  'is_sarcastic': 0},\n",
       " {'article_link': 'https://www.theonion.com/cubans-new-dictator-doing-it-all-wrong-1819568653',\n",
       "  'headline': 'cubans: new dictator doing it all wrong',\n",
       "  'is_sarcastic': 1},\n",
       " {'article_link': 'https://politics.theonion.com/obama-fills-out-lukewarm-glassdoor-review-after-exiting-1819579553',\n",
       "  'headline': 'obama fills out lukewarm glassdoor review after exiting presidency',\n",
       "  'is_sarcastic': 1},\n",
       " {'article_link': 'https://www.huffingtonpost.comhttp://www.hollywoodreporter.com/news/bill-henderson-dead-jazz-vocalist-881521',\n",
       "  'headline': 'bill henderson, jazz vocalist and actor, dies at 90',\n",
       "  'is_sarcastic': 0},\n",
       " {'article_link': 'https://www.theonion.com/very-specific-food-pyramid-recommends-two-to-three-shri-1819569561',\n",
       "  'headline': 'very specific food pyramid recommends two to three shrimp scampis per year',\n",
       "  'is_sarcastic': 1},\n",
       " {'article_link': 'https://www.theonion.com/alaskan-gray-wolf-cant-believe-no-one-told-him-he-s-got-1819574555',\n",
       "  'headline': \"alaskan gray wolf can't believe no one told him he's got snow on nose\",\n",
       "  'is_sarcastic': 1},\n",
       " {'article_link': 'https://www.huffingtonpost.com/entry/how-to-emotionally-recover-from-the-election_us_580a5b92e4b0f8715789f9ee',\n",
       "  'headline': 'how to emotionally recover from the election',\n",
       "  'is_sarcastic': 0},\n",
       " {'article_link': 'https://local.theonion.com/man-always-taking-good-mood-out-on-friends-1819576983',\n",
       "  'headline': 'man always taking good mood out on friends',\n",
       "  'is_sarcastic': 1},\n",
       " {'article_link': 'https://www.huffingtonpost.com/entry/going-back-to-school-gree_b_5629920.html',\n",
       "  'headline': '6 essentials for a trash-free lunch',\n",
       "  'is_sarcastic': 0},\n",
       " {'article_link': 'https://politics.theonion.com/candidate-delighted-to-be-in-chair-factory-1819565813',\n",
       "  'headline': 'candidate delighted to be in chair factory',\n",
       "  'is_sarcastic': 1},\n",
       " {'article_link': 'https://local.theonion.com/woman-knows-exactly-which-knife-she-d-grab-out-of-cutle-1824282662',\n",
       "  'headline': \"woman knows exactly which knife she'd grab out of cutlery drawer in event of home invasion\",\n",
       "  'is_sarcastic': 1},\n",
       " {'article_link': 'https://www.theonion.com/bored-predator-drone-pumps-a-few-rounds-into-mountain-g-1819589455',\n",
       "  'headline': 'bored predator drone pumps a few rounds into mountain goat',\n",
       "  'is_sarcastic': 1},\n",
       " {'article_link': 'https://www.theonion.com/30-year-old-nes-still-wasting-life-playing-video-games-1819591277',\n",
       "  'headline': '30-year-old nes still wasting life playing video games',\n",
       "  'is_sarcastic': 1},\n",
       " {'article_link': 'https://www.huffingtonpost.com/entry/schools-enact-positive-ch_b_6964602.html',\n",
       "  'headline': 'schools enact positive change with drama therapy',\n",
       "  'is_sarcastic': 0},\n",
       " {'article_link': 'https://www.theonion.com/world-map-rearranged-to-accommodate-poor-geography-skil-1819586194',\n",
       "  'headline': 'world map rearranged to accommodate poor geography skills of americans\\x97nations ordered alphabetically',\n",
       "  'is_sarcastic': 1},\n",
       " {'article_link': 'https://local.theonion.com/woman-leaving-meeting-worried-she-came-off-as-too-compe-1819578802',\n",
       "  'headline': 'woman leaving meeting worried she came off as too competent',\n",
       "  'is_sarcastic': 1},\n",
       " {'article_link': 'https://www.huffingtonpost.com/entry/professor-wheaton-college_us_568d8218e4b0cad15e632ed7',\n",
       "  'headline': 'professor threatened with firing says wheaton college is changing the rules',\n",
       "  'is_sarcastic': 0},\n",
       " {'article_link': 'https://www.theonion.com/jfk-jr-celebrates-10-000th-coupling-1819586177',\n",
       "  'headline': 'jfk jr. celebrates 10,000th coupling',\n",
       "  'is_sarcastic': 1},\n",
       " {'article_link': 'https://local.theonion.com/man-with-stupid-breaks-off-co-dependent-relationship-1819586100',\n",
       "  'headline': 'man with stupid breaks off co-dependent relationship',\n",
       "  'is_sarcastic': 1},\n",
       " {'article_link': 'https://www.theonion.com/internet-pop-up-quiz-insulting-1819567519',\n",
       "  'headline': 'internet pop-up quiz insulting',\n",
       "  'is_sarcastic': 1},\n",
       " {'article_link': 'https://local.theonion.com/suspension-of-disbelief-goes-unrewarded-1819572258',\n",
       "  'headline': 'suspension of disbelief goes unrewarded',\n",
       "  'is_sarcastic': 1},\n",
       " {'article_link': 'https://www.huffingtonpost.com/entry/the-late-show-updated-trumps-election-night-speech-with-annotations_us_5a049748e4b0937b51105bae',\n",
       "  'headline': \"'the late show' updated trump's election night speech with annotations\",\n",
       "  'is_sarcastic': 0},\n",
       " {'article_link': 'https://www.huffingtonpost.com/entry/pterosaur-avatar-ancient-flying-creature_n_5811456.html',\n",
       "  'headline': \"ancient flying beast named after 'avatar' creature\",\n",
       "  'is_sarcastic': 0},\n",
       " {'article_link': 'https://www.huffingtonpost.com/entry/tennessee-senate-passed-a-bill-to-erect-a-monument-to-unborn-children_us_5ae07e26e4b061c0bfa3f31b',\n",
       "  'headline': \"tennessee senate passes a bill to erect a memorial to 'victims of abortion'\",\n",
       "  'is_sarcastic': 0},\n",
       " {'article_link': 'https://local.theonion.com/report-no-one-at-white-castle-wants-to-make-friends-1819571409',\n",
       "  'headline': 'report: no one at white castle wants to make friends',\n",
       "  'is_sarcastic': 1},\n",
       " {'article_link': 'https://politics.theonion.com/45-year-old-to-help-candidate-understand-youth-vote-1819577119',\n",
       "  'headline': '45-year-old to help candidate understand youth vote',\n",
       "  'is_sarcastic': 1},\n",
       " {'article_link': 'https://www.theonion.com/word-millennials-forced-into-headline-to-boost-pagevi-1819578021',\n",
       "  'headline': \"word 'millennials' forced into headline to boost pageviews\",\n",
       "  'is_sarcastic': 1},\n",
       " {'article_link': 'https://sports.theonion.com/dozens-of-social-issues-thankful-they-never-had-to-go-t-1819578940',\n",
       "  'headline': 'dozens of social issues thankful they never had to go toe-to-toe with muhammad ali',\n",
       "  'is_sarcastic': 1},\n",
       " {'article_link': 'https://www.theonion.com/fox-news-struggling-to-attract-younger-60-75-demographi-1820392371',\n",
       "  'headline': 'fox news struggling to attract younger 60-75 demographic',\n",
       "  'is_sarcastic': 1},\n",
       " {'article_link': 'https://www.theonion.com/after-a-string-of-accidents-u-haul-announces-closure-o-1819590776',\n",
       "  'headline': 'after a string of accidents, u-haul announces closure of aircraft division',\n",
       "  'is_sarcastic': 1},\n",
       " {'article_link': 'https://www.huffingtonpost.com/entry/why-stakes-is-too-high-to-bother-with-white-tears_us_58cbb678e4b07112b6472c6e',\n",
       "  'headline': 'why stakes is too high to bother with white tears',\n",
       "  'is_sarcastic': 0},\n",
       " {'article_link': 'https://www.huffingtonpost.com/entry/growing-up-with-the-holoc_b_7066722.html',\n",
       "  'headline': 'growing up with the holocaust as a writer',\n",
       "  'is_sarcastic': 0},\n",
       " {'article_link': 'https://www.huffingtonpost.com/entry/horses-alzheimers-_n_5273331.html',\n",
       "  'headline': \"the surprising way horses can help ease alzheimer's symptoms\",\n",
       "  'is_sarcastic': 0},\n",
       " {'article_link': 'https://www.theonion.com/beaver-cant-wait-to-get-started-on-dam-1819587813',\n",
       "  'headline': \"beaver can't wait to get started on dam\",\n",
       "  'is_sarcastic': 1},\n",
       " {'article_link': 'https://www.huffingtonpost.com/entry/republican-women-dont-like-trump_us_56f53da2e4b0a3721819aea0',\n",
       "  'headline': \"huffpollster: republican women really don't like trump\",\n",
       "  'is_sarcastic': 0},\n",
       " {'article_link': 'https://www.huffingtonpost.com/entry/clues-to-the-new-white-house-org-chart_us_59807bd2e4b0cb4fc1c73c28',\n",
       "  'headline': 'what we know so far about the new white house org chart',\n",
       "  'is_sarcastic': 0},\n",
       " {'article_link': 'https://local.theonion.com/morbidly-obese-man-enjoys-disabled-privileges-with-moto-1819564913',\n",
       "  'headline': 'morbidly obese man enjoys disabled privileges with motorized cart',\n",
       "  'is_sarcastic': 1},\n",
       " {'article_link': 'https://politics.theonion.com/no-one-will-push-you-into-running-for-president-jeb-1819578581',\n",
       "  'headline': \"'no one will push you into running for president,' jeb bush softly whispers before tucking in sleeping grandson\",\n",
       "  'is_sarcastic': 1},\n",
       " {'article_link': 'https://local.theonion.com/madcap-romp-escalates-into-zany-hijinks-1819564662',\n",
       "  'headline': 'madcap romp escalates into zany hijinks',\n",
       "  'is_sarcastic': 1},\n",
       " {'article_link': 'https://www.huffingtonpost.comhttp://www.cheatsheet.com/health-fitness/5-longevity-secrets-from-the-worlds-healthiest-cultures.html/?a=viewall',\n",
       "  'headline': \"5 longevity secrets from the world's healthiest cultures\",\n",
       "  'is_sarcastic': 0},\n",
       " {'article_link': 'https://www.huffingtonpost.com/entry/8-reasons-the-holidays-after-divorce-are-anything-but-depressing_us_5679cb8be4b0b958f65888cd',\n",
       "  'headline': '8 perks of being divorced during the holidays',\n",
       "  'is_sarcastic': 0},\n",
       " {'article_link': 'https://www.theonion.com/nation-healed-by-awesome-sports-highlight-1819586415',\n",
       "  'headline': 'nation healed by awesome sports highlight',\n",
       "  'is_sarcastic': 1},\n",
       " {'article_link': 'https://www.huffingtonpost.com/entry/why-moms-demand-action-will-participate-in-day-without-a-woman_us_58bf6a34e4b0ed7182681737',\n",
       "  'headline': 'why moms demand action will participate in day without a woman',\n",
       "  'is_sarcastic': 0},\n",
       " {'article_link': 'https://www.huffingtonpost.com/entry/hillary-clinton-asian-american-outreach-director_us_56edb13fe4b09bf44a9d7743',\n",
       "  'headline': \"hillary clinton's asian american outreach director leaving campaign\",\n",
       "  'is_sarcastic': 0},\n",
       " {'article_link': 'https://www.huffingtonpost.com/entry/interview-with-louise-mun_b_5579661.html',\n",
       "  'headline': 'interview with louise munson, playwright of luigi',\n",
       "  'is_sarcastic': 0},\n",
       " {'article_link': 'https://www.huffingtonpost.com/entry/suspect-reportedly-arrested-over-explosives-sent-to-washington-dc-area_us_5aba73cbe4b0decad04e8918',\n",
       "  'headline': 'suspect reportedly arrested over explosives sent to washington, d.c. area',\n",
       "  'is_sarcastic': 0},\n",
       " {'article_link': 'https://www.huffingtonpost.com/entry/lena-dunham-lenny-letter-zinzi-clemmons_us_5a12e341e4b0dd63b1abd2a3',\n",
       "  'headline': \"writer calls on women of color 'to divest from lena dunham' after controversy\",\n",
       "  'is_sarcastic': 0},\n",
       " {'article_link': 'https://local.theonion.com/area-dad-will-only-watch-things-in-hd-1819569627',\n",
       "  'headline': 'area dad will only watch things in hd',\n",
       "  'is_sarcastic': 1},\n",
       " {'article_link': 'https://www.huffingtonpost.com/entry/the-unexpected-place-youre-probably-overeating_b_7019494.html',\n",
       "  'headline': \"the unexpected place you're probably overeating\",\n",
       "  'is_sarcastic': 0},\n",
       " {'article_link': 'https://www.huffingtonpost.com/entry/don-lemon-sean-spicer-dumber_us_58cb6cb0e4b00705db4e0297',\n",
       "  'headline': \"don lemon on sean spicer: everyone 'is dumber for having listened to that'\",\n",
       "  'is_sarcastic': 0},\n",
       " {'article_link': 'https://www.huffingtonpost.com/entry/kansas-state-lawsuit-sexual-assault_us_5718cb99e4b0c9244a7aecff',\n",
       "  'headline': 'kansas state refused to investigate sexual assaults because they happened off-campus, lawsuit says',\n",
       "  'is_sarcastic': 0},\n",
       " {'article_link': 'https://www.huffingtonpost.com/entry/avery-williamson-911-cleats_us_57d6cf2ce4b03d2d459b7908',\n",
       "  'headline': 'nfl player avery williamson wears 9/11 cleats despite threat of fine',\n",
       "  'is_sarcastic': 0},\n",
       " {'article_link': 'https://www.huffingtonpost.com/entry/rbg-for-garland-swap-lol_us_58f645d9e4b0da2ff863a325',\n",
       "  'headline': 'trump confidant floats crazy rbg-for-merrick-garland scotus swap',\n",
       "  'is_sarcastic': 0},\n",
       " {'article_link': 'https://politics.theonion.com/u-s-continues-proud-tradition-of-diversity-on-front-li-1819566786',\n",
       "  'headline': 'u.s. continues proud tradition of  diversity on front lines',\n",
       "  'is_sarcastic': 1},\n",
       " {'article_link': 'https://www.huffingtonpost.com/entry/south-korean-president-meets-north-koreas-kim-jong-un_us_5b094ebae4b0fdb2aa53e504',\n",
       "  'headline': \"south korean president meets north korea's kim jong un to talk trump summit\",\n",
       "  'is_sarcastic': 0},\n",
       " {'article_link': 'https://www.theonion.com/nation-s-financial-advisors-recommend-capturing-magical-1819578300',\n",
       "  'headline': \"nation's financial advisors recommend capturing magical creature that grants wishes\",\n",
       "  'is_sarcastic': 1},\n",
       " {'article_link': 'https://www.huffingtonpost.com/entry/judges-rupauls-drag-race_us_5aac09ade4b0c33361b042b7',\n",
       "  'headline': \"michelle, ross and carson on the wild ride to 'rupaul's drag race'\",\n",
       "  'is_sarcastic': 0},\n",
       " {'article_link': 'https://www.theonion.com/content-writer-awkwardly-shows-parents-around-website-w-1819577722',\n",
       "  'headline': 'content writer awkwardly shows parents around website where he works',\n",
       "  'is_sarcastic': 1},\n",
       " {'article_link': 'https://www.huffingtonpost.com/entry/viking-discovery-canada-satellite_us_56fe36bfe4b0daf53aef5a26',\n",
       "  'headline': 'possible viking find could rewrite north american history',\n",
       "  'is_sarcastic': 0},\n",
       " {'article_link': 'https://www.huffingtonpost.com/entry/korey-kauffman-arrests_us_55cf6082e4b07addcb43263c',\n",
       "  'headline': 'new details emerge in forgotten murder that snared attorney, highway patrolmen',\n",
       "  'is_sarcastic': 0},\n",
       " {'article_link': 'https://www.theonion.com/watching-faces-of-students-as-they-finish-the-lottery-h-1819571267',\n",
       "  'headline': \"watching faces of students as they finish 'the lottery' highlight of english teacher's year\",\n",
       "  'is_sarcastic': 1},\n",
       " {'article_link': 'https://www.theonion.com/no-one-in-prison-sure-how-jared-fogle-still-eating-subw-1825829806',\n",
       "  'headline': 'no one in prison sure how jared fogle still eating subway every meal',\n",
       "  'is_sarcastic': 1},\n",
       " {'article_link': 'https://www.huffingtonpost.com/entry/sean-spicer-trump-first-amendment_us_585d2aece4b0d9a59457f827',\n",
       "  'headline': \"sean spicer says donald trump is a 'champion' of first amendment\",\n",
       "  'is_sarcastic': 0},\n",
       " {'article_link': 'https://www.huffingtonpost.com/entry/uncovered-california-community-college-students-quest-for-mental-health-services_us_57742736e4b042fba1cf003b',\n",
       "  'headline': \"uncovered california: community college students' quest for mental health services\",\n",
       "  'is_sarcastic': 0},\n",
       " {'article_link': 'https://www.huffingtonpost.com/entry/will-grace-will-return-with-10-episodes-in-2017-according-to-leslie-jordan_us_5867e574e4b0de3a08f89afd',\n",
       "  'headline': \"debra messing doesn't want you to freak out about a 'will & grace' revival just yet (update)\",\n",
       "  'is_sarcastic': 0},\n",
       " {'article_link': 'https://entertainment.theonion.com/nation-delighted-as-many-famous-people-in-same-room-tog-1819577507',\n",
       "  'headline': 'nation delighted as many famous people in same room together',\n",
       "  'is_sarcastic': 1},\n",
       " {'article_link': 'https://local.theonion.com/area-man-winded-after-particularly-lengthy-wendys-order-1819573530',\n",
       "  'headline': \"area man winded after particularly lengthy wendy's order\",\n",
       "  'is_sarcastic': 1},\n",
       " {'article_link': 'https://www.huffingtonpost.com/entry/the-6-real-reasons-im-happy-to-be-married_us_59f92365e4b0de896d3f2c71',\n",
       "  'headline': \"the 6 real reasons i'm happy to be married\",\n",
       "  'is_sarcastic': 0},\n",
       " {'article_link': 'https://www.theonion.com/biden-busted-in-dnc-parking-lot-selling-bootleg-i-m-wi-1819579067',\n",
       "  'headline': \"biden busted in dnc parking lot selling bootleg 'i'm with her' t-shirts\",\n",
       "  'is_sarcastic': 1},\n",
       " {'article_link': 'https://www.theonion.com/white-person-waved-past-beeping-walgreens-security-barr-1819566456',\n",
       "  'headline': 'white person waved past beeping walgreens security barrier',\n",
       "  'is_sarcastic': 1},\n",
       " {'article_link': 'https://www.huffingtonpost.com/entry/khloe-kardashian-denies-cocaine-graduation-party_us_55b6248ae4b0a13f9d18f9f6',\n",
       "  'headline': \"khloe kardashian says no one was doing cocaine at kylie jenner's graduation party\",\n",
       "  'is_sarcastic': 0},\n",
       " {'article_link': 'https://www.theonion.com/genuine-happiness-now-seen-only-on-game-shows-1819586766',\n",
       "  'headline': 'genuine happiness now seen only on game shows',\n",
       "  'is_sarcastic': 1},\n",
       " {'article_link': 'https://www.huffingtonpost.com/entry/chewbacca-in-chewbacca-mom-mask_us_5745e3f0e4b03ede441394b0',\n",
       "  'headline': \"chewbacca just got himself a 'chewbacca mom' mask\",\n",
       "  'is_sarcastic': 0},\n",
       " {'article_link': 'https://www.huffingtonpost.com/entry/trump-national-security-monica-crowley_us_58542a74e4b08debb788afc4',\n",
       "  'headline': 'yet another donald trump pick has a habit of spreading dangerous conspiracy theories',\n",
       "  'is_sarcastic': 0},\n",
       " {'article_link': 'https://local.theonion.com/dog-trying-its-absolute-hardest-1819567282',\n",
       "  'headline': 'dog trying its absolute hardest',\n",
       "  'is_sarcastic': 1},\n",
       " {'article_link': 'https://www.theonion.com/mississippi-bans-soft-drinks-smaller-than-20-ounces-1819574746',\n",
       "  'headline': 'mississippi bans soft drinks smaller than 20 ounces',\n",
       "  'is_sarcastic': 1},\n",
       " {'article_link': 'https://www.huffingtonpost.com/entry/explosion-fedex-austin_us_5ab0dbe0e4b00549ac7ee78d',\n",
       "  'headline': 'explosion at fedex facility outside san antonio may be linked to austin bombings, fbi says',\n",
       "  'is_sarcastic': 0},\n",
       " {'article_link': 'https://www.huffingtonpost.com/entry/cop-police-officer-kyle-isenor-gives-laurie-burbine-vaentines-day-rose-instead-of-ticket_us_56c34390e4b0c3c550529b0f',\n",
       "  'headline': \"cupid cop gave out roses, cards on valentine's day instead of tickets\",\n",
       "  'is_sarcastic': 0},\n",
       " {'article_link': 'https://www.huffingtonpost.com/entry/fox-news-london-attack_us_59343347e4b075bff0f475f8',\n",
       "  'headline': 'fox news host disavows internment camps, after panelists suggest rounding up muslims',\n",
       "  'is_sarcastic': 0},\n",
       " {'article_link': 'https://www.huffingtonpost.com/entry/reince-priebus-trump_us_56eebd78e4b09bf44a9d89a4',\n",
       "  'headline': \"reince priebus says it's 'too late' for a new candidate to stop trump\",\n",
       "  'is_sarcastic': 0},\n",
       " {'article_link': 'https://www.huffingtonpost.com/entry/minimum-wage-fee_n_5656278.html',\n",
       "  'headline': \"minnesota café charges 35 cent 'fee' to protest minimum wage hike\",\n",
       "  'is_sarcastic': 0},\n",
       " {'article_link': 'https://local.theonion.com/asshole-from-plane-greeted-at-baggage-claim-by-whole-fa-1819574329',\n",
       "  'headline': 'asshole from plane greeted at baggage claim by whole family',\n",
       "  'is_sarcastic': 1},\n",
       " {'article_link': 'https://www.huffingtonpost.com/entry/an-american-dreamer-in-the-age-of-trump_us_592206a4e4b0e8f558bb27be',\n",
       "  'headline': 'an american dreamer in the age of trump',\n",
       "  'is_sarcastic': 0},\n",
       " {'article_link': 'https://www.huffingtonpost.com/entry/hillary-clinton-confederate-flag-mlk-day_us_569d1a05e4b0778f46fa238a',\n",
       "  'headline': \"hillary clinton celebrates confederate flag's removal at mlk day ceremony\",\n",
       "  'is_sarcastic': 0},\n",
       " {'article_link': 'https://www.huffingtonpost.com/entry/david-brooks-obama-manhood-problem_n_5182525.html',\n",
       "  'headline': \"david brooks: obama has a 'manhood problem in the middle east'\",\n",
       "  'is_sarcastic': 0},\n",
       " {'article_link': 'https://www.huffingtonpost.com/entry/why-terrorists-attack-us_us_57dd6b40e4b053b1ccf29b6a',\n",
       "  'headline': 'why terrorists attack us',\n",
       "  'is_sarcastic': 0},\n",
       " {'article_link': 'https://www.theonion.com/everyone-proud-of-grandma-for-staying-awake-1819571277',\n",
       "  'headline': 'everyone proud of grandma for staying awake',\n",
       "  'is_sarcastic': 1},\n",
       " {'article_link': 'https://www.huffingtonpost.com/entry/nypd-cell-phone-spying-stingray_us_56bcaf05e4b0b40245c57fd3',\n",
       "  'headline': 'the nypd has secretly been spying on cell phones since 2008',\n",
       "  'is_sarcastic': 0},\n",
       " {'article_link': 'https://www.huffingtonpost.com/entry/republicans-urge-obama-administration-to-crack-down-on-sanctuary-cities_us_55a5370fe4b0b8145f73a258',\n",
       "  'headline': 'republicans urge obama administration to crack down on sanctuary cities',\n",
       "  'is_sarcastic': 0},\n",
       " {'article_link': 'https://local.theonion.com/floor-plan-of-retirement-community-90-defibrillator-lo-1819592044',\n",
       "  'headline': 'floor plan of retirement community 90% defibrillator locations',\n",
       "  'is_sarcastic': 1},\n",
       " {'article_link': 'https://www.huffingtonpost.com/entry/voting-2014_n_6083338.html',\n",
       "  'headline': 'voters in 14 states navigating new rules while trying to cast ballots',\n",
       "  'is_sarcastic': 0},\n",
       " {'article_link': 'https://politics.theonion.com/arne-duncan-stressed-about-preparing-for-standardized-s-1819578112',\n",
       "  'headline': 'arne duncan stressed about preparing for standardized secretary of education exam',\n",
       "  'is_sarcastic': 1},\n",
       " {'article_link': 'https://www.theonion.com/tom-brokaw-touched-so-many-women-would-go-out-of-their-1825655136',\n",
       "  'headline': 'tom brokaw touched so many women would go out of their way to defend filthy old pervert like himself',\n",
       "  'is_sarcastic': 1},\n",
       " {'article_link': 'https://www.huffingtonpost.com/entry/study-periods-text-messages_us_566881ede4b009377b236e9d',\n",
       "  'headline': 'stop complaining about the evolution of text language. period.',\n",
       "  'is_sarcastic': 0},\n",
       " {'article_link': 'https://www.theonion.com/half-dressed-man-frantically-scrambles-out-of-home-afte-1819574273',\n",
       "  'headline': \"half-dressed man frantically scrambles out of home after hearing toyotathon deals won't last long\",\n",
       "  'is_sarcastic': 1},\n",
       " {'article_link': 'https://www.theonion.com/tech-is-the-future-reports-local-dad-1819575329',\n",
       "  'headline': 'tech is the future, reports local dad',\n",
       "  'is_sarcastic': 1},\n",
       " {'article_link': 'https://politics.theonion.com/trump-fulfills-campaign-promise-of-pushing-major-immigr-1819580266',\n",
       "  'headline': 'trump fulfills campaign promise of pushing major immigration decision on someone else so he can watch tv',\n",
       "  'is_sarcastic': 1},\n",
       " {'article_link': 'https://www.huffingtonpost.com/entry/communication-matters-get-your-message-out_b_6646550.html',\n",
       "  'headline': 'communication matters: getting your message out',\n",
       "  'is_sarcastic': 0},\n",
       " {'article_link': 'https://entertainment.theonion.com/son-surprised-dad-knows-johnny-cash-song-1819566579',\n",
       "  'headline': 'son surprised dad knows johnny cash song',\n",
       "  'is_sarcastic': 1},\n",
       " {'article_link': 'https://local.theonion.com/man-suddenly-regretting-asking-to-be-taken-seriously-by-1819577563',\n",
       "  'headline': 'man suddenly regretting asking to be taken seriously by peers',\n",
       "  'is_sarcastic': 1},\n",
       " {'article_link': 'https://www.theonion.com/eleven-year-old-has-miniskirt-pumps-vague-notion-of-w-1819565556',\n",
       "  'headline': 'eleven-year-old has miniskirt, pumps, vague notion of what sex is',\n",
       "  'is_sarcastic': 1},\n",
       " {'article_link': 'https://entertainment.theonion.com/cinemax-director-wins-award-for-skinematography-1819567518',\n",
       "  'headline': 'cinemax director wins award for skinematography',\n",
       "  'is_sarcastic': 1},\n",
       " {'article_link': 'https://www.theonion.com/doctor-unable-to-hide-his-excitement-from-patient-with-1819567704',\n",
       "  'headline': 'doctor unable to hide his excitement from patient with ultra-rare disease',\n",
       "  'is_sarcastic': 1},\n",
       " {'article_link': 'https://www.huffingtonpost.com/entry/trains-crash-pennsyvlania_us_599bd992e4b04c532f43e596',\n",
       "  'headline': 'dozens injured after trains collide in pennsylvania',\n",
       "  'is_sarcastic': 0},\n",
       " {'article_link': 'https://www.huffingtonpost.com/entry/ed-sheeran-wedding-singer_us_57c86759e4b078581f11b3c5',\n",
       "  'headline': \"ed sheeran sang 'chasing cars' at a wedding, and now we're swooning\",\n",
       "  'is_sarcastic': 0},\n",
       " {'article_link': 'https://entertainment.theonion.com/game-of-thrones-producers-reveal-series-moved-beyond-1819580219',\n",
       "  'headline': \"'game of thrones' producers reveal series moved beyond show's written script halfway through current season\",\n",
       "  'is_sarcastic': 1},\n",
       " {'article_link': 'https://www.theonion.com/girls-scouts-announces-they-ll-never-ever-let-gross-fuc-1825752568',\n",
       "  'headline': \"girls scouts announces they'll never ever let gross fucking boys in\",\n",
       "  'is_sarcastic': 1},\n",
       " {'article_link': 'https://www.huffingtonpost.com/entry/un-vote-jerusalem-trump_us_5a3beeade4b025f99e158445',\n",
       "  'headline': \"un rebukes trump's jerusalem move in overwhelming vote\",\n",
       "  'is_sarcastic': 0},\n",
       " {'article_link': 'https://www.huffingtonpost.com/entry/family-man_b_5406629.html',\n",
       "  'headline': \"father's day tribute to a family man\",\n",
       "  'is_sarcastic': 0},\n",
       " {'article_link': 'https://politics.theonion.com/white-house-this-is-not-the-geologic-era-to-debate-gu-1819580367',\n",
       "  'headline': \"white house: 'this is not the geologic era to debate gun control'\",\n",
       "  'is_sarcastic': 1},\n",
       " {'article_link': 'https://www.huffingtonpost.com/entry/professors-slang-bae-on-fleek_us_55e4794fe4b0aec9f353e0c4',\n",
       "  'headline': \"professors try to figure out what 'bae' and 'on fleek' mean\",\n",
       "  'is_sarcastic': 0},\n",
       " {'article_link': 'https://www.huffingtonpost.com/entry/house-republican-carbon-rules_n_5568362.html',\n",
       "  'headline': \"house republican spending bill seeks to block obama's carbon rules\",\n",
       "  'is_sarcastic': 0},\n",
       " {'article_link': 'https://entertainment.theonion.com/fred-durst-spray-paints-limp-bizkit-on-bridge-1819589561',\n",
       "  'headline': \"fred durst spray paints 'limp bizkit' on bridge\",\n",
       "  'is_sarcastic': 1},\n",
       " {'article_link': 'https://www.huffingtonpost.com/entry/poll-donald-trump-ahead_us_58190572e4b07c97c1c50525',\n",
       "  'headline': \"democrats shouldn't panic over one poll showing donald trump ahead\",\n",
       "  'is_sarcastic': 0},\n",
       " {'article_link': 'https://www.theonion.com/bored-kim-jong-un-stacks-entire-north-korean-populace-i-1819576849',\n",
       "  'headline': 'bored kim jong-un stacks entire north korean populace into human pyramid to kill time',\n",
       "  'is_sarcastic': 1},\n",
       " {'article_link': 'https://www.huffingtonpost.com/entry/chikungunya-malaysia-zika-dengue_us_5a5cfd70e4b04f3c55a51fb9',\n",
       "  'headline': 'how humans are laying out the welcome mat for mosquitoes and the diseases they carry',\n",
       "  'is_sarcastic': 0},\n",
       " {'article_link': 'https://www.huffingtonpost.com/entry/jennifer-lawrence-robert-de-niro-glaad-awards_us_57388feae4b077d4d6f35088',\n",
       "  'headline': 'jennifer lawrence honored robert de niro at the glaad media awards the only way she knows how',\n",
       "  'is_sarcastic': 0},\n",
       " {'article_link': 'https://www.huffingtonpost.com/entry/11-unexpected-ways-to-use-grapefruit_b_6708770.html',\n",
       "  'headline': '11 unexpected ways to use grapefruit',\n",
       "  'is_sarcastic': 0},\n",
       " {'article_link': 'https://www.theonion.com/study-90-of-all-meowing-comes-from-owners-trying-to-g-1819580323',\n",
       "  'headline': 'study: 90% of all meowing comes from owners trying to get cats to meow back',\n",
       "  'is_sarcastic': 1},\n",
       " {'article_link': 'https://www.huffingtonpost.com/entry/photos-of-daughters-samantha-conlon_us_55d4daa7e4b0ab468d9f88a9',\n",
       "  'headline': '14 photos that show the special bond between moms and daughters',\n",
       "  'is_sarcastic': 0},\n",
       " {'article_link': 'https://www.huffingtonpost.com/entry/fans-are-freaking-out-because-the-last-jedi-is-plural-on-foreign-language-posters_us_58a73881e4b07602ad544f47',\n",
       "  'headline': \"'star wars' fans are freaking out because 'jedi' in 'the last jedi' is plural\",\n",
       "  'is_sarcastic': 0},\n",
       " {'article_link': 'https://www.theonion.com/study-headaches-are-the-body-s-way-of-communicating-it-1825925378',\n",
       "  'headline': \"study: headaches are the body's way of communicating it wants pills\",\n",
       "  'is_sarcastic': 1},\n",
       " {'article_link': 'https://www.huffingtonpost.comhttp://live.huffingtonpost.com/r/archive/segment/559beeb702a76050e4000059',\n",
       "  'headline': \"how jimmy carter learned to make his wife rosalynn a 'full' partner\",\n",
       "  'is_sarcastic': 0},\n",
       " {'article_link': 'https://www.huffingtonpost.com/entry/dave-brat-in-my-grill_us_5890ae88e4b0c90eff001cc5',\n",
       "  'headline': \"gop congressman complains women are 'in my grill' over obamacare repeal\",\n",
       "  'is_sarcastic': 0},\n",
       " {'article_link': 'https://www.huffingtonpost.com/entry/religious-leaders-groups-are-appalled-by-trumps-immigration-orders_us_58890044e4b0737fd5cb2212',\n",
       "  'headline': \"religious leaders, groups are appalled by trump's immigration orders\",\n",
       "  'is_sarcastic': 0},\n",
       " {'article_link': 'https://local.theonion.com/lice-having-blast-trying-out-different-wigs-at-costume-1819838808',\n",
       "  'headline': 'lice having blast trying out different wigs at costume shop',\n",
       "  'is_sarcastic': 1},\n",
       " {'article_link': 'https://www.huffingtonpost.com/entry/places-you-wouldnt-have-gone-10-years-ago_n_7174776.html',\n",
       "  'headline': \"10 places you wouldn't have gone 10 years ago\",\n",
       "  'is_sarcastic': 0},\n",
       " {'article_link': 'https://www.huffingtonpost.com/entry/anita-alvarez-recuse-laquan-mcdonald_us_572b8913e4b0bc9cb046004d',\n",
       "  'headline': \"chicago's top prosecutor will not try the officer who killed laquan mcdonald\",\n",
       "  'is_sarcastic': 0},\n",
       " {'article_link': 'https://www.huffingtonpost.com/entry/tim-burton-big-eyes_n_6316508.html',\n",
       "  'headline': \"'big eyes' is about the 'most quiet feminist you've ever met'\",\n",
       "  'is_sarcastic': 0},\n",
       " {'article_link': 'https://www.huffingtonpost.comhttp://www.capitalnewyork.com/article/media/2015/11/8582731/bloomberg-gadfly-debuts-bid-shake-financial-commentary-space',\n",
       "  'headline': 'bloomberg gadfly debuts in bid to shake-up financial commentary space',\n",
       "  'is_sarcastic': 0},\n",
       " {'article_link': 'https://www.huffingtonpost.com/entry/harry-reid-nra_us_5612e3abe4b0baa355aceb7d',\n",
       "  'headline': \"harry reid: republicans are 'acting as puppets for the nra'\",\n",
       "  'is_sarcastic': 0},\n",
       " {'article_link': 'https://www.theonion.com/little-tobacco-hit-with-3-5-hundred-lawsuit-1819566168',\n",
       "  'headline': 'little tobacco hit with $3.5 hundred lawsuit',\n",
       "  'is_sarcastic': 1},\n",
       " {'article_link': 'https://www.huffingtonpost.com/entry/women-in-business-qa-rebe_b_9818202.html',\n",
       "  'headline': 'women in business q&a: rebecca henderson, group president, randstad professional solutions',\n",
       "  'is_sarcastic': 0},\n",
       " {'article_link': 'https://politics.theonion.com/mike-pence-disappointed-in-the-200-000-husbands-and-fat-1819579554',\n",
       "  'headline': 'mike pence disappointed in the 200,000 husbands and fathers who permitted women to attend march',\n",
       "  'is_sarcastic': 1},\n",
       " {'article_link': 'https://politics.theonion.com/jeff-flake-delivers-searing-critical-applause-for-trum-1822559306',\n",
       "  'headline': 'jeff flake delivers searing, critical applause for trump during state of the union',\n",
       "  'is_sarcastic': 1},\n",
       " {'article_link': 'https://www.huffingtonpost.com/entry/michelle-obama-wont-run-for-office_us_58544931e4b0b3ddfd8c8d9e',\n",
       "  'headline': \"michelle obama explains in no uncertain terms why she won't run for office\",\n",
       "  'is_sarcastic': 0},\n",
       " {'article_link': 'https://www.huffingtonpost.com/entry/republican-food-stamp-bill_us_5ae9f862e4b022f71a047b9c',\n",
       "  'headline': 'republican food stamp bill would cut benefits, but not the size of government',\n",
       "  'is_sarcastic': 0},\n",
       " {'article_link': 'https://www.huffingtonpost.com/entry/russian-trump-coin_us_587e6cbee4b0f63fcfa366ef',\n",
       "  'headline': \"russians mint 'in trump we trust' coin ahead of u.s. inauguration\",\n",
       "  'is_sarcastic': 0},\n",
       " {'article_link': 'https://www.huffingtonpost.com/entry/kristen-wiig-fake-trailer_us_562fb79fe4b0c66bae59af99',\n",
       "  'headline': \"kristen wiig's fake trailer from 'jimmy kimmel' needs to be made into a real movie\",\n",
       "  'is_sarcastic': 0},\n",
       " {'article_link': 'https://www.huffingtonpost.com/entry/patients-with-limited-english-are-more-likely-to-return-to-the-er_us_57238b07e4b01a5ebde5771a',\n",
       "  'headline': 'patients with limited english are more likely to return to the er',\n",
       "  'is_sarcastic': 0},\n",
       " {'article_link': 'https://www.huffingtonpost.com/entry/dear-baby-boomers-step-as_b_5485858.html',\n",
       "  'headline': 'dear baby boomers, step aside',\n",
       "  'is_sarcastic': 0},\n",
       " {'article_link': 'https://www.huffingtonpost.com/entry/john-oliver-bitcoin-cryptocurrency_us_5aa6291be4b01b9b0a3cce82',\n",
       "  'headline': \"don't spend a cent on bitcoin until you see john oliver's cryptocurrency warning\",\n",
       "  'is_sarcastic': 0},\n",
       " {'article_link': 'https://www.huffingtonpost.com/entry/anne-meara-twitter_n_7432772.html',\n",
       "  'headline': 'celebrities mourn anne meara on twitter after news of her death',\n",
       "  'is_sarcastic': 0},\n",
       " {'article_link': 'https://www.huffingtonpost.com/entry/basics-obamacare-enrollment-2018_us_59e004e0e4b0a52aca16bdcf',\n",
       "  'headline': \"here's what you need to know about obamacare enrollment this year\",\n",
       "  'is_sarcastic': 0},\n",
       " {'article_link': 'https://www.theonion.com/relationship-experts-recommend-single-women-try-bathing-1819578424',\n",
       "  'headline': 'relationship experts recommend single women try bathing in open stream until suitor glimpses them through trees',\n",
       "  'is_sarcastic': 1},\n",
       " {'article_link': 'https://www.theonion.com/married-couple-longs-for-days-when-they-only-quietly-re-1819578667',\n",
       "  'headline': 'married couple longs for days when they only quietly resented one another',\n",
       "  'is_sarcastic': 1},\n",
       " {'article_link': 'https://www.theonion.com/group-of-friends-chanting-shots-make-compelling-point-1819577043',\n",
       "  'headline': \"group of friends chanting 'shots' make compelling point\",\n",
       "  'is_sarcastic': 1},\n",
       " {'article_link': 'https://local.theonion.com/blind-date-pronounces-every-syllable-of-word-comfortabl-1819566810',\n",
       "  'headline': \"blind date pronounces every syllable of word 'comfortable'\",\n",
       "  'is_sarcastic': 1},\n",
       " {'article_link': 'https://www.huffingtonpost.com/entry/post_8367_b_5877750.html',\n",
       "  'headline': 'to hope again',\n",
       "  'is_sarcastic': 0},\n",
       " {'article_link': 'https://www.huffingtonpost.com/entry/therapy-works-better-in-the-morning_us_58054b6fe4b0dd54ce34b8a4',\n",
       "  'headline': 'the science-backed reason to see your therapist in the morning',\n",
       "  'is_sarcastic': 0},\n",
       " {'article_link': 'https://www.huffingtonpost.com/entry/turkish-president-no-muslim-family-should-engage-in-birth-control_us_574c96e9e4b055bb11728a2f',\n",
       "  'headline': 'turkish president: no muslim family should engage in birth control',\n",
       "  'is_sarcastic': 0},\n",
       " {'article_link': 'https://www.huffingtonpost.com/entry/claire-danes-is-expecting-baby-number-two-with-hugh-dancy_us_5ad758c1e4b029ebe0201bcd',\n",
       "  'headline': 'claire danes is expecting baby number two with hugh dancy',\n",
       "  'is_sarcastic': 0},\n",
       " {'article_link': 'https://www.huffingtonpost.com/entry/vlogger-shamed-in-walmart-fitting-room-because-she-might-stretch-clothes_us_56b37e23e4b01d80b2454eba',\n",
       "  'headline': \"vlogger shamed in walmart fitting room because she might 'stretch' clothes\",\n",
       "  'is_sarcastic': 0},\n",
       " {'article_link': 'https://www.huffingtonpost.com/entry/at-the-university-of-texa_1_b_7303180.html',\n",
       "  'headline': 'at the university of texas,  echoes of its confederate past reverberate in the present',\n",
       "  'is_sarcastic': 0},\n",
       " {'article_link': 'https://www.huffingtonpost.com/entry/trump-obamacare-replacement_us_587cc478e4b0b3c7a7b205de',\n",
       "  'headline': 'trump hints at obamacare replacement that would look nothing like what republicans have in mind',\n",
       "  'is_sarcastic': 0},\n",
       " {'article_link': 'https://www.theonion.com/bad-ass-engagement-ring-also-tells-the-time-and-tempera-1819589985',\n",
       "  'headline': 'bad-ass engagement ring also tells the time and temperature',\n",
       "  'is_sarcastic': 1},\n",
       " {'article_link': 'https://www.huffingtonpost.com/entry/director-paul-feig-says-men-have-to-speak-out-following-weinstein-rape-allegations_us_59dce323e4b094496e59805a',\n",
       "  'headline': \"director paul feig says 'men have to speak out' after weinstein sexual assault allegations\",\n",
       "  'is_sarcastic': 0},\n",
       " {'article_link': 'https://www.theonion.com/advertising-firm-unveils-new-mute-resistant-commercials-1819570677',\n",
       "  'headline': 'advertising firm unveils new mute-resistant commercials',\n",
       "  'is_sarcastic': 1},\n",
       " {'article_link': 'https://politics.theonion.com/rookie-justice-gorsuch-assigned-to-supreme-court-overni-1819579826',\n",
       "  'headline': 'rookie justice gorsuch assigned to supreme court overnight shift',\n",
       "  'is_sarcastic': 1},\n",
       " {'article_link': 'https://www.huffingtonpost.com/entry/mike-pence-vice-president_us_58824088e4b0e3a735689542',\n",
       "  'headline': \"mike pence takes oath of office as country's next vice president\",\n",
       "  'is_sarcastic': 0},\n",
       " {'article_link': 'https://www.theonion.com/rex-tillerson-blindsided-by-news-he-still-worked-for-st-1823728644',\n",
       "  'headline': 'rex tillerson blindsided by news he still worked for state department',\n",
       "  'is_sarcastic': 1},\n",
       " {'article_link': 'https://www.huffingtonpost.com/entry/story_n_6374716.html',\n",
       "  'headline': \"fight over obama's treasury nominee underscores battles within democratic party\",\n",
       "  'is_sarcastic': 0},\n",
       " {'article_link': 'https://www.theonion.com/rommel-hummel-dominate-parents-christmas-list-1819587711',\n",
       "  'headline': \"rommel, hummel dominate parents' christmas list\",\n",
       "  'is_sarcastic': 1},\n",
       " {'article_link': 'https://www.huffingtonpost.com/entry/sign-of-narcissism_n_7463578.html',\n",
       "  'headline': 'a big myth about how to spot a narcissist',\n",
       "  'is_sarcastic': 0},\n",
       " {'article_link': 'https://entertainment.theonion.com/doll-housing-crisis-set-to-worsen-mean-older-brother-s-1819569425',\n",
       "  'headline': 'doll-housing crisis set to worsen, mean older brother says',\n",
       "  'is_sarcastic': 1},\n",
       " {'article_link': 'https://www.huffingtonpost.com/entry/slushing-in-utah-at-the-e_b_5519077.html',\n",
       "  'headline': 'slushing in utah at the end of ski season',\n",
       "  'is_sarcastic': 0},\n",
       " {'article_link': 'https://www.huffingtonpost.com/entry/electability-poll_us_56a28d0be4b076aadcc69052',\n",
       "  'headline': 'here are the candidates voters think can actually win in november',\n",
       "  'is_sarcastic': 0},\n",
       " {'article_link': 'https://www.huffingtonpost.com/entry/cameron-beckford_n_6403250.html',\n",
       "  'headline': \"missing maryland toddler's body found in ohio creek\",\n",
       "  'is_sarcastic': 0},\n",
       " {'article_link': 'https://politics.theonion.com/terrified-jeb-bush-beginning-to-fade-from-visible-spect-1819578484',\n",
       "  'headline': 'terrified jeb bush beginning to fade from visible spectrum',\n",
       "  'is_sarcastic': 1},\n",
       " {'article_link': 'https://www.huffingtonpost.com/entry/adele-titanic-30th-birthday_us_5af01716e4b0ab5c3d674608',\n",
       "  'headline': \"adele celebrates 'titanic'-themed 30th birthday\",\n",
       "  'is_sarcastic': 0},\n",
       " {'article_link': 'https://local.theonion.com/changing-weather-inspires-area-conversationalist-1819564896',\n",
       "  'headline': 'changing weather inspires area conversationalist',\n",
       "  'is_sarcastic': 1},\n",
       " {'article_link': 'https://www.theonion.com/fourth-tool-discovered-1819564068',\n",
       "  'headline': 'fourth tool discovered',\n",
       "  'is_sarcastic': 1},\n",
       " {'article_link': 'https://www.huffingtonpost.com/entry/texas-school-lunches_us_59bc0d4fe4b02da0e141a88a',\n",
       "  'headline': 'texas public school districts may now store, not trash, leftover food',\n",
       "  'is_sarcastic': 0},\n",
       " {'article_link': 'https://www.theonion.com/hentai-message-board-features-surprisingly-close-knit-1822979571',\n",
       "  'headline': 'hentai message board features surprisingly close-knit, supportive community',\n",
       "  'is_sarcastic': 1},\n",
       " {'article_link': 'https://entertainment.theonion.com/hootie-and-the-blowfish-breaking-down-racial-barriers-1819586105',\n",
       "  'headline': 'hootie and the blowfish: breaking down racial barriers between black, white pussies',\n",
       "  'is_sarcastic': 1},\n",
       " {'article_link': 'https://entertainment.theonion.com/study-snapping-three-times-leading-way-to-recall-movie-1819569673',\n",
       "  'headline': 'study: snapping three times leading way to recall movies, actors',\n",
       "  'is_sarcastic': 1},\n",
       " {'article_link': 'https://www.huffingtonpost.com/entry/trump-pardon-himself_us_5973587be4b0e79ec1999463',\n",
       "  'headline': \"donald trump insists he has the 'complete power' to pardon, as russia probe persists\",\n",
       "  'is_sarcastic': 0},\n",
       " {'article_link': 'https://www.huffingtonpost.com/entry/syria-ceasefire_us_58661b7ae4b0d9a5945aec0d',\n",
       "  'headline': 'syria ceasefire, backed by russia and turkey, holds after initial clashes',\n",
       "  'is_sarcastic': 0},\n",
       " {'article_link': 'https://www.huffingtonpost.com/entry/france-end-of-life_n_6829532.html',\n",
       "  'headline': \"french parliament debates 'deep sleep' bill for end of life\",\n",
       "  'is_sarcastic': 0},\n",
       " {'article_link': 'https://www.huffingtonpost.com/entry/reality-risk-reward-is-us_b_6671542.html',\n",
       "  'headline': 'reality, risk & reward: is us kids tv ripe for authenticity and autonomy?',\n",
       "  'is_sarcastic': 0},\n",
       " {'article_link': 'https://www.huffingtonpost.com/entry/harvey-weinstein-ami-rose-mcgowan_us_5a147274e4b09650540dcf2f',\n",
       "  'headline': 'transcript, emails show how tabloid reporters helped harvey weinstein get dirt on women',\n",
       "  'is_sarcastic': 0},\n",
       " {'article_link': 'https://www.huffingtonpost.com/entry/trumps-america--a-not-so_b_14614238.html',\n",
       "  'headline': \"trump's america--a not so shining city on the hill\",\n",
       "  'is_sarcastic': 0},\n",
       " {'article_link': 'https://www.huffingtonpost.com/entry/rowan-metzner-in-my-mothers-clothes_us_56f58ee0e4b014d3fe231708',\n",
       "  'headline': \"photographer assumes endless identities in her mother's clothes\",\n",
       "  'is_sarcastic': 0},\n",
       " {'article_link': 'https://www.theonion.com/stripper-surprised-she-only-talked-to-2-homicide-detect-1819576200',\n",
       "  'headline': 'stripper surprised she only talked to 2 homicide detectives today',\n",
       "  'is_sarcastic': 1},\n",
       " {'article_link': 'https://entertainment.theonion.com/justin-bieber-fan-jealous-of-anne-frank-1819574830',\n",
       "  'headline': 'justin bieber fan jealous of anne frank',\n",
       "  'is_sarcastic': 1},\n",
       " {'article_link': 'https://www.huffingtonpost.com/entry/elevate-your-leadership_b_8905052.html',\n",
       "  'headline': 'elevate your leadership in 2016',\n",
       "  'is_sarcastic': 0},\n",
       " {'article_link': 'https://www.huffingtonpost.com/entry/larethia-haddon-face-down-halloween-dummy-gets-repeated-911-calls_us_561837e9e4b0dbb8000eba35',\n",
       "  'headline': \"woman's face-down halloween dummy gets repeated 911 calls\",\n",
       "  'is_sarcastic': 0},\n",
       " {'article_link': 'https://www.theonion.com/259-new-objects-now-available-in-gummi-form-1819586626',\n",
       "  'headline': '259 new objects now available in gummi form',\n",
       "  'is_sarcastic': 1},\n",
       " {'article_link': 'https://www.theonion.com/kremlin-agent-not-even-going-to-bother-trying-to-compro-1819579654',\n",
       "  'headline': 'kremlin agent not even going to bother trying to compromise trump staffer who will be forced to resign in few months',\n",
       "  'is_sarcastic': 1},\n",
       " {'article_link': 'https://www.huffingtonpost.com/entry/the-future-is-blurry_b_5930848.html',\n",
       "  'headline': 'the future is blurry!',\n",
       "  'is_sarcastic': 0},\n",
       " {'article_link': 'https://www.huffingtonpost.com/entry/facegloria-brazil_n_7744966.html',\n",
       "  'headline': \"here's a pg-rated facebook alternative for evangelical christians\",\n",
       "  'is_sarcastic': 0},\n",
       " {'article_link': 'https://www.huffingtonpost.com/entry/donald-trump-unqualified-poll_us_57dad724e4b04a1497b2f7da',\n",
       "  'headline': 'donald trump is unqualified to be president, majority of american voters say',\n",
       "  'is_sarcastic': 0},\n",
       " {'article_link': 'https://www.theonion.com/body-given-false-hope-with-first-piece-of-fruit-in-9-da-1819579359',\n",
       "  'headline': 'body given false hope with first piece of fruit in 9 days',\n",
       "  'is_sarcastic': 1},\n",
       " {'article_link': 'https://www.huffingtonpost.com/entry/missouri-filibuster-lgbt-religious-freedom_us_56e0514be4b065e2e3d45217',\n",
       "  'headline': \"missouri democrats filibuster for 39 hours to stop anti-gay 'religious freedom' bill\",\n",
       "  'is_sarcastic': 0},\n",
       " {'article_link': 'https://www.huffingtonpost.com/entry/hilde-lysiak-reporter-book-deal_us_5775758ce4b09b4c43bf89fe',\n",
       "  'headline': \"9-year-old reporter told to just be 'cute' has landed a book deal\",\n",
       "  'is_sarcastic': 0},\n",
       " {'article_link': 'https://www.huffingtonpost.com/entry/this-craigslist-missed-connection-is-delightfully-feminist_us_575185a4e4b0c3752dcd50b7',\n",
       "  'headline': 'this craigslist missed connection is delightfully feminist',\n",
       "  'is_sarcastic': 0},\n",
       " {'article_link': 'https://www.theonion.com/african-nation-not-war-torn-1819563956',\n",
       "  'headline': 'african nation not war-torn',\n",
       "  'is_sarcastic': 1},\n",
       " {'article_link': 'https://www.huffingtonpost.com/entry/three-chinese-tourists-dead-six-people-missing-in-borneo-shipwreck_us_588e0da4e4b017637794f0df',\n",
       "  'headline': 'three chinese tourists dead, six people missing in borneo shipwreck',\n",
       "  'is_sarcastic': 0},\n",
       " {'article_link': 'https://www.theonion.com/god-announces-successful-test-of-first-category-7-hurri-1819579249',\n",
       "  'headline': 'god announces successful test of first category 7 hurricane',\n",
       "  'is_sarcastic': 1},\n",
       " {'article_link': 'https://www.theonion.com/lone-geek-sits-off-by-self-reading-the-silmarillion-thr-1819565006',\n",
       "  'headline': 'lone geek sits off by self reading the silmarillion throughout recess',\n",
       "  'is_sarcastic': 1},\n",
       " {'article_link': 'https://www.huffingtonpost.com/entry/arya-stark-yearbook-quote_us_55a42b87e4b0ecec71bcc7ad',\n",
       "  'headline': 'this is what happens when you ask arya stark to write your yearbook quote',\n",
       "  'is_sarcastic': 0},\n",
       " {'article_link': 'https://www.theonion.com/alex-jones-pleads-with-sandy-hook-parents-to-imagine-pa-1825338170',\n",
       "  'headline': 'alex jones pleads with sandy hook parents to imagine pain an expensive lawsuit would cause him',\n",
       "  'is_sarcastic': 1},\n",
       " {'article_link': 'https://www.huffingtonpost.com/entry/crowdfunding-animal-projects_n_5959980.html',\n",
       "  'headline': 'rescue animals get the help they need thanks to online donations',\n",
       "  'is_sarcastic': 0},\n",
       " {'article_link': 'https://local.theonion.com/goldfish-cant-stand-bowlmate-1819568161',\n",
       "  'headline': \"goldfish can't stand bowlmate\",\n",
       "  'is_sarcastic': 1},\n",
       " {'article_link': 'https://www.huffingtonpost.com/entry/the-box-of-mass-incarcera_b_6164542.html',\n",
       "  'headline': 'john legend speaks to the crack in the system caused by mass incarceration',\n",
       "  'is_sarcastic': 0},\n",
       " {'article_link': 'https://www.huffingtonpost.com/entry/sfpd-wheelchair-push-man_n_6527510.html',\n",
       "  'headline': 'police launch investigation after video appears to show cop shoving man in wheelchair into street',\n",
       "  'is_sarcastic': 0},\n",
       " {'article_link': 'https://www.theonion.com/nasa-discovers-distant-planet-located-outside-funding-c-1819579186',\n",
       "  'headline': 'nasa discovers distant planet located outside funding capabilities',\n",
       "  'is_sarcastic': 1},\n",
       " {'article_link': 'https://www.huffingtonpost.com/entry/judge-keep-knees-together-rape-trial-resigns_us_58c2c017e4b0ed71826c2e6c',\n",
       "  'headline': \"judge who asked 'why couldn't you keep knees together?' resigns\",\n",
       "  'is_sarcastic': 0},\n",
       " {'article_link': 'https://www.huffingtonpost.com/entry/white-house-rescissions-congress_us_5af0e298e4b0ab5c3d68ed8f',\n",
       "  'headline': 'white house prepares to send congress $15 billion spending cuts package',\n",
       "  'is_sarcastic': 0},\n",
       " {'article_link': 'https://www.huffingtonpost.comhttps://www.washingtonpost.com/politics/fiery-republican-race-heads-to-sc-known-for-dirty-tricks-and-brawls/2016/02/10/a99b161e-d024-11e5-b2bc-988409ee911b_story.html?hpid=hp_hp-top-table-main_southcarolina-830pm:homepage/story',\n",
       "  'headline': 'gop race heads to south carolina, known for dirty tricks and brawls',\n",
       "  'is_sarcastic': 0},\n",
       " {'article_link': 'https://www.huffingtonpost.com/entry/kindergartener-allegedly-barred-from-school-because-she-has-two-moms_us_560c0d6be4b0af3706deddca',\n",
       "  'headline': 'kindergartener allegedly barred from school because she has two moms',\n",
       "  'is_sarcastic': 0},\n",
       " {'article_link': 'https://www.huffingtonpost.comhttps://www.washingtonpost.com/opinions/bill-oreilly-makes-a-mess-of-history/2015/11/10/03ef0d94-87d9-11e5-be8b-1ae2e4f50f76_story.html',\n",
       "  'headline': \"george will trashes bill o'reilly: 'wise, he is not'\",\n",
       "  'is_sarcastic': 0},\n",
       " {'article_link': 'https://www.huffingtonpost.com/entry/ohio-marijuana-legalization_us_55cbe829e4b064d5910a7ce5',\n",
       "  'headline': 'ohio voters will get to decide on legalizing marijuana',\n",
       "  'is_sarcastic': 0},\n",
       " {'article_link': 'https://www.huffingtonpost.comhttp://lifehacker.com/the-best-ifttt-recipes-to-make-the-most-of-your-vacatio-1778763165?utm_source=of%20a%20kind&utm_medium=referral&utm_campaign=10%20things%20newsletter',\n",
       "  'headline': 'the best ifttt recipes to make the most of your vacation',\n",
       "  'is_sarcastic': 0},\n",
       " {'article_link': 'https://entertainment.theonion.com/last-living-california-raisin-dies-of-prostate-cancer-1819576366',\n",
       "  'headline': 'last living california raisin dies of prostate cancer',\n",
       "  'is_sarcastic': 1},\n",
       " {'article_link': 'https://www.huffingtonpost.com/entry/microsoft-debuts-surface-book-its-first-laptop-plus-other-new-gizmos_us_5613f946e4b022a4ce5f9a28',\n",
       "  'headline': 'microsoft debuts surface book, its first laptop, plus other new gizmos',\n",
       "  'is_sarcastic': 0},\n",
       " {'article_link': 'https://www.theonion.com/fda-confirms-psilocybin-reduces-risk-of-mindlessly-foll-1821046978',\n",
       "  'headline': \"fda confirms psilocybin reduces risk of mindlessly following society's rules like fucking lemming\",\n",
       "  'is_sarcastic': 1},\n",
       " {'article_link': 'https://www.huffingtonpost.com/entry/t_us_55bd212de4b06363d5a26dc3',\n",
       "  'headline': \"fourth death in new york legionnaire's disease outbreak\",\n",
       "  'is_sarcastic': 0},\n",
       " {'article_link': 'https://www.theonion.com/national-weather-service-to-give-hurricanes-full-names-1819568307',\n",
       "  'headline': 'national weather service to give hurricanes full names',\n",
       "  'is_sarcastic': 1},\n",
       " {'article_link': 'https://www.huffingtonpost.com/entry/william-h-macy-prom-dress-daughter_us_5ae1e001e4b04aa23f2079b9',\n",
       "  'headline': 'william h. macy has ultimate dad moment dancing with his daughter before prom',\n",
       "  'is_sarcastic': 0},\n",
       " {'article_link': 'https://www.huffingtonpost.comhttp://pubx.co/Na6Vrd',\n",
       "  'headline': 'warm temperatures bring hot deals on winter gear',\n",
       "  'is_sarcastic': 0},\n",
       " {'article_link': 'https://politics.theonion.com/sarah-huckabee-sanders-flatly-rejects-jim-acostas-asser-1825902692',\n",
       "  'headline': \"sarah huckabee sanders flatly rejects jim acosta's assertion that he's jim acosta\",\n",
       "  'is_sarcastic': 1},\n",
       " {'article_link': 'https://politics.theonion.com/reno-orders-investigation-of-u-s-department-of-corrupt-1819565316',\n",
       "  'headline': 'reno orders investigation of u.s. department of corruption',\n",
       "  'is_sarcastic': 1},\n",
       " {'article_link': 'https://www.theonion.com/billions-of-electric-signals-between-neurons-allow-brai-1819576197',\n",
       "  'headline': 'billions of electric signals between neurons allow brain to imagine what michael imperioli looks like',\n",
       "  'is_sarcastic': 1},\n",
       " {'article_link': 'https://www.huffingtonpost.com/entry/lucy-jones-self-portraits_n_7153684.html',\n",
       "  'headline': 'unapologetic self-portraits that shatter perceptions of disability',\n",
       "  'is_sarcastic': 0},\n",
       " {'article_link': 'https://www.theonion.com/scientists-discover-eating-serves-function-other-than-e-1819577590',\n",
       "  'headline': 'scientists discover eating serves function other than easing anxiety',\n",
       "  'is_sarcastic': 1},\n",
       " {'article_link': 'https://www.huffingtonpost.com/entry/libraries-burning-from-sarajevo-mosul_b_6749898.html',\n",
       "  'headline': 'libraries burning: from sarajevo to mosul',\n",
       "  'is_sarcastic': 0},\n",
       " {'article_link': 'https://www.huffingtonpost.com/entry/what-i-learned-from-searching-for-soulmate_us_576180afe4b0df4d586ece5b',\n",
       "  'headline': 'what i realized after years of searching for my soulmate',\n",
       "  'is_sarcastic': 0},\n",
       " {'article_link': 'https://www.huffingtonpost.com/entry/astoria-characters-the-ch_b_5262569.html',\n",
       "  'headline': 'astoria characters: the charity stager',\n",
       "  'is_sarcastic': 0},\n",
       " {'article_link': 'https://entertainment.theonion.com/dolby-theatre-usher-throws-out-matt-damon-for-attemptin-1819579675',\n",
       "  'headline': 'dolby theatre usher throws out matt damon for attempting to film oscars with camcorder',\n",
       "  'is_sarcastic': 1},\n",
       " {'article_link': 'https://politics.theonion.com/600-pound-butter-cow-sculpture-wins-iowa-caucus-1819573170',\n",
       "  'headline': '600-pound butter cow sculpture wins iowa caucus',\n",
       "  'is_sarcastic': 1},\n",
       " {'article_link': 'https://politics.theonion.com/bill-o-reilly-tearfully-packs-up-framed-up-skirt-photos-1819579856',\n",
       "  'headline': \"bill o'reilly tearfully packs up framed up-skirt photos from desk\",\n",
       "  'is_sarcastic': 1},\n",
       " {'article_link': 'https://www.huffingtonpost.com/entry/mark-green-gay-gestapo_us_591214f7e4b0a58297e01bd0',\n",
       "  'headline': \"trump's army secretary pick is victim of 'gay gestapo,' right wing activists claim\",\n",
       "  'is_sarcastic': 0},\n",
       " {'article_link': 'https://politics.theonion.com/candidates-preparing-for-colorado-debate-conditions-wit-1819578385',\n",
       "  'headline': 'candidates preparing for colorado debate conditions with high-altitude speaking drills',\n",
       "  'is_sarcastic': 1},\n",
       " {'article_link': 'https://www.huffingtonpost.com/entry/the-drama-desks-all-the-w_b_5428063.html',\n",
       "  'headline': \"the drama desks, all the way, m&m's and more\",\n",
       "  'is_sarcastic': 0},\n",
       " {'article_link': 'https://www.theonion.com/magazine-editor-undergoes-sleek-new-redesign-1819568739',\n",
       "  'headline': 'magazine editor undergoes sleek new redesign',\n",
       "  'is_sarcastic': 1},\n",
       " {'article_link': 'https://local.theonion.com/town-nervously-welcomes-veteran-back-home-1819575479',\n",
       "  'headline': 'town nervously welcomes veteran back home',\n",
       "  'is_sarcastic': 1},\n",
       " {'article_link': 'https://www.theonion.com/local-student-also-a-poet-1819586162',\n",
       "  'headline': 'local student also a poet',\n",
       "  'is_sarcastic': 1},\n",
       " {'article_link': 'https://www.huffingtonpost.com/entry/its-a-wonderful-life-censored_n_6375120.html',\n",
       "  'headline': \"'it's a wonderful life' was almost too racy for theaters\",\n",
       "  'is_sarcastic': 0},\n",
       " {'article_link': 'https://www.huffingtonpost.com/entry/ariana-grande-snl_n_5895624.html',\n",
       "  'headline': \"ariana grande performs 'break free' on 'snl'\",\n",
       "  'is_sarcastic': 0},\n",
       " {'article_link': 'https://local.theonion.com/unconditional-love-given-to-15-year-old-who-just-called-1819580304',\n",
       "  'headline': 'unconditional love given to 15-year-old who just called mom a bitch in middle of hollister',\n",
       "  'is_sarcastic': 1},\n",
       " {'article_link': 'https://www.theonion.com/newborn-prince-of-cambridge-begins-consolidating-power-1825477519',\n",
       "  'headline': 'newborn prince of cambridge begins consolidating power by having family imprisoned in tower of london',\n",
       "  'is_sarcastic': 1},\n",
       " {'article_link': 'https://politics.theonion.com/congress-abandons-wikiconstitution-1819568036',\n",
       "  'headline': 'congress abandons wikiconstitution',\n",
       "  'is_sarcastic': 1},\n",
       " {'article_link': 'https://www.huffingtonpost.com/entry/2016-all-about-the-electorate_b_6449000.html',\n",
       "  'headline': '2016: all about the electorate',\n",
       "  'is_sarcastic': 0},\n",
       " {'article_link': 'https://www.theonion.com/self-defense-instructor-keeps-a-couple-of-secrets-to-hi-1819568286',\n",
       "  'headline': 'self-defense instructor keeps a couple of secrets to himself',\n",
       "  'is_sarcastic': 1},\n",
       " {'article_link': 'https://local.theonion.com/adorable-puppy-nets-owner-handjob-1819563966',\n",
       "  'headline': 'adorable puppy nets owner handjob',\n",
       "  'is_sarcastic': 1},\n",
       " {'article_link': 'https://www.huffingtonpost.com/entry/can-we-whine-for-a-moment-judgement-free_us_55f06e50e4b002d5c0779abd',\n",
       "  'headline': \"10 super annoying things we can't help but whine about\",\n",
       "  'is_sarcastic': 0},\n",
       " {'article_link': 'https://entertainment.theonion.com/man-bitten-by-radioactive-sloth-does-the-lying-around-a-1819566377',\n",
       "  'headline': 'man bitten by radioactive sloth does the lying-around-all-day of 10 normal men',\n",
       "  'is_sarcastic': 1},\n",
       " {'article_link': 'https://entertainment.theonion.com/quake-claims-500-hours-1819565271',\n",
       "  'headline': 'quake claims 500 hours',\n",
       "  'is_sarcastic': 1},\n",
       " {'article_link': 'https://www.huffingtonpost.com/entry/teen-football-recruit-makes-bold-statement-about-black-lives-at-training-camp_us_594d51f5e4b05c37bb762a0e',\n",
       "  'headline': 'teen football recruit makes bold statement about black lives at training camp',\n",
       "  'is_sarcastic': 0},\n",
       " {'article_link': 'https://www.huffingtonpost.com/entry/10-of-illinois-safest-cit_b_6970346.html',\n",
       "  'headline': \"10 of illinois' safest cities\",\n",
       "  'is_sarcastic': 0},\n",
       " {'article_link': 'https://www.theonion.com/unconsciousness-faked-to-make-anesthesiologist-feel-bet-1819588655',\n",
       "  'headline': 'unconsciousness faked to make anesthesiologist feel better',\n",
       "  'is_sarcastic': 1},\n",
       " {'article_link': 'https://politics.theonion.com/trump-hails-gorsuch-as-fierce-protector-of-future-amend-1819579577',\n",
       "  'headline': 'trump hails gorsuch as fierce protector of future amendment allowing president to temporarily suspend right to assemble',\n",
       "  'is_sarcastic': 1},\n",
       " {'article_link': 'https://www.theonion.com/historical-archives-two-feared-dead-in-near-by-child-b-1819570249',\n",
       "  'headline': 'historical archives: two feared dead in near-by child-birth',\n",
       "  'is_sarcastic': 1},\n",
       " {'article_link': 'https://www.theonion.com/prison-warden-vows-to-take-away-el-chapo-s-tunnel-privi-1819577998',\n",
       "  'headline': \"prison warden vows to take away el chapo's tunnel privileges if captured\",\n",
       "  'is_sarcastic': 1},\n",
       " {'article_link': 'https://www.huffingtonpost.com/entry/mothers-precious-and-misu_b_7249750.html',\n",
       "  'headline': 'mothers, precious and misunderstood: the many mothers i have met',\n",
       "  'is_sarcastic': 0},\n",
       " {'article_link': 'https://entertainment.theonion.com/new-baby-weinstein-tapes-prepare-infants-for-career-in-1819568631',\n",
       "  'headline': \"new 'baby weinstein' tapes prepare infants for career in entertainment law\",\n",
       "  'is_sarcastic': 1},\n",
       " {'article_link': 'https://www.huffingtonpost.com/entry/5-steps-to-get-you-from-shy-to-sociable_b_5807752.html',\n",
       "  'headline': '5 steps to get you from shy to sociable',\n",
       "  'is_sarcastic': 0},\n",
       " {'article_link': 'https://www.huffingtonpost.com/entry/who-were-you-on-911_b_11956800.html',\n",
       "  'headline': 'who were you on 9/11?',\n",
       "  'is_sarcastic': 0},\n",
       " ...]"
      ]
     },
     "execution_count": 27,
     "metadata": {},
     "output_type": "execute_result"
    }
   ],
   "source": [
    "ff"
   ]
  },
  {
   "cell_type": "code",
   "execution_count": 3,
   "metadata": {},
   "outputs": [],
   "source": [
    "f.close()"
   ]
  },
  {
   "cell_type": "code",
   "execution_count": 4,
   "metadata": {},
   "outputs": [],
   "source": [
    "sentences = []\n",
    "labels = []\n",
    "\n",
    "for item in ff:\n",
    "    sentences.append(item['headline'])\n",
    "    labels.append(item['is_sarcastic'])"
   ]
  },
  {
   "cell_type": "code",
   "execution_count": 5,
   "metadata": {},
   "outputs": [],
   "source": [
    "vocab_size = 10000\n",
    "embedding_dim = 16\n",
    "max_length = 100\n",
    "trunc_type='post'\n",
    "padding_type='post'\n",
    "oov_tok = \"<OOV>\"\n",
    "training_size = 20000\n"
   ]
  },
  {
   "cell_type": "code",
   "execution_count": 6,
   "metadata": {},
   "outputs": [],
   "source": [
    "training_sentences = sentences[0:training_size]\n",
    "testing_sentences = sentences[training_size:]\n",
    "training_labels = labels[0:training_size]\n",
    "testing_labels = labels[training_size:]"
   ]
  },
  {
   "cell_type": "code",
   "execution_count": 7,
   "metadata": {},
   "outputs": [],
   "source": [
    "from tensorflow.keras.preprocessing.text import Tokenizer\n",
    "from tensorflow.keras.preprocessing.sequence import pad_sequences"
   ]
  },
  {
   "cell_type": "code",
   "execution_count": 8,
   "metadata": {},
   "outputs": [],
   "source": [
    "tk = Tokenizer(num_words=vocab_size , oov_token=oov_tok)"
   ]
  },
  {
   "cell_type": "code",
   "execution_count": 9,
   "metadata": {},
   "outputs": [],
   "source": [
    "tk.fit_on_texts(training_sentences)"
   ]
  },
  {
   "cell_type": "code",
   "execution_count": 10,
   "metadata": {},
   "outputs": [],
   "source": [
    "tr_seq = tk.texts_to_sequences(training_sentences)"
   ]
  },
  {
   "cell_type": "code",
   "execution_count": 11,
   "metadata": {},
   "outputs": [],
   "source": [
    "tst_seq = tk.texts_to_sequences(testing_sentences)"
   ]
  },
  {
   "cell_type": "code",
   "execution_count": 12,
   "metadata": {},
   "outputs": [],
   "source": [
    "r_train_x = tf.ragged.constant(tr_seq)\n",
    "r_test_x = tf.ragged.constant(tst_seq)"
   ]
  },
  {
   "cell_type": "code",
   "execution_count": 13,
   "metadata": {},
   "outputs": [],
   "source": [
    "import numpy as np\n",
    "#training_padded = np.array(training_padded)\n",
    "training_labels = np.array(training_labels)\n",
    "#testing_padded = np.array(testing_padded)\n",
    "testing_labels = np.array(testing_labels)"
   ]
  },
  {
   "cell_type": "code",
   "execution_count": 41,
   "metadata": {},
   "outputs": [],
   "source": [
    "padded_seq = pad_sequences(seq , padding='post', truncating='post' , maxlen=max_length)"
   ]
  },
  {
   "cell_type": "code",
   "execution_count": 42,
   "metadata": {},
   "outputs": [
    {
     "data": {
      "text/plain": [
       "array([[ 328,    1,  799, ...,    0,    0,    0],\n",
       "       [   4, 6840, 3096, ...,    0,    0,    0],\n",
       "       [ 153,  890,    2, ...,    0,    0,    0],\n",
       "       ...,\n",
       "       [  79, 1729,    1, ...,    0,    0,    0],\n",
       "       [  53, 5108, 4735, ...,    0,    0,    0],\n",
       "       [ 312,  705,    1, ...,    0,    0,    0]], dtype=int32)"
      ]
     },
     "execution_count": 42,
     "metadata": {},
     "output_type": "execute_result"
    }
   ],
   "source": [
    "padded_seq"
   ]
  },
  {
   "cell_type": "code",
   "execution_count": 18,
   "metadata": {},
   "outputs": [],
   "source": [
    "keras_model = tf.keras.Sequential([\n",
    "    tf.keras.layers.Input(shape=[None], dtype=tf.int32, ragged=True),\n",
    "    tf.keras.layers.Embedding(vocab_size,128),\n",
    "    tf.keras.layers.LSTM(32, use_bias=False),\n",
    "    tf.keras.layers.Dense(128),\n",
    "    tf.keras.layers.Dropout(0.4),\n",
    "    tf.keras.layers.Activation(tf.nn.relu),\n",
    "    tf.keras.layers.Dense(1)\n",
    "])"
   ]
  },
  {
   "cell_type": "code",
   "execution_count": 19,
   "metadata": {},
   "outputs": [
    {
     "name": "stdout",
     "output_type": "stream",
     "text": [
      "(20000, None)\n"
     ]
    },
    {
     "data": {
      "text/plain": [
       "<tf.Tensor: shape=(2,), dtype=int64, numpy=array([20000,    40])>"
      ]
     },
     "execution_count": 19,
     "metadata": {},
     "output_type": "execute_result"
    }
   ],
   "source": [
    "print(r_train_x.shape)\n",
    "r_train_x.bounding_shape()"
   ]
  },
  {
   "cell_type": "code",
   "execution_count": 20,
   "metadata": {},
   "outputs": [
    {
     "name": "stdout",
     "output_type": "stream",
     "text": [
      "Epoch 1/5\n"
     ]
    },
    {
     "name": "stderr",
     "output_type": "stream",
     "text": [
      "/home/vimal/anaconda3/lib/python3.7/site-packages/tensorflow/python/framework/indexed_slices.py:432: UserWarning: Converting sparse IndexedSlices to a dense Tensor of unknown shape. This may consume a large amount of memory.\n",
      "  \"Converting sparse IndexedSlices to a dense Tensor of unknown shape. \"\n"
     ]
    },
    {
     "name": "stdout",
     "output_type": "stream",
     "text": [
      "625/625 [==============================] - 10s 15ms/step - loss: 0.5590 - acc: 0.7819 - val_loss: 0.4189 - val_acc: 0.8404\n",
      "Epoch 2/5\n",
      "625/625 [==============================] - 9s 15ms/step - loss: 0.4271 - acc: 0.8834 - val_loss: 0.4633 - val_acc: 0.8526\n",
      "Epoch 3/5\n",
      "625/625 [==============================] - 10s 15ms/step - loss: 0.4204 - acc: 0.9098 - val_loss: 0.7433 - val_acc: 0.8556\n",
      "Epoch 4/5\n",
      "625/625 [==============================] - 10s 15ms/step - loss: 0.3748 - acc: 0.9285 - val_loss: 0.8404 - val_acc: 0.8506\n",
      "Epoch 5/5\n",
      "625/625 [==============================] - 10s 15ms/step - loss: 0.3716 - acc: 0.9408 - val_loss: 1.0978 - val_acc: 0.8539\n"
     ]
    }
   ],
   "source": [
    "keras_model.compile(optimizer='rmsprop', loss='binary_crossentropy', metrics=['acc'])\n",
    " \n",
    "history = keras_model.fit(r_train_x, training_labels, epochs=5, batch_size=32, validation_data=(r_test_x, testing_labels))\n",
    " "
   ]
  },
  {
   "cell_type": "code",
   "execution_count": null,
   "metadata": {},
   "outputs": [],
   "source": []
  },
  {
   "cell_type": "code",
   "execution_count": 43,
   "metadata": {},
   "outputs": [],
   "source": [
    "model = tf.keras.Sequential()"
   ]
  },
  {
   "cell_type": "code",
   "execution_count": 44,
   "metadata": {},
   "outputs": [],
   "source": [
    "model.add(tf.keras.layers.Embedding(input_dim=vocab_size , output_dim =16 , input_length = max_length))"
   ]
  },
  {
   "cell_type": "code",
   "execution_count": 53,
   "metadata": {},
   "outputs": [
    {
     "name": "stdout",
     "output_type": "stream",
     "text": [
      "(2, 1)\n"
     ]
    }
   ],
   "source": [
    "input_shape = (2, 3,1)\n",
    "x = tf.random.normal(input_shape)\n",
    "y = tf.keras.layers.GlobalAveragePooling1D()(x)\n",
    "print(y.shape)\n"
   ]
  },
  {
   "cell_type": "code",
   "execution_count": 54,
   "metadata": {},
   "outputs": [
    {
     "data": {
      "text/plain": [
       "<tf.Tensor: shape=(2, 3, 1), dtype=float32, numpy=\n",
       "array([[[-0.4110922 ],\n",
       "        [-0.13112582],\n",
       "        [-1.0173143 ]],\n",
       "\n",
       "       [[-1.2841866 ],\n",
       "        [ 1.3487296 ],\n",
       "        [ 0.843433  ]]], dtype=float32)>"
      ]
     },
     "execution_count": 54,
     "metadata": {},
     "output_type": "execute_result"
    }
   ],
   "source": [
    "x"
   ]
  },
  {
   "cell_type": "code",
   "execution_count": 55,
   "metadata": {},
   "outputs": [
    {
     "data": {
      "text/plain": [
       "<tf.Tensor: shape=(2, 1), dtype=float32, numpy=\n",
       "array([[-0.5198441 ],\n",
       "       [ 0.30265868]], dtype=float32)>"
      ]
     },
     "execution_count": 55,
     "metadata": {},
     "output_type": "execute_result"
    }
   ],
   "source": [
    "y"
   ]
  },
  {
   "cell_type": "code",
   "execution_count": 48,
   "metadata": {},
   "outputs": [
    {
     "data": {
      "text/plain": [
       "1.1496666666666666"
      ]
     },
     "execution_count": 48,
     "metadata": {},
     "output_type": "execute_result"
    }
   ],
   "source": [
    "(1.24+0.099+2.11)/3\n"
   ]
  },
  {
   "cell_type": "code",
   "execution_count": 59,
   "metadata": {},
   "outputs": [],
   "source": [
    "def d():\n",
    "    \"\"\"this is a comment\"\"\" \n",
    "    return \"hello\""
   ]
  },
  {
   "cell_type": "code",
   "execution_count": 60,
   "metadata": {},
   "outputs": [
    {
     "data": {
      "text/plain": [
       "'this is a comment'"
      ]
     },
     "execution_count": 60,
     "metadata": {},
     "output_type": "execute_result"
    }
   ],
   "source": [
    "d.__doc__"
   ]
  },
  {
   "cell_type": "code",
   "execution_count": 23,
   "metadata": {},
   "outputs": [
    {
     "name": "stdout",
     "output_type": "stream",
     "text": [
      "[[0.22795716]\n",
      " [0.05749077]]\n"
     ]
    }
   ],
   "source": [
    "sentence = [\"granny starting to fear spiders in the garden might be real\", \"game of thrones season finale showing this sunday night\"]\n",
    "sequences = tk.texts_to_sequences(sentence)\n",
    "sequences = tf.ragged.constant(sequences)\n",
    "#padded = pad_sequences(sequences, maxlen=max_length, padding=padding_type, truncating=trunc_type)\n",
    "print(keras_model.predict(sequences))"
   ]
  },
  {
   "cell_type": "code",
   "execution_count": 1,
   "metadata": {},
   "outputs": [],
   "source": [
    "import numpy as np"
   ]
  },
  {
   "cell_type": "code",
   "execution_count": 2,
   "metadata": {},
   "outputs": [
    {
     "data": {
      "text/plain": [
       "array([104, 101, 108, 108, 111,  32, 104, 111, 119,  32,  97, 114, 101,\n",
       "        32, 121, 111, 117], dtype=int32)"
      ]
     },
     "execution_count": 2,
     "metadata": {},
     "output_type": "execute_result"
    }
   ],
   "source": [
    "txt = \"hello how are you\"\n",
    "np.asarray([ord(c) for c in txt if ord(c) < 255], dtype=np.int32)"
   ]
  },
  {
   "cell_type": "code",
   "execution_count": 5,
   "metadata": {},
   "outputs": [],
   "source": [
    "\n",
    "from numpy import array\n",
    "from tensorflow.keras.models import Sequential\n",
    "from tensorflow.keras.layers import Dense\n",
    "from tensorflow.keras.layers import LSTM\n",
    "# prepare sequence\n",
    "length = 5\n",
    "seq = array([i/float(length) for i in range(length)])\n",
    "X = seq.reshape(1, length, 1)"
   ]
  },
  {
   "cell_type": "code",
   "execution_count": 6,
   "metadata": {},
   "outputs": [
    {
     "data": {
      "text/plain": [
       "array([0. , 0.2, 0.4, 0.6, 0.8])"
      ]
     },
     "execution_count": 6,
     "metadata": {},
     "output_type": "execute_result"
    }
   ],
   "source": [
    "seq"
   ]
  },
  {
   "cell_type": "code",
   "execution_count": 7,
   "metadata": {},
   "outputs": [
    {
     "data": {
      "text/plain": [
       "array([[[0. ],\n",
       "        [0.2],\n",
       "        [0.4],\n",
       "        [0.6],\n",
       "        [0.8]]])"
      ]
     },
     "execution_count": 7,
     "metadata": {},
     "output_type": "execute_result"
    }
   ],
   "source": [
    "X"
   ]
  },
  {
   "cell_type": "code",
   "execution_count": 8,
   "metadata": {},
   "outputs": [],
   "source": [
    "import tensorflow as tf"
   ]
  },
  {
   "cell_type": "code",
   "execution_count": 18,
   "metadata": {},
   "outputs": [
    {
     "data": {
      "text/plain": [
       "True"
      ]
     },
     "execution_count": 18,
     "metadata": {},
     "output_type": "execute_result"
    }
   ],
   "source": [
    "import cv2\n",
    "\n",
    "# load images\n",
    "image1 = cv2.imread(\"left.jpg\")\n",
    "image2 = cv2.imread(\"right.jpg\")\n",
    "\n",
    "# compute difference\n",
    "difference = cv2.subtract(image1, image2)\n",
    "\n",
    "# color the mask red\n",
    "Conv_hsv_Gray = cv2.cvtColor(difference, cv2.COLOR_BGR2GRAY)\n",
    "ret, mask = cv2.threshold(Conv_hsv_Gray, 0, 255,cv2.THRESH_BINARY_INV |cv2.THRESH_OTSU)\n",
    "difference[mask != 255] = [0, 0, 255]\n",
    "\n",
    "# add the red mask to the images to make the differences obvious\n",
    "image1[mask != 255] = [0, 0, 255]\n",
    "image2[mask != 255] = [0, 0, 255]\n",
    "\n",
    "# store images\n",
    "cv2.imwrite('diffOverImage1.png', image1)\n",
    "cv2.imwrite('diffOverImage2.png', image1)\n",
    "cv2.imwrite('diff.png', difference)"
   ]
  },
  {
   "cell_type": "code",
   "execution_count": 1,
   "metadata": {},
   "outputs": [],
   "source": [
    "import cv2"
   ]
  },
  {
   "cell_type": "code",
   "execution_count": 2,
   "metadata": {},
   "outputs": [],
   "source": [
    "l = cv2.imread('left.jpg')\n",
    "r = cv2.imread('right.jpg')"
   ]
  },
  {
   "cell_type": "code",
   "execution_count": 3,
   "metadata": {},
   "outputs": [],
   "source": [
    "dff = cv2.subtract(l,r)"
   ]
  },
  {
   "cell_type": "code",
   "execution_count": 23,
   "metadata": {},
   "outputs": [
    {
     "ename": "NameError",
     "evalue": "name 'dffcv2' is not defined",
     "output_type": "error",
     "traceback": [
      "\u001b[0;31m---------------------------------------------------------------------------\u001b[0m",
      "\u001b[0;31mNameError\u001b[0m                                 Traceback (most recent call last)",
      "\u001b[0;32m<ipython-input-23-d6e1945e4b3e>\u001b[0m in \u001b[0;36m<module>\u001b[0;34m\u001b[0m\n\u001b[0;32m----> 1\u001b[0;31m \u001b[0;34m-\u001b[0m\u001b[0mdffcv2\u001b[0m\u001b[0;34m.\u001b[0m\u001b[0mimwrite\u001b[0m\u001b[0;34m(\u001b[0m\u001b[0;34m'dff.jpg'\u001b[0m\u001b[0;34m,\u001b[0m\u001b[0mdff\u001b[0m\u001b[0;34m)\u001b[0m\u001b[0;34m\u001b[0m\u001b[0;34m\u001b[0m\u001b[0m\n\u001b[0m",
      "\u001b[0;31mNameError\u001b[0m: name 'dffcv2' is not defined"
     ]
    }
   ],
   "source": [
    "cv2.imwrite('dff.jpg',dff)"
   ]
  },
  {
   "cell_type": "code",
   "execution_count": null,
   "metadata": {},
   "outputs": [],
   "source": []
  },
  {
   "cell_type": "code",
   "execution_count": 4,
   "metadata": {},
   "outputs": [],
   "source": [
    "Conv_hsv_Gray = cv2.cvtColor(dff, cv2.COLOR_BGR2GRAY)"
   ]
  },
  {
   "cell_type": "code",
   "execution_count": 17,
   "metadata": {},
   "outputs": [
    {
     "data": {
      "text/plain": [
       "(667, 500, 3)"
      ]
     },
     "execution_count": 17,
     "metadata": {},
     "output_type": "execute_result"
    }
   ],
   "source": [
    "dff.shape"
   ]
  },
  {
   "cell_type": "code",
   "execution_count": 14,
   "metadata": {},
   "outputs": [
    {
     "data": {
      "text/plain": [
       "(667, 500)"
      ]
     },
     "execution_count": 14,
     "metadata": {},
     "output_type": "execute_result"
    }
   ],
   "source": [
    "mask.shape"
   ]
  },
  {
   "cell_type": "code",
   "execution_count": 12,
   "metadata": {},
   "outputs": [
    {
     "data": {
      "text/plain": [
       "array([[ True,  True, False, ...,  True,  True, False],\n",
       "       [ True,  True, False, ...,  True,  True, False],\n",
       "       [False,  True, False, ...,  True,  True, False],\n",
       "       ...,\n",
       "       [ True,  True,  True, ...,  True,  True,  True],\n",
       "       [ True,  True,  True, ...,  True,  True,  True],\n",
       "       [ True,  True,  True, ...,  True,  True,  True]])"
      ]
     },
     "execution_count": 12,
     "metadata": {},
     "output_type": "execute_result"
    }
   ],
   "source": [
    "mask != 255"
   ]
  },
  {
   "cell_type": "code",
   "execution_count": 10,
   "metadata": {},
   "outputs": [
    {
     "data": {
      "text/plain": [
       "(318162, 3)"
      ]
     },
     "execution_count": 10,
     "metadata": {},
     "output_type": "execute_result"
    }
   ],
   "source": [
    "dff[mask != 255].shape"
   ]
  },
  {
   "cell_type": "code",
   "execution_count": 9,
   "metadata": {},
   "outputs": [
    {
     "data": {
      "text/plain": [
       "True"
      ]
     },
     "execution_count": 9,
     "metadata": {},
     "output_type": "execute_result"
    }
   ],
   "source": [
    "cv2.imwrite('dff_grey.jpg',Conv_hsv_Gray)"
   ]
  },
  {
   "cell_type": "code",
   "execution_count": 7,
   "metadata": {},
   "outputs": [],
   "source": [
    "ret, mask = cv2.threshold(Conv_hsv_Gray, 0, 255,cv2.THRESH_OTSU)"
   ]
  },
  {
   "cell_type": "code",
   "execution_count": 16,
   "metadata": {},
   "outputs": [],
   "source": [
    "dff[mask != 255] = [0, 0, 255]"
   ]
  },
  {
   "cell_type": "code",
   "execution_count": 27,
   "metadata": {},
   "outputs": [
    {
     "data": {
      "text/plain": [
       "True"
      ]
     },
     "execution_count": 27,
     "metadata": {},
     "output_type": "execute_result"
    }
   ],
   "source": [
    "cv2.imwrite('masked_dff.jpg',dff)"
   ]
  },
  {
   "cell_type": "code",
   "execution_count": 5,
   "metadata": {},
   "outputs": [],
   "source": [
    "from skimage.metrics import structural_similarity as ssim\n",
    "from skimage.measure import compare_ssim"
   ]
  },
  {
   "cell_type": "code",
   "execution_count": 6,
   "metadata": {},
   "outputs": [
    {
     "data": {
      "text/plain": [
       "1.0"
      ]
     },
     "execution_count": 6,
     "metadata": {},
     "output_type": "execute_result"
    }
   ],
   "source": [
    "ssim(bl,bl)"
   ]
  },
  {
   "cell_type": "code",
   "execution_count": 7,
   "metadata": {},
   "outputs": [
    {
     "name": "stdout",
     "output_type": "stream",
     "text": [
      "SSIM: 0.919886303405502\n"
     ]
    },
    {
     "name": "stderr",
     "output_type": "stream",
     "text": [
      "/home/vimal/anaconda3/lib/python3.7/site-packages/ipykernel_launcher.py:1: UserWarning: DEPRECATED: skimage.measure.compare_ssim has been moved to skimage.metrics.structural_similarity. It will be removed from skimage.measure in version 0.18.\n",
      "  \"\"\"Entry point for launching an IPython kernel.\n"
     ]
    }
   ],
   "source": [
    "(score, diff) = compare_ssim(bl, rl, full=True)\n",
    "diff = (diff * 255).astype(\"uint8\")\n",
    "print(\"SSIM: {}\".format(score))"
   ]
  },
  {
   "cell_type": "code",
   "execution_count": 8,
   "metadata": {},
   "outputs": [],
   "source": [
    "# threshold the difference image, followed by finding contours to\n",
    "# obtain the regions of the two input images that differ\n",
    "import imutils\n",
    "thresh = cv2.threshold(diff, 0, 255,\n",
    "\tcv2.THRESH_BINARY_INV | cv2.THRESH_OTSU)[1]\n",
    "cnts = cv2.findContours(thresh.copy(), cv2.RETR_EXTERNAL,\n",
    "\tcv2.CHAIN_APPROX_SIMPLE)\n",
    "cnts = imutils.grab_contours(cnts)"
   ]
  },
  {
   "cell_type": "code",
   "execution_count": 9,
   "metadata": {},
   "outputs": [],
   "source": [
    "# loop over the contours\n",
    "for c in cnts:\n",
    "\t# compute the bounding box of the contour and then draw the\n",
    "\t# bounding box on both input images to represent where the two\n",
    "\t# images differ\n",
    "\t(x, y, w, h) = cv2.boundingRect(c)\n",
    "\tcv2.rectangle(l, (x, y), (x + w, y + h), (0, 0, 255), 2)\n",
    "\tcv2.rectangle(r, (x, y), (x + w, y + h), (0, 0, 255), 2)\n",
    "# show the output images\n",
    "cv2.imshow(\"Original\", l)\n",
    "cv2.imshow(\"Modified\", r)\n",
    "cv2.imshow(\"Diff\", diff)\n",
    "cv2.imshow(\"Thresh\", thresh)\n",
    "cv2.waitKey(0)\n",
    "cv2.destroyAllWindows()"
   ]
  },
  {
   "cell_type": "code",
   "execution_count": 1,
   "metadata": {},
   "outputs": [],
   "source": [
    "import cv2\n",
    "import numpy as np"
   ]
  },
  {
   "cell_type": "code",
   "execution_count": 2,
   "metadata": {},
   "outputs": [],
   "source": [
    "im = cv2.imread('roots.jpg')"
   ]
  },
  {
   "cell_type": "code",
   "execution_count": 4,
   "metadata": {},
   "outputs": [],
   "source": [
    "cv2.imshow(\"Thresh\", im)\n",
    "cv2.waitKey(0)\n",
    "cv2.destroyAllWindows()"
   ]
  },
  {
   "cell_type": "code",
   "execution_count": 5,
   "metadata": {},
   "outputs": [
    {
     "data": {
      "text/plain": [
       "(400, 602, 3)"
      ]
     },
     "execution_count": 5,
     "metadata": {},
     "output_type": "execute_result"
    }
   ],
   "source": [
    "im.shape"
   ]
  },
  {
   "cell_type": "code",
   "execution_count": 11,
   "metadata": {},
   "outputs": [],
   "source": [
    "im2 = np.array([i if i>128 else 0 for i in im.reshape(-1,1) ])"
   ]
  },
  {
   "cell_type": "code",
   "execution_count": 14,
   "metadata": {},
   "outputs": [],
   "source": [
    "im2 = im2.reshape(400, 602, 3)"
   ]
  },
  {
   "cell_type": "code",
   "execution_count": 16,
   "metadata": {},
   "outputs": [
    {
     "data": {
      "text/plain": [
       "(400, 602, 3)"
      ]
     },
     "execution_count": 16,
     "metadata": {},
     "output_type": "execute_result"
    }
   ],
   "source": [
    "im2.shape"
   ]
  },
  {
   "cell_type": "code",
   "execution_count": 17,
   "metadata": {},
   "outputs": [],
   "source": [
    "im2=np.uint8(im2)"
   ]
  },
  {
   "cell_type": "code",
   "execution_count": 3,
   "metadata": {},
   "outputs": [],
   "source": [
    "im[im < 128] = 0"
   ]
  },
  {
   "cell_type": "code",
   "execution_count": 9,
   "metadata": {},
   "outputs": [
    {
     "data": {
      "text/plain": [
       "array([[ True,  True,  True],\n",
       "       [ True,  True,  True],\n",
       "       [ True,  True,  True]])"
      ]
     },
     "execution_count": 9,
     "metadata": {},
     "output_type": "execute_result"
    }
   ],
   "source": [
    "np.ones((3,3), dtype=\"bool\")"
   ]
  },
  {
   "cell_type": "code",
   "execution_count": 48,
   "metadata": {},
   "outputs": [],
   "source": [
    "rem = cv2.imread('remote-control.jpg')"
   ]
  },
  {
   "cell_type": "code",
   "execution_count": 51,
   "metadata": {},
   "outputs": [],
   "source": [
    "cv2.imshow('rem',rem)\n",
    "cv2.waitKey(0)\n",
    "cv2.destroyAllWindows()"
   ]
  },
  {
   "cell_type": "code",
   "execution_count": 12,
   "metadata": {},
   "outputs": [
    {
     "data": {
      "text/plain": [
       "(1936, 2592, 3)"
      ]
     },
     "execution_count": 12,
     "metadata": {},
     "output_type": "execute_result"
    }
   ],
   "source": [
    "rem.shape"
   ]
  },
  {
   "cell_type": "code",
   "execution_count": 22,
   "metadata": {},
   "outputs": [],
   "source": [
    "blank = np.ones((rem.shape[:2]),dtype='bool')"
   ]
  },
  {
   "cell_type": "code",
   "execution_count": 44,
   "metadata": {},
   "outputs": [
    {
     "data": {
      "text/plain": [
       "True"
      ]
     },
     "execution_count": 44,
     "metadata": {},
     "output_type": "execute_result"
    }
   ],
   "source": [
    "blank[0,0]"
   ]
  },
  {
   "cell_type": "code",
   "execution_count": 39,
   "metadata": {},
   "outputs": [],
   "source": [
    "rec = cv2.rectangle(rem,(125,145),(1667,1557),(0,255,0),3)"
   ]
  },
  {
   "cell_type": "code",
   "execution_count": 49,
   "metadata": {},
   "outputs": [],
   "source": [
    "blank[125:1667,145:1557] = False"
   ]
  },
  {
   "cell_type": "code",
   "execution_count": 50,
   "metadata": {},
   "outputs": [],
   "source": [
    "rem[blank] = 0"
   ]
  },
  {
   "cell_type": "code",
   "execution_count": 52,
   "metadata": {},
   "outputs": [],
   "source": [
    "shapes = cv2.imread('shapes.jpg')"
   ]
  },
  {
   "cell_type": "code",
   "execution_count": 64,
   "metadata": {},
   "outputs": [],
   "source": [
    "cv2.imshow('shapes',sel)\n",
    "cv2.waitKey(0)\n",
    "cv2.destroyAllWindows()"
   ]
  },
  {
   "cell_type": "code",
   "execution_count": 54,
   "metadata": {},
   "outputs": [],
   "source": [
    "shapes[shapes > 200] = 0"
   ]
  },
  {
   "cell_type": "code",
   "execution_count": 58,
   "metadata": {},
   "outputs": [],
   "source": [
    "sbw = cv2.cvtColor(shapes  , cv2.COLOR_BGR2GRAY)"
   ]
  },
  {
   "cell_type": "code",
   "execution_count": 65,
   "metadata": {},
   "outputs": [],
   "source": [
    "sel = np.zeros_like(sbw)"
   ]
  },
  {
   "cell_type": "code",
   "execution_count": 61,
   "metadata": {},
   "outputs": [],
   "source": [
    "mask = sbw[sbw > 50]"
   ]
  },
  {
   "cell_type": "code",
   "execution_count": 66,
   "metadata": {},
   "outputs": [
    {
     "ename": "ValueError",
     "evalue": "shape mismatch: value array of shape (166468,767,3) could not be broadcast to indexing result of shape (166468,767)",
     "output_type": "error",
     "traceback": [
      "\u001b[0;31m---------------------------------------------------------------------------\u001b[0m",
      "\u001b[0;31mValueError\u001b[0m                                Traceback (most recent call last)",
      "\u001b[0;32m<ipython-input-66-1d159c5d2aaf>\u001b[0m in \u001b[0;36m<module>\u001b[0;34m\u001b[0m\n\u001b[0;32m----> 1\u001b[0;31m \u001b[0msel\u001b[0m\u001b[0;34m[\u001b[0m\u001b[0mmask\u001b[0m\u001b[0;34m]\u001b[0m \u001b[0;34m=\u001b[0m \u001b[0mshapes\u001b[0m\u001b[0;34m[\u001b[0m\u001b[0mmask\u001b[0m\u001b[0;34m]\u001b[0m\u001b[0;34m\u001b[0m\u001b[0;34m\u001b[0m\u001b[0m\n\u001b[0m",
      "\u001b[0;31mValueError\u001b[0m: shape mismatch: value array of shape (166468,767,3) could not be broadcast to indexing result of shape (166468,767)"
     ]
    }
   ],
   "source": [
    "sel[mask] = shapes[mask]"
   ]
  },
  {
   "cell_type": "code",
   "execution_count": null,
   "metadata": {},
   "outputs": [],
   "source": []
  }
 ],
 "metadata": {
  "kernelspec": {
   "display_name": "Python 3",
   "language": "python",
   "name": "python3"
  },
  "language_info": {
   "codemirror_mode": {
    "name": "ipython",
    "version": 3
   },
   "file_extension": ".py",
   "mimetype": "text/x-python",
   "name": "python",
   "nbconvert_exporter": "python",
   "pygments_lexer": "ipython3",
   "version": "3.7.3"
  }
 },
 "nbformat": 4,
 "nbformat_minor": 2
}
