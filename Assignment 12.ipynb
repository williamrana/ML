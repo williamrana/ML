{
 "cells": [
  {
   "cell_type": "markdown",
   "metadata": {
    "colab_type": "text",
    "id": "UTJmsXnXQKbG"
   },
   "source": [
    "## Keras -- MLPs on MNIST"
   ]
  },
  {
   "cell_type": "code",
   "execution_count": 1,
   "metadata": {},
   "outputs": [
    {
     "name": "stdout",
     "output_type": "stream",
     "text": [
      "[name: \"/device:CPU:0\"\n",
      "device_type: \"CPU\"\n",
      "memory_limit: 268435456\n",
      "locality {\n",
      "}\n",
      "incarnation: 8446053890093840833\n",
      ", name: \"/device:XLA_CPU:0\"\n",
      "device_type: \"XLA_CPU\"\n",
      "memory_limit: 17179869184\n",
      "locality {\n",
      "}\n",
      "incarnation: 3066683593371740948\n",
      "physical_device_desc: \"device: XLA_CPU device\"\n",
      "]\n"
     ]
    }
   ],
   "source": [
    "from tensorflow.python.client import device_lib\n",
    "print(device_lib.list_local_devices())"
   ]
  },
  {
   "cell_type": "code",
   "execution_count": 2,
   "metadata": {
    "colab": {
     "base_uri": "https://localhost:8080/",
     "height": 33
    },
    "colab_type": "code",
    "executionInfo": {
     "elapsed": 8880,
     "status": "ok",
     "timestamp": 1532670072534,
     "user": {
      "displayName": "Applied AI Course",
      "photoUrl": "//lh3.googleusercontent.com/-EsJzSyawCkQ/AAAAAAAAAAI/AAAAAAAAAWk/jhKHALKaHag/s50-c-k-no/photo.jpg",
      "userId": "116292885805316472049"
     },
     "user_tz": -330
    },
    "id": "2UILABPAQKbH",
    "outputId": "10fbb305-017f-45e7-ab0c-8787e2224880"
   },
   "outputs": [],
   "source": [
    "# if you keras is not using tensorflow as backend set \"KERAS_BACKEND=tensorflow\" use this command\n",
    "from tensorflow.python.keras.utils import np_utils \n",
    "from tensorflow.python.keras.datasets import mnist \n",
    "import seaborn as sns\n",
    "from tensorflow.python.keras.initializers import RandomNormal"
   ]
  },
  {
   "cell_type": "code",
   "execution_count": 3,
   "metadata": {
    "colab": {},
    "colab_type": "code",
    "id": "lOO-TM_7QKbM"
   },
   "outputs": [],
   "source": [
    "%matplotlib notebook\n",
    "import matplotlib.pyplot as plt\n",
    "import numpy as np\n",
    "import time\n",
    "# https://gist.github.com/greydanus/f6eee59eaf1d90fcb3b534a25362cea4\n",
    "# https://stackoverflow.com/a/14434334\n",
    "# this function is used to update the plots for each epoch and error\n",
    "def plt_dynamic(x, vy, ty, ax, colors=['b']):\n",
    "    ax.plot(x, vy, 'b', label=\"Validation Loss\")\n",
    "    ax.plot(x, ty, 'r', label=\"Train Loss\")\n",
    "    plt.legend()\n",
    "    plt.grid()\n",
    "    fig.canvas.draw()"
   ]
  },
  {
   "cell_type": "code",
   "execution_count": 4,
   "metadata": {
    "colab": {
     "base_uri": "https://localhost:8080/",
     "height": 50
    },
    "colab_type": "code",
    "executionInfo": {
     "elapsed": 4700,
     "status": "ok",
     "timestamp": 1532670084617,
     "user": {
      "displayName": "Applied AI Course",
      "photoUrl": "//lh3.googleusercontent.com/-EsJzSyawCkQ/AAAAAAAAAAI/AAAAAAAAAWk/jhKHALKaHag/s50-c-k-no/photo.jpg",
      "userId": "116292885805316472049"
     },
     "user_tz": -330
    },
    "id": "TKmYKnibQKbQ",
    "outputId": "d861b5ef-2bba-4884-fec3-43f1b6e5646a"
   },
   "outputs": [],
   "source": [
    "# the data, shuffled and split between train and test sets \n",
    "(X_train, y_train), (X_test, y_test) = mnist.load_data()"
   ]
  },
  {
   "cell_type": "code",
   "execution_count": 5,
   "metadata": {
    "colab": {
     "base_uri": "https://localhost:8080/",
     "height": 50
    },
    "colab_type": "code",
    "executionInfo": {
     "elapsed": 1000,
     "status": "ok",
     "timestamp": 1532670089916,
     "user": {
      "displayName": "Applied AI Course",
      "photoUrl": "//lh3.googleusercontent.com/-EsJzSyawCkQ/AAAAAAAAAAI/AAAAAAAAAWk/jhKHALKaHag/s50-c-k-no/photo.jpg",
      "userId": "116292885805316472049"
     },
     "user_tz": -330
    },
    "id": "CCwnZae-QKbT",
    "outputId": "b5f379d4-7ebc-4112-96c5-1a4c2ab4a97c"
   },
   "outputs": [
    {
     "name": "stdout",
     "output_type": "stream",
     "text": [
      "Number of training examples : 60000 and each image is of shape (28, 28)\n",
      "Number of training examples : 10000 and each image is of shape (28, 28)\n"
     ]
    }
   ],
   "source": [
    "print(\"Number of training examples :\", X_train.shape[0], \"and each image is of shape (%d, %d)\"%(X_train.shape[1], X_train.shape[2]))\n",
    "print(\"Number of training examples :\", X_test.shape[0], \"and each image is of shape (%d, %d)\"%(X_test.shape[1], X_test.shape[2]))"
   ]
  },
  {
   "cell_type": "code",
   "execution_count": 6,
   "metadata": {
    "colab": {},
    "colab_type": "code",
    "id": "BlotuCmoQKbW"
   },
   "outputs": [],
   "source": [
    "# if you observe the input shape its 2 dimensional vector\n",
    "# for each image we have a (28*28) vector\n",
    "# we will convert the (28*28) vector into single dimensional vector of 1 * 784 \n",
    "\n",
    "X_train = X_train.reshape(X_train.shape[0], X_train.shape[1]*X_train.shape[2]) \n",
    "X_test = X_test.reshape(X_test.shape[0], X_test.shape[1]*X_test.shape[2]) "
   ]
  },
  {
   "cell_type": "code",
   "execution_count": 7,
   "metadata": {
    "colab": {
     "base_uri": "https://localhost:8080/",
     "height": 50
    },
    "colab_type": "code",
    "executionInfo": {
     "elapsed": 1001,
     "status": "ok",
     "timestamp": 1532670095751,
     "user": {
      "displayName": "Applied AI Course",
      "photoUrl": "//lh3.googleusercontent.com/-EsJzSyawCkQ/AAAAAAAAAAI/AAAAAAAAAWk/jhKHALKaHag/s50-c-k-no/photo.jpg",
      "userId": "116292885805316472049"
     },
     "user_tz": -330
    },
    "id": "8JvpNJy4QKbY",
    "outputId": "cf0b2d6d-4976-45d3-a4ad-53b2ba3eed49"
   },
   "outputs": [
    {
     "name": "stdout",
     "output_type": "stream",
     "text": [
      "Number of training examples : 60000 and each image is of shape (784)\n",
      "Number of training examples : 10000 and each image is of shape (784)\n"
     ]
    }
   ],
   "source": [
    "# after converting the input images from 3d to 2d vectors\n",
    "\n",
    "print(\"Number of training examples :\", X_train.shape[0], \"and each image is of shape (%d)\"%(X_train.shape[1]))\n",
    "print(\"Number of training examples :\", X_test.shape[0], \"and each image is of shape (%d)\"%(X_test.shape[1]))"
   ]
  },
  {
   "cell_type": "code",
   "execution_count": 8,
   "metadata": {
    "colab": {},
    "colab_type": "code",
    "id": "lfohtdKPQKbd"
   },
   "outputs": [],
   "source": [
    "# if we observe the above matrix each cell is having a value between 0-255\n",
    "# before we move to apply machine learning algorithms lets try to normalize the data\n",
    "# X => (X - Xmin)/(Xmax-Xmin) = X/255\n",
    "\n",
    "X_train = X_train/255\n",
    "X_test = X_test/255"
   ]
  },
  {
   "cell_type": "code",
   "execution_count": 9,
   "metadata": {
    "colab": {
     "base_uri": "https://localhost:8080/",
     "height": 50
    },
    "colab_type": "code",
    "executionInfo": {
     "elapsed": 1026,
     "status": "ok",
     "timestamp": 1532670116894,
     "user": {
      "displayName": "Applied AI Course",
      "photoUrl": "//lh3.googleusercontent.com/-EsJzSyawCkQ/AAAAAAAAAAI/AAAAAAAAAWk/jhKHALKaHag/s50-c-k-no/photo.jpg",
      "userId": "116292885805316472049"
     },
     "user_tz": -330
    },
    "id": "3Ruu-vXzQKbi",
    "outputId": "95160c17-cdc3-4127-c834-e64ce0ac9cc1"
   },
   "outputs": [
    {
     "name": "stdout",
     "output_type": "stream",
     "text": [
      "Class label of first image : 5\n",
      "After converting the output into a vector :  [0. 0. 0. 0. 0. 1. 0. 0. 0. 0.]\n"
     ]
    }
   ],
   "source": [
    "# here we are having a class number for each image\n",
    "print(\"Class label of first image :\", y_train[0])\n",
    "\n",
    "# lets convert this into a 10 dimensional vector\n",
    "# ex: consider an image is 5 convert it into 5 => [0, 0, 0, 0, 0, 1, 0, 0, 0, 0]\n",
    "# this conversion needed for MLPs \n",
    "\n",
    "Y_train = np_utils.to_categorical(y_train, 10) \n",
    "Y_test = np_utils.to_categorical(y_test, 10)\n",
    "\n",
    "print(\"After converting the output into a vector : \",Y_train[0])"
   ]
  },
  {
   "cell_type": "markdown",
   "metadata": {
    "colab_type": "text",
    "id": "u0pWB6UyQKbk"
   },
   "source": [
    "<h2>  Model 1"
   ]
  },
  {
   "cell_type": "code",
   "execution_count": 10,
   "metadata": {
    "colab": {},
    "colab_type": "code",
    "id": "tLAGMubCQKbm"
   },
   "outputs": [],
   "source": [
    "from tensorflow.python import keras as keras\n",
    "from tensorflow.python.keras.models import Sequential \n",
    "from tensorflow.python.keras.layers import Dense, Activation , Dropout\n"
   ]
  },
  {
   "cell_type": "code",
   "execution_count": 11,
   "metadata": {
    "colab": {},
    "colab_type": "code",
    "id": "I0s7jzhVQKbn"
   },
   "outputs": [],
   "source": [
    "# some model parameters\n",
    "\n",
    "output_dim = 10\n",
    "input_dim = X_train.shape[1]\n",
    "\n",
    "batch_size = 128 \n",
    "nb_epoch = 10"
   ]
  },
  {
   "cell_type": "code",
   "execution_count": 12,
   "metadata": {
    "colab": {},
    "colab_type": "code",
    "id": "HdQg5wGDQKbr"
   },
   "outputs": [
    {
     "name": "stderr",
     "output_type": "stream",
     "text": [
      "WARNING: Logging before flag parsing goes to stderr.\n",
      "W0906 09:49:46.691827 140068600190784 deprecation.py:506] From /home/vimal/anaconda3/lib/python3.7/site-packages/tensorflow/python/ops/init_ops.py:1251: calling VarianceScaling.__init__ (from tensorflow.python.ops.init_ops) with dtype is deprecated and will be removed in a future version.\n",
      "Instructions for updating:\n",
      "Call initializer instance with the dtype argument instead of passing it to the constructor\n"
     ]
    },
    {
     "name": "stdout",
     "output_type": "stream",
     "text": [
      "Model: \"sequential\"\n",
      "_________________________________________________________________\n",
      "Layer (type)                 Output Shape              Param #   \n",
      "=================================================================\n",
      "dense (Dense)                (None, 512)               401920    \n",
      "_________________________________________________________________\n",
      "dense_1 (Dense)              (None, 128)               65664     \n",
      "_________________________________________________________________\n",
      "dense_2 (Dense)              (None, 10)                1290      \n",
      "=================================================================\n",
      "Total params: 468,874\n",
      "Trainable params: 468,874\n",
      "Non-trainable params: 0\n",
      "_________________________________________________________________\n"
     ]
    }
   ],
   "source": [
    "# start building a model\n",
    "model = Sequential()\n",
    "model.add(Dense(512, activation='sigmoid', input_shape=(input_dim,)))\n",
    "model.add(Dense(128, activation='sigmoid'))\n",
    "model.add(Dense(output_dim, activation='softmax'))\n",
    "\n",
    "model.summary()"
   ]
  },
  {
   "cell_type": "code",
   "execution_count": 13,
   "metadata": {
    "colab": {
     "base_uri": "https://localhost:8080/",
     "height": 722
    },
    "colab_type": "code",
    "executionInfo": {
     "elapsed": 43776,
     "status": "ok",
     "timestamp": 1532670180018,
     "user": {
      "displayName": "Applied AI Course",
      "photoUrl": "//lh3.googleusercontent.com/-EsJzSyawCkQ/AAAAAAAAAAI/AAAAAAAAAWk/jhKHALKaHag/s50-c-k-no/photo.jpg",
      "userId": "116292885805316472049"
     },
     "user_tz": -330
    },
    "id": "EVA11VpmQKbt",
    "outputId": "08359e28-6c25-49ff-c806-248b1fa79a25"
   },
   "outputs": [
    {
     "name": "stdout",
     "output_type": "stream",
     "text": [
      "Train on 60000 samples, validate on 10000 samples\n",
      "Epoch 1/10\n",
      "60000/60000 [==============================] - 3s 52us/sample - loss: 0.5444 - acc: 0.8600 - val_loss: 0.2513 - val_acc: 0.9271\n",
      "Epoch 2/10\n",
      "60000/60000 [==============================] - 3s 48us/sample - loss: 0.2214 - acc: 0.9343 - val_loss: 0.1933 - val_acc: 0.9444\n",
      "Epoch 3/10\n",
      "60000/60000 [==============================] - 3s 48us/sample - loss: 0.1634 - acc: 0.9524 - val_loss: 0.1475 - val_acc: 0.9561\n",
      "Epoch 4/10\n",
      "60000/60000 [==============================] - 3s 50us/sample - loss: 0.1255 - acc: 0.9628 - val_loss: 0.1216 - val_acc: 0.9644\n",
      "Epoch 5/10\n",
      "60000/60000 [==============================] - 3s 48us/sample - loss: 0.0995 - acc: 0.9708 - val_loss: 0.0997 - val_acc: 0.9690\n",
      "Epoch 6/10\n",
      "60000/60000 [==============================] - 3s 48us/sample - loss: 0.0791 - acc: 0.9772 - val_loss: 0.0855 - val_acc: 0.9737\n",
      "Epoch 7/10\n",
      "60000/60000 [==============================] - 3s 49us/sample - loss: 0.0633 - acc: 0.9816 - val_loss: 0.0802 - val_acc: 0.9751\n",
      "Epoch 8/10\n",
      "60000/60000 [==============================] - 3s 48us/sample - loss: 0.0518 - acc: 0.9845 - val_loss: 0.0723 - val_acc: 0.9762\n",
      "Epoch 9/10\n",
      "60000/60000 [==============================] - 3s 50us/sample - loss: 0.0414 - acc: 0.9879 - val_loss: 0.0679 - val_acc: 0.9798\n",
      "Epoch 10/10\n",
      "60000/60000 [==============================] - 3s 48us/sample - loss: 0.0339 - acc: 0.9903 - val_loss: 0.0678 - val_acc: 0.9789\n"
     ]
    }
   ],
   "source": [
    "\n",
    "\n",
    "model.compile(optimizer='adam', loss='categorical_crossentropy', metrics=['accuracy'])\n",
    "history = model.fit(X_train, Y_train, batch_size=batch_size, epochs=nb_epoch, verbose=1, validation_data=(X_test, Y_test)) \n"
   ]
  },
  {
   "cell_type": "code",
   "execution_count": 14,
   "metadata": {},
   "outputs": [
    {
     "name": "stdout",
     "output_type": "stream",
     "text": [
      "Test loss: 0.06783973545711487\n",
      "Test accuracy: 0.9789\n"
     ]
    }
   ],
   "source": [
    "score = model.evaluate(X_test, Y_test, verbose=0)\n",
    "print('Test loss:', score[0])\n",
    "print('Test accuracy:', score[1])"
   ]
  },
  {
   "cell_type": "markdown",
   "metadata": {
    "colab_type": "text",
    "id": "eh4VWYrHQKbz"
   },
   "source": [
    " <h3> Model2"
   ]
  },
  {
   "cell_type": "code",
   "execution_count": 15,
   "metadata": {
    "colab": {
     "base_uri": "https://localhost:8080/",
     "height": 234
    },
    "colab_type": "code",
    "executionInfo": {
     "elapsed": 1062,
     "status": "ok",
     "timestamp": 1532672535990,
     "user": {
      "displayName": "Applied AI Course",
      "photoUrl": "//lh3.googleusercontent.com/-EsJzSyawCkQ/AAAAAAAAAAI/AAAAAAAAAWk/jhKHALKaHag/s50-c-k-no/photo.jpg",
      "userId": "116292885805316472049"
     },
     "user_tz": -330
    },
    "id": "7rzbngqHQKbz",
    "outputId": "c7b2d034-a61d-4676-91ca-1e2f0c8a20c0"
   },
   "outputs": [
    {
     "name": "stdout",
     "output_type": "stream",
     "text": [
      "_________________________________________________________________\n",
      "Layer (type)                 Output Shape              Param #   \n",
      "=================================================================\n",
      "dense_3 (Dense)              (None, 256)               200960    \n",
      "_________________________________________________________________\n",
      "dense_4 (Dense)              (None, 256)               65792     \n",
      "_________________________________________________________________\n",
      "dense_5 (Dense)              (None, 10)                2570      \n",
      "=================================================================\n",
      "Total params: 269,322\n",
      "Trainable params: 269,322\n",
      "Non-trainable params: 0\n",
      "_________________________________________________________________\n"
     ]
    }
   ],
   "source": [
    "# Multilayer perceptron\n",
    "\n",
    "# start building a model\n",
    "model2 = Sequential()\n",
    "model2.add(Dense(256, activation='relu', input_shape=(input_dim,)))\n",
    "model2.add(Dense(256,activation='relu'))\n",
    "model2.add(Dense(output_dim, activation='softmax'))\n",
    "\n",
    "model2.summary()"
   ]
  },
  {
   "cell_type": "code",
   "execution_count": 16,
   "metadata": {
    "colab": {
     "base_uri": "https://localhost:8080/",
     "height": 722
    },
    "colab_type": "code",
    "executionInfo": {
     "elapsed": 50953,
     "status": "ok",
     "timestamp": 1532672588508,
     "user": {
      "displayName": "Applied AI Course",
      "photoUrl": "//lh3.googleusercontent.com/-EsJzSyawCkQ/AAAAAAAAAAI/AAAAAAAAAWk/jhKHALKaHag/s50-c-k-no/photo.jpg",
      "userId": "116292885805316472049"
     },
     "user_tz": -330
    },
    "id": "48vVImSpQKb5",
    "outputId": "989df292-6e16-4eca-cfcb-b193ca431f72"
   },
   "outputs": [
    {
     "name": "stdout",
     "output_type": "stream",
     "text": [
      "Train on 60000 samples, validate on 10000 samples\n",
      "Epoch 1/10\n",
      "60000/60000 [==============================] - 4s 68us/step - loss: 0.2626 - acc: 0.9238 - val_loss: 0.1363 - val_acc: 0.9576\n",
      "Epoch 2/10\n",
      "60000/60000 [==============================] - 4s 60us/step - loss: 0.0982 - acc: 0.9700 - val_loss: 0.0936 - val_acc: 0.9707\n",
      "Epoch 3/10\n",
      "60000/60000 [==============================] - 4s 59us/step - loss: 0.0636 - acc: 0.9802 - val_loss: 0.0865 - val_acc: 0.9724\n",
      "Epoch 4/10\n",
      "60000/60000 [==============================] - 4s 63us/step - loss: 0.0443 - acc: 0.9860 - val_loss: 0.0731 - val_acc: 0.9772\n",
      "Epoch 5/10\n",
      "60000/60000 [==============================] - 4s 61us/step - loss: 0.0331 - acc: 0.9892 - val_loss: 0.0751 - val_acc: 0.9765\n",
      "Epoch 6/10\n",
      "60000/60000 [==============================] - 4s 59us/step - loss: 0.0258 - acc: 0.9919 - val_loss: 0.0751 - val_acc: 0.9791\n",
      "Epoch 7/10\n",
      "60000/60000 [==============================] - 4s 61us/step - loss: 0.0211 - acc: 0.9932 - val_loss: 0.0907 - val_acc: 0.9764\n",
      "Epoch 8/10\n",
      "60000/60000 [==============================] - 4s 60us/step - loss: 0.0174 - acc: 0.9944 - val_loss: 0.0865 - val_acc: 0.9772\n",
      "Epoch 9/10\n",
      "60000/60000 [==============================] - 3s 50us/step - loss: 0.0160 - acc: 0.9948 - val_loss: 0.0699 - val_acc: 0.9822\n",
      "Epoch 10/10\n",
      "60000/60000 [==============================] - 3s 50us/step - loss: 0.0125 - acc: 0.9959 - val_loss: 0.0886 - val_acc: 0.9788\n"
     ]
    }
   ],
   "source": [
    "model2.compile(optimizer='adam', loss='categorical_crossentropy', metrics=['accuracy'])\n",
    "\n",
    "history2 = model2.fit(X_train, Y_train, batch_size=batch_size, epochs=nb_epoch, verbose=1, validation_data=(X_test, Y_test))"
   ]
  },
  {
   "cell_type": "code",
   "execution_count": 17,
   "metadata": {
    "colab": {
     "base_uri": "https://localhost:8080/",
     "height": 50
    },
    "colab_type": "code",
    "executionInfo": {
     "elapsed": 2060,
     "status": "ok",
     "timestamp": 1532672590601,
     "user": {
      "displayName": "Applied AI Course",
      "photoUrl": "//lh3.googleusercontent.com/-EsJzSyawCkQ/AAAAAAAAAAI/AAAAAAAAAWk/jhKHALKaHag/s50-c-k-no/photo.jpg",
      "userId": "116292885805316472049"
     },
     "user_tz": -330
    },
    "id": "6ffjzr8hQKb8",
    "outputId": "8caf663e-e8cc-4c1e-9fee-278ab9591642"
   },
   "outputs": [
    {
     "name": "stdout",
     "output_type": "stream",
     "text": [
      "Test score: 0.08857447017969135\n",
      "Test accuracy: 0.9788\n"
     ]
    }
   ],
   "source": [
    "score = model2.evaluate(X_test, Y_test, verbose=0) \n",
    "print('Test score:', score[0]) \n",
    "print('Test accuracy:', score[1])\n"
   ]
  },
  {
   "cell_type": "markdown",
   "metadata": {
    "colab_type": "text",
    "id": "ExLv_CAeQKcA"
   },
   "source": [
    "<h2>Model 3"
   ]
  },
  {
   "cell_type": "code",
   "execution_count": 31,
   "metadata": {
    "colab": {},
    "colab_type": "code",
    "id": "O8lG2jzmQKcM",
    "outputId": "72a68439-c243-4569-86b9-f636757c60f7"
   },
   "outputs": [
    {
     "name": "stdout",
     "output_type": "stream",
     "text": [
      "_________________________________________________________________\n",
      "Layer (type)                 Output Shape              Param #   \n",
      "=================================================================\n",
      "dense_16 (Dense)             (None, 1024)              803840    \n",
      "_________________________________________________________________\n",
      "dense_17 (Dense)             (None, 512)               524800    \n",
      "_________________________________________________________________\n",
      "dropout_3 (Dropout)          (None, 512)               0         \n",
      "_________________________________________________________________\n",
      "dense_18 (Dense)             (None, 128)               65664     \n",
      "_________________________________________________________________\n",
      "dense_19 (Dense)             (None, 10)                1290      \n",
      "=================================================================\n",
      "Total params: 1,395,594\n",
      "Trainable params: 1,395,594\n",
      "Non-trainable params: 0\n",
      "_________________________________________________________________\n"
     ]
    }
   ],
   "source": [
    "# Multilayer perceptron\n",
    "\n",
    "\n",
    "model3 = Sequential()\n",
    "model3.add(Dense(1024, activation='relu', input_shape=(input_dim,), kernel_initializer=keras.initializers.lecun_uniform(seed=None)))\n",
    "model3.add(Dense(512, activation='relu', kernel_initializer=keras.initializers.lecun_uniform(seed=None)) )\n",
    "model3.add(Dropout(.2))\n",
    "model3.add(Dense(128, activation='relu', kernel_initializer=keras.initializers.lecun_uniform(seed=None)) )\n",
    "model3.add(Dense(output_dim, activation='softmax'))\n",
    "\n",
    "model3.summary()"
   ]
  },
  {
   "cell_type": "code",
   "execution_count": 32,
   "metadata": {
    "colab": {},
    "colab_type": "code",
    "id": "QhtoviFKQKcP",
    "outputId": "e25de732-19a7-4178-d784-411170e6d810"
   },
   "outputs": [
    {
     "name": "stdout",
     "output_type": "stream",
     "text": [
      "Train on 60000 samples, validate on 10000 samples\n",
      "Epoch 1/10\n",
      "60000/60000 [==============================] - 12s 198us/step - loss: 0.2208 - acc: 0.9349 - val_loss: 0.0978 - val_acc: 0.9699\n",
      "Epoch 2/10\n",
      "60000/60000 [==============================] - 11s 189us/step - loss: 0.0812 - acc: 0.9757 - val_loss: 0.0881 - val_acc: 0.9715\n",
      "Epoch 3/10\n",
      "60000/60000 [==============================] - 11s 185us/step - loss: 0.0575 - acc: 0.9823 - val_loss: 0.0719 - val_acc: 0.9788\n",
      "Epoch 4/10\n",
      "60000/60000 [==============================] - 11s 185us/step - loss: 0.0385 - acc: 0.9879 - val_loss: 0.0986 - val_acc: 0.9737\n",
      "Epoch 5/10\n",
      "60000/60000 [==============================] - 11s 186us/step - loss: 0.0359 - acc: 0.9882 - val_loss: 0.0749 - val_acc: 0.9791\n",
      "Epoch 6/10\n",
      "60000/60000 [==============================] - 11s 186us/step - loss: 0.0264 - acc: 0.9913 - val_loss: 0.0893 - val_acc: 0.9756\n",
      "Epoch 7/10\n",
      "60000/60000 [==============================] - 11s 191us/step - loss: 0.0211 - acc: 0.9930 - val_loss: 0.0767 - val_acc: 0.9806\n",
      "Epoch 8/10\n",
      "60000/60000 [==============================] - 11s 188us/step - loss: 0.0231 - acc: 0.9922 - val_loss: 0.0812 - val_acc: 0.9798\n",
      "Epoch 9/10\n",
      "60000/60000 [==============================] - 11s 187us/step - loss: 0.0183 - acc: 0.9938 - val_loss: 0.0785 - val_acc: 0.9819\n",
      "Epoch 10/10\n",
      "60000/60000 [==============================] - 11s 186us/step - loss: 0.0189 - acc: 0.9939 - val_loss: 0.0666 - val_acc: 0.9829\n"
     ]
    }
   ],
   "source": [
    "model3.compile(optimizer='adam', loss='categorical_crossentropy', metrics=['accuracy'])\n",
    "\n",
    "history3 = model3.fit(X_train, Y_train, batch_size=batch_size, epochs=nb_epoch, verbose=1, validation_data=(X_test, Y_test))"
   ]
  },
  {
   "cell_type": "code",
   "execution_count": 33,
   "metadata": {
    "colab": {},
    "colab_type": "code",
    "id": "0rKzoKxgQKcS",
    "outputId": "7893c859-5d0d-4cbb-ef05-d7dd854e325c"
   },
   "outputs": [
    {
     "name": "stdout",
     "output_type": "stream",
     "text": [
      "Test score: 0.06655609296732164\n",
      "Test accuracy: 0.9829\n"
     ]
    }
   ],
   "source": [
    "score = model3.evaluate(X_test, Y_test, verbose=0) \n",
    "print('Test score:', score[0]) \n",
    "print('Test accuracy:', score[1])\n",
    "\n"
   ]
  },
  {
   "cell_type": "markdown",
   "metadata": {
    "colab_type": "text",
    "id": "TjduBU7hQKch"
   },
   "source": [
    "<h2> Model 4"
   ]
  },
  {
   "cell_type": "code",
   "execution_count": 21,
   "metadata": {
    "colab": {},
    "colab_type": "code",
    "id": "KGHnPnoTQKci",
    "outputId": "8abd1dfb-b838-47f8-9e9b-0a4a757bfd8a"
   },
   "outputs": [
    {
     "name": "stdout",
     "output_type": "stream",
     "text": [
      "_________________________________________________________________\n",
      "Layer (type)                 Output Shape              Param #   \n",
      "=================================================================\n",
      "dense_9 (Dense)              (None, 512)               401920    \n",
      "_________________________________________________________________\n",
      "batch_normalization (BatchNo (None, 512)               2048      \n",
      "_________________________________________________________________\n",
      "dense_10 (Dense)             (None, 128)               65664     \n",
      "_________________________________________________________________\n",
      "batch_normalization_1 (Batch (None, 128)               512       \n",
      "_________________________________________________________________\n",
      "dropout_1 (Dropout)          (None, 128)               0         \n",
      "_________________________________________________________________\n",
      "dense_11 (Dense)             (None, 10)                1290      \n",
      "=================================================================\n",
      "Total params: 471,434\n",
      "Trainable params: 470,154\n",
      "Non-trainable params: 1,280\n",
      "_________________________________________________________________\n"
     ]
    }
   ],
   "source": [
    "# Multilayer perceptron\n",
    "\n",
    "\n",
    "from  tensorflow.python.keras.layers.normalization import BatchNormalization\n",
    "\n",
    "model4 = Sequential()\n",
    "\n",
    "model4.add(Dense(512, activation='relu', input_shape=(input_dim,), kernel_initializer=RandomNormal(mean=0.0, stddev=0.039, seed=None)))\n",
    "model4.add(BatchNormalization())\n",
    "\n",
    "model4.add(Dense(128, activation='relu', kernel_initializer=RandomNormal(mean=0.0, stddev=0.55, seed=None)) )\n",
    "model4.add(BatchNormalization())\n",
    "model4.add(Dropout(.3))\n",
    "model4.add(Dense(output_dim, activation='softmax'))\n",
    "\n",
    "\n",
    "model4.summary()"
   ]
  },
  {
   "cell_type": "code",
   "execution_count": 22,
   "metadata": {
    "colab": {},
    "colab_type": "code",
    "id": "yMPo5fcUQKcm",
    "outputId": "345fa9de-3920-49c3-b03e-2ba99ddfb7c7"
   },
   "outputs": [
    {
     "name": "stdout",
     "output_type": "stream",
     "text": [
      "Train on 60000 samples, validate on 10000 samples\n",
      "Epoch 1/10\n",
      "60000/60000 [==============================] - 6s 103us/step - loss: 0.2527 - acc: 0.9237 - val_loss: 0.1237 - val_acc: 0.9629\n",
      "Epoch 2/10\n",
      "60000/60000 [==============================] - 5s 92us/step - loss: 0.1095 - acc: 0.9664 - val_loss: 0.0918 - val_acc: 0.9707\n",
      "Epoch 3/10\n",
      "60000/60000 [==============================] - 5s 91us/step - loss: 0.0803 - acc: 0.9754 - val_loss: 0.0758 - val_acc: 0.9755\n",
      "Epoch 4/10\n",
      "60000/60000 [==============================] - 6s 92us/step - loss: 0.0620 - acc: 0.9805 - val_loss: 0.0793 - val_acc: 0.9757\n",
      "Epoch 5/10\n",
      "60000/60000 [==============================] - 5s 91us/step - loss: 0.0515 - acc: 0.9834 - val_loss: 0.0822 - val_acc: 0.9755\n",
      "Epoch 6/10\n",
      "60000/60000 [==============================] - 5s 91us/step - loss: 0.0459 - acc: 0.9852 - val_loss: 0.0775 - val_acc: 0.9768\n",
      "Epoch 7/10\n",
      "60000/60000 [==============================] - 6s 92us/step - loss: 0.0384 - acc: 0.9874 - val_loss: 0.0660 - val_acc: 0.9802\n",
      "Epoch 8/10\n",
      "60000/60000 [==============================] - 5s 91us/step - loss: 0.0339 - acc: 0.9889 - val_loss: 0.0707 - val_acc: 0.9799\n",
      "Epoch 9/10\n",
      "60000/60000 [==============================] - 5s 91us/step - loss: 0.0327 - acc: 0.9892 - val_loss: 0.0802 - val_acc: 0.9769\n",
      "Epoch 10/10\n",
      "60000/60000 [==============================] - 5s 91us/step - loss: 0.0278 - acc: 0.9904 - val_loss: 0.0783 - val_acc: 0.9771\n"
     ]
    }
   ],
   "source": [
    "model4.compile(optimizer='adam', loss='categorical_crossentropy', metrics=['accuracy'])\n",
    "\n",
    "history4 = model4.fit(X_train, Y_train, batch_size=batch_size, epochs=nb_epoch, verbose=1, validation_data=(X_test, Y_test))"
   ]
  },
  {
   "cell_type": "code",
   "execution_count": 23,
   "metadata": {
    "colab": {},
    "colab_type": "code",
    "id": "HThyBcHUQKcn",
    "outputId": "3da2f50e-c25f-4903-da11-d294ec1a63b8"
   },
   "outputs": [
    {
     "name": "stdout",
     "output_type": "stream",
     "text": [
      "Test score: 0.07828804064863944\n",
      "Test accuracy: 0.9771\n"
     ]
    }
   ],
   "source": [
    "score = model4.evaluate(X_test, Y_test, verbose=0) \n",
    "print('Test score:', score[0]) \n",
    "print('Test accuracy:', score[1])\n"
   ]
  },
  {
   "cell_type": "markdown",
   "metadata": {},
   "source": [
    "<h2>Error Plots"
   ]
  },
  {
   "cell_type": "code",
   "execution_count": 35,
   "metadata": {},
   "outputs": [
    {
     "data": {
      "application/javascript": [
       "/* Put everything inside the global mpl namespace */\n",
       "window.mpl = {};\n",
       "\n",
       "\n",
       "mpl.get_websocket_type = function() {\n",
       "    if (typeof(WebSocket) !== 'undefined') {\n",
       "        return WebSocket;\n",
       "    } else if (typeof(MozWebSocket) !== 'undefined') {\n",
       "        return MozWebSocket;\n",
       "    } else {\n",
       "        alert('Your browser does not have WebSocket support.' +\n",
       "              'Please try Chrome, Safari or Firefox ≥ 6. ' +\n",
       "              'Firefox 4 and 5 are also supported but you ' +\n",
       "              'have to enable WebSockets in about:config.');\n",
       "    };\n",
       "}\n",
       "\n",
       "mpl.figure = function(figure_id, websocket, ondownload, parent_element) {\n",
       "    this.id = figure_id;\n",
       "\n",
       "    this.ws = websocket;\n",
       "\n",
       "    this.supports_binary = (this.ws.binaryType != undefined);\n",
       "\n",
       "    if (!this.supports_binary) {\n",
       "        var warnings = document.getElementById(\"mpl-warnings\");\n",
       "        if (warnings) {\n",
       "            warnings.style.display = 'block';\n",
       "            warnings.textContent = (\n",
       "                \"This browser does not support binary websocket messages. \" +\n",
       "                    \"Performance may be slow.\");\n",
       "        }\n",
       "    }\n",
       "\n",
       "    this.imageObj = new Image();\n",
       "\n",
       "    this.context = undefined;\n",
       "    this.message = undefined;\n",
       "    this.canvas = undefined;\n",
       "    this.rubberband_canvas = undefined;\n",
       "    this.rubberband_context = undefined;\n",
       "    this.format_dropdown = undefined;\n",
       "\n",
       "    this.image_mode = 'full';\n",
       "\n",
       "    this.root = $('<div/>');\n",
       "    this._root_extra_style(this.root)\n",
       "    this.root.attr('style', 'display: inline-block');\n",
       "\n",
       "    $(parent_element).append(this.root);\n",
       "\n",
       "    this._init_header(this);\n",
       "    this._init_canvas(this);\n",
       "    this._init_toolbar(this);\n",
       "\n",
       "    var fig = this;\n",
       "\n",
       "    this.waiting = false;\n",
       "\n",
       "    this.ws.onopen =  function () {\n",
       "            fig.send_message(\"supports_binary\", {value: fig.supports_binary});\n",
       "            fig.send_message(\"send_image_mode\", {});\n",
       "            if (mpl.ratio != 1) {\n",
       "                fig.send_message(\"set_dpi_ratio\", {'dpi_ratio': mpl.ratio});\n",
       "            }\n",
       "            fig.send_message(\"refresh\", {});\n",
       "        }\n",
       "\n",
       "    this.imageObj.onload = function() {\n",
       "            if (fig.image_mode == 'full') {\n",
       "                // Full images could contain transparency (where diff images\n",
       "                // almost always do), so we need to clear the canvas so that\n",
       "                // there is no ghosting.\n",
       "                fig.context.clearRect(0, 0, fig.canvas.width, fig.canvas.height);\n",
       "            }\n",
       "            fig.context.drawImage(fig.imageObj, 0, 0);\n",
       "        };\n",
       "\n",
       "    this.imageObj.onunload = function() {\n",
       "        fig.ws.close();\n",
       "    }\n",
       "\n",
       "    this.ws.onmessage = this._make_on_message_function(this);\n",
       "\n",
       "    this.ondownload = ondownload;\n",
       "}\n",
       "\n",
       "mpl.figure.prototype._init_header = function() {\n",
       "    var titlebar = $(\n",
       "        '<div class=\"ui-dialog-titlebar ui-widget-header ui-corner-all ' +\n",
       "        'ui-helper-clearfix\"/>');\n",
       "    var titletext = $(\n",
       "        '<div class=\"ui-dialog-title\" style=\"width: 100%; ' +\n",
       "        'text-align: center; padding: 3px;\"/>');\n",
       "    titlebar.append(titletext)\n",
       "    this.root.append(titlebar);\n",
       "    this.header = titletext[0];\n",
       "}\n",
       "\n",
       "\n",
       "\n",
       "mpl.figure.prototype._canvas_extra_style = function(canvas_div) {\n",
       "\n",
       "}\n",
       "\n",
       "\n",
       "mpl.figure.prototype._root_extra_style = function(canvas_div) {\n",
       "\n",
       "}\n",
       "\n",
       "mpl.figure.prototype._init_canvas = function() {\n",
       "    var fig = this;\n",
       "\n",
       "    var canvas_div = $('<div/>');\n",
       "\n",
       "    canvas_div.attr('style', 'position: relative; clear: both; outline: 0');\n",
       "\n",
       "    function canvas_keyboard_event(event) {\n",
       "        return fig.key_event(event, event['data']);\n",
       "    }\n",
       "\n",
       "    canvas_div.keydown('key_press', canvas_keyboard_event);\n",
       "    canvas_div.keyup('key_release', canvas_keyboard_event);\n",
       "    this.canvas_div = canvas_div\n",
       "    this._canvas_extra_style(canvas_div)\n",
       "    this.root.append(canvas_div);\n",
       "\n",
       "    var canvas = $('<canvas/>');\n",
       "    canvas.addClass('mpl-canvas');\n",
       "    canvas.attr('style', \"left: 0; top: 0; z-index: 0; outline: 0\")\n",
       "\n",
       "    this.canvas = canvas[0];\n",
       "    this.context = canvas[0].getContext(\"2d\");\n",
       "\n",
       "    var backingStore = this.context.backingStorePixelRatio ||\n",
       "\tthis.context.webkitBackingStorePixelRatio ||\n",
       "\tthis.context.mozBackingStorePixelRatio ||\n",
       "\tthis.context.msBackingStorePixelRatio ||\n",
       "\tthis.context.oBackingStorePixelRatio ||\n",
       "\tthis.context.backingStorePixelRatio || 1;\n",
       "\n",
       "    mpl.ratio = (window.devicePixelRatio || 1) / backingStore;\n",
       "\n",
       "    var rubberband = $('<canvas/>');\n",
       "    rubberband.attr('style', \"position: absolute; left: 0; top: 0; z-index: 1;\")\n",
       "\n",
       "    var pass_mouse_events = true;\n",
       "\n",
       "    canvas_div.resizable({\n",
       "        start: function(event, ui) {\n",
       "            pass_mouse_events = false;\n",
       "        },\n",
       "        resize: function(event, ui) {\n",
       "            fig.request_resize(ui.size.width, ui.size.height);\n",
       "        },\n",
       "        stop: function(event, ui) {\n",
       "            pass_mouse_events = true;\n",
       "            fig.request_resize(ui.size.width, ui.size.height);\n",
       "        },\n",
       "    });\n",
       "\n",
       "    function mouse_event_fn(event) {\n",
       "        if (pass_mouse_events)\n",
       "            return fig.mouse_event(event, event['data']);\n",
       "    }\n",
       "\n",
       "    rubberband.mousedown('button_press', mouse_event_fn);\n",
       "    rubberband.mouseup('button_release', mouse_event_fn);\n",
       "    // Throttle sequential mouse events to 1 every 20ms.\n",
       "    rubberband.mousemove('motion_notify', mouse_event_fn);\n",
       "\n",
       "    rubberband.mouseenter('figure_enter', mouse_event_fn);\n",
       "    rubberband.mouseleave('figure_leave', mouse_event_fn);\n",
       "\n",
       "    canvas_div.on(\"wheel\", function (event) {\n",
       "        event = event.originalEvent;\n",
       "        event['data'] = 'scroll'\n",
       "        if (event.deltaY < 0) {\n",
       "            event.step = 1;\n",
       "        } else {\n",
       "            event.step = -1;\n",
       "        }\n",
       "        mouse_event_fn(event);\n",
       "    });\n",
       "\n",
       "    canvas_div.append(canvas);\n",
       "    canvas_div.append(rubberband);\n",
       "\n",
       "    this.rubberband = rubberband;\n",
       "    this.rubberband_canvas = rubberband[0];\n",
       "    this.rubberband_context = rubberband[0].getContext(\"2d\");\n",
       "    this.rubberband_context.strokeStyle = \"#000000\";\n",
       "\n",
       "    this._resize_canvas = function(width, height) {\n",
       "        // Keep the size of the canvas, canvas container, and rubber band\n",
       "        // canvas in synch.\n",
       "        canvas_div.css('width', width)\n",
       "        canvas_div.css('height', height)\n",
       "\n",
       "        canvas.attr('width', width * mpl.ratio);\n",
       "        canvas.attr('height', height * mpl.ratio);\n",
       "        canvas.attr('style', 'width: ' + width + 'px; height: ' + height + 'px;');\n",
       "\n",
       "        rubberband.attr('width', width);\n",
       "        rubberband.attr('height', height);\n",
       "    }\n",
       "\n",
       "    // Set the figure to an initial 600x600px, this will subsequently be updated\n",
       "    // upon first draw.\n",
       "    this._resize_canvas(600, 600);\n",
       "\n",
       "    // Disable right mouse context menu.\n",
       "    $(this.rubberband_canvas).bind(\"contextmenu\",function(e){\n",
       "        return false;\n",
       "    });\n",
       "\n",
       "    function set_focus () {\n",
       "        canvas.focus();\n",
       "        canvas_div.focus();\n",
       "    }\n",
       "\n",
       "    window.setTimeout(set_focus, 100);\n",
       "}\n",
       "\n",
       "mpl.figure.prototype._init_toolbar = function() {\n",
       "    var fig = this;\n",
       "\n",
       "    var nav_element = $('<div/>')\n",
       "    nav_element.attr('style', 'width: 100%');\n",
       "    this.root.append(nav_element);\n",
       "\n",
       "    // Define a callback function for later on.\n",
       "    function toolbar_event(event) {\n",
       "        return fig.toolbar_button_onclick(event['data']);\n",
       "    }\n",
       "    function toolbar_mouse_event(event) {\n",
       "        return fig.toolbar_button_onmouseover(event['data']);\n",
       "    }\n",
       "\n",
       "    for(var toolbar_ind in mpl.toolbar_items) {\n",
       "        var name = mpl.toolbar_items[toolbar_ind][0];\n",
       "        var tooltip = mpl.toolbar_items[toolbar_ind][1];\n",
       "        var image = mpl.toolbar_items[toolbar_ind][2];\n",
       "        var method_name = mpl.toolbar_items[toolbar_ind][3];\n",
       "\n",
       "        if (!name) {\n",
       "            // put a spacer in here.\n",
       "            continue;\n",
       "        }\n",
       "        var button = $('<button/>');\n",
       "        button.addClass('ui-button ui-widget ui-state-default ui-corner-all ' +\n",
       "                        'ui-button-icon-only');\n",
       "        button.attr('role', 'button');\n",
       "        button.attr('aria-disabled', 'false');\n",
       "        button.click(method_name, toolbar_event);\n",
       "        button.mouseover(tooltip, toolbar_mouse_event);\n",
       "\n",
       "        var icon_img = $('<span/>');\n",
       "        icon_img.addClass('ui-button-icon-primary ui-icon');\n",
       "        icon_img.addClass(image);\n",
       "        icon_img.addClass('ui-corner-all');\n",
       "\n",
       "        var tooltip_span = $('<span/>');\n",
       "        tooltip_span.addClass('ui-button-text');\n",
       "        tooltip_span.html(tooltip);\n",
       "\n",
       "        button.append(icon_img);\n",
       "        button.append(tooltip_span);\n",
       "\n",
       "        nav_element.append(button);\n",
       "    }\n",
       "\n",
       "    var fmt_picker_span = $('<span/>');\n",
       "\n",
       "    var fmt_picker = $('<select/>');\n",
       "    fmt_picker.addClass('mpl-toolbar-option ui-widget ui-widget-content');\n",
       "    fmt_picker_span.append(fmt_picker);\n",
       "    nav_element.append(fmt_picker_span);\n",
       "    this.format_dropdown = fmt_picker[0];\n",
       "\n",
       "    for (var ind in mpl.extensions) {\n",
       "        var fmt = mpl.extensions[ind];\n",
       "        var option = $(\n",
       "            '<option/>', {selected: fmt === mpl.default_extension}).html(fmt);\n",
       "        fmt_picker.append(option)\n",
       "    }\n",
       "\n",
       "    // Add hover states to the ui-buttons\n",
       "    $( \".ui-button\" ).hover(\n",
       "        function() { $(this).addClass(\"ui-state-hover\");},\n",
       "        function() { $(this).removeClass(\"ui-state-hover\");}\n",
       "    );\n",
       "\n",
       "    var status_bar = $('<span class=\"mpl-message\"/>');\n",
       "    nav_element.append(status_bar);\n",
       "    this.message = status_bar[0];\n",
       "}\n",
       "\n",
       "mpl.figure.prototype.request_resize = function(x_pixels, y_pixels) {\n",
       "    // Request matplotlib to resize the figure. Matplotlib will then trigger a resize in the client,\n",
       "    // which will in turn request a refresh of the image.\n",
       "    this.send_message('resize', {'width': x_pixels, 'height': y_pixels});\n",
       "}\n",
       "\n",
       "mpl.figure.prototype.send_message = function(type, properties) {\n",
       "    properties['type'] = type;\n",
       "    properties['figure_id'] = this.id;\n",
       "    this.ws.send(JSON.stringify(properties));\n",
       "}\n",
       "\n",
       "mpl.figure.prototype.send_draw_message = function() {\n",
       "    if (!this.waiting) {\n",
       "        this.waiting = true;\n",
       "        this.ws.send(JSON.stringify({type: \"draw\", figure_id: this.id}));\n",
       "    }\n",
       "}\n",
       "\n",
       "\n",
       "mpl.figure.prototype.handle_save = function(fig, msg) {\n",
       "    var format_dropdown = fig.format_dropdown;\n",
       "    var format = format_dropdown.options[format_dropdown.selectedIndex].value;\n",
       "    fig.ondownload(fig, format);\n",
       "}\n",
       "\n",
       "\n",
       "mpl.figure.prototype.handle_resize = function(fig, msg) {\n",
       "    var size = msg['size'];\n",
       "    if (size[0] != fig.canvas.width || size[1] != fig.canvas.height) {\n",
       "        fig._resize_canvas(size[0], size[1]);\n",
       "        fig.send_message(\"refresh\", {});\n",
       "    };\n",
       "}\n",
       "\n",
       "mpl.figure.prototype.handle_rubberband = function(fig, msg) {\n",
       "    var x0 = msg['x0'] / mpl.ratio;\n",
       "    var y0 = (fig.canvas.height - msg['y0']) / mpl.ratio;\n",
       "    var x1 = msg['x1'] / mpl.ratio;\n",
       "    var y1 = (fig.canvas.height - msg['y1']) / mpl.ratio;\n",
       "    x0 = Math.floor(x0) + 0.5;\n",
       "    y0 = Math.floor(y0) + 0.5;\n",
       "    x1 = Math.floor(x1) + 0.5;\n",
       "    y1 = Math.floor(y1) + 0.5;\n",
       "    var min_x = Math.min(x0, x1);\n",
       "    var min_y = Math.min(y0, y1);\n",
       "    var width = Math.abs(x1 - x0);\n",
       "    var height = Math.abs(y1 - y0);\n",
       "\n",
       "    fig.rubberband_context.clearRect(\n",
       "        0, 0, fig.canvas.width, fig.canvas.height);\n",
       "\n",
       "    fig.rubberband_context.strokeRect(min_x, min_y, width, height);\n",
       "}\n",
       "\n",
       "mpl.figure.prototype.handle_figure_label = function(fig, msg) {\n",
       "    // Updates the figure title.\n",
       "    fig.header.textContent = msg['label'];\n",
       "}\n",
       "\n",
       "mpl.figure.prototype.handle_cursor = function(fig, msg) {\n",
       "    var cursor = msg['cursor'];\n",
       "    switch(cursor)\n",
       "    {\n",
       "    case 0:\n",
       "        cursor = 'pointer';\n",
       "        break;\n",
       "    case 1:\n",
       "        cursor = 'default';\n",
       "        break;\n",
       "    case 2:\n",
       "        cursor = 'crosshair';\n",
       "        break;\n",
       "    case 3:\n",
       "        cursor = 'move';\n",
       "        break;\n",
       "    }\n",
       "    fig.rubberband_canvas.style.cursor = cursor;\n",
       "}\n",
       "\n",
       "mpl.figure.prototype.handle_message = function(fig, msg) {\n",
       "    fig.message.textContent = msg['message'];\n",
       "}\n",
       "\n",
       "mpl.figure.prototype.handle_draw = function(fig, msg) {\n",
       "    // Request the server to send over a new figure.\n",
       "    fig.send_draw_message();\n",
       "}\n",
       "\n",
       "mpl.figure.prototype.handle_image_mode = function(fig, msg) {\n",
       "    fig.image_mode = msg['mode'];\n",
       "}\n",
       "\n",
       "mpl.figure.prototype.updated_canvas_event = function() {\n",
       "    // Called whenever the canvas gets updated.\n",
       "    this.send_message(\"ack\", {});\n",
       "}\n",
       "\n",
       "// A function to construct a web socket function for onmessage handling.\n",
       "// Called in the figure constructor.\n",
       "mpl.figure.prototype._make_on_message_function = function(fig) {\n",
       "    return function socket_on_message(evt) {\n",
       "        if (evt.data instanceof Blob) {\n",
       "            /* FIXME: We get \"Resource interpreted as Image but\n",
       "             * transferred with MIME type text/plain:\" errors on\n",
       "             * Chrome.  But how to set the MIME type?  It doesn't seem\n",
       "             * to be part of the websocket stream */\n",
       "            evt.data.type = \"image/png\";\n",
       "\n",
       "            /* Free the memory for the previous frames */\n",
       "            if (fig.imageObj.src) {\n",
       "                (window.URL || window.webkitURL).revokeObjectURL(\n",
       "                    fig.imageObj.src);\n",
       "            }\n",
       "\n",
       "            fig.imageObj.src = (window.URL || window.webkitURL).createObjectURL(\n",
       "                evt.data);\n",
       "            fig.updated_canvas_event();\n",
       "            fig.waiting = false;\n",
       "            return;\n",
       "        }\n",
       "        else if (typeof evt.data === 'string' && evt.data.slice(0, 21) == \"data:image/png;base64\") {\n",
       "            fig.imageObj.src = evt.data;\n",
       "            fig.updated_canvas_event();\n",
       "            fig.waiting = false;\n",
       "            return;\n",
       "        }\n",
       "\n",
       "        var msg = JSON.parse(evt.data);\n",
       "        var msg_type = msg['type'];\n",
       "\n",
       "        // Call the  \"handle_{type}\" callback, which takes\n",
       "        // the figure and JSON message as its only arguments.\n",
       "        try {\n",
       "            var callback = fig[\"handle_\" + msg_type];\n",
       "        } catch (e) {\n",
       "            console.log(\"No handler for the '\" + msg_type + \"' message type: \", msg);\n",
       "            return;\n",
       "        }\n",
       "\n",
       "        if (callback) {\n",
       "            try {\n",
       "                // console.log(\"Handling '\" + msg_type + \"' message: \", msg);\n",
       "                callback(fig, msg);\n",
       "            } catch (e) {\n",
       "                console.log(\"Exception inside the 'handler_\" + msg_type + \"' callback:\", e, e.stack, msg);\n",
       "            }\n",
       "        }\n",
       "    };\n",
       "}\n",
       "\n",
       "// from http://stackoverflow.com/questions/1114465/getting-mouse-location-in-canvas\n",
       "mpl.findpos = function(e) {\n",
       "    //this section is from http://www.quirksmode.org/js/events_properties.html\n",
       "    var targ;\n",
       "    if (!e)\n",
       "        e = window.event;\n",
       "    if (e.target)\n",
       "        targ = e.target;\n",
       "    else if (e.srcElement)\n",
       "        targ = e.srcElement;\n",
       "    if (targ.nodeType == 3) // defeat Safari bug\n",
       "        targ = targ.parentNode;\n",
       "\n",
       "    // jQuery normalizes the pageX and pageY\n",
       "    // pageX,Y are the mouse positions relative to the document\n",
       "    // offset() returns the position of the element relative to the document\n",
       "    var x = e.pageX - $(targ).offset().left;\n",
       "    var y = e.pageY - $(targ).offset().top;\n",
       "\n",
       "    return {\"x\": x, \"y\": y};\n",
       "};\n",
       "\n",
       "/*\n",
       " * return a copy of an object with only non-object keys\n",
       " * we need this to avoid circular references\n",
       " * http://stackoverflow.com/a/24161582/3208463\n",
       " */\n",
       "function simpleKeys (original) {\n",
       "  return Object.keys(original).reduce(function (obj, key) {\n",
       "    if (typeof original[key] !== 'object')\n",
       "        obj[key] = original[key]\n",
       "    return obj;\n",
       "  }, {});\n",
       "}\n",
       "\n",
       "mpl.figure.prototype.mouse_event = function(event, name) {\n",
       "    var canvas_pos = mpl.findpos(event)\n",
       "\n",
       "    if (name === 'button_press')\n",
       "    {\n",
       "        this.canvas.focus();\n",
       "        this.canvas_div.focus();\n",
       "    }\n",
       "\n",
       "    var x = canvas_pos.x * mpl.ratio;\n",
       "    var y = canvas_pos.y * mpl.ratio;\n",
       "\n",
       "    this.send_message(name, {x: x, y: y, button: event.button,\n",
       "                             step: event.step,\n",
       "                             guiEvent: simpleKeys(event)});\n",
       "\n",
       "    /* This prevents the web browser from automatically changing to\n",
       "     * the text insertion cursor when the button is pressed.  We want\n",
       "     * to control all of the cursor setting manually through the\n",
       "     * 'cursor' event from matplotlib */\n",
       "    event.preventDefault();\n",
       "    return false;\n",
       "}\n",
       "\n",
       "mpl.figure.prototype._key_event_extra = function(event, name) {\n",
       "    // Handle any extra behaviour associated with a key event\n",
       "}\n",
       "\n",
       "mpl.figure.prototype.key_event = function(event, name) {\n",
       "\n",
       "    // Prevent repeat events\n",
       "    if (name == 'key_press')\n",
       "    {\n",
       "        if (event.which === this._key)\n",
       "            return;\n",
       "        else\n",
       "            this._key = event.which;\n",
       "    }\n",
       "    if (name == 'key_release')\n",
       "        this._key = null;\n",
       "\n",
       "    var value = '';\n",
       "    if (event.ctrlKey && event.which != 17)\n",
       "        value += \"ctrl+\";\n",
       "    if (event.altKey && event.which != 18)\n",
       "        value += \"alt+\";\n",
       "    if (event.shiftKey && event.which != 16)\n",
       "        value += \"shift+\";\n",
       "\n",
       "    value += 'k';\n",
       "    value += event.which.toString();\n",
       "\n",
       "    this._key_event_extra(event, name);\n",
       "\n",
       "    this.send_message(name, {key: value,\n",
       "                             guiEvent: simpleKeys(event)});\n",
       "    return false;\n",
       "}\n",
       "\n",
       "mpl.figure.prototype.toolbar_button_onclick = function(name) {\n",
       "    if (name == 'download') {\n",
       "        this.handle_save(this, null);\n",
       "    } else {\n",
       "        this.send_message(\"toolbar_button\", {name: name});\n",
       "    }\n",
       "};\n",
       "\n",
       "mpl.figure.prototype.toolbar_button_onmouseover = function(tooltip) {\n",
       "    this.message.textContent = tooltip;\n",
       "};\n",
       "mpl.toolbar_items = [[\"Home\", \"Reset original view\", \"fa fa-home icon-home\", \"home\"], [\"Back\", \"Back to  previous view\", \"fa fa-arrow-left icon-arrow-left\", \"back\"], [\"Forward\", \"Forward to next view\", \"fa fa-arrow-right icon-arrow-right\", \"forward\"], [\"\", \"\", \"\", \"\"], [\"Pan\", \"Pan axes with left mouse, zoom with right\", \"fa fa-arrows icon-move\", \"pan\"], [\"Zoom\", \"Zoom to rectangle\", \"fa fa-square-o icon-check-empty\", \"zoom\"], [\"\", \"\", \"\", \"\"], [\"Download\", \"Download plot\", \"fa fa-floppy-o icon-save\", \"download\"]];\n",
       "\n",
       "mpl.extensions = [\"eps\", \"jpeg\", \"pdf\", \"png\", \"ps\", \"raw\", \"svg\", \"tif\"];\n",
       "\n",
       "mpl.default_extension = \"png\";var comm_websocket_adapter = function(comm) {\n",
       "    // Create a \"websocket\"-like object which calls the given IPython comm\n",
       "    // object with the appropriate methods. Currently this is a non binary\n",
       "    // socket, so there is still some room for performance tuning.\n",
       "    var ws = {};\n",
       "\n",
       "    ws.close = function() {\n",
       "        comm.close()\n",
       "    };\n",
       "    ws.send = function(m) {\n",
       "        //console.log('sending', m);\n",
       "        comm.send(m);\n",
       "    };\n",
       "    // Register the callback with on_msg.\n",
       "    comm.on_msg(function(msg) {\n",
       "        //console.log('receiving', msg['content']['data'], msg);\n",
       "        // Pass the mpl event to the overridden (by mpl) onmessage function.\n",
       "        ws.onmessage(msg['content']['data'])\n",
       "    });\n",
       "    return ws;\n",
       "}\n",
       "\n",
       "mpl.mpl_figure_comm = function(comm, msg) {\n",
       "    // This is the function which gets called when the mpl process\n",
       "    // starts-up an IPython Comm through the \"matplotlib\" channel.\n",
       "\n",
       "    var id = msg.content.data.id;\n",
       "    // Get hold of the div created by the display call when the Comm\n",
       "    // socket was opened in Python.\n",
       "    var element = $(\"#\" + id);\n",
       "    var ws_proxy = comm_websocket_adapter(comm)\n",
       "\n",
       "    function ondownload(figure, format) {\n",
       "        window.open(figure.imageObj.src);\n",
       "    }\n",
       "\n",
       "    var fig = new mpl.figure(id, ws_proxy,\n",
       "                           ondownload,\n",
       "                           element.get(0));\n",
       "\n",
       "    // Call onopen now - mpl needs it, as it is assuming we've passed it a real\n",
       "    // web socket which is closed, not our websocket->open comm proxy.\n",
       "    ws_proxy.onopen();\n",
       "\n",
       "    fig.parent_element = element.get(0);\n",
       "    fig.cell_info = mpl.find_output_cell(\"<div id='\" + id + \"'></div>\");\n",
       "    if (!fig.cell_info) {\n",
       "        console.error(\"Failed to find cell for figure\", id, fig);\n",
       "        return;\n",
       "    }\n",
       "\n",
       "    var output_index = fig.cell_info[2]\n",
       "    var cell = fig.cell_info[0];\n",
       "\n",
       "};\n",
       "\n",
       "mpl.figure.prototype.handle_close = function(fig, msg) {\n",
       "    var width = fig.canvas.width/mpl.ratio\n",
       "    fig.root.unbind('remove')\n",
       "\n",
       "    // Update the output cell to use the data from the current canvas.\n",
       "    fig.push_to_output();\n",
       "    var dataURL = fig.canvas.toDataURL();\n",
       "    // Re-enable the keyboard manager in IPython - without this line, in FF,\n",
       "    // the notebook keyboard shortcuts fail.\n",
       "    IPython.keyboard_manager.enable()\n",
       "    $(fig.parent_element).html('<img src=\"' + dataURL + '\" width=\"' + width + '\">');\n",
       "    fig.close_ws(fig, msg);\n",
       "}\n",
       "\n",
       "mpl.figure.prototype.close_ws = function(fig, msg){\n",
       "    fig.send_message('closing', msg);\n",
       "    // fig.ws.close()\n",
       "}\n",
       "\n",
       "mpl.figure.prototype.push_to_output = function(remove_interactive) {\n",
       "    // Turn the data on the canvas into data in the output cell.\n",
       "    var width = this.canvas.width/mpl.ratio\n",
       "    var dataURL = this.canvas.toDataURL();\n",
       "    this.cell_info[1]['text/html'] = '<img src=\"' + dataURL + '\" width=\"' + width + '\">';\n",
       "}\n",
       "\n",
       "mpl.figure.prototype.updated_canvas_event = function() {\n",
       "    // Tell IPython that the notebook contents must change.\n",
       "    IPython.notebook.set_dirty(true);\n",
       "    this.send_message(\"ack\", {});\n",
       "    var fig = this;\n",
       "    // Wait a second, then push the new image to the DOM so\n",
       "    // that it is saved nicely (might be nice to debounce this).\n",
       "    setTimeout(function () { fig.push_to_output() }, 1000);\n",
       "}\n",
       "\n",
       "mpl.figure.prototype._init_toolbar = function() {\n",
       "    var fig = this;\n",
       "\n",
       "    var nav_element = $('<div/>')\n",
       "    nav_element.attr('style', 'width: 100%');\n",
       "    this.root.append(nav_element);\n",
       "\n",
       "    // Define a callback function for later on.\n",
       "    function toolbar_event(event) {\n",
       "        return fig.toolbar_button_onclick(event['data']);\n",
       "    }\n",
       "    function toolbar_mouse_event(event) {\n",
       "        return fig.toolbar_button_onmouseover(event['data']);\n",
       "    }\n",
       "\n",
       "    for(var toolbar_ind in mpl.toolbar_items){\n",
       "        var name = mpl.toolbar_items[toolbar_ind][0];\n",
       "        var tooltip = mpl.toolbar_items[toolbar_ind][1];\n",
       "        var image = mpl.toolbar_items[toolbar_ind][2];\n",
       "        var method_name = mpl.toolbar_items[toolbar_ind][3];\n",
       "\n",
       "        if (!name) { continue; };\n",
       "\n",
       "        var button = $('<button class=\"btn btn-default\" href=\"#\" title=\"' + name + '\"><i class=\"fa ' + image + ' fa-lg\"></i></button>');\n",
       "        button.click(method_name, toolbar_event);\n",
       "        button.mouseover(tooltip, toolbar_mouse_event);\n",
       "        nav_element.append(button);\n",
       "    }\n",
       "\n",
       "    // Add the status bar.\n",
       "    var status_bar = $('<span class=\"mpl-message\" style=\"text-align:right; float: right;\"/>');\n",
       "    nav_element.append(status_bar);\n",
       "    this.message = status_bar[0];\n",
       "\n",
       "    // Add the close button to the window.\n",
       "    var buttongrp = $('<div class=\"btn-group inline pull-right\"></div>');\n",
       "    var button = $('<button class=\"btn btn-mini btn-primary\" href=\"#\" title=\"Stop Interaction\"><i class=\"fa fa-power-off icon-remove icon-large\"></i></button>');\n",
       "    button.click(function (evt) { fig.handle_close(fig, {}); } );\n",
       "    button.mouseover('Stop Interaction', toolbar_mouse_event);\n",
       "    buttongrp.append(button);\n",
       "    var titlebar = this.root.find($('.ui-dialog-titlebar'));\n",
       "    titlebar.prepend(buttongrp);\n",
       "}\n",
       "\n",
       "mpl.figure.prototype._root_extra_style = function(el){\n",
       "    var fig = this\n",
       "    el.on(\"remove\", function(){\n",
       "\tfig.close_ws(fig, {});\n",
       "    });\n",
       "}\n",
       "\n",
       "mpl.figure.prototype._canvas_extra_style = function(el){\n",
       "    // this is important to make the div 'focusable\n",
       "    el.attr('tabindex', 0)\n",
       "    // reach out to IPython and tell the keyboard manager to turn it's self\n",
       "    // off when our div gets focus\n",
       "\n",
       "    // location in version 3\n",
       "    if (IPython.notebook.keyboard_manager) {\n",
       "        IPython.notebook.keyboard_manager.register_events(el);\n",
       "    }\n",
       "    else {\n",
       "        // location in version 2\n",
       "        IPython.keyboard_manager.register_events(el);\n",
       "    }\n",
       "\n",
       "}\n",
       "\n",
       "mpl.figure.prototype._key_event_extra = function(event, name) {\n",
       "    var manager = IPython.notebook.keyboard_manager;\n",
       "    if (!manager)\n",
       "        manager = IPython.keyboard_manager;\n",
       "\n",
       "    // Check for shift+enter\n",
       "    if (event.shiftKey && event.which == 13) {\n",
       "        this.canvas_div.blur();\n",
       "        event.shiftKey = false;\n",
       "        // Send a \"J\" for go to next cell\n",
       "        event.which = 74;\n",
       "        event.keyCode = 74;\n",
       "        manager.command_mode();\n",
       "        manager.handle_keydown(event);\n",
       "    }\n",
       "}\n",
       "\n",
       "mpl.figure.prototype.handle_save = function(fig, msg) {\n",
       "    fig.ondownload(fig, null);\n",
       "}\n",
       "\n",
       "\n",
       "mpl.find_output_cell = function(html_output) {\n",
       "    // Return the cell and output element which can be found *uniquely* in the notebook.\n",
       "    // Note - this is a bit hacky, but it is done because the \"notebook_saving.Notebook\"\n",
       "    // IPython event is triggered only after the cells have been serialised, which for\n",
       "    // our purposes (turning an active figure into a static one), is too late.\n",
       "    var cells = IPython.notebook.get_cells();\n",
       "    var ncells = cells.length;\n",
       "    for (var i=0; i<ncells; i++) {\n",
       "        var cell = cells[i];\n",
       "        if (cell.cell_type === 'code'){\n",
       "            for (var j=0; j<cell.output_area.outputs.length; j++) {\n",
       "                var data = cell.output_area.outputs[j];\n",
       "                if (data.data) {\n",
       "                    // IPython >= 3 moved mimebundle to data attribute of output\n",
       "                    data = data.data;\n",
       "                }\n",
       "                if (data['text/html'] == html_output) {\n",
       "                    return [cell, data, j];\n",
       "                }\n",
       "            }\n",
       "        }\n",
       "    }\n",
       "}\n",
       "\n",
       "// Register the function which deals with the matplotlib target/channel.\n",
       "// The kernel may be null if the page has been refreshed.\n",
       "if (IPython.notebook.kernel != null) {\n",
       "    IPython.notebook.kernel.comm_manager.register_target('matplotlib', mpl.mpl_figure_comm);\n",
       "}\n"
      ],
      "text/plain": [
       "<IPython.core.display.Javascript object>"
      ]
     },
     "metadata": {},
     "output_type": "display_data"
    },
    {
     "data": {
      "text/html": [
       "<img src=\"data:image/png;base64,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\" width=\"640\">"
      ],
      "text/plain": [
       "<IPython.core.display.HTML object>"
      ]
     },
     "metadata": {},
     "output_type": "display_data"
    }
   ],
   "source": [
    "epochs =10\n",
    "import matplotlib.pyplot as plt\n",
    "fig,ax = plt.subplots(1,1)\n",
    "ax.set_xlabel('epoch') ; ax.set_ylabel('Categorical Crossentropy Loss')\n",
    "x = list(range(1,epochs+1))\n",
    "\n",
    "vy = history.history['val_loss']\n",
    "ty = history.history['loss']\n",
    "ax.plot(x, vy, 'b', label=\"Validation Loss M1\")\n",
    "ax.plot(x, ty, 'r', label=\"Train Loss M1\")\n",
    "vy = history2.history['val_loss']\n",
    "ty = history2.history['loss']\n",
    "ax.plot(x, vy, 'm', label=\"Validation Loss M2\")\n",
    "ax.plot(x, ty, 'c', label=\"Train Loss M2\")\n",
    "vy = history3.history['val_loss']\n",
    "ty = history3.history['loss']\n",
    "ax.plot(x, vy, 'g', label=\"Validation Loss M3\")\n",
    "ax.plot(x, ty, 'k', label=\"Train Loss M3\")\n",
    "vy = history4.history['val_loss']\n",
    "ty = history4.history['loss']\n",
    "ax.plot(x, vy, 'b', label=\"Validation Loss M4\")\n",
    "ax.plot(x, ty, 'y', label=\"Train Loss M4\")\n",
    "plt.legend()  \n",
    "plt.grid()\n",
    "fig.canvas.draw()"
   ]
  },
  {
   "cell_type": "markdown",
   "metadata": {
    "colab_type": "text",
    "id": "ayBTjaZGQKc6"
   },
   "source": [
    "<h2>Conclusions"
   ]
  },
  {
   "cell_type": "code",
   "execution_count": 36,
   "metadata": {
    "colab": {},
    "colab_type": "code",
    "id": "8k1L9fZcQKc6"
   },
   "outputs": [
    {
     "name": "stdout",
     "output_type": "stream",
     "text": [
      "+---------+----------+\n",
      "|  Model  | Accuracy |\n",
      "+---------+----------+\n",
      "| Model 1 |  97.79   |\n",
      "| Model 2 |  97.88   |\n",
      "| Model 3 |  98.29   |\n",
      "| Model 4 |  97.71   |\n",
      "+---------+----------+\n"
     ]
    }
   ],
   "source": [
    "from prettytable import PrettyTable\n",
    "x = PrettyTable()\n",
    "\n",
    "x.field_names = [\"Model\", \"Accuracy\"]\n",
    "\n",
    "x.add_row([\"Model 1\",97.79])\n",
    "x.add_row([\"Model 2\",97.88])\n",
    "x.add_row([\"Model 3\",98.29])\n",
    "x.add_row([\"Model 4\",97.71])\n",
    "\n",
    "\n",
    "print(x)"
   ]
  },
  {
   "cell_type": "code",
   "execution_count": null,
   "metadata": {},
   "outputs": [],
   "source": []
  }
 ],
 "metadata": {
  "accelerator": "GPU",
  "colab": {
   "name": "Keras_Mnist.ipynb",
   "provenance": [],
   "version": "0.3.2"
  },
  "kernelspec": {
   "display_name": "Python 3",
   "language": "python",
   "name": "python3"
  },
  "language_info": {
   "codemirror_mode": {
    "name": "ipython",
    "version": 3
   },
   "file_extension": ".py",
   "mimetype": "text/x-python",
   "name": "python",
   "nbconvert_exporter": "python",
   "pygments_lexer": "ipython3",
   "version": "3.7.3"
  }
 },
 "nbformat": 4,
 "nbformat_minor": 1
}
