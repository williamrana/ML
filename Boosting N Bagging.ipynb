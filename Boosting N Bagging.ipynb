{
 "cells": [
  {
   "cell_type": "code",
   "execution_count": 12,
   "metadata": {},
   "outputs": [
    {
     "name": "stdout",
     "output_type": "stream",
     "text": [
      "0.9669117647058822\n"
     ]
    }
   ],
   "source": [
    "from sklearn.datasets import load_iris\n",
    "from sklearn.ensemble import AdaBoostClassifier\n",
    "from sklearn.model_selection import cross_val_score\n",
    "#from sklearn.ensemble import RandomForestClassifier\n",
    "from sklearn.ensemble import ExtraTreesClassifier\n",
    "#from sklearn.tree import DecisionTreeClassifier\n",
    "#from sklearn import tree\n",
    "iris = load_iris()\n",
    "#from IPython.display import  Image\n",
    "#import graphviz\n",
    "#import pydot\n",
    "#from sklearn.externals.six import StringIO\n",
    "#dot = StringIO()\n",
    "clf = AdaBoostClassifier(n_estimators=10,algorithm=\"SAMME.R\")\n",
    "clf.fit(iris.data, iris.target)\n",
    "score = cross_val_score(clf,iris.data,iris.target)                       \n",
    "print(score.mean()) "
   ]
  },
  {
   "cell_type": "code",
   "execution_count": 14,
   "metadata": {},
   "outputs": [],
   "source": [
    "from xgboost import XGBClassifier "
   ]
  },
  {
   "cell_type": "code",
   "execution_count": 15,
   "metadata": {},
   "outputs": [
    {
     "name": "stdout",
     "output_type": "stream",
     "text": [
      "0.9669117647058822\n"
     ]
    },
    {
     "name": "stderr",
     "output_type": "stream",
     "text": [
      "/home/vimal/anaconda3/lib/python3.6/site-packages/sklearn/preprocessing/label.py:151: DeprecationWarning: The truth value of an empty array is ambiguous. Returning False, but in future this will result in an error. Use `array.size > 0` to check that an array is not empty.\n",
      "  if diff:\n",
      "/home/vimal/anaconda3/lib/python3.6/site-packages/sklearn/preprocessing/label.py:151: DeprecationWarning: The truth value of an empty array is ambiguous. Returning False, but in future this will result in an error. Use `array.size > 0` to check that an array is not empty.\n",
      "  if diff:\n",
      "/home/vimal/anaconda3/lib/python3.6/site-packages/sklearn/preprocessing/label.py:151: DeprecationWarning: The truth value of an empty array is ambiguous. Returning False, but in future this will result in an error. Use `array.size > 0` to check that an array is not empty.\n",
      "  if diff:\n"
     ]
    }
   ],
   "source": [
    "#Ensembler based on xgboost Gradient boosting.\n",
    "    \n",
    "#Loading data\n",
    "#X, X_test, n_preds, n_class = get_X_X_Test(valid_folder, test_folder)\n",
    "#y = y_valid\n",
    "    \n",
    "#Defining classifier\n",
    "xgb = XGBClassifier(max_depth=4, learning_rate=0.05, n_estimators=200,\n",
    "                        objective='multi:softprob', gamma=0., \n",
    "                        max_delta_step=0., subsample=0.9, colsample_bytree=0.9,\n",
    "                        seed=0)  \n",
    "xgb.fit(iris.data, iris.target)   \n",
    "#y_pred = xgb.predict_proba(X_test)\n",
    "score = cross_val_score(xgb,iris.data,iris.target)                       \n",
    "print(score.mean()) "
   ]
  },
  {
   "cell_type": "code",
   "execution_count": 11,
   "metadata": {},
   "outputs": [
    {
     "name": "stdout",
     "output_type": "stream",
     "text": [
      "[0.   0.25 0.5  0.75 1.  ]\n",
      "[0.         0.33333333 0.66666667 1.        ]\n",
      "[[0.   0.25 0.5  0.75 1.  ]\n",
      " [0.   0.25 0.5  0.75 1.  ]\n",
      " [0.   0.25 0.5  0.75 1.  ]\n",
      " [0.   0.25 0.5  0.75 1.  ]]\n",
      "[[0.         0.         0.         0.         0.        ]\n",
      " [0.33333333 0.33333333 0.33333333 0.33333333 0.33333333]\n",
      " [0.66666667 0.66666667 0.66666667 0.66666667 0.66666667]\n",
      " [1.         1.         1.         1.         1.        ]]\n"
     ]
    }
   ],
   "source": [
    "import numpy as np\n",
    "nx, ny = (5, 4)\n",
    "x = np.linspace(0, 1, nx)\n",
    "y = np.linspace(0, 1, ny)\n",
    "xv, yv = np.meshgrid(x, y)\n",
    "print(x)\n",
    "print(y)\n",
    "print(xv)\n",
    "print(yv)"
   ]
  },
  {
   "cell_type": "code",
   "execution_count": 3,
   "metadata": {},
   "outputs": [
    {
     "name": "stdout",
     "output_type": "stream",
     "text": [
      "[[ 0.95885015 -1.29063563]]\n",
      "[[ 0.95885015 -1.29063563  1.95885015 -0.29063563]]\n"
     ]
    }
   ],
   "source": [
    "\n",
    "X = np.random.randn(1, 2)\n",
    "X_train = np.r_['-1',X,X+1]\n",
    "print(X)\n",
    "print(X_train)\n"
   ]
  },
  {
   "cell_type": "code",
   "execution_count": 9,
   "metadata": {},
   "outputs": [
    {
     "data": {
      "text/plain": [
       "array([[0],\n",
       "       [1],\n",
       "       [2],\n",
       "       [3],\n",
       "       [4],\n",
       "       [5],\n",
       "       [6],\n",
       "       [7],\n",
       "       [8],\n",
       "       [9]])"
      ]
     },
     "execution_count": 9,
     "metadata": {},
     "output_type": "execute_result"
    }
   ],
   "source": [
    "a = np.arange(10).reshape(2,5)\n",
    "a.reshape(-1,1)"
   ]
  },
  {
   "cell_type": "code",
   "execution_count": 16,
   "metadata": {},
   "outputs": [
    {
     "data": {
      "text/plain": [
       "array([[ 0.19375437, -1.48892761],\n",
       "       [-1.36568574, -2.65079589],\n",
       "       [ 3.86067231,  3.36146339],\n",
       "       [-2.41104146, -3.52570066],\n",
       "       [ 3.50846611, -2.48369943],\n",
       "       [-2.8486108 , -1.01003719],\n",
       "       [ 0.09618668, -1.37215114],\n",
       "       [ 2.73286438,  1.55381054],\n",
       "       [-0.54667929,  0.95645933],\n",
       "       [ 3.60825605,  2.94118931],\n",
       "       [-3.23412863, -3.02058147],\n",
       "       [ 0.80841515,  0.46790762],\n",
       "       [ 1.26459396, -1.53119235],\n",
       "       [ 1.23252299, -2.45888629],\n",
       "       [ 1.60527431,  3.56139094],\n",
       "       [ 1.95828139,  0.85857732],\n",
       "       [ 1.2516786 ,  3.39602248],\n",
       "       [ 2.63200606, -1.46052799],\n",
       "       [ 0.87884268,  2.75352369],\n",
       "       [-2.98551014,  0.05303036]])"
      ]
     },
     "execution_count": 16,
     "metadata": {},
     "output_type": "execute_result"
    }
   ],
   "source": [
    "X = 0.3 * np.random.randn(10, 2)\n",
    "X_outliers = np.random.uniform(low=-4, high=4, size=(20, 2))\n",
    "X_outliers"
   ]
  },
  {
   "cell_type": "code",
   "execution_count": 25,
   "metadata": {},
   "outputs": [
    {
     "data": {
      "text/plain": [
       "6"
      ]
     },
     "execution_count": 25,
     "metadata": {},
     "output_type": "execute_result"
    }
   ],
   "source": [
    "s = [1,2,1,2,1,2,1,2,1,2,1,2,1,1]\n",
    "t = np.array(s)\n",
    "q = t[t==2].size\n",
    "q"
   ]
  }
 ],
 "metadata": {
  "kernelspec": {
   "display_name": "Python 3",
   "language": "python",
   "name": "python3"
  },
  "language_info": {
   "codemirror_mode": {
    "name": "ipython",
    "version": 3
   },
   "file_extension": ".py",
   "mimetype": "text/x-python",
   "name": "python",
   "nbconvert_exporter": "python",
   "pygments_lexer": "ipython3",
   "version": "3.6.5"
  }
 },
 "nbformat": 4,
 "nbformat_minor": 2
}
