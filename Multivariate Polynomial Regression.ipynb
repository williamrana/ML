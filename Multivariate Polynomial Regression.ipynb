{
 "cells": [
  {
   "cell_type": "code",
   "execution_count": 2,
   "metadata": {},
   "outputs": [
    {
     "name": "stdout",
     "output_type": "stream",
     "text": [
      "0.10536217473134411\n",
      "(37.375, 38.1)\n",
      "(34.625, 32.1)\n",
      "(35.75, 37.2)\n",
      "(31.75, 28.0)\n",
      "(30.5, 26.4)\n",
      "(29.875, 24.3)\n",
      "(23.875, 19.1)\n",
      "(31.75, 34.3)\n",
      "(28.625, 29.8)\n",
      "(31.75, 31.3)\n",
      "(28.75, 37.0)\n",
      "(32.625, 32.2)\n",
      "(35.625, 46.6)\n",
      "(32.0, 27.9)\n",
      "(35.75, 40.8)\n",
      "(35.875, 44.3)\n",
      "(34.375, 43.4)\n",
      "(29.0, 36.4)\n",
      "(26.375, 30.0)\n",
      "(36.0, 44.6)\n",
      "(34.875, 33.8)\n",
      "(35.5, 29.8)\n",
      "(21.75, 32.7)\n",
      "(27.125, 23.7)\n",
      "(29.5, 35.0)\n",
      "(33.25, 32.4)\n",
      "(34.75, 27.2)\n",
      "(33.875, 26.6)\n",
      "(34.375, 25.8)\n",
      "(29.625, 23.5)\n",
      "(35.375, 30.0)\n",
      "(40.25, 39.1)\n",
      "(38.875, 39.0)\n",
      "(39.625, 35.1)\n",
      "(36.875, 32.3)\n",
      "(38.0, 37.0)\n",
      "(38.125, 37.7)\n",
      "(36.875, 34.1)\n",
      "(36.125, 34.7)\n",
      "(37.375, 34.4)\n",
      "(35.5, 29.9)\n",
      "(34.0, 33.0)\n",
      "(34.625, 33.7)\n",
      "(34.125, 32.4)\n",
      "(28.75, 32.9)\n",
      "(33.625, 31.6)\n",
      "(28.625, 28.1)\n",
      "(30.875, 30.7)\n",
      "(27.75, 25.4)\n",
      "(26.375, 24.2)\n",
      "(26.875, 22.4)\n",
      "(25.0, 26.6)\n",
      "(28.375, 20.2)\n",
      "(26.25, 17.6)\n",
      "(37.75, 28.0)\n",
      "(37.25, 27.0)\n",
      "(38.5, 34.0)\n",
      "(36.875, 31.0)\n",
      "(37.125, 29.0)\n",
      "(36.625, 27.0)\n",
      "(35.625, 24.0)\n",
      "(37.375, 36.0)\n",
      "(39.125, 37.0)\n",
      "(39.25, 31.0)\n",
      "(39.375, 38.0)\n",
      "(39.5, 36.0)\n",
      "(33.5, 36.0)\n",
      "(36.375, 36.0)\n",
      "(37.75, 34.0)\n",
      "(39.125, 38.0)\n",
      "(39.125, 32.0)\n",
      "(39.125, 38.0)\n",
      "(31.0, 25.0)\n",
      "(31.375, 38.0)\n",
      "(37.0, 26.0)\n",
      "(31.25, 22.0)\n",
      "(31.5, 32.0)\n",
      "(37.875, 36.0)\n",
      "(35.125, 27.0)\n",
      "(35.625, 27.0)\n",
      "(41.0, 44.0)\n",
      "(38.375, 32.0)\n",
      "(36.5, 28.0)\n",
      "(36.25, 31.0)\n"
     ]
    }
   ],
   "source": [
    "import pandas as pd\n",
    "from sklearn.feature_selection import f_regression\n",
    "from scipy.optimize import minimize\n",
    "df = pd.read_csv('train.csv')\n",
    "import numpy as np\n",
    "#print(df[:][2:])\n",
    "from sklearn import linear_model\n",
    "from sklearn.preprocessing import PolynomialFeatures,StandardScaler\n",
    "import matplotlib.pyplot as plt\n",
    "lr = linear_model.LinearRegression(fit_intercept=True,normalize=True)\n",
    "pl = PolynomialFeatures(degree=2)\n",
    "\n",
    "m = max(df['weight'])\n",
    "#df['weight'] = df['weight']/m\n",
    "\n",
    "acc = np.array(df[['acceleation','cylinders','hp','weight','model','origin']])\n",
    "#print(df[['acceleation','cylinders']])\n",
    "mpg = np.array(df['mpg'])\n",
    "#acc = StandardScaler.fit_transform(acc)\n",
    "plnew = pl.fit_transform(acc[:300])\n",
    "#pl = np.poly1d(np.polyfit(acc[:300],mpg[:300],3))\n",
    "lr.fit(plnew,mpg[:300])\n",
    "print(lr.score(pl.fit_transform(acc[300:]),mpg[300:]))\n",
    "\n",
    "for i in zip(lr.predict(pl.fit_transform(acc[300:])),mpg[300:]):\n",
    "    print(i)\n",
    "\n",
    "\n",
    "\n"
   ]
  },
  {
   "cell_type": "code",
   "execution_count": 10,
   "metadata": {},
   "outputs": [
    {
     "name": "stdout",
     "output_type": "stream",
     "text": [
      "[[0 1]\n",
      " [2 3]\n",
      " [4 5]]\n",
      "[[ 1.  0.  1.  0.  0.  1.]\n",
      " [ 1.  2.  3.  4.  6.  9.]\n",
      " [ 1.  4.  5. 16. 20. 25.]]\n",
      "[[ 1.  0.  1.  0.]\n",
      " [ 1.  2.  3.  6.]\n",
      " [ 1.  4.  5. 20.]]\n"
     ]
    }
   ],
   "source": [
    "from sklearn.preprocessing import PolynomialFeatures\n",
    "import numpy as np\n",
    "\n",
    "X = np.arange(0,6).reshape(3,2)\n",
    "print(X)\n",
    "poly = PolynomialFeatures(2)\n",
    "print(poly.fit_transform(X))\n",
    "\n",
    "poly = PolynomialFeatures(interaction_only=True)\n",
    "print(poly.fit_transform(X))\n"
   ]
  },
  {
   "cell_type": "code",
   "execution_count": 7,
   "metadata": {},
   "outputs": [
    {
     "name": "stdout",
     "output_type": "stream",
     "text": [
      "[-9.18852826e-16  1.00000000e+00  3.00000000e+00]\n",
      "            2\n",
      "-9.189e-16 x + 1 x + 3\n"
     ]
    }
   ],
   "source": [
    "import numpy as np\n",
    "x = np.array([1,2,3])\n",
    "y = np.array([4,5,6])\n",
    "z = np.polyfit(x, y, 2)\n",
    "print(z)\n",
    "p = np.poly1d(z)\n",
    "print(p)"
   ]
  },
  {
   "cell_type": "code",
   "execution_count": 51,
   "metadata": {},
   "outputs": [
    {
     "data": {
      "text/plain": [
       "array([5.00000008, 4.99999988])"
      ]
     },
     "execution_count": 51,
     "metadata": {},
     "output_type": "execute_result"
    }
   ],
   "source": [
    "from scipy.optimize import minimize, rosen, rosen_der\n",
    "\n",
    "\n",
    "\n",
    "x0 = [1,2]\n",
    "def test(x0):\n",
    "    return ((x0[0]-5)**2+(x0[1]-5)**2)\n",
    "res = minimize(test,x0, method='BFGS', tol=1e-6)\n",
    "res.x"
   ]
  },
  {
   "cell_type": "code",
   "execution_count": 8,
   "metadata": {},
   "outputs": [
    {
     "data": {
      "text/plain": [
       "array([[1., 2., 3., 4., 6., 9.]])"
      ]
     },
     "execution_count": 8,
     "metadata": {},
     "output_type": "execute_result"
    }
   ],
   "source": [
    "from sklearn.preprocessing import PolynomialFeatures\n",
    "pl = PolynomialFeatures(degree=2)\n",
    "\n",
    "plnew = pl.fit_transform([[2, 3]])\n",
    "plnew"
   ]
  },
  {
   "cell_type": "code",
   "execution_count": null,
   "metadata": {},
   "outputs": [],
   "source": []
  }
 ],
 "metadata": {
  "kernelspec": {
   "display_name": "Python 3",
   "language": "python",
   "name": "python3"
  },
  "language_info": {
   "codemirror_mode": {
    "name": "ipython",
    "version": 3
   },
   "file_extension": ".py",
   "mimetype": "text/x-python",
   "name": "python",
   "nbconvert_exporter": "python",
   "pygments_lexer": "ipython3",
   "version": "3.6.5"
  }
 },
 "nbformat": 4,
 "nbformat_minor": 2
}
