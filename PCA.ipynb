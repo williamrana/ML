{
 "cells": [
  {
   "cell_type": "code",
   "execution_count": 3,
   "metadata": {},
   "outputs": [
    {
     "name": "stdout",
     "output_type": "stream",
     "text": [
      "[[-1.29783623e+00  1.88091556e+00  3.52703906e-16]\n",
      " [ 5.90521697e+00 -5.92144199e-01  3.52703906e-16]\n",
      " [-4.60738074e+00 -1.28877136e+00  3.52703906e-16]]\n",
      "1.0\n",
      "[[ 0.05727449  0.07973465  0.56824852  0.56824852  0.56824852 -0.14711513]\n",
      " [ 0.57117551  0.23223576  0.03765552  0.03765552  0.03765552  0.7845835 ]\n",
      " [-0.21841727 -0.61276584  0.61513662 -0.21071236 -0.21071236  0.33108829]]\n",
      "[7.60157376e+00 2.35571851e+00 6.10901085e-16]\n"
     ]
    }
   ],
   "source": [
    "import numpy as np\n",
    "from sklearn.decomposition import PCA\n",
    "X = np.array([[-1, -1,3,4,5,6], [-2, -1,7,8,9,3], [-3, -2,1,2,3,4]])\n",
    "pca = PCA(n_components=3)\n",
    "x = pca.fit_transform(X)\n",
    "print(x)\n",
    "\n",
    "print(sum(pca.explained_variance_ratio_))  \n",
    "print(pca.components_)\n",
    "print(pca.singular_values_)  "
   ]
  },
  {
   "cell_type": "code",
   "execution_count": null,
   "metadata": {},
   "outputs": [],
   "source": [
    "import pandas as pd\n",
    "\n",
    "url = \"https://archive.ics.uci.edu/ml/machine-learning-databases/iris/iris.data\"\n",
    "\n",
    "# load dataset into Pandas DataFrame\n",
    "df = pd.read_csv(url, names=['sepal length','sepal width','petal length','petal width','target'])\n",
    "from sklearn.preprocessing import StandardScaler\n",
    "\n",
    "features = ['sepal length', 'sepal width', 'petal length', 'petal width']\n",
    "\n",
    "# Separating out the features\n",
    "x = df.loc[:, features].values\n",
    "\n",
    "# Separating out the target\n",
    "y = df.loc[:,['target']].values\n",
    "\n",
    "# Standardizing the features\n",
    "x = StandardScaler().fit_transform(x)\n",
    "print(x[:5])\n",
    "from sklearn.decomposition import PCA\n",
    "\n",
    "pca = PCA(n_components=2)\n",
    "\n",
    "principalComponents = pca.fit_transform(x)\n",
    "\n",
    "principalDf = pd.DataFrame(data = principalComponents\n",
    "             , columns = ['principal component 1', 'principal component 2'])\n",
    "\n",
    "print(principalDf.head())\n",
    "print(pca.singular_values_,\"hello\",sum(pca.explained_variance_ratio_))"
   ]
  },
  {
   "cell_type": "code",
   "execution_count": 7,
   "metadata": {},
   "outputs": [
    {
     "data": {
      "text/plain": [
       "array([   0,    1,    2, ..., 4093, 4094, 4095])"
      ]
     },
     "execution_count": 7,
     "metadata": {},
     "output_type": "execute_result"
    }
   ],
   "source": [
    "import numpy as np\n",
    "\n",
    "x = np.arange(4096).reshape(64,64).reshape(4096,)\n",
    "x"
   ]
  }
 ],
 "metadata": {
  "kernelspec": {
   "display_name": "Python 3",
   "language": "python",
   "name": "python3"
  },
  "language_info": {
   "codemirror_mode": {
    "name": "ipython",
    "version": 3
   },
   "file_extension": ".py",
   "mimetype": "text/x-python",
   "name": "python",
   "nbconvert_exporter": "python",
   "pygments_lexer": "ipython3",
   "version": "3.6.5"
  }
 },
 "nbformat": 4,
 "nbformat_minor": 2
}
