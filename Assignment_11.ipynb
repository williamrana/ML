{
 "cells": [
  {
   "cell_type": "markdown",
   "metadata": {},
   "source": [
    "# Amazon Fine Food Reviews Analysis\n",
    "\n",
    "\n",
    "Data Source: https://www.kaggle.com/snap/amazon-fine-food-reviews <br>\n",
    "\n",
    "EDA: https://nycdatascience.com/blog/student-works/amazon-fine-foods-visualization/\n",
    "\n",
    "\n",
    "The Amazon Fine Food Reviews dataset consists of reviews of fine foods from Amazon.<br>\n",
    "\n",
    "Number of reviews: 568,454<br>\n",
    "Number of users: 256,059<br>\n",
    "Number of products: 74,258<br>\n",
    "Timespan: Oct 1999 - Oct 2012<br>\n",
    "Number of Attributes/Columns in data: 10 \n",
    "\n",
    "Attribute Information:\n",
    "\n",
    "1. Id\n",
    "2. ProductId - unique identifier for the product\n",
    "3. UserId - unqiue identifier for the user\n",
    "4. ProfileName\n",
    "5. HelpfulnessNumerator - number of users who found the review helpful\n",
    "6. HelpfulnessDenominator - number of users who indicated whether they found the review helpful or not\n",
    "7. Score - rating between 1 and 5\n",
    "8. Time - timestamp for the review\n",
    "9. Summary - brief summary of the review\n",
    "10. Text - text of the review\n",
    "\n",
    "\n",
    "#### Objective:\n",
    "Given a review, determine whether the review is positive (rating of 4 or 5) or negative (rating of 1 or 2).\n",
    "\n",
    "<br>\n",
    "[Q] How to determine if a review is positive or negative?<br>\n",
    "<br> \n",
    "[Ans] We could use Score/Rating. A rating of 4 or 5 can be cosnidered as a positive review. A rating of 1 or 2 can be considered as negative one. A review of rating 3 is considered nuetral and such reviews are ignored from our analysis. This is an approximate and proxy way of determining the polarity (positivity/negativity) of a review.\n",
    "\n",
    "\n"
   ]
  },
  {
   "cell_type": "markdown",
   "metadata": {},
   "source": [
    "# [1]. Reading Data"
   ]
  },
  {
   "cell_type": "markdown",
   "metadata": {},
   "source": [
    "## [1.1] Loading the data\n",
    "\n",
    "The dataset is available in two forms\n",
    "1. .csv file\n",
    "2. SQLite Database\n",
    "\n",
    "In order to load the data, We have used the SQLITE dataset as it is easier to query the data and visualise the data efficiently.\n",
    "<br> \n",
    "\n",
    "Here as we only want to get the global sentiment of the recommendations (positive or negative), we will purposefully ignore all Scores equal to 3. If the score is above 3, then the recommendation wil be set to \"positive\". Otherwise, it will be set to \"negative\"."
   ]
  },
  {
   "cell_type": "code",
   "execution_count": 1,
   "metadata": {},
   "outputs": [],
   "source": [
    "%matplotlib inline\n",
    "import warnings\n",
    "warnings.filterwarnings(\"ignore\")\n",
    "\n",
    "\n",
    "import sqlite3\n",
    "import pandas as pd\n",
    "import numpy as np\n",
    "import nltk\n",
    "import string\n",
    "import matplotlib.pyplot as plt\n",
    "import seaborn as sns\n",
    "from sklearn.feature_extraction.text import TfidfTransformer\n",
    "from sklearn.feature_extraction.text import TfidfVectorizer\n",
    "\n",
    "from sklearn.feature_extraction.text import CountVectorizer\n",
    "from sklearn.metrics import confusion_matrix\n",
    "from sklearn import metrics\n",
    "from sklearn.metrics import roc_curve, auc\n",
    "from nltk.stem.porter import PorterStemmer\n",
    "\n",
    "import re\n",
    "# Tutorial about Python regular expressions: https://pymotw.com/2/re/\n",
    "import string\n",
    "from nltk.corpus import stopwords\n",
    "from nltk.stem import PorterStemmer\n",
    "from nltk.stem.wordnet import WordNetLemmatizer\n",
    "\n",
    "from gensim.models import Word2Vec\n",
    "from gensim.models import KeyedVectors\n",
    "import pickle\n",
    "\n",
    "from tqdm import tqdm\n",
    "import os\n",
    "import numpy as np\n",
    "import pandas as pd\n",
    "import matplotlib.pyplot as plt\n",
    "from sklearn.model_selection import train_test_split\n",
    "from sklearn.neighbors import KNeighborsClassifier\n",
    "from sklearn.metrics import accuracy_score\n",
    "from sklearn.model_selection import cross_val_score\n",
    "from collections import Counter\n",
    "from sklearn.metrics import accuracy_score\n",
    "from sklearn import model_selection as cross_validation\n",
    "import warnings\n",
    "warnings.filterwarnings(\"ignore\")"
   ]
  },
  {
   "cell_type": "code",
   "execution_count": 2,
   "metadata": {},
   "outputs": [
    {
     "name": "stdout",
     "output_type": "stream",
     "text": [
      "Number of data points in our data (100000, 10)\n"
     ]
    },
    {
     "data": {
      "text/html": [
       "<div>\n",
       "<style scoped>\n",
       "    .dataframe tbody tr th:only-of-type {\n",
       "        vertical-align: middle;\n",
       "    }\n",
       "\n",
       "    .dataframe tbody tr th {\n",
       "        vertical-align: top;\n",
       "    }\n",
       "\n",
       "    .dataframe thead th {\n",
       "        text-align: right;\n",
       "    }\n",
       "</style>\n",
       "<table border=\"1\" class=\"dataframe\">\n",
       "  <thead>\n",
       "    <tr style=\"text-align: right;\">\n",
       "      <th></th>\n",
       "      <th>Id</th>\n",
       "      <th>ProductId</th>\n",
       "      <th>UserId</th>\n",
       "      <th>ProfileName</th>\n",
       "      <th>HelpfulnessNumerator</th>\n",
       "      <th>HelpfulnessDenominator</th>\n",
       "      <th>Score</th>\n",
       "      <th>Time</th>\n",
       "      <th>Summary</th>\n",
       "      <th>Text</th>\n",
       "    </tr>\n",
       "  </thead>\n",
       "  <tbody>\n",
       "    <tr>\n",
       "      <th>0</th>\n",
       "      <td>1</td>\n",
       "      <td>B001E4KFG0</td>\n",
       "      <td>A3SGXH7AUHU8GW</td>\n",
       "      <td>delmartian</td>\n",
       "      <td>1</td>\n",
       "      <td>1</td>\n",
       "      <td>1</td>\n",
       "      <td>1303862400</td>\n",
       "      <td>Good Quality Dog Food</td>\n",
       "      <td>I have bought several of the Vitality canned d...</td>\n",
       "    </tr>\n",
       "    <tr>\n",
       "      <th>1</th>\n",
       "      <td>2</td>\n",
       "      <td>B00813GRG4</td>\n",
       "      <td>A1D87F6ZCVE5NK</td>\n",
       "      <td>dll pa</td>\n",
       "      <td>0</td>\n",
       "      <td>0</td>\n",
       "      <td>0</td>\n",
       "      <td>1346976000</td>\n",
       "      <td>Not as Advertised</td>\n",
       "      <td>Product arrived labeled as Jumbo Salted Peanut...</td>\n",
       "    </tr>\n",
       "    <tr>\n",
       "      <th>2</th>\n",
       "      <td>3</td>\n",
       "      <td>B000LQOCH0</td>\n",
       "      <td>ABXLMWJIXXAIN</td>\n",
       "      <td>Natalia Corres \"Natalia Corres\"</td>\n",
       "      <td>1</td>\n",
       "      <td>1</td>\n",
       "      <td>1</td>\n",
       "      <td>1219017600</td>\n",
       "      <td>\"Delight\" says it all</td>\n",
       "      <td>This is a confection that has been around a fe...</td>\n",
       "    </tr>\n",
       "  </tbody>\n",
       "</table>\n",
       "</div>"
      ],
      "text/plain": [
       "   Id   ProductId          UserId                      ProfileName  \\\n",
       "0   1  B001E4KFG0  A3SGXH7AUHU8GW                       delmartian   \n",
       "1   2  B00813GRG4  A1D87F6ZCVE5NK                           dll pa   \n",
       "2   3  B000LQOCH0   ABXLMWJIXXAIN  Natalia Corres \"Natalia Corres\"   \n",
       "\n",
       "   HelpfulnessNumerator  HelpfulnessDenominator  Score        Time  \\\n",
       "0                     1                       1      1  1303862400   \n",
       "1                     0                       0      0  1346976000   \n",
       "2                     1                       1      1  1219017600   \n",
       "\n",
       "                 Summary                                               Text  \n",
       "0  Good Quality Dog Food  I have bought several of the Vitality canned d...  \n",
       "1      Not as Advertised  Product arrived labeled as Jumbo Salted Peanut...  \n",
       "2  \"Delight\" says it all  This is a confection that has been around a fe...  "
      ]
     },
     "execution_count": 2,
     "metadata": {},
     "output_type": "execute_result"
    }
   ],
   "source": [
    "# using SQLite Table to read data.\n",
    "con = sqlite3.connect('amazon-fine-food-reviews/database.sqlite') \n",
    "\n",
    "# filtering only positive and negative reviews i.e. \n",
    "# not taking into consideration those reviews with Score=3\n",
    "# SELECT * FROM Reviews WHERE Score != 3 LIMIT 500000, will give top 500000 data points\n",
    "# you can change the number to any other number based on your computing power\n",
    "\n",
    "# filtered_data = pd.read_sql_query(\"\"\" SELECT * FROM Reviews WHERE Score != 3 LIMIT 500000\"\"\", con) \n",
    "# for tsne assignment you can take 5k data points\n",
    "\n",
    "filtered_data = pd.read_sql_query(\"\"\" SELECT * FROM Reviews WHERE Score != 3 LIMIT 100000\"\"\", con) \n",
    "\n",
    "# Give reviews with Score>3 a positive rating(1), and reviews with a score<3 a negative rating(0).\n",
    "def partition(x):\n",
    "    if x < 3:\n",
    "        return 0\n",
    "    return 1\n",
    "\n",
    "#changing reviews with score less than 3 to be positive and vice-versa\n",
    "actualScore = filtered_data['Score']\n",
    "positiveNegative = actualScore.map(partition) \n",
    "filtered_data['Score'] = positiveNegative\n",
    "print(\"Number of data points in our data\", filtered_data.shape)\n",
    "filtered_data.head(3)"
   ]
  },
  {
   "cell_type": "code",
   "execution_count": 3,
   "metadata": {},
   "outputs": [],
   "source": [
    "display = pd.read_sql_query(\"\"\"\n",
    "SELECT UserId, ProductId, ProfileName, Time, Score, Text, COUNT(*)\n",
    "FROM Reviews\n",
    "GROUP BY UserId\n",
    "HAVING COUNT(*)>1\n",
    "\"\"\", con)"
   ]
  },
  {
   "cell_type": "code",
   "execution_count": 4,
   "metadata": {
    "scrolled": true
   },
   "outputs": [
    {
     "name": "stdout",
     "output_type": "stream",
     "text": [
      "(80668, 7)\n"
     ]
    },
    {
     "data": {
      "text/html": [
       "<div>\n",
       "<style scoped>\n",
       "    .dataframe tbody tr th:only-of-type {\n",
       "        vertical-align: middle;\n",
       "    }\n",
       "\n",
       "    .dataframe tbody tr th {\n",
       "        vertical-align: top;\n",
       "    }\n",
       "\n",
       "    .dataframe thead th {\n",
       "        text-align: right;\n",
       "    }\n",
       "</style>\n",
       "<table border=\"1\" class=\"dataframe\">\n",
       "  <thead>\n",
       "    <tr style=\"text-align: right;\">\n",
       "      <th></th>\n",
       "      <th>UserId</th>\n",
       "      <th>ProductId</th>\n",
       "      <th>ProfileName</th>\n",
       "      <th>Time</th>\n",
       "      <th>Score</th>\n",
       "      <th>Text</th>\n",
       "      <th>COUNT(*)</th>\n",
       "    </tr>\n",
       "  </thead>\n",
       "  <tbody>\n",
       "    <tr>\n",
       "      <th>0</th>\n",
       "      <td>#oc-R115TNMSPFT9I7</td>\n",
       "      <td>B007Y59HVM</td>\n",
       "      <td>Breyton</td>\n",
       "      <td>1331510400</td>\n",
       "      <td>2</td>\n",
       "      <td>Overall its just OK when considering the price...</td>\n",
       "      <td>2</td>\n",
       "    </tr>\n",
       "    <tr>\n",
       "      <th>1</th>\n",
       "      <td>#oc-R11D9D7SHXIJB9</td>\n",
       "      <td>B005HG9ET0</td>\n",
       "      <td>Louis E. Emory \"hoppy\"</td>\n",
       "      <td>1342396800</td>\n",
       "      <td>5</td>\n",
       "      <td>My wife has recurring extreme muscle spasms, u...</td>\n",
       "      <td>3</td>\n",
       "    </tr>\n",
       "    <tr>\n",
       "      <th>2</th>\n",
       "      <td>#oc-R11DNU2NBKQ23Z</td>\n",
       "      <td>B007Y59HVM</td>\n",
       "      <td>Kim Cieszykowski</td>\n",
       "      <td>1348531200</td>\n",
       "      <td>1</td>\n",
       "      <td>This coffee is horrible and unfortunately not ...</td>\n",
       "      <td>2</td>\n",
       "    </tr>\n",
       "    <tr>\n",
       "      <th>3</th>\n",
       "      <td>#oc-R11O5J5ZVQE25C</td>\n",
       "      <td>B005HG9ET0</td>\n",
       "      <td>Penguin Chick</td>\n",
       "      <td>1346889600</td>\n",
       "      <td>5</td>\n",
       "      <td>This will be the bottle that you grab from the...</td>\n",
       "      <td>3</td>\n",
       "    </tr>\n",
       "    <tr>\n",
       "      <th>4</th>\n",
       "      <td>#oc-R12KPBODL2B5ZD</td>\n",
       "      <td>B007OSBE1U</td>\n",
       "      <td>Christopher P. Presta</td>\n",
       "      <td>1348617600</td>\n",
       "      <td>1</td>\n",
       "      <td>I didnt like this coffee. Instead of telling y...</td>\n",
       "      <td>2</td>\n",
       "    </tr>\n",
       "  </tbody>\n",
       "</table>\n",
       "</div>"
      ],
      "text/plain": [
       "               UserId   ProductId             ProfileName        Time  Score  \\\n",
       "0  #oc-R115TNMSPFT9I7  B007Y59HVM                 Breyton  1331510400      2   \n",
       "1  #oc-R11D9D7SHXIJB9  B005HG9ET0  Louis E. Emory \"hoppy\"  1342396800      5   \n",
       "2  #oc-R11DNU2NBKQ23Z  B007Y59HVM        Kim Cieszykowski  1348531200      1   \n",
       "3  #oc-R11O5J5ZVQE25C  B005HG9ET0           Penguin Chick  1346889600      5   \n",
       "4  #oc-R12KPBODL2B5ZD  B007OSBE1U   Christopher P. Presta  1348617600      1   \n",
       "\n",
       "                                                Text  COUNT(*)  \n",
       "0  Overall its just OK when considering the price...         2  \n",
       "1  My wife has recurring extreme muscle spasms, u...         3  \n",
       "2  This coffee is horrible and unfortunately not ...         2  \n",
       "3  This will be the bottle that you grab from the...         3  \n",
       "4  I didnt like this coffee. Instead of telling y...         2  "
      ]
     },
     "execution_count": 4,
     "metadata": {},
     "output_type": "execute_result"
    }
   ],
   "source": [
    "print(display.shape)\n",
    "display.head()"
   ]
  },
  {
   "cell_type": "code",
   "execution_count": 5,
   "metadata": {},
   "outputs": [
    {
     "data": {
      "text/html": [
       "<div>\n",
       "<style scoped>\n",
       "    .dataframe tbody tr th:only-of-type {\n",
       "        vertical-align: middle;\n",
       "    }\n",
       "\n",
       "    .dataframe tbody tr th {\n",
       "        vertical-align: top;\n",
       "    }\n",
       "\n",
       "    .dataframe thead th {\n",
       "        text-align: right;\n",
       "    }\n",
       "</style>\n",
       "<table border=\"1\" class=\"dataframe\">\n",
       "  <thead>\n",
       "    <tr style=\"text-align: right;\">\n",
       "      <th></th>\n",
       "      <th>UserId</th>\n",
       "      <th>ProductId</th>\n",
       "      <th>ProfileName</th>\n",
       "      <th>Time</th>\n",
       "      <th>Score</th>\n",
       "      <th>Text</th>\n",
       "      <th>COUNT(*)</th>\n",
       "    </tr>\n",
       "  </thead>\n",
       "  <tbody>\n",
       "    <tr>\n",
       "      <th>80638</th>\n",
       "      <td>AZY10LLTJ71NX</td>\n",
       "      <td>B006P7E5ZI</td>\n",
       "      <td>undertheshrine \"undertheshrine\"</td>\n",
       "      <td>1334707200</td>\n",
       "      <td>5</td>\n",
       "      <td>I was recommended to try green tea extract to ...</td>\n",
       "      <td>5</td>\n",
       "    </tr>\n",
       "  </tbody>\n",
       "</table>\n",
       "</div>"
      ],
      "text/plain": [
       "              UserId   ProductId                      ProfileName        Time  \\\n",
       "80638  AZY10LLTJ71NX  B006P7E5ZI  undertheshrine \"undertheshrine\"  1334707200   \n",
       "\n",
       "       Score                                               Text  COUNT(*)  \n",
       "80638      5  I was recommended to try green tea extract to ...         5  "
      ]
     },
     "execution_count": 5,
     "metadata": {},
     "output_type": "execute_result"
    }
   ],
   "source": [
    "display[display['UserId']=='AZY10LLTJ71NX']"
   ]
  },
  {
   "cell_type": "code",
   "execution_count": 6,
   "metadata": {},
   "outputs": [
    {
     "data": {
      "text/plain": [
       "393063"
      ]
     },
     "execution_count": 6,
     "metadata": {},
     "output_type": "execute_result"
    }
   ],
   "source": [
    "display['COUNT(*)'].sum()"
   ]
  },
  {
   "cell_type": "markdown",
   "metadata": {},
   "source": [
    "#  [2] Exploratory Data Analysis"
   ]
  },
  {
   "cell_type": "markdown",
   "metadata": {},
   "source": [
    "## [2.1] Data Cleaning: Deduplication\n",
    "\n",
    "It is observed (as shown in the table below) that the reviews data had many duplicate entries. Hence it was necessary to remove duplicates in order to get unbiased results for the analysis of the data.  Following is an example:"
   ]
  },
  {
   "cell_type": "code",
   "execution_count": 7,
   "metadata": {
    "scrolled": false
   },
   "outputs": [
    {
     "data": {
      "text/html": [
       "<div>\n",
       "<style scoped>\n",
       "    .dataframe tbody tr th:only-of-type {\n",
       "        vertical-align: middle;\n",
       "    }\n",
       "\n",
       "    .dataframe tbody tr th {\n",
       "        vertical-align: top;\n",
       "    }\n",
       "\n",
       "    .dataframe thead th {\n",
       "        text-align: right;\n",
       "    }\n",
       "</style>\n",
       "<table border=\"1\" class=\"dataframe\">\n",
       "  <thead>\n",
       "    <tr style=\"text-align: right;\">\n",
       "      <th></th>\n",
       "      <th>Id</th>\n",
       "      <th>ProductId</th>\n",
       "      <th>UserId</th>\n",
       "      <th>ProfileName</th>\n",
       "      <th>HelpfulnessNumerator</th>\n",
       "      <th>HelpfulnessDenominator</th>\n",
       "      <th>Score</th>\n",
       "      <th>Time</th>\n",
       "      <th>Summary</th>\n",
       "      <th>Text</th>\n",
       "    </tr>\n",
       "  </thead>\n",
       "  <tbody>\n",
       "    <tr>\n",
       "      <th>0</th>\n",
       "      <td>78445</td>\n",
       "      <td>B000HDL1RQ</td>\n",
       "      <td>AR5J8UI46CURR</td>\n",
       "      <td>Geetha Krishnan</td>\n",
       "      <td>2</td>\n",
       "      <td>2</td>\n",
       "      <td>5</td>\n",
       "      <td>1199577600</td>\n",
       "      <td>LOACKER QUADRATINI VANILLA WAFERS</td>\n",
       "      <td>DELICIOUS WAFERS. I FIND THAT EUROPEAN WAFERS ...</td>\n",
       "    </tr>\n",
       "    <tr>\n",
       "      <th>1</th>\n",
       "      <td>138317</td>\n",
       "      <td>B000HDOPYC</td>\n",
       "      <td>AR5J8UI46CURR</td>\n",
       "      <td>Geetha Krishnan</td>\n",
       "      <td>2</td>\n",
       "      <td>2</td>\n",
       "      <td>5</td>\n",
       "      <td>1199577600</td>\n",
       "      <td>LOACKER QUADRATINI VANILLA WAFERS</td>\n",
       "      <td>DELICIOUS WAFERS. I FIND THAT EUROPEAN WAFERS ...</td>\n",
       "    </tr>\n",
       "    <tr>\n",
       "      <th>2</th>\n",
       "      <td>138277</td>\n",
       "      <td>B000HDOPYM</td>\n",
       "      <td>AR5J8UI46CURR</td>\n",
       "      <td>Geetha Krishnan</td>\n",
       "      <td>2</td>\n",
       "      <td>2</td>\n",
       "      <td>5</td>\n",
       "      <td>1199577600</td>\n",
       "      <td>LOACKER QUADRATINI VANILLA WAFERS</td>\n",
       "      <td>DELICIOUS WAFERS. I FIND THAT EUROPEAN WAFERS ...</td>\n",
       "    </tr>\n",
       "    <tr>\n",
       "      <th>3</th>\n",
       "      <td>73791</td>\n",
       "      <td>B000HDOPZG</td>\n",
       "      <td>AR5J8UI46CURR</td>\n",
       "      <td>Geetha Krishnan</td>\n",
       "      <td>2</td>\n",
       "      <td>2</td>\n",
       "      <td>5</td>\n",
       "      <td>1199577600</td>\n",
       "      <td>LOACKER QUADRATINI VANILLA WAFERS</td>\n",
       "      <td>DELICIOUS WAFERS. I FIND THAT EUROPEAN WAFERS ...</td>\n",
       "    </tr>\n",
       "    <tr>\n",
       "      <th>4</th>\n",
       "      <td>155049</td>\n",
       "      <td>B000PAQ75C</td>\n",
       "      <td>AR5J8UI46CURR</td>\n",
       "      <td>Geetha Krishnan</td>\n",
       "      <td>2</td>\n",
       "      <td>2</td>\n",
       "      <td>5</td>\n",
       "      <td>1199577600</td>\n",
       "      <td>LOACKER QUADRATINI VANILLA WAFERS</td>\n",
       "      <td>DELICIOUS WAFERS. I FIND THAT EUROPEAN WAFERS ...</td>\n",
       "    </tr>\n",
       "  </tbody>\n",
       "</table>\n",
       "</div>"
      ],
      "text/plain": [
       "       Id   ProductId         UserId      ProfileName  HelpfulnessNumerator  \\\n",
       "0   78445  B000HDL1RQ  AR5J8UI46CURR  Geetha Krishnan                     2   \n",
       "1  138317  B000HDOPYC  AR5J8UI46CURR  Geetha Krishnan                     2   \n",
       "2  138277  B000HDOPYM  AR5J8UI46CURR  Geetha Krishnan                     2   \n",
       "3   73791  B000HDOPZG  AR5J8UI46CURR  Geetha Krishnan                     2   \n",
       "4  155049  B000PAQ75C  AR5J8UI46CURR  Geetha Krishnan                     2   \n",
       "\n",
       "   HelpfulnessDenominator  Score        Time  \\\n",
       "0                       2      5  1199577600   \n",
       "1                       2      5  1199577600   \n",
       "2                       2      5  1199577600   \n",
       "3                       2      5  1199577600   \n",
       "4                       2      5  1199577600   \n",
       "\n",
       "                             Summary  \\\n",
       "0  LOACKER QUADRATINI VANILLA WAFERS   \n",
       "1  LOACKER QUADRATINI VANILLA WAFERS   \n",
       "2  LOACKER QUADRATINI VANILLA WAFERS   \n",
       "3  LOACKER QUADRATINI VANILLA WAFERS   \n",
       "4  LOACKER QUADRATINI VANILLA WAFERS   \n",
       "\n",
       "                                                Text  \n",
       "0  DELICIOUS WAFERS. I FIND THAT EUROPEAN WAFERS ...  \n",
       "1  DELICIOUS WAFERS. I FIND THAT EUROPEAN WAFERS ...  \n",
       "2  DELICIOUS WAFERS. I FIND THAT EUROPEAN WAFERS ...  \n",
       "3  DELICIOUS WAFERS. I FIND THAT EUROPEAN WAFERS ...  \n",
       "4  DELICIOUS WAFERS. I FIND THAT EUROPEAN WAFERS ...  "
      ]
     },
     "execution_count": 7,
     "metadata": {},
     "output_type": "execute_result"
    }
   ],
   "source": [
    "display= pd.read_sql_query(\"\"\"\n",
    "SELECT *\n",
    "FROM Reviews\n",
    "WHERE Score != 3 AND UserId=\"AR5J8UI46CURR\"\n",
    "ORDER BY ProductID\n",
    "\"\"\", con)\n",
    "display.head()"
   ]
  },
  {
   "cell_type": "markdown",
   "metadata": {},
   "source": [
    "As it can be seen above that same user has multiple reviews with same values for HelpfulnessNumerator, HelpfulnessDenominator, Score, Time, Summary and Text and on doing analysis it was found that <br>\n",
    "<br> \n",
    "ProductId=B000HDOPZG was Loacker Quadratini Vanilla Wafer Cookies, 8.82-Ounce Packages (Pack of 8)<br>\n",
    "<br> \n",
    "ProductId=B000HDL1RQ was Loacker Quadratini Lemon Wafer Cookies, 8.82-Ounce Packages (Pack of 8) and so on<br>\n",
    "\n",
    "It was inferred after analysis that reviews with same parameters other than ProductId belonged to the same product just having different flavour or quantity. Hence in order to reduce redundancy it was decided to eliminate the rows having same parameters.<br>\n",
    "\n",
    "The method used for the same was that we first sort the data according to ProductId and then just keep the first similar product review and delelte the others. for eg. in the above just the review for ProductId=B000HDL1RQ remains. This method ensures that there is only one representative for each product and deduplication without sorting would lead to possibility of different representatives still existing for the same product."
   ]
  },
  {
   "cell_type": "code",
   "execution_count": 8,
   "metadata": {},
   "outputs": [],
   "source": [
    "#Sorting data according to ProductId in ascending order\n",
    "sorted_data=filtered_data.sort_values('ProductId', axis=0, ascending=True, inplace=False, kind='quicksort', na_position='last')"
   ]
  },
  {
   "cell_type": "code",
   "execution_count": 9,
   "metadata": {},
   "outputs": [
    {
     "data": {
      "text/plain": [
       "(87775, 10)"
      ]
     },
     "execution_count": 9,
     "metadata": {},
     "output_type": "execute_result"
    }
   ],
   "source": [
    "#Deduplication of entries\n",
    "final=sorted_data.drop_duplicates(subset={\"UserId\",\"ProfileName\",\"Time\",\"Text\"}, keep='first', inplace=False)\n",
    "final.shape"
   ]
  },
  {
   "cell_type": "code",
   "execution_count": 10,
   "metadata": {},
   "outputs": [
    {
     "data": {
      "text/plain": [
       "87.775"
      ]
     },
     "execution_count": 10,
     "metadata": {},
     "output_type": "execute_result"
    }
   ],
   "source": [
    "#Checking to see how much % of data still remains\n",
    "\n",
    "(final['Id'].size*1.0)/(filtered_data['Id'].size*1.0)*100"
   ]
  },
  {
   "cell_type": "markdown",
   "metadata": {},
   "source": [
    "<b>Observation:-</b> It was also seen that in two rows given below the value of HelpfulnessNumerator is greater than HelpfulnessDenominator which is not practically possible hence these two rows too are removed from calcualtions"
   ]
  },
  {
   "cell_type": "code",
   "execution_count": 11,
   "metadata": {},
   "outputs": [
    {
     "data": {
      "text/html": [
       "<div>\n",
       "<style scoped>\n",
       "    .dataframe tbody tr th:only-of-type {\n",
       "        vertical-align: middle;\n",
       "    }\n",
       "\n",
       "    .dataframe tbody tr th {\n",
       "        vertical-align: top;\n",
       "    }\n",
       "\n",
       "    .dataframe thead th {\n",
       "        text-align: right;\n",
       "    }\n",
       "</style>\n",
       "<table border=\"1\" class=\"dataframe\">\n",
       "  <thead>\n",
       "    <tr style=\"text-align: right;\">\n",
       "      <th></th>\n",
       "      <th>Id</th>\n",
       "      <th>ProductId</th>\n",
       "      <th>UserId</th>\n",
       "      <th>ProfileName</th>\n",
       "      <th>HelpfulnessNumerator</th>\n",
       "      <th>HelpfulnessDenominator</th>\n",
       "      <th>Score</th>\n",
       "      <th>Time</th>\n",
       "      <th>Summary</th>\n",
       "      <th>Text</th>\n",
       "    </tr>\n",
       "  </thead>\n",
       "  <tbody>\n",
       "    <tr>\n",
       "      <th>0</th>\n",
       "      <td>64422</td>\n",
       "      <td>B000MIDROQ</td>\n",
       "      <td>A161DK06JJMCYF</td>\n",
       "      <td>J. E. Stephens \"Jeanne\"</td>\n",
       "      <td>3</td>\n",
       "      <td>1</td>\n",
       "      <td>5</td>\n",
       "      <td>1224892800</td>\n",
       "      <td>Bought This for My Son at College</td>\n",
       "      <td>My son loves spaghetti so I didn't hesitate or...</td>\n",
       "    </tr>\n",
       "    <tr>\n",
       "      <th>1</th>\n",
       "      <td>44737</td>\n",
       "      <td>B001EQ55RW</td>\n",
       "      <td>A2V0I904FH7ABY</td>\n",
       "      <td>Ram</td>\n",
       "      <td>3</td>\n",
       "      <td>2</td>\n",
       "      <td>4</td>\n",
       "      <td>1212883200</td>\n",
       "      <td>Pure cocoa taste with crunchy almonds inside</td>\n",
       "      <td>It was almost a 'love at first bite' - the per...</td>\n",
       "    </tr>\n",
       "  </tbody>\n",
       "</table>\n",
       "</div>"
      ],
      "text/plain": [
       "      Id   ProductId          UserId              ProfileName  \\\n",
       "0  64422  B000MIDROQ  A161DK06JJMCYF  J. E. Stephens \"Jeanne\"   \n",
       "1  44737  B001EQ55RW  A2V0I904FH7ABY                      Ram   \n",
       "\n",
       "   HelpfulnessNumerator  HelpfulnessDenominator  Score        Time  \\\n",
       "0                     3                       1      5  1224892800   \n",
       "1                     3                       2      4  1212883200   \n",
       "\n",
       "                                        Summary  \\\n",
       "0             Bought This for My Son at College   \n",
       "1  Pure cocoa taste with crunchy almonds inside   \n",
       "\n",
       "                                                Text  \n",
       "0  My son loves spaghetti so I didn't hesitate or...  \n",
       "1  It was almost a 'love at first bite' - the per...  "
      ]
     },
     "execution_count": 11,
     "metadata": {},
     "output_type": "execute_result"
    }
   ],
   "source": [
    "display= pd.read_sql_query(\"\"\"\n",
    "SELECT *\n",
    "FROM Reviews\n",
    "WHERE Score != 3 AND Id=44737 OR Id=64422\n",
    "ORDER BY ProductID\n",
    "\"\"\", con)\n",
    "\n",
    "display.head()"
   ]
  },
  {
   "cell_type": "code",
   "execution_count": 12,
   "metadata": {},
   "outputs": [],
   "source": [
    "final=final[final.HelpfulnessNumerator<=final.HelpfulnessDenominator]"
   ]
  },
  {
   "cell_type": "code",
   "execution_count": 13,
   "metadata": {},
   "outputs": [
    {
     "name": "stdout",
     "output_type": "stream",
     "text": [
      "(87773, 10)\n"
     ]
    },
    {
     "data": {
      "text/plain": [
       "1    73592\n",
       "0    14181\n",
       "Name: Score, dtype: int64"
      ]
     },
     "execution_count": 13,
     "metadata": {},
     "output_type": "execute_result"
    }
   ],
   "source": [
    "#Before starting the next phase of preprocessing lets see the number of entries left\n",
    "print(final.shape)\n",
    "\n",
    "#How many positive and negative reviews are present in our dataset?\n",
    "final['Score'].value_counts()"
   ]
  },
  {
   "cell_type": "code",
   "execution_count": null,
   "metadata": {},
   "outputs": [],
   "source": []
  },
  {
   "cell_type": "markdown",
   "metadata": {},
   "source": [
    "#  [3] Preprocessing"
   ]
  },
  {
   "cell_type": "markdown",
   "metadata": {},
   "source": [
    "## [3.1].  Preprocessing Review Text\n",
    "\n",
    "Now that we have finished deduplication our data requires some preprocessing before we go on further with analysis and making the prediction model.\n",
    "\n",
    "Hence in the Preprocessing phase we do the following in the order below:-\n",
    "\n",
    "1. Begin by removing the html tags\n",
    "2. Remove any punctuations or limited set of special characters like , or . or # etc.\n",
    "3. Check if the word is made up of english letters and is not alpha-numeric\n",
    "4. Check to see if the length of the word is greater than 2 (as it was researched that there is no adjective in 2-letters)\n",
    "5. Convert the word to lowercase\n",
    "6. Remove Stopwords\n",
    "7. Finally Snowball Stemming the word (it was obsereved to be better than Porter Stemming)<br>\n",
    "\n",
    "After which we collect the words used to describe positive and negative reviews"
   ]
  },
  {
   "cell_type": "code",
   "execution_count": 14,
   "metadata": {},
   "outputs": [
    {
     "name": "stdout",
     "output_type": "stream",
     "text": [
      "My dogs loves this chicken but its a product from China, so we wont be buying it anymore.  Its very hard to find any chicken products made in the USA but they are out there, but this one isnt.  Its too bad too because its a good product but I wont take any chances till they know what is going on with the china imports.\n",
      "==================================================\n",
      "The Candy Blocks were a nice visual for the Lego Birthday party but the candy has little taste to it.  Very little of the 2 lbs that I bought were eaten and I threw the rest away.  I would not buy the candy again.\n",
      "==================================================\n",
      "was way to hot for my blood, took a bite and did a jig  lol\n",
      "==================================================\n"
     ]
    }
   ],
   "source": [
    "# printing some random reviews\n",
    "sent_0 = final['Text'].values[0]\n",
    "print(sent_0)\n",
    "print(\"=\"*50)\n",
    "\n",
    "sent_1000 = final['Text'].values[1000]\n",
    "print(sent_1000)\n",
    "print(\"=\"*50)\n",
    "\n",
    "sent_1500 = final['Text'].values[1500]\n",
    "print(sent_1500)\n",
    "print(\"=\"*50)\n",
    "\n",
    "#sent_4900 = final['Text'].values[4900]\n",
    "#print(sent_4900)\n",
    "#print(\"=\"*50)"
   ]
  },
  {
   "cell_type": "code",
   "execution_count": 15,
   "metadata": {},
   "outputs": [
    {
     "name": "stdout",
     "output_type": "stream",
     "text": [
      "My dogs loves this chicken but its a product from China, so we wont be buying it anymore.  Its very hard to find any chicken products made in the USA but they are out there, but this one isnt.  Its too bad too because its a good product but I wont take any chances till they know what is going on with the china imports.\n"
     ]
    }
   ],
   "source": [
    "# remove urls from text python: https://stackoverflow.com/a/40823105/4084039\n",
    "sent_0 = re.sub(r\"http\\S+\", \"\", sent_0)\n",
    "sent_1000 = re.sub(r\"http\\S+\", \"\", sent_1000)\n",
    "sent_150 = re.sub(r\"http\\S+\", \"\", sent_1500)\n",
    "#sent_4900 = re.sub(r\"http\\S+\", \"\", sent_4900)\n",
    "\n",
    "print(sent_0)"
   ]
  },
  {
   "cell_type": "code",
   "execution_count": 16,
   "metadata": {},
   "outputs": [
    {
     "name": "stdout",
     "output_type": "stream",
     "text": [
      "My dogs loves this chicken but its a product from China, so we wont be buying it anymore.  Its very hard to find any chicken products made in the USA but they are out there, but this one isnt.  Its too bad too because its a good product but I wont take any chances till they know what is going on with the china imports.\n",
      "==================================================\n",
      "The Candy Blocks were a nice visual for the Lego Birthday party but the candy has little taste to it.  Very little of the 2 lbs that I bought were eaten and I threw the rest away.  I would not buy the candy again.\n",
      "==================================================\n",
      "was way to hot for my blood, took a bite and did a jig  lol\n",
      "==================================================\n"
     ]
    }
   ],
   "source": [
    "# https://stackoverflow.com/questions/16206380/python-beautifulsoup-how-to-remove-all-tags-from-an-element\n",
    "from bs4 import BeautifulSoup\n",
    "\n",
    "soup = BeautifulSoup(sent_0, 'lxml')\n",
    "text = soup.get_text()\n",
    "print(text)\n",
    "print(\"=\"*50)\n",
    "\n",
    "soup = BeautifulSoup(sent_1000, 'lxml')\n",
    "text = soup.get_text()\n",
    "print(text)\n",
    "print(\"=\"*50)\n",
    "\n",
    "soup = BeautifulSoup(sent_1500, 'lxml')\n",
    "text = soup.get_text()\n",
    "print(text)\n",
    "print(\"=\"*50)\n",
    "\n",
    "#soup = BeautifulSoup(sent_4900, 'lxml')\n",
    "#text = soup.get_text()\n",
    "#print(text)"
   ]
  },
  {
   "cell_type": "code",
   "execution_count": 17,
   "metadata": {},
   "outputs": [],
   "source": [
    "# https://stackoverflow.com/a/47091490/4084039\n",
    "import re\n",
    "\n",
    "def decontracted(phrase):\n",
    "    # specific\n",
    "    phrase = re.sub(r\"won't\", \"will not\", phrase)\n",
    "    phrase = re.sub(r\"can\\'t\", \"can not\", phrase)\n",
    "\n",
    "    # general\n",
    "    phrase = re.sub(r\"n\\'t\", \" not\", phrase)\n",
    "    phrase = re.sub(r\"\\'re\", \" are\", phrase)\n",
    "    phrase = re.sub(r\"\\'s\", \" is\", phrase)\n",
    "    phrase = re.sub(r\"\\'d\", \" would\", phrase)\n",
    "    phrase = re.sub(r\"\\'ll\", \" will\", phrase)\n",
    "    phrase = re.sub(r\"\\'t\", \" not\", phrase)\n",
    "    phrase = re.sub(r\"\\'ve\", \" have\", phrase)\n",
    "    phrase = re.sub(r\"\\'m\", \" am\", phrase)\n",
    "    return phrase"
   ]
  },
  {
   "cell_type": "code",
   "execution_count": 18,
   "metadata": {},
   "outputs": [
    {
     "name": "stdout",
     "output_type": "stream",
     "text": [
      "was way to hot for my blood, took a bite and did a jig  lol\n",
      "==================================================\n"
     ]
    }
   ],
   "source": [
    "sent_1500 = decontracted(sent_1500)\n",
    "print(sent_1500)\n",
    "print(\"=\"*50)"
   ]
  },
  {
   "cell_type": "code",
   "execution_count": 19,
   "metadata": {},
   "outputs": [
    {
     "name": "stdout",
     "output_type": "stream",
     "text": [
      "My dogs loves this chicken but its a product from China, so we wont be buying it anymore.  Its very hard to find any chicken products made in the USA but they are out there, but this one isnt.  Its too bad too because its a good product but I wont take any chances till they know what is going on with the china imports.\n"
     ]
    }
   ],
   "source": [
    "#remove words with numbers python: https://stackoverflow.com/a/18082370/4084039\n",
    "sent_0 = re.sub(\"\\S*\\d\\S*\", \"\", sent_0).strip()\n",
    "print(sent_0)"
   ]
  },
  {
   "cell_type": "code",
   "execution_count": 20,
   "metadata": {},
   "outputs": [
    {
     "name": "stdout",
     "output_type": "stream",
     "text": [
      "was way to hot for my blood took a bite and did a jig lol\n"
     ]
    }
   ],
   "source": [
    "#remove spacial character: https://stackoverflow.com/a/5843547/4084039\n",
    "sent_1500 = re.sub('[^A-Za-z0-9]+', ' ', sent_1500)\n",
    "print(sent_1500)"
   ]
  },
  {
   "cell_type": "code",
   "execution_count": 21,
   "metadata": {},
   "outputs": [],
   "source": [
    "# https://gist.github.com/sebleier/554280\n",
    "# we are removing the words from the stop words list: 'no', 'nor', 'not'\n",
    "# <br /><br /> ==> after the above steps, we are getting \"br br\"\n",
    "# we are including them into stop words list\n",
    "# instead of <br /> if we have <br/> these tags would have revmoved in the 1st step\n",
    "\n",
    "stopwords= set(['br', 'the', 'i', 'me', 'my', 'myself', 'we', 'our', 'ours', 'ourselves', 'you', \"you're\", \"you've\",\\\n",
    "            \"you'll\", \"you'd\", 'your', 'yours', 'yourself', 'yourselves', 'he', 'him', 'his', 'himself', \\\n",
    "            'she', \"she's\", 'her', 'hers', 'herself', 'it', \"it's\", 'its', 'itself', 'they', 'them', 'their',\\\n",
    "            'theirs', 'themselves', 'what', 'which', 'who', 'whom', 'this', 'that', \"that'll\", 'these', 'those', \\\n",
    "            'am', 'is', 'are', 'was', 'were', 'be', 'been', 'being', 'have', 'has', 'had', 'having', 'do', 'does', \\\n",
    "            'did', 'doing', 'a', 'an', 'the', 'and', 'but', 'if', 'or', 'because', 'as', 'until', 'while', 'of', \\\n",
    "            'at', 'by', 'for', 'with', 'about', 'against', 'between', 'into', 'through', 'during', 'before', 'after',\\\n",
    "            'above', 'below', 'to', 'from', 'up', 'down', 'in', 'out', 'on', 'off', 'over', 'under', 'again', 'further',\\\n",
    "            'then', 'once', 'here', 'there', 'when', 'where', 'why', 'how', 'all', 'any', 'both', 'each', 'few', 'more',\\\n",
    "            'most', 'other', 'some', 'such', 'only', 'own', 'same', 'so', 'than', 'too', 'very', \\\n",
    "            's', 't', 'can', 'will', 'just', 'don', \"don't\", 'should', \"should've\", 'now', 'd', 'll', 'm', 'o', 're', \\\n",
    "            've', 'y', 'ain', 'aren', \"aren't\", 'couldn', \"couldn't\", 'didn', \"didn't\", 'doesn', \"doesn't\", 'hadn',\\\n",
    "            \"hadn't\", 'hasn', \"hasn't\", 'haven', \"haven't\", 'isn', \"isn't\", 'ma', 'mightn', \"mightn't\", 'mustn',\\\n",
    "            \"mustn't\", 'needn', \"needn't\", 'shan', \"shan't\", 'shouldn', \"shouldn't\", 'wasn', \"wasn't\", 'weren', \"weren't\", \\\n",
    "            'won', \"won't\", 'wouldn', \"wouldn't\"])"
   ]
  },
  {
   "cell_type": "code",
   "execution_count": 22,
   "metadata": {},
   "outputs": [
    {
     "name": "stderr",
     "output_type": "stream",
     "text": [
      "100%|██████████| 87773/87773 [00:34<00:00, 2529.89it/s]\n"
     ]
    }
   ],
   "source": [
    "# Combining all the above stundents \n",
    "from tqdm import tqdm\n",
    "preprocessed_reviews = []\n",
    "# tqdm is for printing the status bar\n",
    "for sentance in tqdm(final['Text'].values):\n",
    "    sentance = re.sub(r\"http\\S+\", \"\", sentance)\n",
    "    sentance = BeautifulSoup(sentance, 'lxml').get_text()\n",
    "    sentance = decontracted(sentance)\n",
    "    sentance = re.sub(\"\\S*\\d\\S*\", \"\", sentance).strip()\n",
    "    sentance = re.sub('[^A-Za-z]+', ' ', sentance)\n",
    "    # https://gist.github.com/sebleier/554280\n",
    "    sentance = ' '.join(e.lower() for e in sentance.split() if e.lower() not in stopwords)\n",
    "    preprocessed_reviews.append(sentance.strip())"
   ]
  },
  {
   "cell_type": "code",
   "execution_count": 23,
   "metadata": {},
   "outputs": [
    {
     "data": {
      "text/plain": [
       "'way hot blood took bite jig lol'"
      ]
     },
     "execution_count": 23,
     "metadata": {},
     "output_type": "execute_result"
    }
   ],
   "source": [
    "preprocessed_reviews[1500]"
   ]
  },
  {
   "cell_type": "markdown",
   "metadata": {},
   "source": [
    "<h2><font color='red'>[3.2] Preprocessing Review Summary</font></h2>"
   ]
  },
  {
   "cell_type": "code",
   "execution_count": 24,
   "metadata": {},
   "outputs": [
    {
     "data": {
      "text/plain": [
       "87773"
      ]
     },
     "execution_count": 24,
     "metadata": {},
     "output_type": "execute_result"
    }
   ],
   "source": [
    "## Similartly you can do preprocessing for review summary also.\n",
    "len(preprocessed_reviews)"
   ]
  },
  {
   "cell_type": "markdown",
   "metadata": {},
   "source": [
    "# [4] Featurization"
   ]
  },
  {
   "cell_type": "markdown",
   "metadata": {},
   "source": [
    "## [4.1] BAG OF WORDS"
   ]
  },
  {
   "cell_type": "code",
   "execution_count": 25,
   "metadata": {},
   "outputs": [
    {
     "name": "stdout",
     "output_type": "stream",
     "text": [
      "some feature names  ['ability', 'able', 'absolute', 'absolutely', 'accept', 'acceptable', 'accident', 'accidentally', 'according', 'account']\n"
     ]
    }
   ],
   "source": [
    "\n",
    "labels = final.head(20000)['Score']\n",
    "# split the train data set into cross validation train and cross validation test\n",
    "\n",
    "X_1_bow, X_test_bow, y_1_bow, y_test_bow = cross_validation.train_test_split(preprocessed_reviews[:20000],labels, test_size=0.3, random_state=0)\n",
    "X_tr_bow, X_cv_bow, y_tr_bow, y_cv_bow = cross_validation.train_test_split(X_1_bow, y_1_bow, test_size=0.3)\n",
    "count_vect = CountVectorizer(min_df=10) #in scikit-learn\n",
    "#count_vect.fit(preprocessed_reviews)\n",
    "X_tr_bow = count_vect.fit_transform(X_tr_bow)\n",
    "X_cv_bow = count_vect.transform(X_cv_bow)\n",
    "X_test_bow =count_vect.transform(X_test_bow)\n",
    "X_1_bow = count_vect.transform(X_1_bow)\n",
    "print(\"some feature names \", count_vect.get_feature_names()[:10])\n"
   ]
  },
  {
   "cell_type": "code",
   "execution_count": 26,
   "metadata": {},
   "outputs": [
    {
     "data": {
      "text/plain": [
       "1    16339\n",
       "0     3015\n",
       "Name: Score, dtype: int64"
      ]
     },
     "execution_count": 26,
     "metadata": {},
     "output_type": "execute_result"
    }
   ],
   "source": [
    "labels.value_counts()"
   ]
  },
  {
   "cell_type": "markdown",
   "metadata": {},
   "source": [
    "<h3>Balancing the Dataset<h3>"
   ]
  },
  {
   "cell_type": "code",
   "execution_count": 27,
   "metadata": {},
   "outputs": [
    {
     "name": "stdout",
     "output_type": "stream",
     "text": [
      "Resampled dataset shape Counter({0: 1479, 1: 1479})\n"
     ]
    }
   ],
   "source": [
    "from imblearn.under_sampling import RandomUnderSampler\n",
    "\n",
    "from collections import Counter\n",
    "\n",
    "sm = RandomUnderSampler(random_state=42)\n",
    "X_res, y_res = sm.fit_resample(X_tr_bow,y_tr_bow)\n",
    "print('Resampled dataset shape %s' % Counter(y_res))\n"
   ]
  },
  {
   "cell_type": "markdown",
   "metadata": {},
   "source": [
    "## [4.2] Bi-Grams and n-Grams."
   ]
  },
  {
   "cell_type": "code",
   "execution_count": 28,
   "metadata": {},
   "outputs": [
    {
     "name": "stdout",
     "output_type": "stream",
     "text": [
      "the type of count vectorizer  <class 'scipy.sparse.csr.csr_matrix'>\n",
      "the shape of out text BOW vectorizer  (19354, 11762)\n",
      "the number of unique words including both unigrams and bigrams  11762\n"
     ]
    }
   ],
   "source": [
    "#bi-gram, tri-gram and n-gram\n",
    "\n",
    "#removing stop words like \"not\" should be avoided before building n-grams\n",
    "# count_vect = CountVectorizer(ngram_range=(1,2))\n",
    "# please do read the CountVectorizer documentation http://scikit-learn.org/stable/modules/generated/sklearn.feature_extraction.text.CountVectorizer.html\n",
    "\n",
    "# you can choose these numebrs min_df=10, max_features=5000, of your choice\n",
    "count_vect_ngrams = CountVectorizer(ngram_range=(1,2), min_df=10)\n",
    "final_bigram_counts = count_vect_ngrams.fit_transform(preprocessed_reviews)\n",
    "print(\"the type of count vectorizer \",type(final_bigram_counts))\n",
    "print(\"the shape of out text BOW vectorizer \",final_bigram_counts.get_shape())\n",
    "print(\"the number of unique words including both unigrams and bigrams \", final_bigram_counts.get_shape()[1])"
   ]
  },
  {
   "cell_type": "markdown",
   "metadata": {},
   "source": [
    "## [4.3] TF-IDF"
   ]
  },
  {
   "cell_type": "code",
   "execution_count": 29,
   "metadata": {},
   "outputs": [
    {
     "name": "stdout",
     "output_type": "stream",
     "text": [
      "some sample features(unique words in the corpus) ['ability', 'able', 'able buy', 'able eat', 'able find', 'able get', 'able order', 'absolute', 'absolute best', 'absolute favorite']\n"
     ]
    }
   ],
   "source": [
    "# split the train data set into cross validation train and cross validation test\n",
    "\n",
    "X_1_tfidv, X_test_tfidv, y_1_tfidv, y_test_tfidv = cross_validation.train_test_split(preprocessed_reviews[:20000],labels, test_size=0.3, random_state=0)\n",
    "X_tr_tfidv, X_cv_tfidv, y_tr_tfidv, y_cv_tfidv = cross_validation.train_test_split(X_1_tfidv, y_1_tfidv, test_size=0.3)\n",
    "tf_idf_vect = TfidfVectorizer(ngram_range=(1,2), min_df=10)\n",
    "#tf_idf_vect.fit(preprocessed_reviews)\n",
    "X_tr_tfidv = tf_idf_vect.fit_transform(X_tr_tfidv)\n",
    "X_cv_tfidv = tf_idf_vect.transform(X_cv_tfidv)\n",
    "X_test_tfidv =tf_idf_vect.transform(X_test_tfidv)\n",
    "X_1_tfidv = tf_idf_vect.transform(X_1_tfidv)\n",
    "\n",
    "\n",
    "print(\"some sample features(unique words in the corpus)\",tf_idf_vect.get_feature_names()[0:10])\n"
   ]
  },
  {
   "cell_type": "code",
   "execution_count": 30,
   "metadata": {},
   "outputs": [
    {
     "name": "stdout",
     "output_type": "stream",
     "text": [
      "Resampled dataset shape Counter({0: 1479, 1: 1479})\n",
      "Resampled dataset shape Counter({0: 662, 1: 662})\n",
      "Resampled dataset shape Counter({0: 2116, 1: 2116})\n"
     ]
    }
   ],
   "source": [
    "from imblearn.under_sampling import RandomUnderSampler\n",
    "\n",
    "from collections import Counter\n",
    "\n",
    "sm = RandomUnderSampler(random_state=42)\n",
    "X_res_tr, y_res_tr = sm.fit_resample(X_tr_tfidv,y_tr_tfidv)\n",
    "print('Resampled dataset shape %s' % Counter(y_res))\n",
    "X_res_cv, y_res_cv = sm.fit_resample(X_cv_tfidv,y_cv_tfidv)\n",
    "print('Resampled dataset shape %s' % Counter(y_res_cv))\n",
    "X_res_1, y_res_1 = sm.fit_resample(X_1_tfidv,y_1_tfidv)\n",
    "print('Resampled dataset shape %s' % Counter(y_res_1))\n"
   ]
  },
  {
   "cell_type": "markdown",
   "metadata": {},
   "source": [
    "## [4.4] Word2Vec"
   ]
  },
  {
   "cell_type": "code",
   "execution_count": 31,
   "metadata": {},
   "outputs": [],
   "source": [
    "# Train your own Word2Vec model using your own text corpus\n",
    "X_1_w2v, X_test_w2v, y_1_w2v, y_test_w2v = cross_validation.train_test_split(preprocessed_reviews[:20000],labels, test_size=0.3, random_state=0)\n",
    "X_tr_w2v, X_cv_w2v, y_tr_w2v, y_cv_w2v = cross_validation.train_test_split(X_1_w2v, y_1_w2v, test_size=0.3)\n",
    "\n",
    "i=0\n",
    "list_of_sentance=[]\n",
    "for sentance in X_tr_w2v:\n",
    "    list_of_sentance.append(sentance.split())"
   ]
  },
  {
   "cell_type": "code",
   "execution_count": 32,
   "metadata": {
    "scrolled": true
   },
   "outputs": [
    {
     "name": "stdout",
     "output_type": "stream",
     "text": [
      "[('good', 0.8548399209976196), ('excellent', 0.8312476277351379), ('amazing', 0.7927986979484558), ('overall', 0.7874646186828613), ('quick', 0.7702838182449341), ('especially', 0.7659739851951599), ('well', 0.765559732913971), ('value', 0.764397919178009), ('looking', 0.7535039782524109), ('quality', 0.7531806230545044)]\n",
      "==================================================\n"
     ]
    }
   ],
   "source": [
    "# Using Google News Word2Vectors\n",
    "\n",
    "is_your_ram_gt_16g=False\n",
    "want_to_use_google_w2v = False\n",
    "want_to_train_w2v = True\n",
    "\n",
    "if want_to_train_w2v:\n",
    "    # min_count = 5 considers only words that occured atleast 8 times\n",
    "    w2v_model=Word2Vec(list_of_sentance,min_count=8,size=50, workers=4)\n",
    "    print(w2v_model.wv.most_similar('great'))\n",
    "    print('='*50)\n",
    "    #print(w2v_model.wv.most_similar('worst'))\n",
    "    \n",
    "elif want_to_use_google_w2v and is_your_ram_gt_16g:\n",
    "    if os.path.isfile('GoogleNews-vectors-negative300.bin'):\n",
    "        w2v_model=KeyedVectors.load_word2vec_format('GoogleNews-vectors-negative300.bin', binary=True)\n",
    "        print(w2v_model.wv.most_similar('great'))\n",
    "        print(w2v_model.wv.most_similar('worst'))\n",
    "    else:\n",
    "        print(\"you don't have gogole's word2vec file, keep want_to_train_w2v = True, to train your own w2v \")"
   ]
  },
  {
   "cell_type": "code",
   "execution_count": 33,
   "metadata": {},
   "outputs": [
    {
     "name": "stdout",
     "output_type": "stream",
     "text": [
      "number of words that occured minimum 8 times  4335\n",
      "sample words  ['thing', 'keeping', 'product', 'five', 'stars', 'broken', 'shells', 'top', 'bag', 'found', 'number', 'half', 'however', 'got', 'bottom', 'realized', 'many', 'seeds', 'shell', 'seasoning', 'salt', 'blow', 'may', 'lose', 'well', 'otherwise', 'great', 'eating', 'experience', 'wonderful', 'price', 'tasting', 'size', 'big', 'enough', 'not', 'bulk', 'also', 'appreciate', 'ship', 'quite', 'often', 'macadamia', 'nuts', 'salted', 'instead', 'raw', 'natural', 'nothing', 'added']\n"
     ]
    }
   ],
   "source": [
    "w2v_words = list(w2v_model.wv.vocab)\n",
    "print(\"number of words that occured minimum 8 times \",len(w2v_words))\n",
    "print(\"sample words \", w2v_words[0:50])"
   ]
  },
  {
   "cell_type": "markdown",
   "metadata": {},
   "source": [
    "## [4.4.1] Converting text into vectors using Avg W2V, TFIDF-W2V"
   ]
  },
  {
   "cell_type": "markdown",
   "metadata": {},
   "source": [
    "#### [4.4.1.1] Avg W2v"
   ]
  },
  {
   "cell_type": "code",
   "execution_count": 34,
   "metadata": {},
   "outputs": [
    {
     "name": "stderr",
     "output_type": "stream",
     "text": [
      "100%|██████████| 9482/9482 [00:10<00:00, 904.81it/s]"
     ]
    },
    {
     "name": "stdout",
     "output_type": "stream",
     "text": [
      "9482\n",
      "50\n"
     ]
    },
    {
     "name": "stderr",
     "output_type": "stream",
     "text": [
      "\n"
     ]
    }
   ],
   "source": [
    "# average Word2Vec\n",
    "# compute average word2vec for each review.\n",
    "sent_vectors_tr = []; # the avg-w2v for each sentence/review is stored in this list\n",
    "for sent in tqdm(list_of_sentance): # for each review/sentence\n",
    "    sent_vec = np.zeros(50) # as word vectors are of zero length 50, you might need to change this to 300 if you use google's w2v\n",
    "    cnt_words =0; # num of words with a valid vector in the sentence/review\n",
    "    for word in sent: # for each word in a review/sentence\n",
    "        if word in w2v_words:\n",
    "            vec = w2v_model.wv[word]\n",
    "            sent_vec += vec\n",
    "            cnt_words += 1\n",
    "    if cnt_words != 0:\n",
    "        sent_vec /= cnt_words\n",
    "    sent_vectors_tr.append(sent_vec)\n",
    "print(len(sent_vectors_tr))\n",
    "print(len(sent_vectors_tr[0]))"
   ]
  },
  {
   "cell_type": "code",
   "execution_count": 35,
   "metadata": {},
   "outputs": [
    {
     "name": "stderr",
     "output_type": "stream",
     "text": [
      "100%|██████████| 5807/5807 [00:06<00:00, 896.41it/s]"
     ]
    },
    {
     "name": "stdout",
     "output_type": "stream",
     "text": [
      "5807\n",
      "50\n"
     ]
    },
    {
     "name": "stderr",
     "output_type": "stream",
     "text": [
      "\n"
     ]
    }
   ],
   "source": [
    "# compute average word2vec for each review.\n",
    "list_of_sentance=[]\n",
    "for sentance in X_test_w2v:\n",
    "    list_of_sentance.append(sentance.split())\n",
    "sent_vectors_test = []; # the avg-w2v for each sentence/review is stored in this list\n",
    "for sent in tqdm(list_of_sentance): # for each review/sentence\n",
    "    sent_vec = np.zeros(50) # as word vectors are of zero length 50, you might need to change this to 300 if you use google's w2v\n",
    "    cnt_words =0; # num of words with a valid vector in the sentence/review\n",
    "    for word in sent: # for each word in a review/sentence\n",
    "        if word in w2v_words:\n",
    "            vec = w2v_model.wv[word]\n",
    "            sent_vec += vec\n",
    "            cnt_words += 1\n",
    "    if cnt_words != 0:\n",
    "        sent_vec /= cnt_words\n",
    "    sent_vectors_test.append(sent_vec)\n",
    "print(len(sent_vectors_test))\n",
    "print(len(sent_vectors_test[0]))"
   ]
  },
  {
   "cell_type": "code",
   "execution_count": 36,
   "metadata": {},
   "outputs": [
    {
     "name": "stderr",
     "output_type": "stream",
     "text": [
      "100%|██████████| 4065/4065 [00:04<00:00, 889.58it/s]"
     ]
    },
    {
     "name": "stdout",
     "output_type": "stream",
     "text": [
      "4065\n",
      "50\n"
     ]
    },
    {
     "name": "stderr",
     "output_type": "stream",
     "text": [
      "\n"
     ]
    }
   ],
   "source": [
    "# compute average word2vec for each review.\n",
    "list_of_sentance=[]\n",
    "for sentance in X_cv_w2v:\n",
    "    list_of_sentance.append(sentance.split())\n",
    "sent_vectors_cv = []; # the avg-w2v for each sentence/review is stored in this list\n",
    "for sent in tqdm(list_of_sentance): # for each review/sentence\n",
    "    sent_vec = np.zeros(50) # as word vectors are of zero length 50, you might need to change this to 300 if you use google's w2v\n",
    "    cnt_words =0; # num of words with a valid vector in the sentence/review\n",
    "    for word in sent: # for each word in a review/sentence\n",
    "        if word in w2v_words:\n",
    "            vec = w2v_model.wv[word]\n",
    "            sent_vec += vec\n",
    "            cnt_words += 1\n",
    "    if cnt_words != 0:\n",
    "        sent_vec /= cnt_words\n",
    "    sent_vectors_cv.append(sent_vec)\n",
    "print(len(sent_vectors_cv))\n",
    "print(len(sent_vectors_cv[0]))"
   ]
  },
  {
   "cell_type": "code",
   "execution_count": 37,
   "metadata": {},
   "outputs": [
    {
     "name": "stderr",
     "output_type": "stream",
     "text": [
      "100%|██████████| 13547/13547 [00:15<00:00, 897.46it/s]"
     ]
    },
    {
     "name": "stdout",
     "output_type": "stream",
     "text": [
      "13547\n",
      "50\n"
     ]
    },
    {
     "name": "stderr",
     "output_type": "stream",
     "text": [
      "\n"
     ]
    }
   ],
   "source": [
    "# compute average word2vec for each review.\n",
    "list_of_sentance=[]\n",
    "for sentance in X_1_w2v:\n",
    "    list_of_sentance.append(sentance.split())\n",
    "sent_vectors_1 = []; # the avg-w2v for each sentence/review is stored in this list\n",
    "for sent in tqdm(list_of_sentance): # for each review/sentence\n",
    "    sent_vec = np.zeros(50) # as word vectors are of zero length 50, you might need to change this to 300 if you use google's w2v\n",
    "    cnt_words =0; # num of words with a valid vector in the sentence/review\n",
    "    for word in sent: # for each word in a review/sentence\n",
    "        if word in w2v_words:\n",
    "            vec = w2v_model.wv[word]\n",
    "            sent_vec += vec\n",
    "            cnt_words += 1\n",
    "    if cnt_words != 0:\n",
    "        sent_vec /= cnt_words\n",
    "    sent_vectors_1.append(sent_vec)\n",
    "print(len(sent_vectors_1))\n",
    "print(len(sent_vectors_1[0]))"
   ]
  },
  {
   "cell_type": "markdown",
   "metadata": {},
   "source": [
    "#### [4.4.1.2] TFIDF weighted W2v"
   ]
  },
  {
   "cell_type": "code",
   "execution_count": 38,
   "metadata": {},
   "outputs": [],
   "source": [
    "# S = [\"abc def pqr\", \"def def def abc\", \"pqr pqr def\"]\n",
    "model = TfidfVectorizer()\n",
    "\n",
    "tf_idf_matrix = model.fit_transform(X_tr_w2v)\n",
    "\n",
    "# we are converting a dictionary with word as a key, and the idf as a value\n",
    "dictionary = dict(zip(model.get_feature_names(), list(model.idf_)))\n",
    "tfidf_feat = model.get_feature_names()"
   ]
  },
  {
   "cell_type": "code",
   "execution_count": 39,
   "metadata": {
    "scrolled": true
   },
   "outputs": [
    {
     "name": "stderr",
     "output_type": "stream",
     "text": [
      "100%|██████████| 13547/13547 [01:50<00:00, 122.32it/s]\n"
     ]
    }
   ],
   "source": [
    "# TF-IDF weighted Word2Vec\n",
    " # tfidf words/col-names\n",
    "# final_tf_idf is the sparse matrix with row= sentence, col=word and cell_val = tfidf\n",
    "\n",
    "tfidf_sent_vectors_1 = []; # the tfidf-w2v for each sentence/review is stored in this list\n",
    "row=0;\n",
    "list_of_sentance=[]\n",
    "for sentance in X_1_w2v:\n",
    "    list_of_sentance.append(sentance.split())\n",
    "for sent in tqdm(list_of_sentance): # for each review/sentence \n",
    "    sent_vec = np.zeros(50) # as word vectors are of zero length\n",
    "    weight_sum =0; # num of words with a valid vector in the sentence/review\n",
    "    for word in sent: # for each word in a review/sentence\n",
    "        if word in w2v_words and word in tfidf_feat:\n",
    "            vec = w2v_model.wv[word]\n",
    "#             tf_idf = tf_idf_matrix[row, tfidf_feat.index(word)]\n",
    "            # to reduce the computation we are \n",
    "            # dictionary[word] = idf value of word in whole courpus\n",
    "            # sent.count(word) = tf valeus of word in this review\n",
    "            tf_idf = dictionary[word]*(sent.count(word)/len(sent))\n",
    "            sent_vec += (vec * tf_idf)\n",
    "            weight_sum += tf_idf\n",
    "    if weight_sum != 0:\n",
    "        sent_vec /= weight_sum\n",
    "    tfidf_sent_vectors_1.append(sent_vec)\n",
    "    row += 1"
   ]
  },
  {
   "cell_type": "code",
   "execution_count": 40,
   "metadata": {},
   "outputs": [
    {
     "name": "stderr",
     "output_type": "stream",
     "text": [
      "100%|██████████| 5807/5807 [00:46<00:00, 124.03it/s]\n"
     ]
    }
   ],
   "source": [
    "# TF-IDF weighted Word2Vec\n",
    " # tfidf words/col-names\n",
    "# final_tf_idf is the sparse matrix with row= sentence, col=word and cell_val = tfidf\n",
    "\n",
    "tfidf_sent_vectors_test = []; # the tfidf-w2v for each sentence/review is stored in this list\n",
    "row=0;\n",
    "list_of_sentance=[]\n",
    "for sentance in X_test_w2v:\n",
    "    list_of_sentance.append(sentance.split())\n",
    "for sent in tqdm(list_of_sentance): # for each review/sentence \n",
    "    sent_vec = np.zeros(50) # as word vectors are of zero length\n",
    "    weight_sum =0; # num of words with a valid vector in the sentence/review\n",
    "    for word in sent: # for each word in a review/sentence\n",
    "        if word in w2v_words and word in tfidf_feat:\n",
    "            vec = w2v_model.wv[word]\n",
    "#             tf_idf = tf_idf_matrix[row, tfidf_feat.index(word)]\n",
    "            # to reduce the computation we are \n",
    "            # dictionary[word] = idf value of word in whole courpus\n",
    "            # sent.count(word) = tf valeus of word in this review\n",
    "            tf_idf = dictionary[word]*(sent.count(word)/len(sent))\n",
    "            sent_vec += (vec * tf_idf)\n",
    "            weight_sum += tf_idf\n",
    "    if weight_sum != 0:\n",
    "        sent_vec /= weight_sum\n",
    "    tfidf_sent_vectors_test.append(sent_vec)\n",
    "    row += 1"
   ]
  },
  {
   "cell_type": "code",
   "execution_count": 41,
   "metadata": {},
   "outputs": [
    {
     "name": "stderr",
     "output_type": "stream",
     "text": [
      "100%|██████████| 4065/4065 [00:35<00:00, 114.73it/s]\n"
     ]
    }
   ],
   "source": [
    "# TF-IDF weighted Word2Vec\n",
    " # tfidf words/col-names\n",
    "# final_tf_idf is the sparse matrix with row= sentence, col=word and cell_val = tfidf\n",
    "\n",
    "tfidf_sent_vectors_cv = []; # the tfidf-w2v for each sentence/review is stored in this list\n",
    "row=0;\n",
    "list_of_sentance=[]\n",
    "for sentance in X_cv_w2v:\n",
    "    list_of_sentance.append(sentance.split())\n",
    "for sent in tqdm(list_of_sentance): # for each review/sentence \n",
    "    sent_vec = np.zeros(50) # as word vectors are of zero length\n",
    "    weight_sum =0; # num of words with a valid vector in the sentence/review\n",
    "    for word in sent: # for each word in a review/sentence\n",
    "        if word in w2v_words and word in tfidf_feat:\n",
    "            vec = w2v_model.wv[word]\n",
    "#             tf_idf = tf_idf_matrix[row, tfidf_feat.index(word)]\n",
    "            # to reduce the computation we are \n",
    "            # dictionary[word] = idf value of word in whole courpus\n",
    "            # sent.count(word) = tf valeus of word in this review\n",
    "            tf_idf = dictionary[word]*(sent.count(word)/len(sent))\n",
    "            sent_vec += (vec * tf_idf)\n",
    "            weight_sum += tf_idf\n",
    "    if weight_sum != 0:\n",
    "        sent_vec /= weight_sum\n",
    "    tfidf_sent_vectors_cv.append(sent_vec)\n",
    "    row += 1"
   ]
  },
  {
   "cell_type": "code",
   "execution_count": 42,
   "metadata": {},
   "outputs": [
    {
     "name": "stderr",
     "output_type": "stream",
     "text": [
      "100%|██████████| 9482/9482 [01:29<00:00, 106.20it/s]\n"
     ]
    }
   ],
   "source": [
    "# TF-IDF weighted Word2Vec\n",
    " # tfidf words/col-names\n",
    "# final_tf_idf is the sparse matrix with row= sentence, col=word and cell_val = tfidf\n",
    "\n",
    "tfidf_sent_vectors_tr = []; # the tfidf-w2v for each sentence/review is stored in this list\n",
    "row=0;\n",
    "list_of_sentance=[]\n",
    "for sentance in X_tr_w2v:\n",
    "    list_of_sentance.append(sentance.split())\n",
    "for sent in tqdm(list_of_sentance): # for each review/sentence \n",
    "    sent_vec = np.zeros(50) # as word vectors are of zero length\n",
    "    weight_sum =0; # num of words with a valid vector in the sentence/review\n",
    "    for word in sent: # for each word in a review/sentence\n",
    "        if word in w2v_words and word in tfidf_feat:\n",
    "            vec = w2v_model.wv[word]\n",
    "#             tf_idf = tf_idf_matrix[row, tfidf_feat.index(word)]\n",
    "            # to reduce the computation we are \n",
    "            # dictionary[word] = idf value of word in whole courpus\n",
    "            # sent.count(word) = tf valeus of word in this review\n",
    "            tf_idf = dictionary[word]*(sent.count(word)/len(sent))\n",
    "            sent_vec += (vec * tf_idf)\n",
    "            weight_sum += tf_idf\n",
    "    if weight_sum != 0:\n",
    "        sent_vec /= weight_sum\n",
    "    tfidf_sent_vectors_tr.append(sent_vec)\n",
    "    row += 1"
   ]
  },
  {
   "cell_type": "markdown",
   "metadata": {},
   "source": [
    "# [5] Assignment 11: Truncated SVD"
   ]
  },
  {
   "cell_type": "markdown",
   "metadata": {},
   "source": [
    "<ol>\n",
    "    <li><strong>Apply Truncated-SVD on only this feature set:</strong>\n",
    "        <ul>\n",
    "            <li><font color='red'>SET 2:</font>Review text, preprocessed one converted into vectors using (TFIDF)</li>\n",
    "    <br>\n",
    "    <li><strong>Procedure:</strong>\n",
    "        <ul>\n",
    "    <li>Take top 2000 or 3000 features from tf-idf vectorizers using idf_ score.</li>\n",
    "    <li>You need to calculate the co-occurrence matrix with the selected features (Note: X.X^T\n",
    "doesn’t give the co-occurrence matrix, it returns the covariance matrix, check these\n",
    "        bolgs <a href='https://medium.com/data-science-group-iitr/word-embedding-2d05d270b285'>blog-1,</a> <a href='https://www.analyticsvidhya.com/blog/2017/06/word-embeddings-count-word2veec/'>blog-2 </a>for more information)</li>\n",
    "            <li>You should choose the n_components in truncated svd, with maximum explained\n",
    "variance. Please search on how to choose that and implement them. (hint: plot of\n",
    "cumulative explained variance ratio)</li>\n",
    "            <li>After you are done with the truncated svd, you can apply K-Means clustering and choose\n",
    "the best number of clusters based on elbow method.</li>\n",
    "            <li> Print out wordclouds for each cluster, similar to that in previous assignment. </li>\n",
    "            <li>You need to write a function that takes a word and returns the most similar words using\n",
    "cosine similarity between the vectors(vector: a row in the matrix after truncatedSVD)</li>\n",
    "        </ul>\n",
    "    </li>\n",
    "    <br>\n",
    "    \n",
    "</ol>"
   ]
  },
  {
   "cell_type": "markdown",
   "metadata": {},
   "source": [
    "## Truncated-SVD"
   ]
  },
  {
   "cell_type": "markdown",
   "metadata": {},
   "source": [
    "### [5.1] Taking top features from TFIDF,<font color='red'> SET 2</font>"
   ]
  },
  {
   "cell_type": "code",
   "execution_count": 25,
   "metadata": {},
   "outputs": [],
   "source": [
    "tf_idf = TfidfVectorizer(ngram_range=(1,2), min_df=10)\n",
    "matrx = tf_idf.fit_transform(preprocessed_reviews[:87000])"
   ]
  },
  {
   "cell_type": "code",
   "execution_count": 26,
   "metadata": {},
   "outputs": [
    {
     "data": {
      "text/plain": [
       "87773"
      ]
     },
     "execution_count": 26,
     "metadata": {},
     "output_type": "execute_result"
    }
   ],
   "source": [
    "len(preprocessed_reviews)"
   ]
  },
  {
   "cell_type": "code",
   "execution_count": 27,
   "metadata": {},
   "outputs": [
    {
     "data": {
      "text/plain": [
       "<87000x51292 sparse matrix of type '<class 'numpy.float64'>'\n",
       "\twith 4068022 stored elements in Compressed Sparse Row format>"
      ]
     },
     "execution_count": 27,
     "metadata": {},
     "output_type": "execute_result"
    }
   ],
   "source": [
    "matrx"
   ]
  },
  {
   "cell_type": "code",
   "execution_count": 28,
   "metadata": {},
   "outputs": [
    {
     "data": {
      "text/plain": [
       "[array(['product', 'going', 'saw', 'infestation', 'literally',\n",
       "        'everywhere', 'flying', 'around', 'kitchen', 'bought', 'hoping',\n",
       "        'least', 'get', 'rid', 'weeks', 'fly', 'stuck', 'buggers',\n",
       "        'success', 'rate', 'day', 'clearly', 'useless', 'even', 'red',\n",
       "        'wine', 'banana', 'top', 'week', 'really', 'attracted', 'glass',\n",
       "        'still', 'nothing', 'actually', 'second', 'land', 'watched',\n",
       "        'wings', 'frantically', 'within', 'secs', 'total', 'waste',\n",
       "        'money', 'around kitchen', 'bought product', 'product hoping',\n",
       "        'least get', 'get rid', 'red wine', 'week really', 'still nothing',\n",
       "        'get stuck', 'total waste', 'waste money'], dtype='<U27')]"
      ]
     },
     "execution_count": 28,
     "metadata": {},
     "output_type": "execute_result"
    }
   ],
   "source": [
    "tf_idf.inverse_transform(matrx[2])"
   ]
  },
  {
   "cell_type": "code",
   "execution_count": 29,
   "metadata": {},
   "outputs": [],
   "source": [
    "ft = np.argsort(tf_idf.idf_)[::-1][:2500]"
   ]
  },
  {
   "cell_type": "code",
   "execution_count": 30,
   "metadata": {},
   "outputs": [
    {
     "data": {
      "text/plain": [
       "9.377942618269545"
      ]
     },
     "execution_count": 30,
     "metadata": {},
     "output_type": "execute_result"
    }
   ],
   "source": [
    "tf_idf.idf_[5880]"
   ]
  },
  {
   "cell_type": "code",
   "execution_count": 31,
   "metadata": {},
   "outputs": [
    {
     "data": {
      "text/plain": [
       "'already knew'"
      ]
     },
     "execution_count": 31,
     "metadata": {},
     "output_type": "execute_result"
    }
   ],
   "source": [
    "tf_idf.get_feature_names()[917]"
   ]
  },
  {
   "cell_type": "code",
   "execution_count": 32,
   "metadata": {},
   "outputs": [],
   "source": [
    "tokens=[]\n",
    "\n",
    "for i in ft:\n",
    "    tokens.append(tf_idf.get_feature_names()[i])\n",
    "df = pd.DataFrame(tokens)\n",
    "df.columns = ['tptokn']"
   ]
  },
  {
   "cell_type": "code",
   "execution_count": 33,
   "metadata": {},
   "outputs": [
    {
     "data": {
      "text/html": [
       "<div>\n",
       "<style scoped>\n",
       "    .dataframe tbody tr th:only-of-type {\n",
       "        vertical-align: middle;\n",
       "    }\n",
       "\n",
       "    .dataframe tbody tr th {\n",
       "        vertical-align: top;\n",
       "    }\n",
       "\n",
       "    .dataframe thead th {\n",
       "        text-align: right;\n",
       "    }\n",
       "</style>\n",
       "<table border=\"1\" class=\"dataframe\">\n",
       "  <thead>\n",
       "    <tr style=\"text-align: right;\">\n",
       "      <th></th>\n",
       "      <th>tptokn</th>\n",
       "    </tr>\n",
       "  </thead>\n",
       "  <tbody>\n",
       "    <tr>\n",
       "      <th>0</th>\n",
       "      <td>zukes mini</td>\n",
       "    </tr>\n",
       "    <tr>\n",
       "      <th>1</th>\n",
       "      <td>eat white</td>\n",
       "    </tr>\n",
       "    <tr>\n",
       "      <th>2</th>\n",
       "      <td>store purchase</td>\n",
       "    </tr>\n",
       "    <tr>\n",
       "      <th>3</th>\n",
       "      <td>else going</td>\n",
       "    </tr>\n",
       "    <tr>\n",
       "      <th>4</th>\n",
       "      <td>morning smoothie</td>\n",
       "    </tr>\n",
       "    <tr>\n",
       "      <th>5</th>\n",
       "      <td>trifle</td>\n",
       "    </tr>\n",
       "    <tr>\n",
       "      <th>6</th>\n",
       "      <td>morning smoothies</td>\n",
       "    </tr>\n",
       "    <tr>\n",
       "      <th>7</th>\n",
       "      <td>morning still</td>\n",
       "    </tr>\n",
       "    <tr>\n",
       "      <th>8</th>\n",
       "      <td>else available</td>\n",
       "    </tr>\n",
       "    <tr>\n",
       "      <th>9</th>\n",
       "      <td>else amazon</td>\n",
       "    </tr>\n",
       "    <tr>\n",
       "      <th>10</th>\n",
       "      <td>elderly cat</td>\n",
       "    </tr>\n",
       "    <tr>\n",
       "      <th>11</th>\n",
       "      <td>trip memory</td>\n",
       "    </tr>\n",
       "    <tr>\n",
       "      <th>12</th>\n",
       "      <td>elastic</td>\n",
       "    </tr>\n",
       "    <tr>\n",
       "      <th>13</th>\n",
       "      <td>either really</td>\n",
       "    </tr>\n",
       "    <tr>\n",
       "      <th>14</th>\n",
       "      <td>trips store</td>\n",
       "    </tr>\n",
       "    <tr>\n",
       "      <th>15</th>\n",
       "      <td>either nice</td>\n",
       "    </tr>\n",
       "    <tr>\n",
       "      <th>16</th>\n",
       "      <td>morning way</td>\n",
       "    </tr>\n",
       "    <tr>\n",
       "      <th>17</th>\n",
       "      <td>troops</td>\n",
       "    </tr>\n",
       "    <tr>\n",
       "      <th>18</th>\n",
       "      <td>either case</td>\n",
       "    </tr>\n",
       "    <tr>\n",
       "      <th>19</th>\n",
       "      <td>mortar stores</td>\n",
       "    </tr>\n",
       "    <tr>\n",
       "      <th>20</th>\n",
       "      <td>mosquitoes</td>\n",
       "    </tr>\n",
       "    <tr>\n",
       "      <th>21</th>\n",
       "      <td>tried wonderful</td>\n",
       "    </tr>\n",
       "    <tr>\n",
       "      <th>22</th>\n",
       "      <td>else make</td>\n",
       "    </tr>\n",
       "    <tr>\n",
       "      <th>23</th>\n",
       "      <td>tried wide</td>\n",
       "    </tr>\n",
       "    <tr>\n",
       "      <th>24</th>\n",
       "      <td>months using</td>\n",
       "    </tr>\n",
       "    <tr>\n",
       "      <th>25</th>\n",
       "      <td>tried tasted</td>\n",
       "    </tr>\n",
       "    <tr>\n",
       "      <th>26</th>\n",
       "      <td>endangered</td>\n",
       "    </tr>\n",
       "    <tr>\n",
       "      <th>27</th>\n",
       "      <td>store thanks</td>\n",
       "    </tr>\n",
       "    <tr>\n",
       "      <th>28</th>\n",
       "      <td>end giving</td>\n",
       "    </tr>\n",
       "    <tr>\n",
       "      <th>29</th>\n",
       "      <td>months past</td>\n",
       "    </tr>\n",
       "    <tr>\n",
       "      <th>...</th>\n",
       "      <td>...</td>\n",
       "    </tr>\n",
       "    <tr>\n",
       "      <th>2470</th>\n",
       "      <td>tinker</td>\n",
       "    </tr>\n",
       "    <tr>\n",
       "      <th>2471</th>\n",
       "      <td>loves price</td>\n",
       "    </tr>\n",
       "    <tr>\n",
       "      <th>2472</th>\n",
       "      <td>flat not</td>\n",
       "    </tr>\n",
       "    <tr>\n",
       "      <th>2473</th>\n",
       "      <td>food tasted</td>\n",
       "    </tr>\n",
       "    <tr>\n",
       "      <th>2474</th>\n",
       "      <td>food thing</td>\n",
       "    </tr>\n",
       "    <tr>\n",
       "      <th>2475</th>\n",
       "      <td>food things</td>\n",
       "    </tr>\n",
       "    <tr>\n",
       "      <th>2476</th>\n",
       "      <td>food top</td>\n",
       "    </tr>\n",
       "    <tr>\n",
       "      <th>2477</th>\n",
       "      <td>like guess</td>\n",
       "    </tr>\n",
       "    <tr>\n",
       "      <th>2478</th>\n",
       "      <td>sweetness love</td>\n",
       "    </tr>\n",
       "    <tr>\n",
       "      <th>2479</th>\n",
       "      <td>like hair</td>\n",
       "    </tr>\n",
       "    <tr>\n",
       "      <th>2480</th>\n",
       "      <td>like hand</td>\n",
       "    </tr>\n",
       "    <tr>\n",
       "      <th>2481</th>\n",
       "      <td>gave coffee</td>\n",
       "    </tr>\n",
       "    <tr>\n",
       "      <th>2482</th>\n",
       "      <td>like jasmine</td>\n",
       "    </tr>\n",
       "    <tr>\n",
       "      <th>2483</th>\n",
       "      <td>think kind</td>\n",
       "    </tr>\n",
       "    <tr>\n",
       "      <th>2484</th>\n",
       "      <td>like ketchup</td>\n",
       "    </tr>\n",
       "    <tr>\n",
       "      <th>2485</th>\n",
       "      <td>like kinds</td>\n",
       "    </tr>\n",
       "    <tr>\n",
       "      <th>2486</th>\n",
       "      <td>garlic red</td>\n",
       "    </tr>\n",
       "    <tr>\n",
       "      <th>2487</th>\n",
       "      <td>gardens</td>\n",
       "    </tr>\n",
       "    <tr>\n",
       "      <th>2488</th>\n",
       "      <td>like knowing</td>\n",
       "    </tr>\n",
       "    <tr>\n",
       "      <th>2489</th>\n",
       "      <td>gadgets</td>\n",
       "    </tr>\n",
       "    <tr>\n",
       "      <th>2490</th>\n",
       "      <td>like leave</td>\n",
       "    </tr>\n",
       "    <tr>\n",
       "      <th>2491</th>\n",
       "      <td>fussy dog</td>\n",
       "    </tr>\n",
       "    <tr>\n",
       "      <th>2492</th>\n",
       "      <td>fussy coffee</td>\n",
       "    </tr>\n",
       "    <tr>\n",
       "      <th>2493</th>\n",
       "      <td>think needs</td>\n",
       "    </tr>\n",
       "    <tr>\n",
       "      <th>2494</th>\n",
       "      <td>like lots</td>\n",
       "    </tr>\n",
       "    <tr>\n",
       "      <th>2495</th>\n",
       "      <td>funny not</td>\n",
       "    </tr>\n",
       "    <tr>\n",
       "      <th>2496</th>\n",
       "      <td>gave full</td>\n",
       "    </tr>\n",
       "    <tr>\n",
       "      <th>2497</th>\n",
       "      <td>think give</td>\n",
       "    </tr>\n",
       "    <tr>\n",
       "      <th>2498</th>\n",
       "      <td>gave half</td>\n",
       "    </tr>\n",
       "    <tr>\n",
       "      <th>2499</th>\n",
       "      <td>generous portion</td>\n",
       "    </tr>\n",
       "  </tbody>\n",
       "</table>\n",
       "<p>2500 rows × 1 columns</p>\n",
       "</div>"
      ],
      "text/plain": [
       "                 tptokn\n",
       "0            zukes mini\n",
       "1             eat white\n",
       "2        store purchase\n",
       "3            else going\n",
       "4      morning smoothie\n",
       "5                trifle\n",
       "6     morning smoothies\n",
       "7         morning still\n",
       "8        else available\n",
       "9           else amazon\n",
       "10          elderly cat\n",
       "11          trip memory\n",
       "12              elastic\n",
       "13        either really\n",
       "14          trips store\n",
       "15          either nice\n",
       "16          morning way\n",
       "17               troops\n",
       "18          either case\n",
       "19        mortar stores\n",
       "20           mosquitoes\n",
       "21      tried wonderful\n",
       "22            else make\n",
       "23           tried wide\n",
       "24         months using\n",
       "25         tried tasted\n",
       "26           endangered\n",
       "27         store thanks\n",
       "28           end giving\n",
       "29          months past\n",
       "...                 ...\n",
       "2470             tinker\n",
       "2471        loves price\n",
       "2472           flat not\n",
       "2473        food tasted\n",
       "2474         food thing\n",
       "2475        food things\n",
       "2476           food top\n",
       "2477         like guess\n",
       "2478     sweetness love\n",
       "2479          like hair\n",
       "2480          like hand\n",
       "2481        gave coffee\n",
       "2482       like jasmine\n",
       "2483         think kind\n",
       "2484       like ketchup\n",
       "2485         like kinds\n",
       "2486         garlic red\n",
       "2487            gardens\n",
       "2488       like knowing\n",
       "2489            gadgets\n",
       "2490         like leave\n",
       "2491          fussy dog\n",
       "2492       fussy coffee\n",
       "2493        think needs\n",
       "2494          like lots\n",
       "2495          funny not\n",
       "2496          gave full\n",
       "2497         think give\n",
       "2498          gave half\n",
       "2499   generous portion\n",
       "\n",
       "[2500 rows x 1 columns]"
      ]
     },
     "execution_count": 33,
     "metadata": {},
     "output_type": "execute_result"
    }
   ],
   "source": [
    "df"
   ]
  },
  {
   "cell_type": "code",
   "execution_count": 34,
   "metadata": {},
   "outputs": [
    {
     "data": {
      "text/plain": [
       "<1x51292 sparse matrix of type '<class 'numpy.float64'>'\n",
       "\twith 37 stored elements in Compressed Sparse Row format>"
      ]
     },
     "execution_count": 34,
     "metadata": {},
     "output_type": "execute_result"
    }
   ],
   "source": [
    "matrx[0]"
   ]
  },
  {
   "cell_type": "code",
   "execution_count": 35,
   "metadata": {},
   "outputs": [],
   "source": [
    "s = tf_idf.inverse_transform(matrx[0])"
   ]
  },
  {
   "cell_type": "code",
   "execution_count": 36,
   "metadata": {},
   "outputs": [],
   "source": [
    "def top_tfidf_feats(row, features, top_n=25):\n",
    "    ''' Get top n tfidf values in row and return them with their corresponding feature names.'''\n",
    "    topn_ids = np.argsort(row)[::-1][:top_n]\n",
    "    top_feats = [(features[i], row[i]) for i in topn_ids]\n",
    "    df = pd.DataFrame(top_feats)\n",
    "    df.columns = ['feature', 'tfidf']\n",
    "    return df"
   ]
  },
  {
   "cell_type": "code",
   "execution_count": 37,
   "metadata": {},
   "outputs": [],
   "source": [
    "f=0\n"
   ]
  },
  {
   "cell_type": "code",
   "execution_count": 38,
   "metadata": {},
   "outputs": [
    {
     "data": {
      "text/plain": [
       "[array(['dogs', 'loves', 'chicken', 'product', 'china', 'wont', 'buying',\n",
       "        'anymore', 'hard', 'find', 'products', 'made', 'usa', 'one',\n",
       "        'isnt', 'bad', 'good', 'take', 'chances', 'till', 'know', 'going',\n",
       "        'imports', 'dogs loves', 'loves chicken', 'chicken product',\n",
       "        'product china', 'wont buying', 'buying anymore', 'hard find',\n",
       "        'chicken products', 'products made', 'made usa', 'bad good',\n",
       "        'good product', 'take chances', 'know going'], dtype='<U27')]"
      ]
     },
     "execution_count": 38,
     "metadata": {},
     "output_type": "execute_result"
    }
   ],
   "source": [
    "s"
   ]
  },
  {
   "cell_type": "code",
   "execution_count": null,
   "metadata": {},
   "outputs": [],
   "source": []
  },
  {
   "cell_type": "code",
   "execution_count": null,
   "metadata": {},
   "outputs": [],
   "source": []
  },
  {
   "cell_type": "code",
   "execution_count": 39,
   "metadata": {},
   "outputs": [],
   "source": [
    "from scipy import sparse\n",
    "vocabulary={}\n",
    "data=[]\n",
    "row=[]\n",
    "col=[]\n",
    "window_size = 2\n",
    "for pos,token in enumerate(tokens):\n",
    "    i=vocabulary.setdefault(token,len(vocabulary))\n",
    "    start=max(0,pos-window_size)\n",
    "    end=min(len(tokens),pos+window_size+1)\n",
    "    for pos2 in range(start,end):\n",
    "        if pos2==pos: \n",
    "            continue\n",
    "        j=vocabulary.setdefault(tokens[pos2],len(vocabulary))\n",
    "        data.append(1.); row.append(i); col.append(j);\n",
    "cooccurrence_matrix=sparse.coo_matrix((data,(row,col)))"
   ]
  },
  {
   "cell_type": "code",
   "execution_count": 40,
   "metadata": {},
   "outputs": [
    {
     "data": {
      "text/plain": [
       "(2500, 2500)"
      ]
     },
     "execution_count": 40,
     "metadata": {},
     "output_type": "execute_result"
    }
   ],
   "source": [
    "cooccurrence_matrix.shape"
   ]
  },
  {
   "cell_type": "code",
   "execution_count": 45,
   "metadata": {},
   "outputs": [
    {
     "data": {
      "text/plain": [
       "matrix([[1., 0., 1., ..., 0., 0., 0.]])"
      ]
     },
     "execution_count": 45,
     "metadata": {},
     "output_type": "execute_result"
    }
   ],
   "source": [
    "cooccurrence_matrix.todense()[1]"
   ]
  },
  {
   "cell_type": "code",
   "execution_count": 46,
   "metadata": {},
   "outputs": [
    {
     "name": "stderr",
     "output_type": "stream",
     "text": [
      "No handles with labels found to put in legend.\n"
     ]
    },
    {
     "data": {
      "image/png": "[encoded data removed]",
      "text/plain": [
       "<Figure size 432x288 with 1 Axes>"
      ]
     },
     "metadata": {},
     "output_type": "display_data"
    },
    {
     "name": "stdout",
     "output_type": "stream",
     "text": [
      "Best value of n_components is : 2400\n"
     ]
    }
   ],
   "source": [
    "from sklearn.decomposition import TruncatedSVD\n",
    "from sklearn.random_projection import sparse_random_matrix\n",
    "x=[]\n",
    "y=[]\n",
    "for k in range(0,2500,100):\n",
    "    \n",
    "    svd = TruncatedSVD(n_components=k, n_iter=7, random_state=42)\n",
    "    svd.fit(cooccurrence_matrix)  \n",
    "    x.append(k)\n",
    "    y.append(svd.explained_variance_ratio_.sum())  \n",
    "    \n",
    "plt.plot(x, y)\n",
    "\n",
    "plt.legend()\n",
    "plt.xlabel(\"n_components\")\n",
    "plt.ylabel(\"Cumulative explained_variance_ratio_\")\n",
    "\n",
    "plt.title(\"n_components Vs Cumulative explained_variance_ratio_\")\n",
    "plt.show()\n",
    "best = y.index(max(y))\n",
    "print(\"Best value of n_components is :\",x[best])\n"
   ]
  },
  {
   "cell_type": "code",
   "execution_count": 63,
   "metadata": {},
   "outputs": [
    {
     "name": "stdout",
     "output_type": "stream",
     "text": [
      "Best value of n_components is : 2400 0.9999969768100898\n"
     ]
    }
   ],
   "source": [
    "print(\"Best value of n_components is :\",x[best],max(y))"
   ]
  },
  {
   "cell_type": "code",
   "execution_count": 47,
   "metadata": {},
   "outputs": [
    {
     "data": {
      "text/plain": [
       "0.9967011075365129"
      ]
     },
     "execution_count": 47,
     "metadata": {},
     "output_type": "execute_result"
    }
   ],
   "source": [
    "svd = TruncatedSVD(n_components=2000, n_iter=7, random_state=42)\n",
    "svd.fit(cooccurrence_matrix)  \n",
    "svd.explained_variance_ratio_.sum()"
   ]
  },
  {
   "cell_type": "code",
   "execution_count": 48,
   "metadata": {},
   "outputs": [
    {
     "data": {
      "text/plain": [
       "array([4.90735670e-05, 7.94026088e-05, 1.16891272e-04, ...,\n",
       "       1.16891272e-04, 7.94026088e-05, 4.90735670e-05])"
      ]
     },
     "execution_count": 48,
     "metadata": {},
     "output_type": "execute_result"
    }
   ],
   "source": [
    "svd.components_[0]"
   ]
  },
  {
   "cell_type": "code",
   "execution_count": 53,
   "metadata": {},
   "outputs": [
    {
     "data": {
      "text/plain": [
       "(2, 2500)"
      ]
     },
     "execution_count": 53,
     "metadata": {},
     "output_type": "execute_result"
    }
   ],
   "source": [
    "svd.components_[:2].shape"
   ]
  },
  {
   "cell_type": "code",
   "execution_count": 59,
   "metadata": {},
   "outputs": [
    {
     "data": {
      "text/plain": [
       "array([[-9.81473216e-05, -1.58804331e-04, -2.33780329e-04, ...,\n",
       "         2.33780786e-04,  1.58805058e-04,  9.81472119e-05]])"
      ]
     },
     "execution_count": 59,
     "metadata": {},
     "output_type": "execute_result"
    }
   ],
   "source": [
    "sp_matr[1].toarray()"
   ]
  },
  {
   "cell_type": "code",
   "execution_count": 60,
   "metadata": {},
   "outputs": [
    {
     "data": {
      "text/plain": [
       "[array(['aa', 'aafco', 'aback', ..., 'away great', 'away home',\n",
       "        'away many'], dtype='<U27')]"
      ]
     },
     "execution_count": 60,
     "metadata": {},
     "output_type": "execute_result"
    }
   ],
   "source": [
    "tf_idf.inverse_transform(sp_matr[1].toarray())\n",
    "#svd.components_"
   ]
  },
  {
   "cell_type": "code",
   "execution_count": 57,
   "metadata": {},
   "outputs": [],
   "source": [
    "svd_mtrx = np.asmatrix(svd.components_)"
   ]
  },
  {
   "cell_type": "code",
   "execution_count": 58,
   "metadata": {},
   "outputs": [],
   "source": [
    "import scipy\n",
    "sp_matr = scipy.sparse.csr_matrix(svd.components_)"
   ]
  },
  {
   "cell_type": "code",
   "execution_count": 52,
   "metadata": {},
   "outputs": [
    {
     "data": {
      "text/plain": [
       "[array(['dogs', 'china', 'made', 'love', 'saw', 'pet', 'store', 'tag',\n",
       "        'attached', 'regarding', 'satisfied', 'safe', 'dogs love',\n",
       "        'pet store', 'made china'], dtype='<U27')]"
      ]
     },
     "execution_count": 52,
     "metadata": {},
     "output_type": "execute_result"
    }
   ],
   "source": [
    "tf_idf.inverse_transform(matrx[1])"
   ]
  },
  {
   "cell_type": "code",
   "execution_count": 61,
   "metadata": {},
   "outputs": [
    {
     "data": {
      "text/plain": [
       "[array(['aa', 'aafco', 'aback', ..., 'away great', 'away home',\n",
       "        'away many'], dtype='<U27')]"
      ]
     },
     "execution_count": 61,
     "metadata": {},
     "output_type": "execute_result"
    }
   ],
   "source": [
    "tf_idf.inverse_transform(sp_matr[4])"
   ]
  },
  {
   "cell_type": "code",
   "execution_count": 56,
   "metadata": {},
   "outputs": [
    {
     "data": {
      "image/png": "[encoded data removed]",
      "text/plain": [
       "<Figure size 432x288 with 1 Axes>"
      ]
     },
     "metadata": {},
     "output_type": "display_data"
    },
    {
     "name": "stdout",
     "output_type": "stream",
     "text": [
      "Best value of K is : 17\n"
     ]
    }
   ],
   "source": [
    "     \n",
    "from sklearn.cluster import KMeans\n",
    "x =[]\n",
    "y =[]\n",
    "z =[]\n",
    "\n",
    "for i in range(2,20,3):\n",
    "    clf = KMeans(n_clusters=i,n_jobs=-1)\n",
    "    \n",
    "    # fitting the model on crossvalidation train\n",
    "    clf.fit(svd.components_)\n",
    "    \n",
    "    acc = clf.inertia_\n",
    "   \n",
    "    x.append(i)\n",
    "    y.append(acc)\n",
    "   \n",
    "\n",
    "\n",
    "\n",
    "plt.plot(x,y)\n",
    "\n",
    "plt.xlabel(\"K\")\n",
    "plt.ylabel(\"inertia\")\n",
    "\n",
    "plt.title(\"K Vs inertia\")\n",
    "plt.show()\n",
    "best = y.index(min(y))\n",
    "print(\"Best value of K is :\",x[best])\n",
    "\n"
   ]
  },
  {
   "cell_type": "code",
   "execution_count": 127,
   "metadata": {},
   "outputs": [
    {
     "data": {
      "text/plain": [
       "KMeans(algorithm='auto', copy_x=True, init='k-means++', max_iter=300,\n",
       "    n_clusters=2, n_init=10, n_jobs=-1, precompute_distances='auto',\n",
       "    random_state=None, tol=0.0001, verbose=0)"
      ]
     },
     "execution_count": 127,
     "metadata": {},
     "output_type": "execute_result"
    }
   ],
   "source": [
    "clf = KMeans(n_clusters=2,n_jobs=-1)\n",
    "    \n",
    "    # fitting the model on crossvalidation train\n",
    "clf.fit(svd.components_)"
   ]
  },
  {
   "cell_type": "code",
   "execution_count": 128,
   "metadata": {},
   "outputs": [
    {
     "data": {
      "text/plain": [
       "-2.917913208361342e-14"
      ]
     },
     "execution_count": 128,
     "metadata": {},
     "output_type": "execute_result"
    }
   ],
   "source": [
    "silhouette_score(svd.components_,clf.labels_)\n"
   ]
  },
  {
   "cell_type": "code",
   "execution_count": 129,
   "metadata": {},
   "outputs": [
    {
     "name": "stdout",
     "output_type": "stream",
     "text": [
      "[0, 1]\n"
     ]
    }
   ],
   "source": [
    "d=[]\n",
    "for s in clf.labels_:\n",
    "    if s not in d:\n",
    "        d.append(s)\n",
    "print(d)"
   ]
  },
  {
   "cell_type": "code",
   "execution_count": 125,
   "metadata": {},
   "outputs": [
    {
     "ename": "KeyboardInterrupt",
     "evalue": "",
     "output_type": "error",
     "traceback": [
      "\u001b[0;31m---------------------------------------------------------------------------\u001b[0m",
      "\u001b[0;31mKeyboardInterrupt\u001b[0m                         Traceback (most recent call last)",
      "\u001b[0;32m<ipython-input-125-d22086adac3b>\u001b[0m in \u001b[0;36m<module>\u001b[0;34m()\u001b[0m\n\u001b[1;32m     15\u001b[0m         \u001b[0;32mfor\u001b[0m \u001b[0mj\u001b[0m \u001b[0;32min\u001b[0m \u001b[0mtf_idf\u001b[0m\u001b[0;34m.\u001b[0m\u001b[0minverse_transform\u001b[0m\u001b[0;34m(\u001b[0m\u001b[0msvd\u001b[0m\u001b[0;34m.\u001b[0m\u001b[0mcomponents_\u001b[0m\u001b[0;34m[\u001b[0m\u001b[0mc\u001b[0m\u001b[0;34m]\u001b[0m\u001b[0;34m)\u001b[0m\u001b[0;34m:\u001b[0m\u001b[0;34m\u001b[0m\u001b[0m\n\u001b[1;32m     16\u001b[0m             \u001b[0;32mfor\u001b[0m \u001b[0mk\u001b[0m \u001b[0;32min\u001b[0m \u001b[0mj\u001b[0m\u001b[0;34m:\u001b[0m\u001b[0;34m\u001b[0m\u001b[0m\n\u001b[0;32m---> 17\u001b[0;31m                 \u001b[0;32mif\u001b[0m \u001b[0mk\u001b[0m \u001b[0;32min\u001b[0m \u001b[0ms1\u001b[0m\u001b[0;34m:\u001b[0m\u001b[0;34m\u001b[0m\u001b[0m\n\u001b[0m\u001b[1;32m     18\u001b[0m                     \u001b[0;32mpass\u001b[0m\u001b[0;34m\u001b[0m\u001b[0m\n\u001b[1;32m     19\u001b[0m                 \u001b[0;32melse\u001b[0m\u001b[0;34m:\u001b[0m\u001b[0;34m\u001b[0m\u001b[0m\n",
      "\u001b[0;31mKeyboardInterrupt\u001b[0m: "
     ]
    }
   ],
   "source": [
    "s0 = \"\"\n",
    "s1 = \"\"\n",
    "c=0\n",
    "for i in clf.labels_:\n",
    "    if i == 0 :\n",
    "        for j in tf_idf.inverse_transform(svd.components_[c]):\n",
    "            for k in j:\n",
    "                if k in s0:\n",
    "                    pass\n",
    "                else:\n",
    "                    s0+=k\n",
    "                    s0+=\" \"\n",
    "        c+=1\n",
    "    else:\n",
    "        for j in tf_idf.inverse_transform(svd.components_[c]):\n",
    "            for k in j:\n",
    "                if k in s1:\n",
    "                    pass\n",
    "                else:\n",
    "                    s1+=k\n",
    "                    s1+=\" \"\n",
    "        c+=1\n",
    "   "
   ]
  },
  {
   "cell_type": "code",
   "execution_count": null,
   "metadata": {},
   "outputs": [],
   "source": [
    "from wordcloud import WordCloud \n",
    "import matplotlib.pyplot as plt \n",
    "\n",
    "#Cluster of words for positive rating(1)  \n",
    "wordcloud = WordCloud(width = 1600, height = 800, max_words=10000,\n",
    "                background_color ='white', \n",
    "                min_font_size = 10).generate(s1) \n",
    "  \n",
    "\n"
   ]
  },
  {
   "cell_type": "code",
   "execution_count": null,
   "metadata": {},
   "outputs": [],
   "source": [
    "# plot the WordCloud image  \n",
    "\n",
    "plt.figure(figsize=(15,15))\n",
    "plt.imshow(wordcloud, interpolation=\"bilinear\") \n",
    "plt.axis(\"off\") \n",
    "\n",
    "plt.margins(x=0, y=0) \n",
    "plt.show() "
   ]
  },
  {
   "cell_type": "code",
   "execution_count": 55,
   "metadata": {},
   "outputs": [],
   "source": [
    "from sklearn.metrics.pairwise import cosine_similarity,cosine_distances"
   ]
  },
  {
   "cell_type": "code",
   "execution_count": 56,
   "metadata": {},
   "outputs": [
    {
     "data": {
      "text/plain": [
       "array([4.90735670e-05, 7.94026088e-05, 1.16891272e-04, ...,\n",
       "       1.16891272e-04, 7.94026088e-05, 4.90735670e-05])"
      ]
     },
     "execution_count": 56,
     "metadata": {},
     "output_type": "execute_result"
    }
   ],
   "source": [
    "svd.components_[0].ravel()"
   ]
  },
  {
   "cell_type": "code",
   "execution_count": 57,
   "metadata": {},
   "outputs": [
    {
     "data": {
      "text/plain": [
       "array([[-1., -1., -1., ...,  1.,  1.,  1.],\n",
       "       [-1., -1., -1., ...,  1.,  1.,  1.],\n",
       "       [-1., -1., -1., ...,  1.,  1.,  1.],\n",
       "       ...,\n",
       "       [-1., -1., -1., ...,  1.,  1.,  1.],\n",
       "       [-1., -1., -1., ...,  1.,  1.,  1.],\n",
       "       [-1., -1., -1., ...,  1.,  1.,  1.]])"
      ]
     },
     "execution_count": 57,
     "metadata": {},
     "output_type": "execute_result"
    }
   ],
   "source": [
    "cosine_similarity(svd.components_[0].reshape(-1,1),svd.components_[1].reshape(-1,1))"
   ]
  },
  {
   "cell_type": "code",
   "execution_count": 78,
   "metadata": {},
   "outputs": [
    {
     "data": {
      "text/plain": [
       "2.220446049250313e-16"
      ]
     },
     "execution_count": 78,
     "metadata": {},
     "output_type": "execute_result"
    }
   ],
   "source": [
    "from scipy import spatial\n",
    "\n",
    "result = 1 - spatial.distance.cosine(svd.components_[0],svd.components_[1])\n",
    "result"
   ]
  },
  {
   "cell_type": "code",
   "execution_count": 104,
   "metadata": {},
   "outputs": [
    {
     "data": {
      "text/plain": [
       "numpy.ndarray"
      ]
     },
     "execution_count": 104,
     "metadata": {},
     "output_type": "execute_result"
    }
   ],
   "source": [
    "type(svd.components_[0])"
   ]
  },
  {
   "cell_type": "code",
   "execution_count": 108,
   "metadata": {},
   "outputs": [
    {
     "data": {
      "text/plain": [
       "(11762,)"
      ]
     },
     "execution_count": 108,
     "metadata": {},
     "output_type": "execute_result"
    }
   ],
   "source": [
    "tf_idf.transform(['hello']).toarray()[0].shape"
   ]
  },
  {
   "cell_type": "code",
   "execution_count": 59,
   "metadata": {},
   "outputs": [
    {
     "data": {
      "text/plain": [
       "(2400, 2400)"
      ]
     },
     "execution_count": 59,
     "metadata": {},
     "output_type": "execute_result"
    }
   ],
   "source": [
    "import numpy as np\n",
    "from sklearn.metrics import pairwise_distances\n",
    "from scipy.spatial.distance import cosine\n",
    "\n",
    "\n",
    "\n",
    "dist_out = 1-pairwise_distances(svd.components_, metric=\"cosine\")\n",
    "dist_out.shape"
   ]
  },
  {
   "cell_type": "code",
   "execution_count": 60,
   "metadata": {},
   "outputs": [
    {
     "data": {
      "text/plain": [
       "1.0"
      ]
     },
     "execution_count": 60,
     "metadata": {},
     "output_type": "execute_result"
    }
   ],
   "source": [
    "max(dist_out.ravel())"
   ]
  },
  {
   "cell_type": "code",
   "execution_count": 89,
   "metadata": {},
   "outputs": [
    {
     "data": {
      "text/plain": [
       "<1x11762 sparse matrix of type '<class 'numpy.float64'>'\n",
       "\twith 1 stored elements in Compressed Sparse Row format>"
      ]
     },
     "execution_count": 89,
     "metadata": {},
     "output_type": "execute_result"
    }
   ],
   "source": [
    "tf_idf.transform(['hello'])[0]"
   ]
  },
  {
   "cell_type": "code",
   "execution_count": 133,
   "metadata": {},
   "outputs": [
    {
     "ename": "AttributeError",
     "evalue": "'list' object has no attribute 'shape'",
     "output_type": "error",
     "traceback": [
      "\u001b[0;31m---------------------------------------------------------------------------\u001b[0m",
      "\u001b[0;31mAttributeError\u001b[0m                            Traceback (most recent call last)",
      "\u001b[0;32m<ipython-input-133-3f02db09d445>\u001b[0m in \u001b[0;36m<module>\u001b[0;34m()\u001b[0m\n\u001b[0;32m----> 1\u001b[0;31m \u001b[0mtf_idf\u001b[0m\u001b[0;34m.\u001b[0m\u001b[0minverse_transform\u001b[0m\u001b[0;34m(\u001b[0m\u001b[0msvd\u001b[0m\u001b[0;34m.\u001b[0m\u001b[0mcomponents_\u001b[0m\u001b[0;34m[\u001b[0m\u001b[0;36m0\u001b[0m\u001b[0;34m]\u001b[0m\u001b[0;34m)\u001b[0m\u001b[0;34m.\u001b[0m\u001b[0mshape\u001b[0m\u001b[0;34m\u001b[0m\u001b[0m\n\u001b[0m",
      "\u001b[0;31mAttributeError\u001b[0m: 'list' object has no attribute 'shape'"
     ]
    }
   ],
   "source": [
    "tf_idf.inverse_transform(svd.components_[0])"
   ]
  },
  {
   "cell_type": "code",
   "execution_count": 119,
   "metadata": {},
   "outputs": [],
   "source": [
    "def most_similar(word,count):\n",
    "    vec = tf_idf.transform([word]).toarray()[0]\n",
    "    diff=[]\n",
    "    for i in svd.components_:\n",
    "        diff.append(1 - spatial.distance.cosine(i,vec))\n",
    "    return diff\n"
   ]
  },
  {
   "cell_type": "code",
   "execution_count": 131,
   "metadata": {},
   "outputs": [],
   "source": [
    "dif = most_similar(\"ability\",10)"
   ]
  },
  {
   "cell_type": "code",
   "execution_count": 134,
   "metadata": {},
   "outputs": [
    {
     "data": {
      "text/plain": [
       "array([4013, 3639, 3824, ..., 3553, 3339, 2605])"
      ]
     },
     "execution_count": 134,
     "metadata": {},
     "output_type": "execute_result"
    }
   ],
   "source": [
    "np.argsort(dif)"
   ]
  },
  {
   "cell_type": "code",
   "execution_count": 135,
   "metadata": {},
   "outputs": [
    {
     "data": {
      "text/plain": [
       "0.048013430053859496"
      ]
     },
     "execution_count": 135,
     "metadata": {},
     "output_type": "execute_result"
    }
   ],
   "source": [
    "dif[2605]"
   ]
  },
  {
   "cell_type": "code",
   "execution_count": 142,
   "metadata": {},
   "outputs": [
    {
     "ename": "AttributeError",
     "evalue": "'list' object has no attribute 'ravel'",
     "output_type": "error",
     "traceback": [
      "\u001b[0;31m---------------------------------------------------------------------------\u001b[0m",
      "\u001b[0;31mAttributeError\u001b[0m                            Traceback (most recent call last)",
      "\u001b[0;32m<ipython-input-142-3824dec80d41>\u001b[0m in \u001b[0;36m<module>\u001b[0;34m()\u001b[0m\n\u001b[0;32m----> 1\u001b[0;31m \u001b[0mtf_idf\u001b[0m\u001b[0;34m.\u001b[0m\u001b[0minverse_transform\u001b[0m\u001b[0;34m(\u001b[0m\u001b[0msvd\u001b[0m\u001b[0;34m.\u001b[0m\u001b[0mcomponents_\u001b[0m\u001b[0;34m[\u001b[0m\u001b[0;36m2605\u001b[0m\u001b[0;34m]\u001b[0m\u001b[0;34m)\u001b[0m\u001b[0;34m.\u001b[0m\u001b[0mravel\u001b[0m\u001b[0;34m(\u001b[0m\u001b[0;34m)\u001b[0m\u001b[0;34m\u001b[0m\u001b[0m\n\u001b[0m",
      "\u001b[0;31mAttributeError\u001b[0m: 'list' object has no attribute 'ravel'"
     ]
    }
   ],
   "source": [
    "tf_idf.inverse_transform(svd.components_[2605])"
   ]
  },
  {
   "cell_type": "code",
   "execution_count": 150,
   "metadata": {},
   "outputs": [
    {
     "name": "stdout",
     "output_type": "stream",
     "text": [
      "['ability', 'able', 'able buy', 'able eat', 'able find', 'able get', 'able give', 'able make', 'able order', 'able purchase', 'able use', 'absolute', 'absolute best', 'absolute favorite', 'absolutely', 'absolutely amazing', 'absolutely best', 'absolutely delicious', 'absolutely love', 'absolutely loved', 'absolutely loves', 'absolutely no', 'absolutely wonderful', 'absorb', 'absorbed', 'abundant', 'acacia', 'acai', 'accept', 'acceptable', 'accepted', 'access', 'accident', 'accidentally', 'according', 'account', 'accurate', 'accustomed', 'acerola', 'acerola juice', 'ache', 'acid', 'acid reflux', 'acid vitamin', 'acidic', 'acidic taste', 'acidity', 'acids', 'acquired', 'acquired taste', 'across', 'act', 'acting', 'action', 'active', 'activity', 'acts', 'actual', 'actually', 'actually eat', 'actually good', 'actually got', 'actually like', 'actually not', 'actually pretty', 'actually quite', 'actually taste', 'actually tasted', 'actually tastes', 'actually think', 'actually use', 'ad', 'add', 'add anything', 'add bit', 'add chocolate', 'add cup', 'add extra', 'add flavor', 'add hot', 'add little', 'add milk', 'add much', 'add one', 'add sugar', 'add teaspoon', 'add water', 'added', 'added bonus', 'added little', 'added no', 'added salt', 'added sugar', 'added sugars', 'addict', 'addicted', 'addicting', 'addiction', 'addictive', 'adding', 'addition', 'additional', 'additionally', 'additions', 'additive', 'additives', 'address', 'adds', 'adequate', 'adjust', 'adjusted', 'admit', 'admit not', 'admittedly', 'adopted', 'adore', 'adores', 'adult', 'adult dog', 'adults', 'advance', 'advanced', 'advantage', 'adverse', 'advertise', 'advertised', 'advertises', 'advertising', 'advice', 'advise', 'advised', 'affect', 'affected', 'affects', 'afford', 'affordable', 'affordable price', 'afraid', 'african', 'afternoon', 'afternoon snack', 'afternoons', 'aftertaste', 'aftertaste like', 'aftertaste not', 'afterwards', 'agave', 'agave nectar', 'age', 'aged', 'agent', 'ages', 'aging', 'ago', 'ago not', 'agree', 'agree reviewers', 'agreed', 'agrees', 'ahead', 'ahead time', 'ahmad', 'ahoy', 'aid', 'air', 'air tight', 'airtight', 'airy', 'aisle', 'aka', 'akin', 'al', 'alas', 'alcohol', 'alcoholic', 'ale', 'alike', 'alive', 'allergens', 'allergic', 'allergic reaction', 'allergic wheat', 'allergies', 'allergy', 'allow', 'allowance', 'allowed', 'allowing', 'allows', 'almond', 'almond milk', 'almonds', 'almonds good', 'almost', 'almost always', 'almost anything', 'almost completely', 'almost every', 'almost everything', 'almost good', 'almost half', 'almost immediately', 'almost impossible', 'almost like', 'almost no', 'almost not', 'almost two', 'almost year', 'almost years', 'alone', 'along', 'alot', 'already', 'alright', 'also', 'also add', 'also added', 'also big', 'also bought', 'also buy', 'also delicious', 'also enjoy', 'also excellent', 'also found', 'also get', 'also give', 'also good', 'also got', 'also great', 'also healthy', 'also helps', 'also like', 'also liked', 'also love', 'also loved', 'also made', 'also make', 'also makes', 'also much', 'also nice', 'also no', 'also not', 'also one', 'also ordered', 'also purchased', 'also put', 'also recommend', 'also says', 'also small', 'also taste', 'also tastes', 'also think', 'also tried', 'also try', 'also use', 'also used', 'also wanted', 'also wish', 'also would', 'alternate', 'alternative', 'alternative regular', 'alternative soda', 'alternatives', 'although', 'although not', 'although would', 'altogether', 'altoids', 'aluminum', 'aluminum free', 'always', 'always available', 'always bought', 'always buy', 'always enjoyed', 'always fan', 'always fresh', 'always get', 'always good', 'always great', 'always hand', 'always keep', 'always like', 'always liked', 'always looking', 'always loved', 'always makes', 'always stock', 'always thought', 'always used', 'always wanted', 'amazed', 'amazing', 'amazing not', 'amazing taste', 'amazingly', 'amazon', 'amazon also', 'amazon always', 'amazon best', 'amazon better', 'amazon bought', 'amazon buy', 'amazon came', 'amazon carries', 'amazon carrying', 'amazon cheaper', 'amazon com', 'amazon customer', 'amazon even', 'amazon found', 'amazon free', 'amazon get', 'amazon good', 'amazon great', 'amazon like', 'amazon local', 'amazon made', 'amazon makes', 'amazon much', 'amazon no', 'amazon not', 'amazon offers', 'amazon one', 'amazon order', 'amazon ordered', 'amazon page', 'amazon price', 'amazon prices', 'amazon prime', 'amazon product', 'amazon really', 'amazon selling', 'amazon sells', 'amazon sent', 'amazon shipped', 'amazon shipping', 'amazon since', 'amazon stock', 'amazon subscribe', 'amazon subscription', 'amazon vine', 'amazon well', 'amazon wonderful', 'amazon would', 'amber', 'america', 'american', 'americano', 'americans', 'amino', 'among', 'among best', 'amount', 'amount coffee', 'amount flavor', 'amount get', 'amount protein', 'amount salt', 'amount sugar', 'amount sweetness', 'amount time', 'amount water', 'amounts', 'ample', 'analysis', 'anchovies', 'angel', 'angel hair', 'angry', 'animal', 'animals', 'anise', 'annie', 'annoying', 'another', 'another bag', 'another box', 'another brand', 'another case', 'another company', 'another cup', 'another flavor', 'another great', 'another one', 'another order', 'another plus', 'another product', 'another review', 'another reviewer', 'another thing', 'answer', 'anti', 'antibiotics', 'anticipated', 'anticipation', 'antioxidant', 'antioxidants', 'ants', 'anxiety', 'anxious', 'anybody', 'anymore', 'anymore not', 'anyone', 'anyone else', 'anyone enjoys', 'anyone likes', 'anyone looking', 'anyone loves', 'anyone not', 'anyone wanting', 'anyone wants', 'anyone would', 'anything', 'anything better', 'anything else', 'anything like', 'anything not', 'anytime', 'anytime day', 'anyway', 'anyways', 'anywhere', 'anywhere else', 'anywhere near', 'apart', 'apart easily', 'apparent', 'apparently', 'appeal', 'appealing', 'appear', 'appearance', 'appeared', 'appears', 'appetite', 'appetizing', 'apple', 'apple cider', 'apple cinnamon', 'apple grape', 'apple juice', 'apples', 'apples cinnamon', 'apples organic', 'applesauce', 'application', 'apply', 'appreciate', 'appreciated', 'approach', 'approaching', 'appropriate', 'approval', 'approved', 'approx', 'approximately', 'apricot', 'apricots', 'april', 'arabica', 'area', 'areas', 'argentina', 'arizona', 'arm', 'aroma', 'aroma flavor', 'aroma not', 'aroma taste', 'aromatic', 'around', 'around house', 'around not', 'arrival', 'arrive', 'arrived', 'arrived broken', 'arrived days', 'arrived excellent', 'arrived fast', 'arrived fresh', 'arrived good', 'arrived great', 'arrived intact', 'arrived perfect', 'arrived promptly', 'arrived quickly', 'arrived time', 'arrives', 'arriving', 'art', 'arthritis', 'article', 'artifical', 'artificial', 'artificial color', 'artificial colors', 'artificial flavor', 'artificial flavors', 'artificial ingredients', 'artificial sweetener', 'artificial sweeteners', 'artificially', 'artificially flavored', 'ascorbic', 'ascorbic acid', 'asian', 'asian market', 'aside', 'ask', 'asked', 'asking', 'asks', 'asparagus', 'aspartame', 'aspect', 'assam', 'associate', 'associated', 'assorted', 'assortment', 'assume', 'assumed', 'assuming', 'assured', 'asthma', 'astronaut', 'ate', 'ate one', 'ate whole', 'atkins', 'attached', 'attack', 'attempt', 'attempted', 'attempts', 'attention', 'attitude', 'attractive', 'attribute', 'au', 'audio', 'august', 'aunt', 'aussie', 'australian', 'authentic', 'autism', 'auto', 'auto delivery', 'auto ship', 'automatic', 'automatically', 'avail', 'availability', 'available', 'available amazon', 'available local', 'available locally', 'available not', 'available stores', 'average', 'avid', 'avocado', 'avocado oil', 'avoid', 'avoided', 'avoiding', 'awake', 'award', 'aware', 'away', 'away not', 'away would', 'awesome', 'awesome flavor', 'awesome product', 'awful', 'awhile', 'babies', 'baby', 'baby food', 'baby foods', 'baby loves', 'baby not', 'baby shower', 'back', 'back bag', 'back home', 'back normal', 'back not', 'back old', 'back one', 'back regular', 'back store', 'background', 'backpack', 'backpacking', 'backyard', 'bacon', 'bacon curls', 'bacteria', 'bad', 'bad batch', 'bad breath', 'bad could', 'bad either', 'bad like', 'bad not', 'bad review', 'bad reviews', 'bad taste', 'bad thing', 'badly', 'bag', 'bag also', 'bag calories', 'bag chips', 'bag even', 'bag great', 'bag inside', 'bag last', 'bag lasts', 'bag like', 'bag local', 'bag makes', 'bag not', 'bag one', 'bag two', 'bag would', 'bagged', 'baggie', 'bags', 'bags chips', 'bags great', 'bags not', 'bahlsen', 'bait', 'bake', 'baked', 'baked chicken', 'baked goods', 'baked potatoes', 'baker', 'baker breakfast', 'bakery', 'baking', 'baking mix', 'baking powder', 'baking soda', 'balance', 'balanced', 'ball', 'balls', 'balsamic', 'banana', 'bananas', 'bang', 'bang buck', 'bank', 'bar', 'bar none', 'bar not', 'barbecue', 'barbeque', 'barely', 'bargain', 'barista', 'bark', 'barley', 'barley lamb', 'barley new', 'barley organic', 'baronet', 'bars', 'bars not', 'bars taste', 'base', 'based', 'based reviews', 'based upon', 'basic', 'basically', 'basil', 'basis', 'basket', 'batch', 'batches', 'bath', 'bath beyond', 'bathroom', 'batter', 'bay', 'bb', 'bbq', 'bbq sauce', 'beaba', 'beach', 'beagle', 'bean', 'bean coffee', 'bean direct', 'beans', 'beans not', 'beans rice', 'bear', 'bears', 'beat', 'beat price', 'beaten', 'beats', 'beautiful', 'beautifully', 'beauty', 'became', 'become', 'become favorite', 'become one', 'become part', 'become staple', 'becomes', 'becoming', 'bed', 'bed bath', 'bedtime', 'bee', 'beef', 'beef chicken', 'beef jerky', 'beef liver', 'beef pork', 'beer', 'beers', 'beg', 'began', 'begging', 'begin', 'beginning', 'begs', 'begun', 'behavior', 'behind', 'behold', 'belgian', 'belgian waffle', 'believe', 'believe good', 'believe not', 'believed', 'believer', 'bell', 'belly', 'beloved', 'beneficial', 'benefit', 'benefits', 'bergamot', 'berries', 'berry', 'berry flavor', 'besides', 'best', 'best baby', 'best best', 'best buy', 'best canned', 'best chips', 'best chocolate', 'best coffee', 'best could', 'best cup', 'best date', 'best deal', 'best decaf', 'best dog', 'best earl', 'best ever', 'best far', 'best flavor', 'best flavors', 'best food', 'best found', 'best friend', 'best gluten', 'best hot', 'best no', 'best not', 'best one', 'best organic', 'best pancake', 'best part', 'best price', 'best prices', 'best product', 'best quality', 'best results', 'best taste', 'best tasting', 'best tea', 'best thing', 'best things', 'best tried', 'best use', 'best used', 'best value', 'best way', 'bet', 'better', 'better anything', 'better brands', 'better buy', 'better buying', 'better choice', 'better coffee', 'better cup', 'better deal', 'better drinking', 'better even', 'better expected', 'better flavor', 'better food', 'better get', 'better like', 'better no', 'better not', 'better one', 'better ones', 'better others', 'better plain', 'better price', 'better product', 'better quality', 'better regular', 'better results', 'better taste', 'better tasting', 'better value', 'better way', 'better would', 'better yet', 'betty', 'betty crocker', 'beverage', 'beverage not', 'beverages', 'beware', 'beyond', 'bichon', 'big', 'big bag', 'big box', 'big chunks', 'big coffee', 'big deal', 'big difference', 'big dog', 'big easy', 'big enough', 'big fan', 'big hit', 'big mistake', 'big plus', 'bigelow', 'bigger', 'bigger size', 'biggest', 'bike', 'bill', 'bills', 'bird', 'birth', 'birthday', 'birthday party', 'biscotti', 'biscuit', 'biscuits', 'biscuits not', 'bisquick', 'bisquick gluten', 'bit', 'bit better', 'bit bitter', 'bit cheaper', 'bit expensive', 'bit good', 'bit hard', 'bit high', 'bit honey', 'bit hot', 'bit less', 'bit like', 'bit longer', 'bit milk', 'bit much', 'bit not', 'bit pricey', 'bit salty', 'bit small', 'bit strong', 'bit stronger', 'bit sugar', 'bit sweet', 'bit sweeter', 'bit water', 'bite', 'bite size', 'bite sized', 'bites', 'biting', 'bits', 'bitter', 'bitter aftertaste', 'bitter coffee', 'bitter like', 'bitter not', 'bitter taste', 'bitterness', 'black', 'black beans', 'black cherry', 'black coffee', 'black lab', 'black licorice', 'black pepper', 'black silk', 'black tea', 'black teas', 'black tiger', 'blackberry', 'blah', 'blame', 'bland', 'bland not', 'blast', 'blend', 'blend coffee', 'blend favorite', 'blend good', 'blend not', 'blend perfect', 'blended', 'blender', 'blending', 'blends', 'blends not', 'blessing', 'blew', 'bloating', 'block', 'blog', 'blood', 'blood pressure', 'blood sugar', 'blow', 'blown', 'blown away', 'blue', 'blue buffalo', 'blue diamond', 'blue mountain', 'blueberries', 'blueberry', 'board', 'bob', 'bob red', 'bodied', 'bodied coffee', 'bodies', 'body', 'boil', 'boil water', 'boiled', 'boiling', 'boiling water', 'bold', 'bold coffee', 'bold cup', 'bold flavor', 'bold not', 'bold strong', 'bold taste', 'bolder', 'bomb', 'bon', 'bone', 'boneless', 'bones', 'bonsai', 'bonsai tree', 'bonus', 'book', 'books', 'boost', 'boot', 'border', 'border collie', 'bored', 'boring', 'born', 'boston', 'bother', 'bothered', 'bottle', 'bottled', 'bottled water', 'bottles', 'bottom', 'bottom bag', 'bottom cup', 'bottom line', 'bought', 'bought amazon', 'bought another', 'bought bag', 'bought box', 'bought boxes', 'bought brand', 'bought case', 'bought chocolate', 'bought coffee', 'bought couple', 'bought first', 'bought gift', 'bought good', 'bought keurig', 'bought local', 'bought not', 'bought one', 'bought pack', 'bought product', 'bought several', 'bought small', 'bought store', 'bought tea', 'bought three', 'bought tried', 'bought two', 'bought variety', 'bourbon', 'bowel', 'bowel movements', 'bowels', 'bowl', 'bowls', 'box', 'box arrived', 'box came', 'box like', 'box no', 'box not', 'box one', 'box opened', 'box price', 'box says', 'box would', 'boxed', 'boxer', 'boxes', 'boxes not', 'boxes time', 'boy', 'boyardee', 'boyfriend', 'boys', 'bpa', 'bpa free', 'brain', 'brainer', 'bran', 'brand', 'brand also', 'brand best', 'brand chips', 'brand coffee', 'brand far', 'brand flavor', 'brand food', 'brand good', 'brand name', 'brand not', 'brand one', 'brand potato', 'brand tried', 'brands', 'brands coffee', 'brands dog', 'brands flavors', 'brands like', 'brands not', 'brands one', 'brands tried', 'brazil', 'bread', 'bread machine', 'bread mix', 'bread mixes', 'breads', 'break', 'break apart', 'break half', 'break smaller', 'breakage', 'breakdown', 'breakfast', 'breakfast bed', 'breakfast blend', 'breakfast cookie', 'breakfast cookies', 'breakfast tea', 'breaking', 'breaks', 'breast', 'breast milk', 'breastmilk', 'breasts', 'breath', 'breath not', 'breathe', 'breathing', 'breed', 'breed dog', 'breeder', 'breeds', 'breeze', 'brew', 'brew coffee', 'brew cup', 'brewed', 'brewed coffee', 'brewer', 'brewers', 'brewing', 'brewing coffee', 'brews', 'brick', 'brief', 'bright', 'brilliant', 'bring', 'bring back', 'bringing', 'brings', 'brings back', 'british', 'brittle', 'broccoli', 'broke', 'broken', 'broken half', 'broken pieces', 'broth', 'brother', 'brothers', 'brought', 'brought back', 'brought home', 'brown', 'brown rice', 'brown sugar', 'browned', 'brownie', 'brownie mix', 'brownies', 'brownies ever', 'brownies not', 'brulee', 'brush', 'brush teeth', 'brushed', 'brushing', 'btw', 'bubble', 'bubble gum', 'bubble wrap', 'bubbles', 'bubbly', 'buck', 'bucket', 'bucks', 'buddy', 'budget', 'buds', 'buffalo', 'bug', 'bugs', 'build', 'building', 'built', 'bulk', 'bulk amazon', 'bulky', 'bull', 'bulldog', 'bully', 'bummed', 'bummer', 'bunch', 'burger', 'burgers', 'burn', 'burned', 'burning', 'burnt', 'burnt taste', 'burr', 'burr grinder', 'burst', 'business', 'busted', 'busy', 'butter', 'butter also', 'butter chocolate', 'butter flavor', 'butter good', 'butter jelly', 'butter much', 'butter not', 'butter taste', 'butter use', 'butter without', 'buttermilk', 'butters', 'buttery', 'button', 'buy', 'buy amazon', 'buy another', 'buy anything', 'buy bag', 'buy box', 'buy brand', 'buy bulk', 'buy buy', 'buy case', 'buy coffee', 'buy dog', 'buy every', 'buy food', 'buy good', 'buy great', 'buy grocery', 'buy larger', 'buy local', 'buy locally', 'buy lot', 'buy not', 'buy one', 'buy online', 'buy organic', 'buy pack', 'buy product', 'buy products', 'buy regular', 'buy seller', 'buy several', 'buy something', 'buy store', 'buy tea', 'buy time', 'buy treats', 'buy two', 'buy whole', 'buy would', 'buyer', 'buyer beware', 'buyers', 'buying', 'buying amazon', 'buying bulk', 'buying case', 'buying coffee', 'buying local', 'buying not', 'buying one', 'buying online', 'buying product', 'buying store', 'buys', 'buzz', 'ca', 'ca not', 'cabinet', 'cabinets', 'cable', 'cacao', 'cafe', 'cafe collection', 'cafe escapes', 'caffe', 'caffeinated', 'caffeine', 'caffeine free', 'cajun', 'cake', 'cake like', 'cake mix', 'cakes', 'cal', 'calcium', 'california', 'call', 'called', 'calling', 'calls', 'calm', 'calming', 'caloric', 'calorie', 'calorie content', 'calorie count', 'calorie intake', 'calorie snack', 'calories', 'calories bag', 'calories fat', 'calories grams', 'calories great', 'calories no', 'calories not', 'calories one', 'calories per', 'calories regular', 'came', 'came across', 'came back', 'came fast', 'came home', 'came perfect', 'came quickly', 'came well', 'campbell', 'camper', 'camping', 'canada', 'canadian', 'cancel', 'canceled', 'cancelled', 'cancer', 'candies', 'candy', 'candy bar', 'candy bars', 'candy like', 'candy not', 'cane', 'cane juice', 'cane sugar', 'canidae', 'canidae not', 'canin', 'canine', 'canister', 'canisters', 'canned', 'canned cat', 'canned food', 'canned foods', 'cannot', 'cannot beat', 'cannot believe', 'cannot eat', 'cannot find', 'cannot get', 'cannot recommend', 'cannot say', 'canola', 'canola oil', 'cans', 'cans dented', 'cans not', 'cant', 'cap', 'cappuccino', 'caps', 'capsule', 'capsules', 'car', 'caramel', 'caramel flavor', 'caramels', 'carb', 'carb diet', 'carbohydrate', 'carbohydrates', 'carbonated', 'carbonated beverage', 'carbonated drink', 'carbonated drinks', 'carbonated fruit', 'carbonated juice', 'carbonated orange', 'carbonated water', 'carbonation', 'carbonation not', 'carbs', 'carbs per', 'card', 'cardamom', 'cardboard', 'cardboard box', 'care', 'care much', 'careful', 'careful not', 'carefully', 'cares', 'caribou', 'caring', 'carousel', 'carpet', 'carried', 'carries', 'carrot', 'carrot juice', 'carrots', 'carrots apples', 'carrots organic', 'carry', 'carry anymore', 'carry around', 'carrying', 'carrying product', 'cart', 'carton', 'cartons', 'case', 'case amazon', 'case not', 'casein', 'cases', 'cashew', 'cashews', 'cast', 'cast iron', 'cat', 'cat eat', 'cat food', 'cat foods', 'cat grass', 'cat likes', 'cat loved', 'cat loves', 'cat not', 'catch', 'category', 'cats', 'cats eat', 'cats like', 'cats love', 'cats loved', 'cats not', 'cats one', 'cats really', 'cats seem', 'cats would', 'caught', 'cause', 'caused', 'causes', 'causing', 'caution', 'cautious', 'caveat', 'caviar', 'cayenne', 'cayenne pepper', 'celery', 'celestial', 'celestial seasonings', 'celiac', 'celiac disease', 'celiacs', 'cells', 'celsius', 'cent', 'center', 'central', 'cents', 'cents per', 'ceramic', 'cereal', 'cereals', 'certain', 'certainly', 'certainly not', 'certainly would', 'certified', 'certified organic', 'chai', 'chai tea', 'chain', 'chains', 'chalky', 'challenge', 'challenging', 'chamomile', 'champagne', 'chance', 'chance try', 'chances', 'change', 'change formula', 'change pace', 'changed', 'changed formula', 'changed recipe', 'changes', 'changing', 'character', 'charcoal', 'charge', 'charged', 'charges', 'charging', 'charity', 'charm', 'cheap', 'cheaper', 'cheaper amazon', 'cheaper buy', 'cheaper buying', 'cheaper local', 'cheaper not', 'cheaper price', 'cheaper store', 'cheapest', 'check', 'check amazon', 'check ingredients', 'checked', 'checked amazon', 'checking', 'cheddar', 'cheddar cheese', 'cheerios', 'cheers', 'cheese', 'cheese flavor', 'cheese not', 'cheese taste', 'cheesecake', 'cheeses', 'cheesy', 'cheetos', 'cheez', 'chef', 'chef boyardee', 'chefs', 'chemical', 'chemical aftertaste', 'chemical taste', 'chemically', 'chemicals', 'cherries', 'cherry', 'cherry flavor', 'cherry juice', 'chest', 'chestnuts', 'chew', 'chew not', 'chewed', 'chewer', 'chewing', 'chews', 'chews not', 'chewy', 'chewy not', 'chewy texture', 'chia', 'chia seeds', 'chicago', 'chick', 'chick chick', 'chicken', 'chicken beef', 'chicken breast', 'chicken broth', 'chicken chicken', 'chicken fish', 'chicken flavor', 'chicken jerky', 'chicken not', 'chicken pork', 'chicken pot', 'chicken rice', 'chicken salad', 'chicken soup', 'chicken turkey', 'chicken wings', 'chickens', 'chicory', 'chihuahua', 'chihuahuas', 'child', 'childhood', 'children', 'chile', 'chili', 'chili sauce', 'chilled', 'china', 'china not', 'chinese', 'chinese chicken', 'chip', 'chip coconut', 'chip cookie', 'chip cookies', 'chipotle', 'chips', 'chips ahoy', 'chips bag', 'chips best', 'chips delicious', 'chips ever', 'chips good', 'chips great', 'chips love', 'chips no', 'chips not', 'chips really', 'chips taste', 'chips would', 'choc', 'chocolate', 'chocolate bar', 'chocolate cake', 'chocolate chip', 'chocolate chips', 'chocolate chunks', 'chocolate cocoa', 'chocolate coconut', 'chocolate coffee', 'chocolate covered', 'chocolate cup', 'chocolate cups', 'chocolate dark', 'chocolate ever', 'chocolate flavor', 'chocolate good', 'chocolate like', 'chocolate lover', 'chocolate milk', 'chocolate mint', 'chocolate mix', 'chocolate not', 'chocolate one', 'chocolate peanut', 'chocolate raspberry', 'chocolate taste', 'chocolate tastes', 'chocolate tried', 'chocolate truffles', 'chocolate version', 'chocolate would', 'chocolates', 'chocolatey', 'chocolaty', 'choice', 'choices', 'choke', 'choked', 'choking', 'cholesterol', 'chondroitin', 'choose', 'choosing', 'chop', 'chopped', 'chops', 'chose', 'chosen', 'chow', 'chowder', 'christmas', 'christmas gift', 'christmas present', 'chronic', 'chunk', 'chunks', 'chunks chicken', 'chunky', 'cider', 'cilantro', 'cinnamon', 'cinnamon brown', 'cinnamon flavor', 'cinnamon toast', 'citric', 'citrus', 'citrus flavor', 'city', 'claim', 'claimed', 'claiming', 'claims', 'clam', 'clam chowder', 'clams', 'class', 'classic', 'classique', 'classique supreme', 'clean', 'clean not', 'clean taste', 'clean teeth', 'cleaned', 'cleaner', 'cleaning', 'cleans', 'cleanse', 'clear', 'clear plastic', 'clearance', 'cleared', 'clearly', 'clever', 'click', 'clients', 'close', 'close second', 'closed', 'closely', 'closer', 'closest', 'closest thing', 'closet', 'cloying', 'club', 'club soda', 'clue', 'clump', 'clumped', 'clumping', 'clumps', 'co', 'co worker', 'co workers', 'coach', 'coach oats', 'coarse', 'coast', 'coat', 'coated', 'coating', 'coats', 'coca', 'coca cola', 'cocker', 'cocker spaniel', 'cocktail', 'coco', 'cocoa', 'cocoa butter', 'cocoa cups', 'cocoa ever', 'cocoa mix', 'cocoa not', 'cocoa powder', 'cocoa tried', 'coconut', 'coconut bars', 'coconut chocolate', 'coconut flavor', 'coconut milk', 'coconut not', 'coconut oil', 'coconut sugar', 'coconut taste', 'coconut water', 'code', 'coffe', 'coffee', 'coffee also', 'coffee always', 'coffee amazon', 'coffee aroma', 'coffee bean', 'coffee beans', 'coffee best', 'coffee bit', 'coffee black', 'coffee blend', 'coffee bold', 'coffee brand', 'coffee brands', 'coffee breakfast', 'coffee brewed', 'coffee brewer', 'coffee buy', 'coffee choice', 'coffee coffee', 'coffee comes', 'coffee creamer', 'coffee cup', 'coffee cups', 'coffee dark', 'coffee day', 'coffee definitely', 'coffee delicious', 'coffee drink', 'coffee drinker', 'coffee drinkers', 'coffee drinking', 'coffee drinks', 'coffee easy', 'coffee even', 'coffee ever', 'coffee every', 'coffee excellent', 'coffee far', 'coffee favorite', 'coffee first', 'coffee flavor', 'coffee flavors', 'coffee found', 'coffee fresh', 'coffee full', 'coffee get', 'coffee give', 'coffee go', 'coffee good', 'coffee got', 'coffee great', 'coffee green', 'coffee grinder', 'coffee grounds', 'coffee home', 'coffee house', 'coffee keurig', 'coffee like', 'coffee little', 'coffee love', 'coffee lover', 'coffee lovers', 'coffee machine', 'coffee made', 'coffee make', 'coffee maker', 'coffee makers', 'coffee making', 'coffee medium', 'coffee mild', 'coffee morning', 'coffee much', 'coffee never', 'coffee nice', 'coffee no', 'coffee not', 'coffee one', 'coffee people', 'coffee per', 'coffee perfect', 'coffee pod', 'coffee pods', 'coffee pot', 'coffee pretty', 'coffee price', 'coffee purchased', 'coffee really', 'coffee rich', 'coffee right', 'coffee shop', 'coffee shops', 'coffee since', 'coffee smooth', 'coffee snob', 'coffee strong', 'coffee taste', 'coffee tasted', 'coffee tastes', 'coffee tea', 'coffee think', 'coffee time', 'coffee tried', 'coffee try', 'coffee use', 'coffee used', 'coffee usually', 'coffee weak', 'coffee well', 'coffee without', 'coffee wonderful', 'coffee would', 'coffeemaker', 'coffees', 'coffees not', 'coffees one', 'coffees tried', 'coke', 'cola', 'cold', 'cold water', 'collection', 'college', 'college student', 'collie', 'colombian', 'color', 'color not', 'colored', 'colorful', 'coloring', 'colors', 'columbian', 'com', 'com not', 'combination', 'combinations', 'combine', 'combined', 'combining', 'combo', 'come', 'come across', 'come back', 'come close', 'come running', 'comes', 'comes close', 'comes food', 'comes running', 'comfort', 'comfortable', 'comforting', 'coming', 'coming back', 'comment', 'commented', 'comments', 'commercial', 'committing', 'common', 'common sense', 'commonly', 'community', 'community coffee', 'compact', 'companies', 'company', 'company makes', 'company not', 'company website', 'company would', 'comparable', 'compare', 'compared', 'compared local', 'compared regular', 'compares', 'comparing', 'comparison', 'compete', 'competitive', 'competitors', 'complain', 'complained', 'complaining', 'complaint', 'complaint not', 'complaints', 'complement', 'complete', 'complete waste', 'completely', 'completely different', 'complex', 'complexity', 'compliment', 'compliments', 'component', 'components', 'compromise', 'compromised', 'computer', 'con', 'concentrate', 'concentrated', 'concentrates', 'concentrates apple', 'concentration', 'concept', 'concern', 'concerned', 'concerns', 'conclusion', 'concoction', 'condensed', 'condenser', 'condiment', 'condition', 'conditions', 'cone', 'confection', 'confidence', 'confident', 'confirm', 'confirmed', 'confused', 'congestion', 'connoisseur', 'cons', 'conscious', 'consequently', 'consider', 'consider buying', 'considerable', 'considerably', 'consideration', 'considered', 'considering', 'consistency', 'consistency not', 'consistent', 'consistently', 'constant', 'constantly', 'constipated', 'constipation', 'construction', 'consume', 'consumed', 'consumer', 'consumers', 'consuming', 'consumption', 'contact', 'contacted', 'contacting', 'contain', 'contain no', 'contained', 'container', 'containers', 'containing', 'contains', 'contains no', 'contaminated', 'content', 'contents', 'continue', 'continue buy', 'continue buying', 'continue order', 'continue purchase', 'continue use', 'continued', 'continues', 'continuing', 'contrast', 'contribute', 'control', 'controlled', 'convenience', 'convenient', 'convenient not', 'convenient way', 'conveniently', 'conventional', 'conversation', 'convert', 'convince', 'convinced', 'cook', 'cookbook', 'cooked', 'cooker', 'cookie', 'cookie bars', 'cookie mix', 'cookie not', 'cookies', 'cookies arrived', 'cookies delicious', 'cookies ever', 'cookies good', 'cookies great', 'cookies not', 'cookies one', 'cookies taste', 'cooking', 'cooking time', 'cooks', 'cool', 'cooler', 'copper', 'corgi', 'corn', 'corn syrup', 'corn wheat', 'cornbread', 'corner', 'corners', 'cornstarch', 'corporate', 'correct', 'correctly', 'cost', 'cost effective', 'cost less', 'cost much', 'cost not', 'cost per', 'costa', 'costa rica', 'costco', 'costly', 'costs', 'costs less', 'cottage', 'cough', 'could', 'could ask', 'could barely', 'could better', 'could buy', 'could come', 'could drink', 'could easily', 'could eat', 'could even', 'could find', 'could get', 'could give', 'could hardly', 'could make', 'could never', 'could not', 'could order', 'could possibly', 'could purchase', 'could say', 'could see', 'could smell', 'could still', 'could taste', 'could tell', 'could use', 'couldnt', 'count', 'counter', 'counter space', 'counting', 'countless', 'countries', 'country', 'counts', 'couple', 'couple cups', 'couple days', 'couple minutes', 'couple months', 'couple times', 'couple weeks', 'couple years', 'coupon', 'coupons', 'course', 'course not', 'cousin', 'cover', 'covered', 'covering', 'covers', 'cow', 'cow milk', 'cows', 'crab', 'crack', 'cracked', 'cracker', 'cracker not', 'crackers', 'crackers great', 'crackers not', 'crackers taste', 'craft', 'cramps', 'cranberries', 'cranberry', 'crap', 'crappy', 'crash', 'crate', 'crave', 'craving', 'cravings', 'crazy', 'cream', 'cream cheese', 'cream onion', 'cream sugar', 'creamer', 'creamers', 'creamier', 'creaminess', 'creamy', 'creamy texture', 'create', 'created', 'creates', 'creating', 'creative', 'credit', 'crema', 'creme', 'creme brulee', 'crisp', 'crisp light', 'crispness', 'crisps', 'crispy', 'criteria', 'crocker', 'cross', 'crowd', 'crude', 'crude fat', 'crude protein', 'crumble', 'crumbled', 'crumbles', 'crumbly', 'crumbs', 'crunch', 'crunchiness', 'crunching', 'crunchy', 'crunchy not', 'crunchy salty', 'crunchy tasty', 'crunchy texture', 'crush', 'crushed', 'crust', 'crying', 'crystal', 'crystal light', 'crystals', 'cube', 'cubed', 'cubes', 'cucumber', 'cuisinart', 'cuisine', 'cup', 'cup brewer', 'cup cocoa', 'cup coffee', 'cup cup', 'cup day', 'cup every', 'cup hot', 'cup joe', 'cup keurig', 'cup machine', 'cup milk', 'cup morning', 'cup no', 'cup not', 'cup one', 'cup setting', 'cup size', 'cup sizes', 'cup tea', 'cup time', 'cup tried', 'cup two', 'cup use', 'cup water', 'cup would', 'cupboard', 'cupcakes', 'cuppa', 'cups', 'cups coffee', 'cups day', 'cups great', 'cups keurig', 'cups make', 'cups not', 'cups one', 'cups tea', 'cups time', 'cups tried', 'cups water', 'cups work', 'cups would', 'curb', 'cure', 'curiosity', 'curious', 'curl', 'curls', 'current', 'currently', 'curry', 'custard', 'custom', 'customer', 'customer service', 'customers', 'cut', 'cut back', 'cut oats', 'cute', 'cute little', 'cuts', 'cutting', 'cuz', 'cycle', 'dab', 'dachshund', 'dachshunds', 'dad', 'daily', 'daily allowance', 'daily basis', 'dairy', 'dairy free', 'damage', 'damaged', 'damn', 'damp', 'dance', 'dane', 'dangerous', 'dare', 'darjeeling', 'dark', 'dark amber', 'dark brown', 'dark chocolate', 'dark coffee', 'dark magic', 'dark not', 'dark rich', 'dark roast', 'dark roasts', 'darker', 'darker roast', 'darn', 'darn good', 'dash', 'date', 'date not', 'dated', 'dates', 'daughter', 'daughter loved', 'daughter loves', 'daughter not', 'daughters', 'dave', 'davidson', 'day', 'day also', 'day day', 'day like', 'day long', 'day love', 'day make', 'day night', 'day no', 'day not', 'day one', 'day really', 'day shipping', 'day started', 'day two', 'day use', 'day without', 'day would', 'days', 'days ago', 'days later', 'days not', 'de', 'dead', 'deal', 'deal amazon', 'deal great', 'deal not', 'dealing', 'deals', 'death', 'deaths', 'decadent', 'decades', 'decaf', 'decaf coffee', 'decaf tea', 'decaf version', 'decaffeinated', 'decafs', 'december', 'decent', 'decent amount', 'decent price', 'deceptive', 'decide', 'decided', 'decided buy', 'decided give', 'decided go', 'decided not', 'decided order', 'decided purchase', 'decided take', 'decided try', 'decided would', 'deciding', 'decision', 'decorate', 'decoration', 'decreased', 'deep', 'deeper', 'def', 'defective', 'definately', 'definetly', 'definite', 'definitely', 'definitely best', 'definitely buy', 'definitely buying', 'definitely give', 'definitely good', 'definitely great', 'definitely not', 'definitely one', 'definitely order', 'definitely ordering', 'definitely purchase', 'definitely recommend', 'definitely taste', 'definitely try', 'definitely worth', 'definitely would', 'degree', 'degrees', 'dehydrated', 'delectable', 'deli', 'delicate', 'delicious', 'delicious also', 'delicious coffee', 'delicious easy', 'delicious even', 'delicious flavor', 'delicious healthy', 'delicious hot', 'delicious like', 'delicious little', 'delicious love', 'delicious not', 'delicious taste', 'delicious tea', 'delicious treat', 'deliciously', 'delight', 'delighted', 'delighted find', 'delightful', 'delights', 'delish', 'deliver', 'delivered', 'delivered door', 'delivered quickly', 'delivered right', 'delivers', 'delivery', 'delivery great', 'delivery quick', 'demand', 'dense', 'dent', 'dental', 'dental chews', 'dental health', 'dented', 'dented cans', 'dents', 'department', 'depending', 'depends', 'deprived', 'depth', 'depth flavor', 'describe', 'described', 'description', 'description not', 'description says', 'desert', 'deserve', 'deserves', 'design', 'designed', 'desire', 'desired', 'desk', 'despite', 'dessert', 'desserts', 'destroy', 'destroyed', 'detail', 'details', 'detect', 'determine', 'determined', 'detox', 'develop', 'developed', 'device', 'devour', 'devoured', 'devours', 'dha', 'diabetes', 'diabetic', 'diabetics', 'diagnosed', 'diagnosed celiac', 'diameter', 'diamond', 'diamond almonds', 'diaper', 'diaper bag', 'diarrhea', 'diced', 'dick', 'didnt', 'die', 'die hard', 'died', 'diego', 'diet', 'diet coke', 'diet food', 'diet not', 'diet one', 'diet soda', 'dietary', 'dieting', 'diets', 'difference', 'difference regular', 'difference taste', 'differences', 'different', 'different brand', 'different brands', 'different cup', 'different cups', 'different flavor', 'different flavors', 'different food', 'different foods', 'different kinds', 'different taste', 'different tastes', 'different types', 'different varieties', 'differently', 'difficult', 'difficult find', 'difficult get', 'difficult open', 'difficult time', 'difficulty', 'digest', 'digested', 'digestible', 'digesting', 'digestion', 'digestion problems', 'digestive', 'digestive issues', 'digestive problems', 'digestive system', 'digestives', 'dijon', 'dill', 'dilute', 'diluted', 'diner', 'dining', 'dinner', 'dinners', 'dip', 'dipped', 'dipping', 'dips', 'direct', 'directed', 'directions', 'directly', 'dirt', 'dirty', 'disagree', 'disapointed', 'disappear', 'disappeared', 'disappoint', 'disappointed', 'disappointed not', 'disappointed product', 'disappointing', 'disappointment', 'disaster', 'disclaimer', 'disclosure', 'discomfort', 'discontinued', 'discount', 'discounted', 'discover', 'discovered', 'discs', 'disease', 'disgusted', 'disgusting', 'dish', 'dishes', 'dishwasher', 'dislike', 'dismay', 'dispenser', 'disposable', 'disposable cups', 'disposakups', 'dissapointed', 'dissatisfied', 'dissolve', 'dissolved', 'dissolves', 'dissolving', 'distance', 'distilled', 'distinct', 'distinctive', 'distinctly', 'distributed', 'distribution', 'distributor', 'divided', 'divine', 'doctor', 'doctors', 'doesnt', 'dog', 'dog absolutely', 'dog also', 'dog biscuit', 'dog biscuits', 'dog breath', 'dog cat', 'dog chews', 'dog could', 'dog dog', 'dog eat', 'dog eating', 'dog eats', 'dog food', 'dog foods', 'dog gets', 'dog good', 'dog happy', 'dog likes', 'dog love', 'dog loved', 'dog loves', 'dog never', 'dog not', 'dog one', 'dog owner', 'dog owners', 'dog picky', 'dog really', 'dog seems', 'dog teeth', 'dog trainer', 'dog treat', 'dog treats', 'dog would', 'dog years', 'doggie', 'doggies', 'doggy', 'dogs', 'dogs absolutely', 'dogs also', 'dogs cats', 'dogs dog', 'dogs dogs', 'dogs eat', 'dogs favorite', 'dogs food', 'dogs get', 'dogs getting', 'dogs go', 'dogs like', 'dogs love', 'dogs loved', 'dogs need', 'dogs not', 'dogs one', 'dogs really', 'dogs seem', 'dogs teeth', 'dogs two', 'dogs would', 'dogswell', 'dogswell happy', 'dolce', 'dolce gusto', 'dollar', 'dollars', 'donate', 'donated', 'done', 'dont', 'dont know', 'dont like', 'donut', 'donut shop', 'donuts', 'donuts coffee', 'door', 'doorstep', 'dose', 'double', 'doubled', 'doubt', 'doubt best', 'dough', 'downside', 'dozen', 'dozens', 'dr', 'dr lucy', 'dr mcdougall', 'dr oz', 'drain', 'dramatic', 'drank', 'draw', 'draw back', 'drawback', 'drawer', 'dream', 'dressing', 'dressings', 'dried', 'dried fruit', 'dried liver', 'drier', 'drink', 'drink anything', 'drink black', 'drink coffee', 'drink cup', 'drink cups', 'drink day', 'drink decaf', 'drink diet', 'drink every', 'drink good', 'drink hot', 'drink iced', 'drink like', 'drink lot', 'drink much', 'drink nice', 'drink no', 'drink not', 'drink one', 'drink really', 'drink regular', 'drink soda', 'drink tastes', 'drink tea', 'drink think', 'drink time', 'drink tried', 'drink water', 'drink without', 'drink would', 'drinkable', 'drinker', 'drinker not', 'drinkers', 'drinking', 'drinking coffee', 'drinking one', 'drinking tea', 'drinks', 'drinks like', 'drinks not', 'drip', 'drip coffee', 'drive', 'driver', 'driving', 'drizzle', 'drizzled', 'drop', 'dropped', 'drops', 'drug', 'drugs', 'drunk', 'dry', 'dry dog', 'dry food', 'dry hard', 'dry kibble', 'dry not', 'dry roasted', 'duck', 'due', 'due fact', 'due high', 'dull', 'dump', 'dumped', 'dumplings', 'duncan', 'dunkin', 'dunkin donuts', 'durability', 'durable', 'dust', 'dusty', 'duty', 'dying', 'eager', 'eagerly', 'ear', 'ear infections', 'earl', 'earl grey', 'earlier', 'early', 'early morning', 'ears', 'earth', 'earth best', 'earthy', 'ease', 'ease use', 'easier', 'easier use', 'easiest', 'easily', 'easily broken', 'easily not', 'east', 'east coast', 'easter', 'easy', 'easy bold', 'easy break', 'easy carry', 'easy chew', 'easy clean', 'easy eat', 'easy fast', 'easy find', 'easy fix', 'easy get', 'easy make', 'easy mix', 'easy not', 'easy open', 'easy order', 'easy prepare', 'easy stomach', 'easy store', 'easy take', 'easy use', 'easy way', 'easy work', 'eat', 'eat anything', 'eat day', 'eat dry', 'eat either', 'eat entire', 'eat even', 'eat every', 'eat first', 'eat food', 'eat gluten', 'eat half', 'eat healthy', 'eat like', 'eat little', 'eat lot', 'eat many', 'eat much', 'eat no', 'eat not', 'eat one', 'eat peanut', 'eat plain', 'eat regular', 'eat right', 'eat something', 'eat time', 'eat treats', 'eat tried', 'eat whole', 'eat without', 'eat would', 'eaten', 'eater', 'eaters', 'eating', 'eating food', 'eating habits', 'eating healthy', 'eating much', 'eating not', 'eating one', 'eating something', 'eating whole', 'eats', 'eco', 'economical', 'economy', 'ecstatic', 'eden', 'edge', 'edges', 'edible', 'edit', 'edition', 'effect', 'effective', 'effectively', 'effects', 'efficient', 'effort', 'egg', 'egg protein', 'egg whites', 'eggnog', 'eggs', 'eight', 'either', 'either not', 'either way', 'el', 'elderly', 'electric', 'electrolytes', 'elegant', 'eligible', 'eliminate', 'else', 'else not', 'else say', 'elsewhere', 'em', 'email', 'emailed', 'embarrassed', 'emerald', 'emergency', 'emeril', 'emeril big', 'emerils', 'empty', 'encountered', 'encourage', 'end', 'end day', 'ended', 'ended throwing', 'endless', 'ends', 'energetic', 'energy', 'energy boost', 'energy drink', 'energy drinks', 'energy shots', 'england', 'english', 'english breakfast', 'english bulldog', 'enhance', 'enhances', 'enjoy', 'enjoy coffee', 'enjoy cup', 'enjoy eating', 'enjoy every', 'enjoy flavor', 'enjoy food', 'enjoy good', 'enjoy great', 'enjoy much', 'enjoy not', 'enjoy one', 'enjoy product', 'enjoy taste', 'enjoyable', 'enjoyed', 'enjoyed coffee', 'enjoyed much', 'enjoying', 'enjoyment', 'enjoys', 'enough', 'enough eat', 'enough flavor', 'enough get', 'enough give', 'enough good', 'enough last', 'enough make', 'enough not', 'enough said', 'enough satisfy', 'enough water', 'enriched', 'ensure', 'enter', 'entertaining', 'enthusiasm', 'enthusiastic', 'entire', 'entire bag', 'entire box', 'entire family', 'entire life', 'entirely', 'entree', 'envelope', 'environment', 'enzymes', 'equal', 'equally', 'equals', 'equipment', 'equivalent', 'erin', 'erin baker', 'error', 'erythritol', 'escapes', 'esp', 'especially', 'especially good', 'especially like', 'especially since', 'especially subscribe', 'espresso', 'espresso machine', 'espresso maker', 'essence', 'essential', 'essentially', 'estimated', 'etc', 'etc not', 'ethnic', 'eukanuba', 'europe', 'european', 'evaporated', 'evaporated cane', 'eve', 'even', 'even better', 'even cheaper', 'even close', 'even dog', 'even eat', 'even finish', 'even get', 'even give', 'even got', 'even husband', 'even know', 'even less', 'even like', 'even little', 'even look', 'even made', 'even make', 'even need', 'even not', 'even notice', 'even one', 'even picky', 'even put', 'even taste', 'even tell', 'even think', 'even though', 'even tried', 'even try', 'even use', 'even used', 'even using', 'even want', 'even without', 'even worse', 'evening', 'evenly', 'event', 'events', 'eventually', 'ever', 'ever bought', 'ever buy', 'ever eaten', 'ever found', 'ever get', 'ever made', 'ever not', 'ever purchased', 'ever seen', 'ever since', 'ever tasted', 'ever tried', 'ever used', 'every', 'every bag', 'every bit', 'every brand', 'every cup', 'every day', 'every days', 'every dog', 'every evening', 'every flavor', 'every last', 'every meal', 'every month', 'every months', 'every morning', 'every night', 'every one', 'every penny', 'every single', 'every three', 'every time', 'every two', 'every way', 'every year', 'everybody', 'everyday', 'everyday coffee', 'everyone', 'everyone else', 'everyone family', 'everyone know', 'everyone loved', 'everyone loves', 'everyone try', 'everything', 'everything else', 'everytime', 'everywhere', 'evidence', 'evo', 'exact', 'exactly', 'exactly advertised', 'exactly described', 'exactly like', 'exactly looking', 'exactly wanted', 'example', 'exceeded', 'excellent', 'excellent choice', 'excellent coffee', 'excellent condition', 'excellent flavor', 'excellent price', 'excellent product', 'excellent quality', 'excellent service', 'excellent taste', 'excellent tea', 'excellent value', 'except', 'except one', 'exception', 'exceptional', 'exceptionally', 'excess', 'excessive', 'excessively', 'exchange', 'excited', 'excited find', 'excited get', 'excited see', 'excited try', 'excitement', 'exciting', 'exclusively', 'excuse', 'exercise', 'exist', 'exists', 'exotic', 'expand', 'expanding', 'expect', 'expectations', 'expected', 'expecting', 'expecting much', 'expecting something', 'expense', 'expensive', 'expensive amazon', 'expensive brands', 'expensive buy', 'expensive not', 'expensive worth', 'experience', 'experience not', 'experienced', 'experiences', 'experiencing', 'experiment', 'experimented', 'experimenting', 'expert', 'expiration', 'expiration date', 'expire', 'expired', 'explain', 'explode', 'exposed', 'exposure', 'express', 'expresso', 'exquisite', 'extended', 'extensive', 'extra', 'extra bold', 'extra money', 'extra sugar', 'extra virgin', 'extract', 'extracts', 'extras', 'extreme', 'extremely', 'extremely disappointed', 'extremely well', 'eye', 'eyes', 'fabulous', 'face', 'facility', 'fact', 'fact no', 'fact not', 'factor', 'factory', 'facts', 'fail', 'failed', 'failure', 'faint', 'fair', 'fair amount', 'fair price', 'fair trade', 'fairly', 'fairly good', 'fairly large', 'fake', 'fall', 'fall apart', 'falling', 'falls', 'false', 'familiar', 'families', 'family', 'family favorite', 'family friends', 'family likes', 'family love', 'family loved', 'family loves', 'family member', 'family members', 'family not', 'family really', 'famous', 'fan', 'fan not', 'fanatic', 'fancy', 'fancy feast', 'fans', 'fantastic', 'fantastic flavor', 'fantastic not', 'fantastic product', 'far', 'far away', 'far best', 'far better', 'far concerned', 'far far', 'far favorite', 'far good', 'far know', 'far less', 'far not', 'far one', 'far superior', 'far taste', 'far tried', 'fare', 'farm', 'farmers', 'farms', 'fashion', 'fashioned', 'fast', 'fast delivery', 'fast easy', 'fast great', 'fast not', 'fast shipping', 'faster', 'fat', 'fat calories', 'fat content', 'fat fat', 'fat free', 'fat grams', 'fat low', 'fat no', 'fat not', 'fat peanut', 'fat per', 'fat sodium', 'fat sugar', 'father', 'fats', 'fattening', 'fatty', 'fatty acids', 'fault', 'fav', 'fave', 'favor', 'favorable', 'favorite', 'favorite blend', 'favorite brand', 'favorite candy', 'favorite coffee', 'favorite coffees', 'favorite cup', 'favorite cups', 'favorite far', 'favorite flavor', 'favorite flavors', 'favorite food', 'favorite foods', 'favorite great', 'favorite mine', 'favorite not', 'favorite one', 'favorite snack', 'favorite tea', 'favorite things', 'favorite treat', 'favorite treats', 'favorites', 'favors', 'favourite', 'fda', 'fear', 'feast', 'feature', 'features', 'february', 'fed', 'fedex', 'feed', 'feed dog', 'feed dogs', 'feedback', 'feeding', 'feeding dog', 'feeding dogs', 'feeds', 'feel', 'feel bad', 'feel better', 'feel free', 'feel full', 'feel good', 'feel great', 'feel guilty', 'feel like', 'feel much', 'feeling', 'feelings', 'feels', 'feels like', 'feet', 'felidae', 'feline', 'fell', 'fell love', 'fellow', 'felt', 'felt like', 'female', 'fence', 'fennel', 'fewer', 'fewer calories', 'fiber', 'fiber content', 'fiber one', 'fiber protein', 'field', 'fig', 'fight', 'figure', 'figured', 'figured would', 'filet', 'fill', 'filled', 'filler', 'fillers', 'filling', 'filling not', 'fills', 'film', 'filter', 'filtered', 'filtered sparkling', 'filtered water', 'filters', 'fin', 'final', 'finally', 'finally decided', 'finally found', 'finally got', 'find', 'find amazon', 'find another', 'find anything', 'find anywhere', 'find area', 'find best', 'find better', 'find cheaper', 'find favorite', 'find flavor', 'find food', 'find good', 'find great', 'find grocery', 'find local', 'find locally', 'find many', 'find much', 'find no', 'find not', 'find one', 'find online', 'find organic', 'find product', 'find something', 'find store', 'find stores', 'find sweet', 'find taste', 'find us', 'find way', 'finding', 'finds', 'fine', 'fine grind', 'fine not', 'finely', 'finely ground', 'finer', 'finest', 'finger', 'fingers', 'finicky', 'finicky eater', 'finish', 'finish one', 'finished', 'finishes', 'finishing', 'finishing salt', 'fire', 'firm', 'firmer', 'first', 'first bag', 'first batch', 'first bite', 'first bought', 'first box', 'first came', 'first choice', 'first couple', 'first cup', 'first day', 'first dog', 'first experience', 'first found', 'first got', 'first impression', 'first ingredient', 'first not', 'first one', 'first opened', 'first order', 'first place', 'first purchased', 'first review', 'first sip', 'first taste', 'first tasted', 'first thing', 'first thought', 'first time', 'first tried', 'first try', 'first two', 'fish', 'fish chicken', 'fish not', 'fish oil', 'fishy', 'fishy smell', 'fit', 'fit bill', 'fits', 'fits bill', 'five', 'five minutes', 'five star', 'five stars', 'five years', 'fix', 'fixed', 'fizz', 'fizzy', 'fl', 'flakes', 'flaky', 'flat', 'flavor', 'flavor actually', 'flavor added', 'flavor almost', 'flavor also', 'flavor amazing', 'flavor aroma', 'flavor best', 'flavor better', 'flavor bit', 'flavor buy', 'flavor came', 'flavor chocolate', 'flavor coffee', 'flavor comes', 'flavor consistency', 'flavor could', 'flavor delicious', 'flavor even', 'flavor ever', 'flavor excellent', 'flavor fantastic', 'flavor far', 'flavor favorite', 'flavor find', 'flavor first', 'flavor flavor', 'flavor found', 'flavor get', 'flavor good', 'flavor great', 'flavor highly', 'flavor hint', 'flavor however', 'flavor light', 'flavor like', 'flavor little', 'flavor love', 'flavor make', 'flavor makes', 'flavor mild', 'flavor much', 'flavor nice', 'flavor no', 'flavor not', 'flavor one', 'flavor perfect', 'flavor pretty', 'flavor price', 'flavor product', 'flavor really', 'flavor rich', 'flavor right', 'flavor seems', 'flavor smooth', 'flavor still', 'flavor strong', 'flavor sweet', 'flavor taste', 'flavor tastes', 'flavor tea', 'flavor texture', 'flavor think', 'flavor tried', 'flavor use', 'flavor used', 'flavor want', 'flavor well', 'flavor without', 'flavor wonderful', 'flavor would', 'flavor yet', 'flavored', 'flavored chips', 'flavored coffee', 'flavored coffees', 'flavored drink', 'flavored ones', 'flavorful', 'flavorful not', 'flavoring', 'flavorings', 'flavorless', 'flavors', 'flavors colors', 'flavors favorite', 'flavors good', 'flavors great', 'flavors like', 'flavors not', 'flavors one', 'flavors really', 'flavors switch', 'flavors tried', 'flavors well', 'flavors would', 'flavour', 'flavours', 'flaw', 'flax', 'flax seed', 'flax seeds', 'flaxseed', 'flaxseeds', 'flexible', 'flies', 'flight', 'flimsy', 'flip', 'floating', 'floor', 'floral', 'florida', 'flour', 'flour not', 'flours', 'flow', 'flower', 'flowers', 'flowery', 'fluffy', 'fluid', 'fly', 'foam', 'foil', 'folger', 'folgers', 'folks', 'follow', 'follow directions', 'follow instructions', 'followed', 'followed directions', 'followed instructions', 'following', 'following day', 'follows', 'fond', 'fondant', 'fondarific', 'food', 'food allergies', 'food also', 'food always', 'food amazon', 'food ate', 'food baby', 'food bowl', 'food buy', 'food cat', 'food cats', 'food could', 'food dog', 'food dogs', 'food eat', 'food even', 'food ever', 'food feed', 'food feeding', 'food find', 'food first', 'food food', 'food found', 'food good', 'food great', 'food highly', 'food however', 'food ingredients', 'food item', 'food items', 'food like', 'food little', 'food looks', 'food love', 'food made', 'food make', 'food much', 'food never', 'food no', 'food not', 'food one', 'food processor', 'food product', 'food products', 'food put', 'food really', 'food seems', 'food since', 'food store', 'food stores', 'food tastes', 'food time', 'food treats', 'food tried', 'food two', 'food used', 'food usually', 'food well', 'food without', 'food would', 'food years', 'foodie', 'foods', 'foods also', 'foods like', 'foods made', 'foods market', 'foods not', 'foods try', 'foods would', 'fool', 'fooled', 'force', 'forced', 'foreign', 'forever', 'forget', 'forgot', 'fork', 'form', 'former', 'forms', 'formula', 'formula not', 'formulas', 'formulation', 'forth', 'fortified', 'fortunate', 'fortunately', 'fortune', 'forty', 'forum', 'forward', 'forward trying', 'foul', 'found', 'found amazon', 'found anywhere', 'found best', 'found far', 'found flavor', 'found food', 'found good', 'found great', 'found grocery', 'found little', 'found local', 'found many', 'found much', 'found new', 'found not', 'found one', 'found perfect', 'found product', 'found really', 'found taste', 'found tasty', 'found tea', 'four', 'four flavors', 'four stars', 'four years', 'fourth', 'fraction', 'fragile', 'fragrance', 'fragrant', 'france', 'frankly', 'freak', 'free', 'free baking', 'free bisquick', 'free brownies', 'free chocolate', 'free cookies', 'free crackers', 'free dairy', 'free diet', 'free food', 'free foods', 'free gluten', 'free no', 'free non', 'free not', 'free pantry', 'free product', 'free products', 'free shipping', 'free snack', 'free version', 'free years', 'freeze', 'freeze dried', 'freezer', 'freezer tray', 'freezing', 'french', 'french fries', 'french press', 'french roast', 'french toast', 'french vanilla', 'frequency', 'frequent', 'frequently', 'fresh', 'fresh blueberries', 'fresh brewed', 'fresh fruit', 'fresh great', 'fresh ground', 'fresh not', 'fresh pork', 'fresh taste', 'fresh tasting', 'fresh tasty', 'freshen', 'fresher', 'freshly', 'freshly ground', 'freshness', 'friday', 'fridge', 'fried', 'friend', 'friend mine', 'friendly', 'friends', 'friends family', 'friends like', 'friends love', 'friends not', 'fries', 'friskies', 'frogs', 'front', 'front door', 'frontier', 'frosting', 'frozen', 'fructose', 'fructose corn', 'fruit', 'fruit drink', 'fruit drinks', 'fruit flavor', 'fruit flavored', 'fruit juice', 'fruit juices', 'fruit not', 'fruit punch', 'fruit snacks', 'fruits', 'fruits vegetables', 'fruity', 'fruity taste', 'frustrated', 'fry', 'frying', 'fudge', 'fudgy', 'fuel', 'fulfilled', 'full', 'full bodied', 'full cup', 'full fat', 'full flavor', 'full flavored', 'full refund', 'full size', 'full sized', 'full taste', 'full time', 'fuller', 'fully', 'fun', 'function', 'funky', 'funny', 'funny taste', 'fur', 'furry', 'fuss', 'fussy', 'future', 'fyi', 'gag', 'gagged', 'gagging', 'gain', 'gain weight', 'gained', 'gaining', 'gallon', 'game', 'garage', 'garbage', 'garden', 'garlic', 'garlic flavor', 'garlic powder', 'gary', 'gary peterson', 'gas', 'gas station', 'gastric', 'gatorade', 'gave', 'gave dog', 'gave four', 'gave one', 'gave product', 'gave stars', 'gave try', 'gave two', 'gave us', 'gel', 'gelatin', 'gels', 'general', 'generally', 'generally not', 'generic', 'generous', 'generously', 'genetically', 'gentle', 'gently', 'genuine', 'gerber', 'german', 'german shepherd', 'germany', 'get', 'get amazon', 'get another', 'get back', 'get bag', 'get best', 'get better', 'get big', 'get box', 'get case', 'get cheaper', 'get coffee', 'get cup', 'get cups', 'get day', 'get dog', 'get eat', 'get enough', 'get every', 'get excited', 'get flavor', 'get food', 'get free', 'get fresh', 'get full', 'get good', 'get great', 'get grocery', 'get home', 'get little', 'get local', 'get lot', 'get many', 'get much', 'get nice', 'get not', 'get older', 'get one', 'get package', 'get past', 'get pay', 'get product', 'get real', 'get really', 'get rid', 'get right', 'get sick', 'get small', 'get something', 'get store', 'get stuck', 'get stuff', 'get taste', 'get three', 'get tired', 'get treat', 'get treats', 'get two', 'get used', 'get variety', 'get whole', 'get wrong', 'gets', 'gets excited', 'gets one', 'getting', 'getting one', 'getting ready', 'getting sick', 'getting used', 'gevalia', 'gf', 'gf products', 'ghee', 'ghiradelli', 'ghirardelli', 'ghost', 'gi', 'giant', 'gift', 'gift basket', 'gift card', 'gift someone', 'gifts', 'ginger', 'ginger ale', 'gingerbread', 'girl', 'girlfriend', 'girls', 'give', 'give away', 'give dog', 'give dogs', 'give five', 'give four', 'give good', 'give little', 'give one', 'give product', 'give shot', 'give something', 'give star', 'give stars', 'give taste', 'give treat', 'give treats', 'give try', 'given', 'given stars', 'gives', 'gives great', 'giving', 'giving away', 'giving dog', 'giving dogs', 'giving treats', 'giving try', 'glad', 'glad able', 'glad amazon', 'glad bought', 'glad find', 'glad found', 'glad get', 'glad not', 'glad see', 'glad tried', 'glass', 'glass water', 'glasses', 'glaze', 'glory', 'glossy', 'glowing', 'glucosamine', 'glucosamine chondroitin', 'glucose', 'glue', 'gluten', 'gluten dairy', 'gluten free', 'gluten intolerance', 'gluten intolerant', 'gluten wheat', 'glutino', 'glycemic', 'glycemic index', 'gm', 'gmo', 'gnats', 'go', 'go ahead', 'go away', 'go back', 'go bad', 'go bed', 'go buy', 'go coffee', 'go crazy', 'go figure', 'go great', 'go local', 'go long', 'go near', 'go not', 'go nuts', 'go one', 'go really', 'go snack', 'go way', 'go well', 'go wrong', 'goal', 'goat', 'goat milk', 'goats', 'goats milk', 'gobble', 'gobbled', 'gobbles', 'god', 'godiva', 'godsend', 'goes', 'goes crazy', 'goes great', 'goes long', 'goes nuts', 'goes well', 'going', 'going back', 'going buy', 'going get', 'going give', 'going order', 'going try', 'going use', 'gold', 'golden', 'golden retriever', 'gone', 'gonna', 'goo', 'good', 'good actually', 'good also', 'good alternative', 'good although', 'good amount', 'good bad', 'good bargain', 'good better', 'good bit', 'good body', 'good bought', 'good brand', 'good buy', 'good chocolate', 'good choice', 'good coffee', 'good combination', 'good condition', 'good could', 'good cup', 'good dark', 'good deal', 'good definitely', 'good dog', 'good dogs', 'good drink', 'good easy', 'good eating', 'good enough', 'good especially', 'good even', 'good experience', 'good feeding', 'good first', 'good flavor', 'good food', 'good fresh', 'good get', 'good giving', 'good gluten', 'good go', 'good good', 'good got', 'good great', 'good hard', 'good health', 'good healthy', 'good highly', 'good hot', 'good however', 'good idea', 'good ingredients', 'good job', 'good light', 'good like', 'good little', 'good looking', 'good love', 'good luck', 'good made', 'good make', 'good medium', 'good mix', 'good news', 'good nice', 'good no', 'good not', 'good nutrition', 'good old', 'good ole', 'good one', 'good option', 'good peanut', 'good people', 'good price', 'good product', 'good purchase', 'good quality', 'good really', 'good regular', 'good results', 'good reviews', 'good right', 'good shape', 'good size', 'good sized', 'good snack', 'good source', 'good strong', 'good stuff', 'good substitute', 'good sweet', 'good taste', 'good tasted', 'good tastes', 'good tasting', 'good tea', 'good teeth', 'good texture', 'good thing', 'good things', 'good think', 'good though', 'good time', 'good tried', 'good true', 'good us', 'good use', 'good used', 'good value', 'good way', 'good well', 'good without', 'good work', 'good would', 'goodies', 'goodness', 'goodness amazon', 'goods', 'gooey', 'google', 'googled', 'gorgeous', 'gosh', 'got', 'got back', 'got bad', 'got bag', 'got first', 'got free', 'got gift', 'got good', 'got great', 'got home', 'got hooked', 'got keurig', 'got one', 'got package', 'got product', 'got really', 'got sick', 'got try', 'gotta', 'gotten', 'gourmet', 'gourmet coffee', 'grab', 'grabbed', 'grabbing', 'grade', 'grades', 'gradually', 'graham', 'graham cracker', 'graham crackers', 'grain', 'grain free', 'grains', 'grainy', 'grainy texture', 'gram', 'grams', 'grams carbs', 'grams fat', 'grams fiber', 'grams protein', 'grams sugar', 'grand', 'grandchildren', 'granddaughter', 'grandkids', 'grandma', 'grandmother', 'grandpa', 'grandpa po', 'grandson', 'granola', 'granola bar', 'granola bars', 'granted', 'granulated', 'granules', 'grape', 'grape juice', 'grape kiwi', 'grape tangerine', 'grapefruit', 'grapes', 'grass', 'grass fed', 'grated', 'grateful', 'gravy', 'grease', 'greasy', 'great', 'great add', 'great addition', 'great also', 'great alternative', 'great aroma', 'great baking', 'great bargain', 'great blend', 'great breakfast', 'great buy', 'great chips', 'great choice', 'great coffee', 'great combination', 'great company', 'great condition', 'great crunch', 'great cup', 'great deal', 'great dog', 'great drink', 'great easy', 'great especially', 'great even', 'great find', 'great first', 'great flavor', 'great food', 'great get', 'great gift', 'great go', 'great good', 'great great', 'great healthy', 'great hot', 'great however', 'great idea', 'great ingredients', 'great item', 'great job', 'great like', 'great little', 'great love', 'great low', 'great made', 'great meal', 'great mix', 'great mixed', 'great nice', 'great no', 'great not', 'great one', 'great option', 'great people', 'great price', 'great product', 'great purchase', 'great quality', 'great quick', 'great results', 'great reviews', 'great seller', 'great service', 'great shape', 'great size', 'great snack', 'great start', 'great stuff', 'great substitute', 'great sweet', 'great take', 'great taste', 'great tasting', 'great tea', 'great teeth', 'great texture', 'great thing', 'great time', 'great training', 'great treat', 'great treats', 'great use', 'great value', 'great variety', 'great way', 'great well', 'great without', 'great would', 'greater', 'greatest', 'greatly', 'greek', 'greek yogurt', 'green', 'green beans', 'green color', 'green mountain', 'green tea', 'green teas', 'greenie', 'greenie day', 'greenies', 'greenies great', 'greenies not', 'greenies pill', 'greens', 'grew', 'grew eating', 'grey', 'grey tea', 'greyhound', 'grill', 'grilled', 'grilling', 'grind', 'grind beans', 'grinder', 'grinding', 'grinds', 'gripe', 'gritty', 'gro', 'grocer', 'groceries', 'grocers', 'grocery', 'grocery store', 'grocery stores', 'gross', 'ground', 'ground coffee', 'grounds', 'grounds cup', 'group', 'grove', 'grove square', 'grow', 'growing', 'grown', 'grows', 'growth', 'guarantee', 'guaranteed', 'guess', 'guess good', 'guess not', 'guessed', 'guessing', 'guest', 'guests', 'guidelines', 'guilt', 'guilt free', 'guilty', 'gulp', 'gum', 'gummi', 'gummies', 'gummy', 'gummy bears', 'gums', 'gunpowder', 'gusto', 'gut', 'guy', 'guys', 'gym', 'ha', 'habanero', 'habit', 'habits', 'haha', 'hair', 'hairball', 'half', 'half bag', 'half cup', 'half half', 'half hour', 'half one', 'half pound', 'half price', 'half time', 'half way', 'halfway', 'halloween', 'halo', 'ham', 'hamburger', 'hamburgers', 'hammer', 'hand', 'hand not', 'hand times', 'handful', 'handle', 'handling', 'hands', 'hands best', 'hands favorite', 'handy', 'hang', 'hanging', 'happen', 'happen like', 'happened', 'happened upon', 'happening', 'happens', 'happier', 'happily', 'happy', 'happy able', 'happy amazon', 'happy baby', 'happy find', 'happy found', 'happy healthy', 'happy hips', 'happy not', 'happy product', 'happy purchase', 'happy say', 'happy see', 'happybaby', 'hard', 'hard believe', 'hard break', 'hard candy', 'hard chew', 'hard come', 'hard describe', 'hard eat', 'hard find', 'hard get', 'hard keep', 'hard like', 'hard not', 'hard rock', 'hard stop', 'hard time', 'harder', 'harder find', 'hardest', 'hardly', 'hardly ever', 'hardly wait', 'haribo', 'harmful', 'harmony', 'harmony farms', 'harsh', 'hassle', 'hate', 'hated', 'hates', 'havent', 'hawaii', 'hawaiian', 'hawaiian hazelnut', 'hazelnut', 'hazelnut coffee', 'hazelnut flavor', 'head', 'headache', 'headaches', 'heads', 'healing', 'health', 'health benefits', 'health conscious', 'health food', 'health issues', 'health problems', 'healthful', 'healthier', 'healthier alternative', 'healthier regular', 'healthier snack', 'healthiest', 'healthy', 'healthy alternative', 'healthy diet', 'healthy drink', 'healthy food', 'healthy good', 'healthy great', 'healthy happy', 'healthy ingredients', 'healthy natural', 'healthy not', 'healthy organic', 'healthy snack', 'healthy snacks', 'healthy taste', 'healthy tasty', 'healthy treat', 'healthy treats', 'healthy way', 'healthy weight', 'heaping', 'hear', 'heard', 'hearing', 'heart', 'heartburn', 'hearty', 'heat', 'heat not', 'heat water', 'heated', 'heating', 'heaven', 'heavenly', 'heavier', 'heavily', 'heavy', 'heck', 'hefty', 'height', 'heinz', 'held', 'hell', 'hello', 'help', 'help clean', 'help keep', 'helped', 'helpful', 'helping', 'helps', 'helps keep', 'helps maintain', 'hemp', 'hemp shake', 'hence', 'herb', 'herbal', 'herbal tea', 'herbal teas', 'herbs', 'hershey', 'hesitant', 'hesitant try', 'hesitate', 'hesitation', 'hey', 'hfcs', 'hi', 'hibiscus', 'hidden', 'hide', 'high', 'high blood', 'high calorie', 'high calories', 'high end', 'high expectations', 'high fat', 'high fiber', 'high fructose', 'high heat', 'high hopes', 'high price', 'high protein', 'high quality', 'high sodium', 'high sugar', 'higher', 'higher price', 'higher quality', 'highest', 'highest quality', 'highland', 'highland sugarworks', 'highly', 'highly recomend', 'highly recommend', 'highly recommended', 'hike', 'hiking', 'hill', 'himalayan', 'himalayan salt', 'hint', 'hint sweetness', 'hints', 'hip', 'hip action', 'hips', 'history', 'hit', 'hit miss', 'hit spot', 'hits', 'hits spot', 'hodgson', 'hodgson mill', 'hold', 'holder', 'holding', 'holds', 'hole', 'holes', 'holiday', 'holidays', 'holistic', 'home', 'home made', 'home not', 'home use', 'home work', 'homemade', 'homemade vanilla', 'honest', 'honestly', 'honestly not', 'honestly say', 'honesty', 'honey', 'honey dijon', 'honey roasted', 'hooked', 'hope', 'hope amazon', 'hope enjoy', 'hope helps', 'hope not', 'hoped', 'hoped would', 'hopefully', 'hopes', 'hoping', 'hoping find', 'hoping would', 'hormones', 'horrible', 'horribly', 'horrid', 'horse', 'horses', 'hospital', 'hostess', 'hot', 'hot chocolate', 'hot chocolates', 'hot cocoa', 'hot coffee', 'hot cold', 'hot cup', 'hot day', 'hot dogs', 'hot fresh', 'hot iced', 'hot not', 'hot pepper', 'hot sauce', 'hot sauces', 'hot spicy', 'hot spots', 'hot summer', 'hot tea', 'hot water', 'hotel', 'hotter', 'hottest', 'hound', 'hour', 'hours', 'hours later', 'house', 'house blend', 'house coffee', 'household', 'however', 'however like', 'however no', 'however not', 'however one', 'however taste', 'however think', 'however would', 'hubby', 'huge', 'huge difference', 'huge disappointment', 'huge fan', 'huge hit', 'hulls', 'human', 'human consumption', 'human food', 'human grade', 'humans', 'hummus', 'hundred', 'hundreds', 'hunger', 'hungry', 'hungry girl', 'hungry not', 'hunt', 'hunting', 'hurry', 'hurt', 'husband', 'husband love', 'husband loves', 'husband not', 'husband really', 'husky', 'hydrated', 'hydrogenated', 'hydrogenated oils', 'hype', 'hyper', 'hypertension', 'iams', 'ibs', 'ice', 'ice cold', 'ice cream', 'ice cube', 'ice cubes', 'ice tea', 'iced', 'iced coffee', 'iced tea', 'icicle', 'icing', 'icky', 'idea', 'ideal', 'ideas', 'identical', 'ie', 'ignore', 'ignored', 'ill', 'illness', 'illy', 'im', 'im not', 'image', 'imagination', 'imagine', 'imagined', 'imho', 'immediate', 'immediately', 'immensely', 'immune', 'immune system', 'imo', 'impact', 'imparts', 'important', 'important thing', 'importantly', 'imported', 'impossible', 'impossible find', 'impress', 'impressed', 'impression', 'impressive', 'improve', 'improved', 'improvement', 'improves', 'inch', 'inches', 'inclined', 'include', 'included', 'includes', 'including', 'inconsistent', 'incorrect', 'increase', 'increased', 'increasing', 'increasingly', 'incredible', 'incredibly', 'incredibly good', 'indeed', 'index', 'india', 'indian', 'indicate', 'indicated', 'indicates', 'indication', 'indigestion', 'individual', 'individual bags', 'individual serving', 'individually', 'individually wrapped', 'individuals', 'indoor', 'indulge', 'indulgence', 'industry', 'inedible', 'inexpensive', 'infant', 'infection', 'infections', 'inferior', 'inflated', 'info', 'inform', 'information', 'informed', 'infused', 'infuser', 'ingesting', 'ingredient', 'ingredient list', 'ingredient not', 'ingredients', 'ingredients good', 'ingredients include', 'ingredients like', 'ingredients list', 'ingredients listed', 'ingredients make', 'ingredients natural', 'ingredients no', 'ingredients not', 'ingredients organic', 'ingredients would', 'inhaled', 'initial', 'initially', 'ink', 'inner', 'innova', 'insane', 'insanity', 'insert', 'inside', 'inside box', 'inspection', 'instance', 'instant', 'instant coffee', 'instant oatmeal', 'instantly', 'instead', 'instead regular', 'instructions', 'insulin', 'intact', 'intake', 'intend', 'intended', 'intense', 'interest', 'interested', 'interesting', 'internal', 'international', 'internet', 'intestinal', 'intestines', 'intolerance', 'intolerant', 'intrigued', 'introduce', 'introduced', 'introducing', 'investigate', 'involved', 'irish', 'irish breakfast', 'irish cream', 'iron', 'irresistible', 'island', 'isnt', 'issue', 'issues', 'italian', 'italian roast', 'italy', 'itching', 'itchy', 'item', 'item arrived', 'item not', 'item would', 'items', 'items amazon', 'ive', 'izze', 'jack', 'jack links', 'jack russell', 'jalapeno', 'jam', 'jamaica', 'jamaica crazy', 'jamaican', 'jams', 'january', 'japan', 'japanese', 'jar', 'jar not', 'jarred', 'jars', 'jasmine', 'java', 'jaw', 'jaws', 'jello', 'jelly', 'jelly beans', 'jelly belly', 'jerk', 'jerky', 'jerky treats', 'jersey', 'jet', 'jet fuel', 'jif', 'jittery', 'job', 'joe', 'joes', 'joint', 'joints', 'joke', 'jolt', 'joy', 'jr', 'judge', 'judging', 'jug', 'juice', 'juice carbonated', 'juice carbonation', 'juice concentrate', 'juice concentrates', 'juice drink', 'juice drinks', 'juice like', 'juice no', 'juice not', 'juice taste', 'juice would', 'juices', 'juicy', 'july', 'jumbo', 'jump', 'jumped', 'jumping', 'jumps', 'june', 'junk', 'junk food', 'justify', 'kashi', 'kavli', 'kcup', 'kcups', 'keebler', 'keep', 'keep around', 'keep buying', 'keep coming', 'keep dogs', 'keep eating', 'keep eye', 'keep freezer', 'keep fresh', 'keep fridge', 'keep getting', 'keep good', 'keep hand', 'keep mind', 'keep mine', 'keep pantry', 'keep stock', 'keep teeth', 'keep weight', 'keep well', 'keeper', 'keeping', 'keeping teeth', 'keeps', 'kept', 'kernel', 'kernels', 'ketchup', 'kettle', 'kettle brand', 'kettle chips', 'keurig', 'keurig brewer', 'keurig coffee', 'keurig cup', 'keurig cups', 'keurig machine', 'keurig not', 'key', 'key lime', 'kibble', 'kibbles', 'kick', 'kicked', 'kid', 'kidding', 'kidney', 'kidneys', 'kids', 'kids eat', 'kids like', 'kids liked', 'kids love', 'kids loved', 'kids not', 'kids would', 'kill', 'killed', 'killing', 'kills', 'kind', 'kind coffee', 'kind get', 'kind like', 'kinda', 'kinds', 'king', 'kirkland', 'kit', 'kitchen', 'kits', 'kitten', 'kittens', 'kitties', 'kitty', 'kiwi', 'kiwi acerola', 'kiwi berry', 'kiwi flavor', 'kiwi strawberry', 'knee', 'knees', 'knew', 'knew would', 'knife', 'knob', 'knock', 'knocked', 'know', 'know amazon', 'know better', 'know exactly', 'know expect', 'know get', 'know gluten', 'know going', 'know good', 'know like', 'know love', 'know many', 'know mean', 'know much', 'know not', 'know one', 'know people', 'know product', 'know taste', 'know well', 'know whether', 'know would', 'knowing', 'knowledge', 'known', 'knows', 'kona', 'kona blend', 'kona coffee', 'kong', 'kool', 'kool aid', 'kosher', 'kraft', 'kroger', 'kudos', 'kuerig', 'kups', 'la', 'la tourangelle', 'lab', 'lab mix', 'label', 'label not', 'label says', 'labeled', 'labeling', 'labels', 'labs', 'lack', 'lacked', 'lacking', 'lacks', 'lactose', 'lactose free', 'laden', 'ladies', 'lady', 'lady grey', 'laid', 'lake', 'lamb', 'lamb barley', 'lamb carrots', 'lamb organic', 'lamb rice', 'land', 'lap', 'large', 'large amount', 'large bag', 'large box', 'large breed', 'large cup', 'large dog', 'large dogs', 'large enough', 'large quantity', 'large size', 'largely', 'larger', 'larger bag', 'larger dog', 'larger dogs', 'larger size', 'largest', 'last', 'last bit', 'last box', 'last cup', 'last days', 'last long', 'last longer', 'last month', 'last months', 'last night', 'last one', 'last order', 'last time', 'last two', 'last week', 'last year', 'last years', 'lasted', 'lasting', 'lastly', 'lasts', 'lasts long', 'late', 'late night', 'lately', 'later', 'latest', 'latte', 'latter', 'lattes', 'laugh', 'lavazza', 'lavender', 'law', 'lay', 'layer', 'layers', 'lays', 'lazy', 'lb', 'lb bag', 'lbs', 'lead', 'leading', 'leads', 'leaf', 'leaf tea', 'leak', 'leaked', 'leaking', 'leaks', 'lean', 'learn', 'learned', 'learning', 'least', 'least bit', 'least favorite', 'least half', 'least not', 'least one', 'least two', 'least years', 'leave', 'leaves', 'leaving', 'lecithin', 'led', 'left', 'leftover', 'leftovers', 'leg', 'legal', 'legged', 'legs', 'lemon', 'lemon juice', 'lemon lime', 'lemonade', 'lemons', 'lemons limes', 'length', 'lentil', 'lentils', 'less', 'less calories', 'less coffee', 'less expensive', 'less fat', 'less half', 'less minutes', 'less money', 'less per', 'less sugar', 'less sweet', 'less water', 'lesser', 'lesson', 'let', 'let alone', 'let face', 'let go', 'let know', 'let say', 'let sit', 'let start', 'let tell', 'lethargic', 'lets', 'letting', 'lettuce', 'level', 'levels', 'libby', 'lick', 'licked', 'licking', 'licks', 'licorice', 'lid', 'lid not', 'lids', 'lie', 'lieu', 'life', 'life not', 'life stages', 'lifestyle', 'lifetime', 'lift', 'light', 'light brown', 'light crispy', 'light flavor', 'light fluffy', 'light not', 'light refreshing', 'light roast', 'light taste', 'light weight', 'lighter', 'lightly', 'lightly carbonated', 'lightly salted', 'lightly sweetened', 'lightweight', 'like', 'like add', 'like also', 'like always', 'like amazon', 'like another', 'like anything', 'like apple', 'like artificial', 'like best', 'like better', 'like big', 'like black', 'like bold', 'like brand', 'like brands', 'like brown', 'like buy', 'like candy', 'like canned', 'like carbonated', 'like cardboard', 'like cat', 'like cheap', 'like cheese', 'like chewing', 'like chicken', 'like chips', 'like chocolate', 'like cinnamon', 'like cocoa', 'like coconut', 'like coffee', 'like cookie', 'like cookies', 'like could', 'like crack', 'like crazy', 'like cup', 'like dark', 'like dirt', 'like dog', 'like drink', 'like drinking', 'like earl', 'like eat', 'like eating', 'like either', 'like enjoy', 'like fact', 'like first', 'like fish', 'like flavor', 'like flavored', 'like flavors', 'like food', 'like french', 'like fresh', 'like fruit', 'like full', 'like get', 'like getting', 'like ginger', 'like give', 'like giving', 'like gluten', 'like going', 'like good', 'like got', 'like great', 'like green', 'like hard', 'like healthy', 'like honey', 'like hot', 'like idea', 'like ingredients', 'like kind', 'like kiwi', 'like know', 'like lemon', 'like licorice', 'like like', 'like little', 'like lot', 'like love', 'like made', 'like make', 'like making', 'like many', 'like might', 'like mild', 'like mine', 'like mix', 'like much', 'like natural', 'like new', 'like newman', 'like no', 'like normal', 'like not', 'like oatmeal', 'like old', 'like one', 'like ones', 'like orange', 'like order', 'like organic', 'like original', 'like others', 'like peanut', 'like people', 'like picture', 'like plain', 'like popcorn', 'like pork', 'like potato', 'like price', 'like product', 'like products', 'like put', 'like quality', 'like real', 'like really', 'like regular', 'like reviewer', 'like reviewers', 'like rice', 'like said', 'like salt', 'like see', 'like since', 'like small', 'like smell', 'like soda', 'like soft', 'like someone', 'like something', 'like spicy', 'like starbucks', 'like strawberry', 'like strong', 'like stronger', 'like stuff', 'like sugar', 'like sweet', 'like taste', 'like tea', 'like texture', 'like thick', 'like think', 'like treat', 'like treats', 'like tried', 'like try', 'like use', 'like used', 'like using', 'like vanilla', 'like variety', 'like water', 'like way', 'like well', 'like white', 'like whole', 'like would', 'liked', 'liked fact', 'liked flavor', 'liked much', 'liked not', 'liked one', 'liked taste', 'likely', 'likes', 'likes lot', 'likes much', 'likes not', 'likes taste', 'liking', 'lime', 'lime juice', 'lime pie', 'limes', 'limit', 'limited', 'limits', 'line', 'line not', 'lined', 'lines', 'lingering', 'lining', 'link', 'linked', 'links', 'lips', 'lipton', 'lipton loose', 'lipton tea', 'liquid', 'liquids', 'liquor', 'list', 'list ingredients', 'listed', 'listed amazon', 'listed ingredient', 'listed ingredients', 'listen', 'listening', 'listing', 'lists', 'lite', 'liter', 'literally', 'litter', 'litter box', 'little', 'little better', 'little bit', 'little cans', 'little cheaper', 'little cups', 'little different', 'little disappointed', 'little dog', 'little dry', 'little expensive', 'little extra', 'little fat', 'little flavor', 'little girl', 'little goes', 'little guy', 'little guys', 'little half', 'little hard', 'little hesitant', 'little high', 'little honey', 'little kick', 'little less', 'little like', 'little longer', 'little messy', 'little milk', 'little much', 'little no', 'little one', 'little ones', 'little pieces', 'little pricey', 'little salt', 'little salty', 'little skeptical', 'little smaller', 'little snack', 'little something', 'little stronger', 'little sugar', 'little sweet', 'little taste', 'little time', 'little water', 'little worried', 'live', 'live without', 'lived', 'liver', 'liver treats', 'lives', 'living', 'lo', 'load', 'loaded', 'loaded sugar', 'loads', 'loaf', 'lobster', 'local', 'local coffee', 'local grocer', 'local grocery', 'local health', 'local market', 'local pet', 'local store', 'local stores', 'local supermarket', 'local supermarkets', 'local walmart', 'local whole', 'locally', 'locate', 'location', 'lock', 'lock bag', 'lol', 'lollipops', 'london', 'long', 'long enough', 'long lasting', 'long not', 'long run', 'long story', 'long term', 'long time', 'long way', 'longer', 'longer available', 'longer find', 'longer not', 'look', 'look elsewhere', 'look forward', 'look good', 'look great', 'look ingredients', 'look like', 'look no', 'looked', 'looked around', 'looked ingredients', 'looked like', 'looking', 'looking alternative', 'looking forward', 'looking good', 'looking great', 'looking healthier', 'looking healthy', 'looking like', 'looking not', 'looking something', 'lookout', 'looks', 'looks forward', 'looks good', 'looks great', 'looks like', 'looks smells', 'loose', 'loose leaf', 'loose stools', 'loose tea', 'loose teas', 'lose', 'lose weight', 'loses', 'losing', 'loss', 'lost', 'lost lbs', 'lost pounds', 'lost weight', 'lot', 'lot better', 'lot calories', 'lot cheaper', 'lot coffee', 'lot different', 'lot flavor', 'lot food', 'lot less', 'lot like', 'lot longer', 'lot money', 'lot people', 'lot research', 'lot sugar', 'lot tea', 'lot time', 'lots', 'loud', 'louisiana', 'lousy', 'love', 'love amazon', 'love brand', 'love brownies', 'love buy', 'love cereal', 'love chips', 'love chocolate', 'love coconut', 'love coffee', 'love convenience', 'love cookies', 'love crackers', 'love dark', 'love dog', 'love drink', 'love eat', 'love em', 'love even', 'love everything', 'love fact', 'love first', 'love flavor', 'love flavors', 'love food', 'love get', 'love good', 'love great', 'love green', 'love greenies', 'love hate', 'love hot', 'love keurig', 'love like', 'love little', 'love love', 'love made', 'love make', 'love mix', 'love much', 'love not', 'love one', 'love organic', 'love pasta', 'love peanut', 'love pop', 'love popchips', 'love popcorn', 'love price', 'love product', 'love really', 'love salt', 'love sauce', 'love seasoning', 'love snack', 'love stuff', 'love sweet', 'love taste', 'love tea', 'love texture', 'love things', 'love treat', 'love treats', 'love use', 'love using', 'love way', 'love well', 'loved', 'loved food', 'loved much', 'loved not', 'loved one', 'loved product', 'loved taste', 'loved treats', 'lovely', 'lover', 'lover not', 'lovers', 'loves', 'loves also', 'loves coffee', 'loves easy', 'loves eat', 'loves food', 'loves great', 'loves greenies', 'loves much', 'loves no', 'loves not', 'loves product', 'loves stuff', 'loves taste', 'loves things', 'loves treat', 'loves treats', 'loving', 'low', 'low acid', 'low acidity', 'low cal', 'low calorie', 'low calories', 'low carb', 'low fat', 'low glycemic', 'low price', 'low quality', 'low sodium', 'low sugar', 'lower', 'lower fat', 'lower price', 'lower quality', 'lowest', 'lowest price', 'lowrey', 'loyal', 'luck', 'luckily', 'lucky', 'lucy', 'lucy cookies', 'lumps', 'lunch', 'lunches', 'lung', 'lungo', 'luxury', 'lying', 'mac', 'mac cheese', 'macadamia', 'macadamia nuts', 'macaroni', 'macaroni cheese', 'machine', 'machines', 'mad', 'made', 'made china', 'made chocolate', 'made dog', 'made feel', 'made good', 'made great', 'made home', 'made juice', 'made milk', 'made mistake', 'made natural', 'made not', 'made one', 'made organic', 'made pancakes', 'made real', 'made sick', 'made sure', 'made us', 'made usa', 'made waffles', 'madhava', 'magazine', 'magic', 'magnesium', 'mahogany', 'mail', 'mail order', 'mailed', 'main', 'main ingredient', 'main ingredients', 'main reason', 'mainly', 'mainstream', 'maintain', 'maintaining', 'maintains', 'maintenance', 'major', 'majority', 'make', 'make baby', 'make best', 'make big', 'make biscuits', 'make chocolate', 'make coffee', 'make cup', 'make delicious', 'make difference', 'make dog', 'make easy', 'make feel', 'make food', 'make fun', 'make good', 'make great', 'make home', 'make homemade', 'make hot', 'make iced', 'make large', 'make last', 'make little', 'make lot', 'make mistake', 'make much', 'make nice', 'make not', 'make one', 'make pancakes', 'make peanut', 'make perfect', 'make pot', 'make product', 'make really', 'make sick', 'make strong', 'make sure', 'make switch', 'make taste', 'make tea', 'make two', 'make vanilla', 'maker', 'makers', 'makes', 'makes best', 'makes delicious', 'makes difference', 'makes easier', 'makes easy', 'makes even', 'makes excellent', 'makes feel', 'makes good', 'makes great', 'makes happy', 'makes nice', 'makes perfect', 'makes really', 'makes sense', 'makes taste', 'makes think', 'makes want', 'makes wonderful', 'making', 'maldon', 'male', 'malt', 'maltese', 'maltodextrin', 'malty', 'mama', 'man', 'manage', 'managed', 'manager', 'managing', 'mango', 'manner', 'manufacture', 'manufactured', 'manufacturer', 'manufacturers', 'manufactures', 'manufacturing', 'many', 'many brands', 'many calories', 'many cups', 'many different', 'many flavors', 'many foods', 'many gluten', 'many good', 'many many', 'many others', 'many people', 'many products', 'many recipes', 'many reviews', 'many things', 'many times', 'many treats', 'many types', 'many uses', 'many varieties', 'many ways', 'many years', 'maple', 'maple flavor', 'maple syrup', 'march', 'marinade', 'marinades', 'mark', 'marked', 'market', 'market not', 'marketed', 'marketing', 'markets', 'marks', 'marshmallow', 'marshmallows', 'mart', 'marvelous', 'marzano', 'marzipan', 'mash', 'mashed', 'mask', 'mass', 'massive', 'master', 'mastiff', 'mat', 'match', 'matcha', 'mate', 'material', 'materials', 'math', 'matter', 'matter much', 'matters', 'mature', 'maui', 'max', 'maximum', 'maxwell', 'maxwell house', 'may', 'may contain', 'may even', 'may find', 'may like', 'may need', 'may not', 'may seem', 'may take', 'may vary', 'may want', 'maybe', 'maybe even', 'maybe got', 'maybe little', 'maybe not', 'maybe would', 'mayo', 'mayonnaise', 'mberry', 'mccann', 'mccormick', 'mcdougall', 'meal', 'meal not', 'meal replacement', 'meals', 'mean', 'mean not', 'meaning', 'means', 'means not', 'meant', 'measure', 'measured', 'measurements', 'measuring', 'meat', 'meat chicken', 'meat no', 'meat not', 'meat products', 'meatballs', 'meats', 'meaty', 'medical', 'medication', 'medications', 'medicinal', 'medicine', 'mediocre', 'medium', 'medium blend', 'medium dark', 'medium roast', 'medium sized', 'meds', 'meet', 'meeting', 'meets', 'melamine', 'melitta', 'melitta cafe', 'melitta coffee', 'mellow', 'melt', 'melt mouth', 'melted', 'melted butter', 'melting', 'melts', 'member', 'members', 'membership', 'memories', 'memory', 'men', 'menadione', 'mention', 'mentioned', 'menu', 'meow', 'merchant', 'merely', 'merrick', 'mesh', 'mess', 'message', 'messy', 'met', 'metabolism', 'metal', 'metallic', 'method', 'methods', 'mexican', 'mexico', 'meyenberg', 'mg', 'mg sodium', 'mic', 'micro', 'microphone', 'microwavable', 'microwave', 'microwave minutes', 'microwave popcorn', 'microwave pork', 'microwave seconds', 'microwaveable', 'microwaved', 'microwaving', 'mics', 'mid', 'mid day', 'middle', 'midnight', 'midwest', 'might', 'might add', 'might better', 'might get', 'might good', 'might like', 'might little', 'might make', 'might not', 'might want', 'might well', 'mighty', 'mild', 'mild flavor', 'mild not', 'mild taste', 'milder', 'mildly', 'mile', 'mileage', 'miles', 'miles away', 'milk', 'milk add', 'milk bone', 'milk bones', 'milk chocolate', 'milk cream', 'milk hot', 'milk little', 'milk make', 'milk not', 'milk powder', 'milk soy', 'milk sugar', 'milky', 'mill', 'million', 'mills', 'min', 'mind', 'mine', 'mine not', 'mineral', 'minerals', 'mini', 'miniature', 'minimal', 'minimum', 'minor', 'mins', 'mint', 'mint chocolate', 'mints', 'minty', 'minus', 'minute', 'minutes', 'minutes later', 'minutes not', 'miracle', 'miracle gro', 'miserable', 'misleading', 'miso', 'miss', 'missed', 'missing', 'mist', 'mistake', 'mix', 'mix add', 'mix also', 'mix best', 'mix easy', 'mix ever', 'mix far', 'mix found', 'mix good', 'mix great', 'mix made', 'mix make', 'mix makes', 'mix not', 'mix one', 'mix tastes', 'mix tried', 'mix use', 'mix water', 'mix well', 'mix would', 'mixed', 'mixed breed', 'mixed water', 'mixer', 'mixes', 'mixes well', 'mixing', 'mixture', 'ml', 'mmm', 'mo', 'mobility', 'mocha', 'model', 'moderate', 'moderately', 'moderation', 'modern', 'modified', 'moist', 'moist chewy', 'moisture', 'molasses', 'mold', 'moldy', 'mom', 'moment', 'moments', 'mommy', 'moms', 'monday', 'money', 'money back', 'money buy', 'money buying', 'money not', 'money would', 'mono', 'monster', 'month', 'month ago', 'month old', 'monthly', 'months', 'months ago', 'months later', 'months not', 'months old', 'mood', 'moon', 'morning', 'morning breakfast', 'morning coffee', 'morning cup', 'morning not', 'mornings', 'morsel', 'morsels', 'moss', 'mostly', 'mother', 'mother day', 'mother law', 'motivated', 'mounds', 'mountain', 'mountain breakfast', 'mountain coffee', 'mountain nantucket', 'mouth', 'mouth feel', 'mouth not', 'mouth watering', 'mouthfeel', 'mouthful', 'mouths', 'move', 'moved', 'movement', 'movements', 'movie', 'movies', 'moving', 'mr', 'mr coffee', 'mrs', 'ms', 'msg', 'much', 'much better', 'much caffeine', 'much cheaper', 'much coffee', 'much convenient', 'much difference', 'much easier', 'much else', 'much expensive', 'much flavor', 'much fun', 'much good', 'much healthier', 'much higher', 'much larger', 'much less', 'much like', 'much longer', 'much love', 'much lower', 'much money', 'much much', 'much not', 'much one', 'much ordered', 'much prefer', 'much product', 'much salt', 'much say', 'much smaller', 'much sugar', 'much taste', 'much tea', 'much time', 'much use', 'much water', 'much would', 'muffin', 'muffin mix', 'muffins', 'mug', 'mugs', 'multi', 'multiple', 'multiple times', 'munch', 'munchies', 'munching', 'muscle', 'mush', 'mushroom', 'mushrooms', 'mushy', 'must', 'must admit', 'must buy', 'must good', 'must say', 'must try', 'mustard', 'mutt', 'mysterious', 'mystery', 'nabisco', 'namaste', 'name', 'name brand', 'name brands', 'name not', 'named', 'names', 'nana', 'nantucket', 'nantucket blend', 'nasty', 'nasty aftertaste', 'national', 'natural', 'natural artificial', 'natural balance', 'natural flavor', 'natural flavors', 'natural food', 'natural fruit', 'natural ingredients', 'natural juice', 'natural no', 'natural not', 'natural organic', 'natural peanut', 'natural product', 'natural products', 'natural sugar', 'natural sweetness', 'naturally', 'naturals', 'nature', 'nausea', 'navitas', 'near', 'near future', 'nearby', 'nearly', 'nearly every', 'neat', 'neatly', 'necessarily', 'necessary', 'necessity', 'neck', 'nectar', 'need', 'need add', 'need buy', 'need get', 'need go', 'need little', 'need make', 'need much', 'need not', 'need quick', 'need something', 'need try', 'need use', 'needed', 'needed something', 'needing', 'needle', 'needless', 'needless say', 'needs', 'negative', 'negative reviews', 'neighbor', 'neighborhood', 'neighbors', 'neither', 'nephew', 'nerve', 'nervous', 'ness', 'nestle', 'net', 'never', 'never able', 'never bitter', 'never buy', 'never disappointed', 'never drink', 'never ever', 'never find', 'never found', 'never get', 'never go', 'never got', 'never heard', 'never know', 'never let', 'never made', 'never problem', 'never really', 'never run', 'never seen', 'never tasted', 'never thought', 'never tried', 'never use', 'never used', 'never want', 'never without', 'nevertheless', 'new', 'new brand', 'new coffee', 'new england', 'new favorite', 'new flavor', 'new flavors', 'new food', 'new foods', 'new formula', 'new keurig', 'new product', 'new tea', 'new things', 'new treat', 'new year', 'new york', 'new zealand', 'newman', 'newman brand', 'newman dog', 'newman extra', 'newman organic', 'newman organics', 'newman products', 'newman special', 'newman treats', 'newmans', 'news', 'next', 'next best', 'next day', 'next morning', 'next order', 'next shipment', 'next time', 'nibble', 'nice', 'nice able', 'nice alternative', 'nice aroma', 'nice bold', 'nice change', 'nice coffee', 'nice crunch', 'nice cup', 'nice find', 'nice flavor', 'nice fresh', 'nice get', 'nice know', 'nice light', 'nice little', 'nice mild', 'nice not', 'nice product', 'nice rich', 'nice size', 'nice smooth', 'nice strong', 'nice sweet', 'nice texture', 'nice thing', 'nice touch', 'nice treat', 'nicely', 'nicely packaged', 'nicer', 'niece', 'night', 'nights', 'nine', 'no', 'no added', 'no additives', 'no aftertaste', 'no artificial', 'no avail', 'no bad', 'no better', 'no big', 'no bitter', 'no bitterness', 'no brainer', 'no caffeine', 'no calories', 'no carbs', 'no cholesterol', 'no coffee', 'no comparison', 'no complaints', 'no corn', 'no damage', 'no digestive', 'no doubt', 'no exception', 'no fat', 'no fillers', 'no flavor', 'no gluten', 'no good', 'no high', 'no idea', 'no interest', 'no issues', 'no longer', 'no luck', 'no matter', 'no meat', 'no mess', 'no msg', 'no nasty', 'no need', 'no not', 'no one', 'no preservatives', 'no problem', 'no problems', 'no products', 'no real', 'no reason', 'no salt', 'no shipping', 'no sugar', 'no taste', 'no tax', 'no thanks', 'no time', 'no trans', 'no trouble', 'no waste', 'no way', 'no weird', 'no wheat', 'no worries', 'nobody', 'noise', 'non', 'non dairy', 'non fat', 'non gf', 'non gluten', 'non gmo', 'non organic', 'none', 'nonetheless', 'nong', 'nong shim', 'noodle', 'noodles', 'noodles not', 'nope', 'nor', 'normal', 'normally', 'normally drink', 'normally not', 'north', 'northern', 'nose', 'noses', 'not', 'not able', 'not accept', 'not acidic', 'not actually', 'not add', 'not added', 'not afford', 'not afraid', 'not agree', 'not allergic', 'not allow', 'not allowed', 'not also', 'not always', 'not amazon', 'not anymore', 'not anything', 'not appealing', 'not artificial', 'not ask', 'not available', 'not bad', 'not beat', 'not believe', 'not best', 'not better', 'not big', 'not bitter', 'not blame', 'not bold', 'not bother', 'not bought', 'not break', 'not burn', 'not buy', 'not buying', 'not call', 'not care', 'not careful', 'not carry', 'not case', 'not cause', 'not change', 'not cheap', 'not chew', 'not chocolate', 'not coffee', 'not come', 'not comment', 'not compare', 'not complain', 'not completely', 'not consider', 'not contain', 'not cook', 'not cooked', 'not cost', 'not crazy', 'not creamy', 'not crunchy', 'not dark', 'not delicious', 'not detect', 'not digest', 'not disappoint', 'not disappointed', 'not dissolve', 'not dog', 'not done', 'not drink', 'not dry', 'not easily', 'not easy', 'not eat', 'not eaten', 'not eating', 'not enjoy', 'not enough', 'not even', 'not ever', 'not everyone', 'not exactly', 'not expect', 'not expected', 'not expecting', 'not expensive', 'not experienced', 'not extra', 'not fall', 'not fan', 'not fault', 'not favorite', 'not feed', 'not feel', 'not figure', 'not fill', 'not find', 'not finish', 'not first', 'not fit', 'not flavor', 'not follow', 'not fond', 'not food', 'not forget', 'not found', 'not fresh', 'not fried', 'not full', 'not get', 'not getting', 'not give', 'not given', 'not giving', 'not gluten', 'not go', 'not going', 'not good', 'not greasy', 'not great', 'not handle', 'not happen', 'not happier', 'not happy', 'not hard', 'not healthy', 'not heavy', 'not help', 'not hesitate', 'not high', 'not hold', 'not hot', 'not huge', 'not hurt', 'not imagine', 'not impressed', 'not interested', 'not issue', 'not keep', 'not kidding', 'not kind', 'not know', 'not knowing', 'not large', 'not last', 'not least', 'not leave', 'not let', 'not light', 'not like', 'not liking', 'not little', 'not live', 'not loaded', 'not long', 'not look', 'not looking', 'not lot', 'not love', 'not low', 'not made', 'not make', 'not many', 'not matter', 'not mean', 'not melt', 'not mention', 'not mind', 'not miss', 'not mix', 'not much', 'not nasty', 'not nearly', 'not necessarily', 'not need', 'not normally', 'not not', 'not notice', 'not often', 'not one', 'not open', 'not opened', 'not order', 'not ordered', 'not ordering', 'not organic', 'not overly', 'not overpower', 'not overpowering', 'not overwhelming', 'not particularly', 'not pass', 'not pay', 'not paying', 'not perfect', 'not picky', 'not plan', 'not pleasant', 'not pleased', 'not pop', 'not price', 'not problem', 'not problems', 'not processed', 'not product', 'not purchase', 'not purchased', 'not purchasing', 'not put', 'not quite', 'not read', 'not ready', 'not real', 'not realize', 'not really', 'not receive', 'not received', 'not recommend', 'not recommended', 'not regret', 'not regular', 'not remember', 'not require', 'not resist', 'not return', 'not returnable', 'not rich', 'not right', 'not run', 'not salty', 'not say', 'not saying', 'not see', 'not seem', 'not seen', 'not sell', 'not share', 'not show', 'not single', 'not sit', 'not small', 'not smell', 'not smooth', 'not soft', 'not sold', 'not something', 'not sorry', 'not speak', 'not spicy', 'not stand', 'not stay', 'not stick', 'not stock', 'not stop', 'not store', 'not strong', 'not sugar', 'not super', 'not sure', 'not sweet', 'not take', 'not taste', 'not tasted', 'not tasty', 'not tea', 'not tell', 'not terribly', 'not thick', 'not thing', 'not think', 'not thrilled', 'not time', 'not tolerate', 'not totally', 'not touch', 'not tried', 'not true', 'not trust', 'not try', 'not turn', 'not typical', 'not understand', 'not upset', 'not use', 'not used', 'not using', 'not usually', 'not wait', 'not want', 'not waste', 'not watery', 'not weak', 'not well', 'not whole', 'not willing', 'not without', 'not work', 'not worried', 'not worry', 'not worth', 'not would', 'not yet', 'notch', 'note', 'note not', 'noted', 'notes', 'nothing', 'nothing better', 'nothing else', 'nothing like', 'nothing worked', 'nothing wrong', 'notice', 'notice difference', 'noticeable', 'noticeably', 'noticed', 'noticed difference', 'noticed not', 'noticing', 'notified', 'novelty', 'november', 'nowhere', 'nuggets', 'nuke', 'number', 'number one', 'numbers', 'numerous', 'numi', 'nursing', 'nustevia', 'nut', 'nutella', 'nutiva', 'nutmeg', 'nutrient', 'nutrients', 'nutrition', 'nutrition facts', 'nutritional', 'nutritional information', 'nutritional value', 'nutritionally', 'nutritious', 'nuts', 'nuts not', 'nutty', 'nutty flavor', 'ny', 'nyc', 'nylon', 'oak', 'oat', 'oat chocolate', 'oatmeal', 'oatmeal cookies', 'oatmeal not', 'oats', 'oberto', 'observed', 'obtain', 'obvious', 'obviously', 'obviously not', 'occasion', 'occasional', 'occasionally', 'occasions', 'occupied', 'occurred', 'ocean', 'october', 'odd', 'odd taste', 'oddly', 'odor', 'offensive', 'offer', 'offered', 'offered amazon', 'offering', 'offerings', 'offers', 'office', 'often', 'often find', 'often not', 'oh', 'oh good', 'oh gosh', 'oh well', 'oh yeah', 'oil', 'oil not', 'oil organic', 'oil preserved', 'oil use', 'oils', 'oily', 'ok', 'ok not', 'okay', 'okay not', 'ol', 'old', 'old cat', 'old daughter', 'old dog', 'old fashioned', 'old food', 'old formula', 'old german', 'old lab', 'old loves', 'old not', 'old puppy', 'old son', 'older', 'older dog', 'older dogs', 'oldest', 'olds', 'ole', 'olive', 'olive oil', 'olive oils', 'olives', 'omaha', 'omega', 'omega fatty', 'omg', 'one', 'one actually', 'one also', 'one bag', 'one best', 'one better', 'one big', 'one bit', 'one bite', 'one bottle', 'one bought', 'one box', 'one cat', 'one cats', 'one could', 'one cup', 'one day', 'one delicious', 'one dog', 'one dogs', 'one drink', 'one easy', 'one eat', 'one ever', 'one every', 'one family', 'one far', 'one favorite', 'one favorites', 'one first', 'one flavor', 'one flavors', 'one food', 'one found', 'one friends', 'one get', 'one gets', 'one go', 'one good', 'one great', 'one greenie', 'one half', 'one ingredient', 'one ingredients', 'one large', 'one last', 'one less', 'one like', 'one little', 'one love', 'one loves', 'one make', 'one many', 'one minute', 'one morning', 'one much', 'one must', 'one nice', 'one night', 'one no', 'one not', 'one one', 'one order', 'one ounce', 'one pack', 'one package', 'one packet', 'one per', 'one perfect', 'one person', 'one piece', 'one pound', 'one problem', 'one products', 'one really', 'one reviewer', 'one right', 'one seems', 'one serving', 'one sitting', 'one small', 'one star', 'one tablespoon', 'one taste', 'one tastes', 'one tea', 'one thing', 'one things', 'one three', 'one time', 'one top', 'one treat', 'one treats', 'one tried', 'one try', 'one two', 'one use', 'one way', 'one week', 'one works', 'one would', 'one year', 'ones', 'ones get', 'ones not', 'ones tried', 'onion', 'onion garlic', 'onions', 'online', 'online not', 'onto', 'oolong', 'oolong tea', 'op', 'open', 'open bag', 'open not', 'open package', 'opened', 'opened bag', 'opened box', 'opened first', 'opened one', 'opened package', 'opener', 'opening', 'opening bag', 'opening package', 'opinion', 'opinion best', 'opinion not', 'opportunity', 'opposed', 'opposite', 'oprah', 'opted', 'optimal', 'option', 'options', 'orange', 'orange acerola', 'orange drink', 'orange flavor', 'orange juice', 'orange soda', 'orange tangerine', 'orange taste', 'oranges', 'orangina', 'order', 'order amazon', 'order another', 'order arrived', 'order came', 'order case', 'order future', 'order get', 'order line', 'order not', 'order one', 'order online', 'order product', 'order soon', 'order time', 'ordered', 'ordered amazon', 'ordered another', 'ordered bags', 'ordered boxes', 'ordered case', 'ordered cases', 'ordered coffee', 'ordered item', 'ordered not', 'ordered one', 'ordered pack', 'ordered product', 'ordered several', 'ordered three', 'ordered two', 'ordering', 'ordering amazon', 'ordering another', 'ordering product', 'ordering soon', 'orders', 'ordinary', 'oregon', 'oreo', 'oreos', 'organic', 'organic agave', 'organic apples', 'organic baby', 'organic barley', 'organic brown', 'organic carrots', 'organic coffee', 'organic dog', 'organic fair', 'organic food', 'organic foods', 'organic green', 'organic ingredients', 'organic lamb', 'organic molasses', 'organic natural', 'organic no', 'organic not', 'organic palm', 'organic product', 'organic products', 'organic tea', 'organic treats', 'organics', 'organics lamb', 'organs', 'oriental', 'origin', 'original', 'original flavor', 'originally', 'originally bought', 'originally found', 'originals', 'oro', 'orville', 'orzo', 'oskri', 'others', 'others like', 'others not', 'others said', 'others tried', 'otherwise', 'otherwise would', 'ounce', 'ounce bags', 'ounces', 'ounces water', 'outdoor', 'outer', 'outrageous', 'outside', 'outstanding', 'oven', 'overall', 'overall good', 'overall great', 'overall taste', 'overall would', 'overly', 'overly strong', 'overly sweet', 'overnight', 'overpower', 'overpowered', 'overpowering', 'overpowers', 'overpriced', 'overseas', 'overweight', 'overwhelmed', 'overwhelming', 'owned', 'owner', 'owners', 'oz', 'oz bag', 'oz bags', 'oz bottle', 'oz cans', 'oz cup', 'oz package', 'oz size', 'oz water', 'pa', 'pace', 'pack', 'pack amazon', 'pack good', 'pack great', 'pack not', 'pack would', 'package', 'package arrived', 'package came', 'package great', 'package not', 'package says', 'packaged', 'packaged well', 'packages', 'packaging', 'packaging good', 'packaging great', 'packaging not', 'packaging shipping', 'packed', 'packed well', 'packet', 'packets', 'packing', 'packs', 'page', 'paid', 'paid shipping', 'pain', 'painful', 'pains', 'paint', 'pair', 'paired', 'palatable', 'palate', 'palates', 'pale', 'paleo', 'pallet', 'palm', 'palm oil', 'pamela', 'pamela products', 'pan', 'pancake', 'pancake mix', 'pancake syrup', 'pancake waffle', 'pancakes', 'pancakes not', 'pancakes waffles', 'panda', 'panel', 'pantry', 'paper', 'paprika', 'par', 'parent', 'parents', 'paris', 'park', 'parmesan', 'parsley', 'part', 'partial', 'partially', 'partially hydrogenated', 'particular', 'particular brand', 'particular flavor', 'particularly', 'particularly like', 'parties', 'parts', 'party', 'pass', 'passed', 'passes', 'passing', 'passion', 'past', 'past year', 'past years', 'pasta', 'pasta not', 'pastas', 'paste', 'pastry', 'pasty', 'pat', 'pate', 'path', 'patience', 'patient', 'patties', 'paul', 'paul newman', 'paws', 'pay', 'pay attention', 'pay shipping', 'paying', 'pb', 'pc', 'pea', 'peace', 'peace mind', 'peach', 'peaches', 'peanut', 'peanut butter', 'peanut flavor', 'peanut oil', 'peanuts', 'peanuts ever', 'pear', 'pearl', 'pearls', 'peas', 'pecan', 'pecans', 'peel', 'peet', 'peets', 'pellets', 'penny', 'people', 'people food', 'people know', 'people like', 'people love', 'people not', 'people say', 'people think', 'people would', 'pep', 'pepper', 'peppered', 'peppermint', 'peppermint flavor', 'pepperoni', 'peppers', 'peppery', 'pepsi', 'per', 'per bag', 'per bar', 'per box', 'per cup', 'per day', 'per month', 'per ounce', 'per oz', 'per package', 'per pound', 'per serving', 'percent', 'percentage', 'perfect', 'perfect amount', 'perfect balance', 'perfect blend', 'perfect coffee', 'perfect condition', 'perfect cup', 'perfect not', 'perfect size', 'perfect snack', 'perfect use', 'perfect way', 'perfection', 'perfectly', 'perform', 'performance', 'perhaps', 'period', 'period time', 'periods', 'permanent', 'person', 'personal', 'personal favorite', 'personal preference', 'personal taste', 'personal thing', 'personally', 'personally like', 'personally not', 'pesticides', 'pet', 'pet food', 'pet foods', 'pet owners', 'pet store', 'pet stores', 'pet supply', 'petals', 'petco', 'peterson', 'petite', 'petite cuisine', 'pets', 'petsmart', 'pg', 'pg tips', 'phantom', 'phantom power', 'phenomenal', 'phone', 'phosphate', 'photo', 'physical', 'pick', 'pick one', 'picked', 'picking', 'pickle', 'pickled', 'picks', 'picky', 'picky comes', 'picky eater', 'picky eaters', 'picky food', 'picky treats', 'picture', 'pictured', 'pictures', 'pie', 'piece', 'pieces', 'pieces not', 'pies', 'pig', 'pile', 'pill', 'pill pocket', 'pill pockets', 'pills', 'pina', 'pinch', 'pineapple', 'pineapple juice', 'pink', 'pit', 'pitcher', 'pizza', 'pizza crust', 'pizza dough', 'pizza sauce', 'pizzas', 'pkg', 'place', 'place buy', 'placed', 'placed order', 'places', 'placing', 'plain', 'plain old', 'plain water', 'plan', 'plan order', 'plan use', 'planet', 'planning', 'plans', 'plant', 'plantation', 'planted', 'plants', 'plaque', 'plastic', 'plastic bag', 'plastic bottles', 'plastic container', 'plastic wrap', 'plate', 'play', 'played', 'playing', 'plays', 'pleasant', 'pleasant flavor', 'pleasant surprise', 'pleasant taste', 'pleasantly', 'pleasantly surprised', 'please', 'please not', 'pleased', 'pleased find', 'pleased product', 'pleased purchase', 'pleased see', 'pleasing', 'pleasure', 'plenty', 'ploy', 'plug', 'plug play', 'plum', 'plump', 'plus', 'plus not', 'plus shipping', 'pm', 'po', 'pocket', 'pockets', 'pocky', 'pod', 'pods', 'point', 'point not', 'pointed', 'points', 'poison', 'poisoning', 'policy', 'pom', 'pomegranate', 'pomeranian', 'poo', 'pooch', 'poodle', 'poop', 'poor', 'poor packaging', 'poor quality', 'poorly', 'pop', 'pop chips', 'pop corn', 'pop microwave', 'pop top', 'popchips', 'popcorn', 'popcorn not', 'popcorn popper', 'popped', 'popped corn', 'popper', 'popping', 'pops', 'popular', 'porch', 'pork', 'pork chops', 'pork rind', 'pork rinds', 'portability', 'portable', 'portion', 'portion control', 'portion size', 'portions', 'positive', 'positive reviews', 'positively', 'possibility', 'possible', 'possibly', 'post', 'postage', 'posted', 'posting', 'posts', 'pot', 'pot coffee', 'pot pie', 'potassium', 'potato', 'potato bread', 'potato chip', 'potato chips', 'potato salad', 'potato starch', 'potatoes', 'potent', 'potential', 'potentially', 'pots', 'potting', 'potting soil', 'pouch', 'pouches', 'pouches easy', 'poultry', 'pound', 'pound bag', 'pound bags', 'pounds', 'pour', 'poured', 'pouring', 'powder', 'powder form', 'powder not', 'powdered', 'powdered goat', 'powdered milk', 'powdered peanut', 'powdered sugar', 'powders', 'powdery', 'power', 'powered', 'powerful', 'powering', 'practical', 'practically', 'practice', 'practices', 'pre', 'pre ground', 'pre packaged', 'prefer', 'prefer taste', 'preference', 'preferences', 'preferred', 'prefers', 'pregnant', 'premium', 'premium edge', 'prep', 'prepackaged', 'preparation', 'prepare', 'prepared', 'preparing', 'prescribed', 'prescription', 'presence', 'present', 'presentation', 'presented', 'preservative', 'preservatives', 'preservatives no', 'preserve', 'preserved', 'preserved mixed', 'preserves', 'press', 'pressed', 'pressure', 'pretty', 'pretty bad', 'pretty close', 'pretty darn', 'pretty decent', 'pretty expensive', 'pretty fast', 'pretty good', 'pretty hard', 'pretty healthy', 'pretty high', 'pretty much', 'pretty quickly', 'pretty sure', 'pretty tasty', 'pretty well', 'pretzel', 'pretzels', 'prevent', 'preventing', 'prevents', 'previous', 'previous review', 'previous reviewer', 'previously', 'price', 'price also', 'price amazon', 'price around', 'price best', 'price better', 'price bit', 'price buy', 'price buying', 'price compared', 'price could', 'price difference', 'price especially', 'price even', 'price excellent', 'price find', 'price found', 'price free', 'price get', 'price good', 'price got', 'price great', 'price high', 'price increase', 'price item', 'price less', 'price like', 'price little', 'price local', 'price love', 'price much', 'price no', 'price not', 'price one', 'price paid', 'price pay', 'price per', 'price point', 'price product', 'price quality', 'price really', 'price reasonable', 'price right', 'price shipping', 'price subscribe', 'price tag', 'price though', 'price well', 'price wise', 'price would', 'priced', 'prices', 'prices amazon', 'pricey', 'pricey not', 'pricey worth', 'pricier', 'pricing', 'pricy', 'primarily', 'primary', 'prime', 'prime membership', 'prime shipping', 'prince', 'print', 'printed', 'prior', 'pro', 'pro treat', 'probably', 'probably best', 'probably buy', 'probably good', 'probably not', 'probably order', 'probably would', 'problem', 'problem not', 'problems', 'problems not', 'process', 'processed', 'processing', 'processor', 'produce', 'produced', 'producer', 'produces', 'producing', 'product', 'product actually', 'product also', 'product always', 'product amazon', 'product anyone', 'product arrived', 'product available', 'product best', 'product better', 'product bought', 'product buy', 'product came', 'product china', 'product comes', 'product contains', 'product could', 'product definitely', 'product delicious', 'product delivered', 'product description', 'product dog', 'product dogs', 'product easy', 'product even', 'product exactly', 'product excellent', 'product far', 'product first', 'product found', 'product fresh', 'product get', 'product good', 'product got', 'product great', 'product happy', 'product healthy', 'product highly', 'product however', 'product last', 'product like', 'product line', 'product local', 'product looking', 'product love', 'product made', 'product make', 'product makes', 'product many', 'product much', 'product no', 'product not', 'product one', 'product online', 'product order', 'product ordered', 'product perfect', 'product price', 'product product', 'product purchased', 'product really', 'product received', 'product review', 'product seller', 'product several', 'product shipped', 'product since', 'product stars', 'product sure', 'product taste', 'product tastes', 'product though', 'product time', 'product tried', 'product try', 'product use', 'product used', 'product well', 'product wish', 'product wonderful', 'product worked', 'product works', 'product would', 'product year', 'product years', 'production', 'products', 'products also', 'products company', 'products found', 'products great', 'products like', 'products made', 'products not', 'products one', 'products since', 'products tried', 'products would', 'professional', 'profile', 'profit', 'profits', 'program', 'project', 'promise', 'promised', 'promises', 'promote', 'promotes', 'prompt', 'promptly', 'prone', 'pronounce', 'pronounced', 'proof', 'proper', 'properly', 'properties', 'proportion', 'pros', 'protect', 'protein', 'protein fiber', 'protein grams', 'protein low', 'protein not', 'protein powder', 'protein shake', 'protein shakes', 'proteins', 'proud', 'proved', 'proven', 'provide', 'provided', 'provides', 'providing', 'ps', 'public', 'published', 'puck', 'puck coffee', 'pudding', 'puff', 'puffed', 'puffs', 'puffy', 'pug', 'pull', 'pulled', 'pulling', 'pulp', 'pump', 'pumpkin', 'pumpkin pie', 'pumpkin seeds', 'pun', 'pun intended', 'punch', 'pungent', 'pup', 'puppies', 'puppy', 'puppy loves', 'pups', 'purchase', 'purchase amazon', 'purchase item', 'purchase not', 'purchase price', 'purchase product', 'purchased', 'purchased amazon', 'purchased item', 'purchased keurig', 'purchased local', 'purchased pack', 'purchased product', 'purchased several', 'purchased two', 'purchases', 'purchasing', 'purchasing product', 'pure', 'pure maple', 'puree', 'purina', 'purina one', 'purple', 'purpose', 'purposes', 'purse', 'push', 'pushed', 'pushing', 'put', 'put back', 'put bag', 'put everything', 'put food', 'put freezer', 'put front', 'put little', 'put mouth', 'put one', 'put product', 'put two', 'puts', 'putting', 'quaker', 'qualify', 'qualities', 'quality', 'quality coffee', 'quality control', 'quality dog', 'quality flavor', 'quality food', 'quality good', 'quality great', 'quality ingredients', 'quality not', 'quality price', 'quality product', 'quality products', 'quality taste', 'quality tea', 'quantities', 'quantity', 'quart', 'quarter', 'quarters', 'quarts', 'quench', 'quench thirst', 'quest', 'question', 'questions', 'quick', 'quick delivery', 'quick easy', 'quick fix', 'quick meal', 'quick snack', 'quicker', 'quickly', 'quickly became', 'quickly not', 'quiet', 'quinoa', 'quit', 'quite', 'quite bit', 'quite expensive', 'quite good', 'quite nice', 'quite often', 'quite pleased', 'quite tasty', 'quite time', 'quite well', 'quote', 'rabbit', 'rack', 'rain', 'rainforest', 'raise', 'raised', 'raisin', 'raising', 'raisins', 'ramen', 'ran', 'ranch', 'ranch style', 'rancid', 'random', 'range', 'ranks', 'rapid', 'rapidly', 'rare', 'rarely', 'raspberries', 'raspberry', 'raspberry strawberry', 'rate', 'rated', 'rates', 'rather', 'rating', 'ratings', 'ratio', 'rave', 'rave reviews', 'raved', 'raving', 'ravioli', 'raw', 'raw sugar', 'rawhide', 'rawhides', 'ray', 'rda', 'reach', 'reached', 'reaching', 'react', 'reaction', 'reactions', 'read', 'read ingredients', 'read label', 'read labels', 'read many', 'read review', 'read reviews', 'readily', 'readily available', 'reading', 'reading reviews', 'ready', 'ready eat', 'ready go', 'ready made', 'real', 'real chocolate', 'real coffee', 'real deal', 'real food', 'real fruit', 'real good', 'real maple', 'real peanut', 'real stuff', 'real sugar', 'real thing', 'real treat', 'reality', 'realize', 'realize not', 'realized', 'realizing', 'really', 'really appreciate', 'really bad', 'really best', 'really big', 'really care', 'really delicious', 'really easy', 'really enjoy', 'really enjoyed', 'really enjoys', 'really fast', 'really feel', 'really fresh', 'really fun', 'really get', 'really glad', 'really good', 'really great', 'really happy', 'really hard', 'really healthy', 'really help', 'really helped', 'really helps', 'really high', 'really impressed', 'really like', 'really liked', 'really likes', 'really love', 'really loved', 'really loves', 'really made', 'really make', 'really makes', 'really need', 'really nice', 'really no', 'really not', 'really really', 'really strong', 'really surprised', 'really taste', 'really tastes', 'really tasty', 'really think', 'really want', 'really wanted', 'really well', 'really wish', 'really work', 'really works', 'really yummy', 'reason', 'reason gave', 'reason not', 'reasonable', 'reasonable price', 'reasonably', 'reasonably priced', 'reasons', 'recall', 'recalled', 'recalls', 'reccomend', 'reccommend', 'receipt', 'receive', 'received', 'received gift', 'received item', 'received keurig', 'received not', 'received one', 'received order', 'received package', 'received product', 'received quickly', 'receiving', 'recent', 'recently', 'recently bought', 'recently found', 'recently purchased', 'recently started', 'recently tried', 'recieved', 'recipe', 'recipe calls', 'recipes', 'recipes call', 'recipient', 'recognize', 'recomend', 'recommend', 'recommend anyone', 'recommend brand', 'recommend buy', 'recommend buying', 'recommend coffee', 'recommend dog', 'recommend everyone', 'recommend food', 'recommend friends', 'recommend giving', 'recommend highly', 'recommend like', 'recommend mix', 'recommend not', 'recommend one', 'recommend others', 'recommend product', 'recommend purchasing', 'recommend seller', 'recommend tea', 'recommend try', 'recommend trying', 'recommendation', 'recommendations', 'recommended', 'recommended daily', 'recommending', 'recommends', 'reconstitute', 'reconstitute juice', 'reconstituted', 'record', 'recording', 'recovery', 'rectangular', 'recyclable', 'recycle', 'recycled', 'red', 'red bull', 'red mill', 'red pepper', 'red snapper', 'red wine', 'reduce', 'reduced', 'reduced fat', 'reducing', 'reduction', 'reese', 'refer', 'reference', 'refill', 'refills', 'refined', 'refined sugar', 'reflux', 'refreshed', 'refreshing', 'refreshing drink', 'refrigerate', 'refrigerated', 'refrigeration', 'refrigerator', 'refund', 'refunded', 'refuse', 'refused', 'refused eat', 'refuses', 'regard', 'regarding', 'regardless', 'regret', 'regular', 'regular basis', 'regular bisquick', 'regular brownies', 'regular chips', 'regular chocolate', 'regular coffee', 'regular cookie', 'regular cup', 'regular food', 'regular grocery', 'regular pasta', 'regular pb', 'regular peanut', 'regular potato', 'regular price', 'regular soda', 'regular sugar', 'regular wheat', 'regularly', 'regulate', 'rejected', 'related', 'relative', 'relatively', 'relatively low', 'relax', 'relaxed', 'relaxing', 'release', 'released', 'reliable', 'relief', 'relieve', 'relieved', 'relish', 'reluctant', 'rely', 'remain', 'remainder', 'remained', 'remaining', 'remains', 'remarkable', 'remedy', 'remember', 'remembered', 'remind', 'reminded', 'reminding', 'reminds', 'reminiscent', 'remove', 'removed', 'removing', 'reorder', 'reordered', 'reordering', 'rep', 'repeat', 'repeatedly', 'replace', 'replaced', 'replacement', 'replacing', 'replied', 'reply', 'report', 'reported', 'reports', 'reputation', 'request', 'requested', 'require', 'required', 'requirement', 'requirements', 'requires', 'rescue', 'rescued', 'reseal', 'resealable', 'resealable bag', 'research', 'research found', 'researched', 'researching', 'resemble', 'reserve', 'reservoir', 'residue', 'resist', 'resolved', 'resort', 'responded', 'response', 'responsible', 'rest', 'rest family', 'restaurant', 'restaurants', 'restricted', 'restrictions', 'result', 'resulted', 'resulting', 'results', 'retail', 'retail stores', 'retailer', 'retailers', 'retriever', 'return', 'return item', 'returnable', 'returned', 'returning', 'returns', 'reusable', 'reuse', 'review', 'review not', 'review product', 'reviewed', 'reviewer', 'reviewer mentioned', 'reviewer said', 'reviewers', 'reviewers said', 'reviewing', 'reviews', 'reviews amazon', 'reviews decided', 'reviews not', 'reviews product', 'reviews read', 'reviews said', 'reviews say', 'reviews thought', 'reviews would', 'revolution', 'reward', 'rewarding', 'rewards', 'ribs', 'rica', 'rice', 'rice cakes', 'rice crackers', 'rice flour', 'rice milk', 'rice noodles', 'rice not', 'rice pasta', 'rice syrup', 'rich', 'rich bold', 'rich chocolate', 'rich coffee', 'rich creamy', 'rich dark', 'rich flavor', 'rich full', 'rich not', 'rich smooth', 'rich taste', 'richer', 'richness', 'rid', 'ride', 'rides', 'ridiculous', 'ridiculously', 'right', 'right amount', 'right away', 'right door', 'right flavor', 'right front', 'right no', 'right not', 'right size', 'right time', 'right would', 'rind', 'rinds', 'rinds not', 'rinse', 'rinsed', 'rinsing', 'rip', 'ripe', 'ripped', 'rise', 'rishi', 'rishi earl', 'risk', 'risotto', 'ritual', 'ritz', 'river', 'riviera', 'riviera sunset', 'road', 'roast', 'roast blend', 'roast coffee', 'roast not', 'roasted', 'roasting', 'roasts', 'robust', 'robust flavor', 'rock', 'rocks', 'rodeo', 'rodeo drive', 'roland', 'role', 'roll', 'rolled', 'rolling', 'rolls', 'roof', 'rooibos', 'room', 'room temperature', 'root', 'root beer', 'roots', 'rope', 'rose', 'rosemary', 'roses', 'rotate', 'rotation', 'rotten', 'rough', 'roughly', 'round', 'rounded', 'route', 'routine', 'row', 'royal', 'royal canin', 'royal oak', 'rub', 'rubber', 'rubbery', 'ruin', 'ruined', 'rule', 'rules', 'rum', 'run', 'run hot', 'running', 'runny', 'runs', 'rural', 'rush', 'russell', 'russian', 'rye', 'sacrifice', 'sad', 'sadly', 'safe', 'safely', 'safer', 'safety', 'safeway', 'safflower', 'safflower oil', 'said', 'said best', 'said could', 'said good', 'said not', 'said would', 'sake', 'salad', 'salad dressing', 'salad dressings', 'salads', 'sale', 'sales', 'salmon', 'salsa', 'salsas', 'salt', 'salt content', 'salt free', 'salt good', 'salt not', 'salt pepper', 'salt sugar', 'salt taste', 'salt vinegar', 'salted', 'saltine', 'saltiness', 'salts', 'salty', 'salty taste', 'sam', 'sam club', 'sample', 'sample pack', 'sampled', 'sampler', 'sampler pack', 'samples', 'sampling', 'san', 'san diego', 'san marzano', 'sand', 'sandwich', 'sandwiches', 'sardine', 'sardines', 'sat', 'satisfaction', 'satisfied', 'satisfied product', 'satisfies', 'satisfy', 'satisfy craving', 'satisfy sweet', 'satisfying', 'saturated', 'saturated fat', 'saturday', 'sauce', 'sauce ever', 'sauce good', 'sauce great', 'sauce not', 'sauce use', 'sauces', 'sausage', 'sausages', 'saute', 'sauteed', 'save', 'save lot', 'save money', 'save option', 'save price', 'save program', 'save shipping', 'save time', 'saved', 'saver', 'saver shipping', 'saves', 'saves money', 'saving', 'saving money', 'savings', 'savor', 'savory', 'saw', 'saw product', 'say', 'say best', 'say dog', 'say enough', 'say good', 'say great', 'say least', 'say like', 'say love', 'say much', 'say no', 'say not', 'say one', 'say product', 'say really', 'say two', 'say would', 'saying', 'says', 'says not', 'scale', 'scare', 'scared', 'scarf', 'scarfed', 'scary', 'scent', 'schedule', 'scheduled', 'schnauzer', 'school', 'science', 'science diet', 'scientific', 'scissors', 'scoop', 'scoops', 'score', 'scored', 'scout', 'scrambled', 'scrambled eggs', 'scrape', 'scraps', 'scratch', 'scratching', 'screw', 'sea', 'sea salt', 'seafood', 'seal', 'sealed', 'seals', 'search', 'searched', 'searching', 'season', 'seasonal', 'seasoned', 'seasoning', 'seasonings', 'seasons', 'seat', 'seattle', 'seaweed', 'second', 'second box', 'second cup', 'second ingredient', 'second one', 'second order', 'second time', 'secondly', 'seconds', 'secret', 'section', 'secure', 'securely', 'see', 'see amazon', 'see available', 'see could', 'see difference', 'see get', 'see like', 'see product', 'see reviews', 'see would', 'seed', 'seeds', 'seeds great', 'seeds not', 'seeing', 'seek', 'seeking', 'seem', 'seem enjoy', 'seem find', 'seem good', 'seem help', 'seem like', 'seem little', 'seem love', 'seem really', 'seemed', 'seemed bit', 'seemed like', 'seemingly', 'seems', 'seems best', 'seems bit', 'seems enjoy', 'seems good', 'seems help', 'seems like', 'seems little', 'seems love', 'seems work', 'seen', 'sees', 'seldom', 'select', 'selected', 'selection', 'selections', 'self', 'sell', 'seller', 'sellers', 'selling', 'sells', 'seltzer', 'semi', 'semi sweet', 'send', 'sending', 'senior', 'senior dogs', 'sensation', 'sense', 'senseo', 'senseo coffee', 'senseo pods', 'senses', 'sensitive', 'sensitive stomach', 'sensitivities', 'sensitivity', 'sent', 'separate', 'separated', 'separately', 'september', 'serendipity', 'series', 'serious', 'seriously', 'serve', 'served', 'serves', 'service', 'service amazon', 'service excellent', 'serving', 'serving size', 'servings', 'servings per', 'sesame', 'sesame chicken', 'sesame seeds', 'session', 'set', 'sets', 'setting', 'settings', 'settle', 'settled', 'settling', 'seven', 'several', 'several brands', 'several cups', 'several days', 'several different', 'several flavors', 'several hours', 'several months', 'several others', 'several reviews', 'several times', 'several varieties', 'several weeks', 'several years', 'severe', 'severely', 'shade', 'shake', 'shake bag', 'shaker', 'shakes', 'shaking', 'shall', 'shame', 'shape', 'shaped', 'shaped like', 'shapes', 'share', 'share friends', 'shared', 'sharing', 'sharp', 'shed', 'shedding', 'sheen', 'sheet', 'sheets', 'shelf', 'shelf life', 'shelf stable', 'shell', 'shells', 'shelter', 'sheltie', 'shelves', 'shepard', 'shepherd', 'shih', 'shih tzu', 'shim', 'shine', 'shiny', 'ship', 'shipment', 'shipment arrived', 'shipments', 'shipped', 'shipped quickly', 'shipper', 'shipping', 'shipping amazon', 'shipping box', 'shipping charges', 'shipping cost', 'shipping costs', 'shipping fast', 'shipping free', 'shipping great', 'shipping handling', 'shipping not', 'shipping price', 'shipping would', 'ships', 'shirataki', 'shock', 'shocked', 'shop', 'shop around', 'shopped', 'shopping', 'shops', 'short', 'short time', 'shortbread', 'shortly', 'shot', 'shots', 'show', 'showed', 'shower', 'showing', 'shown', 'shows', 'shredded', 'shrimp', 'shut', 'siberian', 'sick', 'sickly', 'sickly sweet', 'side', 'side dish', 'side effects', 'side not', 'side note', 'side side', 'sides', 'sight', 'sign', 'signature', 'signed', 'significant', 'significantly', 'signs', 'silk', 'silken', 'silky', 'silly', 'silver', 'similac', 'similar', 'similar product', 'similar taste', 'similarly', 'simmer', 'simple', 'simply', 'simply best', 'simply not', 'since', 'since bought', 'since discovered', 'since dogs', 'since first', 'since found', 'since going', 'since got', 'since like', 'since little', 'since love', 'since no', 'since not', 'since one', 'since started', 'since switched', 'since switching', 'since using', 'sincerely', 'single', 'single cup', 'single one', 'single serve', 'single serving', 'sink', 'sinus', 'sip', 'sipping', 'sips', 'sister', 'sisters', 'sit', 'sit minutes', 'site', 'sites', 'sits', 'sitting', 'situation', 'six', 'six boxes', 'six months', 'six pack', 'size', 'size bag', 'size cup', 'size dog', 'size good', 'size great', 'size not', 'size one', 'size perfect', 'size pieces', 'size price', 'size small', 'sized', 'sizes', 'skeptical', 'skillet', 'skim', 'skim milk', 'skin', 'skin allergies', 'skinny', 'skins', 'skip', 'skippy', 'sky', 'sleep', 'sleeping', 'slice', 'sliced', 'slices', 'slide', 'slight', 'slightest', 'slightly', 'slightly better', 'slightly bitter', 'slightly different', 'slightly less', 'slightly not', 'slightly spicy', 'slightly sweet', 'slim', 'slimy', 'slip', 'slow', 'slowly', 'small', 'small amount', 'small amounts', 'small bag', 'small bags', 'small batches', 'small bits', 'small bottle', 'small box', 'small cans', 'small cup', 'small dog', 'small dogs', 'small enough', 'small oz', 'small packages', 'small piece', 'small pieces', 'small size', 'smaller', 'smaller dog', 'smaller dogs', 'smaller pieces', 'smaller size', 'smallest', 'smallish', 'smart', 'smashed', 'smell', 'smell bad', 'smell good', 'smell like', 'smell not', 'smell taste', 'smelled', 'smelled like', 'smelling', 'smells', 'smells better', 'smells good', 'smells great', 'smells like', 'smells tastes', 'smells wonderful', 'smelly', 'smile', 'smoke', 'smoke point', 'smoked', 'smokehouse', 'smokey', 'smoky', 'smoky flavor', 'smooth', 'smooth coffee', 'smooth creamy', 'smooth cup', 'smooth delicious', 'smooth flavor', 'smooth flavorful', 'smooth full', 'smooth no', 'smooth not', 'smooth rich', 'smooth taste', 'smoother', 'smoothest', 'smoothie', 'smoothies', 'smoothly', 'smoothness', 'snack', 'snack food', 'snack foods', 'snack great', 'snack not', 'snacking', 'snacks', 'snacks great', 'snacks not', 'snap', 'snapper', 'snappy', 'sniff', 'sniffed', 'sniffing', 'snob', 'snow', 'soak', 'soaked', 'soaking', 'soap', 'society', 'soda', 'soda drinker', 'soda juice', 'soda not', 'soda pop', 'soda water', 'soda would', 'sodas', 'sodium', 'sodium content', 'soft', 'soft chewy', 'soft drink', 'soft drinks', 'soft not', 'soften', 'softer', 'software', 'soggy', 'soil', 'sold', 'sold amazon', 'sold stores', 'sole', 'solely', 'solid', 'solids', 'solution', 'solve', 'solved', 'somebody', 'somehow', 'someone', 'someone else', 'someone not', 'something', 'something better', 'something could', 'something different', 'something else', 'something good', 'something healthy', 'something like', 'something new', 'something not', 'something really', 'something similar', 'something sweet', 'something tastes', 'something would', 'something wrong', 'sometime', 'sometimes', 'sometimes add', 'sometimes get', 'sometimes not', 'somewhat', 'somewhere', 'son', 'son loves', 'son not', 'sons', 'soo', 'soon', 'soon opened', 'sooner', 'sooo', 'sooo good', 'soooo', 'soooo good', 'sooooo', 'soothing', 'sophisticated', 'sore', 'sorry', 'sorry not', 'sort', 'sort like', 'sorts', 'soul', 'sound', 'sounded', 'sounds', 'sounds like', 'soup', 'soups', 'soups stews', 'soupy', 'sour', 'sour cream', 'sour taste', 'source', 'source fiber', 'source protein', 'source vitamin', 'sourced', 'sources', 'south', 'southern', 'soy', 'soy free', 'soy lecithin', 'soy milk', 'soy sauce', 'soybean', 'space', 'spaghetti', 'spaghetti sauce', 'spaniel', 'spanish', 'spare', 'sparingly', 'sparkling', 'sparkling water', 'speak', 'speaking', 'spearmint', 'special', 'special blend', 'special occasions', 'special treat', 'special treats', 'specialty', 'specific', 'specifically', 'spectrum', 'speed', 'speedy', 'spend', 'spend money', 'spending', 'spent', 'spice', 'spiced', 'spices', 'spiciness', 'spicy', 'spicy chicken', 'spicy flavor', 'spicy food', 'spicy not', 'spicy thai', 'spike', 'spilled', 'spinach', 'spit', 'spits', 'splash', 'splenda', 'split', 'splurge', 'spoil', 'spoiled', 'spoke', 'sponge', 'spoon', 'spoonful', 'spoonfuls', 'spoons', 'sports', 'spot', 'spots', 'spotted', 'spotted dick', 'spray', 'sprayed', 'spread', 'spreading', 'spreads', 'spring', 'spring water', 'springs', 'sprinkle', 'sprinkled', 'sprinkles', 'sprinkling', 'sprout', 'sprouted', 'sprouting', 'sprouts', 'square', 'square hot', 'squares', 'squash', 'squeeze', 'squeezed', 'squirt', 'stable', 'stack', 'staff', 'stage', 'stages', 'stain', 'stains', 'stairs', 'stale', 'stale not', 'stand', 'standard', 'standard poodle', 'standards', 'standing', 'stands', 'staple', 'star', 'star rating', 'star review', 'star reviews', 'starbuck', 'starbucks', 'starbucks coffee', 'starbucks not', 'starch', 'stars', 'stars instead', 'stars not', 'stars would', 'start', 'start day', 'start saying', 'started', 'started buying', 'started drinking', 'started eating', 'started feeding', 'started getting', 'started giving', 'started looking', 'started making', 'started using', 'starter', 'starting', 'starts', 'starving', 'stash', 'state', 'stated', 'statement', 'states', 'stating', 'station', 'stay', 'stay away', 'stay fresh', 'stayed', 'staying', 'stays', 'stays fresh', 'steady', 'steak', 'steaks', 'steal', 'steam', 'steamed', 'steel', 'steel cut', 'steep', 'steeped', 'steeping', 'stems', 'step', 'stephen', 'steps', 'stevia', 'stew', 'stews', 'stick', 'stick teeth', 'stick together', 'sticking', 'sticks', 'sticky', 'sticky rice', 'stiff', 'still', 'still buy', 'still eat', 'still enjoy', 'still favorite', 'still get', 'still good', 'still great', 'still like', 'still little', 'still looking', 'still love', 'still nice', 'still not', 'still pretty', 'still quite', 'still sugar', 'still taste', 'still tasted', 'still tastes', 'still tasty', 'still use', 'still would', 'stink', 'stinks', 'stinky', 'stir', 'stir fry', 'stirred', 'stirring', 'stock', 'stock not', 'stocked', 'stocking', 'stocking stuffers', 'stomach', 'stomach issues', 'stomach problems', 'stomach upset', 'stomachs', 'stone', 'stonewall', 'stonewall kitchen', 'stood', 'stool', 'stools', 'stop', 'stop eating', 'stopped', 'stopped carrying', 'stopped making', 'stopped selling', 'stopping', 'stops', 'storage', 'storage drawer', 'store', 'store area', 'store bought', 'store brand', 'store brands', 'store buy', 'store could', 'store first', 'store found', 'store get', 'store good', 'store love', 'store much', 'store no', 'store not', 'store one', 'store price', 'store prices', 'store shelves', 'store stopped', 'store would', 'stored', 'stores', 'stores area', 'stores around', 'stores carry', 'stores happy', 'stores live', 'stores not', 'stores would', 'stories', 'storing', 'story', 'story short', 'stove', 'straight', 'strainer', 'strange', 'straw', 'strawberries', 'strawberry', 'strawberry flavor', 'strawberry juice', 'strawberry kiwi', 'stray', 'street', 'strength', 'stress', 'stretch', 'strict', 'string', 'strip', 'strips', 'strong', 'strong bitter', 'strong coffee', 'strong cup', 'strong dark', 'strong enough', 'strong flavor', 'strong flavorful', 'strong full', 'strong not', 'strong smell', 'strong taste', 'strong tea', 'strong weak', 'stronger', 'stronger flavor', 'strongest', 'strongly', 'strongly recommend', 'struggle', 'struggled', 'stuck', 'student', 'students', 'studies', 'study', 'stuff', 'stuff actually', 'stuff amazing', 'stuff good', 'stuff great', 'stuff like', 'stuff no', 'stuff not', 'stuff really', 'stuff tastes', 'stuff would', 'stuffed', 'stuffers', 'stuffing', 'stumbled', 'stumbled across', 'stumbled upon', 'stupid', 'sturdy', 'style', 'style dog', 'styrofoam', 'sub', 'subject', 'subjective', 'subscribe', 'subscribe save', 'subscribed', 'subscribing', 'subscription', 'subscription service', 'subsequently', 'substance', 'substantial', 'substitute', 'substituted', 'substitutes', 'substituting', 'substitution', 'subtle', 'success', 'successful', 'successfully', 'suck', 'sucks', 'sucralose', 'sudden', 'suddenly', 'suffer', 'suffered', 'suffering', 'suffers', 'sufficient', 'sufficient reconstitute', 'sugar', 'sugar added', 'sugar artificial', 'sugar calories', 'sugar content', 'sugar cookies', 'sugar corn', 'sugar free', 'sugar grams', 'sugar high', 'sugar honey', 'sugar intake', 'sugar levels', 'sugar like', 'sugar make', 'sugar makes', 'sugar no', 'sugar not', 'sugar per', 'sugar product', 'sugar still', 'sugar substitute', 'sugar sugar', 'sugar taste', 'sugar tastes', 'sugar use', 'sugar water', 'sugared', 'sugars', 'sugarworks', 'sugary', 'suggest', 'suggest buying', 'suggest trying', 'suggested', 'suggestion', 'suggestions', 'suggests', 'suit', 'suitable', 'sumatra', 'sumatran', 'summary', 'summer', 'sun', 'sunday', 'sunflower', 'sunflower seeds', 'sunset', 'super', 'super easy', 'super fast', 'super picky', 'super saver', 'super sweet', 'superb', 'superior', 'supermarket', 'supermarkets', 'supper', 'supple', 'supplement', 'supplements', 'supplier', 'suppliers', 'supplies', 'supply', 'supply store', 'support', 'supporting', 'supports', 'suppose', 'supposed', 'supposed taste', 'supposedly', 'supreme', 'suprised', 'sure', 'sure could', 'sure enough', 'sure expect', 'sure get', 'sure good', 'sure not', 'sure one', 'sure would', 'surely', 'surface', 'surgery', 'surprise', 'surprised', 'surprised find', 'surprised good', 'surprised much', 'surprised not', 'surprised see', 'surprised taste', 'surprising', 'surprisingly', 'surprisingly good', 'sushi', 'suspect', 'swallow', 'swallowed', 'swallowing', 'swear', 'sweat', 'sweet', 'sweet also', 'sweet chili', 'sweet enough', 'sweet flavor', 'sweet like', 'sweet little', 'sweet no', 'sweet not', 'sweet potato', 'sweet potatoes', 'sweet rice', 'sweet right', 'sweet salty', 'sweet sour', 'sweet spicy', 'sweet sugar', 'sweet taste', 'sweet tasting', 'sweet tea', 'sweet tooth', 'sweet treat', 'sweet without', 'sweeten', 'sweetened', 'sweetener', 'sweeteners', 'sweetening', 'sweeter', 'sweetner', 'sweetners', 'sweetness', 'sweetness not', 'sweets', 'swiss', 'swiss miss', 'swiss water', 'switch', 'switch drinks', 'switch kiwi', 'switch not', 'switch orange', 'switched', 'switching', 'symptoms', 'synthetic', 'syrup', 'syrup no', 'syrup not', 'syrups', 'syrupy', 'system', 'systems', 'tab', 'tabasco', 'table', 'tablespoon', 'tablespoons', 'tablet', 'tablets', 'taco', 'tacos', 'tacs', 'tad', 'taffy', 'tag', 'tail', 'take', 'take advantage', 'take along', 'take away', 'take care', 'take chance', 'take long', 'take much', 'take note', 'take one', 'take time', 'take word', 'take work', 'taken', 'takes', 'takes minutes', 'taking', 'talk', 'talked', 'talking', 'tall', 'tang', 'tangerine', 'tangerine flavor', 'tangerine orange', 'tangy', 'tap', 'tap water', 'tape', 'tapioca', 'target', 'tart', 'tartar', 'tarter', 'tartness', 'tarts', 'task', 'tassimo', 'tast', 'taste', 'taste actually', 'taste almost', 'taste also', 'taste amazing', 'taste anything', 'taste aroma', 'taste awful', 'taste bad', 'taste best', 'taste better', 'taste bit', 'taste buds', 'taste chocolate', 'taste coffee', 'taste could', 'taste delicious', 'taste difference', 'taste different', 'taste drink', 'taste easy', 'taste especially', 'taste even', 'taste exactly', 'taste excellent', 'taste far', 'taste fine', 'taste first', 'taste flavor', 'taste fresh', 'taste get', 'taste goes', 'taste good', 'taste great', 'taste kiwi', 'taste like', 'taste little', 'taste looking', 'taste love', 'taste makes', 'taste mouth', 'taste much', 'taste never', 'taste nice', 'taste no', 'taste not', 'taste nothing', 'taste ok', 'taste one', 'taste orange', 'taste perfect', 'taste pretty', 'taste price', 'taste product', 'taste quality', 'taste quite', 'taste really', 'taste regular', 'taste right', 'taste similar', 'taste smell', 'taste smooth', 'taste still', 'taste strong', 'taste sweet', 'taste tea', 'taste test', 'taste texture', 'taste think', 'taste tried', 'taste use', 'taste way', 'taste well', 'taste wise', 'taste without', 'taste wonderful', 'taste would', 'tastebuds', 'tasted', 'tasted good', 'tasted great', 'tasted like', 'tasted much', 'tasted not', 'tasteful', 'tasteless', 'tastes', 'tastes best', 'tastes better', 'tastes delicious', 'tastes exactly', 'tastes fine', 'tastes good', 'tastes great', 'tastes like', 'tastes little', 'tastes much', 'tastes pretty', 'tastes really', 'tastes sweet', 'tastes wonderful', 'tastey', 'tastier', 'tastiest', 'tasting', 'tasting coffee', 'tasting cup', 'tasting good', 'tasting like', 'tasting not', 'tasting product', 'tasting tea', 'tasty', 'tasty easy', 'tasty enough', 'tasty great', 'tasty healthy', 'tasty little', 'tasty not', 'tasty product', 'tasty refreshing', 'tasty treat', 'tax', 'tazo', 'tbs', 'tbsp', 'tea', 'tea also', 'tea amazon', 'tea anyone', 'tea bag', 'tea bags', 'tea best', 'tea brew', 'tea coffee', 'tea comes', 'tea could', 'tea delicious', 'tea drink', 'tea drinker', 'tea drinkers', 'tea drinking', 'tea even', 'tea ever', 'tea every', 'tea excellent', 'tea favorite', 'tea first', 'tea flavor', 'tea found', 'tea get', 'tea good', 'tea great', 'tea green', 'tea hard', 'tea highly', 'tea hot', 'tea leaves', 'tea like', 'tea local', 'tea love', 'tea made', 'tea make', 'tea maker', 'tea makes', 'tea many', 'tea much', 'tea nice', 'tea no', 'tea not', 'tea one', 'tea perfect', 'tea powder', 'tea really', 'tea taste', 'tea tastes', 'tea tea', 'tea time', 'tea tried', 'tea try', 'tea use', 'tea used', 'tea well', 'tea without', 'tea wonderful', 'tea works', 'tea would', 'tea years', 'teabag', 'teabags', 'team', 'teapot', 'tear', 'tears', 'teas', 'teas great', 'teas not', 'teaspoon', 'teaspoons', 'teenie', 'teenie size', 'teenies', 'teens', 'teeth', 'teeth breath', 'teeth clean', 'teeth cleaned', 'teeth cleaning', 'teeth great', 'teeth gums', 'teeth look', 'teeth not', 'teething', 'tell', 'tell difference', 'tell not', 'telling', 'tells', 'temp', 'temperature', 'temptation', 'temptations', 'tempted', 'ten', 'ten years', 'tend', 'tend get', 'tend like', 'tendency', 'tender', 'tends', 'teriyaki', 'term', 'terms', 'terrible', 'terribly', 'terrier', 'terriers', 'terrific', 'test', 'tested', 'testing', 'tests', 'texas', 'texture', 'texture flavor', 'texture like', 'texture little', 'texture not', 'texture taste', 'textures', 'thai', 'thailand', 'thank', 'thank amazon', 'thank god', 'thank goodness', 'thank much', 'thankful', 'thankfully', 'thanks', 'thanks amazon', 'thanks great', 'thanks much', 'thanksgiving', 'thats', 'theater', 'theme', 'themed', 'therefore', 'thick', 'thicken', 'thicker', 'thickness', 'thier', 'thin', 'thin crisps', 'thing', 'thing could', 'thing ever', 'thing like', 'thing make', 'thing morning', 'thing not', 'thing noticed', 'thing really', 'thing say', 'thing since', 'thing would', 'things', 'things like', 'things make', 'things not', 'things taste', 'think', 'think best', 'think better', 'think could', 'think even', 'think going', 'think good', 'think great', 'think like', 'think might', 'think much', 'think not', 'think one', 'think really', 'think taste', 'think tastes', 'think worth', 'think would', 'thinking', 'thinking would', 'thinks', 'thinner', 'thins', 'third', 'thirst', 'thirsty', 'thirty', 'tho', 'thoroughly', 'thoroughly enjoyed', 'though', 'though like', 'though no', 'though not', 'though product', 'though still', 'though would', 'thought', 'thought could', 'thought getting', 'thought good', 'thought great', 'thought maybe', 'thought might', 'thought not', 'thought tasted', 'thought would', 'thoughts', 'thousand', 'three', 'three cats', 'three cups', 'three days', 'three different', 'three dogs', 'three flavors', 'three months', 'three pack', 'three times', 'three year', 'three years', 'threw', 'threw away', 'thrilled', 'thrilled find', 'thrive', 'thriving', 'throat', 'throughout', 'throughout day', 'throw', 'throw away', 'throwing', 'throwing away', 'thrown', 'thrown away', 'thru', 'thru amazon', 'thumbs', 'thus', 'thus far', 'thyme', 'tic', 'tic tacs', 'tied', 'tiger', 'tight', 'tightly', 'till', 'time', 'time ago', 'time also', 'time amazon', 'time bought', 'time buy', 'time coffee', 'time cook', 'time day', 'time dog', 'time ever', 'time favorite', 'time finding', 'time found', 'time get', 'time getting', 'time give', 'time go', 'time good', 'time got', 'time great', 'time however', 'time like', 'time little', 'time make', 'time never', 'time no', 'time not', 'time one', 'time order', 'time ordered', 'time ordering', 'time perfect', 'time product', 'time purchase', 'time put', 'time really', 'time still', 'time tasted', 'time time', 'time tried', 'time try', 'time trying', 'time use', 'time used', 'time want', 'time would', 'time write', 'timely', 'timely fashion', 'timely manner', 'times', 'times day', 'times not', 'times week', 'times would', 'timothy', 'tin', 'tins', 'tiny', 'tiny bit', 'tiny little', 'tip', 'tips', 'tire', 'tired', 'title', 'title says', 'toast', 'toasted', 'toaster', 'toaster oven', 'tocopherols', 'today', 'today not', 'toddler', 'toddlers', 'toffee', 'tofu', 'together', 'toilet', 'told', 'told would', 'tolerable', 'tolerance', 'tolerate', 'tomato', 'tomato sauce', 'tomatoes', 'tomorrow', 'ton', 'tone', 'tones', 'tongue', 'tonight', 'tons', 'took', 'took chance', 'took first', 'took one', 'took vet', 'tool', 'tooth', 'toothbrush', 'toothpaste', 'top', 'top not', 'top notch', 'top quality', 'topped', 'topping', 'toppings', 'tops', 'torani', 'tore', 'torn', 'tortilla', 'tortilla chips', 'tortillas', 'toss', 'tossed', 'tossing', 'total', 'total fat', 'totally', 'touch', 'touched', 'tough', 'tourangelle', 'toward', 'towards', 'towel', 'town', 'toxic', 'toxins', 'toy', 'toys', 'trace', 'track', 'tract', 'trade', 'trade certified', 'trader', 'trader joe', 'tradition', 'traditional', 'trail', 'trail mix', 'train', 'trained', 'trainer', 'training', 'training treat', 'training treats', 'trans', 'trans fat', 'trans fats', 'transaction', 'transfer', 'transit', 'transition', 'transport', 'trap', 'trash', 'travel', 'traveling', 'tray', 'trays', 'treat', 'treat also', 'treat dog', 'treat dogs', 'treat every', 'treat give', 'treat great', 'treat like', 'treat not', 'treat one', 'treat would', 'treated', 'treating', 'treatment', 'treats', 'treats also', 'treats best', 'treats come', 'treats dog', 'treats dogs', 'treats even', 'treats food', 'treats get', 'treats give', 'treats good', 'treats great', 'treats hard', 'treats like', 'treats little', 'treats love', 'treats loves', 'treats made', 'treats not', 'treats one', 'treats organic', 'treats perfect', 'treats really', 'treats small', 'treats smell', 'treats would', 'tree', 'trees', 'trend', 'trial', 'trial error', 'trick', 'tricks', 'tricky', 'tried', 'tried adding', 'tried almost', 'tried also', 'tried another', 'tried brand', 'tried brands', 'tried chocolate', 'tried coffee', 'tried couple', 'tried dark', 'tried different', 'tried every', 'tried everything', 'tried far', 'tried find', 'tried first', 'tried flavors', 'tried give', 'tried good', 'tried like', 'tried lot', 'tried lots', 'tried make', 'tried many', 'tried not', 'tried number', 'tried one', 'tried others', 'tried product', 'tried quite', 'tried several', 'tried tea', 'tried three', 'tried tried', 'tried two', 'tried use', 'tried using', 'tried yet', 'tries', 'trigger', 'trip', 'triple', 'tripping', 'trips', 'tropical', 'trouble', 'trouble finding', 'trout', 'truck', 'true', 'truffle', 'truffle oil', 'truffles', 'truly', 'truly delicious', 'trust', 'trusted', 'truth', 'try', 'try another', 'try buy', 'try coffee', 'try different', 'try eat', 'try find', 'try first', 'try flavors', 'try get', 'try give', 'try hooked', 'try keep', 'try like', 'try little', 'try love', 'try may', 'try mix', 'try never', 'try new', 'try not', 'try one', 'try product', 'try see', 'try since', 'try something', 'try taste', 'try well', 'trying', 'trying cut', 'trying different', 'trying eat', 'trying find', 'trying flavors', 'trying get', 'trying lose', 'trying make', 'trying new', 'trying one', 'trying several', 'tsp', 'tub', 'tube', 'tubes', 'tubs', 'tug', 'tully', 'tummies', 'tummy', 'tuna', 'tuna shrimp', 'tuna sole', 'turkey', 'turkish', 'turn', 'turn nose', 'turned', 'turned great', 'turned nose', 'turning', 'turns', 'turns nose', 'tv', 'twelve', 'twenty', 'twice', 'twice daily', 'twice day', 'twice much', 'twice price', 'twin', 'twinings', 'twins', 'twist', 'twists', 'two', 'two bags', 'two bottles', 'two boxes', 'two cans', 'two cats', 'two cups', 'two day', 'two days', 'two different', 'two dogs', 'two flavors', 'two ingredients', 'two little', 'two minutes', 'two months', 'two not', 'two packets', 'two pieces', 'two servings', 'two small', 'two stars', 'two tablespoons', 'two three', 'two time', 'two weeks', 'two year', 'two years', 'type', 'type coffee', 'types', 'types coffee', 'typical', 'typically', 'tzu', 'ugh', 'uk', 'ultimate', 'ultimately', 'ultra', 'un', 'unable', 'unable find', 'unacceptable', 'unappealing', 'unavailable', 'unbeatable', 'unbelievable', 'unbelievably', 'unbroken', 'uncle', 'undamaged', 'understand', 'undesirable', 'undrinkable', 'unexpected', 'unflavored', 'unfortunate', 'unfortunately', 'unfortunately not', 'unhappy', 'unhealthy', 'unique', 'unique flavor', 'unique taste', 'unit', 'united', 'united states', 'units', 'unknown', 'unless', 'unlike', 'unlike brands', 'unlike many', 'unnatural', 'unnecessary', 'unopened', 'unpleasant', 'unpopped', 'unsalted', 'unsure', 'unsweetened', 'unused', 'unusual', 'update', 'updated', 'upgraded', 'upon', 'upon opening', 'upper', 'ups', 'upset', 'upset stomach', 'upside', 'urge', 'urinary', 'urine', 'us', 'us not', 'usa', 'usable', 'usage', 'usb', 'usda', 'use', 'use almost', 'use amazon', 'use chicken', 'use coffee', 'use cooking', 'use cup', 'use cups', 'use date', 'use every', 'use everything', 'use food', 'use good', 'use half', 'use home', 'use keurig', 'use less', 'use like', 'use little', 'use lot', 'use love', 'use make', 'use many', 'use much', 'use not', 'use one', 'use place', 'use product', 'use real', 'use regular', 'use salt', 'use small', 'use subscribe', 'use sugar', 'use tea', 'use time', 'use training', 'use two', 'used', 'used buy', 'used drink', 'used eat', 'used eating', 'used get', 'used give', 'used great', 'used like', 'used love', 'used make', 'used not', 'used one', 'used product', 'used taste', 'used use', 'useful', 'useless', 'user', 'users', 'uses', 'using', 'using cups', 'using product', 'using regular', 'using tea', 'usps', 'usual', 'usually', 'usually add', 'usually buy', 'usually drink', 'usually eat', 'usually get', 'usually like', 'usually make', 'usually mix', 'usually not', 'usually use', 'vacation', 'vacuum', 'vacuum sealed', 'valentine', 'valentine day', 'valid', 'valley', 'valuable', 'value', 'value money', 'value not', 'values', 'van', 'vanilla', 'vanilla bean', 'vanilla beans', 'vanilla caramel', 'vanilla creamer', 'vanilla extract', 'vanilla flavor', 'vanilla flavored', 'vanilla ice', 'variation', 'variations', 'varies', 'varieties', 'variety', 'variety flavors', 'variety pack', 'variety packs', 'various', 'various brands', 'various flavors', 'vary', 'varying', 'vast', 'vegan', 'vegas', 'vegetable', 'vegetable oil', 'vegetables', 'vegetarian', 'veggie', 'veggies', 'velvety', 'vending', 'vending machine', 'vendor', 'vendors', 'venison', 'verdict', 'vermont', 'verona', 'versatile', 'version', 'version not', 'versions', 'versus', 'vet', 'vet bills', 'vet recommended', 'vet said', 'vet says', 'vet told', 'veterinarian', 'vets', 'via', 'via amazon', 'video', 'vienna', 'view', 'vine', 'vine program', 'vinegar', 'vinegar chips', 'vinegar flavor', 'virgin', 'virgin olive', 'virginia', 'virtually', 'visit', 'visited', 'visiting', 'visits', 'vita', 'vita coco', 'vitamin', 'vitamin not', 'vitamin organic', 'vitamin vitamin', 'vitamins', 'vitamins minerals', 'vodka', 'voice', 'void', 'voila', 'volume', 'vomit', 'vomited', 'vomiting', 'vs', 'wafer', 'wafers', 'waffle', 'waffle iron', 'waffle maker', 'waffle mix', 'waffles', 'waffles pancakes', 'wagging', 'wait', 'wait get', 'wait try', 'waited', 'waiting', 'waits', 'wake', 'wake morning', 'wal', 'wal mart', 'walk', 'walk away', 'walked', 'walked away', 'walking', 'walks', 'wall', 'walmart', 'walnut', 'walnut oil', 'walnuts', 'want', 'want add', 'want best', 'want buy', 'want drink', 'want eat', 'want get', 'want give', 'want go', 'want good', 'want keep', 'want know', 'want make', 'want not', 'want one', 'want quick', 'want real', 'want snack', 'want something', 'want spend', 'want take', 'want taste', 'want try', 'want use', 'wanted', 'wanted buy', 'wanted get', 'wanted give', 'wanted like', 'wanted make', 'wanted something', 'wanted try', 'wanting', 'wants', 'warehouse', 'warm', 'warm water', 'warmed', 'warming', 'warmth', 'warn', 'warned', 'warning', 'warnings', 'wary', 'wasa', 'wasabi', 'wash', 'washed', 'washing', 'waste', 'waste money', 'waste time', 'wasted', 'wasted money', 'wasteful', 'wasting', 'wasting money', 'watch', 'watched', 'watcher', 'watchers', 'watching', 'water', 'water add', 'water bottle', 'water coffee', 'water cup', 'water first', 'water let', 'water like', 'water make', 'water microwave', 'water milk', 'water no', 'water not', 'water one', 'water splash', 'water sufficient', 'water taste', 'water tea', 'water water', 'water would', 'watered', 'watering', 'watermelon', 'watermelon strawberry', 'waters', 'watery', 'wax', 'waxy', 'way', 'way around', 'way better', 'way buy', 'way cheaper', 'way could', 'way describe', 'way drink', 'way eat', 'way enjoy', 'way expensive', 'way get', 'way give', 'way go', 'way good', 'way keep', 'way like', 'way make', 'way many', 'way much', 'way not', 'way start', 'way sweet', 'way use', 'way way', 'way would', 'ways', 'weak', 'weak coffee', 'weak flavor', 'weak not', 'weaker', 'wear', 'weather', 'weaver', 'weavers', 'web', 'web site', 'website', 'website not', 'websites', 'wedding', 'wee', 'week', 'weekend', 'weekly', 'weeks', 'weeks ago', 'weeks later', 'weigh', 'weighs', 'weight', 'weight gain', 'weight loss', 'weight not', 'weight watcher', 'weight watchers', 'weird', 'weird aftertaste', 'weird taste', 'welcome', 'well', 'well also', 'well although', 'well balanced', 'well done', 'well enough', 'well get', 'well good', 'well great', 'well hot', 'well known', 'well like', 'well love', 'well made', 'well maybe', 'well no', 'well not', 'well one', 'well packaged', 'well packed', 'well priced', 'well received', 'well since', 'well taste', 'well tastes', 'well tea', 'well tried', 'well use', 'well worth', 'well would', 'well year', 'wellness', 'went', 'went away', 'went back', 'went crazy', 'went local', 'went looking', 'went online', 'west', 'west coast', 'westie', 'wet', 'wet food', 'whatever', 'whatever reason', 'whats', 'whatsoever', 'wheat', 'wheat corn', 'wheat flour', 'wheat free', 'wheat gluten', 'wheat orzo', 'wheat pasta', 'whenever', 'whenever bars', 'whenever want', 'whereas', 'wherever', 'whether', 'whether not', 'whey', 'whim', 'whip', 'whipped', 'whipped cream', 'whiskas', 'white', 'white cheddar', 'white chocolate', 'white flour', 'white meat', 'white popcorn', 'white rice', 'white sugar', 'white tea', 'white truffle', 'whites', 'whole', 'whole bag', 'whole bean', 'whole box', 'whole case', 'whole family', 'whole foods', 'whole grain', 'whole grains', 'whole lot', 'whole milk', 'whole one', 'whole thing', 'whole wheat', 'wholesale', 'wholesome', 'whose', 'wide', 'wide variety', 'widely', 'wife', 'wife likes', 'wife loves', 'wife not', 'wild', 'wild rice', 'willing', 'wilton', 'wimpy', 'win', 'win win', 'wind', 'window', 'windows', 'wine', 'wing', 'wings', 'winner', 'winning', 'winter', 'winter months', 'wintergreen', 'wire', 'wisconsin', 'wise', 'wish', 'wish amazon', 'wish available', 'wish came', 'wish could', 'wish little', 'wish not', 'wish would', 'wished', 'within', 'within days', 'within minutes', 'within two', 'within week', 'without', 'without added', 'without adding', 'without bitter', 'without bitterness', 'without calories', 'without doubt', 'without fat', 'without feeling', 'without getting', 'without guilt', 'without hesitation', 'without much', 'without sugar', 'without worry', 'wo', 'wo not', 'wolf', 'wolfgang', 'wolfgang puck', 'woman', 'women', 'wonder', 'wondered', 'wonderful', 'wonderful aroma', 'wonderful coffee', 'wonderful flavor', 'wonderful not', 'wonderful product', 'wonderful taste', 'wonderfully', 'wondering', 'wonders', 'wont', 'wood', 'wooden', 'woods', 'word', 'words', 'work', 'work day', 'work fine', 'work great', 'work not', 'work well', 'worked', 'worked great', 'worked perfectly', 'worked well', 'worker', 'workers', 'working', 'workout', 'works', 'works best', 'works better', 'works fine', 'works great', 'works perfectly', 'works well', 'works wonders', 'world', 'world not', 'worms', 'worried', 'worries', 'worry', 'worse', 'worst', 'worst tasting', 'worth', 'worth buying', 'worth cost', 'worth every', 'worth extra', 'worth money', 'worth not', 'worth price', 'worth try', 'worth trying', 'worthy', 'would', 'would able', 'would actually', 'would add', 'would also', 'would always', 'would better', 'would bought', 'would buy', 'would call', 'would certainly', 'would come', 'would consider', 'would cost', 'would definately', 'would definitely', 'would describe', 'would drink', 'would eat', 'would enjoy', 'would even', 'would ever', 'would expect', 'would feel', 'would find', 'would fine', 'would found', 'would get', 'would give', 'would given', 'would go', 'would good', 'would great', 'would happy', 'would help', 'would highly', 'would last', 'would let', 'would like', 'would liked', 'would look', 'would love', 'would make', 'would much', 'would need', 'would never', 'would nice', 'would no', 'would normally', 'would not', 'would order', 'would pay', 'would perfect', 'would pick', 'would prefer', 'would probably', 'would purchase', 'would put', 'would rate', 'would rather', 'would really', 'would recommend', 'would say', 'would see', 'would sell', 'would still', 'would suggest', 'would take', 'would taste', 'would think', 'would try', 'would use', 'would want', 'would work', 'wouldnt', 'wow', 'wrap', 'wrapped', 'wrapper', 'wrappers', 'wrapping', 'wrigley', 'write', 'write review', 'write reviews', 'writing', 'writing review', 'written', 'wrong', 'wrong not', 'wrong product', 'wrote', 'ww', 'xlr', 'xmas', 'xylitol', 'ya', 'yard', 'yay', 'yeah', 'year', 'year ago', 'year half', 'year not', 'year old', 'year round', 'years', 'years ago', 'years always', 'years back', 'years best', 'years happy', 'years love', 'years no', 'years not', 'years old', 'years since', 'years still', 'years tried', 'years used', 'yeast', 'yellow', 'yellowfin', 'yes', 'yes know', 'yesterday', 'yet', 'yet find', 'yet not', 'yet smooth', 'yet still', 'yet try', 'yield', 'yogi', 'yogi tea', 'yogurt', 'york', 'yorkie', 'young', 'younger', 'youngest', 'yr', 'yr old', 'yrs', 'yuban', 'yuck', 'yucky', 'yuk', 'yum', 'yum yum', 'yummy', 'yummy not', 'zealand', 'zealand ranch', 'zero', 'zero stars', 'zest', 'zesty', 'zing', 'zip', 'zip lock', 'ziploc', 'ziplock', 'zuke', 'zuke hip', 'zukes']\n"
     ]
    }
   ],
   "source": [
    "for i in tf_idf.inverse_transform(svd.components_[1]):\n",
    "    print(list(i))"
   ]
  },
  {
   "cell_type": "code",
   "execution_count": null,
   "metadata": {},
   "outputs": [],
   "source": []
  }
 ],
 "metadata": {
  "kernelspec": {
   "display_name": "Python 3",
   "language": "python",
   "name": "python3"
  },
  "language_info": {
   "codemirror_mode": {
    "name": "ipython",
    "version": 3
   },
   "file_extension": ".py",
   "mimetype": "text/x-python",
   "name": "python",
   "nbconvert_exporter": "python",
   "pygments_lexer": "ipython3",
   "version": "3.6.5"
  }
 },
 "nbformat": 4,
 "nbformat_minor": 2
}
